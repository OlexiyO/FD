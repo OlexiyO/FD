{
 "metadata": {
  "name": "",
  "signature": "sha256:f83c6763c6da97bd1cfe09a8038e55217f247e86fea7e3900b4aad9c5d3fc6f8"
 },
 "nbformat": 3,
 "nbformat_minor": 0,
 "worksheets": [
  {
   "cells": [
    {
     "cell_type": "code",
     "collapsed": false,
     "input": [
      "from crawl import boxscore_crawler, boxscore_parser\n",
      "from lib import expression\n",
      "from lib.plotting import *\n",
      "from analysis import load\n",
      "from analysis import fanduel_analysis\n",
      "from analysis import metrics\n",
      "from lib.misc_functions import *\n",
      "import pandas as pd\n",
      "from crawl import fanduel_parser\n",
      "from crawl import player_ids"
     ],
     "language": "python",
     "metadata": {},
     "outputs": [],
     "prompt_number": 1
    },
    {
     "cell_type": "code",
     "collapsed": false,
     "input": [
      "from lib.expression import *\n",
      "\n",
      "golden = Leaf('fantasy_pts')\n",
      "expr1 = Leaf('fantasy_pts_per_game')\n",
      "old_tempo = Leaf('team_poss_per_game')\n",
      "predicted_tempo = (Leaf('team_poss_per_game') + Leaf('other_poss_per_game')) / 2.\n",
      "tempo_mult = predicted_tempo / old_tempo\n",
      "expr2 = expr1 * tempo_mult\n",
      "\n",
      "rest_adjust = (-.3 & (Leaf('player_rest') == 1)) | 0.\n",
      "expr3 = expr1 + rest_adjust\n",
      "expr4 = expr2 + rest_adjust\n",
      "\n",
      "# Coaches trust good players more with no rest!!\n",
      "# rest_adjust_for_good = 1. & (Leaf('player_rest') == 1) & (Leaf('player_previous_minutes') > 30)\n",
      "#expr5 = expr4 + rest_adjust_for_good\n",
      "expr6 = expr4 + ((.5 & Leaf('is_home')) | 0.)\n",
      "\n",
      "home_adjust_big = (1. & (Leaf('minutes_per_game') > 25) & Leaf('is_home'))\n",
      "home_adjust_small = (.5 & Leaf('is_home'))\n",
      "expr7 = expr4 + (home_adjust_big | home_adjust_small | 0)"
     ],
     "language": "python",
     "metadata": {},
     "outputs": [],
     "prompt_number": 2
    },
    {
     "cell_type": "code",
     "collapsed": false,
     "input": [
      "reload(load)"
     ],
     "language": "python",
     "metadata": {},
     "outputs": [
      {
       "metadata": {},
       "output_type": "pyout",
       "prompt_number": 96,
       "text": [
        "<module 'analysis.load' from 'analysis\\load.py'>"
       ]
      }
     ],
     "prompt_number": 96
    },
    {
     "cell_type": "code",
     "collapsed": false,
     "input": [
      "DF_14 = load.LoadDataForSeason(2014)"
     ],
     "language": "python",
     "metadata": {},
     "outputs": [
      {
       "output_type": "stream",
       "stream": "stdout",
       "text": [
        "Loaded from disk: 2.24606402782\n",
        "Processed:"
       ]
      },
      {
       "output_type": "stream",
       "stream": "stdout",
       "text": [
        " 27.6073469871\n"
       ]
      }
     ],
     "prompt_number": 97
    },
    {
     "cell_type": "code",
     "collapsed": false,
     "input": [
      "DF_15 = load.LoadDataForSeason(2015)\n",
      "DF_15.name = 'DF_15'"
     ],
     "language": "python",
     "metadata": {},
     "outputs": [
      {
       "output_type": "stream",
       "stream": "stdout",
       "text": [
        "Loaded from disk: 0.623398466756\n",
        "Processed:"
       ]
      },
      {
       "output_type": "stream",
       "stream": "stdout",
       "text": [
        " 7.77398251229\n"
       ]
      }
     ],
     "prompt_number": 98
    },
    {
     "cell_type": "code",
     "collapsed": false,
     "input": [
      "df_train = DF_14[DF_14.date % 2 == 0]\n",
      "df_train.name = 'train14'\n",
      "df_test = DF_14[DF_14.date % 2 == 1]\n",
      "df_test.name = 'test14'\n",
      "\n",
      "big_filter = (Leaf('minutes_per_game') >= 10) & (Leaf('minutes') >= 10) & (Leaf('games_played') >= 10)"
     ],
     "language": "python",
     "metadata": {},
     "outputs": [],
     "prompt_number": 108
    },
    {
     "cell_type": "code",
     "collapsed": false,
     "input": [
      "flt = (Leaf('minutes_per_game') >= 10) & (Leaf('minutes') >= 10) & (Leaf('games_played') >= 10)"
     ],
     "language": "python",
     "metadata": {},
     "outputs": [],
     "prompt_number": 111
    },
    {
     "cell_type": "code",
     "collapsed": false,
     "input": [
      "df_train_big = df_train[~big_filter.Eval(df_train).isnull()]\n",
      "df_train_big.name = 'train14_big'\n",
      "df_test_big = df_test[~big_filter.Eval(df_test).isnull()]\n",
      "df_test_big.name = 'test14_big'\n",
      "\n",
      "df_15_big = DF_15[~big_filter.Eval(DF_15).isnull()]\n",
      "df_15_big.name = 'df15_big'"
     ],
     "language": "python",
     "metadata": {},
     "outputs": [],
     "prompt_number": 118
    },
    {
     "cell_type": "code",
     "collapsed": false,
     "input": [
      "metric = metrics.L1?"
     ],
     "language": "python",
     "metadata": {},
     "outputs": [],
     "prompt_number": 11
    },
    {
     "cell_type": "code",
     "collapsed": false,
     "input": [
      "reload(metrics)\n",
      "l1metric = metrics.L1Metric(golden)"
     ],
     "language": "python",
     "metadata": {},
     "outputs": [],
     "prompt_number": 29
    },
    {
     "cell_type": "code",
     "collapsed": false,
     "input": [
      "print l1metric.Compute(df_train, expr1)\n",
      "print l1metric.Compute(df_train_big, expr1)\n",
      "print l1metric.Compute(df_test, expr1)\n",
      "print l1metric.Compute(df_test_big, expr1)"
     ],
     "language": "python",
     "metadata": {},
     "outputs": [
      {
       "output_type": "stream",
       "stream": "stdout",
       "text": [
        "7.70796250218\n",
        "7.27084786806\n",
        "7.5445503467\n",
        "7.23381107462\n"
       ]
      }
     ],
     "prompt_number": 24
    },
    {
     "cell_type": "code",
     "collapsed": false,
     "input": [
      "print l1metric.Compute(df_train, expr2)\n",
      "print l1metric.Compute(df_train_big, expr2)\n",
      "print l1metric.Compute(df_test, expr2)\n",
      "print l1metric.Compute(df_test_big, expr2)"
     ],
     "language": "python",
     "metadata": {},
     "outputs": [
      {
       "output_type": "stream",
       "stream": "stdout",
       "text": [
        "7.55380356094\n",
        "7.26256873903\n",
        "7.50177977701\n",
        "7.22576978966\n"
       ]
      }
     ],
     "prompt_number": 25
    },
    {
     "cell_type": "code",
     "collapsed": false,
     "input": [
      "print l1metric.Compute(df_train, expr4)\n",
      "print l1metric.Compute(df_train_big, expr4)\n",
      "print l1metric.Compute(df_test, expr4)\n",
      "print l1metric.Compute(df_test_big, expr4)"
     ],
     "language": "python",
     "metadata": {},
     "outputs": [
      {
       "output_type": "stream",
       "stream": "stdout",
       "text": [
        "7.54118421723\n",
        "7.26678714454\n",
        "7.49060950204\n",
        "7.22970517622\n"
       ]
      }
     ],
     "prompt_number": 26
    },
    {
     "cell_type": "code",
     "collapsed": false,
     "input": [
      "print l1metric.Compute(df_train, expr6)\n",
      "print l1metric.Compute(df_train_big, expr6)\n",
      "print l1metric.Compute(df_test, expr6)\n",
      "print l1metric.Compute(df_test_big, expr6)"
     ],
     "language": "python",
     "metadata": {},
     "outputs": [
      {
       "output_type": "stream",
       "stream": "stdout",
       "text": [
        "7.58611960733\n",
        "7.24379556101\n",
        "7.54066076517\n",
        "7.21429374914\n"
       ]
      }
     ],
     "prompt_number": 27
    },
    {
     "cell_type": "code",
     "collapsed": false,
     "input": [
      "print l1metric.Compute(df_train, expr7)\n",
      "print l1metric.Compute(df_train_big, expr7)\n",
      "print l1metric.Compute(df_test, expr7)\n",
      "print l1metric.Compute(df_test_big, expr7)"
     ],
     "language": "python",
     "metadata": {},
     "outputs": [
      {
       "output_type": "stream",
       "stream": "stdout",
       "text": [
        "7.59509025025\n",
        "7.24645698575\n",
        "7.55211783013\n",
        "7.22090265006"
       ]
      },
      {
       "output_type": "stream",
       "stream": "stdout",
       "text": [
        "\n"
       ]
      }
     ],
     "prompt_number": 28
    },
    {
     "cell_type": "code",
     "collapsed": false,
     "input": [
      "def PrintRows(rows):\n",
      "    rows = list(rows)\n",
      "    max_wid = [max(map(len, y)) for y in zip(*rows)]\n",
      "    for r in rows:\n",
      "        print '\\t'.join('%-*s' % ((max_wid[i],) + (col, ))\n",
      "                        for i, col in enumerate(r))\n",
      "    "
     ],
     "language": "python",
     "metadata": {},
     "outputs": [],
     "prompt_number": 88
    },
    {
     "cell_type": "code",
     "collapsed": false,
     "input": [
      "def CompareOnDataSets(metric, dfs, predictions):\n",
      "    def Generate():\n",
      "        empty_row = [''] * (len(dfs) + 1)\n",
      "        yield [''] + ['%s' % df.name for df in dfs]\n",
      "        base = [metric.Compute(df, predictions[0]) for df in dfs]\n",
      "        for i, pred in enumerate(predictions):\n",
      "            vals1 = [metric.Compute(df, pred) for df in dfs]\n",
      "            yield ['%d' % (i + 1)] + ['%.2f' % v for v in vals1]\n",
      "            if i:  # Do not print deltas for the base\n",
      "                yield ['%d' % (i + 1)] + ['%+.2f' % (v1 - v0) for v0, v1 in zip(base, vals1)]\n",
      "            yield empty_row\n",
      "    PrintRows(Generate())\n"
     ],
     "language": "python",
     "metadata": {},
     "outputs": [],
     "prompt_number": 94
    },
    {
     "cell_type": "code",
     "collapsed": false,
     "input": [
      "CompareOnDataSets(l1metric, [df_train, df_train_big, df_test, df_test_big, DF_15, df_15_big],\n",
      "                  [expr1, expr4, cumulative_score])"
     ],
     "language": "python",
     "metadata": {},
     "outputs": [
      {
       "output_type": "stream",
       "stream": "stdout",
       "text": [
        " \ttrain14\ttrain14_big\ttest14\ttest14_big\tDF_15\tdf15_big\n",
        "1\t77.08  \t72.78      \t75.45 \t71.82     \t73.18\t70.42   \n",
        " \t       \t           \t      \t          \t     \t        \n",
        "2\t75.41  \t72.64      \t74.91 \t71.77     \t69.70\t70.58   \n",
        "2\t-1.67  \t-0.13      \t-0.54 \t-0.06     \t-3.48\t+0.15   \n",
        " \t       \t           \t      \t          \t     \t        \n",
        "3\t75.95  \t72.42      \t75.52 \t71.63     \t70.23\t70.43   \n",
        "3\t-1.13  \t-0.35      \t+0.08 \t-0.19     \t-2.95\t+0.01   \n",
        " \t       \t           \t      \t          \t     \t        \n"
       ]
      }
     ],
     "prompt_number": 119
    },
    {
     "cell_type": "code",
     "collapsed": false,
     "input": [
      "off_rating = Leaf('team_pts_per_game') / Leaf('team_poss_per_game')\n",
      "other_def_rating = Leaf('other_def_rating_per_game')\n",
      "def_adjust = (other_def_rating / off_rating) | 1.\n",
      "expr8 = expr1 * def_adjust\n",
      "expr9 = expr4 * def_adjust\n",
      "expr10 = expr1 * tempo_mult * def_adjust"
     ],
     "language": "python",
     "metadata": {},
     "outputs": [],
     "prompt_number": 169
    },
    {
     "cell_type": "code",
     "collapsed": false,
     "input": [
      "CompareOnDataSets(l1metric, [df_train, df_train_big, df_test, df_test_big, DF_15, df_15_big],\n",
      "                  [expr1, expr4, expr9, expr10])"
     ],
     "language": "python",
     "metadata": {},
     "outputs": [
      {
       "output_type": "stream",
       "stream": "stdout",
       "text": [
        " \ttrain14\ttrain14_big\ttest14\ttest14_big\tDF_15\tdf15_big\n",
        "1\t77.08  \t72.78      \t75.45 \t71.82     \t73.18\t70.42   \n",
        " \t       \t           \t      \t          \t     \t        \n",
        "2\t75.41  \t72.64      \t74.91 \t71.77     \t69.70\t70.58   \n",
        "2\t-1.67  \t-0.13      \t-0.54 \t-0.06     \t-3.48\t+0.15   \n",
        " \t       \t           \t      \t          \t     \t        \n",
        "3\t75.57  \t72.85      \t75.05 \t71.82     \t70.27\t71.39   \n",
        "3\t-1.51  \t+0.07      \t-0.40 \t+0.00     \t-2.91\t+0.97   \n",
        " \t       \t           \t      \t          \t     \t        \n",
        "4\t75.70  \t72.81      \t75.17 \t71.80     \t70.35\t71.34   \n",
        "4\t-1.38  \t+0.03      \t-0.28 \t-0.03     \t-2.83\t+0.92   \n",
        " \t       \t           \t      \t          \t     \t        \n"
       ]
      }
     ],
     "prompt_number": 133
    },
    {
     "cell_type": "code",
     "collapsed": false,
     "input": [
      "mpg = (Leaf('minutes_per_game') / 30.)\n",
      "(mpg & (Leaf('is_home'))).Eval(df_train)\n",
      "\n",
      "((mpg & (Leaf('is_home'))) | 0.).Eval(df_train)"
     ],
     "language": "python",
     "metadata": {},
     "outputs": [
      {
       "metadata": {},
       "output_type": "pyout",
       "prompt_number": 152,
       "text": [
        "anderal01:201310300CLE    0\n",
        "bennean01:201310300CLE    0\n",
        "blatcan01:201310300CLE    0\n",
        "bynuman01:201310300CLE    0\n",
        "clarkea01:201310300CLE    0\n",
        "dellama01:201310300CLE    0\n",
        "evansre01:201310300CLE    0\n",
        "garneke01:201310300CLE    0\n",
        "geeal01:201310300CLE      0\n",
        "irvinky01:201310300CLE    0\n",
        "jackja01:201310300CLE     0\n",
        "johnsjo02:201310300CLE    0\n",
        "livinsh01:201310300CLE    0\n",
        "lopezbr01:201310300CLE    0\n",
        "milescj01:201310300CLE    0\n",
        "...\n",
        "jamesda01:201404160SAS    0.425926\n",
        "johnswe01:201404160SAS    0.000000\n",
        "josepco01:201404160SAS    0.454959\n",
        "kamanch01:201404160SAS    0.000000\n",
        "kellyry01:201404160SAS    0.000000\n",
        "leonaka01:201404160SAS    0.973795\n",
        "marshke01:201404160SAS    0.000000\n",
        "meeksjo01:201404160SAS    0.000000\n",
        "millspa02:201404160SAS    0.630521\n",
        "nashst01:201404160SAS     0.000000\n",
        "parketo01:201404160SAS    0.985638\n",
        "pendeje02:201404160SAS    0.430810\n",
        "sacrero01:201404160SAS    0.000000\n",
        "splitti01:201404160SAS    0.715431\n",
        "youngni01:201404160SAS    0.000000\n",
        "Length: 15160"
       ]
      }
     ],
     "prompt_number": 152
    },
    {
     "cell_type": "code",
     "collapsed": false,
     "input": [
      "off_rating = Leaf('team_pts_per_game') / Leaf('team_poss_per_game')\n",
      "other_def_rating = Leaf('other_def_rating_per_game')\n",
      "def_adjust = (other_def_rating / off_rating) | 1.\n",
      "\n",
      "\n",
      "pts_metric = metrics.L1Metric(Leaf('pts'))\n",
      "pts_pg = Leaf('pts_per_game')\n",
      "pts_with_tempo = pts_pg * tempo_mult\n",
      "pts_with_def = pts_pg * def_adjust\n",
      "pts_with_all = pts_pg * tempo_mult * def_adjust\n",
      "mpg = (Leaf('minutes_per_game') / 25.)\n",
      "home_adjust = ((mpg & (Leaf('is_home'))) | 0.)\n",
      "pts_with_home = pts_with_tempo + home_adjust\n",
      "CompareOnDataSets(pts_metric, [df_train, df_train_big, df_test, df_test_big, DF_15, df_15_big],\n",
      "                  [pts_pg, pts_with_tempo, pts_with_home, pts_with_def, pts_with_all])"
     ],
     "language": "python",
     "metadata": {},
     "outputs": [
      {
       "output_type": "stream",
       "stream": "stdout",
       "text": [
        " \ttrain14\ttrain14_big\ttest14\ttest14_big\tDF_15\tdf15_big\n",
        "1\t44.85  \t46.01      \t43.86 \t45.30     \t43.80\t44.77   \n",
        " \t       \t           \t      \t          \t     \t        \n",
        "2\t44.18  \t45.97      \t43.68 \t45.28     \t42.36\t44.83   \n",
        "2\t-0.67  \t-0.05      \t-0.18 \t-0.01     \t-1.44\t+0.06   \n",
        " \t       \t           \t      \t          \t     \t        \n",
        "3\t44.98  \t46.12      \t44.52 \t45.48     \t43.16\t45.17   \n",
        "3\t+0.14  \t+0.10      \t+0.66 \t+0.18     \t-0.65\t+0.40   \n",
        " \t       \t           \t      \t          \t     \t        \n",
        "4\t44.91  \t46.09      \t43.94 \t45.37     \t44.12\t45.14   \n",
        "4\t+0.07  \t+0.07      \t+0.09 \t+0.07     \t+0.31\t+0.36   \n",
        " \t       \t           \t      \t          \t     \t        \n",
        "5\t44.25  \t46.05      \t43.78 \t45.36     \t42.65\t45.19   \n",
        "5\t-0.60  \t+0.03      \t-0.08 \t+0.06     \t-1.16\t+0.42   \n",
        " \t       \t           \t      \t          \t     \t        \n"
       ]
      }
     ],
     "prompt_number": 214
    },
    {
     "cell_type": "code",
     "collapsed": false,
     "input": [
      "fanduel_analysis.CheckVirtualFDGames(expr4, expr9, DF_14, print_per_day=False)"
     ],
     "language": "python",
     "metadata": {},
     "outputs": [
      {
       "output_type": "stream",
       "stream": "stdout",
       "text": [
        "Base: ((fantasy_pts_per_game * (((team_poss_per_game + other_poss_per_game) / 2.0) / team_poss_per_game)) + ((-0.3 & (player_rest == 1.0)) | 0.0))\n",
        "Test: (((fantasy_pts_per_game * (((team_poss_per_game + other_poss_per_game) / 2.0) / team_poss_per_game)) + ((-0.3 & (player_rest == 1.0)) | 0.0)) * (other_def_rating_per_game / (team_pts_per_game / team_poss_per_game)))\n",
        "Base\t\tTest\t\tDraw\n",
        "78\t\t70\t\t(6):\n",
        "238.1\t\t234.8\t\tmedian\n",
        "237.4\t\t231.6\t\tmean\n"
       ]
      }
     ],
     "prompt_number": 139
    },
    {
     "cell_type": "code",
     "collapsed": false,
     "input": [
      "fanduel_analysis.CheckVirtualFDGames(expr4, expr10, DF_14, print_per_day=False)"
     ],
     "language": "python",
     "metadata": {},
     "outputs": [
      {
       "output_type": "stream",
       "stream": "stdout",
       "text": [
        "Base: ((fantasy_pts_per_game * (((team_poss_per_game + other_poss_per_game) / 2.0) / team_poss_per_game)) + ((-0.3 & (player_rest == 1.0)) | 0.0))\n",
        "Test: ((fantasy_pts_per_game * (((team_poss_per_game + other_poss_per_game) / 2.0) / team_poss_per_game)) * ((other_def_rating_per_game / (team_pts_per_game / team_poss_per_game)) | 1.0))\n",
        "Base\t\tTest\t\tDraw\n",
        "45\t\t54\t\t(55):\n",
        "195.2\t\t196.3\t\tmedian\n",
        "194.4\t\t195.0\t\tmean\n"
       ]
      }
     ],
     "prompt_number": 170
    },
    {
     "cell_type": "code",
     "collapsed": false,
     "input": [
      "off_rating = Leaf('team_pts_per_game') / Leaf('team_poss_per_game')\n",
      "other_def_rating = Leaf('other_def_rating_per_game')\n",
      "def_adjust = (other_def_rating / off_rating) | 1.\n",
      "\n",
      "pts_with_opp_def = pts_pg * Leaf('other_def_rating_per_game')\n",
      "pts_with_tempo_opp_def = pts_pg * tempo_mult * Leaf('other_def_rating_per_game')\n",
      "mpg = (Leaf('minutes_per_game') / 25.)\n",
      "home_adjust = ((mpg & (Leaf('is_home'))) | 0.)\n",
      "pts_with_home = pts_with_tempo + home_adjust\n"
     ],
     "language": "python",
     "metadata": {},
     "outputs": [],
     "prompt_number": 215
    },
    {
     "cell_type": "code",
     "collapsed": false,
     "input": [
      "reload(fanduel_analysis)\n",
      "fanduel_analysis.CheckAllFDGames([pts_pg, pts_with_tempo, pts_with_opp_def, pts_with_tempo_opp_def],\n",
      "                                 DF_15, print_selections=False,\n",
      "                                 expr_real_result=Leaf('pts'))"
     ],
     "language": "python",
     "metadata": {},
     "outputs": [
      {
       "output_type": "stream",
       "stream": "stdout",
       "text": [
        "130.5\t\t124.5\t\t127.5\t\t130.0\t\tmedian\n",
        "116.2\t\t118.8\t\t116.0\t\t119.2\t\tmean\n"
       ]
      }
     ],
     "prompt_number": 232
    },
    {
     "cell_type": "code",
     "collapsed": false,
     "input": [
      "reload(fanduel_analysis)\n",
      "fanduel_analysis.CheckVirtualFDGames(pts_pg, pts_with_opp_def, DF_14, print_per_day=False,\n",
      "                                     expr_real_result=Leaf('pts'),\n",
      "                                     expr_salaries_from=Leaf('pts_per_game'))"
     ],
     "language": "python",
     "metadata": {},
     "outputs": [
      {
       "output_type": "stream",
       "stream": "stdout",
       "text": [
        "Base: pts_per_game\n",
        "Test: (pts_per_game * other_def_rating_per_game)\n",
        "Base\t\tTest\t\tDraw\n",
        "73\t\t78\t\t(3):\n",
        "120.0\t\t116.5\t\tmedian\n",
        "116.8\t\t117.2\t\tmean\n"
       ]
      }
     ],
     "prompt_number": 233
    },
    {
     "cell_type": "code",
     "collapsed": false,
     "input": [
      "fanduel_analysis.CheckVirtualFDGames(pts_pg, pts_with_tempo_opp_def, DF_14, print_per_day=False,\n",
      "                                     expr_real_result=Leaf('pts'),\n",
      "                                     expr_salaries_from=Leaf('pts_per_game'))"
     ],
     "language": "python",
     "metadata": {},
     "outputs": [
      {
       "output_type": "stream",
       "stream": "stdout",
       "text": [
        "Base: pts_per_game\n",
        "Test: ((pts_per_game * (((team_poss_per_game + other_poss_per_game) / 2.0) / team_poss_per_game)) * other_def_rating_per_game)\n",
        "Base\t\tTest\t\tDraw\n",
        "67\t\t85\t\t(2):\n",
        "120.0\t\t123.5\t\tmedian\n",
        "116.8\t\t119.8\t\tmean\n"
       ]
      }
     ],
     "prompt_number": 235
    },
    {
     "cell_type": "code",
     "collapsed": false,
     "input": [
      "fanduel_analysis.CheckVirtualFDGames(pts_pg, pts_with_tempo, DF_14, print_per_day=False,\n",
      "                                     expr_real_result=Leaf('pts'),\n",
      "                                     expr_salaries_from=Leaf('pts_per_game'))"
     ],
     "language": "python",
     "metadata": {},
     "outputs": [
      {
       "output_type": "stream",
       "stream": "stdout",
       "text": [
        "Base: pts_per_game\n",
        "Test: (pts_per_game * (((team_poss_per_game + other_poss_per_game) / 2.0) / team_poss_per_game))\n",
        "Base\t\tTest\t\tDraw\n",
        "57\t\t94\t\t(3):\n",
        "120.0\t\t124.0\t\tmedian\n",
        "116.8\t\t123.9\t\tmean\n"
       ]
      }
     ],
     "prompt_number": 236
    },
    {
     "cell_type": "code",
     "collapsed": false,
     "input": [
      "fanduel_analysis.CheckVirtualFDGames(pts_with_tempo, pts_with_tempo_opp_def, DF_14, print_per_day=False,\n",
      "                                     expr_real_result=Leaf('pts'),\n",
      "                                     expr_salaries_from=Leaf('pts_per_game'))\n",
      "                                    "
     ],
     "language": "python",
     "metadata": {},
     "outputs": [
      {
       "output_type": "stream",
       "stream": "stdout",
       "text": [
        "Base: (pts_per_game * (((team_poss_per_game + other_poss_per_game) / 2.0) / team_poss_per_game))\n",
        "Test: ((pts_per_game * (((team_poss_per_game + other_poss_per_game) / 2.0) / team_poss_per_game)) * other_def_rating_per_game)\n",
        "Base\t\tTest\t\tDraw\n",
        "79\t\t62\t\t(13):\n",
        "124.0\t\t123.5\t\tmedian\n",
        "123.9\t\t119.8\t\tmean\n"
       ]
      }
     ],
     "prompt_number": 234
    },
    {
     "cell_type": "code",
     "collapsed": false,
     "input": [
      "fanduel_analysis.CheckAllFDGames([pts_with_tempo, pts_with_tempo_opp_def],\n",
      "                                 DF_15, print_selections=False,\n",
      "                                 expr_real_result=Leaf('pts'))"
     ],
     "language": "python",
     "metadata": {},
     "outputs": [
      {
       "output_type": "stream",
       "stream": "stdout",
       "text": [
        "124.5\t\t130.0\t\tmedian\n",
        "118.8\t\t119.2\t\tmean\n"
       ]
      }
     ],
     "prompt_number": 239
    },
    {
     "cell_type": "code",
     "collapsed": false,
     "input": [
      "fanduel_analysis.CheckVirtualFDGames(pts_with_tempo, pts_with_tempo_opp_def, DF_14, print_per_day=False,\n",
      "                                     expr_real_result=Leaf('pts'),"
     ],
     "language": "python",
     "metadata": {},
     "outputs": []
    },
    {
     "cell_type": "code",
     "collapsed": false,
     "input": [
      "fanduel_analysis.CheckVirtualFDGames(pts_with_tempo, pts_with_home, DF_14, print_per_day=False,\n",
      "                                     expr_real_result=Leaf('pts'))"
     ],
     "language": "python",
     "metadata": {},
     "outputs": []
    },
    {
     "cell_type": "code",
     "collapsed": false,
     "input": [
      "fanduel_analysis.CheckVirtualFDGames(pts_with_tempo, pts_with_tempo * Leaf('other_def_rating_per_game'), DF_14, print_per_day=False,\n",
      "                                     expr_real_result=Leaf('pts'))"
     ],
     "language": "python",
     "metadata": {},
     "outputs": []
    },
    {
     "cell_type": "code",
     "collapsed": false,
     "input": [
      "fanduel_analysis.CheckVirtualFDGames(expr6, pts_with_tempo * Leaf('other_def_rating_per_game'), DF_14, print_per_day=False,\n",
      "                                     expr_real_result=Leaf('pts'))"
     ],
     "language": "python",
     "metadata": {},
     "outputs": []
    },
    {
     "cell_type": "code",
     "collapsed": false,
     "input": [
      "fanduel_analysis.CheckAllFDGames([pts_pg, pts_with_tempo, pts_with_tempo * Leaf('other_def_rating_per_game')],\n",
      "                                 DF_15, print_selections=False,\n",
      "                                 expr_real_result=Leaf('pts'))"
     ],
     "language": "python",
     "metadata": {},
     "outputs": []
    },
    {
     "cell_type": "code",
     "collapsed": false,
     "input": [
      "fanduel_analysis.CheckVirtualFDGames(pts_with_tempo, pts_with_tempo_opp_def,\n",
      "                                     df_train, print_per_day=False,\n",
      "                                     expr_real_result=Leaf('pts'))"
     ],
     "language": "python",
     "metadata": {},
     "outputs": [
      {
       "output_type": "stream",
       "stream": "stdout",
       "text": [
        "Base: (pts_per_game * (((team_poss_per_game + other_poss_per_game) / 2.0) / team_poss_per_game))\n",
        "Test: ((pts_per_game * (((team_poss_per_game + other_poss_per_game) / 2.0) / team_poss_per_game)) * other_def_rating_per_game)\n",
        "Base\t\tTest\t\tDraw\n",
        "18\t\t12\t\t(40):\n",
        "102.5\t\t102.5\t\tmedian\n",
        "101.2\t\t100.9\t\tmean\n"
       ]
      }
     ],
     "prompt_number": 221
    },
    {
     "cell_type": "code",
     "collapsed": false,
     "input": [
      "fanduel_analysis.CheckVirtualFDGames(pts_with_tempo, pts_with_tempo_opp_def,\n",
      "                                     df_test, print_per_day=False,\n",
      "                                     expr_real_result=Leaf('pts'))"
     ],
     "language": "python",
     "metadata": {},
     "outputs": [
      {
       "output_type": "stream",
       "stream": "stdout",
       "text": [
        "Base: (pts_per_game * (((team_poss_per_game + other_poss_per_game) / 2.0) / team_poss_per_game))\n",
        "Test: ((pts_per_game * (((team_poss_per_game + other_poss_per_game) / 2.0) / team_poss_per_game)) * other_def_rating_per_game)\n",
        "Base\t\tTest\t\tDraw\n",
        "14\t\t21\t\t(40):\n",
        "99.0\t\t100.0\t\tmedian\n",
        "99.1\t\t99.7\t\tmean\n"
       ]
      }
     ],
     "prompt_number": 222
    },
    {
     "cell_type": "code",
     "collapsed": false,
     "input": [
      "fpt_pg = Leaf('fantasy_pts_per_game')\n",
      "old_tempo = Leaf('team_poss_per_game')\n",
      "predicted_tempo = (Leaf('team_poss_per_game') + Leaf('other_poss_per_game')) / 2.\n",
      "tempo_mult = predicted_tempo / old_tempo\n",
      "other_def_rating = Leaf('other_def_rating_per_game')\n",
      "complex_score = fpt_pg * tempo_mult * other_def_rating\n",
      "\n",
      "fanduel_analysis.CheckVirtualFDGames(fpt_pg, complex_score,\n",
      "                                     DF_14, print_per_day=False)"
     ],
     "language": "python",
     "metadata": {},
     "outputs": [
      {
       "output_type": "stream",
       "stream": "stdout",
       "text": [
        "Base: fantasy_pts_per_game\n",
        "Test: ((fantasy_pts_per_game * (((team_poss_per_game + other_poss_per_game) / 2.0) / team_poss_per_game)) * other_def_rating_per_game)\n",
        "Base\t\tTest\t\tDraw\n",
        "38\t\t37\t\t(79):\n",
        "197.9\t\t198.1\t\tmedian\n",
        "197.3\t\t196.9\t\tmean\n"
       ]
      }
     ],
     "prompt_number": 223
    },
    {
     "cell_type": "code",
     "collapsed": false,
     "input": [
      "fanduel_analysis.CheckVirtualFDGames(fpt_pg, tempo_mult * fpt_pg,\n",
      "                                     DF_14, print_per_day=False)"
     ],
     "language": "python",
     "metadata": {},
     "outputs": [
      {
       "output_type": "stream",
       "stream": "stdout",
       "text": [
        "Base: fantasy_pts_per_game\n",
        "Test: ((((team_poss_per_game + other_poss_per_game) / 2.0) / team_poss_per_game) * fantasy_pts_per_game)\n",
        "Base\t\tTest\t\tDraw\n",
        "28\t\t23\t\t(103):\n",
        "197.9\t\t198.4\t\tmedian\n",
        "197.3\t\t197.0\t\tmean\n"
       ]
      }
     ],
     "prompt_number": 224
    },
    {
     "cell_type": "code",
     "collapsed": false,
     "input": [
      "off_stat = Leaf('pts_per_game') + 1.5 * Leaf('ast_per_game')\n",
      "off_part = off_stat * Leaf('other_def_rating_per_game') / 1.041\n",
      "other_part = 1.2 * Leaf('trb_per_game') + 2. * (Leaf('blk_per_game') + Leaf('stl_per_game'))\n",
      "other_part -= Leaf('tov_per_game')\n",
      "cumulative_score = (off_part + other_part) * tempo_mult"
     ],
     "language": "python",
     "metadata": {},
     "outputs": [],
     "prompt_number": 229
    },
    {
     "cell_type": "code",
     "collapsed": false,
     "input": [
      "fanduel_analysis.CheckVirtualFDGames(fpt_pg, cumulative_score,\n",
      "                                     DF_14, print_per_day=False)"
     ],
     "language": "python",
     "metadata": {},
     "outputs": [
      {
       "output_type": "stream",
       "stream": "stdout",
       "text": [
        "Base: fantasy_pts_per_game\n",
        "Test: (((((pts_per_game + (1.5 * ast_per_game)) * other_def_rating_per_game) / 1.041) + (((1.2 * trb_per_game) + (2.0 * (blk_per_game + stl_per_game))) - tov_per_game)) * (((team_poss_per_game + other_poss_per_game) / 2.0) / team_poss_per_game))\n",
        "Base\t\tTest\t\tDraw\n",
        "50\t\t102\t\t(2):\n",
        "222.0\t\t234.5\t\tmedian\n",
        "221.5\t\t237.1\t\tmean\n"
       ]
      }
     ],
     "prompt_number": 242
    },
    {
     "cell_type": "code",
     "collapsed": false,
     "input": [
      "reload(fanduel_analysis)\n",
      "fanduel_analysis.CheckAllFDGames([fpt_pg, cumulative_score], DF_15)"
     ],
     "language": "python",
     "metadata": {},
     "outputs": [
      {
       "output_type": "stream",
       "stream": "stdout",
       "text": [
        "0 fantasy_pts_per_game\n",
        "1 (((((pts_per_game + (1.5 * ast_per_game)) * other_def_rating_per_game) / 1.041) + (((1.2 * trb_per_game) + (2.0 * (blk_per_game + stl_per_game))) - tov_per_game)) * (((team_poss_per_game + other_poss_per_game) / 2.0) / team_poss_per_game))\n",
        "224.7\t\t228.6\t\tmedian"
       ]
      },
      {
       "output_type": "stream",
       "stream": "stdout",
       "text": [
        "\n",
        "195.7\t\t203.9\t\tmean\n"
       ]
      }
     ],
     "prompt_number": 241
    },
    {
     "cell_type": "code",
     "collapsed": false,
     "input": [
      "reload(fanduel_analysis)\n",
      "fanduel_analysis.CheckAllFDGames([Leaf('fantasy_pts_per_game') * tempo_mult,\n",
      "                                  cumulative_score], DF_15)"
     ],
     "language": "python",
     "metadata": {},
     "outputs": [
      {
       "output_type": "stream",
       "stream": "stdout",
       "text": [
        "0 (fantasy_pts_per_game * (((team_poss_per_game + other_poss_per_game) / 2.0) / team_poss_per_game))\n",
        "1 (((((pts_per_game + (1.5 * ast_per_game)) * other_def_rating_per_game) / 1.041) + (((1.2 * trb_per_game) + (2.0 * (blk_per_game + stl_per_game))) - tov_per_game)) * (((team_poss_per_game + other_poss_per_game) / 2.0) / team_poss_per_game))\n",
        "224.2\t\t228.6\t\tmedian"
       ]
      },
      {
       "output_type": "stream",
       "stream": "stdout",
       "text": [
        "\n",
        "197.2\t\t203.9\t\tmean\n"
       ]
      }
     ],
     "prompt_number": 243
    },
    {
     "cell_type": "code",
     "collapsed": false,
     "input": [
      "fanduel_analysis.CheckAllFDGames([expr6, cumulative_score], DF_15)"
     ],
     "language": "python",
     "metadata": {},
     "outputs": [
      {
       "output_type": "stream",
       "stream": "stdout",
       "text": [
        "0 (((fantasy_pts_per_game * (((team_poss_per_game + other_poss_per_game) / 2.0) / team_poss_per_game)) + ((-0.3 & (player_rest == 1.0)) | 0.0)) + ((0.5 & is_home) | 0.0))\n",
        "1 (((((pts_per_game + (1.5 * ast_per_game)) * other_def_rating_per_game) / 1.041) + (((1.2 * trb_per_game) + (2.0 * (blk_per_game + stl_per_game))) - tov_per_game)) * (((team_poss_per_game + other_poss_per_game) / 2.0) / team_poss_per_game))\n",
        "224.3\t\t228.6\t\tmedian"
       ]
      },
      {
       "output_type": "stream",
       "stream": "stdout",
       "text": [
        "\n",
        "202.6\t\t203.9\t\tmean\n"
       ]
      }
     ],
     "prompt_number": 244
    },
    {
     "cell_type": "code",
     "collapsed": false,
     "input": [
      "rest_adjust = (-.3 & (Leaf('player_rest') == 1)) | 0.\n",
      "cc1 = cumulative_score_with_home + rest_adjust\n",
      "fanduel_analysis.CheckAllFDGames([expr4, expr6, cumulative_score, cumulative_score_with_home, cc1], DF_15)"
     ],
     "language": "python",
     "metadata": {},
     "outputs": [
      {
       "output_type": "stream",
       "stream": "stdout",
       "text": [
        "1 ((fantasy_pts_per_game * (((team_poss_per_game + other_poss_per_game) / 2.0) / team_poss_per_game)) + ((-0.3 & (player_rest == 1.0)) | 0.0))\n",
        "2 (((fantasy_pts_per_game * (((team_poss_per_game + other_poss_per_game) / 2.0) / team_poss_per_game)) + ((-0.3 & (player_rest == 1.0)) | 0.0)) + ((0.5 & is_home) | 0.0))\n",
        "3 (((((pts_per_game + (1.5 * ast_per_game)) * other_def_rating_per_game) / 1.041) + (((1.2 * trb_per_game) + (2.0 * (blk_per_game + stl_per_game))) - tov_per_game)) * (((team_poss_per_game + other_poss_per_game) / 2.0) / team_poss_per_game))\n",
        "4 ((((((pts_per_game + (1.5 * ast_per_game)) * other_def_rating_per_game) / 1.041) + (((1.2 * trb_per_game) + (2.0 * (blk_per_game + stl_per_game))) - tov_per_game)) * (((team_poss_per_game + other_poss_per_game) / 2.0) / team_poss_per_game)) + ((0.5 & is_home) | 0.0))\n",
        "5 (((((((pts_per_game + (1.5 * ast_per_game)) * other_def_rating_per_game) / 1.041) + (((1.2 * trb_per_game) + (2.0 * (blk_per_game + stl_per_game))) - tov_per_game)) * (((team_poss_per_game + other_poss_per_game) / 2.0) / team_poss_per_game)) + ((0.5 & is_home) | 0.0)) + ((-0.3 & (player_rest == 1.0)) | 0.0))\n",
        "224.2\t\t224.3\t\t228.6\t\t224.1\t\t235.7\t\tmedian"
       ]
      },
      {
       "output_type": "stream",
       "stream": "stdout",
       "text": [
        "\n",
        "197.0\t\t202.6\t\t203.9\t\t207.4\t\t206.2\t\tmean\n",
        " \t1         \t2         \t3         \t4         \t5         \n",
        "1\t    XXX   \t2 : 6 (12)\t6 : 9 (5) \t4 : 11 (5)\t5 : 11 (4)\n",
        "2\t6 : 2 (12)\t    XXX   \t9 : 8 (3) \t7 : 9 (4) \t6 : 11 (3)\n",
        "3\t9 : 6 (5) \t8 : 9 (3) \t    XXX   \t2 : 7 (11)\t3 : 6 (11)\n",
        "4\t11 : 4 (5)\t9 : 7 (4) \t7 : 2 (11)\t    XXX   \t2 : 2 (16)\n",
        "5\t11 : 5 (4)\t11 : 6 (3)\t6 : 3 (11)\t2 : 2 (16)\t    XXX   \n"
       ]
      }
     ],
     "prompt_number": 259
    },
    {
     "cell_type": "code",
     "collapsed": false,
     "input": [
      "cumulative_score_with_home = cumulative_score + ((.5 & Leaf('is_home')) | 0.)"
     ],
     "language": "python",
     "metadata": {},
     "outputs": [],
     "prompt_number": 257
    },
    {
     "cell_type": "code",
     "collapsed": false,
     "input": [
      "fanduel_analysis.CheckVirtualFDGames(expr6, cumulative_score,\n",
      "                                     DF_14, print_per_day=False)"
     ],
     "language": "python",
     "metadata": {},
     "outputs": [
      {
       "output_type": "stream",
       "stream": "stdout",
       "text": [
        "Base: (((fantasy_pts_per_game * (((team_poss_per_game + other_poss_per_game) / 2.0) / team_poss_per_game)) + ((-0.3 & (player_rest == 1.0)) | 0.0)) + ((0.5 & is_home) | 0.0))\n",
        "Test: (((((pts_per_game + (1.5 * ast_per_game)) * other_def_rating_per_game) / 1.041) + (((1.2 * trb_per_game) + (2.0 * (blk_per_game + stl_per_game))) - tov_per_game)) * (((team_poss_per_game + other_poss_per_game) / 2.0) / team_poss_per_game))\n",
        "Base\t\tTest\t\tDraw\n",
        "76\t\t74\t\t(4):\n",
        "237.8\t\t234.5\t\tmedian\n",
        "238.3\t\t237.1\t\tmean\n"
       ]
      }
     ],
     "prompt_number": 246
    },
    {
     "cell_type": "code",
     "collapsed": false,
     "input": [
      "CompareOnDataSets(l1metric, [df_train, df_train_big, df_test, df_test_big, DF_15, df_15_big],\n",
      "                  [expr1, expr4, cumulative_score])"
     ],
     "language": "python",
     "metadata": {},
     "outputs": [
      {
       "output_type": "stream",
       "stream": "stdout",
       "text": [
        " \ttrain14\ttrain14_big\ttest14\ttest14_big\tDF_15\tdf15_big\n",
        "1\t77.08  \t72.78      \t75.45 \t71.82     \t73.18\t70.42   \n",
        " \t       \t           \t      \t          \t     \t        \n",
        "2\t75.41  \t72.64      \t74.91 \t71.77     \t69.70\t70.58   \n",
        "2\t-1.67  \t-0.13      \t-0.54 \t-0.06     \t-3.48\t+0.15   \n",
        " \t       \t           \t      \t          \t     \t        \n",
        "3\t75.73  \t72.51      \t75.27 \t71.59     \t70.05\t70.66   \n",
        "3\t-1.35  \t-0.27      \t-0.18 \t-0.23     \t-3.13\t+0.23   \n",
        " \t       \t           \t      \t          \t     \t        \n"
       ]
      }
     ],
     "prompt_number": 247
    },
    {
     "cell_type": "code",
     "collapsed": false,
     "input": [
      "fanduel_analysis.CheckVirtualFDGames(expr6, cumulative_score_with_home,\n",
      "                                     DF_14, print_per_day=False)"
     ],
     "language": "python",
     "metadata": {},
     "outputs": [
      {
       "output_type": "stream",
       "stream": "stdout",
       "text": [
        "Base: (((fantasy_pts_per_game * (((team_poss_per_game + other_poss_per_game) / 2.0) / team_poss_per_game)) + ((-0.3 & (player_rest == 1.0)) | 0.0)) + ((0.5 & is_home) | 0.0))\n",
        "Test: ((((((pts_per_game + (1.5 * ast_per_game)) * other_def_rating_per_game) / 1.041) + (((1.2 * trb_per_game) + (2.0 * (blk_per_game + stl_per_game))) - tov_per_game)) * (((team_poss_per_game + other_poss_per_game) / 2.0) / team_poss_per_game)) + ((0.5 & is_home) | 0.0))\n",
        "Base\t\tTest\t\tDraw\n",
        "73\t\t74\t\t(7):\n",
        "237.8\t\t237.2\t\tmedian\n",
        "238.3\t\t239.7\t\tmean\n"
       ]
      }
     ],
     "prompt_number": 258
    },
    {
     "cell_type": "code",
     "collapsed": false,
     "input": [],
     "language": "python",
     "metadata": {},
     "outputs": []
    }
   ],
   "metadata": {}
  }
 ]
}