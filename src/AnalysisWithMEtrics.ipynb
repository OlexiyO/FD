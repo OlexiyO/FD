{
 "metadata": {
  "name": "",
  "signature": "sha256:3cd73678f9cece945a2fcdf410b5f122b003f531a950744282bb6f8f9ed427b7"
 },
 "nbformat": 3,
 "nbformat_minor": 0,
 "worksheets": [
  {
   "cells": [
    {
     "cell_type": "code",
     "collapsed": false,
     "input": [
      "from crawl import boxscore_crawler, boxscore_parser\n",
      "from lib import expression\n",
      "reload(expression)\n",
      "from lib.plotting import *\n",
      "from analysis import load\n",
      "from analysis import fanduel_analysis\n",
      "from analysis import metrics\n",
      "from lib.misc_functions import *\n",
      "import pandas as pd\n",
      "from crawl import fanduel_parser\n",
      "from crawl import player_ids"
     ],
     "language": "python",
     "metadata": {},
     "outputs": [],
     "prompt_number": 265
    },
    {
     "cell_type": "code",
     "collapsed": false,
     "input": [
      "from lib.expression import *\n",
      "\n",
      "golden = Leaf('fantasy_pts')\n",
      "expr1 = Leaf('fantasy_pts_per_game')\n",
      "old_tempo = Leaf('team_poss_per_game')\n",
      "predicted_tempo = (Leaf('team_poss_per_game') + Leaf('other_poss_per_game')) / 2.\n",
      "tempo_mult = predicted_tempo / old_tempo\n",
      "expr2 = expr1 * tempo_mult\n",
      "\n",
      "rest_adjust = (-.3 & (Leaf('player_rest') == 1)) | 0.\n",
      "expr3 = expr1 + rest_adjust\n",
      "expr4 = expr2 + rest_adjust\n",
      "\n",
      "# Coaches trust good players more with no rest!!\n",
      "# rest_adjust_for_good = 1. & (Leaf('player_rest') == 1) & (Leaf('player_previous_minutes') > 30)\n",
      "#expr5 = expr4 + rest_adjust_for_good\n",
      "expr6 = expr4 + ((.5 & Leaf('is_home')) | 0.)\n",
      "\n",
      "home_adjust_big = (1. & (Leaf('minutes_per_game') > 25) & Leaf('is_home'))\n",
      "home_adjust_small = (.5 & Leaf('is_home'))\n",
      "expr7 = expr4 + (home_adjust_big | home_adjust_small | 0)"
     ],
     "language": "python",
     "metadata": {},
     "outputs": [],
     "prompt_number": 286
    },
    {
     "cell_type": "code",
     "collapsed": false,
     "input": [
      "old_tempo = Leaf('team_poss_per_game')\n",
      "predicted_tempo = (Leaf('team_poss_per_game') + Leaf('other_poss_per_game')) / 2.\n",
      "tempo_mult = predicted_tempo / old_tempo\n",
      "\n",
      "off_part = Leaf('pts_per_game') + 1.5 * Leaf('ast_per_game')\n",
      "off_part *= Leaf('other_def_rating_per_game') / 1.041\n",
      "other_part = 1.2 * Leaf('trb_per_game')\n",
      "other_part += 2. * (Leaf('blk_per_game') + Leaf('stl_per_game'))\n",
      "other_part -= Leaf('tov_per_game')\n",
      "cumulative_score = (off_part + other_part) * tempo_mult\n",
      "cumulative_score_with_home = cumulative_score + ((.5 & Leaf('is_home')) | 0.)"
     ],
     "language": "python",
     "metadata": {},
     "outputs": [],
     "prompt_number": 287
    },
    {
     "cell_type": "code",
     "collapsed": false,
     "input": [
      "DF_11 = load.LoadDataForSeason(2011)\n",
      "DF_12 = load.LoadDataForSeason(2012)\n",
      "DF_13 = load.LoadDataForSeason(2013)\n",
      "DF_14 = load.LoadDataForSeason(2014)\n",
      "DF_15 = load.LoadDataForSeason(2015)"
     ],
     "language": "python",
     "metadata": {},
     "outputs": [
      {
       "output_type": "stream",
       "stream": "stdout",
       "text": [
        "Loaded from disk: 15.5228340267\n",
        "Processed:"
       ]
      },
      {
       "output_type": "stream",
       "stream": "stdout",
       "text": [
        " 37.6619022766\n",
        "Loaded from disk:"
       ]
      },
      {
       "output_type": "stream",
       "stream": "stdout",
       "text": [
        " 16.1105739756\n",
        "Processed:"
       ]
      },
      {
       "output_type": "stream",
       "stream": "stdout",
       "text": [
        " 33.4449890592\n",
        "Loaded from disk:"
       ]
      },
      {
       "output_type": "stream",
       "stream": "stdout",
       "text": [
        " 14.2915075007\n",
        "Processed:"
       ]
      },
      {
       "output_type": "stream",
       "stream": "stdout",
       "text": [
        " 35.7186297199\n",
        "Loaded from disk:"
       ]
      },
      {
       "output_type": "stream",
       "stream": "stdout",
       "text": [
        " 12.3813195381\n",
        "Processed:"
       ]
      },
      {
       "output_type": "stream",
       "stream": "stdout",
       "text": [
        " 38.2330682336\n"
       ]
      }
     ],
     "prompt_number": 4
    },
    {
     "cell_type": "code",
     "collapsed": false,
     "input": [
      "big_filter = (Leaf('minutes_per_game') >= 10) & (Leaf('minutes') >= 10) & (Leaf('games_played') >= 10)"
     ],
     "language": "python",
     "metadata": {},
     "outputs": [],
     "prompt_number": 18
    },
    {
     "cell_type": "code",
     "collapsed": false,
     "input": [
      "df_11_big = DF_11[~big_filter.Eval(DF_11).isnull()]\n",
      "df_12_big = DF_12[~big_filter.Eval(DF_12).isnull()]\n",
      "df_13_big = DF_13[~big_filter.Eval(DF_13).isnull()]\n",
      "df_14_big = DF_14[~big_filter.Eval(DF_14).isnull()]\n",
      "df_15_big = DF_15[~big_filter.Eval(DF_15).isnull()]"
     ],
     "language": "python",
     "metadata": {},
     "outputs": [],
     "prompt_number": 8
    },
    {
     "cell_type": "code",
     "collapsed": false,
     "input": [
      "df_11_big.name = 'df_11_big'\n",
      "df_12_big.name = 'df_12_big'\n",
      "df_13_big.name = 'df_13_big'\n",
      "df_14_big.name = 'df_14_big'\n",
      "df_15_big.name = 'df_15_big'"
     ],
     "language": "python",
     "metadata": {},
     "outputs": [],
     "prompt_number": 15
    },
    {
     "cell_type": "code",
     "collapsed": false,
     "input": [
      "l1metric = metrics.L1Metric(golden)"
     ],
     "language": "python",
     "metadata": {},
     "outputs": [],
     "prompt_number": 12
    },
    {
     "cell_type": "code",
     "collapsed": false,
     "input": [
      "def CompareOnDataSets(metric, dfs, predictions):\n",
      "    def Generate():\n",
      "        empty_row = [''] * (len(dfs) + 1)\n",
      "        yield [''] + ['%s' % df.name for df in dfs]\n",
      "        base = [metric.Compute(df, predictions[0]) for df in dfs]\n",
      "        for i, pred in enumerate(predictions):\n",
      "            vals1 = [metric.Compute(df, pred) for df in dfs]\n",
      "            yield ['%d' % (i + 1)] + ['%.2f' % v for v in vals1]\n",
      "            if i:  # Do not print deltas for the base\n",
      "                yield ['%d' % (i + 1)] + ['%+.2f' % (v1 - v0) for v0, v1 in zip(base, vals1)]\n",
      "            yield empty_row\n",
      "    PrintRows(Generate())"
     ],
     "language": "python",
     "metadata": {},
     "outputs": [],
     "prompt_number": 16
    },
    {
     "cell_type": "code",
     "collapsed": false,
     "input": [
      "CompareOnDataSets(l1metric, [df_11_big, df_12_big, df_13_big, df_14_big, df_15_big],\n",
      "                  [expr1, expr4, cumulative_score])"
     ],
     "language": "python",
     "metadata": {},
     "outputs": [
      {
       "output_type": "stream",
       "stream": "stdout",
       "text": [
        " \tdf_11_big\tdf_12_big\tdf_13_big\tdf_14_big\tdf_15_big\n",
        "1\t73.41    \t72.14    \t72.26    \t72.28    \t70.38    \n",
        " \t         \t         \t         \t         \t         \n",
        "2\t73.33    \t72.21    \t72.27    \t72.19    \t70.53    \n",
        "2\t-0.08    \t+0.07    \t+0.02    \t-0.09    \t+0.15    \n",
        " \t         \t         \t         \t         \t         \n",
        "3\t73.25    \t71.99    \t72.08    \t72.04    \t70.63    \n",
        "3\t-0.16    \t-0.15    \t-0.18    \t-0.25    \t+0.24    \n",
        " \t         \t         \t         \t         \t         \n"
       ]
      }
     ],
     "prompt_number": 17
    },
    {
     "cell_type": "code",
     "collapsed": false,
     "input": [
      "from analysis import knapsack\n",
      "reload(knapsack)\n",
      "reload(fanduel_analysis)"
     ],
     "language": "python",
     "metadata": {},
     "outputs": [
      {
       "metadata": {},
       "output_type": "pyout",
       "prompt_number": 20,
       "text": [
        "<module 'analysis.fanduel_analysis' from 'analysis\\fanduel_analysis.pyc'>"
       ]
      }
     ],
     "prompt_number": 20
    },
    {
     "cell_type": "code",
     "collapsed": false,
     "input": [
      "fanduel_analysis.CheckVirtualFDGames(expr1, expr4, DF_11, print_per_day=False)"
     ],
     "language": "python",
     "metadata": {},
     "outputs": [
      {
       "output_type": "stream",
       "stream": "stdout",
       "text": [
        "Base: fantasy_pts_per_game\n",
        "Test: ((fantasy_pts_per_game * (((team_poss_per_game + other_poss_per_game) / 2.0) / team_poss_per_game)) + ((-0.3 & (player_rest == 1.0)) | 0.0))\n",
        "Base\t\tTest\t\tDraw\n",
        "71\t\t81\t\t(3):\n",
        "241.1\t\t252.3\t\tmedian\n",
        "243.9\t\t249.2\t\tmean\n"
       ]
      }
     ],
     "prompt_number": 21
    },
    {
     "cell_type": "code",
     "collapsed": false,
     "input": [
      "fanduel_analysis.CheckVirtualFDGames(expr1, expr4, DF_12, print_per_day=False)"
     ],
     "language": "python",
     "metadata": {},
     "outputs": [
      {
       "output_type": "stream",
       "stream": "stdout",
       "text": [
        "Base: fantasy_pts_per_game\n",
        "Test: ((fantasy_pts_per_game * (((team_poss_per_game + other_poss_per_game) / 2.0) / team_poss_per_game)) + ((-0.3 & (player_rest == 1.0)) | 0.0))\n",
        "Base\t\tTest\t\tDraw\n",
        "53\t\t58\t\t(0):\n",
        "238.1\t\t245.0\t\tmedian\n",
        "242.7\t\t246.8\t\tmean\n"
       ]
      }
     ],
     "prompt_number": 22
    },
    {
     "cell_type": "code",
     "collapsed": false,
     "input": [
      "fanduel_analysis.CheckVirtualFDGames(expr1, expr4, DF_13, print_per_day=False)"
     ],
     "language": "python",
     "metadata": {},
     "outputs": [
      {
       "output_type": "stream",
       "stream": "stdout",
       "text": [
        "Base: fantasy_pts_per_game\n",
        "Test: ((fantasy_pts_per_game * (((team_poss_per_game + other_poss_per_game) / 2.0) / team_poss_per_game)) + ((-0.3 & (player_rest == 1.0)) | 0.0))\n",
        "Base\t\tTest\t\tDraw\n",
        "78\t\t75\t\t(1):\n",
        "243.8\t\t248.2\t\tmedian\n",
        "243.9\t\t246.9\t\tmean\n"
       ]
      }
     ],
     "prompt_number": 23
    },
    {
     "cell_type": "code",
     "collapsed": false,
     "input": [
      "fanduel_analysis.CheckVirtualFDGames(expr1, expr4, DF_14, print_per_day=False)"
     ],
     "language": "python",
     "metadata": {},
     "outputs": [
      {
       "output_type": "stream",
       "stream": "stdout",
       "text": [
        "Base: fantasy_pts_per_game\n",
        "Test: ((fantasy_pts_per_game * (((team_poss_per_game + other_poss_per_game) / 2.0) / team_poss_per_game)) + ((-0.3 & (player_rest == 1.0)) | 0.0))\n",
        "Base\t\tTest\t\tDraw\n",
        "58\t\t95\t\t(1):\n",
        "222.0\t\t238.1\t\tmedian\n",
        "221.5\t\t237.4\t\tmean\n"
       ]
      }
     ],
     "prompt_number": 24
    },
    {
     "cell_type": "code",
     "collapsed": false,
     "input": [
      "fanduel_analysis.CheckVirtualFDGames(expr1, expr4, DF_15, print_per_day=False)"
     ],
     "language": "python",
     "metadata": {},
     "outputs": [
      {
       "output_type": "stream",
       "stream": "stdout",
       "text": [
        "Base: fantasy_pts_per_game\n",
        "Test: ((fantasy_pts_per_game * (((team_poss_per_game + other_poss_per_game) / 2.0) / team_poss_per_game)) + ((-0.3 & (player_rest == 1.0)) | 0.0))\n",
        "Base\t\tTest\t\tDraw\n",
        "17\t\t25\t\t(0):\n",
        "225.0\t\t230.3\t\tmedian\n",
        "224.3\t\t229.1\t\tmean\n"
       ]
      }
     ],
     "prompt_number": 25
    },
    {
     "cell_type": "code",
     "collapsed": false,
     "input": [
      "fanduel_analysis.CheckVirtualFDGames(expr4, cumulative_score, DF_11, print_per_day=False)"
     ],
     "language": "python",
     "metadata": {},
     "outputs": [
      {
       "output_type": "stream",
       "stream": "stdout",
       "text": [
        "Base: ((fantasy_pts_per_game * (((team_poss_per_game + other_poss_per_game) / 2.0) / team_poss_per_game)) + ((-0.3 & (player_rest == 1.0)) | 0.0))\n",
        "Test: ((((pts_per_game + (1.5 * ast_per_game)) * (other_def_rating_per_game / 1.041)) + (((1.2 * trb_per_game) + (2.0 * (blk_per_game + stl_per_game))) - tov_per_game)) * (((team_poss_per_game + other_poss_per_game) / 2.0) / team_poss_per_game))\n",
        "Base\t\tTest\t\tDraw\n",
        "71\t\t70\t\t(14):\n",
        "252.3\t\t252.9\t\tmedian\n",
        "249.2\t\t254.1\t\tmean\n"
       ]
      }
     ],
     "prompt_number": 26
    },
    {
     "cell_type": "code",
     "collapsed": false,
     "input": [
      "fanduel_analysis.CheckVirtualFDGames(expr4, cumulative_score, DF_12, print_per_day=False)"
     ],
     "language": "python",
     "metadata": {},
     "outputs": [
      {
       "output_type": "stream",
       "stream": "stdout",
       "text": [
        "Base: ((fantasy_pts_per_game * (((team_poss_per_game + other_poss_per_game) / 2.0) / team_poss_per_game)) + ((-0.3 & (player_rest == 1.0)) | 0.0))\n",
        "Test: ((((pts_per_game + (1.5 * ast_per_game)) * (other_def_rating_per_game / 1.041)) + (((1.2 * trb_per_game) + (2.0 * (blk_per_game + stl_per_game))) - tov_per_game)) * (((team_poss_per_game + other_poss_per_game) / 2.0) / team_poss_per_game))\n",
        "Base\t\tTest\t\tDraw\n",
        "43\t\t68\t\t(0):\n",
        "245.0\t\t251.6\t\tmedian\n",
        "246.8\t\t255.2\t\tmean\n"
       ]
      }
     ],
     "prompt_number": 27
    },
    {
     "cell_type": "code",
     "collapsed": false,
     "input": [
      "fanduel_analysis.CheckVirtualFDGames(expr4, cumulative_score, DF_13, print_per_day=False)"
     ],
     "language": "python",
     "metadata": {},
     "outputs": [
      {
       "output_type": "stream",
       "stream": "stdout",
       "text": [
        "Base: ((fantasy_pts_per_game * (((team_poss_per_game + other_poss_per_game) / 2.0) / team_poss_per_game)) + ((-0.3 & (player_rest == 1.0)) | 0.0))\n",
        "Test: ((((pts_per_game + (1.5 * ast_per_game)) * (other_def_rating_per_game / 1.041)) + (((1.2 * trb_per_game) + (2.0 * (blk_per_game + stl_per_game))) - tov_per_game)) * (((team_poss_per_game + other_poss_per_game) / 2.0) / team_poss_per_game))\n",
        "Base\t\tTest\t\tDraw\n",
        "76\t\t66\t\t(12):\n",
        "248.2\t\t250.7\t\tmedian\n",
        "246.9\t\t248.0\t\tmean\n"
       ]
      }
     ],
     "prompt_number": 28
    },
    {
     "cell_type": "code",
     "collapsed": false,
     "input": [
      "fanduel_analysis.CheckVirtualFDGames(expr4, cumulative_score, DF_14, print_per_day=False)"
     ],
     "language": "python",
     "metadata": {},
     "outputs": [
      {
       "output_type": "stream",
       "stream": "stdout",
       "text": [
        "Base: ((fantasy_pts_per_game * (((team_poss_per_game + other_poss_per_game) / 2.0) / team_poss_per_game)) + ((-0.3 & (player_rest == 1.0)) | 0.0))\n",
        "Test: ((((pts_per_game + (1.5 * ast_per_game)) * (other_def_rating_per_game / 1.041)) + (((1.2 * trb_per_game) + (2.0 * (blk_per_game + stl_per_game))) - tov_per_game)) * (((team_poss_per_game + other_poss_per_game) / 2.0) / team_poss_per_game))\n",
        "Base\t\tTest\t\tDraw\n",
        "77\t\t68\t\t(9):\n",
        "238.1\t\t234.5\t\tmedian\n",
        "237.4\t\t237.1\t\tmean\n"
       ]
      }
     ],
     "prompt_number": 31
    },
    {
     "cell_type": "code",
     "collapsed": false,
     "input": [
      "fanduel_analysis.CheckVirtualFDGames(expr4, cumulative_score, DF_15, print_per_day=False)"
     ],
     "language": "python",
     "metadata": {},
     "outputs": [
      {
       "output_type": "stream",
       "stream": "stdout",
       "text": [
        "Base: ((fantasy_pts_per_game * (((team_poss_per_game + other_poss_per_game) / 2.0) / team_poss_per_game)) + ((-0.3 & (player_rest == 1.0)) | 0.0))\n",
        "Test: ((((pts_per_game + (1.5 * ast_per_game)) * (other_def_rating_per_game / 1.041)) + (((1.2 * trb_per_game) + (2.0 * (blk_per_game + stl_per_game))) - tov_per_game)) * (((team_poss_per_game + other_poss_per_game) / 2.0) / team_poss_per_game))\n",
        "Base\t\tTest\t\tDraw\n",
        "20\t\t20\t\t(2):\n",
        "230.3\t\t228.2\t\tmedian\n",
        "229.1\t\t232.2\t\tmean\n"
       ]
      }
     ],
     "prompt_number": 30
    },
    {
     "cell_type": "code",
     "collapsed": false,
     "input": [],
     "language": "python",
     "metadata": {},
     "outputs": []
    },
    {
     "cell_type": "code",
     "collapsed": false,
     "input": [
      "fanduel_analysis.CheckVirtualFDGames(expr4, expr10, DF_14, print_per_day=False)"
     ],
     "language": "python",
     "metadata": {},
     "outputs": [
      {
       "output_type": "stream",
       "stream": "stdout",
       "text": [
        "Base: ((fantasy_pts_per_game * (((team_poss_per_game + other_poss_per_game) / 2.0) / team_poss_per_game)) + ((-0.3 & (player_rest == 1.0)) | 0.0))\n",
        "Test: ((fantasy_pts_per_game * (((team_poss_per_game + other_poss_per_game) / 2.0) / team_poss_per_game)) * ((other_def_rating_per_game / (team_pts_per_game / team_poss_per_game)) | 1.0))\n",
        "Base\t\tTest\t\tDraw\n",
        "45\t\t54\t\t(55):\n",
        "195.2\t\t196.3\t\tmedian\n",
        "194.4\t\t195.0\t\tmean\n"
       ]
      }
     ],
     "prompt_number": 170
    },
    {
     "cell_type": "code",
     "collapsed": false,
     "input": [
      "off_rating = Leaf('team_pts_per_game') / Leaf('team_poss_per_game')\n",
      "other_def_rating = Leaf('other_def_rating_per_game')\n",
      "def_adjust = (other_def_rating / off_rating) | 1.\n",
      "\n",
      "pts_with_opp_def = pts_pg * Leaf('other_def_rating_per_game')\n",
      "pts_with_tempo_opp_def = pts_pg * tempo_mult * Leaf('other_def_rating_per_game')\n",
      "mpg = (Leaf('minutes_per_game') / 25.)\n",
      "home_adjust = ((mpg & (Leaf('is_home'))) | 0.)\n",
      "pts_with_home = pts_with_tempo + home_adjust"
     ],
     "language": "python",
     "metadata": {},
     "outputs": [],
     "prompt_number": 215
    },
    {
     "cell_type": "code",
     "collapsed": false,
     "input": [
      "reload(fanduel_analysis)\n",
      "fanduel_analysis.CheckAllFDGames([pts_pg, pts_with_tempo, pts_with_opp_def, pts_with_tempo_opp_def],\n",
      "                                 DF_15, print_selections=False,\n",
      "                                 expr_real_result=Leaf('pts'))"
     ],
     "language": "python",
     "metadata": {},
     "outputs": [
      {
       "output_type": "stream",
       "stream": "stdout",
       "text": [
        "130.5\t\t124.5\t\t127.5\t\t130.0\t\tmedian\n",
        "116.2\t\t118.8\t\t116.0\t\t119.2\t\tmean\n"
       ]
      }
     ],
     "prompt_number": 232
    },
    {
     "cell_type": "code",
     "collapsed": false,
     "input": [
      "reload(fanduel_analysis)\n",
      "fanduel_analysis.CheckVirtualFDGames(pts_pg, pts_with_opp_def, DF_14, print_per_day=False,\n",
      "                                     expr_real_result=Leaf('pts'),\n",
      "                                     expr_salaries_from=Leaf('pts_per_game'))"
     ],
     "language": "python",
     "metadata": {},
     "outputs": [
      {
       "output_type": "stream",
       "stream": "stdout",
       "text": [
        "Base: pts_per_game\n",
        "Test: (pts_per_game * other_def_rating_per_game)\n",
        "Base\t\tTest\t\tDraw\n",
        "73\t\t78\t\t(3):\n",
        "120.0\t\t116.5\t\tmedian\n",
        "116.8\t\t117.2\t\tmean\n"
       ]
      }
     ],
     "prompt_number": 233
    },
    {
     "cell_type": "code",
     "collapsed": false,
     "input": [
      "fanduel_analysis.CheckVirtualFDGames(pts_pg, pts_with_tempo_opp_def, DF_14, print_per_day=False,\n",
      "                                     expr_real_result=Leaf('pts'),\n",
      "                                     expr_salaries_from=Leaf('pts_per_game'))"
     ],
     "language": "python",
     "metadata": {},
     "outputs": [
      {
       "output_type": "stream",
       "stream": "stdout",
       "text": [
        "Base: pts_per_game\n",
        "Test: ((pts_per_game * (((team_poss_per_game + other_poss_per_game) / 2.0) / team_poss_per_game)) * other_def_rating_per_game)\n",
        "Base\t\tTest\t\tDraw\n",
        "67\t\t85\t\t(2):\n",
        "120.0\t\t123.5\t\tmedian\n",
        "116.8\t\t119.8\t\tmean\n"
       ]
      }
     ],
     "prompt_number": 235
    },
    {
     "cell_type": "code",
     "collapsed": false,
     "input": [
      "fanduel_analysis.CheckVirtualFDGames(pts_pg, pts_with_tempo, DF_14, print_per_day=False,\n",
      "                                     expr_real_result=Leaf('pts'),\n",
      "                                     expr_salaries_from=Leaf('pts_per_game'))"
     ],
     "language": "python",
     "metadata": {},
     "outputs": [
      {
       "output_type": "stream",
       "stream": "stdout",
       "text": [
        "Base: pts_per_game\n",
        "Test: (pts_per_game * (((team_poss_per_game + other_poss_per_game) / 2.0) / team_poss_per_game))\n",
        "Base\t\tTest\t\tDraw\n",
        "57\t\t94\t\t(3):\n",
        "120.0\t\t124.0\t\tmedian\n",
        "116.8\t\t123.9\t\tmean\n"
       ]
      }
     ],
     "prompt_number": 236
    },
    {
     "cell_type": "code",
     "collapsed": false,
     "input": [
      "fanduel_analysis.CheckVirtualFDGames(pts_with_tempo, pts_with_tempo_opp_def, DF_14, print_per_day=False,\n",
      "                                     expr_real_result=Leaf('pts'),\n",
      "                                     expr_salaries_from=Leaf('pts_per_game'))"
     ],
     "language": "python",
     "metadata": {},
     "outputs": [
      {
       "output_type": "stream",
       "stream": "stdout",
       "text": [
        "Base: (pts_per_game * (((team_poss_per_game + other_poss_per_game) / 2.0) / team_poss_per_game))\n",
        "Test: ((pts_per_game * (((team_poss_per_game + other_poss_per_game) / 2.0) / team_poss_per_game)) * other_def_rating_per_game)\n",
        "Base\t\tTest\t\tDraw\n",
        "79\t\t62\t\t(13):\n",
        "124.0\t\t123.5\t\tmedian\n",
        "123.9\t\t119.8\t\tmean\n"
       ]
      }
     ],
     "prompt_number": 234
    },
    {
     "cell_type": "code",
     "collapsed": false,
     "input": [
      "fanduel_analysis.CheckAllFDGames([pts_with_tempo, pts_with_tempo_opp_def],\n",
      "                                 DF_15, print_selections=False,\n",
      "                                 expr_real_result=Leaf('pts'))"
     ],
     "language": "python",
     "metadata": {},
     "outputs": [
      {
       "output_type": "stream",
       "stream": "stdout",
       "text": [
        "124.5\t\t130.0\t\tmedian\n",
        "118.8\t\t119.2\t\tmean\n"
       ]
      }
     ],
     "prompt_number": 239
    },
    {
     "cell_type": "code",
     "collapsed": false,
     "input": [
      "fanduel_analysis.CheckVirtualFDGames(pts_with_tempo, pts_with_tempo_opp_def, DF_14, print_per_day=False,\n",
      "                                     expr_real_result=Leaf('pts'),"
     ],
     "language": "python",
     "metadata": {},
     "outputs": []
    },
    {
     "cell_type": "code",
     "collapsed": false,
     "input": [
      "fanduel_analysis.CheckVirtualFDGames(pts_with_tempo, pts_with_home, DF_14, print_per_day=False,\n",
      "                                     expr_real_result=Leaf('pts'))"
     ],
     "language": "python",
     "metadata": {},
     "outputs": []
    },
    {
     "cell_type": "code",
     "collapsed": false,
     "input": [
      "fanduel_analysis.CheckVirtualFDGames(pts_with_tempo, pts_with_tempo * Leaf('other_def_rating_per_game'), DF_14, print_per_day=False,\n",
      "                                     expr_real_result=Leaf('pts'))"
     ],
     "language": "python",
     "metadata": {},
     "outputs": []
    },
    {
     "cell_type": "code",
     "collapsed": false,
     "input": [
      "fanduel_analysis.CheckVirtualFDGames(expr6, pts_with_tempo * Leaf('other_def_rating_per_game'), DF_14, print_per_day=False,\n",
      "                                     expr_real_result=Leaf('pts'))"
     ],
     "language": "python",
     "metadata": {},
     "outputs": []
    },
    {
     "cell_type": "code",
     "collapsed": false,
     "input": [
      "fanduel_analysis.CheckAllFDGames([pts_pg, pts_with_tempo, pts_with_tempo * Leaf('other_def_rating_per_game')],\n",
      "                                 DF_15, print_selections=False,\n",
      "                                 expr_real_result=Leaf('pts'))"
     ],
     "language": "python",
     "metadata": {},
     "outputs": []
    },
    {
     "cell_type": "code",
     "collapsed": false,
     "input": [
      "fanduel_analysis.CheckVirtualFDGames(pts_with_tempo, pts_with_tempo_opp_def,\n",
      "                                     df_train, print_per_day=False,\n",
      "                                     expr_real_result=Leaf('pts'))"
     ],
     "language": "python",
     "metadata": {},
     "outputs": [
      {
       "output_type": "stream",
       "stream": "stdout",
       "text": [
        "Base: (pts_per_game * (((team_poss_per_game + other_poss_per_game) / 2.0) / team_poss_per_game))\n",
        "Test: ((pts_per_game * (((team_poss_per_game + other_poss_per_game) / 2.0) / team_poss_per_game)) * other_def_rating_per_game)\n",
        "Base\t\tTest\t\tDraw\n",
        "18\t\t12\t\t(40):\n",
        "102.5\t\t102.5\t\tmedian\n",
        "101.2\t\t100.9\t\tmean\n"
       ]
      }
     ],
     "prompt_number": 221
    },
    {
     "cell_type": "code",
     "collapsed": false,
     "input": [
      "fanduel_analysis.CheckVirtualFDGames(pts_with_tempo, pts_with_tempo_opp_def,\n",
      "                                     df_test, print_per_day=False,\n",
      "                                     expr_real_result=Leaf('pts'))"
     ],
     "language": "python",
     "metadata": {},
     "outputs": [
      {
       "output_type": "stream",
       "stream": "stdout",
       "text": [
        "Base: (pts_per_game * (((team_poss_per_game + other_poss_per_game) / 2.0) / team_poss_per_game))\n",
        "Test: ((pts_per_game * (((team_poss_per_game + other_poss_per_game) / 2.0) / team_poss_per_game)) * other_def_rating_per_game)\n",
        "Base\t\tTest\t\tDraw\n",
        "14\t\t21\t\t(40):\n",
        "99.0\t\t100.0\t\tmedian\n",
        "99.1\t\t99.7\t\tmean\n"
       ]
      }
     ],
     "prompt_number": 222
    },
    {
     "cell_type": "code",
     "collapsed": false,
     "input": [
      "fpt_pg = Leaf('fantasy_pts_per_game')\n",
      "old_tempo = Leaf('team_poss_per_game')\n",
      "predicted_tempo = (Leaf('team_poss_per_game') + Leaf('other_poss_per_game')) / 2.\n",
      "tempo_mult = predicted_tempo / old_tempo\n",
      "other_def_rating = Leaf('other_def_rating_per_game')\n",
      "complex_score = fpt_pg * tempo_mult * other_def_rating\n",
      "\n",
      "fanduel_analysis.CheckVirtualFDGames(fpt_pg, complex_score,\n",
      "                                     DF_14, print_per_day=False)"
     ],
     "language": "python",
     "metadata": {},
     "outputs": [
      {
       "output_type": "stream",
       "stream": "stdout",
       "text": [
        "Base: fantasy_pts_per_game\n",
        "Test: ((fantasy_pts_per_game * (((team_poss_per_game + other_poss_per_game) / 2.0) / team_poss_per_game)) * other_def_rating_per_game)\n",
        "Base\t\tTest\t\tDraw\n",
        "38\t\t37\t\t(79):\n",
        "197.9\t\t198.1\t\tmedian\n",
        "197.3\t\t196.9\t\tmean\n"
       ]
      }
     ],
     "prompt_number": 223
    },
    {
     "cell_type": "code",
     "collapsed": false,
     "input": [
      "fanduel_analysis.CheckVirtualFDGames(fpt_pg, tempo_mult * fpt_pg,\n",
      "                                     DF_14, print_per_day=False)"
     ],
     "language": "python",
     "metadata": {},
     "outputs": [
      {
       "output_type": "stream",
       "stream": "stdout",
       "text": [
        "Base: fantasy_pts_per_game\n",
        "Test: ((((team_poss_per_game + other_poss_per_game) / 2.0) / team_poss_per_game) * fantasy_pts_per_game)\n",
        "Base\t\tTest\t\tDraw\n",
        "28\t\t23\t\t(103):\n",
        "197.9\t\t198.4\t\tmedian\n",
        "197.3\t\t197.0\t\tmean\n"
       ]
      }
     ],
     "prompt_number": 224
    },
    {
     "cell_type": "code",
     "collapsed": false,
     "input": [
      "off_stat = Leaf('pts_per_game') + 1.5 * Leaf('ast_per_game')\n",
      "off_part = off_stat * Leaf('other_def_rating_per_game') / 1.041\n",
      "other_part = 1.2 * Leaf('trb_per_game') + 2. * (Leaf('blk_per_game') + Leaf('stl_per_game'))\n",
      "other_part -= Leaf('tov_per_game')\n",
      "cumulative_score = (off_part + other_part) * tempo_mult"
     ],
     "language": "python",
     "metadata": {},
     "outputs": [],
     "prompt_number": 229
    },
    {
     "cell_type": "code",
     "collapsed": false,
     "input": [
      "fanduel_analysis.CheckVirtualFDGames(fpt_pg, cumulative_score,\n",
      "                                     DF_14, print_per_day=False)"
     ],
     "language": "python",
     "metadata": {},
     "outputs": [
      {
       "output_type": "stream",
       "stream": "stdout",
       "text": [
        "Base: fantasy_pts_per_game\n",
        "Test: (((((pts_per_game + (1.5 * ast_per_game)) * other_def_rating_per_game) / 1.041) + (((1.2 * trb_per_game) + (2.0 * (blk_per_game + stl_per_game))) - tov_per_game)) * (((team_poss_per_game + other_poss_per_game) / 2.0) / team_poss_per_game))\n",
        "Base\t\tTest\t\tDraw\n",
        "50\t\t102\t\t(2):\n",
        "222.0\t\t234.5\t\tmedian\n",
        "221.5\t\t237.1\t\tmean\n"
       ]
      }
     ],
     "prompt_number": 242
    },
    {
     "cell_type": "code",
     "collapsed": false,
     "input": [
      "reload(fanduel_analysis)\n",
      "fanduel_analysis.CheckAllFDGames([fpt_pg, cumulative_score], DF_15)"
     ],
     "language": "python",
     "metadata": {},
     "outputs": [
      {
       "output_type": "stream",
       "stream": "stdout",
       "text": [
        "0 fantasy_pts_per_game\n",
        "1 (((((pts_per_game + (1.5 * ast_per_game)) * other_def_rating_per_game) / 1.041) + (((1.2 * trb_per_game) + (2.0 * (blk_per_game + stl_per_game))) - tov_per_game)) * (((team_poss_per_game + other_poss_per_game) / 2.0) / team_poss_per_game))\n",
        "224.7\t\t228.6\t\tmedian"
       ]
      },
      {
       "output_type": "stream",
       "stream": "stdout",
       "text": [
        "\n",
        "195.7\t\t203.9\t\tmean\n"
       ]
      }
     ],
     "prompt_number": 241
    },
    {
     "cell_type": "code",
     "collapsed": false,
     "input": [
      "reload(fanduel_analysis)\n",
      "fanduel_analysis.CheckAllFDGames([Leaf('fantasy_pts_per_game') * tempo_mult,\n",
      "                                  cumulative_score], DF_15)"
     ],
     "language": "python",
     "metadata": {},
     "outputs": [
      {
       "output_type": "stream",
       "stream": "stdout",
       "text": [
        "0 (fantasy_pts_per_game * (((team_poss_per_game + other_poss_per_game) / 2.0) / team_poss_per_game))\n",
        "1 (((((pts_per_game + (1.5 * ast_per_game)) * other_def_rating_per_game) / 1.041) + (((1.2 * trb_per_game) + (2.0 * (blk_per_game + stl_per_game))) - tov_per_game)) * (((team_poss_per_game + other_poss_per_game) / 2.0) / team_poss_per_game))\n",
        "224.2\t\t228.6\t\tmedian"
       ]
      },
      {
       "output_type": "stream",
       "stream": "stdout",
       "text": [
        "\n",
        "197.2\t\t203.9\t\tmean\n"
       ]
      }
     ],
     "prompt_number": 243
    },
    {
     "cell_type": "code",
     "collapsed": false,
     "input": [
      "fanduel_analysis.CheckAllFDGames([expr6, cumulative_score], DF_15)"
     ],
     "language": "python",
     "metadata": {},
     "outputs": [
      {
       "output_type": "stream",
       "stream": "stdout",
       "text": [
        "0 (((fantasy_pts_per_game * (((team_poss_per_game + other_poss_per_game) / 2.0) / team_poss_per_game)) + ((-0.3 & (player_rest == 1.0)) | 0.0)) + ((0.5 & is_home) | 0.0))\n",
        "1 (((((pts_per_game + (1.5 * ast_per_game)) * other_def_rating_per_game) / 1.041) + (((1.2 * trb_per_game) + (2.0 * (blk_per_game + stl_per_game))) - tov_per_game)) * (((team_poss_per_game + other_poss_per_game) / 2.0) / team_poss_per_game))\n",
        "224.3\t\t228.6\t\tmedian"
       ]
      },
      {
       "output_type": "stream",
       "stream": "stdout",
       "text": [
        "\n",
        "202.6\t\t203.9\t\tmean\n"
       ]
      }
     ],
     "prompt_number": 244
    },
    {
     "cell_type": "code",
     "collapsed": false,
     "input": [
      "rest_adjust = (-.3 & (Leaf('player_rest') == 1)) | 0.\n",
      "cc1 = cumulative_score_with_home + rest_adjust\n",
      "fanduel_analysis.CheckAllFDGames([expr4, expr6, cumulative_score, cumulative_score_with_home, cc1], DF_15)"
     ],
     "language": "python",
     "metadata": {},
     "outputs": [
      {
       "output_type": "stream",
       "stream": "stdout",
       "text": [
        "1 ((fantasy_pts_per_game * (((team_poss_per_game + other_poss_per_game) / 2.0) / team_poss_per_game)) + ((-0.3 & (player_rest == 1.0)) | 0.0))\n",
        "2 (((fantasy_pts_per_game * (((team_poss_per_game + other_poss_per_game) / 2.0) / team_poss_per_game)) + ((-0.3 & (player_rest == 1.0)) | 0.0)) + ((0.5 & is_home) | 0.0))\n",
        "3 (((((pts_per_game + (1.5 * ast_per_game)) * other_def_rating_per_game) / 1.041) + (((1.2 * trb_per_game) + (2.0 * (blk_per_game + stl_per_game))) - tov_per_game)) * (((team_poss_per_game + other_poss_per_game) / 2.0) / team_poss_per_game))\n",
        "4 ((((((pts_per_game + (1.5 * ast_per_game)) * other_def_rating_per_game) / 1.041) + (((1.2 * trb_per_game) + (2.0 * (blk_per_game + stl_per_game))) - tov_per_game)) * (((team_poss_per_game + other_poss_per_game) / 2.0) / team_poss_per_game)) + ((0.5 & is_home) | 0.0))\n",
        "5 (((((((pts_per_game + (1.5 * ast_per_game)) * other_def_rating_per_game) / 1.041) + (((1.2 * trb_per_game) + (2.0 * (blk_per_game + stl_per_game))) - tov_per_game)) * (((team_poss_per_game + other_poss_per_game) / 2.0) / team_poss_per_game)) + ((0.5 & is_home) | 0.0)) + ((-0.3 & (player_rest == 1.0)) | 0.0))\n",
        "224.2\t\t224.3\t\t228.6\t\t224.1\t\t235.7\t\tmedian"
       ]
      },
      {
       "output_type": "stream",
       "stream": "stdout",
       "text": [
        "\n",
        "197.0\t\t202.6\t\t203.9\t\t207.4\t\t206.2\t\tmean\n",
        " \t1         \t2         \t3         \t4         \t5         \n",
        "1\t    XXX   \t2 : 6 (12)\t6 : 9 (5) \t4 : 11 (5)\t5 : 11 (4)\n",
        "2\t6 : 2 (12)\t    XXX   \t9 : 8 (3) \t7 : 9 (4) \t6 : 11 (3)\n",
        "3\t9 : 6 (5) \t8 : 9 (3) \t    XXX   \t2 : 7 (11)\t3 : 6 (11)\n",
        "4\t11 : 4 (5)\t9 : 7 (4) \t7 : 2 (11)\t    XXX   \t2 : 2 (16)\n",
        "5\t11 : 5 (4)\t11 : 6 (3)\t6 : 3 (11)\t2 : 2 (16)\t    XXX   \n"
       ]
      }
     ],
     "prompt_number": 259
    },
    {
     "cell_type": "code",
     "collapsed": false,
     "input": [
      "cumulative_score_with_home = cumulative_score + ((.5 & Leaf('is_home')) | 0.)"
     ],
     "language": "python",
     "metadata": {},
     "outputs": [],
     "prompt_number": 257
    },
    {
     "cell_type": "code",
     "collapsed": false,
     "input": [
      "fanduel_analysis.CheckVirtualFDGames(expr6, cumulative_score,\n",
      "                                     DF_14, print_per_day=False)"
     ],
     "language": "python",
     "metadata": {},
     "outputs": [
      {
       "output_type": "stream",
       "stream": "stdout",
       "text": [
        "Base: (((fantasy_pts_per_game * (((team_poss_per_game + other_poss_per_game) / 2.0) / team_poss_per_game)) + ((-0.3 & (player_rest == 1.0)) | 0.0)) + ((0.5 & is_home) | 0.0))\n",
        "Test: (((((pts_per_game + (1.5 * ast_per_game)) * other_def_rating_per_game) / 1.041) + (((1.2 * trb_per_game) + (2.0 * (blk_per_game + stl_per_game))) - tov_per_game)) * (((team_poss_per_game + other_poss_per_game) / 2.0) / team_poss_per_game))\n",
        "Base\t\tTest\t\tDraw\n",
        "76\t\t74\t\t(4):\n",
        "237.8\t\t234.5\t\tmedian\n",
        "238.3\t\t237.1\t\tmean\n"
       ]
      }
     ],
     "prompt_number": 246
    },
    {
     "cell_type": "code",
     "collapsed": false,
     "input": [
      "CompareOnDataSets(l1metric, [df_train, df_train_big, df_test, df_test_big, DF_15, df_15_big],\n",
      "                  [expr1, expr4, cumulative_score])"
     ],
     "language": "python",
     "metadata": {},
     "outputs": [
      {
       "output_type": "stream",
       "stream": "stdout",
       "text": [
        " \ttrain14\ttrain14_big\ttest14\ttest14_big\tDF_15\tdf15_big\n",
        "1\t77.08  \t72.78      \t75.45 \t71.82     \t73.18\t70.42   \n",
        " \t       \t           \t      \t          \t     \t        \n",
        "2\t75.41  \t72.64      \t74.91 \t71.77     \t69.70\t70.58   \n",
        "2\t-1.67  \t-0.13      \t-0.54 \t-0.06     \t-3.48\t+0.15   \n",
        " \t       \t           \t      \t          \t     \t        \n",
        "3\t75.73  \t72.51      \t75.27 \t71.59     \t70.05\t70.66   \n",
        "3\t-1.35  \t-0.27      \t-0.18 \t-0.23     \t-3.13\t+0.23   \n",
        " \t       \t           \t      \t          \t     \t        \n"
       ]
      }
     ],
     "prompt_number": 247
    },
    {
     "cell_type": "code",
     "collapsed": false,
     "input": [
      "reload(fanduel_analysis)\n",
      "reload(expression)"
     ],
     "language": "python",
     "metadata": {},
     "outputs": [
      {
       "metadata": {},
       "output_type": "pyout",
       "prompt_number": 45,
       "text": [
        "<module 'lib.expression' from 'lib\\expression.pyc'>"
       ]
      }
     ],
     "prompt_number": 45
    },
    {
     "cell_type": "code",
     "collapsed": false,
     "input": [
      "fanduel_analysis.CheckVirtualFDGames([expr4, expr6, cumulative_score_with_home],\n",
      "                                     DF_14)"
     ],
     "language": "python",
     "metadata": {},
     "outputs": [
      {
       "output_type": "stream",
       "stream": "stdout",
       "text": [
        "1 ((fantasy_pts_per_game * (((team_poss_per_game + other_poss_per_game) / 2.0) / team_poss_per_game)) + ((-0.3 & (player_rest == 1.0)) | 0.0))\n",
        "2 (((fantasy_pts_per_game * (((team_poss_per_game + other_poss_per_game) / 2.0) / team_poss_per_game)) + ((-0.3 & (player_rest == 1.0)) | 0.0)) + ((0.5 & is_home) | 0.0))\n",
        "3 (((((pts_per_game + (1.5 * ast_per_game)) * (other_def_rating_per_game / 1.041)) + (((1.2 * trb_per_game) + (2.0 * (blk_per_game + stl_per_game))) - tov_per_game)) * (((team_poss_per_game + other_poss_per_game) / 2.0) / team_poss_per_game)) + ((0.5 & is_home) | 0.0))\n",
        "259.0\t\t255.6\t\t260.9\t\tmedian"
       ]
      },
      {
       "output_type": "stream",
       "stream": "stdout",
       "text": [
        "\n",
        "256.3\t\t258.9\t\t258.9\t\tmean\n",
        " \t1           \t2           \t3           \n",
        "1\t    XXX     \t58 : 66 (30)\t70 : 74 (10)\n",
        "2\t66 : 58 (30)\t    XXX     \t72 : 70 (12)\n",
        "3\t74 : 70 (10)\t70 : 72 (12)\t    XXX     \n"
       ]
      }
     ],
     "prompt_number": 46
    },
    {
     "cell_type": "code",
     "collapsed": false,
     "input": [
      "fanduel_analysis.CheckVirtualFDGames([expr4, expr6, cumulative_score_with_home],\n",
      "                                     DF_13)"
     ],
     "language": "python",
     "metadata": {},
     "outputs": [
      {
       "output_type": "stream",
       "stream": "stdout",
       "text": [
        "1 ((fantasy_pts_per_game * (((team_poss_per_game + other_poss_per_game) / 2.0) / team_poss_per_game)) + ((-0.3 & (player_rest == 1.0)) | 0.0))\n",
        "2 (((fantasy_pts_per_game * (((team_poss_per_game + other_poss_per_game) / 2.0) / team_poss_per_game)) + ((-0.3 & (player_rest == 1.0)) | 0.0)) + ((0.5 & is_home) | 0.0))\n",
        "3 (((((pts_per_game + (1.5 * ast_per_game)) * (other_def_rating_per_game / 1.041)) + (((1.2 * trb_per_game) + (2.0 * (blk_per_game + stl_per_game))) - tov_per_game)) * (((team_poss_per_game + other_poss_per_game) / 2.0) / team_poss_per_game)) + ((0.5 & is_home) | 0.0))\n",
        "248.8\t\t248.7\t\t254.7\t\tmedian"
       ]
      },
      {
       "output_type": "stream",
       "stream": "stdout",
       "text": [
        "\n",
        "249.7\t\t250.0\t\t255.0\t\tmean\n",
        " \t1           \t2           \t3          \n",
        "1\t    XXX     \t62 : 66 (26)\t56 : 90 (8)\n",
        "2\t66 : 62 (26)\t    XXX     \t61 : 86 (7)\n",
        "3\t90 : 56 (8) \t86 : 61 (7) \t    XXX    \n"
       ]
      }
     ],
     "prompt_number": 47
    },
    {
     "cell_type": "code",
     "collapsed": false,
     "input": [
      "fanduel_analysis.CheckVirtualFDGames([expr4, expr6, cumulative_score_with_home],\n",
      "                                     DF_15)"
     ],
     "language": "python",
     "metadata": {},
     "outputs": [
      {
       "output_type": "stream",
       "stream": "stdout",
       "text": [
        "1 ((fantasy_pts_per_game * (((team_poss_per_game + other_poss_per_game) / 2.0) / team_poss_per_game)) + ((-0.3 & (player_rest == 1.0)) | 0.0))\n",
        "2 (((fantasy_pts_per_game * (((team_poss_per_game + other_poss_per_game) / 2.0) / team_poss_per_game)) + ((-0.3 & (player_rest == 1.0)) | 0.0)) + ((0.5 & is_home) | 0.0))\n",
        "3 (((((pts_per_game + (1.5 * ast_per_game)) * (other_def_rating_per_game / 1.041)) + (((1.2 * trb_per_game) + (2.0 * (blk_per_game + stl_per_game))) - tov_per_game)) * (((team_poss_per_game + other_poss_per_game) / 2.0) / team_poss_per_game)) + ((0.5 & is_home) | 0.0))\n",
        "244.2\t\t242.2\t\t244.7\t\tmedian"
       ]
      },
      {
       "output_type": "stream",
       "stream": "stdout",
       "text": [
        "\n",
        "241.9\t\t238.7\t\t240.5\t\tmean\n",
        " \t1           \t2           \t3          \n",
        "1\t    XXX     \t16 : 15 (11)\t22 : 17 (3)\n",
        "2\t15 : 16 (11)\t    XXX     \t19 : 21 (2)\n",
        "3\t17 : 22 (3) \t21 : 19 (2) \t    XXX    \n"
       ]
      }
     ],
     "prompt_number": 48
    },
    {
     "cell_type": "code",
     "collapsed": false,
     "input": [
      "fanduel_analysis.CheckAllFDGames([expr4, expr6, cumulative_score_with_home],\n",
      "                                 DF_15)"
     ],
     "language": "python",
     "metadata": {},
     "outputs": [
      {
       "output_type": "stream",
       "stream": "stdout",
       "text": [
        "1 ((fantasy_pts_per_game * (((team_poss_per_game + other_poss_per_game) / 2.0) / team_poss_per_game)) + ((-0.3 & (player_rest == 1.0)) | 0.0))\n",
        "2 (((fantasy_pts_per_game * (((team_poss_per_game + other_poss_per_game) / 2.0) / team_poss_per_game)) + ((-0.3 & (player_rest == 1.0)) | 0.0)) + ((0.5 & is_home) | 0.0))\n",
        "3 (((((pts_per_game + (1.5 * ast_per_game)) * (other_def_rating_per_game / 1.041)) + (((1.2 * trb_per_game) + (2.0 * (blk_per_game + stl_per_game))) - tov_per_game)) * (((team_poss_per_game + other_poss_per_game) / 2.0) / team_poss_per_game)) + ((0.5 & is_home) | 0.0))\n",
        "231.7\t\t231.7\t\t244.5\t\tmedian"
       ]
      },
      {
       "output_type": "stream",
       "stream": "stdout",
       "text": [
        "\n",
        "200.8\t\t202.6\t\t206.4\t\tmean\n",
        " \t1         \t2         \t3         \n",
        "1\t    XXX   \t6 : 5 (19)\t7 : 14 (9)\n",
        "2\t5 : 6 (19)\t    XXX   \t7 : 14 (9)\n",
        "3\t14 : 7 (9)\t14 : 7 (9)\t    XXX   \n"
       ]
      }
     ],
     "prompt_number": 49
    },
    {
     "cell_type": "code",
     "collapsed": false,
     "input": [
      "from sklearn import linear_model"
     ],
     "language": "python",
     "metadata": {},
     "outputs": [],
     "prompt_number": 50
    },
    {
     "cell_type": "code",
     "collapsed": false,
     "input": [
      "linear = linear_model.LinearRegression()"
     ],
     "language": "python",
     "metadata": {},
     "outputs": [],
     "prompt_number": 210
    },
    {
     "cell_type": "code",
     "collapsed": false,
     "input": [
      "signal_names = ['pts_per_game', 'trb_per_game', 'ast_per_game', 'tov_per_game', \n",
      "     'stl_per_game', 'blk_per_game', 'minutes_per_game']"
     ],
     "language": "python",
     "metadata": {},
     "outputs": [],
     "prompt_number": 93
    },
    {
     "cell_type": "code",
     "collapsed": false,
     "input": [
      "linear = linear_model.LinearRegression()\n",
      "df = fanduel_analysis.ENOUGH_DATA.Filter(DF_14)\n",
      "target = df.fantasy_pts\n",
      "signals = [df[name] for name in signal_names]\n"
     ],
     "language": "python",
     "metadata": {},
     "outputs": [],
     "prompt_number": 108
    },
    {
     "cell_type": "code",
     "collapsed": false,
     "input": [
      "input_data = zip(*signals)"
     ],
     "language": "python",
     "metadata": {},
     "outputs": [],
     "prompt_number": 109
    },
    {
     "cell_type": "code",
     "collapsed": false,
     "input": [
      "linear = linear.fit(input_data, target)"
     ],
     "language": "python",
     "metadata": {},
     "outputs": [],
     "prompt_number": 211
    },
    {
     "cell_type": "code",
     "collapsed": false,
     "input": [
      "model.coef_"
     ],
     "language": "python",
     "metadata": {},
     "outputs": [
      {
       "metadata": {},
       "output_type": "pyout",
       "prompt_number": 85,
       "text": [
        "array([ 0.95318288,  1.15594508,  1.2968328 ,  0.03014306,  1.08273321,\n",
        "        1.69906563, -0.15694137])"
       ]
      }
     ],
     "prompt_number": 85
    },
    {
     "cell_type": "code",
     "collapsed": false,
     "input": [
      "ridge = linear_model.Ridge(alpha =.1)"
     ],
     "language": "python",
     "metadata": {},
     "outputs": [],
     "prompt_number": 112
    },
    {
     "cell_type": "code",
     "collapsed": false,
     "input": [
      "ridge_model = ridge.fit(input_data, target)"
     ],
     "language": "python",
     "metadata": {},
     "outputs": [],
     "prompt_number": 113
    },
    {
     "cell_type": "code",
     "collapsed": false,
     "input": [
      "ridge_model.coef_"
     ],
     "language": "python",
     "metadata": {},
     "outputs": [
      {
       "metadata": {},
       "output_type": "pyout",
       "prompt_number": 88,
       "text": [
        "array([ 0.95317187,  1.15596165,  1.29679782,  0.0302169 ,  1.08255558,\n",
        "        1.69879851, -0.15692727])"
       ]
      }
     ],
     "prompt_number": 88
    },
    {
     "cell_type": "code",
     "collapsed": false,
     "input": [
      "from sklearn import svm"
     ],
     "language": "python",
     "metadata": {},
     "outputs": [],
     "prompt_number": 89
    },
    {
     "cell_type": "code",
     "collapsed": false,
     "input": [
      "svm_learner = svm.SVR()"
     ],
     "language": "python",
     "metadata": {},
     "outputs": [],
     "prompt_number": 90
    },
    {
     "cell_type": "code",
     "collapsed": false,
     "input": [
      "svm_model = svm_learner.fit(input_data, target)"
     ],
     "language": "python",
     "metadata": {},
     "outputs": [],
     "prompt_number": 91
    },
    {
     "cell_type": "code",
     "collapsed": false,
     "input": [
      "svm_model.predict(DF_14[signal_names])"
     ],
     "language": "python",
     "metadata": {},
     "outputs": [
      {
       "metadata": {},
       "output_type": "pyout",
       "prompt_number": 95,
       "text": [
        "array([ 25.41924445,  25.41924445,  25.41924445, ...,  15.94142917,\n",
        "        18.31872487,  24.06642663])"
       ]
      }
     ],
     "prompt_number": 95
    },
    {
     "cell_type": "code",
     "collapsed": false,
     "input": [
      "df_copy_14 = fanduel_analysis.ENOUGH_DATA.Filter(DF_14)\n",
      "df_copy_15 = fanduel_analysis.ENOUGH_DATA.Filter(DF_15)"
     ],
     "language": "python",
     "metadata": {},
     "outputs": [],
     "prompt_number": 99
    },
    {
     "cell_type": "code",
     "collapsed": false,
     "input": [
      "df_copy_14['svm_model'] = svm_model.predict(df_copy_14[signal_names])"
     ],
     "language": "python",
     "metadata": {},
     "outputs": [],
     "prompt_number": 100
    },
    {
     "cell_type": "code",
     "collapsed": false,
     "input": [
      "df_copy_15['svm_model'] = svm_model.predict(df_copy_15[signal_names])"
     ],
     "language": "python",
     "metadata": {},
     "outputs": [],
     "prompt_number": 101
    },
    {
     "cell_type": "code",
     "collapsed": false,
     "input": [
      "df_copy_14['ridge_model'] = ridge_model.predict(df_copy_14[signal_names])\n",
      "df_copy_15['ridge_model'] = ridge_model.predict(df_copy_15[signal_names])"
     ],
     "language": "python",
     "metadata": {},
     "outputs": [],
     "prompt_number": 102
    },
    {
     "cell_type": "code",
     "collapsed": false,
     "input": [
      "df_copy_14['linear_model'] = model.predict(df_copy_14[signal_names])\n",
      "df_copy_15['linear_model'] = model.predict(df_copy_15[signal_names])"
     ],
     "language": "python",
     "metadata": {},
     "outputs": [],
     "prompt_number": 103
    },
    {
     "cell_type": "code",
     "collapsed": false,
     "input": [
      "fanduel_analysis.CheckVirtualFDGames(\n",
      "    [Leaf('linear_model'), Leaf('svm_model'), cumulative_score],\n",
      "     df_copy_14)"
     ],
     "language": "python",
     "metadata": {},
     "outputs": [
      {
       "output_type": "stream",
       "stream": "stdout",
       "text": [
        "1 linear_model\n",
        "2 svm_model\n",
        "3 ((((pts_per_game + (1.5 * ast_per_game)) * (other_def_rating_per_game / 1.041)) + (((1.2 * trb_per_game) + (2.0 * (blk_per_game + stl_per_game))) - tov_per_game)) * (((team_poss_per_game + other_poss_per_game) / 2.0) / team_poss_per_game))\n",
        "250.2\t\t274.2\t\t261.0\t\tmedian"
       ]
      },
      {
       "output_type": "stream",
       "stream": "stdout",
       "text": [
        "\n",
        "249.2\t\t273.8\t\t259.7\t\tmean\n",
        " \t1           \t2           \t3          \n",
        "1\t    XXX     \t33 : 117 (3)\t62 : 88 (3)\n",
        "2\t117 : 33 (3)\t    XXX     \t94 : 58 (1)\n",
        "3\t88 : 62 (3) \t58 : 94 (1) \t    XXX    \n"
       ]
      }
     ],
     "prompt_number": 114
    },
    {
     "cell_type": "code",
     "collapsed": false,
     "input": [
      "fanduel_analysis.CheckVirtualFDGames(\n",
      "    [Leaf('linear_model'), Leaf('svm_model'), cumulative_score],\n",
      "     df_copy_15)"
     ],
     "language": "python",
     "metadata": {},
     "outputs": [
      {
       "output_type": "stream",
       "stream": "stdout",
       "text": [
        "1 linear_model\n",
        "2 svm_model\n",
        "3 ((((pts_per_game + (1.5 * ast_per_game)) * (other_def_rating_per_game / 1.041)) + (((1.2 * trb_per_game) + (2.0 * (blk_per_game + stl_per_game))) - tov_per_game)) * (((team_poss_per_game + other_poss_per_game) / 2.0) / team_poss_per_game))\n",
        "255.9\t\t238.2\t\t247.3\t\tmedian"
       ]
      },
      {
       "output_type": "stream",
       "stream": "stdout",
       "text": [
        "\n",
        "254.9\t\t243.0\t\t244.0\t\tmean\n",
        " \t1          \t2          \t3          \n",
        "1\t    XXX    \t24 : 16 (1)\t28 : 13 (0)\n",
        "2\t16 : 24 (1)\t    XXX    \t21 : 20 (0)\n",
        "3\t13 : 28 (0)\t20 : 21 (0)\t    XXX    \n"
       ]
      }
     ],
     "prompt_number": 115
    },
    {
     "cell_type": "code",
     "collapsed": false,
     "input": [
      "DF_15['linear_model'] = model.predict(DF_15[signal_names])\n",
      "fanduel_analysis.CheckAllFDGames([expr4, Leaf('linear_model'), cumulative_score_with_home],\n",
      "                                 DF_15)"
     ],
     "language": "python",
     "metadata": {},
     "outputs": [
      {
       "output_type": "stream",
       "stream": "stdout",
       "text": [
        "1 ((fantasy_pts_per_game * (((team_poss_per_game + other_poss_per_game) / 2.0) / team_poss_per_game)) + ((-0.3 & (player_rest == 1.0)) | 0.0))\n",
        "2 linear_model\n",
        "3 (((((pts_per_game + (1.5 * ast_per_game)) * (other_def_rating_per_game / 1.041)) + (((1.2 * trb_per_game) + (2.0 * (blk_per_game + stl_per_game))) - tov_per_game)) * (((team_poss_per_game + other_poss_per_game) / 2.0) / team_poss_per_game)) + ((0.5 & is_home) | 0.0))\n",
        "231.7\t\t236.6\t\t244.5\t\tmedian"
       ]
      },
      {
       "output_type": "stream",
       "stream": "stdout",
       "text": [
        "\n",
        "200.8\t\t205.6\t\t206.4\t\tmean\n",
        " \t1         \t2         \t3         \n",
        "1\t    XXX   \t8 : 14 (8)\t7 : 14 (9)\n",
        "2\t14 : 8 (8)\t    XXX   \t12 : 9 (9)\n",
        "3\t14 : 7 (9)\t9 : 12 (9)\t    XXX   \n"
       ]
      }
     ],
     "prompt_number": 116
    },
    {
     "cell_type": "code",
     "collapsed": false,
     "input": [
      "DF_13['linear_model'] = model.predict(DF_13[signal_names])\n",
      "fanduel_analysis.CheckVirtualFDGames([expr4, Leaf('linear_model'), cumulative_score_with_home],\n",
      "                                 DF_13)"
     ],
     "language": "python",
     "metadata": {},
     "outputs": [
      {
       "output_type": "stream",
       "stream": "stdout",
       "text": [
        "1 ((fantasy_pts_per_game * (((team_poss_per_game + other_poss_per_game) / 2.0) / team_poss_per_game)) + ((-0.3 & (player_rest == 1.0)) | 0.0))\n",
        "2 linear_model\n",
        "3 (((((pts_per_game + (1.5 * ast_per_game)) * (other_def_rating_per_game / 1.041)) + (((1.2 * trb_per_game) + (2.0 * (blk_per_game + stl_per_game))) - tov_per_game)) * (((team_poss_per_game + other_poss_per_game) / 2.0) / team_poss_per_game)) + ((0.5 & is_home) | 0.0))\n",
        "248.8\t\t252.9\t\t254.7\t\tmedian"
       ]
      },
      {
       "output_type": "stream",
       "stream": "stdout",
       "text": [
        "\n",
        "249.7\t\t252.6\t\t255.0\t\tmean\n",
        " \t1          \t2          \t3          \n",
        "1\t    XXX    \t68 : 84 (2)\t56 : 90 (8)\n",
        "2\t84 : 68 (2)\t    XXX    \t69 : 85 (0)\n",
        "3\t90 : 56 (8)\t85 : 69 (0)\t    XXX    \n"
       ]
      }
     ],
     "prompt_number": 126
    },
    {
     "cell_type": "code",
     "collapsed": false,
     "input": [
      "DF_12['linear_model'] = model.predict(DF_12[signal_names])\n",
      "fanduel_analysis.CheckVirtualFDGames([expr4, Leaf('linear_model'), cumulative_score_with_home],\n",
      "                                     DF_12)"
     ],
     "language": "python",
     "metadata": {},
     "outputs": [
      {
       "output_type": "stream",
       "stream": "stdout",
       "text": [
        "1 ((fantasy_pts_per_game * (((team_poss_per_game + other_poss_per_game) / 2.0) / team_poss_per_game)) + ((-0.3 & (player_rest == 1.0)) | 0.0))\n",
        "2 linear_model\n",
        "3 (((((pts_per_game + (1.5 * ast_per_game)) * (other_def_rating_per_game / 1.041)) + (((1.2 * trb_per_game) + (2.0 * (blk_per_game + stl_per_game))) - tov_per_game)) * (((team_poss_per_game + other_poss_per_game) / 2.0) / team_poss_per_game)) + ((0.5 & is_home) | 0.0))\n",
        "245.0\t\t260.7\t\t258.4\t\tmedian"
       ]
      },
      {
       "output_type": "stream",
       "stream": "stdout",
       "text": [
        "\n",
        "248.3\t\t259.1\t\t261.3\t\tmean\n",
        " \t1          \t2          \t3          \n",
        "1\t    XXX    \t45 : 65 (1)\t37 : 72 (2)\n",
        "2\t65 : 45 (1)\t    XXX    \t50 : 60 (1)\n",
        "3\t72 : 37 (2)\t60 : 50 (1)\t    XXX    \n"
       ]
      }
     ],
     "prompt_number": 125
    },
    {
     "cell_type": "code",
     "collapsed": false,
     "input": [
      "DF_11['linear_model'] = model.predict(DF_11[signal_names])\n",
      "fanduel_analysis.CheckVirtualFDGames([expr4, Leaf('linear_model'), cumulative_score_with_home],\n",
      "                                     DF_11)"
     ],
     "language": "python",
     "metadata": {},
     "outputs": [
      {
       "output_type": "stream",
       "stream": "stdout",
       "text": [
        "1 ((fantasy_pts_per_game * (((team_poss_per_game + other_poss_per_game) / 2.0) / team_poss_per_game)) + ((-0.3 & (player_rest == 1.0)) | 0.0))\n",
        "2 linear_model\n",
        "3 (((((pts_per_game + (1.5 * ast_per_game)) * (other_def_rating_per_game / 1.041)) + (((1.2 * trb_per_game) + (2.0 * (blk_per_game + stl_per_game))) - tov_per_game)) * (((team_poss_per_game + other_poss_per_game) / 2.0) / team_poss_per_game)) + ((0.5 & is_home) | 0.0))\n",
        "249.2\t\t253.2\t\t256.3\t\tmedian"
       ]
      },
      {
       "output_type": "stream",
       "stream": "stdout",
       "text": [
        "\n",
        "252.5\t\t253.8\t\t258.2\t\tmean\n",
        " \t1           \t2          \t3           \n",
        "1\t    XXX     \t73 : 81 (1)\t61 : 81 (13)\n",
        "2\t81 : 73 (1) \t    XXX    \t74 : 80 (1) \n",
        "3\t81 : 61 (13)\t80 : 74 (1)\t    XXX     \n"
       ]
      }
     ],
     "prompt_number": 127
    },
    {
     "cell_type": "code",
     "collapsed": false,
     "input": [
      "zip(model.coef_, signal_names)"
     ],
     "language": "python",
     "metadata": {},
     "outputs": [
      {
       "metadata": {},
       "output_type": "pyout",
       "prompt_number": 140,
       "text": [
        "[(0.95318287940838009, 'pts_per_game'),\n",
        " (1.155945083052184, 'trb_per_game'),\n",
        " (1.2968327981771983, 'ast_per_game'),\n",
        " (0.030143064337053993, 'tov_per_game'),\n",
        " (1.0827332065850979, 'stl_per_game'),\n",
        " (1.6990656314058334, 'blk_per_game'),\n",
        " (-0.15694137405438213, 'minutes_per_game')]"
       ]
      }
     ],
     "prompt_number": 140
    },
    {
     "cell_type": "code",
     "collapsed": false,
     "input": [
      "coef = list(model.coef_)\n",
      "model.predict(DF_11[signal_names])"
     ],
     "language": "python",
     "metadata": {},
     "outputs": [
      {
       "metadata": {},
       "output_type": "pyout",
       "prompt_number": 134,
       "text": [
        "array([  5.68731028,   5.68731028,   5.68731028, ...,  31.91386682,\n",
        "        22.69642978,  15.09305881])"
       ]
      }
     ],
     "prompt_number": 134
    },
    {
     "cell_type": "code",
     "collapsed": false,
     "input": [
      "new_model = linear_model.LinearRegression().fit(input_data, target)"
     ],
     "language": "python",
     "metadata": {},
     "outputs": [],
     "prompt_number": 142
    },
    {
     "cell_type": "code",
     "collapsed": false,
     "input": [
      "new_model.coef_[-1] = 0"
     ],
     "language": "python",
     "metadata": {},
     "outputs": [],
     "prompt_number": 144
    },
    {
     "cell_type": "code",
     "collapsed": false,
     "input": [],
     "language": "python",
     "metadata": {},
     "outputs": []
    },
    {
     "cell_type": "code",
     "collapsed": false,
     "input": [
      "linear.predict(df[signal])"
     ],
     "language": "python",
     "metadata": {},
     "outputs": []
    },
    {
     "cell_type": "code",
     "collapsed": false,
     "input": [
      "def Compare(df, **kwargs):\n",
      "    signals = [df[name] for name in signal_names]\n",
      "    for name, mm in kwargs.iteritems():\n",
      "      df[name] = mm.predict(zip(*signals))\n",
      "    fanduel_analysis.CheckVirtualFDGames(\n",
      "        [Leaf(name) for name in kwargs] + [expr4, cumulative_score_with_home],\n",
      "        df)"
     ],
     "language": "python",
     "metadata": {},
     "outputs": [],
     "prompt_number": 233
    },
    {
     "cell_type": "code",
     "collapsed": false,
     "input": [
      "Compare(DF_11, improved=new_model, trained=model)"
     ],
     "language": "python",
     "metadata": {},
     "outputs": [
      {
       "output_type": "stream",
       "stream": "stdout",
       "text": [
        "1 improved\n",
        "2 trained\n",
        "3 ((fantasy_pts_per_game * (((team_poss_per_game + other_poss_per_game) / 2.0) / team_poss_per_game)) + ((-0.3 & (player_rest == 1.0)) | 0.0))\n",
        "4 (((((pts_per_game + (1.5 * ast_per_game)) * (other_def_rating_per_game / 1.041)) + (((1.2 * trb_per_game) + (2.0 * (blk_per_game + stl_per_game))) - tov_per_game)) * (((team_poss_per_game + other_poss_per_game) / 2.0) / team_poss_per_game)) + ((0.5 & is_home) | 0.0))\n",
        "248.3\t\t253.2\t\t249.2\t\t256.3\t\tmedian"
       ]
      },
      {
       "output_type": "stream",
       "stream": "stdout",
       "text": [
        "\n",
        "250.1\t\t253.8\t\t252.5\t\t258.2\t\tmean\n",
        " \t1           \t2           \t3           \t4           \n",
        "1\t    XXX     \t64 : 79 (12)\t69 : 84 (2) \t66 : 85 (4) \n",
        "2\t79 : 64 (12)\t    XXX     \t81 : 73 (1) \t74 : 80 (1) \n",
        "3\t84 : 69 (2) \t73 : 81 (1) \t    XXX     \t61 : 81 (13)\n",
        "4\t85 : 66 (4) \t80 : 74 (1) \t81 : 61 (13)\t    XXX     \n"
       ]
      }
     ],
     "prompt_number": 146
    },
    {
     "cell_type": "code",
     "collapsed": false,
     "input": [
      "Compare(DF_12, improved=new_model, trained=model)"
     ],
     "language": "python",
     "metadata": {},
     "outputs": [
      {
       "output_type": "stream",
       "stream": "stdout",
       "text": [
        "1 improved\n",
        "2 trained\n",
        "3 ((fantasy_pts_per_game * (((team_poss_per_game + other_poss_per_game) / 2.0) / team_poss_per_game)) + ((-0.3 & (player_rest == 1.0)) | 0.0))\n",
        "4 (((((pts_per_game + (1.5 * ast_per_game)) * (other_def_rating_per_game / 1.041)) + (((1.2 * trb_per_game) + (2.0 * (blk_per_game + stl_per_game))) - tov_per_game)) * (((team_poss_per_game + other_poss_per_game) / 2.0) / team_poss_per_game)) + ((0.5 & is_home) | 0.0))\n",
        "254.6\t\t260.7\t\t245.0\t\t258.4\t\tmedian"
       ]
      },
      {
       "output_type": "stream",
       "stream": "stdout",
       "text": [
        "\n",
        "255.2\t\t259.1\t\t248.3\t\t261.3\t\tmean\n",
        " \t1          \t2          \t3          \t4          \n",
        "1\t    XXX    \t47 : 61 (3)\t62 : 48 (1)\t46 : 65 (0)\n",
        "2\t61 : 47 (3)\t    XXX    \t65 : 45 (1)\t50 : 60 (1)\n",
        "3\t48 : 62 (1)\t45 : 65 (1)\t    XXX    \t37 : 72 (2)\n",
        "4\t65 : 46 (0)\t60 : 50 (1)\t72 : 37 (2)\t    XXX    \n"
       ]
      }
     ],
     "prompt_number": 147
    },
    {
     "cell_type": "code",
     "collapsed": false,
     "input": [
      "Compare(DF_13, improved=new_model, trained=model)"
     ],
     "language": "python",
     "metadata": {},
     "outputs": [
      {
       "output_type": "stream",
       "stream": "stdout",
       "text": [
        "1 improved\n",
        "2 trained\n",
        "3 ((fantasy_pts_per_game * (((team_poss_per_game + other_poss_per_game) / 2.0) / team_poss_per_game)) + ((-0.3 & (player_rest == 1.0)) | 0.0))\n",
        "4 (((((pts_per_game + (1.5 * ast_per_game)) * (other_def_rating_per_game / 1.041)) + (((1.2 * trb_per_game) + (2.0 * (blk_per_game + stl_per_game))) - tov_per_game)) * (((team_poss_per_game + other_poss_per_game) / 2.0) / team_poss_per_game)) + ((0.5 & is_home) | 0.0))\n",
        "247.9\t\t252.9\t\t248.8\t\t254.7\t\tmedian"
       ]
      },
      {
       "output_type": "stream",
       "stream": "stdout",
       "text": [
        "\n",
        "247.2\t\t252.6\t\t249.7\t\t255.0\t\tmean\n",
        " \t1          \t2          \t3          \t4          \n",
        "1\t    XXX    \t64 : 86 (4)\t77 : 77 (0)\t66 : 87 (1)\n",
        "2\t86 : 64 (4)\t    XXX    \t84 : 68 (2)\t69 : 85 (0)\n",
        "3\t77 : 77 (0)\t68 : 84 (2)\t    XXX    \t56 : 90 (8)\n",
        "4\t87 : 66 (1)\t85 : 69 (0)\t90 : 56 (8)\t    XXX    \n"
       ]
      }
     ],
     "prompt_number": 148
    },
    {
     "cell_type": "code",
     "collapsed": false,
     "input": [
      "Compare(DF_14, improved=new_model, trained=model)\n"
     ],
     "language": "python",
     "metadata": {},
     "outputs": [
      {
       "output_type": "stream",
       "stream": "stdout",
       "text": [
        "1 improved\n",
        "2 trained\n",
        "3 ((fantasy_pts_per_game * (((team_poss_per_game + other_poss_per_game) / 2.0) / team_poss_per_game)) + ((-0.3 & (player_rest == 1.0)) | 0.0))\n",
        "4 (((((pts_per_game + (1.5 * ast_per_game)) * (other_def_rating_per_game / 1.041)) + (((1.2 * trb_per_game) + (2.0 * (blk_per_game + stl_per_game))) - tov_per_game)) * (((team_poss_per_game + other_poss_per_game) / 2.0) / team_poss_per_game)) + ((0.5 & is_home) | 0.0))\n",
        "245.7\t\t249.8\t\t259.0\t\t260.9\t\tmedian"
       ]
      },
      {
       "output_type": "stream",
       "stream": "stdout",
       "text": [
        "\n",
        "244.7\t\t249.2\t\t256.3\t\t258.9\t\tmean\n",
        " \t1          \t2          \t3           \t4           \n",
        "1\t    XXX    \t72 : 76 (6)\t54 : 98 (2) \t53 : 98 (3) \n",
        "2\t76 : 72 (6)\t    XXX    \t60 : 92 (2) \t55 : 97 (2) \n",
        "3\t98 : 54 (2)\t92 : 60 (2)\t    XXX     \t70 : 74 (10)\n",
        "4\t98 : 53 (3)\t97 : 55 (2)\t74 : 70 (10)\t    XXX     \n"
       ]
      }
     ],
     "prompt_number": 149
    },
    {
     "cell_type": "code",
     "collapsed": false,
     "input": [
      "Compare(DF_15, improved=new_model, trained=model)"
     ],
     "language": "python",
     "metadata": {},
     "outputs": [
      {
       "output_type": "stream",
       "stream": "stdout",
       "text": [
        "1 improved\n",
        "2 trained\n",
        "3 ((fantasy_pts_per_game * (((team_poss_per_game + other_poss_per_game) / 2.0) / team_poss_per_game)) + ((-0.3 & (player_rest == 1.0)) | 0.0))\n",
        "4 (((((pts_per_game + (1.5 * ast_per_game)) * (other_def_rating_per_game / 1.041)) + (((1.2 * trb_per_game) + (2.0 * (blk_per_game + stl_per_game))) - tov_per_game)) * (((team_poss_per_game + other_poss_per_game) / 2.0) / team_poss_per_game)) + ((0.5 & is_home) | 0.0))\n",
        "246.6\t\t255.4\t\t244.2\t\t244.7\t\tmedian"
       ]
      },
      {
       "output_type": "stream",
       "stream": "stdout",
       "text": [
        "\n",
        "251.9\t\t253.8\t\t241.9\t\t240.5\t\tmean\n",
        " \t1          \t2          \t3          \t4          \n",
        "1\t    XXX    \t18 : 20 (4)\t27 : 14 (1)\t25 : 16 (1)\n",
        "2\t20 : 18 (4)\t    XXX    \t28 : 14 (0)\t31 : 11 (0)\n",
        "3\t14 : 27 (1)\t14 : 28 (0)\t    XXX    \t22 : 17 (3)\n",
        "4\t16 : 25 (1)\t11 : 31 (0)\t17 : 22 (3)\t    XXX    \n"
       ]
      }
     ],
     "prompt_number": 150
    },
    {
     "cell_type": "code",
     "collapsed": false,
     "input": [
      "from sklearn import ensemble"
     ],
     "language": "python",
     "metadata": {},
     "outputs": [],
     "prompt_number": 151
    },
    {
     "cell_type": "code",
     "collapsed": false,
     "input": [
      "forest = ensemble.RandomForestRegressor(\n",
      "    n_estimators=50, max_depth=1, min_samples_leaf=20, min_samples_split=40)"
     ],
     "language": "python",
     "metadata": {},
     "outputs": [],
     "prompt_number": 152
    },
    {
     "cell_type": "code",
     "collapsed": false,
     "input": [
      "forest_model = forest.fit(input_data, target)"
     ],
     "language": "python",
     "metadata": {},
     "outputs": [],
     "prompt_number": 153
    },
    {
     "cell_type": "code",
     "collapsed": false,
     "input": [
      "Compare(DF_15, forest=forest_model, trained=model)"
     ],
     "language": "python",
     "metadata": {},
     "outputs": [
      {
       "output_type": "stream",
       "stream": "stdout",
       "text": [
        "1 forest\n",
        "2 trained\n",
        "3 ((fantasy_pts_per_game * (((team_poss_per_game + other_poss_per_game) / 2.0) / team_poss_per_game)) + ((-0.3 & (player_rest == 1.0)) | 0.0))\n",
        "4 (((((pts_per_game + (1.5 * ast_per_game)) * (other_def_rating_per_game / 1.041)) + (((1.2 * trb_per_game) + (2.0 * (blk_per_game + stl_per_game))) - tov_per_game)) * (((team_poss_per_game + other_poss_per_game) / 2.0) / team_poss_per_game)) + ((0.5 & is_home) | 0.0))\n",
        "237.8\t\t255.4\t\t244.2\t\t244.7\t\tmedian"
       ]
      },
      {
       "output_type": "stream",
       "stream": "stdout",
       "text": [
        "\n",
        "234.5\t\t253.8\t\t241.9\t\t240.5\t\tmean\n",
        " \t1          \t2          \t3          \t4          \n",
        "1\t    XXX    \t14 : 28 (0)\t19 : 22 (1)\t18 : 23 (1)\n",
        "2\t28 : 14 (0)\t    XXX    \t28 : 14 (0)\t31 : 11 (0)\n",
        "3\t22 : 19 (1)\t14 : 28 (0)\t    XXX    \t22 : 17 (3)\n",
        "4\t23 : 18 (1)\t11 : 31 (0)\t17 : 22 (3)\t    XXX    \n"
       ]
      }
     ],
     "prompt_number": 154
    },
    {
     "cell_type": "code",
     "collapsed": false,
     "input": [
      "models = [('model_%d' % n, m) for n, m in models]"
     ],
     "language": "python",
     "metadata": {},
     "outputs": [],
     "prompt_number": 159
    },
    {
     "cell_type": "code",
     "collapsed": false,
     "input": [
      "Compare(DF_11, **dict(models))\n",
      "Compare(DF_12, **dict(models))\n",
      "Compare(DF_13, **dict(models))\n",
      "Compare(DF_14, **dict(models))"
     ],
     "language": "python",
     "metadata": {},
     "outputs": [
      {
       "output_type": "stream",
       "stream": "stdout",
       "text": [
        "1 model_50\n",
        "2 model_75\n",
        "3 model_10\n",
        "4 model_100\n",
        "5 model_25\n",
        "6 ((fantasy_pts_per_game * (((team_poss_per_game + other_poss_per_game) / 2.0) / team_poss_per_game)) + ((-0.3 & (player_rest == 1.0)) | 0.0))\n",
        "7 (((((pts_per_game + (1.5 * ast_per_game)) * (other_def_rating_per_game / 1.041)) + (((1.2 * trb_per_game) + (2.0 * (blk_per_game + stl_per_game))) - tov_per_game)) * (((team_poss_per_game + other_poss_per_game) / 2.0) / team_poss_per_game)) + ((0.5 & is_home) | 0.0))\n"
       ]
      },
      {
       "ename": "KeyboardInterrupt",
       "evalue": "",
       "output_type": "pyerr",
       "traceback": [
        "\u001b[1;31m---------------------------------------------------------------------------\u001b[0m\n\u001b[1;31mKeyboardInterrupt\u001b[0m                         Traceback (most recent call last)",
        "\u001b[1;32m<ipython-input-162-fa2f4a1b13f5>\u001b[0m in \u001b[0;36m<module>\u001b[1;34m()\u001b[0m\n\u001b[1;32m----> 1\u001b[1;33m \u001b[0mCompare\u001b[0m\u001b[1;33m(\u001b[0m\u001b[0mDF_11\u001b[0m\u001b[1;33m,\u001b[0m \u001b[1;33m**\u001b[0m\u001b[0mdict\u001b[0m\u001b[1;33m(\u001b[0m\u001b[0mmodels\u001b[0m\u001b[1;33m)\u001b[0m\u001b[1;33m)\u001b[0m\u001b[1;33m\u001b[0m\u001b[0m\n\u001b[0m\u001b[0;32m      2\u001b[0m \u001b[0mCompare\u001b[0m\u001b[1;33m(\u001b[0m\u001b[0mDF_12\u001b[0m\u001b[1;33m,\u001b[0m \u001b[1;33m**\u001b[0m\u001b[0mdict\u001b[0m\u001b[1;33m(\u001b[0m\u001b[0mmodels\u001b[0m\u001b[1;33m)\u001b[0m\u001b[1;33m)\u001b[0m\u001b[1;33m\u001b[0m\u001b[0m\n\u001b[0;32m      3\u001b[0m \u001b[0mCompare\u001b[0m\u001b[1;33m(\u001b[0m\u001b[0mDF_13\u001b[0m\u001b[1;33m,\u001b[0m \u001b[1;33m**\u001b[0m\u001b[0mdict\u001b[0m\u001b[1;33m(\u001b[0m\u001b[0mmodels\u001b[0m\u001b[1;33m)\u001b[0m\u001b[1;33m)\u001b[0m\u001b[1;33m\u001b[0m\u001b[0m\n\u001b[0;32m      4\u001b[0m \u001b[0mCompare\u001b[0m\u001b[1;33m(\u001b[0m\u001b[0mDF_14\u001b[0m\u001b[1;33m,\u001b[0m \u001b[1;33m**\u001b[0m\u001b[0mdict\u001b[0m\u001b[1;33m(\u001b[0m\u001b[0mmodels\u001b[0m\u001b[1;33m)\u001b[0m\u001b[1;33m)\u001b[0m\u001b[1;33m\u001b[0m\u001b[0m\n",
        "\u001b[1;32m<ipython-input-145-e83c6fec4ba7>\u001b[0m in \u001b[0;36mCompare\u001b[1;34m(df, **kwargs)\u001b[0m\n\u001b[0;32m      4\u001b[0m     fanduel_analysis.CheckVirtualFDGames(\n\u001b[0;32m      5\u001b[0m         \u001b[1;33m[\u001b[0m\u001b[0mLeaf\u001b[0m\u001b[1;33m(\u001b[0m\u001b[0mname\u001b[0m\u001b[1;33m)\u001b[0m \u001b[1;32mfor\u001b[0m \u001b[0mname\u001b[0m \u001b[1;32min\u001b[0m \u001b[0mkwargs\u001b[0m\u001b[1;33m]\u001b[0m \u001b[1;33m+\u001b[0m \u001b[1;33m[\u001b[0m\u001b[0mexpr4\u001b[0m\u001b[1;33m,\u001b[0m \u001b[0mcumulative_score_with_home\u001b[0m\u001b[1;33m]\u001b[0m\u001b[1;33m,\u001b[0m\u001b[1;33m\u001b[0m\u001b[0m\n\u001b[1;32m----> 6\u001b[1;33m         df)\n\u001b[0m",
        "\u001b[1;32mC:\\Coding\\FanDuel\\src\\analysis\\fanduel_analysis.pyc\u001b[0m in \u001b[0;36mCheckVirtualFDGames\u001b[1;34m(predictions, df, print_selections, df_filter, only_healthy, expr_real_result, expr_salaries_from)\u001b[0m\n\u001b[0;32m    126\u001b[0m   _CheckFDGames(_VirtualGamesGenerator(df, expr_salaries_from),\n\u001b[0;32m    127\u001b[0m                 \u001b[0mpredictions\u001b[0m\u001b[1;33m,\u001b[0m \u001b[0mdf\u001b[0m\u001b[1;33m,\u001b[0m \u001b[0mprint_selections\u001b[0m\u001b[1;33m=\u001b[0m\u001b[0mprint_selections\u001b[0m\u001b[1;33m,\u001b[0m\u001b[1;33m\u001b[0m\u001b[0m\n\u001b[1;32m--> 128\u001b[1;33m                 df_filter=df_filter, only_healthy=only_healthy, expr_real_result=expr_real_result)\n\u001b[0m\u001b[0;32m    129\u001b[0m \u001b[1;33m\u001b[0m\u001b[0m\n\u001b[0;32m    130\u001b[0m \u001b[1;33m\u001b[0m\u001b[0m\n",
        "\u001b[1;32mC:\\Coding\\FanDuel\\src\\analysis\\fanduel_analysis.pyc\u001b[0m in \u001b[0;36m_CheckFDGames\u001b[1;34m(fd_games_generator, predictions, df, print_selections, df_filter, only_healthy, expr_real_result)\u001b[0m\n\u001b[0;32m     73\u001b[0m     \u001b[0mresults_for_day\u001b[0m \u001b[1;33m=\u001b[0m \u001b[0mdict\u001b[0m\u001b[1;33m(\u001b[0m\u001b[0mitertools\u001b[0m\u001b[1;33m.\u001b[0m\u001b[0mizip\u001b[0m\u001b[1;33m(\u001b[0m\u001b[0mpid\u001b[0m\u001b[1;33m,\u001b[0m \u001b[0mexpr_real_result\u001b[0m\u001b[1;33m.\u001b[0m\u001b[0mEval\u001b[0m\u001b[1;33m(\u001b[0m\u001b[0mdf\u001b[0m\u001b[1;33m)\u001b[0m\u001b[1;33m[\u001b[0m\u001b[0mflt\u001b[0m\u001b[1;33m]\u001b[0m\u001b[1;33m)\u001b[0m\u001b[1;33m)\u001b[0m\u001b[1;33m\u001b[0m\u001b[0m\n\u001b[0;32m     74\u001b[0m     results = [Emulate(players_list, pred, results_for_day, print_selections=print_selections)\n\u001b[1;32m---> 75\u001b[1;33m                for pred in pred_for_day]\n\u001b[0m\u001b[0;32m     76\u001b[0m     \u001b[1;32mfor\u001b[0m \u001b[0mr\u001b[0m\u001b[1;33m,\u001b[0m \u001b[0mallr\u001b[0m \u001b[1;32min\u001b[0m \u001b[0mzip\u001b[0m\u001b[1;33m(\u001b[0m\u001b[0mresults\u001b[0m\u001b[1;33m,\u001b[0m \u001b[0mall_results\u001b[0m\u001b[1;33m)\u001b[0m\u001b[1;33m:\u001b[0m\u001b[1;33m\u001b[0m\u001b[0m\n\u001b[0;32m     77\u001b[0m       \u001b[0mallr\u001b[0m\u001b[1;33m.\u001b[0m\u001b[0mappend\u001b[0m\u001b[1;33m(\u001b[0m\u001b[0mr\u001b[0m\u001b[1;33m)\u001b[0m\u001b[1;33m\u001b[0m\u001b[0m\n",
        "\u001b[1;32mC:\\Coding\\FanDuel\\src\\analysis\\fanduel_analysis.pyc\u001b[0m in \u001b[0;36mEmulate\u001b[1;34m(fd_data, player_predictions, player_results, requests, salary_cap, print_selections)\u001b[0m\n\u001b[0;32m     28\u001b[0m     \u001b[0mpi\u001b[0m\u001b[1;33m.\u001b[0m\u001b[0mOverride\u001b[0m\u001b[1;33m(\u001b[0m\u001b[0mpts\u001b[0m\u001b[1;33m=\u001b[0m\u001b[0mplayer_predictions\u001b[0m\u001b[1;33m.\u001b[0m\u001b[0mget\u001b[0m\u001b[1;33m(\u001b[0m\u001b[0mpi\u001b[0m\u001b[1;33m.\u001b[0m\u001b[0mpid\u001b[0m\u001b[1;33m,\u001b[0m \u001b[1;36m0\u001b[0m\u001b[1;33m)\u001b[0m\u001b[1;33m)\u001b[0m\u001b[1;33m\u001b[0m\u001b[0m\n\u001b[0;32m     29\u001b[0m     for pi in fd_data]\n\u001b[1;32m---> 30\u001b[1;33m   \u001b[0mbest\u001b[0m \u001b[1;33m=\u001b[0m \u001b[0mknapsack\u001b[0m\u001b[1;33m.\u001b[0m\u001b[0mBestChoice\u001b[0m\u001b[1;33m(\u001b[0m\u001b[0mupdated_data\u001b[0m\u001b[1;33m,\u001b[0m \u001b[0mrequests\u001b[0m\u001b[1;33m,\u001b[0m \u001b[0msalary_cap\u001b[0m\u001b[1;33m)\u001b[0m\u001b[1;33m\u001b[0m\u001b[0m\n\u001b[0m\u001b[0;32m     31\u001b[0m   \u001b[1;32mif\u001b[0m \u001b[0mbest\u001b[0m \u001b[1;32mis\u001b[0m \u001b[0mNone\u001b[0m\u001b[1;33m:\u001b[0m\u001b[1;33m\u001b[0m\u001b[0m\n\u001b[0;32m     32\u001b[0m     \u001b[1;32mreturn\u001b[0m \u001b[0mNone\u001b[0m\u001b[1;33m\u001b[0m\u001b[0m\n",
        "\u001b[1;32mC:\\Coding\\FanDuel\\src\\analysis\\knapsack.py\u001b[0m in \u001b[0;36mBestChoice\u001b[1;34m(players, per_position_counts, salary_cap)\u001b[0m\n\u001b[0;32m     43\u001b[0m \u001b[1;33m\u001b[0m\u001b[0m\n\u001b[0;32m     44\u001b[0m \u001b[1;33m\u001b[0m\u001b[0m\n\u001b[1;32m---> 45\u001b[1;33m   \u001b[0mbest_pts\u001b[0m \u001b[1;33m=\u001b[0m \u001b[0mGV\u001b[0m\u001b[1;33m(\u001b[0m\u001b[1;36m0\u001b[0m\u001b[1;33m,\u001b[0m \u001b[1;36m0\u001b[0m\u001b[1;33m,\u001b[0m \u001b[0mS\u001b[0m\u001b[1;33m)\u001b[0m\u001b[1;33m\u001b[0m\u001b[0m\n\u001b[0m\u001b[0;32m     46\u001b[0m   \u001b[0mans\u001b[0m \u001b[1;33m=\u001b[0m \u001b[1;33m[\u001b[0m\u001b[1;33m]\u001b[0m\u001b[1;33m\u001b[0m\u001b[0m\n\u001b[0;32m     47\u001b[0m   \u001b[0meps\u001b[0m \u001b[1;33m=\u001b[0m \u001b[1;36m1e-5\u001b[0m\u001b[1;33m\u001b[0m\u001b[0m\n",
        "\u001b[1;32mC:\\Coding\\FanDuel\\src\\analysis\\knapsack.py\u001b[0m in \u001b[0;36mGV\u001b[1;34m(request_index, candidate_index, salary_left)\u001b[0m\n\u001b[0;32m     33\u001b[0m     \u001b[0mc1\u001b[0m \u001b[1;33m=\u001b[0m \u001b[0mcandidates\u001b[0m\u001b[1;33m[\u001b[0m\u001b[0mcandidate_index\u001b[0m\u001b[1;33m]\u001b[0m\u001b[1;33m\u001b[0m\u001b[0m\n\u001b[0;32m     34\u001b[0m     \u001b[0msal1\u001b[0m \u001b[1;33m=\u001b[0m \u001b[0msalaries\u001b[0m\u001b[1;33m[\u001b[0m\u001b[0mcandidate_index\u001b[0m\u001b[1;33m]\u001b[0m\u001b[1;33m\u001b[0m\u001b[0m\n\u001b[1;32m---> 35\u001b[1;33m     \u001b[0mskip_score\u001b[0m \u001b[1;33m=\u001b[0m \u001b[0mGV\u001b[0m\u001b[1;33m(\u001b[0m\u001b[0mrequest_index\u001b[0m\u001b[1;33m,\u001b[0m \u001b[0mcandidate_index\u001b[0m \u001b[1;33m+\u001b[0m \u001b[1;36m1\u001b[0m\u001b[1;33m,\u001b[0m \u001b[0msalary_left\u001b[0m\u001b[1;33m)\u001b[0m\u001b[1;33m\u001b[0m\u001b[0m\n\u001b[0m\u001b[0;32m     36\u001b[0m     \u001b[1;32mif\u001b[0m \u001b[0mc1\u001b[0m\u001b[1;33m.\u001b[0m\u001b[0mposition\u001b[0m \u001b[1;33m!=\u001b[0m \u001b[0mrequest\u001b[0m\u001b[1;33m[\u001b[0m\u001b[0mrequest_index\u001b[0m\u001b[1;33m]\u001b[0m \u001b[1;32mor\u001b[0m \u001b[0msal1\u001b[0m \u001b[1;33m>\u001b[0m \u001b[0msalary_left\u001b[0m\u001b[1;33m:\u001b[0m\u001b[1;33m\u001b[0m\u001b[0m\n\u001b[0;32m     37\u001b[0m       \u001b[0mmemo\u001b[0m\u001b[1;33m[\u001b[0m\u001b[0mrequest_index\u001b[0m\u001b[1;33m]\u001b[0m\u001b[1;33m[\u001b[0m\u001b[0mcandidate_index\u001b[0m\u001b[1;33m]\u001b[0m\u001b[1;33m[\u001b[0m\u001b[0msalary_left\u001b[0m\u001b[1;33m]\u001b[0m \u001b[1;33m=\u001b[0m \u001b[0mskip_score\u001b[0m\u001b[1;33m\u001b[0m\u001b[0m\n",
        "\u001b[1;32mC:\\Coding\\FanDuel\\src\\analysis\\knapsack.py\u001b[0m in \u001b[0;36mGV\u001b[1;34m(request_index, candidate_index, salary_left)\u001b[0m\n\u001b[0;32m     33\u001b[0m     \u001b[0mc1\u001b[0m \u001b[1;33m=\u001b[0m \u001b[0mcandidates\u001b[0m\u001b[1;33m[\u001b[0m\u001b[0mcandidate_index\u001b[0m\u001b[1;33m]\u001b[0m\u001b[1;33m\u001b[0m\u001b[0m\n\u001b[0;32m     34\u001b[0m     \u001b[0msal1\u001b[0m \u001b[1;33m=\u001b[0m \u001b[0msalaries\u001b[0m\u001b[1;33m[\u001b[0m\u001b[0mcandidate_index\u001b[0m\u001b[1;33m]\u001b[0m\u001b[1;33m\u001b[0m\u001b[0m\n\u001b[1;32m---> 35\u001b[1;33m     \u001b[0mskip_score\u001b[0m \u001b[1;33m=\u001b[0m \u001b[0mGV\u001b[0m\u001b[1;33m(\u001b[0m\u001b[0mrequest_index\u001b[0m\u001b[1;33m,\u001b[0m \u001b[0mcandidate_index\u001b[0m \u001b[1;33m+\u001b[0m \u001b[1;36m1\u001b[0m\u001b[1;33m,\u001b[0m \u001b[0msalary_left\u001b[0m\u001b[1;33m)\u001b[0m\u001b[1;33m\u001b[0m\u001b[0m\n\u001b[0m\u001b[0;32m     36\u001b[0m     \u001b[1;32mif\u001b[0m \u001b[0mc1\u001b[0m\u001b[1;33m.\u001b[0m\u001b[0mposition\u001b[0m \u001b[1;33m!=\u001b[0m \u001b[0mrequest\u001b[0m\u001b[1;33m[\u001b[0m\u001b[0mrequest_index\u001b[0m\u001b[1;33m]\u001b[0m \u001b[1;32mor\u001b[0m \u001b[0msal1\u001b[0m \u001b[1;33m>\u001b[0m \u001b[0msalary_left\u001b[0m\u001b[1;33m:\u001b[0m\u001b[1;33m\u001b[0m\u001b[0m\n\u001b[0;32m     37\u001b[0m       \u001b[0mmemo\u001b[0m\u001b[1;33m[\u001b[0m\u001b[0mrequest_index\u001b[0m\u001b[1;33m]\u001b[0m\u001b[1;33m[\u001b[0m\u001b[0mcandidate_index\u001b[0m\u001b[1;33m]\u001b[0m\u001b[1;33m[\u001b[0m\u001b[0msalary_left\u001b[0m\u001b[1;33m]\u001b[0m \u001b[1;33m=\u001b[0m \u001b[0mskip_score\u001b[0m\u001b[1;33m\u001b[0m\u001b[0m\n",
        "\u001b[1;32mC:\\Coding\\FanDuel\\src\\analysis\\knapsack.py\u001b[0m in \u001b[0;36mGV\u001b[1;34m(request_index, candidate_index, salary_left)\u001b[0m\n\u001b[0;32m     33\u001b[0m     \u001b[0mc1\u001b[0m \u001b[1;33m=\u001b[0m \u001b[0mcandidates\u001b[0m\u001b[1;33m[\u001b[0m\u001b[0mcandidate_index\u001b[0m\u001b[1;33m]\u001b[0m\u001b[1;33m\u001b[0m\u001b[0m\n\u001b[0;32m     34\u001b[0m     \u001b[0msal1\u001b[0m \u001b[1;33m=\u001b[0m \u001b[0msalaries\u001b[0m\u001b[1;33m[\u001b[0m\u001b[0mcandidate_index\u001b[0m\u001b[1;33m]\u001b[0m\u001b[1;33m\u001b[0m\u001b[0m\n\u001b[1;32m---> 35\u001b[1;33m     \u001b[0mskip_score\u001b[0m \u001b[1;33m=\u001b[0m \u001b[0mGV\u001b[0m\u001b[1;33m(\u001b[0m\u001b[0mrequest_index\u001b[0m\u001b[1;33m,\u001b[0m \u001b[0mcandidate_index\u001b[0m \u001b[1;33m+\u001b[0m \u001b[1;36m1\u001b[0m\u001b[1;33m,\u001b[0m \u001b[0msalary_left\u001b[0m\u001b[1;33m)\u001b[0m\u001b[1;33m\u001b[0m\u001b[0m\n\u001b[0m\u001b[0;32m     36\u001b[0m     \u001b[1;32mif\u001b[0m \u001b[0mc1\u001b[0m\u001b[1;33m.\u001b[0m\u001b[0mposition\u001b[0m \u001b[1;33m!=\u001b[0m \u001b[0mrequest\u001b[0m\u001b[1;33m[\u001b[0m\u001b[0mrequest_index\u001b[0m\u001b[1;33m]\u001b[0m \u001b[1;32mor\u001b[0m \u001b[0msal1\u001b[0m \u001b[1;33m>\u001b[0m \u001b[0msalary_left\u001b[0m\u001b[1;33m:\u001b[0m\u001b[1;33m\u001b[0m\u001b[0m\n\u001b[0;32m     37\u001b[0m       \u001b[0mmemo\u001b[0m\u001b[1;33m[\u001b[0m\u001b[0mrequest_index\u001b[0m\u001b[1;33m]\u001b[0m\u001b[1;33m[\u001b[0m\u001b[0mcandidate_index\u001b[0m\u001b[1;33m]\u001b[0m\u001b[1;33m[\u001b[0m\u001b[0msalary_left\u001b[0m\u001b[1;33m]\u001b[0m \u001b[1;33m=\u001b[0m \u001b[0mskip_score\u001b[0m\u001b[1;33m\u001b[0m\u001b[0m\n",
        "\u001b[1;32mC:\\Coding\\FanDuel\\src\\analysis\\knapsack.py\u001b[0m in \u001b[0;36mGV\u001b[1;34m(request_index, candidate_index, salary_left)\u001b[0m\n\u001b[0;32m     33\u001b[0m     \u001b[0mc1\u001b[0m \u001b[1;33m=\u001b[0m \u001b[0mcandidates\u001b[0m\u001b[1;33m[\u001b[0m\u001b[0mcandidate_index\u001b[0m\u001b[1;33m]\u001b[0m\u001b[1;33m\u001b[0m\u001b[0m\n\u001b[0;32m     34\u001b[0m     \u001b[0msal1\u001b[0m \u001b[1;33m=\u001b[0m \u001b[0msalaries\u001b[0m\u001b[1;33m[\u001b[0m\u001b[0mcandidate_index\u001b[0m\u001b[1;33m]\u001b[0m\u001b[1;33m\u001b[0m\u001b[0m\n\u001b[1;32m---> 35\u001b[1;33m     \u001b[0mskip_score\u001b[0m \u001b[1;33m=\u001b[0m \u001b[0mGV\u001b[0m\u001b[1;33m(\u001b[0m\u001b[0mrequest_index\u001b[0m\u001b[1;33m,\u001b[0m \u001b[0mcandidate_index\u001b[0m \u001b[1;33m+\u001b[0m \u001b[1;36m1\u001b[0m\u001b[1;33m,\u001b[0m \u001b[0msalary_left\u001b[0m\u001b[1;33m)\u001b[0m\u001b[1;33m\u001b[0m\u001b[0m\n\u001b[0m\u001b[0;32m     36\u001b[0m     \u001b[1;32mif\u001b[0m \u001b[0mc1\u001b[0m\u001b[1;33m.\u001b[0m\u001b[0mposition\u001b[0m \u001b[1;33m!=\u001b[0m \u001b[0mrequest\u001b[0m\u001b[1;33m[\u001b[0m\u001b[0mrequest_index\u001b[0m\u001b[1;33m]\u001b[0m \u001b[1;32mor\u001b[0m \u001b[0msal1\u001b[0m \u001b[1;33m>\u001b[0m \u001b[0msalary_left\u001b[0m\u001b[1;33m:\u001b[0m\u001b[1;33m\u001b[0m\u001b[0m\n\u001b[0;32m     37\u001b[0m       \u001b[0mmemo\u001b[0m\u001b[1;33m[\u001b[0m\u001b[0mrequest_index\u001b[0m\u001b[1;33m]\u001b[0m\u001b[1;33m[\u001b[0m\u001b[0mcandidate_index\u001b[0m\u001b[1;33m]\u001b[0m\u001b[1;33m[\u001b[0m\u001b[0msalary_left\u001b[0m\u001b[1;33m]\u001b[0m \u001b[1;33m=\u001b[0m \u001b[0mskip_score\u001b[0m\u001b[1;33m\u001b[0m\u001b[0m\n",
        "\u001b[1;32mC:\\Coding\\FanDuel\\src\\analysis\\knapsack.py\u001b[0m in \u001b[0;36mGV\u001b[1;34m(request_index, candidate_index, salary_left)\u001b[0m\n\u001b[0;32m     33\u001b[0m     \u001b[0mc1\u001b[0m \u001b[1;33m=\u001b[0m \u001b[0mcandidates\u001b[0m\u001b[1;33m[\u001b[0m\u001b[0mcandidate_index\u001b[0m\u001b[1;33m]\u001b[0m\u001b[1;33m\u001b[0m\u001b[0m\n\u001b[0;32m     34\u001b[0m     \u001b[0msal1\u001b[0m \u001b[1;33m=\u001b[0m \u001b[0msalaries\u001b[0m\u001b[1;33m[\u001b[0m\u001b[0mcandidate_index\u001b[0m\u001b[1;33m]\u001b[0m\u001b[1;33m\u001b[0m\u001b[0m\n\u001b[1;32m---> 35\u001b[1;33m     \u001b[0mskip_score\u001b[0m \u001b[1;33m=\u001b[0m \u001b[0mGV\u001b[0m\u001b[1;33m(\u001b[0m\u001b[0mrequest_index\u001b[0m\u001b[1;33m,\u001b[0m \u001b[0mcandidate_index\u001b[0m \u001b[1;33m+\u001b[0m \u001b[1;36m1\u001b[0m\u001b[1;33m,\u001b[0m \u001b[0msalary_left\u001b[0m\u001b[1;33m)\u001b[0m\u001b[1;33m\u001b[0m\u001b[0m\n\u001b[0m\u001b[0;32m     36\u001b[0m     \u001b[1;32mif\u001b[0m \u001b[0mc1\u001b[0m\u001b[1;33m.\u001b[0m\u001b[0mposition\u001b[0m \u001b[1;33m!=\u001b[0m \u001b[0mrequest\u001b[0m\u001b[1;33m[\u001b[0m\u001b[0mrequest_index\u001b[0m\u001b[1;33m]\u001b[0m \u001b[1;32mor\u001b[0m \u001b[0msal1\u001b[0m \u001b[1;33m>\u001b[0m \u001b[0msalary_left\u001b[0m\u001b[1;33m:\u001b[0m\u001b[1;33m\u001b[0m\u001b[0m\n\u001b[0;32m     37\u001b[0m       \u001b[0mmemo\u001b[0m\u001b[1;33m[\u001b[0m\u001b[0mrequest_index\u001b[0m\u001b[1;33m]\u001b[0m\u001b[1;33m[\u001b[0m\u001b[0mcandidate_index\u001b[0m\u001b[1;33m]\u001b[0m\u001b[1;33m[\u001b[0m\u001b[0msalary_left\u001b[0m\u001b[1;33m]\u001b[0m \u001b[1;33m=\u001b[0m \u001b[0mskip_score\u001b[0m\u001b[1;33m\u001b[0m\u001b[0m\n",
        "\u001b[1;32mC:\\Coding\\FanDuel\\src\\analysis\\knapsack.py\u001b[0m in \u001b[0;36mGV\u001b[1;34m(request_index, candidate_index, salary_left)\u001b[0m\n\u001b[0;32m     33\u001b[0m     \u001b[0mc1\u001b[0m \u001b[1;33m=\u001b[0m \u001b[0mcandidates\u001b[0m\u001b[1;33m[\u001b[0m\u001b[0mcandidate_index\u001b[0m\u001b[1;33m]\u001b[0m\u001b[1;33m\u001b[0m\u001b[0m\n\u001b[0;32m     34\u001b[0m     \u001b[0msal1\u001b[0m \u001b[1;33m=\u001b[0m \u001b[0msalaries\u001b[0m\u001b[1;33m[\u001b[0m\u001b[0mcandidate_index\u001b[0m\u001b[1;33m]\u001b[0m\u001b[1;33m\u001b[0m\u001b[0m\n\u001b[1;32m---> 35\u001b[1;33m     \u001b[0mskip_score\u001b[0m \u001b[1;33m=\u001b[0m \u001b[0mGV\u001b[0m\u001b[1;33m(\u001b[0m\u001b[0mrequest_index\u001b[0m\u001b[1;33m,\u001b[0m \u001b[0mcandidate_index\u001b[0m \u001b[1;33m+\u001b[0m \u001b[1;36m1\u001b[0m\u001b[1;33m,\u001b[0m \u001b[0msalary_left\u001b[0m\u001b[1;33m)\u001b[0m\u001b[1;33m\u001b[0m\u001b[0m\n\u001b[0m\u001b[0;32m     36\u001b[0m     \u001b[1;32mif\u001b[0m \u001b[0mc1\u001b[0m\u001b[1;33m.\u001b[0m\u001b[0mposition\u001b[0m \u001b[1;33m!=\u001b[0m \u001b[0mrequest\u001b[0m\u001b[1;33m[\u001b[0m\u001b[0mrequest_index\u001b[0m\u001b[1;33m]\u001b[0m \u001b[1;32mor\u001b[0m \u001b[0msal1\u001b[0m \u001b[1;33m>\u001b[0m \u001b[0msalary_left\u001b[0m\u001b[1;33m:\u001b[0m\u001b[1;33m\u001b[0m\u001b[0m\n\u001b[0;32m     37\u001b[0m       \u001b[0mmemo\u001b[0m\u001b[1;33m[\u001b[0m\u001b[0mrequest_index\u001b[0m\u001b[1;33m]\u001b[0m\u001b[1;33m[\u001b[0m\u001b[0mcandidate_index\u001b[0m\u001b[1;33m]\u001b[0m\u001b[1;33m[\u001b[0m\u001b[0msalary_left\u001b[0m\u001b[1;33m]\u001b[0m \u001b[1;33m=\u001b[0m \u001b[0mskip_score\u001b[0m\u001b[1;33m\u001b[0m\u001b[0m\n",
        "\u001b[1;32mC:\\Coding\\FanDuel\\src\\analysis\\knapsack.py\u001b[0m in \u001b[0;36mGV\u001b[1;34m(request_index, candidate_index, salary_left)\u001b[0m\n\u001b[0;32m     38\u001b[0m       \u001b[1;32mreturn\u001b[0m \u001b[0mskip_score\u001b[0m\u001b[1;33m\u001b[0m\u001b[0m\n\u001b[0;32m     39\u001b[0m     \u001b[1;32melse\u001b[0m\u001b[1;33m:\u001b[0m\u001b[1;33m\u001b[0m\u001b[0m\n\u001b[1;32m---> 40\u001b[1;33m       \u001b[0mres\u001b[0m \u001b[1;33m=\u001b[0m \u001b[0mmax\u001b[0m\u001b[1;33m(\u001b[0m\u001b[0mskip_score\u001b[0m\u001b[1;33m,\u001b[0m \u001b[0mc1\u001b[0m\u001b[1;33m.\u001b[0m\u001b[0mpts\u001b[0m \u001b[1;33m+\u001b[0m \u001b[0mGV\u001b[0m\u001b[1;33m(\u001b[0m\u001b[0mrequest_index\u001b[0m \u001b[1;33m+\u001b[0m \u001b[1;36m1\u001b[0m\u001b[1;33m,\u001b[0m \u001b[0mcandidate_index\u001b[0m \u001b[1;33m+\u001b[0m \u001b[1;36m1\u001b[0m\u001b[1;33m,\u001b[0m \u001b[0msalary_left\u001b[0m \u001b[1;33m-\u001b[0m \u001b[0msal1\u001b[0m\u001b[1;33m)\u001b[0m\u001b[1;33m)\u001b[0m\u001b[1;33m\u001b[0m\u001b[0m\n\u001b[0m\u001b[0;32m     41\u001b[0m       \u001b[0mmemo\u001b[0m\u001b[1;33m[\u001b[0m\u001b[0mrequest_index\u001b[0m\u001b[1;33m]\u001b[0m\u001b[1;33m[\u001b[0m\u001b[0mcandidate_index\u001b[0m\u001b[1;33m]\u001b[0m\u001b[1;33m[\u001b[0m\u001b[0msalary_left\u001b[0m\u001b[1;33m]\u001b[0m \u001b[1;33m=\u001b[0m \u001b[0mres\u001b[0m\u001b[1;33m\u001b[0m\u001b[0m\n\u001b[0;32m     42\u001b[0m       \u001b[1;32mreturn\u001b[0m \u001b[0mres\u001b[0m\u001b[1;33m\u001b[0m\u001b[0m\n",
        "\u001b[1;32mC:\\Coding\\FanDuel\\src\\analysis\\knapsack.py\u001b[0m in \u001b[0;36mGV\u001b[1;34m(request_index, candidate_index, salary_left)\u001b[0m\n\u001b[0;32m     33\u001b[0m     \u001b[0mc1\u001b[0m \u001b[1;33m=\u001b[0m \u001b[0mcandidates\u001b[0m\u001b[1;33m[\u001b[0m\u001b[0mcandidate_index\u001b[0m\u001b[1;33m]\u001b[0m\u001b[1;33m\u001b[0m\u001b[0m\n\u001b[0;32m     34\u001b[0m     \u001b[0msal1\u001b[0m \u001b[1;33m=\u001b[0m \u001b[0msalaries\u001b[0m\u001b[1;33m[\u001b[0m\u001b[0mcandidate_index\u001b[0m\u001b[1;33m]\u001b[0m\u001b[1;33m\u001b[0m\u001b[0m\n\u001b[1;32m---> 35\u001b[1;33m     \u001b[0mskip_score\u001b[0m \u001b[1;33m=\u001b[0m \u001b[0mGV\u001b[0m\u001b[1;33m(\u001b[0m\u001b[0mrequest_index\u001b[0m\u001b[1;33m,\u001b[0m \u001b[0mcandidate_index\u001b[0m \u001b[1;33m+\u001b[0m \u001b[1;36m1\u001b[0m\u001b[1;33m,\u001b[0m \u001b[0msalary_left\u001b[0m\u001b[1;33m)\u001b[0m\u001b[1;33m\u001b[0m\u001b[0m\n\u001b[0m\u001b[0;32m     36\u001b[0m     \u001b[1;32mif\u001b[0m \u001b[0mc1\u001b[0m\u001b[1;33m.\u001b[0m\u001b[0mposition\u001b[0m \u001b[1;33m!=\u001b[0m \u001b[0mrequest\u001b[0m\u001b[1;33m[\u001b[0m\u001b[0mrequest_index\u001b[0m\u001b[1;33m]\u001b[0m \u001b[1;32mor\u001b[0m \u001b[0msal1\u001b[0m \u001b[1;33m>\u001b[0m \u001b[0msalary_left\u001b[0m\u001b[1;33m:\u001b[0m\u001b[1;33m\u001b[0m\u001b[0m\n\u001b[0;32m     37\u001b[0m       \u001b[0mmemo\u001b[0m\u001b[1;33m[\u001b[0m\u001b[0mrequest_index\u001b[0m\u001b[1;33m]\u001b[0m\u001b[1;33m[\u001b[0m\u001b[0mcandidate_index\u001b[0m\u001b[1;33m]\u001b[0m\u001b[1;33m[\u001b[0m\u001b[0msalary_left\u001b[0m\u001b[1;33m]\u001b[0m \u001b[1;33m=\u001b[0m \u001b[0mskip_score\u001b[0m\u001b[1;33m\u001b[0m\u001b[0m\n",
        "\u001b[1;32mC:\\Coding\\FanDuel\\src\\analysis\\knapsack.py\u001b[0m in \u001b[0;36mGV\u001b[1;34m(request_index, candidate_index, salary_left)\u001b[0m\n\u001b[0;32m     33\u001b[0m     \u001b[0mc1\u001b[0m \u001b[1;33m=\u001b[0m \u001b[0mcandidates\u001b[0m\u001b[1;33m[\u001b[0m\u001b[0mcandidate_index\u001b[0m\u001b[1;33m]\u001b[0m\u001b[1;33m\u001b[0m\u001b[0m\n\u001b[0;32m     34\u001b[0m     \u001b[0msal1\u001b[0m \u001b[1;33m=\u001b[0m \u001b[0msalaries\u001b[0m\u001b[1;33m[\u001b[0m\u001b[0mcandidate_index\u001b[0m\u001b[1;33m]\u001b[0m\u001b[1;33m\u001b[0m\u001b[0m\n\u001b[1;32m---> 35\u001b[1;33m     \u001b[0mskip_score\u001b[0m \u001b[1;33m=\u001b[0m \u001b[0mGV\u001b[0m\u001b[1;33m(\u001b[0m\u001b[0mrequest_index\u001b[0m\u001b[1;33m,\u001b[0m \u001b[0mcandidate_index\u001b[0m \u001b[1;33m+\u001b[0m \u001b[1;36m1\u001b[0m\u001b[1;33m,\u001b[0m \u001b[0msalary_left\u001b[0m\u001b[1;33m)\u001b[0m\u001b[1;33m\u001b[0m\u001b[0m\n\u001b[0m\u001b[0;32m     36\u001b[0m     \u001b[1;32mif\u001b[0m \u001b[0mc1\u001b[0m\u001b[1;33m.\u001b[0m\u001b[0mposition\u001b[0m \u001b[1;33m!=\u001b[0m \u001b[0mrequest\u001b[0m\u001b[1;33m[\u001b[0m\u001b[0mrequest_index\u001b[0m\u001b[1;33m]\u001b[0m \u001b[1;32mor\u001b[0m \u001b[0msal1\u001b[0m \u001b[1;33m>\u001b[0m \u001b[0msalary_left\u001b[0m\u001b[1;33m:\u001b[0m\u001b[1;33m\u001b[0m\u001b[0m\n\u001b[0;32m     37\u001b[0m       \u001b[0mmemo\u001b[0m\u001b[1;33m[\u001b[0m\u001b[0mrequest_index\u001b[0m\u001b[1;33m]\u001b[0m\u001b[1;33m[\u001b[0m\u001b[0mcandidate_index\u001b[0m\u001b[1;33m]\u001b[0m\u001b[1;33m[\u001b[0m\u001b[0msalary_left\u001b[0m\u001b[1;33m]\u001b[0m \u001b[1;33m=\u001b[0m \u001b[0mskip_score\u001b[0m\u001b[1;33m\u001b[0m\u001b[0m\n",
        "\u001b[1;32mC:\\Coding\\FanDuel\\src\\analysis\\knapsack.py\u001b[0m in \u001b[0;36mGV\u001b[1;34m(request_index, candidate_index, salary_left)\u001b[0m\n\u001b[0;32m     33\u001b[0m     \u001b[0mc1\u001b[0m \u001b[1;33m=\u001b[0m \u001b[0mcandidates\u001b[0m\u001b[1;33m[\u001b[0m\u001b[0mcandidate_index\u001b[0m\u001b[1;33m]\u001b[0m\u001b[1;33m\u001b[0m\u001b[0m\n\u001b[0;32m     34\u001b[0m     \u001b[0msal1\u001b[0m \u001b[1;33m=\u001b[0m \u001b[0msalaries\u001b[0m\u001b[1;33m[\u001b[0m\u001b[0mcandidate_index\u001b[0m\u001b[1;33m]\u001b[0m\u001b[1;33m\u001b[0m\u001b[0m\n\u001b[1;32m---> 35\u001b[1;33m     \u001b[0mskip_score\u001b[0m \u001b[1;33m=\u001b[0m \u001b[0mGV\u001b[0m\u001b[1;33m(\u001b[0m\u001b[0mrequest_index\u001b[0m\u001b[1;33m,\u001b[0m \u001b[0mcandidate_index\u001b[0m \u001b[1;33m+\u001b[0m \u001b[1;36m1\u001b[0m\u001b[1;33m,\u001b[0m \u001b[0msalary_left\u001b[0m\u001b[1;33m)\u001b[0m\u001b[1;33m\u001b[0m\u001b[0m\n\u001b[0m\u001b[0;32m     36\u001b[0m     \u001b[1;32mif\u001b[0m \u001b[0mc1\u001b[0m\u001b[1;33m.\u001b[0m\u001b[0mposition\u001b[0m \u001b[1;33m!=\u001b[0m \u001b[0mrequest\u001b[0m\u001b[1;33m[\u001b[0m\u001b[0mrequest_index\u001b[0m\u001b[1;33m]\u001b[0m \u001b[1;32mor\u001b[0m \u001b[0msal1\u001b[0m \u001b[1;33m>\u001b[0m \u001b[0msalary_left\u001b[0m\u001b[1;33m:\u001b[0m\u001b[1;33m\u001b[0m\u001b[0m\n\u001b[0;32m     37\u001b[0m       \u001b[0mmemo\u001b[0m\u001b[1;33m[\u001b[0m\u001b[0mrequest_index\u001b[0m\u001b[1;33m]\u001b[0m\u001b[1;33m[\u001b[0m\u001b[0mcandidate_index\u001b[0m\u001b[1;33m]\u001b[0m\u001b[1;33m[\u001b[0m\u001b[0msalary_left\u001b[0m\u001b[1;33m]\u001b[0m \u001b[1;33m=\u001b[0m \u001b[0mskip_score\u001b[0m\u001b[1;33m\u001b[0m\u001b[0m\n",
        "\u001b[1;32mC:\\Coding\\FanDuel\\src\\analysis\\knapsack.py\u001b[0m in \u001b[0;36mGV\u001b[1;34m(request_index, candidate_index, salary_left)\u001b[0m\n\u001b[0;32m     33\u001b[0m     \u001b[0mc1\u001b[0m \u001b[1;33m=\u001b[0m \u001b[0mcandidates\u001b[0m\u001b[1;33m[\u001b[0m\u001b[0mcandidate_index\u001b[0m\u001b[1;33m]\u001b[0m\u001b[1;33m\u001b[0m\u001b[0m\n\u001b[0;32m     34\u001b[0m     \u001b[0msal1\u001b[0m \u001b[1;33m=\u001b[0m \u001b[0msalaries\u001b[0m\u001b[1;33m[\u001b[0m\u001b[0mcandidate_index\u001b[0m\u001b[1;33m]\u001b[0m\u001b[1;33m\u001b[0m\u001b[0m\n\u001b[1;32m---> 35\u001b[1;33m     \u001b[0mskip_score\u001b[0m \u001b[1;33m=\u001b[0m \u001b[0mGV\u001b[0m\u001b[1;33m(\u001b[0m\u001b[0mrequest_index\u001b[0m\u001b[1;33m,\u001b[0m \u001b[0mcandidate_index\u001b[0m \u001b[1;33m+\u001b[0m \u001b[1;36m1\u001b[0m\u001b[1;33m,\u001b[0m \u001b[0msalary_left\u001b[0m\u001b[1;33m)\u001b[0m\u001b[1;33m\u001b[0m\u001b[0m\n\u001b[0m\u001b[0;32m     36\u001b[0m     \u001b[1;32mif\u001b[0m \u001b[0mc1\u001b[0m\u001b[1;33m.\u001b[0m\u001b[0mposition\u001b[0m \u001b[1;33m!=\u001b[0m \u001b[0mrequest\u001b[0m\u001b[1;33m[\u001b[0m\u001b[0mrequest_index\u001b[0m\u001b[1;33m]\u001b[0m \u001b[1;32mor\u001b[0m \u001b[0msal1\u001b[0m \u001b[1;33m>\u001b[0m \u001b[0msalary_left\u001b[0m\u001b[1;33m:\u001b[0m\u001b[1;33m\u001b[0m\u001b[0m\n\u001b[0;32m     37\u001b[0m       \u001b[0mmemo\u001b[0m\u001b[1;33m[\u001b[0m\u001b[0mrequest_index\u001b[0m\u001b[1;33m]\u001b[0m\u001b[1;33m[\u001b[0m\u001b[0mcandidate_index\u001b[0m\u001b[1;33m]\u001b[0m\u001b[1;33m[\u001b[0m\u001b[0msalary_left\u001b[0m\u001b[1;33m]\u001b[0m \u001b[1;33m=\u001b[0m \u001b[0mskip_score\u001b[0m\u001b[1;33m\u001b[0m\u001b[0m\n",
        "\u001b[1;32mC:\\Coding\\FanDuel\\src\\analysis\\knapsack.py\u001b[0m in \u001b[0;36mGV\u001b[1;34m(request_index, candidate_index, salary_left)\u001b[0m\n\u001b[0;32m     33\u001b[0m     \u001b[0mc1\u001b[0m \u001b[1;33m=\u001b[0m \u001b[0mcandidates\u001b[0m\u001b[1;33m[\u001b[0m\u001b[0mcandidate_index\u001b[0m\u001b[1;33m]\u001b[0m\u001b[1;33m\u001b[0m\u001b[0m\n\u001b[0;32m     34\u001b[0m     \u001b[0msal1\u001b[0m \u001b[1;33m=\u001b[0m \u001b[0msalaries\u001b[0m\u001b[1;33m[\u001b[0m\u001b[0mcandidate_index\u001b[0m\u001b[1;33m]\u001b[0m\u001b[1;33m\u001b[0m\u001b[0m\n\u001b[1;32m---> 35\u001b[1;33m     \u001b[0mskip_score\u001b[0m \u001b[1;33m=\u001b[0m \u001b[0mGV\u001b[0m\u001b[1;33m(\u001b[0m\u001b[0mrequest_index\u001b[0m\u001b[1;33m,\u001b[0m \u001b[0mcandidate_index\u001b[0m \u001b[1;33m+\u001b[0m \u001b[1;36m1\u001b[0m\u001b[1;33m,\u001b[0m \u001b[0msalary_left\u001b[0m\u001b[1;33m)\u001b[0m\u001b[1;33m\u001b[0m\u001b[0m\n\u001b[0m\u001b[0;32m     36\u001b[0m     \u001b[1;32mif\u001b[0m \u001b[0mc1\u001b[0m\u001b[1;33m.\u001b[0m\u001b[0mposition\u001b[0m \u001b[1;33m!=\u001b[0m \u001b[0mrequest\u001b[0m\u001b[1;33m[\u001b[0m\u001b[0mrequest_index\u001b[0m\u001b[1;33m]\u001b[0m \u001b[1;32mor\u001b[0m \u001b[0msal1\u001b[0m \u001b[1;33m>\u001b[0m \u001b[0msalary_left\u001b[0m\u001b[1;33m:\u001b[0m\u001b[1;33m\u001b[0m\u001b[0m\n\u001b[0;32m     37\u001b[0m       \u001b[0mmemo\u001b[0m\u001b[1;33m[\u001b[0m\u001b[0mrequest_index\u001b[0m\u001b[1;33m]\u001b[0m\u001b[1;33m[\u001b[0m\u001b[0mcandidate_index\u001b[0m\u001b[1;33m]\u001b[0m\u001b[1;33m[\u001b[0m\u001b[0msalary_left\u001b[0m\u001b[1;33m]\u001b[0m \u001b[1;33m=\u001b[0m \u001b[0mskip_score\u001b[0m\u001b[1;33m\u001b[0m\u001b[0m\n",
        "\u001b[1;32mC:\\Coding\\FanDuel\\src\\analysis\\knapsack.py\u001b[0m in \u001b[0;36mGV\u001b[1;34m(request_index, candidate_index, salary_left)\u001b[0m\n\u001b[0;32m     38\u001b[0m       \u001b[1;32mreturn\u001b[0m \u001b[0mskip_score\u001b[0m\u001b[1;33m\u001b[0m\u001b[0m\n\u001b[0;32m     39\u001b[0m     \u001b[1;32melse\u001b[0m\u001b[1;33m:\u001b[0m\u001b[1;33m\u001b[0m\u001b[0m\n\u001b[1;32m---> 40\u001b[1;33m       \u001b[0mres\u001b[0m \u001b[1;33m=\u001b[0m \u001b[0mmax\u001b[0m\u001b[1;33m(\u001b[0m\u001b[0mskip_score\u001b[0m\u001b[1;33m,\u001b[0m \u001b[0mc1\u001b[0m\u001b[1;33m.\u001b[0m\u001b[0mpts\u001b[0m \u001b[1;33m+\u001b[0m \u001b[0mGV\u001b[0m\u001b[1;33m(\u001b[0m\u001b[0mrequest_index\u001b[0m \u001b[1;33m+\u001b[0m \u001b[1;36m1\u001b[0m\u001b[1;33m,\u001b[0m \u001b[0mcandidate_index\u001b[0m \u001b[1;33m+\u001b[0m \u001b[1;36m1\u001b[0m\u001b[1;33m,\u001b[0m \u001b[0msalary_left\u001b[0m \u001b[1;33m-\u001b[0m \u001b[0msal1\u001b[0m\u001b[1;33m)\u001b[0m\u001b[1;33m)\u001b[0m\u001b[1;33m\u001b[0m\u001b[0m\n\u001b[0m\u001b[0;32m     41\u001b[0m       \u001b[0mmemo\u001b[0m\u001b[1;33m[\u001b[0m\u001b[0mrequest_index\u001b[0m\u001b[1;33m]\u001b[0m\u001b[1;33m[\u001b[0m\u001b[0mcandidate_index\u001b[0m\u001b[1;33m]\u001b[0m\u001b[1;33m[\u001b[0m\u001b[0msalary_left\u001b[0m\u001b[1;33m]\u001b[0m \u001b[1;33m=\u001b[0m \u001b[0mres\u001b[0m\u001b[1;33m\u001b[0m\u001b[0m\n\u001b[0;32m     42\u001b[0m       \u001b[1;32mreturn\u001b[0m \u001b[0mres\u001b[0m\u001b[1;33m\u001b[0m\u001b[0m\n",
        "\u001b[1;32mC:\\Coding\\FanDuel\\src\\analysis\\knapsack.py\u001b[0m in \u001b[0;36mGV\u001b[1;34m(request_index, candidate_index, salary_left)\u001b[0m\n\u001b[0;32m     38\u001b[0m       \u001b[1;32mreturn\u001b[0m \u001b[0mskip_score\u001b[0m\u001b[1;33m\u001b[0m\u001b[0m\n\u001b[0;32m     39\u001b[0m     \u001b[1;32melse\u001b[0m\u001b[1;33m:\u001b[0m\u001b[1;33m\u001b[0m\u001b[0m\n\u001b[1;32m---> 40\u001b[1;33m       \u001b[0mres\u001b[0m \u001b[1;33m=\u001b[0m \u001b[0mmax\u001b[0m\u001b[1;33m(\u001b[0m\u001b[0mskip_score\u001b[0m\u001b[1;33m,\u001b[0m \u001b[0mc1\u001b[0m\u001b[1;33m.\u001b[0m\u001b[0mpts\u001b[0m \u001b[1;33m+\u001b[0m \u001b[0mGV\u001b[0m\u001b[1;33m(\u001b[0m\u001b[0mrequest_index\u001b[0m \u001b[1;33m+\u001b[0m \u001b[1;36m1\u001b[0m\u001b[1;33m,\u001b[0m \u001b[0mcandidate_index\u001b[0m \u001b[1;33m+\u001b[0m \u001b[1;36m1\u001b[0m\u001b[1;33m,\u001b[0m \u001b[0msalary_left\u001b[0m \u001b[1;33m-\u001b[0m \u001b[0msal1\u001b[0m\u001b[1;33m)\u001b[0m\u001b[1;33m)\u001b[0m\u001b[1;33m\u001b[0m\u001b[0m\n\u001b[0m\u001b[0;32m     41\u001b[0m       \u001b[0mmemo\u001b[0m\u001b[1;33m[\u001b[0m\u001b[0mrequest_index\u001b[0m\u001b[1;33m]\u001b[0m\u001b[1;33m[\u001b[0m\u001b[0mcandidate_index\u001b[0m\u001b[1;33m]\u001b[0m\u001b[1;33m[\u001b[0m\u001b[0msalary_left\u001b[0m\u001b[1;33m]\u001b[0m \u001b[1;33m=\u001b[0m \u001b[0mres\u001b[0m\u001b[1;33m\u001b[0m\u001b[0m\n\u001b[0;32m     42\u001b[0m       \u001b[1;32mreturn\u001b[0m \u001b[0mres\u001b[0m\u001b[1;33m\u001b[0m\u001b[0m\n",
        "\u001b[1;32mC:\\Coding\\FanDuel\\src\\analysis\\knapsack.py\u001b[0m in \u001b[0;36mGV\u001b[1;34m(request_index, candidate_index, salary_left)\u001b[0m\n\u001b[0;32m     33\u001b[0m     \u001b[0mc1\u001b[0m \u001b[1;33m=\u001b[0m \u001b[0mcandidates\u001b[0m\u001b[1;33m[\u001b[0m\u001b[0mcandidate_index\u001b[0m\u001b[1;33m]\u001b[0m\u001b[1;33m\u001b[0m\u001b[0m\n\u001b[0;32m     34\u001b[0m     \u001b[0msal1\u001b[0m \u001b[1;33m=\u001b[0m \u001b[0msalaries\u001b[0m\u001b[1;33m[\u001b[0m\u001b[0mcandidate_index\u001b[0m\u001b[1;33m]\u001b[0m\u001b[1;33m\u001b[0m\u001b[0m\n\u001b[1;32m---> 35\u001b[1;33m     \u001b[0mskip_score\u001b[0m \u001b[1;33m=\u001b[0m \u001b[0mGV\u001b[0m\u001b[1;33m(\u001b[0m\u001b[0mrequest_index\u001b[0m\u001b[1;33m,\u001b[0m \u001b[0mcandidate_index\u001b[0m \u001b[1;33m+\u001b[0m \u001b[1;36m1\u001b[0m\u001b[1;33m,\u001b[0m \u001b[0msalary_left\u001b[0m\u001b[1;33m)\u001b[0m\u001b[1;33m\u001b[0m\u001b[0m\n\u001b[0m\u001b[0;32m     36\u001b[0m     \u001b[1;32mif\u001b[0m \u001b[0mc1\u001b[0m\u001b[1;33m.\u001b[0m\u001b[0mposition\u001b[0m \u001b[1;33m!=\u001b[0m \u001b[0mrequest\u001b[0m\u001b[1;33m[\u001b[0m\u001b[0mrequest_index\u001b[0m\u001b[1;33m]\u001b[0m \u001b[1;32mor\u001b[0m \u001b[0msal1\u001b[0m \u001b[1;33m>\u001b[0m \u001b[0msalary_left\u001b[0m\u001b[1;33m:\u001b[0m\u001b[1;33m\u001b[0m\u001b[0m\n\u001b[0;32m     37\u001b[0m       \u001b[0mmemo\u001b[0m\u001b[1;33m[\u001b[0m\u001b[0mrequest_index\u001b[0m\u001b[1;33m]\u001b[0m\u001b[1;33m[\u001b[0m\u001b[0mcandidate_index\u001b[0m\u001b[1;33m]\u001b[0m\u001b[1;33m[\u001b[0m\u001b[0msalary_left\u001b[0m\u001b[1;33m]\u001b[0m \u001b[1;33m=\u001b[0m \u001b[0mskip_score\u001b[0m\u001b[1;33m\u001b[0m\u001b[0m\n",
        "\u001b[1;32mC:\\Coding\\FanDuel\\src\\analysis\\knapsack.py\u001b[0m in \u001b[0;36mGV\u001b[1;34m(request_index, candidate_index, salary_left)\u001b[0m\n\u001b[0;32m     33\u001b[0m     \u001b[0mc1\u001b[0m \u001b[1;33m=\u001b[0m \u001b[0mcandidates\u001b[0m\u001b[1;33m[\u001b[0m\u001b[0mcandidate_index\u001b[0m\u001b[1;33m]\u001b[0m\u001b[1;33m\u001b[0m\u001b[0m\n\u001b[0;32m     34\u001b[0m     \u001b[0msal1\u001b[0m \u001b[1;33m=\u001b[0m \u001b[0msalaries\u001b[0m\u001b[1;33m[\u001b[0m\u001b[0mcandidate_index\u001b[0m\u001b[1;33m]\u001b[0m\u001b[1;33m\u001b[0m\u001b[0m\n\u001b[1;32m---> 35\u001b[1;33m     \u001b[0mskip_score\u001b[0m \u001b[1;33m=\u001b[0m \u001b[0mGV\u001b[0m\u001b[1;33m(\u001b[0m\u001b[0mrequest_index\u001b[0m\u001b[1;33m,\u001b[0m \u001b[0mcandidate_index\u001b[0m \u001b[1;33m+\u001b[0m \u001b[1;36m1\u001b[0m\u001b[1;33m,\u001b[0m \u001b[0msalary_left\u001b[0m\u001b[1;33m)\u001b[0m\u001b[1;33m\u001b[0m\u001b[0m\n\u001b[0m\u001b[0;32m     36\u001b[0m     \u001b[1;32mif\u001b[0m \u001b[0mc1\u001b[0m\u001b[1;33m.\u001b[0m\u001b[0mposition\u001b[0m \u001b[1;33m!=\u001b[0m \u001b[0mrequest\u001b[0m\u001b[1;33m[\u001b[0m\u001b[0mrequest_index\u001b[0m\u001b[1;33m]\u001b[0m \u001b[1;32mor\u001b[0m \u001b[0msal1\u001b[0m \u001b[1;33m>\u001b[0m \u001b[0msalary_left\u001b[0m\u001b[1;33m:\u001b[0m\u001b[1;33m\u001b[0m\u001b[0m\n\u001b[0;32m     37\u001b[0m       \u001b[0mmemo\u001b[0m\u001b[1;33m[\u001b[0m\u001b[0mrequest_index\u001b[0m\u001b[1;33m]\u001b[0m\u001b[1;33m[\u001b[0m\u001b[0mcandidate_index\u001b[0m\u001b[1;33m]\u001b[0m\u001b[1;33m[\u001b[0m\u001b[0msalary_left\u001b[0m\u001b[1;33m]\u001b[0m \u001b[1;33m=\u001b[0m \u001b[0mskip_score\u001b[0m\u001b[1;33m\u001b[0m\u001b[0m\n",
        "\u001b[1;32mC:\\Coding\\FanDuel\\src\\analysis\\knapsack.py\u001b[0m in \u001b[0;36mGV\u001b[1;34m(request_index, candidate_index, salary_left)\u001b[0m\n\u001b[0;32m     33\u001b[0m     \u001b[0mc1\u001b[0m \u001b[1;33m=\u001b[0m \u001b[0mcandidates\u001b[0m\u001b[1;33m[\u001b[0m\u001b[0mcandidate_index\u001b[0m\u001b[1;33m]\u001b[0m\u001b[1;33m\u001b[0m\u001b[0m\n\u001b[0;32m     34\u001b[0m     \u001b[0msal1\u001b[0m \u001b[1;33m=\u001b[0m \u001b[0msalaries\u001b[0m\u001b[1;33m[\u001b[0m\u001b[0mcandidate_index\u001b[0m\u001b[1;33m]\u001b[0m\u001b[1;33m\u001b[0m\u001b[0m\n\u001b[1;32m---> 35\u001b[1;33m     \u001b[0mskip_score\u001b[0m \u001b[1;33m=\u001b[0m \u001b[0mGV\u001b[0m\u001b[1;33m(\u001b[0m\u001b[0mrequest_index\u001b[0m\u001b[1;33m,\u001b[0m \u001b[0mcandidate_index\u001b[0m \u001b[1;33m+\u001b[0m \u001b[1;36m1\u001b[0m\u001b[1;33m,\u001b[0m \u001b[0msalary_left\u001b[0m\u001b[1;33m)\u001b[0m\u001b[1;33m\u001b[0m\u001b[0m\n\u001b[0m\u001b[0;32m     36\u001b[0m     \u001b[1;32mif\u001b[0m \u001b[0mc1\u001b[0m\u001b[1;33m.\u001b[0m\u001b[0mposition\u001b[0m \u001b[1;33m!=\u001b[0m \u001b[0mrequest\u001b[0m\u001b[1;33m[\u001b[0m\u001b[0mrequest_index\u001b[0m\u001b[1;33m]\u001b[0m \u001b[1;32mor\u001b[0m \u001b[0msal1\u001b[0m \u001b[1;33m>\u001b[0m \u001b[0msalary_left\u001b[0m\u001b[1;33m:\u001b[0m\u001b[1;33m\u001b[0m\u001b[0m\n\u001b[0;32m     37\u001b[0m       \u001b[0mmemo\u001b[0m\u001b[1;33m[\u001b[0m\u001b[0mrequest_index\u001b[0m\u001b[1;33m]\u001b[0m\u001b[1;33m[\u001b[0m\u001b[0mcandidate_index\u001b[0m\u001b[1;33m]\u001b[0m\u001b[1;33m[\u001b[0m\u001b[0msalary_left\u001b[0m\u001b[1;33m]\u001b[0m \u001b[1;33m=\u001b[0m \u001b[0mskip_score\u001b[0m\u001b[1;33m\u001b[0m\u001b[0m\n",
        "\u001b[1;32mC:\\Coding\\FanDuel\\src\\analysis\\knapsack.py\u001b[0m in \u001b[0;36mGV\u001b[1;34m(request_index, candidate_index, salary_left)\u001b[0m\n\u001b[0;32m     33\u001b[0m     \u001b[0mc1\u001b[0m \u001b[1;33m=\u001b[0m \u001b[0mcandidates\u001b[0m\u001b[1;33m[\u001b[0m\u001b[0mcandidate_index\u001b[0m\u001b[1;33m]\u001b[0m\u001b[1;33m\u001b[0m\u001b[0m\n\u001b[0;32m     34\u001b[0m     \u001b[0msal1\u001b[0m \u001b[1;33m=\u001b[0m \u001b[0msalaries\u001b[0m\u001b[1;33m[\u001b[0m\u001b[0mcandidate_index\u001b[0m\u001b[1;33m]\u001b[0m\u001b[1;33m\u001b[0m\u001b[0m\n\u001b[1;32m---> 35\u001b[1;33m     \u001b[0mskip_score\u001b[0m \u001b[1;33m=\u001b[0m \u001b[0mGV\u001b[0m\u001b[1;33m(\u001b[0m\u001b[0mrequest_index\u001b[0m\u001b[1;33m,\u001b[0m \u001b[0mcandidate_index\u001b[0m \u001b[1;33m+\u001b[0m \u001b[1;36m1\u001b[0m\u001b[1;33m,\u001b[0m \u001b[0msalary_left\u001b[0m\u001b[1;33m)\u001b[0m\u001b[1;33m\u001b[0m\u001b[0m\n\u001b[0m\u001b[0;32m     36\u001b[0m     \u001b[1;32mif\u001b[0m \u001b[0mc1\u001b[0m\u001b[1;33m.\u001b[0m\u001b[0mposition\u001b[0m \u001b[1;33m!=\u001b[0m \u001b[0mrequest\u001b[0m\u001b[1;33m[\u001b[0m\u001b[0mrequest_index\u001b[0m\u001b[1;33m]\u001b[0m \u001b[1;32mor\u001b[0m \u001b[0msal1\u001b[0m \u001b[1;33m>\u001b[0m \u001b[0msalary_left\u001b[0m\u001b[1;33m:\u001b[0m\u001b[1;33m\u001b[0m\u001b[0m\n\u001b[0;32m     37\u001b[0m       \u001b[0mmemo\u001b[0m\u001b[1;33m[\u001b[0m\u001b[0mrequest_index\u001b[0m\u001b[1;33m]\u001b[0m\u001b[1;33m[\u001b[0m\u001b[0mcandidate_index\u001b[0m\u001b[1;33m]\u001b[0m\u001b[1;33m[\u001b[0m\u001b[0msalary_left\u001b[0m\u001b[1;33m]\u001b[0m \u001b[1;33m=\u001b[0m \u001b[0mskip_score\u001b[0m\u001b[1;33m\u001b[0m\u001b[0m\n",
        "\u001b[1;32mC:\\Coding\\FanDuel\\src\\analysis\\knapsack.py\u001b[0m in \u001b[0;36mGV\u001b[1;34m(request_index, candidate_index, salary_left)\u001b[0m\n\u001b[0;32m     33\u001b[0m     \u001b[0mc1\u001b[0m \u001b[1;33m=\u001b[0m \u001b[0mcandidates\u001b[0m\u001b[1;33m[\u001b[0m\u001b[0mcandidate_index\u001b[0m\u001b[1;33m]\u001b[0m\u001b[1;33m\u001b[0m\u001b[0m\n\u001b[0;32m     34\u001b[0m     \u001b[0msal1\u001b[0m \u001b[1;33m=\u001b[0m \u001b[0msalaries\u001b[0m\u001b[1;33m[\u001b[0m\u001b[0mcandidate_index\u001b[0m\u001b[1;33m]\u001b[0m\u001b[1;33m\u001b[0m\u001b[0m\n\u001b[1;32m---> 35\u001b[1;33m     \u001b[0mskip_score\u001b[0m \u001b[1;33m=\u001b[0m \u001b[0mGV\u001b[0m\u001b[1;33m(\u001b[0m\u001b[0mrequest_index\u001b[0m\u001b[1;33m,\u001b[0m \u001b[0mcandidate_index\u001b[0m \u001b[1;33m+\u001b[0m \u001b[1;36m1\u001b[0m\u001b[1;33m,\u001b[0m \u001b[0msalary_left\u001b[0m\u001b[1;33m)\u001b[0m\u001b[1;33m\u001b[0m\u001b[0m\n\u001b[0m\u001b[0;32m     36\u001b[0m     \u001b[1;32mif\u001b[0m \u001b[0mc1\u001b[0m\u001b[1;33m.\u001b[0m\u001b[0mposition\u001b[0m \u001b[1;33m!=\u001b[0m \u001b[0mrequest\u001b[0m\u001b[1;33m[\u001b[0m\u001b[0mrequest_index\u001b[0m\u001b[1;33m]\u001b[0m \u001b[1;32mor\u001b[0m \u001b[0msal1\u001b[0m \u001b[1;33m>\u001b[0m \u001b[0msalary_left\u001b[0m\u001b[1;33m:\u001b[0m\u001b[1;33m\u001b[0m\u001b[0m\n\u001b[0;32m     37\u001b[0m       \u001b[0mmemo\u001b[0m\u001b[1;33m[\u001b[0m\u001b[0mrequest_index\u001b[0m\u001b[1;33m]\u001b[0m\u001b[1;33m[\u001b[0m\u001b[0mcandidate_index\u001b[0m\u001b[1;33m]\u001b[0m\u001b[1;33m[\u001b[0m\u001b[0msalary_left\u001b[0m\u001b[1;33m]\u001b[0m \u001b[1;33m=\u001b[0m \u001b[0mskip_score\u001b[0m\u001b[1;33m\u001b[0m\u001b[0m\n",
        "\u001b[1;32mC:\\Coding\\FanDuel\\src\\analysis\\knapsack.py\u001b[0m in \u001b[0;36mGV\u001b[1;34m(request_index, candidate_index, salary_left)\u001b[0m\n\u001b[0;32m     38\u001b[0m       \u001b[1;32mreturn\u001b[0m \u001b[0mskip_score\u001b[0m\u001b[1;33m\u001b[0m\u001b[0m\n\u001b[0;32m     39\u001b[0m     \u001b[1;32melse\u001b[0m\u001b[1;33m:\u001b[0m\u001b[1;33m\u001b[0m\u001b[0m\n\u001b[1;32m---> 40\u001b[1;33m       \u001b[0mres\u001b[0m \u001b[1;33m=\u001b[0m \u001b[0mmax\u001b[0m\u001b[1;33m(\u001b[0m\u001b[0mskip_score\u001b[0m\u001b[1;33m,\u001b[0m \u001b[0mc1\u001b[0m\u001b[1;33m.\u001b[0m\u001b[0mpts\u001b[0m \u001b[1;33m+\u001b[0m \u001b[0mGV\u001b[0m\u001b[1;33m(\u001b[0m\u001b[0mrequest_index\u001b[0m \u001b[1;33m+\u001b[0m \u001b[1;36m1\u001b[0m\u001b[1;33m,\u001b[0m \u001b[0mcandidate_index\u001b[0m \u001b[1;33m+\u001b[0m \u001b[1;36m1\u001b[0m\u001b[1;33m,\u001b[0m \u001b[0msalary_left\u001b[0m \u001b[1;33m-\u001b[0m \u001b[0msal1\u001b[0m\u001b[1;33m)\u001b[0m\u001b[1;33m)\u001b[0m\u001b[1;33m\u001b[0m\u001b[0m\n\u001b[0m\u001b[0;32m     41\u001b[0m       \u001b[0mmemo\u001b[0m\u001b[1;33m[\u001b[0m\u001b[0mrequest_index\u001b[0m\u001b[1;33m]\u001b[0m\u001b[1;33m[\u001b[0m\u001b[0mcandidate_index\u001b[0m\u001b[1;33m]\u001b[0m\u001b[1;33m[\u001b[0m\u001b[0msalary_left\u001b[0m\u001b[1;33m]\u001b[0m \u001b[1;33m=\u001b[0m \u001b[0mres\u001b[0m\u001b[1;33m\u001b[0m\u001b[0m\n\u001b[0;32m     42\u001b[0m       \u001b[1;32mreturn\u001b[0m \u001b[0mres\u001b[0m\u001b[1;33m\u001b[0m\u001b[0m\n",
        "\u001b[1;32mC:\\Coding\\FanDuel\\src\\analysis\\knapsack.py\u001b[0m in \u001b[0;36mGV\u001b[1;34m(request_index, candidate_index, salary_left)\u001b[0m\n\u001b[0;32m     33\u001b[0m     \u001b[0mc1\u001b[0m \u001b[1;33m=\u001b[0m \u001b[0mcandidates\u001b[0m\u001b[1;33m[\u001b[0m\u001b[0mcandidate_index\u001b[0m\u001b[1;33m]\u001b[0m\u001b[1;33m\u001b[0m\u001b[0m\n\u001b[0;32m     34\u001b[0m     \u001b[0msal1\u001b[0m \u001b[1;33m=\u001b[0m \u001b[0msalaries\u001b[0m\u001b[1;33m[\u001b[0m\u001b[0mcandidate_index\u001b[0m\u001b[1;33m]\u001b[0m\u001b[1;33m\u001b[0m\u001b[0m\n\u001b[1;32m---> 35\u001b[1;33m     \u001b[0mskip_score\u001b[0m \u001b[1;33m=\u001b[0m \u001b[0mGV\u001b[0m\u001b[1;33m(\u001b[0m\u001b[0mrequest_index\u001b[0m\u001b[1;33m,\u001b[0m \u001b[0mcandidate_index\u001b[0m \u001b[1;33m+\u001b[0m \u001b[1;36m1\u001b[0m\u001b[1;33m,\u001b[0m \u001b[0msalary_left\u001b[0m\u001b[1;33m)\u001b[0m\u001b[1;33m\u001b[0m\u001b[0m\n\u001b[0m\u001b[0;32m     36\u001b[0m     \u001b[1;32mif\u001b[0m \u001b[0mc1\u001b[0m\u001b[1;33m.\u001b[0m\u001b[0mposition\u001b[0m \u001b[1;33m!=\u001b[0m \u001b[0mrequest\u001b[0m\u001b[1;33m[\u001b[0m\u001b[0mrequest_index\u001b[0m\u001b[1;33m]\u001b[0m \u001b[1;32mor\u001b[0m \u001b[0msal1\u001b[0m \u001b[1;33m>\u001b[0m \u001b[0msalary_left\u001b[0m\u001b[1;33m:\u001b[0m\u001b[1;33m\u001b[0m\u001b[0m\n\u001b[0;32m     37\u001b[0m       \u001b[0mmemo\u001b[0m\u001b[1;33m[\u001b[0m\u001b[0mrequest_index\u001b[0m\u001b[1;33m]\u001b[0m\u001b[1;33m[\u001b[0m\u001b[0mcandidate_index\u001b[0m\u001b[1;33m]\u001b[0m\u001b[1;33m[\u001b[0m\u001b[0msalary_left\u001b[0m\u001b[1;33m]\u001b[0m \u001b[1;33m=\u001b[0m \u001b[0mskip_score\u001b[0m\u001b[1;33m\u001b[0m\u001b[0m\n",
        "\u001b[1;32mC:\\Coding\\FanDuel\\src\\analysis\\knapsack.py\u001b[0m in \u001b[0;36mGV\u001b[1;34m(request_index, candidate_index, salary_left)\u001b[0m\n\u001b[0;32m     38\u001b[0m       \u001b[1;32mreturn\u001b[0m \u001b[0mskip_score\u001b[0m\u001b[1;33m\u001b[0m\u001b[0m\n\u001b[0;32m     39\u001b[0m     \u001b[1;32melse\u001b[0m\u001b[1;33m:\u001b[0m\u001b[1;33m\u001b[0m\u001b[0m\n\u001b[1;32m---> 40\u001b[1;33m       \u001b[0mres\u001b[0m \u001b[1;33m=\u001b[0m \u001b[0mmax\u001b[0m\u001b[1;33m(\u001b[0m\u001b[0mskip_score\u001b[0m\u001b[1;33m,\u001b[0m \u001b[0mc1\u001b[0m\u001b[1;33m.\u001b[0m\u001b[0mpts\u001b[0m \u001b[1;33m+\u001b[0m \u001b[0mGV\u001b[0m\u001b[1;33m(\u001b[0m\u001b[0mrequest_index\u001b[0m \u001b[1;33m+\u001b[0m \u001b[1;36m1\u001b[0m\u001b[1;33m,\u001b[0m \u001b[0mcandidate_index\u001b[0m \u001b[1;33m+\u001b[0m \u001b[1;36m1\u001b[0m\u001b[1;33m,\u001b[0m \u001b[0msalary_left\u001b[0m \u001b[1;33m-\u001b[0m \u001b[0msal1\u001b[0m\u001b[1;33m)\u001b[0m\u001b[1;33m)\u001b[0m\u001b[1;33m\u001b[0m\u001b[0m\n\u001b[0m\u001b[0;32m     41\u001b[0m       \u001b[0mmemo\u001b[0m\u001b[1;33m[\u001b[0m\u001b[0mrequest_index\u001b[0m\u001b[1;33m]\u001b[0m\u001b[1;33m[\u001b[0m\u001b[0mcandidate_index\u001b[0m\u001b[1;33m]\u001b[0m\u001b[1;33m[\u001b[0m\u001b[0msalary_left\u001b[0m\u001b[1;33m]\u001b[0m \u001b[1;33m=\u001b[0m \u001b[0mres\u001b[0m\u001b[1;33m\u001b[0m\u001b[0m\n\u001b[0;32m     42\u001b[0m       \u001b[1;32mreturn\u001b[0m \u001b[0mres\u001b[0m\u001b[1;33m\u001b[0m\u001b[0m\n",
        "\u001b[1;32mC:\\Coding\\FanDuel\\src\\analysis\\knapsack.py\u001b[0m in \u001b[0;36mGV\u001b[1;34m(request_index, candidate_index, salary_left)\u001b[0m\n\u001b[0;32m     33\u001b[0m     \u001b[0mc1\u001b[0m \u001b[1;33m=\u001b[0m \u001b[0mcandidates\u001b[0m\u001b[1;33m[\u001b[0m\u001b[0mcandidate_index\u001b[0m\u001b[1;33m]\u001b[0m\u001b[1;33m\u001b[0m\u001b[0m\n\u001b[0;32m     34\u001b[0m     \u001b[0msal1\u001b[0m \u001b[1;33m=\u001b[0m \u001b[0msalaries\u001b[0m\u001b[1;33m[\u001b[0m\u001b[0mcandidate_index\u001b[0m\u001b[1;33m]\u001b[0m\u001b[1;33m\u001b[0m\u001b[0m\n\u001b[1;32m---> 35\u001b[1;33m     \u001b[0mskip_score\u001b[0m \u001b[1;33m=\u001b[0m \u001b[0mGV\u001b[0m\u001b[1;33m(\u001b[0m\u001b[0mrequest_index\u001b[0m\u001b[1;33m,\u001b[0m \u001b[0mcandidate_index\u001b[0m \u001b[1;33m+\u001b[0m \u001b[1;36m1\u001b[0m\u001b[1;33m,\u001b[0m \u001b[0msalary_left\u001b[0m\u001b[1;33m)\u001b[0m\u001b[1;33m\u001b[0m\u001b[0m\n\u001b[0m\u001b[0;32m     36\u001b[0m     \u001b[1;32mif\u001b[0m \u001b[0mc1\u001b[0m\u001b[1;33m.\u001b[0m\u001b[0mposition\u001b[0m \u001b[1;33m!=\u001b[0m \u001b[0mrequest\u001b[0m\u001b[1;33m[\u001b[0m\u001b[0mrequest_index\u001b[0m\u001b[1;33m]\u001b[0m \u001b[1;32mor\u001b[0m \u001b[0msal1\u001b[0m \u001b[1;33m>\u001b[0m \u001b[0msalary_left\u001b[0m\u001b[1;33m:\u001b[0m\u001b[1;33m\u001b[0m\u001b[0m\n\u001b[0;32m     37\u001b[0m       \u001b[0mmemo\u001b[0m\u001b[1;33m[\u001b[0m\u001b[0mrequest_index\u001b[0m\u001b[1;33m]\u001b[0m\u001b[1;33m[\u001b[0m\u001b[0mcandidate_index\u001b[0m\u001b[1;33m]\u001b[0m\u001b[1;33m[\u001b[0m\u001b[0msalary_left\u001b[0m\u001b[1;33m]\u001b[0m \u001b[1;33m=\u001b[0m \u001b[0mskip_score\u001b[0m\u001b[1;33m\u001b[0m\u001b[0m\n",
        "\u001b[1;32mC:\\Coding\\FanDuel\\src\\analysis\\knapsack.py\u001b[0m in \u001b[0;36mGV\u001b[1;34m(request_index, candidate_index, salary_left)\u001b[0m\n\u001b[0;32m     33\u001b[0m     \u001b[0mc1\u001b[0m \u001b[1;33m=\u001b[0m \u001b[0mcandidates\u001b[0m\u001b[1;33m[\u001b[0m\u001b[0mcandidate_index\u001b[0m\u001b[1;33m]\u001b[0m\u001b[1;33m\u001b[0m\u001b[0m\n\u001b[0;32m     34\u001b[0m     \u001b[0msal1\u001b[0m \u001b[1;33m=\u001b[0m \u001b[0msalaries\u001b[0m\u001b[1;33m[\u001b[0m\u001b[0mcandidate_index\u001b[0m\u001b[1;33m]\u001b[0m\u001b[1;33m\u001b[0m\u001b[0m\n\u001b[1;32m---> 35\u001b[1;33m     \u001b[0mskip_score\u001b[0m \u001b[1;33m=\u001b[0m \u001b[0mGV\u001b[0m\u001b[1;33m(\u001b[0m\u001b[0mrequest_index\u001b[0m\u001b[1;33m,\u001b[0m \u001b[0mcandidate_index\u001b[0m \u001b[1;33m+\u001b[0m \u001b[1;36m1\u001b[0m\u001b[1;33m,\u001b[0m \u001b[0msalary_left\u001b[0m\u001b[1;33m)\u001b[0m\u001b[1;33m\u001b[0m\u001b[0m\n\u001b[0m\u001b[0;32m     36\u001b[0m     \u001b[1;32mif\u001b[0m \u001b[0mc1\u001b[0m\u001b[1;33m.\u001b[0m\u001b[0mposition\u001b[0m \u001b[1;33m!=\u001b[0m \u001b[0mrequest\u001b[0m\u001b[1;33m[\u001b[0m\u001b[0mrequest_index\u001b[0m\u001b[1;33m]\u001b[0m \u001b[1;32mor\u001b[0m \u001b[0msal1\u001b[0m \u001b[1;33m>\u001b[0m \u001b[0msalary_left\u001b[0m\u001b[1;33m:\u001b[0m\u001b[1;33m\u001b[0m\u001b[0m\n\u001b[0;32m     37\u001b[0m       \u001b[0mmemo\u001b[0m\u001b[1;33m[\u001b[0m\u001b[0mrequest_index\u001b[0m\u001b[1;33m]\u001b[0m\u001b[1;33m[\u001b[0m\u001b[0mcandidate_index\u001b[0m\u001b[1;33m]\u001b[0m\u001b[1;33m[\u001b[0m\u001b[0msalary_left\u001b[0m\u001b[1;33m]\u001b[0m \u001b[1;33m=\u001b[0m \u001b[0mskip_score\u001b[0m\u001b[1;33m\u001b[0m\u001b[0m\n",
        "\u001b[1;32mC:\\Coding\\FanDuel\\src\\analysis\\knapsack.py\u001b[0m in \u001b[0;36mGV\u001b[1;34m(request_index, candidate_index, salary_left)\u001b[0m\n\u001b[0;32m     33\u001b[0m     \u001b[0mc1\u001b[0m \u001b[1;33m=\u001b[0m \u001b[0mcandidates\u001b[0m\u001b[1;33m[\u001b[0m\u001b[0mcandidate_index\u001b[0m\u001b[1;33m]\u001b[0m\u001b[1;33m\u001b[0m\u001b[0m\n\u001b[0;32m     34\u001b[0m     \u001b[0msal1\u001b[0m \u001b[1;33m=\u001b[0m \u001b[0msalaries\u001b[0m\u001b[1;33m[\u001b[0m\u001b[0mcandidate_index\u001b[0m\u001b[1;33m]\u001b[0m\u001b[1;33m\u001b[0m\u001b[0m\n\u001b[1;32m---> 35\u001b[1;33m     \u001b[0mskip_score\u001b[0m \u001b[1;33m=\u001b[0m \u001b[0mGV\u001b[0m\u001b[1;33m(\u001b[0m\u001b[0mrequest_index\u001b[0m\u001b[1;33m,\u001b[0m \u001b[0mcandidate_index\u001b[0m \u001b[1;33m+\u001b[0m \u001b[1;36m1\u001b[0m\u001b[1;33m,\u001b[0m \u001b[0msalary_left\u001b[0m\u001b[1;33m)\u001b[0m\u001b[1;33m\u001b[0m\u001b[0m\n\u001b[0m\u001b[0;32m     36\u001b[0m     \u001b[1;32mif\u001b[0m \u001b[0mc1\u001b[0m\u001b[1;33m.\u001b[0m\u001b[0mposition\u001b[0m \u001b[1;33m!=\u001b[0m \u001b[0mrequest\u001b[0m\u001b[1;33m[\u001b[0m\u001b[0mrequest_index\u001b[0m\u001b[1;33m]\u001b[0m \u001b[1;32mor\u001b[0m \u001b[0msal1\u001b[0m \u001b[1;33m>\u001b[0m \u001b[0msalary_left\u001b[0m\u001b[1;33m:\u001b[0m\u001b[1;33m\u001b[0m\u001b[0m\n\u001b[0;32m     37\u001b[0m       \u001b[0mmemo\u001b[0m\u001b[1;33m[\u001b[0m\u001b[0mrequest_index\u001b[0m\u001b[1;33m]\u001b[0m\u001b[1;33m[\u001b[0m\u001b[0mcandidate_index\u001b[0m\u001b[1;33m]\u001b[0m\u001b[1;33m[\u001b[0m\u001b[0msalary_left\u001b[0m\u001b[1;33m]\u001b[0m \u001b[1;33m=\u001b[0m \u001b[0mskip_score\u001b[0m\u001b[1;33m\u001b[0m\u001b[0m\n",
        "\u001b[1;32mC:\\Coding\\FanDuel\\src\\analysis\\knapsack.py\u001b[0m in \u001b[0;36mGV\u001b[1;34m(request_index, candidate_index, salary_left)\u001b[0m\n\u001b[0;32m     38\u001b[0m       \u001b[1;32mreturn\u001b[0m \u001b[0mskip_score\u001b[0m\u001b[1;33m\u001b[0m\u001b[0m\n\u001b[0;32m     39\u001b[0m     \u001b[1;32melse\u001b[0m\u001b[1;33m:\u001b[0m\u001b[1;33m\u001b[0m\u001b[0m\n\u001b[1;32m---> 40\u001b[1;33m       \u001b[0mres\u001b[0m \u001b[1;33m=\u001b[0m \u001b[0mmax\u001b[0m\u001b[1;33m(\u001b[0m\u001b[0mskip_score\u001b[0m\u001b[1;33m,\u001b[0m \u001b[0mc1\u001b[0m\u001b[1;33m.\u001b[0m\u001b[0mpts\u001b[0m \u001b[1;33m+\u001b[0m \u001b[0mGV\u001b[0m\u001b[1;33m(\u001b[0m\u001b[0mrequest_index\u001b[0m \u001b[1;33m+\u001b[0m \u001b[1;36m1\u001b[0m\u001b[1;33m,\u001b[0m \u001b[0mcandidate_index\u001b[0m \u001b[1;33m+\u001b[0m \u001b[1;36m1\u001b[0m\u001b[1;33m,\u001b[0m \u001b[0msalary_left\u001b[0m \u001b[1;33m-\u001b[0m \u001b[0msal1\u001b[0m\u001b[1;33m)\u001b[0m\u001b[1;33m)\u001b[0m\u001b[1;33m\u001b[0m\u001b[0m\n\u001b[0m\u001b[0;32m     41\u001b[0m       \u001b[0mmemo\u001b[0m\u001b[1;33m[\u001b[0m\u001b[0mrequest_index\u001b[0m\u001b[1;33m]\u001b[0m\u001b[1;33m[\u001b[0m\u001b[0mcandidate_index\u001b[0m\u001b[1;33m]\u001b[0m\u001b[1;33m[\u001b[0m\u001b[0msalary_left\u001b[0m\u001b[1;33m]\u001b[0m \u001b[1;33m=\u001b[0m \u001b[0mres\u001b[0m\u001b[1;33m\u001b[0m\u001b[0m\n\u001b[0;32m     42\u001b[0m       \u001b[1;32mreturn\u001b[0m \u001b[0mres\u001b[0m\u001b[1;33m\u001b[0m\u001b[0m\n",
        "\u001b[1;32mC:\\Coding\\FanDuel\\src\\analysis\\knapsack.py\u001b[0m in \u001b[0;36mGV\u001b[1;34m(request_index, candidate_index, salary_left)\u001b[0m\n\u001b[0;32m     33\u001b[0m     \u001b[0mc1\u001b[0m \u001b[1;33m=\u001b[0m \u001b[0mcandidates\u001b[0m\u001b[1;33m[\u001b[0m\u001b[0mcandidate_index\u001b[0m\u001b[1;33m]\u001b[0m\u001b[1;33m\u001b[0m\u001b[0m\n\u001b[0;32m     34\u001b[0m     \u001b[0msal1\u001b[0m \u001b[1;33m=\u001b[0m \u001b[0msalaries\u001b[0m\u001b[1;33m[\u001b[0m\u001b[0mcandidate_index\u001b[0m\u001b[1;33m]\u001b[0m\u001b[1;33m\u001b[0m\u001b[0m\n\u001b[1;32m---> 35\u001b[1;33m     \u001b[0mskip_score\u001b[0m \u001b[1;33m=\u001b[0m \u001b[0mGV\u001b[0m\u001b[1;33m(\u001b[0m\u001b[0mrequest_index\u001b[0m\u001b[1;33m,\u001b[0m \u001b[0mcandidate_index\u001b[0m \u001b[1;33m+\u001b[0m \u001b[1;36m1\u001b[0m\u001b[1;33m,\u001b[0m \u001b[0msalary_left\u001b[0m\u001b[1;33m)\u001b[0m\u001b[1;33m\u001b[0m\u001b[0m\n\u001b[0m\u001b[0;32m     36\u001b[0m     \u001b[1;32mif\u001b[0m \u001b[0mc1\u001b[0m\u001b[1;33m.\u001b[0m\u001b[0mposition\u001b[0m \u001b[1;33m!=\u001b[0m \u001b[0mrequest\u001b[0m\u001b[1;33m[\u001b[0m\u001b[0mrequest_index\u001b[0m\u001b[1;33m]\u001b[0m \u001b[1;32mor\u001b[0m \u001b[0msal1\u001b[0m \u001b[1;33m>\u001b[0m \u001b[0msalary_left\u001b[0m\u001b[1;33m:\u001b[0m\u001b[1;33m\u001b[0m\u001b[0m\n\u001b[0;32m     37\u001b[0m       \u001b[0mmemo\u001b[0m\u001b[1;33m[\u001b[0m\u001b[0mrequest_index\u001b[0m\u001b[1;33m]\u001b[0m\u001b[1;33m[\u001b[0m\u001b[0mcandidate_index\u001b[0m\u001b[1;33m]\u001b[0m\u001b[1;33m[\u001b[0m\u001b[0msalary_left\u001b[0m\u001b[1;33m]\u001b[0m \u001b[1;33m=\u001b[0m \u001b[0mskip_score\u001b[0m\u001b[1;33m\u001b[0m\u001b[0m\n",
        "\u001b[1;32mC:\\Coding\\FanDuel\\src\\analysis\\knapsack.py\u001b[0m in \u001b[0;36mGV\u001b[1;34m(request_index, candidate_index, salary_left)\u001b[0m\n\u001b[0;32m     33\u001b[0m     \u001b[0mc1\u001b[0m \u001b[1;33m=\u001b[0m \u001b[0mcandidates\u001b[0m\u001b[1;33m[\u001b[0m\u001b[0mcandidate_index\u001b[0m\u001b[1;33m]\u001b[0m\u001b[1;33m\u001b[0m\u001b[0m\n\u001b[0;32m     34\u001b[0m     \u001b[0msal1\u001b[0m \u001b[1;33m=\u001b[0m \u001b[0msalaries\u001b[0m\u001b[1;33m[\u001b[0m\u001b[0mcandidate_index\u001b[0m\u001b[1;33m]\u001b[0m\u001b[1;33m\u001b[0m\u001b[0m\n\u001b[1;32m---> 35\u001b[1;33m     \u001b[0mskip_score\u001b[0m \u001b[1;33m=\u001b[0m \u001b[0mGV\u001b[0m\u001b[1;33m(\u001b[0m\u001b[0mrequest_index\u001b[0m\u001b[1;33m,\u001b[0m \u001b[0mcandidate_index\u001b[0m \u001b[1;33m+\u001b[0m \u001b[1;36m1\u001b[0m\u001b[1;33m,\u001b[0m \u001b[0msalary_left\u001b[0m\u001b[1;33m)\u001b[0m\u001b[1;33m\u001b[0m\u001b[0m\n\u001b[0m\u001b[0;32m     36\u001b[0m     \u001b[1;32mif\u001b[0m \u001b[0mc1\u001b[0m\u001b[1;33m.\u001b[0m\u001b[0mposition\u001b[0m \u001b[1;33m!=\u001b[0m \u001b[0mrequest\u001b[0m\u001b[1;33m[\u001b[0m\u001b[0mrequest_index\u001b[0m\u001b[1;33m]\u001b[0m \u001b[1;32mor\u001b[0m \u001b[0msal1\u001b[0m \u001b[1;33m>\u001b[0m \u001b[0msalary_left\u001b[0m\u001b[1;33m:\u001b[0m\u001b[1;33m\u001b[0m\u001b[0m\n\u001b[0;32m     37\u001b[0m       \u001b[0mmemo\u001b[0m\u001b[1;33m[\u001b[0m\u001b[0mrequest_index\u001b[0m\u001b[1;33m]\u001b[0m\u001b[1;33m[\u001b[0m\u001b[0mcandidate_index\u001b[0m\u001b[1;33m]\u001b[0m\u001b[1;33m[\u001b[0m\u001b[0msalary_left\u001b[0m\u001b[1;33m]\u001b[0m \u001b[1;33m=\u001b[0m \u001b[0mskip_score\u001b[0m\u001b[1;33m\u001b[0m\u001b[0m\n",
        "\u001b[1;32mC:\\Coding\\FanDuel\\src\\analysis\\knapsack.py\u001b[0m in \u001b[0;36mGV\u001b[1;34m(request_index, candidate_index, salary_left)\u001b[0m\n\u001b[0;32m     38\u001b[0m       \u001b[1;32mreturn\u001b[0m \u001b[0mskip_score\u001b[0m\u001b[1;33m\u001b[0m\u001b[0m\n\u001b[0;32m     39\u001b[0m     \u001b[1;32melse\u001b[0m\u001b[1;33m:\u001b[0m\u001b[1;33m\u001b[0m\u001b[0m\n\u001b[1;32m---> 40\u001b[1;33m       \u001b[0mres\u001b[0m \u001b[1;33m=\u001b[0m \u001b[0mmax\u001b[0m\u001b[1;33m(\u001b[0m\u001b[0mskip_score\u001b[0m\u001b[1;33m,\u001b[0m \u001b[0mc1\u001b[0m\u001b[1;33m.\u001b[0m\u001b[0mpts\u001b[0m \u001b[1;33m+\u001b[0m \u001b[0mGV\u001b[0m\u001b[1;33m(\u001b[0m\u001b[0mrequest_index\u001b[0m \u001b[1;33m+\u001b[0m \u001b[1;36m1\u001b[0m\u001b[1;33m,\u001b[0m \u001b[0mcandidate_index\u001b[0m \u001b[1;33m+\u001b[0m \u001b[1;36m1\u001b[0m\u001b[1;33m,\u001b[0m \u001b[0msalary_left\u001b[0m \u001b[1;33m-\u001b[0m \u001b[0msal1\u001b[0m\u001b[1;33m)\u001b[0m\u001b[1;33m)\u001b[0m\u001b[1;33m\u001b[0m\u001b[0m\n\u001b[0m\u001b[0;32m     41\u001b[0m       \u001b[0mmemo\u001b[0m\u001b[1;33m[\u001b[0m\u001b[0mrequest_index\u001b[0m\u001b[1;33m]\u001b[0m\u001b[1;33m[\u001b[0m\u001b[0mcandidate_index\u001b[0m\u001b[1;33m]\u001b[0m\u001b[1;33m[\u001b[0m\u001b[0msalary_left\u001b[0m\u001b[1;33m]\u001b[0m \u001b[1;33m=\u001b[0m \u001b[0mres\u001b[0m\u001b[1;33m\u001b[0m\u001b[0m\n\u001b[0;32m     42\u001b[0m       \u001b[1;32mreturn\u001b[0m \u001b[0mres\u001b[0m\u001b[1;33m\u001b[0m\u001b[0m\n",
        "\u001b[1;32mC:\\Coding\\FanDuel\\src\\analysis\\knapsack.py\u001b[0m in \u001b[0;36mGV\u001b[1;34m(request_index, candidate_index, salary_left)\u001b[0m\n\u001b[0;32m     33\u001b[0m     \u001b[0mc1\u001b[0m \u001b[1;33m=\u001b[0m \u001b[0mcandidates\u001b[0m\u001b[1;33m[\u001b[0m\u001b[0mcandidate_index\u001b[0m\u001b[1;33m]\u001b[0m\u001b[1;33m\u001b[0m\u001b[0m\n\u001b[0;32m     34\u001b[0m     \u001b[0msal1\u001b[0m \u001b[1;33m=\u001b[0m \u001b[0msalaries\u001b[0m\u001b[1;33m[\u001b[0m\u001b[0mcandidate_index\u001b[0m\u001b[1;33m]\u001b[0m\u001b[1;33m\u001b[0m\u001b[0m\n\u001b[1;32m---> 35\u001b[1;33m     \u001b[0mskip_score\u001b[0m \u001b[1;33m=\u001b[0m \u001b[0mGV\u001b[0m\u001b[1;33m(\u001b[0m\u001b[0mrequest_index\u001b[0m\u001b[1;33m,\u001b[0m \u001b[0mcandidate_index\u001b[0m \u001b[1;33m+\u001b[0m \u001b[1;36m1\u001b[0m\u001b[1;33m,\u001b[0m \u001b[0msalary_left\u001b[0m\u001b[1;33m)\u001b[0m\u001b[1;33m\u001b[0m\u001b[0m\n\u001b[0m\u001b[0;32m     36\u001b[0m     \u001b[1;32mif\u001b[0m \u001b[0mc1\u001b[0m\u001b[1;33m.\u001b[0m\u001b[0mposition\u001b[0m \u001b[1;33m!=\u001b[0m \u001b[0mrequest\u001b[0m\u001b[1;33m[\u001b[0m\u001b[0mrequest_index\u001b[0m\u001b[1;33m]\u001b[0m \u001b[1;32mor\u001b[0m \u001b[0msal1\u001b[0m \u001b[1;33m>\u001b[0m \u001b[0msalary_left\u001b[0m\u001b[1;33m:\u001b[0m\u001b[1;33m\u001b[0m\u001b[0m\n\u001b[0;32m     37\u001b[0m       \u001b[0mmemo\u001b[0m\u001b[1;33m[\u001b[0m\u001b[0mrequest_index\u001b[0m\u001b[1;33m]\u001b[0m\u001b[1;33m[\u001b[0m\u001b[0mcandidate_index\u001b[0m\u001b[1;33m]\u001b[0m\u001b[1;33m[\u001b[0m\u001b[0msalary_left\u001b[0m\u001b[1;33m]\u001b[0m \u001b[1;33m=\u001b[0m \u001b[0mskip_score\u001b[0m\u001b[1;33m\u001b[0m\u001b[0m\n",
        "\u001b[1;32mC:\\Coding\\FanDuel\\src\\analysis\\knapsack.py\u001b[0m in \u001b[0;36mGV\u001b[1;34m(request_index, candidate_index, salary_left)\u001b[0m\n\u001b[0;32m     38\u001b[0m       \u001b[1;32mreturn\u001b[0m \u001b[0mskip_score\u001b[0m\u001b[1;33m\u001b[0m\u001b[0m\n\u001b[0;32m     39\u001b[0m     \u001b[1;32melse\u001b[0m\u001b[1;33m:\u001b[0m\u001b[1;33m\u001b[0m\u001b[0m\n\u001b[1;32m---> 40\u001b[1;33m       \u001b[0mres\u001b[0m \u001b[1;33m=\u001b[0m \u001b[0mmax\u001b[0m\u001b[1;33m(\u001b[0m\u001b[0mskip_score\u001b[0m\u001b[1;33m,\u001b[0m \u001b[0mc1\u001b[0m\u001b[1;33m.\u001b[0m\u001b[0mpts\u001b[0m \u001b[1;33m+\u001b[0m \u001b[0mGV\u001b[0m\u001b[1;33m(\u001b[0m\u001b[0mrequest_index\u001b[0m \u001b[1;33m+\u001b[0m \u001b[1;36m1\u001b[0m\u001b[1;33m,\u001b[0m \u001b[0mcandidate_index\u001b[0m \u001b[1;33m+\u001b[0m \u001b[1;36m1\u001b[0m\u001b[1;33m,\u001b[0m \u001b[0msalary_left\u001b[0m \u001b[1;33m-\u001b[0m \u001b[0msal1\u001b[0m\u001b[1;33m)\u001b[0m\u001b[1;33m)\u001b[0m\u001b[1;33m\u001b[0m\u001b[0m\n\u001b[0m\u001b[0;32m     41\u001b[0m       \u001b[0mmemo\u001b[0m\u001b[1;33m[\u001b[0m\u001b[0mrequest_index\u001b[0m\u001b[1;33m]\u001b[0m\u001b[1;33m[\u001b[0m\u001b[0mcandidate_index\u001b[0m\u001b[1;33m]\u001b[0m\u001b[1;33m[\u001b[0m\u001b[0msalary_left\u001b[0m\u001b[1;33m]\u001b[0m \u001b[1;33m=\u001b[0m \u001b[0mres\u001b[0m\u001b[1;33m\u001b[0m\u001b[0m\n\u001b[0;32m     42\u001b[0m       \u001b[1;32mreturn\u001b[0m \u001b[0mres\u001b[0m\u001b[1;33m\u001b[0m\u001b[0m\n",
        "\u001b[1;32mC:\\Coding\\FanDuel\\src\\analysis\\knapsack.py\u001b[0m in \u001b[0;36mGV\u001b[1;34m(request_index, candidate_index, salary_left)\u001b[0m\n\u001b[0;32m     33\u001b[0m     \u001b[0mc1\u001b[0m \u001b[1;33m=\u001b[0m \u001b[0mcandidates\u001b[0m\u001b[1;33m[\u001b[0m\u001b[0mcandidate_index\u001b[0m\u001b[1;33m]\u001b[0m\u001b[1;33m\u001b[0m\u001b[0m\n\u001b[0;32m     34\u001b[0m     \u001b[0msal1\u001b[0m \u001b[1;33m=\u001b[0m \u001b[0msalaries\u001b[0m\u001b[1;33m[\u001b[0m\u001b[0mcandidate_index\u001b[0m\u001b[1;33m]\u001b[0m\u001b[1;33m\u001b[0m\u001b[0m\n\u001b[1;32m---> 35\u001b[1;33m     \u001b[0mskip_score\u001b[0m \u001b[1;33m=\u001b[0m \u001b[0mGV\u001b[0m\u001b[1;33m(\u001b[0m\u001b[0mrequest_index\u001b[0m\u001b[1;33m,\u001b[0m \u001b[0mcandidate_index\u001b[0m \u001b[1;33m+\u001b[0m \u001b[1;36m1\u001b[0m\u001b[1;33m,\u001b[0m \u001b[0msalary_left\u001b[0m\u001b[1;33m)\u001b[0m\u001b[1;33m\u001b[0m\u001b[0m\n\u001b[0m\u001b[0;32m     36\u001b[0m     \u001b[1;32mif\u001b[0m \u001b[0mc1\u001b[0m\u001b[1;33m.\u001b[0m\u001b[0mposition\u001b[0m \u001b[1;33m!=\u001b[0m \u001b[0mrequest\u001b[0m\u001b[1;33m[\u001b[0m\u001b[0mrequest_index\u001b[0m\u001b[1;33m]\u001b[0m \u001b[1;32mor\u001b[0m \u001b[0msal1\u001b[0m \u001b[1;33m>\u001b[0m \u001b[0msalary_left\u001b[0m\u001b[1;33m:\u001b[0m\u001b[1;33m\u001b[0m\u001b[0m\n\u001b[0;32m     37\u001b[0m       \u001b[0mmemo\u001b[0m\u001b[1;33m[\u001b[0m\u001b[0mrequest_index\u001b[0m\u001b[1;33m]\u001b[0m\u001b[1;33m[\u001b[0m\u001b[0mcandidate_index\u001b[0m\u001b[1;33m]\u001b[0m\u001b[1;33m[\u001b[0m\u001b[0msalary_left\u001b[0m\u001b[1;33m]\u001b[0m \u001b[1;33m=\u001b[0m \u001b[0mskip_score\u001b[0m\u001b[1;33m\u001b[0m\u001b[0m\n",
        "\u001b[1;31mKeyboardInterrupt\u001b[0m: "
       ]
      }
     ],
     "prompt_number": 162
    },
    {
     "cell_type": "code",
     "collapsed": false,
     "input": [
      "Compare(DF_15, **dict(models))"
     ],
     "language": "python",
     "metadata": {},
     "outputs": [
      {
       "output_type": "stream",
       "stream": "stdout",
       "text": [
        "1 model_50\n",
        "2 model_75\n",
        "3 model_10\n",
        "4 model_100\n",
        "5 model_25\n",
        "6 ((fantasy_pts_per_game * (((team_poss_per_game + other_poss_per_game) / 2.0) / team_poss_per_game)) + ((-0.3 & (player_rest == 1.0)) | 0.0))\n",
        "7 (((((pts_per_game + (1.5 * ast_per_game)) * (other_def_rating_per_game / 1.041)) + (((1.2 * trb_per_game) + (2.0 * (blk_per_game + stl_per_game))) - tov_per_game)) * (((team_poss_per_game + other_poss_per_game) / 2.0) / team_poss_per_game)) + ((0.5 & is_home) | 0.0))\n",
        "237.8\t\t235.9\t\t237.8\t\t237.8\t\t237.8\t\t244.2\t\t244.7\t\tmedian"
       ]
      },
      {
       "output_type": "stream",
       "stream": "stdout",
       "text": [
        "\n",
        "234.5\t\t236.7\t\t234.0\t\t236.0\t\t237.2\t\t241.9\t\t240.5\t\tmean\n",
        " \t1          \t2          \t3          \t4          \t5          \t6          \t7          \n",
        "1\t    XXX    \t4 : 9 (29) \t17 : 22 (3)\t5 : 11 (26)\t7 : 12 (23)\t19 : 22 (1)\t18 : 23 (1)\n",
        "2\t9 : 4 (29) \t    XXX    \t18 : 21 (3)\t4 : 7 (31) \t6 : 8 (28) \t18 : 23 (1)\t18 : 22 (2)\n",
        "3\t22 : 17 (3)\t21 : 18 (3)\t    XXX    \t21 : 18 (3)\t21 : 18 (3)\t16 : 25 (1)\t20 : 20 (2)\n",
        "4\t11 : 5 (26)\t7 : 4 (31) \t18 : 21 (3)\t    XXX    \t7 : 6 (29) \t19 : 22 (1)\t19 : 22 (1)\n",
        "5\t12 : 7 (23)\t8 : 6 (28) \t18 : 21 (3)\t6 : 7 (29) \t    XXX    \t18 : 23 (1)\t20 : 21 (1)\n",
        "6\t22 : 19 (1)\t23 : 18 (1)\t25 : 16 (1)\t22 : 19 (1)\t23 : 18 (1)\t    XXX    \t22 : 17 (3)\n",
        "7\t23 : 18 (1)\t22 : 18 (2)\t20 : 20 (2)\t22 : 19 (1)\t21 : 20 (1)\t17 : 22 (3)\t    XXX    \n"
       ]
      }
     ],
     "prompt_number": 160
    },
    {
     "cell_type": "code",
     "collapsed": false,
     "input": [
      "models = [(50, forest_model)]\n",
      "for n_steps in [10, 25, 75, 100]:\n",
      "    forest = ensemble.RandomForestRegressor(\n",
      "        n_estimators=n_steps, max_depth=1, min_samples_leaf=20, min_samples_split=40)\n",
      "    models.append((n_steps, forest.fit(input_data, target)))"
     ],
     "language": "python",
     "metadata": {},
     "outputs": [],
     "prompt_number": 155
    },
    {
     "cell_type": "code",
     "collapsed": false,
     "input": [
      "mm = models[0][1]"
     ],
     "language": "python",
     "metadata": {},
     "outputs": [],
     "prompt_number": 163
    },
    {
     "cell_type": "code",
     "collapsed": false,
     "input": [
      "gb_model = ensemble.GradientBoostingRegressor(subsample=.5, min_samples_leaf=5, min_samples_split=10,\n",
      "                                              max_depth=1, n_estimators=200)"
     ],
     "language": "python",
     "metadata": {},
     "outputs": [],
     "prompt_number": 205
    },
    {
     "cell_type": "code",
     "collapsed": false,
     "input": [
      "gb_model.fit(input_data, target)"
     ],
     "language": "python",
     "metadata": {},
     "outputs": [
      {
       "metadata": {},
       "output_type": "pyout",
       "prompt_number": 206,
       "text": [
        "GradientBoostingRegressor(init=<sklearn.ensemble.gradient_boosting.MeanEstimator object at 0x09164D90>,\n",
        "             learn_rate=0.1, loss='ls', max_depth=1, min_samples_leaf=5,\n",
        "             min_samples_split=10, n_estimators=200,\n",
        "             random_state=<mtrand.RandomState object at 0x03613C80>,\n",
        "             subsample=0.5)"
       ]
      }
     ],
     "prompt_number": 206
    },
    {
     "cell_type": "code",
     "collapsed": false,
     "input": [
      "df = fanduel_analysis.ENOUGH_DATA.Filter(DF_13)\n",
      "signals = [df[name] for name in signal_names]\n"
     ],
     "language": "python",
     "metadata": {},
     "outputs": [],
     "prompt_number": 213
    },
    {
     "cell_type": "code",
     "collapsed": false,
     "input": [
      "df.fantasy_pts[-20:]"
     ],
     "language": "python",
     "metadata": {},
     "outputs": [
      {
       "metadata": {},
       "output_type": "pyout",
       "prompt_number": 221,
       "text": [
        "willide02:201304170SAS    34.2\n",
        "acyqu01:201304170TOR      11.7\n",
        "anderal01:201304170TOR    23.8\n",
        "bassbr01:201304170TOR     10.1\n",
        "bradlav01:201304170TOR    18.1\n",
        "crawfjo02:201304170TOR    30.7\n",
        "derozde01:201304170TOR    30.6\n",
        "fieldla01:201304170TOR    24.7\n",
        "gayru01:201304170TOR      34.8\n",
        "grayaa01:201304170TOR      6.2\n",
        "greenje02:201304170TOR    16.2\n",
        "johnsam01:201304170TOR    17.4\n",
        "leeco01:201304170TOR      18.5\n",
        "lowryky01:201304170TOR    27.4\n",
        "lucasjo02:201304170TOR    14.2\n",
        "piercpa01:201304170TOR    15.7\n",
        "randosh01:201304170TOR     8.8\n",
        "valanjo01:201304170TOR    28.4\n",
        "wilcoch01:201304170TOR     3.2\n",
        "willite01:201304170TOR    27.3\n",
        "Name: fantasy_pts"
       ]
      }
     ],
     "prompt_number": 221
    },
    {
     "cell_type": "code",
     "collapsed": false,
     "input": [
      "np.atleast_2d(df[signal_names])[0]"
     ],
     "language": "python",
     "metadata": {},
     "outputs": [
      {
       "metadata": {},
       "output_type": "pyout",
       "prompt_number": 232,
       "text": [
        "array([  3.        ,   8.        ,   4.        ,   3.        ,\n",
        "         3.        ,   0.        ,  36.48333333])"
       ]
      }
     ],
     "prompt_number": 232
    },
    {
     "cell_type": "code",
     "collapsed": false,
     "input": [
      "df[signal_names].ast_per_game"
     ],
     "language": "python",
     "metadata": {},
     "outputs": [
      {
       "metadata": {},
       "output_type": "pyout",
       "prompt_number": 231,
       "text": [
        "artesro01:201210310POR    4\n",
        "blakest01:201210310POR    6\n",
        "bryanko01:201210310POR    0\n",
        "gasolpa01:201210310POR    6\n",
        "howardw01:201210310POR    2\n",
        "jamisan01:201210310POR    2\n",
        "nashst01:201210310POR     4\n",
        "beaubro01:201210310UTA    5\n",
        "brandel01:201210310UTA    2\n",
        "cartevi01:201210310UTA    2\n",
        "collida01:201210310UTA    4\n",
        "crowdja01:201210310UTA    2\n",
        "mariosh01:201210310UTA    4\n",
        "mayooj01:201210310UTA     3\n",
        "wrighbr03:201210310UTA    0\n",
        "...\n",
        "crawfjo02:201304170TOR    3.188406\n",
        "derozde01:201304170TOR    2.493827\n",
        "fieldla01:201304170TOR    1.163265\n",
        "gayru01:201304170TOR      2.702703\n",
        "grayaa01:201304170TOR     0.756098\n",
        "greenje02:201304170TOR    1.575000\n",
        "johnsam01:201304170TOR    1.500000\n",
        "leeco01:201304170TOR      1.844156\n",
        "lowryky01:201304170TOR    6.373134\n",
        "lucasjo02:201304170TOR    1.629032\n",
        "piercpa01:201304170TOR    4.855263\n",
        "randosh01:201304170TOR    0.266667\n",
        "valanjo01:201304170TOR    0.737705\n",
        "wilcoch01:201304170TOR    0.366667\n",
        "willite01:201304170TOR    1.434783\n",
        "Name: ast_per_game, Length: 20686"
       ]
      }
     ],
     "prompt_number": 231
    },
    {
     "cell_type": "code",
     "collapsed": false,
     "input": [
      "z.shape"
     ],
     "language": "python",
     "metadata": {},
     "outputs": [
      {
       "metadata": {},
       "output_type": "pyout",
       "prompt_number": 225,
       "text": [
        "(20686, 7)"
       ]
      }
     ],
     "prompt_number": 225
    },
    {
     "cell_type": "code",
     "collapsed": false,
     "input": [
      "linear.predict(zip(*signals))[-20:]"
     ],
     "language": "python",
     "metadata": {},
     "outputs": [
      {
       "metadata": {},
       "output_type": "pyout",
       "prompt_number": 218,
       "text": [
        "array([ 21.67156293,  12.54814526,  17.83345613,  19.03738828,\n",
        "        17.23858942,  21.27236711,  26.43180505,  14.13379078,\n",
        "        30.89573751,  11.59118904,  22.34187782,  24.9521552 ,\n",
        "        16.15026035,  28.05027836,  12.41775394,  33.82258776,\n",
        "        14.50723561,  20.63320399,  12.94665179,  12.21314624])"
       ]
      }
     ],
     "prompt_number": 218
    },
    {
     "cell_type": "code",
     "collapsed": false,
     "input": [
      "gb_model.predict(zip(*signals))[-20:]"
     ],
     "language": "python",
     "metadata": {},
     "outputs": [
      {
       "metadata": {},
       "output_type": "pyout",
       "prompt_number": 220,
       "text": [
        "array([ 22.21086429,  12.90974972,  16.26863476,  21.12956744,\n",
        "        19.07831234,  18.80316898,  27.40852521,  13.55529237,\n",
        "        32.83916172,  12.30609746,  23.56494214,  24.49375943,\n",
        "        15.56384218,  27.55787231,  12.04826209,  33.05281048,\n",
        "        14.05590163,  21.3643886 ,  12.85800422,  12.82268247])"
       ]
      }
     ],
     "prompt_number": 220
    },
    {
     "cell_type": "code",
     "collapsed": false,
     "input": [
      "gb_model = ensemble.GradientBoostingRegressor(subsample=.5, min_samples_leaf=5, min_samples_split=10,\n",
      "                                              max_depth=1, n_estimators=400)"
     ],
     "language": "python",
     "metadata": {},
     "outputs": [],
     "prompt_number": 238
    },
    {
     "cell_type": "code",
     "collapsed": false,
     "input": [
      "gb_model.fit(input_data, target)"
     ],
     "language": "python",
     "metadata": {},
     "outputs": [
      {
       "metadata": {},
       "output_type": "pyout",
       "prompt_number": 240,
       "text": [
        "GradientBoostingRegressor(init=<sklearn.ensemble.gradient_boosting.MeanEstimator object at 0x06C5DA50>,\n",
        "             learn_rate=0.1, loss='ls', max_depth=1, min_samples_leaf=5,\n",
        "             min_samples_split=10, n_estimators=400,\n",
        "             random_state=<mtrand.RandomState object at 0x03613C80>,\n",
        "             subsample=0.5)"
       ]
      }
     ],
     "prompt_number": 240
    },
    {
     "cell_type": "code",
     "collapsed": false,
     "input": [
      "\n",
      "test_deviance = np.zeros(gb_model.n_estimators, dtype=np.float64)\n",
      "df = fanduel_analysis.ENOUGH_DATA.Filter(DF_14)\n",
      "signals = [df[name] for name in signal_names]\n",
      "for i, y_pred in enumerate(gb_model.staged_decision_function(zip(*signals))):\n",
      "    test_deviance[i] = gb_model.loss_(df.fantasy_pts, y_pred)\n",
      "pl.plot((np.arange(test_deviance.shape[0]) + 1)[10::5], test_deviance[10::5], '-', color='b', label='training')"
     ],
     "language": "python",
     "metadata": {},
     "outputs": [
      {
       "metadata": {},
       "output_type": "pyout",
       "prompt_number": 242,
       "text": [
        "[<matplotlib.lines.Line2D at 0xa64a4b0>]"
       ]
      }
     ],
     "prompt_number": 242
    },
    {
     "cell_type": "code",
     "collapsed": false,
     "input": [
      "test_deviance = np.zeros(gb_model.n_estimators, dtype=np.float64)\n",
      "df = fanduel_analysis.ENOUGH_DATA.Filter(DF_13)\n",
      "signals = [df[name] for name in signal_names]\n",
      "for i, y_pred in enumerate(gb_model.staged_decision_function(zip(*signals))):\n",
      "    test_deviance[i] = gb_model.loss_(df.fantasy_pts, y_pred)\n",
      "pl.plot((np.arange(test_deviance.shape[0]) + 1)[10::5], test_deviance[10::5], '-', color='r', label='test')\n"
     ],
     "language": "python",
     "metadata": {},
     "outputs": [
      {
       "metadata": {},
       "output_type": "pyout",
       "prompt_number": 243,
       "text": [
        "[<matplotlib.lines.Line2D at 0xa6d1950>]"
       ]
      }
     ],
     "prompt_number": 243
    },
    {
     "cell_type": "code",
     "collapsed": false,
     "input": [
      "pl.show()"
     ],
     "language": "python",
     "metadata": {},
     "outputs": [],
     "prompt_number": 244
    },
    {
     "cell_type": "code",
     "collapsed": false,
     "input": [
      "gb_model.predict"
     ],
     "language": "python",
     "metadata": {},
     "outputs": []
    },
    {
     "cell_type": "code",
     "collapsed": false,
     "input": [
      "Compare(DF_15, linear=linear, gb_model=gb_model)\n",
      "Compare(DF_14, linear=linear, gb_model=gb_model)\n",
      "Compare(DF_13, linear=linear, gb_model=gb_model)"
     ],
     "language": "python",
     "metadata": {},
     "outputs": [
      {
       "output_type": "stream",
       "stream": "stdout",
       "text": [
        "1 gb_model\n",
        "2 linear\n",
        "3 ((fantasy_pts_per_game * (((team_poss_per_game + other_poss_per_game) / 2.0) / team_poss_per_game)) + ((-0.3 & (player_rest == 1.0)) | 0.0))\n",
        "4 (((((pts_per_game + (1.5 * ast_per_game)) * (other_def_rating_per_game / 1.041)) + (((1.2 * trb_per_game) + (2.0 * (blk_per_game + stl_per_game))) - tov_per_game)) * (((team_poss_per_game + other_poss_per_game) / 2.0) / team_poss_per_game)) + ((0.5 & is_home) | 0.0))\n",
        "203.6\t\t255.4\t\t244.2\t\t244.7\t\tmedian"
       ]
      },
      {
       "output_type": "stream",
       "stream": "stdout",
       "text": [
        "\n",
        "199.1\t\t253.8\t\t241.9\t\t240.5\t\tmean\n",
        " \t1         \t2          \t3          \t4          \n",
        "1\t    XXX   \t3 : 39 (0) \t5 : 37 (0) \t6 : 36 (0) \n",
        "2\t39 : 3 (0)\t    XXX    \t28 : 14 (0)\t31 : 11 (0)\n",
        "3\t37 : 5 (0)\t14 : 28 (0)\t    XXX    \t22 : 17 (3)\n",
        "4\t36 : 6 (0)\t11 : 31 (0)\t17 : 22 (3)\t    XXX    \n",
        "1"
       ]
      },
      {
       "output_type": "stream",
       "stream": "stdout",
       "text": [
        " gb_model\n",
        "2 linear\n",
        "3 ((fantasy_pts_per_game * (((team_poss_per_game + other_poss_per_game) / 2.0) / team_poss_per_game)) + ((-0.3 & (player_rest == 1.0)) | 0.0))\n",
        "4 (((((pts_per_game + (1.5 * ast_per_game)) * (other_def_rating_per_game / 1.041)) + (((1.2 * trb_per_game) + (2.0 * (blk_per_game + stl_per_game))) - tov_per_game)) * (((team_poss_per_game + other_poss_per_game) / 2.0) / team_poss_per_game)) + ((0.5 & is_home) | 0.0))\n"
       ]
      },
      {
       "ename": "KeyboardInterrupt",
       "evalue": "",
       "output_type": "pyerr",
       "traceback": [
        "\u001b[1;31m---------------------------------------------------------------------------\u001b[0m\n\u001b[1;31mKeyboardInterrupt\u001b[0m                         Traceback (most recent call last)",
        "\u001b[1;32m<ipython-input-212-1eb3168c3833>\u001b[0m in \u001b[0;36m<module>\u001b[1;34m()\u001b[0m\n\u001b[0;32m      1\u001b[0m \u001b[0mCompare\u001b[0m\u001b[1;33m(\u001b[0m\u001b[0mDF_15\u001b[0m\u001b[1;33m,\u001b[0m \u001b[0mlinear\u001b[0m\u001b[1;33m=\u001b[0m\u001b[0mlinear\u001b[0m\u001b[1;33m,\u001b[0m \u001b[0mgb_model\u001b[0m\u001b[1;33m=\u001b[0m\u001b[0mgb_model\u001b[0m\u001b[1;33m)\u001b[0m\u001b[1;33m\u001b[0m\u001b[0m\n\u001b[1;32m----> 2\u001b[1;33m \u001b[0mCompare\u001b[0m\u001b[1;33m(\u001b[0m\u001b[0mDF_14\u001b[0m\u001b[1;33m,\u001b[0m \u001b[0mlinear\u001b[0m\u001b[1;33m=\u001b[0m\u001b[0mlinear\u001b[0m\u001b[1;33m,\u001b[0m \u001b[0mgb_model\u001b[0m\u001b[1;33m=\u001b[0m\u001b[0mgb_model\u001b[0m\u001b[1;33m)\u001b[0m\u001b[1;33m\u001b[0m\u001b[0m\n\u001b[0m\u001b[0;32m      3\u001b[0m \u001b[0mCompare\u001b[0m\u001b[1;33m(\u001b[0m\u001b[0mDF_13\u001b[0m\u001b[1;33m,\u001b[0m \u001b[0mlinear\u001b[0m\u001b[1;33m=\u001b[0m\u001b[0mlinear\u001b[0m\u001b[1;33m,\u001b[0m \u001b[0mgb_model\u001b[0m\u001b[1;33m=\u001b[0m\u001b[0mgb_model\u001b[0m\u001b[1;33m)\u001b[0m\u001b[1;33m\u001b[0m\u001b[0m\n",
        "\u001b[1;32m<ipython-input-145-e83c6fec4ba7>\u001b[0m in \u001b[0;36mCompare\u001b[1;34m(df, **kwargs)\u001b[0m\n\u001b[0;32m      4\u001b[0m     fanduel_analysis.CheckVirtualFDGames(\n\u001b[0;32m      5\u001b[0m         \u001b[1;33m[\u001b[0m\u001b[0mLeaf\u001b[0m\u001b[1;33m(\u001b[0m\u001b[0mname\u001b[0m\u001b[1;33m)\u001b[0m \u001b[1;32mfor\u001b[0m \u001b[0mname\u001b[0m \u001b[1;32min\u001b[0m \u001b[0mkwargs\u001b[0m\u001b[1;33m]\u001b[0m \u001b[1;33m+\u001b[0m \u001b[1;33m[\u001b[0m\u001b[0mexpr4\u001b[0m\u001b[1;33m,\u001b[0m \u001b[0mcumulative_score_with_home\u001b[0m\u001b[1;33m]\u001b[0m\u001b[1;33m,\u001b[0m\u001b[1;33m\u001b[0m\u001b[0m\n\u001b[1;32m----> 6\u001b[1;33m         df)\n\u001b[0m",
        "\u001b[1;32mC:\\Coding\\FanDuel\\src\\analysis\\fanduel_analysis.pyc\u001b[0m in \u001b[0;36mCheckVirtualFDGames\u001b[1;34m(predictions, df, print_selections, df_filter, only_healthy, expr_real_result, expr_salaries_from)\u001b[0m\n\u001b[0;32m    126\u001b[0m   _CheckFDGames(_VirtualGamesGenerator(df, expr_salaries_from),\n\u001b[0;32m    127\u001b[0m                 \u001b[0mpredictions\u001b[0m\u001b[1;33m,\u001b[0m \u001b[0mdf\u001b[0m\u001b[1;33m,\u001b[0m \u001b[0mprint_selections\u001b[0m\u001b[1;33m=\u001b[0m\u001b[0mprint_selections\u001b[0m\u001b[1;33m,\u001b[0m\u001b[1;33m\u001b[0m\u001b[0m\n\u001b[1;32m--> 128\u001b[1;33m                 df_filter=df_filter, only_healthy=only_healthy, expr_real_result=expr_real_result)\n\u001b[0m\u001b[0;32m    129\u001b[0m \u001b[1;33m\u001b[0m\u001b[0m\n\u001b[0;32m    130\u001b[0m \u001b[1;33m\u001b[0m\u001b[0m\n",
        "\u001b[1;32mC:\\Coding\\FanDuel\\src\\analysis\\fanduel_analysis.pyc\u001b[0m in \u001b[0;36m_CheckFDGames\u001b[1;34m(fd_games_generator, predictions, df, print_selections, df_filter, only_healthy, expr_real_result)\u001b[0m\n\u001b[0;32m     73\u001b[0m     \u001b[0mresults_for_day\u001b[0m \u001b[1;33m=\u001b[0m \u001b[0mdict\u001b[0m\u001b[1;33m(\u001b[0m\u001b[0mitertools\u001b[0m\u001b[1;33m.\u001b[0m\u001b[0mizip\u001b[0m\u001b[1;33m(\u001b[0m\u001b[0mpid\u001b[0m\u001b[1;33m,\u001b[0m \u001b[0mexpr_real_result\u001b[0m\u001b[1;33m.\u001b[0m\u001b[0mEval\u001b[0m\u001b[1;33m(\u001b[0m\u001b[0mdf\u001b[0m\u001b[1;33m)\u001b[0m\u001b[1;33m[\u001b[0m\u001b[0mflt\u001b[0m\u001b[1;33m]\u001b[0m\u001b[1;33m)\u001b[0m\u001b[1;33m)\u001b[0m\u001b[1;33m\u001b[0m\u001b[0m\n\u001b[0;32m     74\u001b[0m     results = [Emulate(players_list, pred, results_for_day, print_selections=print_selections)\n\u001b[1;32m---> 75\u001b[1;33m                for pred in pred_for_day]\n\u001b[0m\u001b[0;32m     76\u001b[0m     \u001b[1;32mfor\u001b[0m \u001b[0mr\u001b[0m\u001b[1;33m,\u001b[0m \u001b[0mallr\u001b[0m \u001b[1;32min\u001b[0m \u001b[0mzip\u001b[0m\u001b[1;33m(\u001b[0m\u001b[0mresults\u001b[0m\u001b[1;33m,\u001b[0m \u001b[0mall_results\u001b[0m\u001b[1;33m)\u001b[0m\u001b[1;33m:\u001b[0m\u001b[1;33m\u001b[0m\u001b[0m\n\u001b[0;32m     77\u001b[0m       \u001b[0mallr\u001b[0m\u001b[1;33m.\u001b[0m\u001b[0mappend\u001b[0m\u001b[1;33m(\u001b[0m\u001b[0mr\u001b[0m\u001b[1;33m)\u001b[0m\u001b[1;33m\u001b[0m\u001b[0m\n",
        "\u001b[1;32mC:\\Coding\\FanDuel\\src\\analysis\\fanduel_analysis.pyc\u001b[0m in \u001b[0;36mEmulate\u001b[1;34m(fd_data, player_predictions, player_results, requests, salary_cap, print_selections)\u001b[0m\n\u001b[0;32m     28\u001b[0m     \u001b[0mpi\u001b[0m\u001b[1;33m.\u001b[0m\u001b[0mOverride\u001b[0m\u001b[1;33m(\u001b[0m\u001b[0mpts\u001b[0m\u001b[1;33m=\u001b[0m\u001b[0mplayer_predictions\u001b[0m\u001b[1;33m.\u001b[0m\u001b[0mget\u001b[0m\u001b[1;33m(\u001b[0m\u001b[0mpi\u001b[0m\u001b[1;33m.\u001b[0m\u001b[0mpid\u001b[0m\u001b[1;33m,\u001b[0m \u001b[1;36m0\u001b[0m\u001b[1;33m)\u001b[0m\u001b[1;33m)\u001b[0m\u001b[1;33m\u001b[0m\u001b[0m\n\u001b[0;32m     29\u001b[0m     for pi in fd_data]\n\u001b[1;32m---> 30\u001b[1;33m   \u001b[0mbest\u001b[0m \u001b[1;33m=\u001b[0m \u001b[0mknapsack\u001b[0m\u001b[1;33m.\u001b[0m\u001b[0mBestChoice\u001b[0m\u001b[1;33m(\u001b[0m\u001b[0mupdated_data\u001b[0m\u001b[1;33m,\u001b[0m \u001b[0mrequests\u001b[0m\u001b[1;33m,\u001b[0m \u001b[0msalary_cap\u001b[0m\u001b[1;33m)\u001b[0m\u001b[1;33m\u001b[0m\u001b[0m\n\u001b[0m\u001b[0;32m     31\u001b[0m   \u001b[1;32mif\u001b[0m \u001b[0mbest\u001b[0m \u001b[1;32mis\u001b[0m \u001b[0mNone\u001b[0m\u001b[1;33m:\u001b[0m\u001b[1;33m\u001b[0m\u001b[0m\n\u001b[0;32m     32\u001b[0m     \u001b[1;32mreturn\u001b[0m \u001b[0mNone\u001b[0m\u001b[1;33m\u001b[0m\u001b[0m\n",
        "\u001b[1;32mC:\\Coding\\FanDuel\\src\\analysis\\knapsack.py\u001b[0m in \u001b[0;36mBestChoice\u001b[1;34m(players, per_position_counts, salary_cap)\u001b[0m\n\u001b[0;32m     43\u001b[0m \u001b[1;33m\u001b[0m\u001b[0m\n\u001b[0;32m     44\u001b[0m \u001b[1;33m\u001b[0m\u001b[0m\n\u001b[1;32m---> 45\u001b[1;33m   \u001b[0mbest_pts\u001b[0m \u001b[1;33m=\u001b[0m \u001b[0mGV\u001b[0m\u001b[1;33m(\u001b[0m\u001b[1;36m0\u001b[0m\u001b[1;33m,\u001b[0m \u001b[1;36m0\u001b[0m\u001b[1;33m,\u001b[0m \u001b[0mS\u001b[0m\u001b[1;33m)\u001b[0m\u001b[1;33m\u001b[0m\u001b[0m\n\u001b[0m\u001b[0;32m     46\u001b[0m   \u001b[0mans\u001b[0m \u001b[1;33m=\u001b[0m \u001b[1;33m[\u001b[0m\u001b[1;33m]\u001b[0m\u001b[1;33m\u001b[0m\u001b[0m\n\u001b[0;32m     47\u001b[0m   \u001b[0meps\u001b[0m \u001b[1;33m=\u001b[0m \u001b[1;36m1e-5\u001b[0m\u001b[1;33m\u001b[0m\u001b[0m\n",
        "\u001b[1;32mC:\\Coding\\FanDuel\\src\\analysis\\knapsack.py\u001b[0m in \u001b[0;36mGV\u001b[1;34m(request_index, candidate_index, salary_left)\u001b[0m\n\u001b[0;32m     33\u001b[0m     \u001b[0mc1\u001b[0m \u001b[1;33m=\u001b[0m \u001b[0mcandidates\u001b[0m\u001b[1;33m[\u001b[0m\u001b[0mcandidate_index\u001b[0m\u001b[1;33m]\u001b[0m\u001b[1;33m\u001b[0m\u001b[0m\n\u001b[0;32m     34\u001b[0m     \u001b[0msal1\u001b[0m \u001b[1;33m=\u001b[0m \u001b[0msalaries\u001b[0m\u001b[1;33m[\u001b[0m\u001b[0mcandidate_index\u001b[0m\u001b[1;33m]\u001b[0m\u001b[1;33m\u001b[0m\u001b[0m\n\u001b[1;32m---> 35\u001b[1;33m     \u001b[0mskip_score\u001b[0m \u001b[1;33m=\u001b[0m \u001b[0mGV\u001b[0m\u001b[1;33m(\u001b[0m\u001b[0mrequest_index\u001b[0m\u001b[1;33m,\u001b[0m \u001b[0mcandidate_index\u001b[0m \u001b[1;33m+\u001b[0m \u001b[1;36m1\u001b[0m\u001b[1;33m,\u001b[0m \u001b[0msalary_left\u001b[0m\u001b[1;33m)\u001b[0m\u001b[1;33m\u001b[0m\u001b[0m\n\u001b[0m\u001b[0;32m     36\u001b[0m     \u001b[1;32mif\u001b[0m \u001b[0mc1\u001b[0m\u001b[1;33m.\u001b[0m\u001b[0mposition\u001b[0m \u001b[1;33m!=\u001b[0m \u001b[0mrequest\u001b[0m\u001b[1;33m[\u001b[0m\u001b[0mrequest_index\u001b[0m\u001b[1;33m]\u001b[0m \u001b[1;32mor\u001b[0m \u001b[0msal1\u001b[0m \u001b[1;33m>\u001b[0m \u001b[0msalary_left\u001b[0m\u001b[1;33m:\u001b[0m\u001b[1;33m\u001b[0m\u001b[0m\n\u001b[0;32m     37\u001b[0m       \u001b[0mmemo\u001b[0m\u001b[1;33m[\u001b[0m\u001b[0mrequest_index\u001b[0m\u001b[1;33m]\u001b[0m\u001b[1;33m[\u001b[0m\u001b[0mcandidate_index\u001b[0m\u001b[1;33m]\u001b[0m\u001b[1;33m[\u001b[0m\u001b[0msalary_left\u001b[0m\u001b[1;33m]\u001b[0m \u001b[1;33m=\u001b[0m \u001b[0mskip_score\u001b[0m\u001b[1;33m\u001b[0m\u001b[0m\n",
        "\u001b[1;32mC:\\Coding\\FanDuel\\src\\analysis\\knapsack.py\u001b[0m in \u001b[0;36mGV\u001b[1;34m(request_index, candidate_index, salary_left)\u001b[0m\n\u001b[0;32m     33\u001b[0m     \u001b[0mc1\u001b[0m \u001b[1;33m=\u001b[0m \u001b[0mcandidates\u001b[0m\u001b[1;33m[\u001b[0m\u001b[0mcandidate_index\u001b[0m\u001b[1;33m]\u001b[0m\u001b[1;33m\u001b[0m\u001b[0m\n\u001b[0;32m     34\u001b[0m     \u001b[0msal1\u001b[0m \u001b[1;33m=\u001b[0m \u001b[0msalaries\u001b[0m\u001b[1;33m[\u001b[0m\u001b[0mcandidate_index\u001b[0m\u001b[1;33m]\u001b[0m\u001b[1;33m\u001b[0m\u001b[0m\n\u001b[1;32m---> 35\u001b[1;33m     \u001b[0mskip_score\u001b[0m \u001b[1;33m=\u001b[0m \u001b[0mGV\u001b[0m\u001b[1;33m(\u001b[0m\u001b[0mrequest_index\u001b[0m\u001b[1;33m,\u001b[0m \u001b[0mcandidate_index\u001b[0m \u001b[1;33m+\u001b[0m \u001b[1;36m1\u001b[0m\u001b[1;33m,\u001b[0m \u001b[0msalary_left\u001b[0m\u001b[1;33m)\u001b[0m\u001b[1;33m\u001b[0m\u001b[0m\n\u001b[0m\u001b[0;32m     36\u001b[0m     \u001b[1;32mif\u001b[0m \u001b[0mc1\u001b[0m\u001b[1;33m.\u001b[0m\u001b[0mposition\u001b[0m \u001b[1;33m!=\u001b[0m \u001b[0mrequest\u001b[0m\u001b[1;33m[\u001b[0m\u001b[0mrequest_index\u001b[0m\u001b[1;33m]\u001b[0m \u001b[1;32mor\u001b[0m \u001b[0msal1\u001b[0m \u001b[1;33m>\u001b[0m \u001b[0msalary_left\u001b[0m\u001b[1;33m:\u001b[0m\u001b[1;33m\u001b[0m\u001b[0m\n\u001b[0;32m     37\u001b[0m       \u001b[0mmemo\u001b[0m\u001b[1;33m[\u001b[0m\u001b[0mrequest_index\u001b[0m\u001b[1;33m]\u001b[0m\u001b[1;33m[\u001b[0m\u001b[0mcandidate_index\u001b[0m\u001b[1;33m]\u001b[0m\u001b[1;33m[\u001b[0m\u001b[0msalary_left\u001b[0m\u001b[1;33m]\u001b[0m \u001b[1;33m=\u001b[0m \u001b[0mskip_score\u001b[0m\u001b[1;33m\u001b[0m\u001b[0m\n",
        "\u001b[1;32mC:\\Coding\\FanDuel\\src\\analysis\\knapsack.py\u001b[0m in \u001b[0;36mGV\u001b[1;34m(request_index, candidate_index, salary_left)\u001b[0m\n\u001b[0;32m     33\u001b[0m     \u001b[0mc1\u001b[0m \u001b[1;33m=\u001b[0m \u001b[0mcandidates\u001b[0m\u001b[1;33m[\u001b[0m\u001b[0mcandidate_index\u001b[0m\u001b[1;33m]\u001b[0m\u001b[1;33m\u001b[0m\u001b[0m\n\u001b[0;32m     34\u001b[0m     \u001b[0msal1\u001b[0m \u001b[1;33m=\u001b[0m \u001b[0msalaries\u001b[0m\u001b[1;33m[\u001b[0m\u001b[0mcandidate_index\u001b[0m\u001b[1;33m]\u001b[0m\u001b[1;33m\u001b[0m\u001b[0m\n\u001b[1;32m---> 35\u001b[1;33m     \u001b[0mskip_score\u001b[0m \u001b[1;33m=\u001b[0m \u001b[0mGV\u001b[0m\u001b[1;33m(\u001b[0m\u001b[0mrequest_index\u001b[0m\u001b[1;33m,\u001b[0m \u001b[0mcandidate_index\u001b[0m \u001b[1;33m+\u001b[0m \u001b[1;36m1\u001b[0m\u001b[1;33m,\u001b[0m \u001b[0msalary_left\u001b[0m\u001b[1;33m)\u001b[0m\u001b[1;33m\u001b[0m\u001b[0m\n\u001b[0m\u001b[0;32m     36\u001b[0m     \u001b[1;32mif\u001b[0m \u001b[0mc1\u001b[0m\u001b[1;33m.\u001b[0m\u001b[0mposition\u001b[0m \u001b[1;33m!=\u001b[0m \u001b[0mrequest\u001b[0m\u001b[1;33m[\u001b[0m\u001b[0mrequest_index\u001b[0m\u001b[1;33m]\u001b[0m \u001b[1;32mor\u001b[0m \u001b[0msal1\u001b[0m \u001b[1;33m>\u001b[0m \u001b[0msalary_left\u001b[0m\u001b[1;33m:\u001b[0m\u001b[1;33m\u001b[0m\u001b[0m\n\u001b[0;32m     37\u001b[0m       \u001b[0mmemo\u001b[0m\u001b[1;33m[\u001b[0m\u001b[0mrequest_index\u001b[0m\u001b[1;33m]\u001b[0m\u001b[1;33m[\u001b[0m\u001b[0mcandidate_index\u001b[0m\u001b[1;33m]\u001b[0m\u001b[1;33m[\u001b[0m\u001b[0msalary_left\u001b[0m\u001b[1;33m]\u001b[0m \u001b[1;33m=\u001b[0m \u001b[0mskip_score\u001b[0m\u001b[1;33m\u001b[0m\u001b[0m\n",
        "\u001b[1;32mC:\\Coding\\FanDuel\\src\\analysis\\knapsack.py\u001b[0m in \u001b[0;36mGV\u001b[1;34m(request_index, candidate_index, salary_left)\u001b[0m\n\u001b[0;32m     33\u001b[0m     \u001b[0mc1\u001b[0m \u001b[1;33m=\u001b[0m \u001b[0mcandidates\u001b[0m\u001b[1;33m[\u001b[0m\u001b[0mcandidate_index\u001b[0m\u001b[1;33m]\u001b[0m\u001b[1;33m\u001b[0m\u001b[0m\n\u001b[0;32m     34\u001b[0m     \u001b[0msal1\u001b[0m \u001b[1;33m=\u001b[0m \u001b[0msalaries\u001b[0m\u001b[1;33m[\u001b[0m\u001b[0mcandidate_index\u001b[0m\u001b[1;33m]\u001b[0m\u001b[1;33m\u001b[0m\u001b[0m\n\u001b[1;32m---> 35\u001b[1;33m     \u001b[0mskip_score\u001b[0m \u001b[1;33m=\u001b[0m \u001b[0mGV\u001b[0m\u001b[1;33m(\u001b[0m\u001b[0mrequest_index\u001b[0m\u001b[1;33m,\u001b[0m \u001b[0mcandidate_index\u001b[0m \u001b[1;33m+\u001b[0m \u001b[1;36m1\u001b[0m\u001b[1;33m,\u001b[0m \u001b[0msalary_left\u001b[0m\u001b[1;33m)\u001b[0m\u001b[1;33m\u001b[0m\u001b[0m\n\u001b[0m\u001b[0;32m     36\u001b[0m     \u001b[1;32mif\u001b[0m \u001b[0mc1\u001b[0m\u001b[1;33m.\u001b[0m\u001b[0mposition\u001b[0m \u001b[1;33m!=\u001b[0m \u001b[0mrequest\u001b[0m\u001b[1;33m[\u001b[0m\u001b[0mrequest_index\u001b[0m\u001b[1;33m]\u001b[0m \u001b[1;32mor\u001b[0m \u001b[0msal1\u001b[0m \u001b[1;33m>\u001b[0m \u001b[0msalary_left\u001b[0m\u001b[1;33m:\u001b[0m\u001b[1;33m\u001b[0m\u001b[0m\n\u001b[0;32m     37\u001b[0m       \u001b[0mmemo\u001b[0m\u001b[1;33m[\u001b[0m\u001b[0mrequest_index\u001b[0m\u001b[1;33m]\u001b[0m\u001b[1;33m[\u001b[0m\u001b[0mcandidate_index\u001b[0m\u001b[1;33m]\u001b[0m\u001b[1;33m[\u001b[0m\u001b[0msalary_left\u001b[0m\u001b[1;33m]\u001b[0m \u001b[1;33m=\u001b[0m \u001b[0mskip_score\u001b[0m\u001b[1;33m\u001b[0m\u001b[0m\n",
        "\u001b[1;32mC:\\Coding\\FanDuel\\src\\analysis\\knapsack.py\u001b[0m in \u001b[0;36mGV\u001b[1;34m(request_index, candidate_index, salary_left)\u001b[0m\n\u001b[0;32m     33\u001b[0m     \u001b[0mc1\u001b[0m \u001b[1;33m=\u001b[0m \u001b[0mcandidates\u001b[0m\u001b[1;33m[\u001b[0m\u001b[0mcandidate_index\u001b[0m\u001b[1;33m]\u001b[0m\u001b[1;33m\u001b[0m\u001b[0m\n\u001b[0;32m     34\u001b[0m     \u001b[0msal1\u001b[0m \u001b[1;33m=\u001b[0m \u001b[0msalaries\u001b[0m\u001b[1;33m[\u001b[0m\u001b[0mcandidate_index\u001b[0m\u001b[1;33m]\u001b[0m\u001b[1;33m\u001b[0m\u001b[0m\n\u001b[1;32m---> 35\u001b[1;33m     \u001b[0mskip_score\u001b[0m \u001b[1;33m=\u001b[0m \u001b[0mGV\u001b[0m\u001b[1;33m(\u001b[0m\u001b[0mrequest_index\u001b[0m\u001b[1;33m,\u001b[0m \u001b[0mcandidate_index\u001b[0m \u001b[1;33m+\u001b[0m \u001b[1;36m1\u001b[0m\u001b[1;33m,\u001b[0m \u001b[0msalary_left\u001b[0m\u001b[1;33m)\u001b[0m\u001b[1;33m\u001b[0m\u001b[0m\n\u001b[0m\u001b[0;32m     36\u001b[0m     \u001b[1;32mif\u001b[0m \u001b[0mc1\u001b[0m\u001b[1;33m.\u001b[0m\u001b[0mposition\u001b[0m \u001b[1;33m!=\u001b[0m \u001b[0mrequest\u001b[0m\u001b[1;33m[\u001b[0m\u001b[0mrequest_index\u001b[0m\u001b[1;33m]\u001b[0m \u001b[1;32mor\u001b[0m \u001b[0msal1\u001b[0m \u001b[1;33m>\u001b[0m \u001b[0msalary_left\u001b[0m\u001b[1;33m:\u001b[0m\u001b[1;33m\u001b[0m\u001b[0m\n\u001b[0;32m     37\u001b[0m       \u001b[0mmemo\u001b[0m\u001b[1;33m[\u001b[0m\u001b[0mrequest_index\u001b[0m\u001b[1;33m]\u001b[0m\u001b[1;33m[\u001b[0m\u001b[0mcandidate_index\u001b[0m\u001b[1;33m]\u001b[0m\u001b[1;33m[\u001b[0m\u001b[0msalary_left\u001b[0m\u001b[1;33m]\u001b[0m \u001b[1;33m=\u001b[0m \u001b[0mskip_score\u001b[0m\u001b[1;33m\u001b[0m\u001b[0m\n",
        "\u001b[1;32mC:\\Coding\\FanDuel\\src\\analysis\\knapsack.py\u001b[0m in \u001b[0;36mGV\u001b[1;34m(request_index, candidate_index, salary_left)\u001b[0m\n\u001b[0;32m     33\u001b[0m     \u001b[0mc1\u001b[0m \u001b[1;33m=\u001b[0m \u001b[0mcandidates\u001b[0m\u001b[1;33m[\u001b[0m\u001b[0mcandidate_index\u001b[0m\u001b[1;33m]\u001b[0m\u001b[1;33m\u001b[0m\u001b[0m\n\u001b[0;32m     34\u001b[0m     \u001b[0msal1\u001b[0m \u001b[1;33m=\u001b[0m \u001b[0msalaries\u001b[0m\u001b[1;33m[\u001b[0m\u001b[0mcandidate_index\u001b[0m\u001b[1;33m]\u001b[0m\u001b[1;33m\u001b[0m\u001b[0m\n\u001b[1;32m---> 35\u001b[1;33m     \u001b[0mskip_score\u001b[0m \u001b[1;33m=\u001b[0m \u001b[0mGV\u001b[0m\u001b[1;33m(\u001b[0m\u001b[0mrequest_index\u001b[0m\u001b[1;33m,\u001b[0m \u001b[0mcandidate_index\u001b[0m \u001b[1;33m+\u001b[0m \u001b[1;36m1\u001b[0m\u001b[1;33m,\u001b[0m \u001b[0msalary_left\u001b[0m\u001b[1;33m)\u001b[0m\u001b[1;33m\u001b[0m\u001b[0m\n\u001b[0m\u001b[0;32m     36\u001b[0m     \u001b[1;32mif\u001b[0m \u001b[0mc1\u001b[0m\u001b[1;33m.\u001b[0m\u001b[0mposition\u001b[0m \u001b[1;33m!=\u001b[0m \u001b[0mrequest\u001b[0m\u001b[1;33m[\u001b[0m\u001b[0mrequest_index\u001b[0m\u001b[1;33m]\u001b[0m \u001b[1;32mor\u001b[0m \u001b[0msal1\u001b[0m \u001b[1;33m>\u001b[0m \u001b[0msalary_left\u001b[0m\u001b[1;33m:\u001b[0m\u001b[1;33m\u001b[0m\u001b[0m\n\u001b[0;32m     37\u001b[0m       \u001b[0mmemo\u001b[0m\u001b[1;33m[\u001b[0m\u001b[0mrequest_index\u001b[0m\u001b[1;33m]\u001b[0m\u001b[1;33m[\u001b[0m\u001b[0mcandidate_index\u001b[0m\u001b[1;33m]\u001b[0m\u001b[1;33m[\u001b[0m\u001b[0msalary_left\u001b[0m\u001b[1;33m]\u001b[0m \u001b[1;33m=\u001b[0m \u001b[0mskip_score\u001b[0m\u001b[1;33m\u001b[0m\u001b[0m\n",
        "\u001b[1;32mC:\\Coding\\FanDuel\\src\\analysis\\knapsack.py\u001b[0m in \u001b[0;36mGV\u001b[1;34m(request_index, candidate_index, salary_left)\u001b[0m\n\u001b[0;32m     33\u001b[0m     \u001b[0mc1\u001b[0m \u001b[1;33m=\u001b[0m \u001b[0mcandidates\u001b[0m\u001b[1;33m[\u001b[0m\u001b[0mcandidate_index\u001b[0m\u001b[1;33m]\u001b[0m\u001b[1;33m\u001b[0m\u001b[0m\n\u001b[0;32m     34\u001b[0m     \u001b[0msal1\u001b[0m \u001b[1;33m=\u001b[0m \u001b[0msalaries\u001b[0m\u001b[1;33m[\u001b[0m\u001b[0mcandidate_index\u001b[0m\u001b[1;33m]\u001b[0m\u001b[1;33m\u001b[0m\u001b[0m\n\u001b[1;32m---> 35\u001b[1;33m     \u001b[0mskip_score\u001b[0m \u001b[1;33m=\u001b[0m \u001b[0mGV\u001b[0m\u001b[1;33m(\u001b[0m\u001b[0mrequest_index\u001b[0m\u001b[1;33m,\u001b[0m \u001b[0mcandidate_index\u001b[0m \u001b[1;33m+\u001b[0m \u001b[1;36m1\u001b[0m\u001b[1;33m,\u001b[0m \u001b[0msalary_left\u001b[0m\u001b[1;33m)\u001b[0m\u001b[1;33m\u001b[0m\u001b[0m\n\u001b[0m\u001b[0;32m     36\u001b[0m     \u001b[1;32mif\u001b[0m \u001b[0mc1\u001b[0m\u001b[1;33m.\u001b[0m\u001b[0mposition\u001b[0m \u001b[1;33m!=\u001b[0m \u001b[0mrequest\u001b[0m\u001b[1;33m[\u001b[0m\u001b[0mrequest_index\u001b[0m\u001b[1;33m]\u001b[0m \u001b[1;32mor\u001b[0m \u001b[0msal1\u001b[0m \u001b[1;33m>\u001b[0m \u001b[0msalary_left\u001b[0m\u001b[1;33m:\u001b[0m\u001b[1;33m\u001b[0m\u001b[0m\n\u001b[0;32m     37\u001b[0m       \u001b[0mmemo\u001b[0m\u001b[1;33m[\u001b[0m\u001b[0mrequest_index\u001b[0m\u001b[1;33m]\u001b[0m\u001b[1;33m[\u001b[0m\u001b[0mcandidate_index\u001b[0m\u001b[1;33m]\u001b[0m\u001b[1;33m[\u001b[0m\u001b[0msalary_left\u001b[0m\u001b[1;33m]\u001b[0m \u001b[1;33m=\u001b[0m \u001b[0mskip_score\u001b[0m\u001b[1;33m\u001b[0m\u001b[0m\n",
        "\u001b[1;32mC:\\Coding\\FanDuel\\src\\analysis\\knapsack.py\u001b[0m in \u001b[0;36mGV\u001b[1;34m(request_index, candidate_index, salary_left)\u001b[0m\n\u001b[0;32m     33\u001b[0m     \u001b[0mc1\u001b[0m \u001b[1;33m=\u001b[0m \u001b[0mcandidates\u001b[0m\u001b[1;33m[\u001b[0m\u001b[0mcandidate_index\u001b[0m\u001b[1;33m]\u001b[0m\u001b[1;33m\u001b[0m\u001b[0m\n\u001b[0;32m     34\u001b[0m     \u001b[0msal1\u001b[0m \u001b[1;33m=\u001b[0m \u001b[0msalaries\u001b[0m\u001b[1;33m[\u001b[0m\u001b[0mcandidate_index\u001b[0m\u001b[1;33m]\u001b[0m\u001b[1;33m\u001b[0m\u001b[0m\n\u001b[1;32m---> 35\u001b[1;33m     \u001b[0mskip_score\u001b[0m \u001b[1;33m=\u001b[0m \u001b[0mGV\u001b[0m\u001b[1;33m(\u001b[0m\u001b[0mrequest_index\u001b[0m\u001b[1;33m,\u001b[0m \u001b[0mcandidate_index\u001b[0m \u001b[1;33m+\u001b[0m \u001b[1;36m1\u001b[0m\u001b[1;33m,\u001b[0m \u001b[0msalary_left\u001b[0m\u001b[1;33m)\u001b[0m\u001b[1;33m\u001b[0m\u001b[0m\n\u001b[0m\u001b[0;32m     36\u001b[0m     \u001b[1;32mif\u001b[0m \u001b[0mc1\u001b[0m\u001b[1;33m.\u001b[0m\u001b[0mposition\u001b[0m \u001b[1;33m!=\u001b[0m \u001b[0mrequest\u001b[0m\u001b[1;33m[\u001b[0m\u001b[0mrequest_index\u001b[0m\u001b[1;33m]\u001b[0m \u001b[1;32mor\u001b[0m \u001b[0msal1\u001b[0m \u001b[1;33m>\u001b[0m \u001b[0msalary_left\u001b[0m\u001b[1;33m:\u001b[0m\u001b[1;33m\u001b[0m\u001b[0m\n\u001b[0;32m     37\u001b[0m       \u001b[0mmemo\u001b[0m\u001b[1;33m[\u001b[0m\u001b[0mrequest_index\u001b[0m\u001b[1;33m]\u001b[0m\u001b[1;33m[\u001b[0m\u001b[0mcandidate_index\u001b[0m\u001b[1;33m]\u001b[0m\u001b[1;33m[\u001b[0m\u001b[0msalary_left\u001b[0m\u001b[1;33m]\u001b[0m \u001b[1;33m=\u001b[0m \u001b[0mskip_score\u001b[0m\u001b[1;33m\u001b[0m\u001b[0m\n",
        "\u001b[1;32mC:\\Coding\\FanDuel\\src\\analysis\\knapsack.py\u001b[0m in \u001b[0;36mGV\u001b[1;34m(request_index, candidate_index, salary_left)\u001b[0m\n\u001b[0;32m     33\u001b[0m     \u001b[0mc1\u001b[0m \u001b[1;33m=\u001b[0m \u001b[0mcandidates\u001b[0m\u001b[1;33m[\u001b[0m\u001b[0mcandidate_index\u001b[0m\u001b[1;33m]\u001b[0m\u001b[1;33m\u001b[0m\u001b[0m\n\u001b[0;32m     34\u001b[0m     \u001b[0msal1\u001b[0m \u001b[1;33m=\u001b[0m \u001b[0msalaries\u001b[0m\u001b[1;33m[\u001b[0m\u001b[0mcandidate_index\u001b[0m\u001b[1;33m]\u001b[0m\u001b[1;33m\u001b[0m\u001b[0m\n\u001b[1;32m---> 35\u001b[1;33m     \u001b[0mskip_score\u001b[0m \u001b[1;33m=\u001b[0m \u001b[0mGV\u001b[0m\u001b[1;33m(\u001b[0m\u001b[0mrequest_index\u001b[0m\u001b[1;33m,\u001b[0m \u001b[0mcandidate_index\u001b[0m \u001b[1;33m+\u001b[0m \u001b[1;36m1\u001b[0m\u001b[1;33m,\u001b[0m \u001b[0msalary_left\u001b[0m\u001b[1;33m)\u001b[0m\u001b[1;33m\u001b[0m\u001b[0m\n\u001b[0m\u001b[0;32m     36\u001b[0m     \u001b[1;32mif\u001b[0m \u001b[0mc1\u001b[0m\u001b[1;33m.\u001b[0m\u001b[0mposition\u001b[0m \u001b[1;33m!=\u001b[0m \u001b[0mrequest\u001b[0m\u001b[1;33m[\u001b[0m\u001b[0mrequest_index\u001b[0m\u001b[1;33m]\u001b[0m \u001b[1;32mor\u001b[0m \u001b[0msal1\u001b[0m \u001b[1;33m>\u001b[0m \u001b[0msalary_left\u001b[0m\u001b[1;33m:\u001b[0m\u001b[1;33m\u001b[0m\u001b[0m\n\u001b[0;32m     37\u001b[0m       \u001b[0mmemo\u001b[0m\u001b[1;33m[\u001b[0m\u001b[0mrequest_index\u001b[0m\u001b[1;33m]\u001b[0m\u001b[1;33m[\u001b[0m\u001b[0mcandidate_index\u001b[0m\u001b[1;33m]\u001b[0m\u001b[1;33m[\u001b[0m\u001b[0msalary_left\u001b[0m\u001b[1;33m]\u001b[0m \u001b[1;33m=\u001b[0m \u001b[0mskip_score\u001b[0m\u001b[1;33m\u001b[0m\u001b[0m\n",
        "\u001b[1;32mC:\\Coding\\FanDuel\\src\\analysis\\knapsack.py\u001b[0m in \u001b[0;36mGV\u001b[1;34m(request_index, candidate_index, salary_left)\u001b[0m\n\u001b[0;32m     33\u001b[0m     \u001b[0mc1\u001b[0m \u001b[1;33m=\u001b[0m \u001b[0mcandidates\u001b[0m\u001b[1;33m[\u001b[0m\u001b[0mcandidate_index\u001b[0m\u001b[1;33m]\u001b[0m\u001b[1;33m\u001b[0m\u001b[0m\n\u001b[0;32m     34\u001b[0m     \u001b[0msal1\u001b[0m \u001b[1;33m=\u001b[0m \u001b[0msalaries\u001b[0m\u001b[1;33m[\u001b[0m\u001b[0mcandidate_index\u001b[0m\u001b[1;33m]\u001b[0m\u001b[1;33m\u001b[0m\u001b[0m\n\u001b[1;32m---> 35\u001b[1;33m     \u001b[0mskip_score\u001b[0m \u001b[1;33m=\u001b[0m \u001b[0mGV\u001b[0m\u001b[1;33m(\u001b[0m\u001b[0mrequest_index\u001b[0m\u001b[1;33m,\u001b[0m \u001b[0mcandidate_index\u001b[0m \u001b[1;33m+\u001b[0m \u001b[1;36m1\u001b[0m\u001b[1;33m,\u001b[0m \u001b[0msalary_left\u001b[0m\u001b[1;33m)\u001b[0m\u001b[1;33m\u001b[0m\u001b[0m\n\u001b[0m\u001b[0;32m     36\u001b[0m     \u001b[1;32mif\u001b[0m \u001b[0mc1\u001b[0m\u001b[1;33m.\u001b[0m\u001b[0mposition\u001b[0m \u001b[1;33m!=\u001b[0m \u001b[0mrequest\u001b[0m\u001b[1;33m[\u001b[0m\u001b[0mrequest_index\u001b[0m\u001b[1;33m]\u001b[0m \u001b[1;32mor\u001b[0m \u001b[0msal1\u001b[0m \u001b[1;33m>\u001b[0m \u001b[0msalary_left\u001b[0m\u001b[1;33m:\u001b[0m\u001b[1;33m\u001b[0m\u001b[0m\n\u001b[0;32m     37\u001b[0m       \u001b[0mmemo\u001b[0m\u001b[1;33m[\u001b[0m\u001b[0mrequest_index\u001b[0m\u001b[1;33m]\u001b[0m\u001b[1;33m[\u001b[0m\u001b[0mcandidate_index\u001b[0m\u001b[1;33m]\u001b[0m\u001b[1;33m[\u001b[0m\u001b[0msalary_left\u001b[0m\u001b[1;33m]\u001b[0m \u001b[1;33m=\u001b[0m \u001b[0mskip_score\u001b[0m\u001b[1;33m\u001b[0m\u001b[0m\n",
        "\u001b[1;32mC:\\Coding\\FanDuel\\src\\analysis\\knapsack.py\u001b[0m in \u001b[0;36mGV\u001b[1;34m(request_index, candidate_index, salary_left)\u001b[0m\n\u001b[0;32m     33\u001b[0m     \u001b[0mc1\u001b[0m \u001b[1;33m=\u001b[0m \u001b[0mcandidates\u001b[0m\u001b[1;33m[\u001b[0m\u001b[0mcandidate_index\u001b[0m\u001b[1;33m]\u001b[0m\u001b[1;33m\u001b[0m\u001b[0m\n\u001b[0;32m     34\u001b[0m     \u001b[0msal1\u001b[0m \u001b[1;33m=\u001b[0m \u001b[0msalaries\u001b[0m\u001b[1;33m[\u001b[0m\u001b[0mcandidate_index\u001b[0m\u001b[1;33m]\u001b[0m\u001b[1;33m\u001b[0m\u001b[0m\n\u001b[1;32m---> 35\u001b[1;33m     \u001b[0mskip_score\u001b[0m \u001b[1;33m=\u001b[0m \u001b[0mGV\u001b[0m\u001b[1;33m(\u001b[0m\u001b[0mrequest_index\u001b[0m\u001b[1;33m,\u001b[0m \u001b[0mcandidate_index\u001b[0m \u001b[1;33m+\u001b[0m \u001b[1;36m1\u001b[0m\u001b[1;33m,\u001b[0m \u001b[0msalary_left\u001b[0m\u001b[1;33m)\u001b[0m\u001b[1;33m\u001b[0m\u001b[0m\n\u001b[0m\u001b[0;32m     36\u001b[0m     \u001b[1;32mif\u001b[0m \u001b[0mc1\u001b[0m\u001b[1;33m.\u001b[0m\u001b[0mposition\u001b[0m \u001b[1;33m!=\u001b[0m \u001b[0mrequest\u001b[0m\u001b[1;33m[\u001b[0m\u001b[0mrequest_index\u001b[0m\u001b[1;33m]\u001b[0m \u001b[1;32mor\u001b[0m \u001b[0msal1\u001b[0m \u001b[1;33m>\u001b[0m \u001b[0msalary_left\u001b[0m\u001b[1;33m:\u001b[0m\u001b[1;33m\u001b[0m\u001b[0m\n\u001b[0;32m     37\u001b[0m       \u001b[0mmemo\u001b[0m\u001b[1;33m[\u001b[0m\u001b[0mrequest_index\u001b[0m\u001b[1;33m]\u001b[0m\u001b[1;33m[\u001b[0m\u001b[0mcandidate_index\u001b[0m\u001b[1;33m]\u001b[0m\u001b[1;33m[\u001b[0m\u001b[0msalary_left\u001b[0m\u001b[1;33m]\u001b[0m \u001b[1;33m=\u001b[0m \u001b[0mskip_score\u001b[0m\u001b[1;33m\u001b[0m\u001b[0m\n",
        "\u001b[1;32mC:\\Coding\\FanDuel\\src\\analysis\\knapsack.py\u001b[0m in \u001b[0;36mGV\u001b[1;34m(request_index, candidate_index, salary_left)\u001b[0m\n\u001b[0;32m     33\u001b[0m     \u001b[0mc1\u001b[0m \u001b[1;33m=\u001b[0m \u001b[0mcandidates\u001b[0m\u001b[1;33m[\u001b[0m\u001b[0mcandidate_index\u001b[0m\u001b[1;33m]\u001b[0m\u001b[1;33m\u001b[0m\u001b[0m\n\u001b[0;32m     34\u001b[0m     \u001b[0msal1\u001b[0m \u001b[1;33m=\u001b[0m \u001b[0msalaries\u001b[0m\u001b[1;33m[\u001b[0m\u001b[0mcandidate_index\u001b[0m\u001b[1;33m]\u001b[0m\u001b[1;33m\u001b[0m\u001b[0m\n\u001b[1;32m---> 35\u001b[1;33m     \u001b[0mskip_score\u001b[0m \u001b[1;33m=\u001b[0m \u001b[0mGV\u001b[0m\u001b[1;33m(\u001b[0m\u001b[0mrequest_index\u001b[0m\u001b[1;33m,\u001b[0m \u001b[0mcandidate_index\u001b[0m \u001b[1;33m+\u001b[0m \u001b[1;36m1\u001b[0m\u001b[1;33m,\u001b[0m \u001b[0msalary_left\u001b[0m\u001b[1;33m)\u001b[0m\u001b[1;33m\u001b[0m\u001b[0m\n\u001b[0m\u001b[0;32m     36\u001b[0m     \u001b[1;32mif\u001b[0m \u001b[0mc1\u001b[0m\u001b[1;33m.\u001b[0m\u001b[0mposition\u001b[0m \u001b[1;33m!=\u001b[0m \u001b[0mrequest\u001b[0m\u001b[1;33m[\u001b[0m\u001b[0mrequest_index\u001b[0m\u001b[1;33m]\u001b[0m \u001b[1;32mor\u001b[0m \u001b[0msal1\u001b[0m \u001b[1;33m>\u001b[0m \u001b[0msalary_left\u001b[0m\u001b[1;33m:\u001b[0m\u001b[1;33m\u001b[0m\u001b[0m\n\u001b[0;32m     37\u001b[0m       \u001b[0mmemo\u001b[0m\u001b[1;33m[\u001b[0m\u001b[0mrequest_index\u001b[0m\u001b[1;33m]\u001b[0m\u001b[1;33m[\u001b[0m\u001b[0mcandidate_index\u001b[0m\u001b[1;33m]\u001b[0m\u001b[1;33m[\u001b[0m\u001b[0msalary_left\u001b[0m\u001b[1;33m]\u001b[0m \u001b[1;33m=\u001b[0m \u001b[0mskip_score\u001b[0m\u001b[1;33m\u001b[0m\u001b[0m\n",
        "\u001b[1;32mC:\\Coding\\FanDuel\\src\\analysis\\knapsack.py\u001b[0m in \u001b[0;36mGV\u001b[1;34m(request_index, candidate_index, salary_left)\u001b[0m\n\u001b[0;32m     33\u001b[0m     \u001b[0mc1\u001b[0m \u001b[1;33m=\u001b[0m \u001b[0mcandidates\u001b[0m\u001b[1;33m[\u001b[0m\u001b[0mcandidate_index\u001b[0m\u001b[1;33m]\u001b[0m\u001b[1;33m\u001b[0m\u001b[0m\n\u001b[0;32m     34\u001b[0m     \u001b[0msal1\u001b[0m \u001b[1;33m=\u001b[0m \u001b[0msalaries\u001b[0m\u001b[1;33m[\u001b[0m\u001b[0mcandidate_index\u001b[0m\u001b[1;33m]\u001b[0m\u001b[1;33m\u001b[0m\u001b[0m\n\u001b[1;32m---> 35\u001b[1;33m     \u001b[0mskip_score\u001b[0m \u001b[1;33m=\u001b[0m \u001b[0mGV\u001b[0m\u001b[1;33m(\u001b[0m\u001b[0mrequest_index\u001b[0m\u001b[1;33m,\u001b[0m \u001b[0mcandidate_index\u001b[0m \u001b[1;33m+\u001b[0m \u001b[1;36m1\u001b[0m\u001b[1;33m,\u001b[0m \u001b[0msalary_left\u001b[0m\u001b[1;33m)\u001b[0m\u001b[1;33m\u001b[0m\u001b[0m\n\u001b[0m\u001b[0;32m     36\u001b[0m     \u001b[1;32mif\u001b[0m \u001b[0mc1\u001b[0m\u001b[1;33m.\u001b[0m\u001b[0mposition\u001b[0m \u001b[1;33m!=\u001b[0m \u001b[0mrequest\u001b[0m\u001b[1;33m[\u001b[0m\u001b[0mrequest_index\u001b[0m\u001b[1;33m]\u001b[0m \u001b[1;32mor\u001b[0m \u001b[0msal1\u001b[0m \u001b[1;33m>\u001b[0m \u001b[0msalary_left\u001b[0m\u001b[1;33m:\u001b[0m\u001b[1;33m\u001b[0m\u001b[0m\n\u001b[0;32m     37\u001b[0m       \u001b[0mmemo\u001b[0m\u001b[1;33m[\u001b[0m\u001b[0mrequest_index\u001b[0m\u001b[1;33m]\u001b[0m\u001b[1;33m[\u001b[0m\u001b[0mcandidate_index\u001b[0m\u001b[1;33m]\u001b[0m\u001b[1;33m[\u001b[0m\u001b[0msalary_left\u001b[0m\u001b[1;33m]\u001b[0m \u001b[1;33m=\u001b[0m \u001b[0mskip_score\u001b[0m\u001b[1;33m\u001b[0m\u001b[0m\n",
        "\u001b[1;32mC:\\Coding\\FanDuel\\src\\analysis\\knapsack.py\u001b[0m in \u001b[0;36mGV\u001b[1;34m(request_index, candidate_index, salary_left)\u001b[0m\n\u001b[0;32m     33\u001b[0m     \u001b[0mc1\u001b[0m \u001b[1;33m=\u001b[0m \u001b[0mcandidates\u001b[0m\u001b[1;33m[\u001b[0m\u001b[0mcandidate_index\u001b[0m\u001b[1;33m]\u001b[0m\u001b[1;33m\u001b[0m\u001b[0m\n\u001b[0;32m     34\u001b[0m     \u001b[0msal1\u001b[0m \u001b[1;33m=\u001b[0m \u001b[0msalaries\u001b[0m\u001b[1;33m[\u001b[0m\u001b[0mcandidate_index\u001b[0m\u001b[1;33m]\u001b[0m\u001b[1;33m\u001b[0m\u001b[0m\n\u001b[1;32m---> 35\u001b[1;33m     \u001b[0mskip_score\u001b[0m \u001b[1;33m=\u001b[0m \u001b[0mGV\u001b[0m\u001b[1;33m(\u001b[0m\u001b[0mrequest_index\u001b[0m\u001b[1;33m,\u001b[0m \u001b[0mcandidate_index\u001b[0m \u001b[1;33m+\u001b[0m \u001b[1;36m1\u001b[0m\u001b[1;33m,\u001b[0m \u001b[0msalary_left\u001b[0m\u001b[1;33m)\u001b[0m\u001b[1;33m\u001b[0m\u001b[0m\n\u001b[0m\u001b[0;32m     36\u001b[0m     \u001b[1;32mif\u001b[0m \u001b[0mc1\u001b[0m\u001b[1;33m.\u001b[0m\u001b[0mposition\u001b[0m \u001b[1;33m!=\u001b[0m \u001b[0mrequest\u001b[0m\u001b[1;33m[\u001b[0m\u001b[0mrequest_index\u001b[0m\u001b[1;33m]\u001b[0m \u001b[1;32mor\u001b[0m \u001b[0msal1\u001b[0m \u001b[1;33m>\u001b[0m \u001b[0msalary_left\u001b[0m\u001b[1;33m:\u001b[0m\u001b[1;33m\u001b[0m\u001b[0m\n\u001b[0;32m     37\u001b[0m       \u001b[0mmemo\u001b[0m\u001b[1;33m[\u001b[0m\u001b[0mrequest_index\u001b[0m\u001b[1;33m]\u001b[0m\u001b[1;33m[\u001b[0m\u001b[0mcandidate_index\u001b[0m\u001b[1;33m]\u001b[0m\u001b[1;33m[\u001b[0m\u001b[0msalary_left\u001b[0m\u001b[1;33m]\u001b[0m \u001b[1;33m=\u001b[0m \u001b[0mskip_score\u001b[0m\u001b[1;33m\u001b[0m\u001b[0m\n",
        "\u001b[1;32mC:\\Coding\\FanDuel\\src\\analysis\\knapsack.py\u001b[0m in \u001b[0;36mGV\u001b[1;34m(request_index, candidate_index, salary_left)\u001b[0m\n\u001b[0;32m     33\u001b[0m     \u001b[0mc1\u001b[0m \u001b[1;33m=\u001b[0m \u001b[0mcandidates\u001b[0m\u001b[1;33m[\u001b[0m\u001b[0mcandidate_index\u001b[0m\u001b[1;33m]\u001b[0m\u001b[1;33m\u001b[0m\u001b[0m\n\u001b[0;32m     34\u001b[0m     \u001b[0msal1\u001b[0m \u001b[1;33m=\u001b[0m \u001b[0msalaries\u001b[0m\u001b[1;33m[\u001b[0m\u001b[0mcandidate_index\u001b[0m\u001b[1;33m]\u001b[0m\u001b[1;33m\u001b[0m\u001b[0m\n\u001b[1;32m---> 35\u001b[1;33m     \u001b[0mskip_score\u001b[0m \u001b[1;33m=\u001b[0m \u001b[0mGV\u001b[0m\u001b[1;33m(\u001b[0m\u001b[0mrequest_index\u001b[0m\u001b[1;33m,\u001b[0m \u001b[0mcandidate_index\u001b[0m \u001b[1;33m+\u001b[0m \u001b[1;36m1\u001b[0m\u001b[1;33m,\u001b[0m \u001b[0msalary_left\u001b[0m\u001b[1;33m)\u001b[0m\u001b[1;33m\u001b[0m\u001b[0m\n\u001b[0m\u001b[0;32m     36\u001b[0m     \u001b[1;32mif\u001b[0m \u001b[0mc1\u001b[0m\u001b[1;33m.\u001b[0m\u001b[0mposition\u001b[0m \u001b[1;33m!=\u001b[0m \u001b[0mrequest\u001b[0m\u001b[1;33m[\u001b[0m\u001b[0mrequest_index\u001b[0m\u001b[1;33m]\u001b[0m \u001b[1;32mor\u001b[0m \u001b[0msal1\u001b[0m \u001b[1;33m>\u001b[0m \u001b[0msalary_left\u001b[0m\u001b[1;33m:\u001b[0m\u001b[1;33m\u001b[0m\u001b[0m\n\u001b[0;32m     37\u001b[0m       \u001b[0mmemo\u001b[0m\u001b[1;33m[\u001b[0m\u001b[0mrequest_index\u001b[0m\u001b[1;33m]\u001b[0m\u001b[1;33m[\u001b[0m\u001b[0mcandidate_index\u001b[0m\u001b[1;33m]\u001b[0m\u001b[1;33m[\u001b[0m\u001b[0msalary_left\u001b[0m\u001b[1;33m]\u001b[0m \u001b[1;33m=\u001b[0m \u001b[0mskip_score\u001b[0m\u001b[1;33m\u001b[0m\u001b[0m\n",
        "\u001b[1;32mC:\\Coding\\FanDuel\\src\\analysis\\knapsack.py\u001b[0m in \u001b[0;36mGV\u001b[1;34m(request_index, candidate_index, salary_left)\u001b[0m\n\u001b[0;32m     33\u001b[0m     \u001b[0mc1\u001b[0m \u001b[1;33m=\u001b[0m \u001b[0mcandidates\u001b[0m\u001b[1;33m[\u001b[0m\u001b[0mcandidate_index\u001b[0m\u001b[1;33m]\u001b[0m\u001b[1;33m\u001b[0m\u001b[0m\n\u001b[0;32m     34\u001b[0m     \u001b[0msal1\u001b[0m \u001b[1;33m=\u001b[0m \u001b[0msalaries\u001b[0m\u001b[1;33m[\u001b[0m\u001b[0mcandidate_index\u001b[0m\u001b[1;33m]\u001b[0m\u001b[1;33m\u001b[0m\u001b[0m\n\u001b[1;32m---> 35\u001b[1;33m     \u001b[0mskip_score\u001b[0m \u001b[1;33m=\u001b[0m \u001b[0mGV\u001b[0m\u001b[1;33m(\u001b[0m\u001b[0mrequest_index\u001b[0m\u001b[1;33m,\u001b[0m \u001b[0mcandidate_index\u001b[0m \u001b[1;33m+\u001b[0m \u001b[1;36m1\u001b[0m\u001b[1;33m,\u001b[0m \u001b[0msalary_left\u001b[0m\u001b[1;33m)\u001b[0m\u001b[1;33m\u001b[0m\u001b[0m\n\u001b[0m\u001b[0;32m     36\u001b[0m     \u001b[1;32mif\u001b[0m \u001b[0mc1\u001b[0m\u001b[1;33m.\u001b[0m\u001b[0mposition\u001b[0m \u001b[1;33m!=\u001b[0m \u001b[0mrequest\u001b[0m\u001b[1;33m[\u001b[0m\u001b[0mrequest_index\u001b[0m\u001b[1;33m]\u001b[0m \u001b[1;32mor\u001b[0m \u001b[0msal1\u001b[0m \u001b[1;33m>\u001b[0m \u001b[0msalary_left\u001b[0m\u001b[1;33m:\u001b[0m\u001b[1;33m\u001b[0m\u001b[0m\n\u001b[0;32m     37\u001b[0m       \u001b[0mmemo\u001b[0m\u001b[1;33m[\u001b[0m\u001b[0mrequest_index\u001b[0m\u001b[1;33m]\u001b[0m\u001b[1;33m[\u001b[0m\u001b[0mcandidate_index\u001b[0m\u001b[1;33m]\u001b[0m\u001b[1;33m[\u001b[0m\u001b[0msalary_left\u001b[0m\u001b[1;33m]\u001b[0m \u001b[1;33m=\u001b[0m \u001b[0mskip_score\u001b[0m\u001b[1;33m\u001b[0m\u001b[0m\n",
        "\u001b[1;32mC:\\Coding\\FanDuel\\src\\analysis\\knapsack.py\u001b[0m in \u001b[0;36mGV\u001b[1;34m(request_index, candidate_index, salary_left)\u001b[0m\n\u001b[0;32m     33\u001b[0m     \u001b[0mc1\u001b[0m \u001b[1;33m=\u001b[0m \u001b[0mcandidates\u001b[0m\u001b[1;33m[\u001b[0m\u001b[0mcandidate_index\u001b[0m\u001b[1;33m]\u001b[0m\u001b[1;33m\u001b[0m\u001b[0m\n\u001b[0;32m     34\u001b[0m     \u001b[0msal1\u001b[0m \u001b[1;33m=\u001b[0m \u001b[0msalaries\u001b[0m\u001b[1;33m[\u001b[0m\u001b[0mcandidate_index\u001b[0m\u001b[1;33m]\u001b[0m\u001b[1;33m\u001b[0m\u001b[0m\n\u001b[1;32m---> 35\u001b[1;33m     \u001b[0mskip_score\u001b[0m \u001b[1;33m=\u001b[0m \u001b[0mGV\u001b[0m\u001b[1;33m(\u001b[0m\u001b[0mrequest_index\u001b[0m\u001b[1;33m,\u001b[0m \u001b[0mcandidate_index\u001b[0m \u001b[1;33m+\u001b[0m \u001b[1;36m1\u001b[0m\u001b[1;33m,\u001b[0m \u001b[0msalary_left\u001b[0m\u001b[1;33m)\u001b[0m\u001b[1;33m\u001b[0m\u001b[0m\n\u001b[0m\u001b[0;32m     36\u001b[0m     \u001b[1;32mif\u001b[0m \u001b[0mc1\u001b[0m\u001b[1;33m.\u001b[0m\u001b[0mposition\u001b[0m \u001b[1;33m!=\u001b[0m \u001b[0mrequest\u001b[0m\u001b[1;33m[\u001b[0m\u001b[0mrequest_index\u001b[0m\u001b[1;33m]\u001b[0m \u001b[1;32mor\u001b[0m \u001b[0msal1\u001b[0m \u001b[1;33m>\u001b[0m \u001b[0msalary_left\u001b[0m\u001b[1;33m:\u001b[0m\u001b[1;33m\u001b[0m\u001b[0m\n\u001b[0;32m     37\u001b[0m       \u001b[0mmemo\u001b[0m\u001b[1;33m[\u001b[0m\u001b[0mrequest_index\u001b[0m\u001b[1;33m]\u001b[0m\u001b[1;33m[\u001b[0m\u001b[0mcandidate_index\u001b[0m\u001b[1;33m]\u001b[0m\u001b[1;33m[\u001b[0m\u001b[0msalary_left\u001b[0m\u001b[1;33m]\u001b[0m \u001b[1;33m=\u001b[0m \u001b[0mskip_score\u001b[0m\u001b[1;33m\u001b[0m\u001b[0m\n",
        "\u001b[1;32mC:\\Coding\\FanDuel\\src\\analysis\\knapsack.py\u001b[0m in \u001b[0;36mGV\u001b[1;34m(request_index, candidate_index, salary_left)\u001b[0m\n\u001b[0;32m     33\u001b[0m     \u001b[0mc1\u001b[0m \u001b[1;33m=\u001b[0m \u001b[0mcandidates\u001b[0m\u001b[1;33m[\u001b[0m\u001b[0mcandidate_index\u001b[0m\u001b[1;33m]\u001b[0m\u001b[1;33m\u001b[0m\u001b[0m\n\u001b[0;32m     34\u001b[0m     \u001b[0msal1\u001b[0m \u001b[1;33m=\u001b[0m \u001b[0msalaries\u001b[0m\u001b[1;33m[\u001b[0m\u001b[0mcandidate_index\u001b[0m\u001b[1;33m]\u001b[0m\u001b[1;33m\u001b[0m\u001b[0m\n\u001b[1;32m---> 35\u001b[1;33m     \u001b[0mskip_score\u001b[0m \u001b[1;33m=\u001b[0m \u001b[0mGV\u001b[0m\u001b[1;33m(\u001b[0m\u001b[0mrequest_index\u001b[0m\u001b[1;33m,\u001b[0m \u001b[0mcandidate_index\u001b[0m \u001b[1;33m+\u001b[0m \u001b[1;36m1\u001b[0m\u001b[1;33m,\u001b[0m \u001b[0msalary_left\u001b[0m\u001b[1;33m)\u001b[0m\u001b[1;33m\u001b[0m\u001b[0m\n\u001b[0m\u001b[0;32m     36\u001b[0m     \u001b[1;32mif\u001b[0m \u001b[0mc1\u001b[0m\u001b[1;33m.\u001b[0m\u001b[0mposition\u001b[0m \u001b[1;33m!=\u001b[0m \u001b[0mrequest\u001b[0m\u001b[1;33m[\u001b[0m\u001b[0mrequest_index\u001b[0m\u001b[1;33m]\u001b[0m \u001b[1;32mor\u001b[0m \u001b[0msal1\u001b[0m \u001b[1;33m>\u001b[0m \u001b[0msalary_left\u001b[0m\u001b[1;33m:\u001b[0m\u001b[1;33m\u001b[0m\u001b[0m\n\u001b[0;32m     37\u001b[0m       \u001b[0mmemo\u001b[0m\u001b[1;33m[\u001b[0m\u001b[0mrequest_index\u001b[0m\u001b[1;33m]\u001b[0m\u001b[1;33m[\u001b[0m\u001b[0mcandidate_index\u001b[0m\u001b[1;33m]\u001b[0m\u001b[1;33m[\u001b[0m\u001b[0msalary_left\u001b[0m\u001b[1;33m]\u001b[0m \u001b[1;33m=\u001b[0m \u001b[0mskip_score\u001b[0m\u001b[1;33m\u001b[0m\u001b[0m\n",
        "\u001b[1;32mC:\\Coding\\FanDuel\\src\\analysis\\knapsack.py\u001b[0m in \u001b[0;36mGV\u001b[1;34m(request_index, candidate_index, salary_left)\u001b[0m\n\u001b[0;32m     33\u001b[0m     \u001b[0mc1\u001b[0m \u001b[1;33m=\u001b[0m \u001b[0mcandidates\u001b[0m\u001b[1;33m[\u001b[0m\u001b[0mcandidate_index\u001b[0m\u001b[1;33m]\u001b[0m\u001b[1;33m\u001b[0m\u001b[0m\n\u001b[0;32m     34\u001b[0m     \u001b[0msal1\u001b[0m \u001b[1;33m=\u001b[0m \u001b[0msalaries\u001b[0m\u001b[1;33m[\u001b[0m\u001b[0mcandidate_index\u001b[0m\u001b[1;33m]\u001b[0m\u001b[1;33m\u001b[0m\u001b[0m\n\u001b[1;32m---> 35\u001b[1;33m     \u001b[0mskip_score\u001b[0m \u001b[1;33m=\u001b[0m \u001b[0mGV\u001b[0m\u001b[1;33m(\u001b[0m\u001b[0mrequest_index\u001b[0m\u001b[1;33m,\u001b[0m \u001b[0mcandidate_index\u001b[0m \u001b[1;33m+\u001b[0m \u001b[1;36m1\u001b[0m\u001b[1;33m,\u001b[0m \u001b[0msalary_left\u001b[0m\u001b[1;33m)\u001b[0m\u001b[1;33m\u001b[0m\u001b[0m\n\u001b[0m\u001b[0;32m     36\u001b[0m     \u001b[1;32mif\u001b[0m \u001b[0mc1\u001b[0m\u001b[1;33m.\u001b[0m\u001b[0mposition\u001b[0m \u001b[1;33m!=\u001b[0m \u001b[0mrequest\u001b[0m\u001b[1;33m[\u001b[0m\u001b[0mrequest_index\u001b[0m\u001b[1;33m]\u001b[0m \u001b[1;32mor\u001b[0m \u001b[0msal1\u001b[0m \u001b[1;33m>\u001b[0m \u001b[0msalary_left\u001b[0m\u001b[1;33m:\u001b[0m\u001b[1;33m\u001b[0m\u001b[0m\n\u001b[0;32m     37\u001b[0m       \u001b[0mmemo\u001b[0m\u001b[1;33m[\u001b[0m\u001b[0mrequest_index\u001b[0m\u001b[1;33m]\u001b[0m\u001b[1;33m[\u001b[0m\u001b[0mcandidate_index\u001b[0m\u001b[1;33m]\u001b[0m\u001b[1;33m[\u001b[0m\u001b[0msalary_left\u001b[0m\u001b[1;33m]\u001b[0m \u001b[1;33m=\u001b[0m \u001b[0mskip_score\u001b[0m\u001b[1;33m\u001b[0m\u001b[0m\n",
        "\u001b[1;32mC:\\Coding\\FanDuel\\src\\analysis\\knapsack.py\u001b[0m in \u001b[0;36mGV\u001b[1;34m(request_index, candidate_index, salary_left)\u001b[0m\n\u001b[0;32m     33\u001b[0m     \u001b[0mc1\u001b[0m \u001b[1;33m=\u001b[0m \u001b[0mcandidates\u001b[0m\u001b[1;33m[\u001b[0m\u001b[0mcandidate_index\u001b[0m\u001b[1;33m]\u001b[0m\u001b[1;33m\u001b[0m\u001b[0m\n\u001b[0;32m     34\u001b[0m     \u001b[0msal1\u001b[0m \u001b[1;33m=\u001b[0m \u001b[0msalaries\u001b[0m\u001b[1;33m[\u001b[0m\u001b[0mcandidate_index\u001b[0m\u001b[1;33m]\u001b[0m\u001b[1;33m\u001b[0m\u001b[0m\n\u001b[1;32m---> 35\u001b[1;33m     \u001b[0mskip_score\u001b[0m \u001b[1;33m=\u001b[0m \u001b[0mGV\u001b[0m\u001b[1;33m(\u001b[0m\u001b[0mrequest_index\u001b[0m\u001b[1;33m,\u001b[0m \u001b[0mcandidate_index\u001b[0m \u001b[1;33m+\u001b[0m \u001b[1;36m1\u001b[0m\u001b[1;33m,\u001b[0m \u001b[0msalary_left\u001b[0m\u001b[1;33m)\u001b[0m\u001b[1;33m\u001b[0m\u001b[0m\n\u001b[0m\u001b[0;32m     36\u001b[0m     \u001b[1;32mif\u001b[0m \u001b[0mc1\u001b[0m\u001b[1;33m.\u001b[0m\u001b[0mposition\u001b[0m \u001b[1;33m!=\u001b[0m \u001b[0mrequest\u001b[0m\u001b[1;33m[\u001b[0m\u001b[0mrequest_index\u001b[0m\u001b[1;33m]\u001b[0m \u001b[1;32mor\u001b[0m \u001b[0msal1\u001b[0m \u001b[1;33m>\u001b[0m \u001b[0msalary_left\u001b[0m\u001b[1;33m:\u001b[0m\u001b[1;33m\u001b[0m\u001b[0m\n\u001b[0;32m     37\u001b[0m       \u001b[0mmemo\u001b[0m\u001b[1;33m[\u001b[0m\u001b[0mrequest_index\u001b[0m\u001b[1;33m]\u001b[0m\u001b[1;33m[\u001b[0m\u001b[0mcandidate_index\u001b[0m\u001b[1;33m]\u001b[0m\u001b[1;33m[\u001b[0m\u001b[0msalary_left\u001b[0m\u001b[1;33m]\u001b[0m \u001b[1;33m=\u001b[0m \u001b[0mskip_score\u001b[0m\u001b[1;33m\u001b[0m\u001b[0m\n",
        "\u001b[1;32mC:\\Coding\\FanDuel\\src\\analysis\\knapsack.py\u001b[0m in \u001b[0;36mGV\u001b[1;34m(request_index, candidate_index, salary_left)\u001b[0m\n\u001b[0;32m     33\u001b[0m     \u001b[0mc1\u001b[0m \u001b[1;33m=\u001b[0m \u001b[0mcandidates\u001b[0m\u001b[1;33m[\u001b[0m\u001b[0mcandidate_index\u001b[0m\u001b[1;33m]\u001b[0m\u001b[1;33m\u001b[0m\u001b[0m\n\u001b[0;32m     34\u001b[0m     \u001b[0msal1\u001b[0m \u001b[1;33m=\u001b[0m \u001b[0msalaries\u001b[0m\u001b[1;33m[\u001b[0m\u001b[0mcandidate_index\u001b[0m\u001b[1;33m]\u001b[0m\u001b[1;33m\u001b[0m\u001b[0m\n\u001b[1;32m---> 35\u001b[1;33m     \u001b[0mskip_score\u001b[0m \u001b[1;33m=\u001b[0m \u001b[0mGV\u001b[0m\u001b[1;33m(\u001b[0m\u001b[0mrequest_index\u001b[0m\u001b[1;33m,\u001b[0m \u001b[0mcandidate_index\u001b[0m \u001b[1;33m+\u001b[0m \u001b[1;36m1\u001b[0m\u001b[1;33m,\u001b[0m \u001b[0msalary_left\u001b[0m\u001b[1;33m)\u001b[0m\u001b[1;33m\u001b[0m\u001b[0m\n\u001b[0m\u001b[0;32m     36\u001b[0m     \u001b[1;32mif\u001b[0m \u001b[0mc1\u001b[0m\u001b[1;33m.\u001b[0m\u001b[0mposition\u001b[0m \u001b[1;33m!=\u001b[0m \u001b[0mrequest\u001b[0m\u001b[1;33m[\u001b[0m\u001b[0mrequest_index\u001b[0m\u001b[1;33m]\u001b[0m \u001b[1;32mor\u001b[0m \u001b[0msal1\u001b[0m \u001b[1;33m>\u001b[0m \u001b[0msalary_left\u001b[0m\u001b[1;33m:\u001b[0m\u001b[1;33m\u001b[0m\u001b[0m\n\u001b[0;32m     37\u001b[0m       \u001b[0mmemo\u001b[0m\u001b[1;33m[\u001b[0m\u001b[0mrequest_index\u001b[0m\u001b[1;33m]\u001b[0m\u001b[1;33m[\u001b[0m\u001b[0mcandidate_index\u001b[0m\u001b[1;33m]\u001b[0m\u001b[1;33m[\u001b[0m\u001b[0msalary_left\u001b[0m\u001b[1;33m]\u001b[0m \u001b[1;33m=\u001b[0m \u001b[0mskip_score\u001b[0m\u001b[1;33m\u001b[0m\u001b[0m\n",
        "\u001b[1;32mC:\\Coding\\FanDuel\\src\\analysis\\knapsack.py\u001b[0m in \u001b[0;36mGV\u001b[1;34m(request_index, candidate_index, salary_left)\u001b[0m\n\u001b[0;32m     33\u001b[0m     \u001b[0mc1\u001b[0m \u001b[1;33m=\u001b[0m \u001b[0mcandidates\u001b[0m\u001b[1;33m[\u001b[0m\u001b[0mcandidate_index\u001b[0m\u001b[1;33m]\u001b[0m\u001b[1;33m\u001b[0m\u001b[0m\n\u001b[0;32m     34\u001b[0m     \u001b[0msal1\u001b[0m \u001b[1;33m=\u001b[0m \u001b[0msalaries\u001b[0m\u001b[1;33m[\u001b[0m\u001b[0mcandidate_index\u001b[0m\u001b[1;33m]\u001b[0m\u001b[1;33m\u001b[0m\u001b[0m\n\u001b[1;32m---> 35\u001b[1;33m     \u001b[0mskip_score\u001b[0m \u001b[1;33m=\u001b[0m \u001b[0mGV\u001b[0m\u001b[1;33m(\u001b[0m\u001b[0mrequest_index\u001b[0m\u001b[1;33m,\u001b[0m \u001b[0mcandidate_index\u001b[0m \u001b[1;33m+\u001b[0m \u001b[1;36m1\u001b[0m\u001b[1;33m,\u001b[0m \u001b[0msalary_left\u001b[0m\u001b[1;33m)\u001b[0m\u001b[1;33m\u001b[0m\u001b[0m\n\u001b[0m\u001b[0;32m     36\u001b[0m     \u001b[1;32mif\u001b[0m \u001b[0mc1\u001b[0m\u001b[1;33m.\u001b[0m\u001b[0mposition\u001b[0m \u001b[1;33m!=\u001b[0m \u001b[0mrequest\u001b[0m\u001b[1;33m[\u001b[0m\u001b[0mrequest_index\u001b[0m\u001b[1;33m]\u001b[0m \u001b[1;32mor\u001b[0m \u001b[0msal1\u001b[0m \u001b[1;33m>\u001b[0m \u001b[0msalary_left\u001b[0m\u001b[1;33m:\u001b[0m\u001b[1;33m\u001b[0m\u001b[0m\n\u001b[0;32m     37\u001b[0m       \u001b[0mmemo\u001b[0m\u001b[1;33m[\u001b[0m\u001b[0mrequest_index\u001b[0m\u001b[1;33m]\u001b[0m\u001b[1;33m[\u001b[0m\u001b[0mcandidate_index\u001b[0m\u001b[1;33m]\u001b[0m\u001b[1;33m[\u001b[0m\u001b[0msalary_left\u001b[0m\u001b[1;33m]\u001b[0m \u001b[1;33m=\u001b[0m \u001b[0mskip_score\u001b[0m\u001b[1;33m\u001b[0m\u001b[0m\n",
        "\u001b[1;32mC:\\Coding\\FanDuel\\src\\analysis\\knapsack.py\u001b[0m in \u001b[0;36mGV\u001b[1;34m(request_index, candidate_index, salary_left)\u001b[0m\n\u001b[0;32m     33\u001b[0m     \u001b[0mc1\u001b[0m \u001b[1;33m=\u001b[0m \u001b[0mcandidates\u001b[0m\u001b[1;33m[\u001b[0m\u001b[0mcandidate_index\u001b[0m\u001b[1;33m]\u001b[0m\u001b[1;33m\u001b[0m\u001b[0m\n\u001b[0;32m     34\u001b[0m     \u001b[0msal1\u001b[0m \u001b[1;33m=\u001b[0m \u001b[0msalaries\u001b[0m\u001b[1;33m[\u001b[0m\u001b[0mcandidate_index\u001b[0m\u001b[1;33m]\u001b[0m\u001b[1;33m\u001b[0m\u001b[0m\n\u001b[1;32m---> 35\u001b[1;33m     \u001b[0mskip_score\u001b[0m \u001b[1;33m=\u001b[0m \u001b[0mGV\u001b[0m\u001b[1;33m(\u001b[0m\u001b[0mrequest_index\u001b[0m\u001b[1;33m,\u001b[0m \u001b[0mcandidate_index\u001b[0m \u001b[1;33m+\u001b[0m \u001b[1;36m1\u001b[0m\u001b[1;33m,\u001b[0m \u001b[0msalary_left\u001b[0m\u001b[1;33m)\u001b[0m\u001b[1;33m\u001b[0m\u001b[0m\n\u001b[0m\u001b[0;32m     36\u001b[0m     \u001b[1;32mif\u001b[0m \u001b[0mc1\u001b[0m\u001b[1;33m.\u001b[0m\u001b[0mposition\u001b[0m \u001b[1;33m!=\u001b[0m \u001b[0mrequest\u001b[0m\u001b[1;33m[\u001b[0m\u001b[0mrequest_index\u001b[0m\u001b[1;33m]\u001b[0m \u001b[1;32mor\u001b[0m \u001b[0msal1\u001b[0m \u001b[1;33m>\u001b[0m \u001b[0msalary_left\u001b[0m\u001b[1;33m:\u001b[0m\u001b[1;33m\u001b[0m\u001b[0m\n\u001b[0;32m     37\u001b[0m       \u001b[0mmemo\u001b[0m\u001b[1;33m[\u001b[0m\u001b[0mrequest_index\u001b[0m\u001b[1;33m]\u001b[0m\u001b[1;33m[\u001b[0m\u001b[0mcandidate_index\u001b[0m\u001b[1;33m]\u001b[0m\u001b[1;33m[\u001b[0m\u001b[0msalary_left\u001b[0m\u001b[1;33m]\u001b[0m \u001b[1;33m=\u001b[0m \u001b[0mskip_score\u001b[0m\u001b[1;33m\u001b[0m\u001b[0m\n",
        "\u001b[1;32mC:\\Coding\\FanDuel\\src\\analysis\\knapsack.py\u001b[0m in \u001b[0;36mGV\u001b[1;34m(request_index, candidate_index, salary_left)\u001b[0m\n\u001b[0;32m     33\u001b[0m     \u001b[0mc1\u001b[0m \u001b[1;33m=\u001b[0m \u001b[0mcandidates\u001b[0m\u001b[1;33m[\u001b[0m\u001b[0mcandidate_index\u001b[0m\u001b[1;33m]\u001b[0m\u001b[1;33m\u001b[0m\u001b[0m\n\u001b[0;32m     34\u001b[0m     \u001b[0msal1\u001b[0m \u001b[1;33m=\u001b[0m \u001b[0msalaries\u001b[0m\u001b[1;33m[\u001b[0m\u001b[0mcandidate_index\u001b[0m\u001b[1;33m]\u001b[0m\u001b[1;33m\u001b[0m\u001b[0m\n\u001b[1;32m---> 35\u001b[1;33m     \u001b[0mskip_score\u001b[0m \u001b[1;33m=\u001b[0m \u001b[0mGV\u001b[0m\u001b[1;33m(\u001b[0m\u001b[0mrequest_index\u001b[0m\u001b[1;33m,\u001b[0m \u001b[0mcandidate_index\u001b[0m \u001b[1;33m+\u001b[0m \u001b[1;36m1\u001b[0m\u001b[1;33m,\u001b[0m \u001b[0msalary_left\u001b[0m\u001b[1;33m)\u001b[0m\u001b[1;33m\u001b[0m\u001b[0m\n\u001b[0m\u001b[0;32m     36\u001b[0m     \u001b[1;32mif\u001b[0m \u001b[0mc1\u001b[0m\u001b[1;33m.\u001b[0m\u001b[0mposition\u001b[0m \u001b[1;33m!=\u001b[0m \u001b[0mrequest\u001b[0m\u001b[1;33m[\u001b[0m\u001b[0mrequest_index\u001b[0m\u001b[1;33m]\u001b[0m \u001b[1;32mor\u001b[0m \u001b[0msal1\u001b[0m \u001b[1;33m>\u001b[0m \u001b[0msalary_left\u001b[0m\u001b[1;33m:\u001b[0m\u001b[1;33m\u001b[0m\u001b[0m\n\u001b[0;32m     37\u001b[0m       \u001b[0mmemo\u001b[0m\u001b[1;33m[\u001b[0m\u001b[0mrequest_index\u001b[0m\u001b[1;33m]\u001b[0m\u001b[1;33m[\u001b[0m\u001b[0mcandidate_index\u001b[0m\u001b[1;33m]\u001b[0m\u001b[1;33m[\u001b[0m\u001b[0msalary_left\u001b[0m\u001b[1;33m]\u001b[0m \u001b[1;33m=\u001b[0m \u001b[0mskip_score\u001b[0m\u001b[1;33m\u001b[0m\u001b[0m\n",
        "\u001b[1;32mC:\\Coding\\FanDuel\\src\\analysis\\knapsack.py\u001b[0m in \u001b[0;36mGV\u001b[1;34m(request_index, candidate_index, salary_left)\u001b[0m\n\u001b[0;32m     33\u001b[0m     \u001b[0mc1\u001b[0m \u001b[1;33m=\u001b[0m \u001b[0mcandidates\u001b[0m\u001b[1;33m[\u001b[0m\u001b[0mcandidate_index\u001b[0m\u001b[1;33m]\u001b[0m\u001b[1;33m\u001b[0m\u001b[0m\n\u001b[0;32m     34\u001b[0m     \u001b[0msal1\u001b[0m \u001b[1;33m=\u001b[0m \u001b[0msalaries\u001b[0m\u001b[1;33m[\u001b[0m\u001b[0mcandidate_index\u001b[0m\u001b[1;33m]\u001b[0m\u001b[1;33m\u001b[0m\u001b[0m\n\u001b[1;32m---> 35\u001b[1;33m     \u001b[0mskip_score\u001b[0m \u001b[1;33m=\u001b[0m \u001b[0mGV\u001b[0m\u001b[1;33m(\u001b[0m\u001b[0mrequest_index\u001b[0m\u001b[1;33m,\u001b[0m \u001b[0mcandidate_index\u001b[0m \u001b[1;33m+\u001b[0m \u001b[1;36m1\u001b[0m\u001b[1;33m,\u001b[0m \u001b[0msalary_left\u001b[0m\u001b[1;33m)\u001b[0m\u001b[1;33m\u001b[0m\u001b[0m\n\u001b[0m\u001b[0;32m     36\u001b[0m     \u001b[1;32mif\u001b[0m \u001b[0mc1\u001b[0m\u001b[1;33m.\u001b[0m\u001b[0mposition\u001b[0m \u001b[1;33m!=\u001b[0m \u001b[0mrequest\u001b[0m\u001b[1;33m[\u001b[0m\u001b[0mrequest_index\u001b[0m\u001b[1;33m]\u001b[0m \u001b[1;32mor\u001b[0m \u001b[0msal1\u001b[0m \u001b[1;33m>\u001b[0m \u001b[0msalary_left\u001b[0m\u001b[1;33m:\u001b[0m\u001b[1;33m\u001b[0m\u001b[0m\n\u001b[0;32m     37\u001b[0m       \u001b[0mmemo\u001b[0m\u001b[1;33m[\u001b[0m\u001b[0mrequest_index\u001b[0m\u001b[1;33m]\u001b[0m\u001b[1;33m[\u001b[0m\u001b[0mcandidate_index\u001b[0m\u001b[1;33m]\u001b[0m\u001b[1;33m[\u001b[0m\u001b[0msalary_left\u001b[0m\u001b[1;33m]\u001b[0m \u001b[1;33m=\u001b[0m \u001b[0mskip_score\u001b[0m\u001b[1;33m\u001b[0m\u001b[0m\n",
        "\u001b[1;32mC:\\Coding\\FanDuel\\src\\analysis\\knapsack.py\u001b[0m in \u001b[0;36mGV\u001b[1;34m(request_index, candidate_index, salary_left)\u001b[0m\n\u001b[0;32m     33\u001b[0m     \u001b[0mc1\u001b[0m \u001b[1;33m=\u001b[0m \u001b[0mcandidates\u001b[0m\u001b[1;33m[\u001b[0m\u001b[0mcandidate_index\u001b[0m\u001b[1;33m]\u001b[0m\u001b[1;33m\u001b[0m\u001b[0m\n\u001b[0;32m     34\u001b[0m     \u001b[0msal1\u001b[0m \u001b[1;33m=\u001b[0m \u001b[0msalaries\u001b[0m\u001b[1;33m[\u001b[0m\u001b[0mcandidate_index\u001b[0m\u001b[1;33m]\u001b[0m\u001b[1;33m\u001b[0m\u001b[0m\n\u001b[1;32m---> 35\u001b[1;33m     \u001b[0mskip_score\u001b[0m \u001b[1;33m=\u001b[0m \u001b[0mGV\u001b[0m\u001b[1;33m(\u001b[0m\u001b[0mrequest_index\u001b[0m\u001b[1;33m,\u001b[0m \u001b[0mcandidate_index\u001b[0m \u001b[1;33m+\u001b[0m \u001b[1;36m1\u001b[0m\u001b[1;33m,\u001b[0m \u001b[0msalary_left\u001b[0m\u001b[1;33m)\u001b[0m\u001b[1;33m\u001b[0m\u001b[0m\n\u001b[0m\u001b[0;32m     36\u001b[0m     \u001b[1;32mif\u001b[0m \u001b[0mc1\u001b[0m\u001b[1;33m.\u001b[0m\u001b[0mposition\u001b[0m \u001b[1;33m!=\u001b[0m \u001b[0mrequest\u001b[0m\u001b[1;33m[\u001b[0m\u001b[0mrequest_index\u001b[0m\u001b[1;33m]\u001b[0m \u001b[1;32mor\u001b[0m \u001b[0msal1\u001b[0m \u001b[1;33m>\u001b[0m \u001b[0msalary_left\u001b[0m\u001b[1;33m:\u001b[0m\u001b[1;33m\u001b[0m\u001b[0m\n\u001b[0;32m     37\u001b[0m       \u001b[0mmemo\u001b[0m\u001b[1;33m[\u001b[0m\u001b[0mrequest_index\u001b[0m\u001b[1;33m]\u001b[0m\u001b[1;33m[\u001b[0m\u001b[0mcandidate_index\u001b[0m\u001b[1;33m]\u001b[0m\u001b[1;33m[\u001b[0m\u001b[0msalary_left\u001b[0m\u001b[1;33m]\u001b[0m \u001b[1;33m=\u001b[0m \u001b[0mskip_score\u001b[0m\u001b[1;33m\u001b[0m\u001b[0m\n",
        "\u001b[1;32mC:\\Coding\\FanDuel\\src\\analysis\\knapsack.py\u001b[0m in \u001b[0;36mGV\u001b[1;34m(request_index, candidate_index, salary_left)\u001b[0m\n\u001b[0;32m     33\u001b[0m     \u001b[0mc1\u001b[0m \u001b[1;33m=\u001b[0m \u001b[0mcandidates\u001b[0m\u001b[1;33m[\u001b[0m\u001b[0mcandidate_index\u001b[0m\u001b[1;33m]\u001b[0m\u001b[1;33m\u001b[0m\u001b[0m\n\u001b[0;32m     34\u001b[0m     \u001b[0msal1\u001b[0m \u001b[1;33m=\u001b[0m \u001b[0msalaries\u001b[0m\u001b[1;33m[\u001b[0m\u001b[0mcandidate_index\u001b[0m\u001b[1;33m]\u001b[0m\u001b[1;33m\u001b[0m\u001b[0m\n\u001b[1;32m---> 35\u001b[1;33m     \u001b[0mskip_score\u001b[0m \u001b[1;33m=\u001b[0m \u001b[0mGV\u001b[0m\u001b[1;33m(\u001b[0m\u001b[0mrequest_index\u001b[0m\u001b[1;33m,\u001b[0m \u001b[0mcandidate_index\u001b[0m \u001b[1;33m+\u001b[0m \u001b[1;36m1\u001b[0m\u001b[1;33m,\u001b[0m \u001b[0msalary_left\u001b[0m\u001b[1;33m)\u001b[0m\u001b[1;33m\u001b[0m\u001b[0m\n\u001b[0m\u001b[0;32m     36\u001b[0m     \u001b[1;32mif\u001b[0m \u001b[0mc1\u001b[0m\u001b[1;33m.\u001b[0m\u001b[0mposition\u001b[0m \u001b[1;33m!=\u001b[0m \u001b[0mrequest\u001b[0m\u001b[1;33m[\u001b[0m\u001b[0mrequest_index\u001b[0m\u001b[1;33m]\u001b[0m \u001b[1;32mor\u001b[0m \u001b[0msal1\u001b[0m \u001b[1;33m>\u001b[0m \u001b[0msalary_left\u001b[0m\u001b[1;33m:\u001b[0m\u001b[1;33m\u001b[0m\u001b[0m\n\u001b[0;32m     37\u001b[0m       \u001b[0mmemo\u001b[0m\u001b[1;33m[\u001b[0m\u001b[0mrequest_index\u001b[0m\u001b[1;33m]\u001b[0m\u001b[1;33m[\u001b[0m\u001b[0mcandidate_index\u001b[0m\u001b[1;33m]\u001b[0m\u001b[1;33m[\u001b[0m\u001b[0msalary_left\u001b[0m\u001b[1;33m]\u001b[0m \u001b[1;33m=\u001b[0m \u001b[0mskip_score\u001b[0m\u001b[1;33m\u001b[0m\u001b[0m\n",
        "\u001b[1;32mC:\\Coding\\FanDuel\\src\\analysis\\knapsack.py\u001b[0m in \u001b[0;36mGV\u001b[1;34m(request_index, candidate_index, salary_left)\u001b[0m\n\u001b[0;32m     33\u001b[0m     \u001b[0mc1\u001b[0m \u001b[1;33m=\u001b[0m \u001b[0mcandidates\u001b[0m\u001b[1;33m[\u001b[0m\u001b[0mcandidate_index\u001b[0m\u001b[1;33m]\u001b[0m\u001b[1;33m\u001b[0m\u001b[0m\n\u001b[0;32m     34\u001b[0m     \u001b[0msal1\u001b[0m \u001b[1;33m=\u001b[0m \u001b[0msalaries\u001b[0m\u001b[1;33m[\u001b[0m\u001b[0mcandidate_index\u001b[0m\u001b[1;33m]\u001b[0m\u001b[1;33m\u001b[0m\u001b[0m\n\u001b[1;32m---> 35\u001b[1;33m     \u001b[0mskip_score\u001b[0m \u001b[1;33m=\u001b[0m \u001b[0mGV\u001b[0m\u001b[1;33m(\u001b[0m\u001b[0mrequest_index\u001b[0m\u001b[1;33m,\u001b[0m \u001b[0mcandidate_index\u001b[0m \u001b[1;33m+\u001b[0m \u001b[1;36m1\u001b[0m\u001b[1;33m,\u001b[0m \u001b[0msalary_left\u001b[0m\u001b[1;33m)\u001b[0m\u001b[1;33m\u001b[0m\u001b[0m\n\u001b[0m\u001b[0;32m     36\u001b[0m     \u001b[1;32mif\u001b[0m \u001b[0mc1\u001b[0m\u001b[1;33m.\u001b[0m\u001b[0mposition\u001b[0m \u001b[1;33m!=\u001b[0m \u001b[0mrequest\u001b[0m\u001b[1;33m[\u001b[0m\u001b[0mrequest_index\u001b[0m\u001b[1;33m]\u001b[0m \u001b[1;32mor\u001b[0m \u001b[0msal1\u001b[0m \u001b[1;33m>\u001b[0m \u001b[0msalary_left\u001b[0m\u001b[1;33m:\u001b[0m\u001b[1;33m\u001b[0m\u001b[0m\n\u001b[0;32m     37\u001b[0m       \u001b[0mmemo\u001b[0m\u001b[1;33m[\u001b[0m\u001b[0mrequest_index\u001b[0m\u001b[1;33m]\u001b[0m\u001b[1;33m[\u001b[0m\u001b[0mcandidate_index\u001b[0m\u001b[1;33m]\u001b[0m\u001b[1;33m[\u001b[0m\u001b[0msalary_left\u001b[0m\u001b[1;33m]\u001b[0m \u001b[1;33m=\u001b[0m \u001b[0mskip_score\u001b[0m\u001b[1;33m\u001b[0m\u001b[0m\n",
        "\u001b[1;32mC:\\Coding\\FanDuel\\src\\analysis\\knapsack.py\u001b[0m in \u001b[0;36mGV\u001b[1;34m(request_index, candidate_index, salary_left)\u001b[0m\n\u001b[0;32m     33\u001b[0m     \u001b[0mc1\u001b[0m \u001b[1;33m=\u001b[0m \u001b[0mcandidates\u001b[0m\u001b[1;33m[\u001b[0m\u001b[0mcandidate_index\u001b[0m\u001b[1;33m]\u001b[0m\u001b[1;33m\u001b[0m\u001b[0m\n\u001b[0;32m     34\u001b[0m     \u001b[0msal1\u001b[0m \u001b[1;33m=\u001b[0m \u001b[0msalaries\u001b[0m\u001b[1;33m[\u001b[0m\u001b[0mcandidate_index\u001b[0m\u001b[1;33m]\u001b[0m\u001b[1;33m\u001b[0m\u001b[0m\n\u001b[1;32m---> 35\u001b[1;33m     \u001b[0mskip_score\u001b[0m \u001b[1;33m=\u001b[0m \u001b[0mGV\u001b[0m\u001b[1;33m(\u001b[0m\u001b[0mrequest_index\u001b[0m\u001b[1;33m,\u001b[0m \u001b[0mcandidate_index\u001b[0m \u001b[1;33m+\u001b[0m \u001b[1;36m1\u001b[0m\u001b[1;33m,\u001b[0m \u001b[0msalary_left\u001b[0m\u001b[1;33m)\u001b[0m\u001b[1;33m\u001b[0m\u001b[0m\n\u001b[0m\u001b[0;32m     36\u001b[0m     \u001b[1;32mif\u001b[0m \u001b[0mc1\u001b[0m\u001b[1;33m.\u001b[0m\u001b[0mposition\u001b[0m \u001b[1;33m!=\u001b[0m \u001b[0mrequest\u001b[0m\u001b[1;33m[\u001b[0m\u001b[0mrequest_index\u001b[0m\u001b[1;33m]\u001b[0m \u001b[1;32mor\u001b[0m \u001b[0msal1\u001b[0m \u001b[1;33m>\u001b[0m \u001b[0msalary_left\u001b[0m\u001b[1;33m:\u001b[0m\u001b[1;33m\u001b[0m\u001b[0m\n\u001b[0;32m     37\u001b[0m       \u001b[0mmemo\u001b[0m\u001b[1;33m[\u001b[0m\u001b[0mrequest_index\u001b[0m\u001b[1;33m]\u001b[0m\u001b[1;33m[\u001b[0m\u001b[0mcandidate_index\u001b[0m\u001b[1;33m]\u001b[0m\u001b[1;33m[\u001b[0m\u001b[0msalary_left\u001b[0m\u001b[1;33m]\u001b[0m \u001b[1;33m=\u001b[0m \u001b[0mskip_score\u001b[0m\u001b[1;33m\u001b[0m\u001b[0m\n",
        "\u001b[1;32mC:\\Coding\\FanDuel\\src\\analysis\\knapsack.py\u001b[0m in \u001b[0;36mGV\u001b[1;34m(request_index, candidate_index, salary_left)\u001b[0m\n\u001b[0;32m     33\u001b[0m     \u001b[0mc1\u001b[0m \u001b[1;33m=\u001b[0m \u001b[0mcandidates\u001b[0m\u001b[1;33m[\u001b[0m\u001b[0mcandidate_index\u001b[0m\u001b[1;33m]\u001b[0m\u001b[1;33m\u001b[0m\u001b[0m\n\u001b[0;32m     34\u001b[0m     \u001b[0msal1\u001b[0m \u001b[1;33m=\u001b[0m \u001b[0msalaries\u001b[0m\u001b[1;33m[\u001b[0m\u001b[0mcandidate_index\u001b[0m\u001b[1;33m]\u001b[0m\u001b[1;33m\u001b[0m\u001b[0m\n\u001b[1;32m---> 35\u001b[1;33m     \u001b[0mskip_score\u001b[0m \u001b[1;33m=\u001b[0m \u001b[0mGV\u001b[0m\u001b[1;33m(\u001b[0m\u001b[0mrequest_index\u001b[0m\u001b[1;33m,\u001b[0m \u001b[0mcandidate_index\u001b[0m \u001b[1;33m+\u001b[0m \u001b[1;36m1\u001b[0m\u001b[1;33m,\u001b[0m \u001b[0msalary_left\u001b[0m\u001b[1;33m)\u001b[0m\u001b[1;33m\u001b[0m\u001b[0m\n\u001b[0m\u001b[0;32m     36\u001b[0m     \u001b[1;32mif\u001b[0m \u001b[0mc1\u001b[0m\u001b[1;33m.\u001b[0m\u001b[0mposition\u001b[0m \u001b[1;33m!=\u001b[0m \u001b[0mrequest\u001b[0m\u001b[1;33m[\u001b[0m\u001b[0mrequest_index\u001b[0m\u001b[1;33m]\u001b[0m \u001b[1;32mor\u001b[0m \u001b[0msal1\u001b[0m \u001b[1;33m>\u001b[0m \u001b[0msalary_left\u001b[0m\u001b[1;33m:\u001b[0m\u001b[1;33m\u001b[0m\u001b[0m\n\u001b[0;32m     37\u001b[0m       \u001b[0mmemo\u001b[0m\u001b[1;33m[\u001b[0m\u001b[0mrequest_index\u001b[0m\u001b[1;33m]\u001b[0m\u001b[1;33m[\u001b[0m\u001b[0mcandidate_index\u001b[0m\u001b[1;33m]\u001b[0m\u001b[1;33m[\u001b[0m\u001b[0msalary_left\u001b[0m\u001b[1;33m]\u001b[0m \u001b[1;33m=\u001b[0m \u001b[0mskip_score\u001b[0m\u001b[1;33m\u001b[0m\u001b[0m\n",
        "\u001b[1;32mC:\\Coding\\FanDuel\\src\\analysis\\knapsack.py\u001b[0m in \u001b[0;36mGV\u001b[1;34m(request_index, candidate_index, salary_left)\u001b[0m\n\u001b[0;32m     33\u001b[0m     \u001b[0mc1\u001b[0m \u001b[1;33m=\u001b[0m \u001b[0mcandidates\u001b[0m\u001b[1;33m[\u001b[0m\u001b[0mcandidate_index\u001b[0m\u001b[1;33m]\u001b[0m\u001b[1;33m\u001b[0m\u001b[0m\n\u001b[0;32m     34\u001b[0m     \u001b[0msal1\u001b[0m \u001b[1;33m=\u001b[0m \u001b[0msalaries\u001b[0m\u001b[1;33m[\u001b[0m\u001b[0mcandidate_index\u001b[0m\u001b[1;33m]\u001b[0m\u001b[1;33m\u001b[0m\u001b[0m\n\u001b[1;32m---> 35\u001b[1;33m     \u001b[0mskip_score\u001b[0m \u001b[1;33m=\u001b[0m \u001b[0mGV\u001b[0m\u001b[1;33m(\u001b[0m\u001b[0mrequest_index\u001b[0m\u001b[1;33m,\u001b[0m \u001b[0mcandidate_index\u001b[0m \u001b[1;33m+\u001b[0m \u001b[1;36m1\u001b[0m\u001b[1;33m,\u001b[0m \u001b[0msalary_left\u001b[0m\u001b[1;33m)\u001b[0m\u001b[1;33m\u001b[0m\u001b[0m\n\u001b[0m\u001b[0;32m     36\u001b[0m     \u001b[1;32mif\u001b[0m \u001b[0mc1\u001b[0m\u001b[1;33m.\u001b[0m\u001b[0mposition\u001b[0m \u001b[1;33m!=\u001b[0m \u001b[0mrequest\u001b[0m\u001b[1;33m[\u001b[0m\u001b[0mrequest_index\u001b[0m\u001b[1;33m]\u001b[0m \u001b[1;32mor\u001b[0m \u001b[0msal1\u001b[0m \u001b[1;33m>\u001b[0m \u001b[0msalary_left\u001b[0m\u001b[1;33m:\u001b[0m\u001b[1;33m\u001b[0m\u001b[0m\n\u001b[0;32m     37\u001b[0m       \u001b[0mmemo\u001b[0m\u001b[1;33m[\u001b[0m\u001b[0mrequest_index\u001b[0m\u001b[1;33m]\u001b[0m\u001b[1;33m[\u001b[0m\u001b[0mcandidate_index\u001b[0m\u001b[1;33m]\u001b[0m\u001b[1;33m[\u001b[0m\u001b[0msalary_left\u001b[0m\u001b[1;33m]\u001b[0m \u001b[1;33m=\u001b[0m \u001b[0mskip_score\u001b[0m\u001b[1;33m\u001b[0m\u001b[0m\n",
        "\u001b[1;32mC:\\Coding\\FanDuel\\src\\analysis\\knapsack.py\u001b[0m in \u001b[0;36mGV\u001b[1;34m(request_index, candidate_index, salary_left)\u001b[0m\n\u001b[0;32m     33\u001b[0m     \u001b[0mc1\u001b[0m \u001b[1;33m=\u001b[0m \u001b[0mcandidates\u001b[0m\u001b[1;33m[\u001b[0m\u001b[0mcandidate_index\u001b[0m\u001b[1;33m]\u001b[0m\u001b[1;33m\u001b[0m\u001b[0m\n\u001b[0;32m     34\u001b[0m     \u001b[0msal1\u001b[0m \u001b[1;33m=\u001b[0m \u001b[0msalaries\u001b[0m\u001b[1;33m[\u001b[0m\u001b[0mcandidate_index\u001b[0m\u001b[1;33m]\u001b[0m\u001b[1;33m\u001b[0m\u001b[0m\n\u001b[1;32m---> 35\u001b[1;33m     \u001b[0mskip_score\u001b[0m \u001b[1;33m=\u001b[0m \u001b[0mGV\u001b[0m\u001b[1;33m(\u001b[0m\u001b[0mrequest_index\u001b[0m\u001b[1;33m,\u001b[0m \u001b[0mcandidate_index\u001b[0m \u001b[1;33m+\u001b[0m \u001b[1;36m1\u001b[0m\u001b[1;33m,\u001b[0m \u001b[0msalary_left\u001b[0m\u001b[1;33m)\u001b[0m\u001b[1;33m\u001b[0m\u001b[0m\n\u001b[0m\u001b[0;32m     36\u001b[0m     \u001b[1;32mif\u001b[0m \u001b[0mc1\u001b[0m\u001b[1;33m.\u001b[0m\u001b[0mposition\u001b[0m \u001b[1;33m!=\u001b[0m \u001b[0mrequest\u001b[0m\u001b[1;33m[\u001b[0m\u001b[0mrequest_index\u001b[0m\u001b[1;33m]\u001b[0m \u001b[1;32mor\u001b[0m \u001b[0msal1\u001b[0m \u001b[1;33m>\u001b[0m \u001b[0msalary_left\u001b[0m\u001b[1;33m:\u001b[0m\u001b[1;33m\u001b[0m\u001b[0m\n\u001b[0;32m     37\u001b[0m       \u001b[0mmemo\u001b[0m\u001b[1;33m[\u001b[0m\u001b[0mrequest_index\u001b[0m\u001b[1;33m]\u001b[0m\u001b[1;33m[\u001b[0m\u001b[0mcandidate_index\u001b[0m\u001b[1;33m]\u001b[0m\u001b[1;33m[\u001b[0m\u001b[0msalary_left\u001b[0m\u001b[1;33m]\u001b[0m \u001b[1;33m=\u001b[0m \u001b[0mskip_score\u001b[0m\u001b[1;33m\u001b[0m\u001b[0m\n",
        "\u001b[1;32mC:\\Coding\\FanDuel\\src\\analysis\\knapsack.py\u001b[0m in \u001b[0;36mGV\u001b[1;34m(request_index, candidate_index, salary_left)\u001b[0m\n\u001b[0;32m     33\u001b[0m     \u001b[0mc1\u001b[0m \u001b[1;33m=\u001b[0m \u001b[0mcandidates\u001b[0m\u001b[1;33m[\u001b[0m\u001b[0mcandidate_index\u001b[0m\u001b[1;33m]\u001b[0m\u001b[1;33m\u001b[0m\u001b[0m\n\u001b[0;32m     34\u001b[0m     \u001b[0msal1\u001b[0m \u001b[1;33m=\u001b[0m \u001b[0msalaries\u001b[0m\u001b[1;33m[\u001b[0m\u001b[0mcandidate_index\u001b[0m\u001b[1;33m]\u001b[0m\u001b[1;33m\u001b[0m\u001b[0m\n\u001b[1;32m---> 35\u001b[1;33m     \u001b[0mskip_score\u001b[0m \u001b[1;33m=\u001b[0m \u001b[0mGV\u001b[0m\u001b[1;33m(\u001b[0m\u001b[0mrequest_index\u001b[0m\u001b[1;33m,\u001b[0m \u001b[0mcandidate_index\u001b[0m \u001b[1;33m+\u001b[0m \u001b[1;36m1\u001b[0m\u001b[1;33m,\u001b[0m \u001b[0msalary_left\u001b[0m\u001b[1;33m)\u001b[0m\u001b[1;33m\u001b[0m\u001b[0m\n\u001b[0m\u001b[0;32m     36\u001b[0m     \u001b[1;32mif\u001b[0m \u001b[0mc1\u001b[0m\u001b[1;33m.\u001b[0m\u001b[0mposition\u001b[0m \u001b[1;33m!=\u001b[0m \u001b[0mrequest\u001b[0m\u001b[1;33m[\u001b[0m\u001b[0mrequest_index\u001b[0m\u001b[1;33m]\u001b[0m \u001b[1;32mor\u001b[0m \u001b[0msal1\u001b[0m \u001b[1;33m>\u001b[0m \u001b[0msalary_left\u001b[0m\u001b[1;33m:\u001b[0m\u001b[1;33m\u001b[0m\u001b[0m\n\u001b[0;32m     37\u001b[0m       \u001b[0mmemo\u001b[0m\u001b[1;33m[\u001b[0m\u001b[0mrequest_index\u001b[0m\u001b[1;33m]\u001b[0m\u001b[1;33m[\u001b[0m\u001b[0mcandidate_index\u001b[0m\u001b[1;33m]\u001b[0m\u001b[1;33m[\u001b[0m\u001b[0msalary_left\u001b[0m\u001b[1;33m]\u001b[0m \u001b[1;33m=\u001b[0m \u001b[0mskip_score\u001b[0m\u001b[1;33m\u001b[0m\u001b[0m\n",
        "\u001b[1;32mC:\\Coding\\FanDuel\\src\\analysis\\knapsack.py\u001b[0m in \u001b[0;36mGV\u001b[1;34m(request_index, candidate_index, salary_left)\u001b[0m\n\u001b[0;32m     33\u001b[0m     \u001b[0mc1\u001b[0m \u001b[1;33m=\u001b[0m \u001b[0mcandidates\u001b[0m\u001b[1;33m[\u001b[0m\u001b[0mcandidate_index\u001b[0m\u001b[1;33m]\u001b[0m\u001b[1;33m\u001b[0m\u001b[0m\n\u001b[0;32m     34\u001b[0m     \u001b[0msal1\u001b[0m \u001b[1;33m=\u001b[0m \u001b[0msalaries\u001b[0m\u001b[1;33m[\u001b[0m\u001b[0mcandidate_index\u001b[0m\u001b[1;33m]\u001b[0m\u001b[1;33m\u001b[0m\u001b[0m\n\u001b[1;32m---> 35\u001b[1;33m     \u001b[0mskip_score\u001b[0m \u001b[1;33m=\u001b[0m \u001b[0mGV\u001b[0m\u001b[1;33m(\u001b[0m\u001b[0mrequest_index\u001b[0m\u001b[1;33m,\u001b[0m \u001b[0mcandidate_index\u001b[0m \u001b[1;33m+\u001b[0m \u001b[1;36m1\u001b[0m\u001b[1;33m,\u001b[0m \u001b[0msalary_left\u001b[0m\u001b[1;33m)\u001b[0m\u001b[1;33m\u001b[0m\u001b[0m\n\u001b[0m\u001b[0;32m     36\u001b[0m     \u001b[1;32mif\u001b[0m \u001b[0mc1\u001b[0m\u001b[1;33m.\u001b[0m\u001b[0mposition\u001b[0m \u001b[1;33m!=\u001b[0m \u001b[0mrequest\u001b[0m\u001b[1;33m[\u001b[0m\u001b[0mrequest_index\u001b[0m\u001b[1;33m]\u001b[0m \u001b[1;32mor\u001b[0m \u001b[0msal1\u001b[0m \u001b[1;33m>\u001b[0m \u001b[0msalary_left\u001b[0m\u001b[1;33m:\u001b[0m\u001b[1;33m\u001b[0m\u001b[0m\n\u001b[0;32m     37\u001b[0m       \u001b[0mmemo\u001b[0m\u001b[1;33m[\u001b[0m\u001b[0mrequest_index\u001b[0m\u001b[1;33m]\u001b[0m\u001b[1;33m[\u001b[0m\u001b[0mcandidate_index\u001b[0m\u001b[1;33m]\u001b[0m\u001b[1;33m[\u001b[0m\u001b[0msalary_left\u001b[0m\u001b[1;33m]\u001b[0m \u001b[1;33m=\u001b[0m \u001b[0mskip_score\u001b[0m\u001b[1;33m\u001b[0m\u001b[0m\n",
        "\u001b[1;32mC:\\Coding\\FanDuel\\src\\analysis\\knapsack.py\u001b[0m in \u001b[0;36mGV\u001b[1;34m(request_index, candidate_index, salary_left)\u001b[0m\n\u001b[0;32m     33\u001b[0m     \u001b[0mc1\u001b[0m \u001b[1;33m=\u001b[0m \u001b[0mcandidates\u001b[0m\u001b[1;33m[\u001b[0m\u001b[0mcandidate_index\u001b[0m\u001b[1;33m]\u001b[0m\u001b[1;33m\u001b[0m\u001b[0m\n\u001b[0;32m     34\u001b[0m     \u001b[0msal1\u001b[0m \u001b[1;33m=\u001b[0m \u001b[0msalaries\u001b[0m\u001b[1;33m[\u001b[0m\u001b[0mcandidate_index\u001b[0m\u001b[1;33m]\u001b[0m\u001b[1;33m\u001b[0m\u001b[0m\n\u001b[1;32m---> 35\u001b[1;33m     \u001b[0mskip_score\u001b[0m \u001b[1;33m=\u001b[0m \u001b[0mGV\u001b[0m\u001b[1;33m(\u001b[0m\u001b[0mrequest_index\u001b[0m\u001b[1;33m,\u001b[0m \u001b[0mcandidate_index\u001b[0m \u001b[1;33m+\u001b[0m \u001b[1;36m1\u001b[0m\u001b[1;33m,\u001b[0m \u001b[0msalary_left\u001b[0m\u001b[1;33m)\u001b[0m\u001b[1;33m\u001b[0m\u001b[0m\n\u001b[0m\u001b[0;32m     36\u001b[0m     \u001b[1;32mif\u001b[0m \u001b[0mc1\u001b[0m\u001b[1;33m.\u001b[0m\u001b[0mposition\u001b[0m \u001b[1;33m!=\u001b[0m \u001b[0mrequest\u001b[0m\u001b[1;33m[\u001b[0m\u001b[0mrequest_index\u001b[0m\u001b[1;33m]\u001b[0m \u001b[1;32mor\u001b[0m \u001b[0msal1\u001b[0m \u001b[1;33m>\u001b[0m \u001b[0msalary_left\u001b[0m\u001b[1;33m:\u001b[0m\u001b[1;33m\u001b[0m\u001b[0m\n\u001b[0;32m     37\u001b[0m       \u001b[0mmemo\u001b[0m\u001b[1;33m[\u001b[0m\u001b[0mrequest_index\u001b[0m\u001b[1;33m]\u001b[0m\u001b[1;33m[\u001b[0m\u001b[0mcandidate_index\u001b[0m\u001b[1;33m]\u001b[0m\u001b[1;33m[\u001b[0m\u001b[0msalary_left\u001b[0m\u001b[1;33m]\u001b[0m \u001b[1;33m=\u001b[0m \u001b[0mskip_score\u001b[0m\u001b[1;33m\u001b[0m\u001b[0m\n",
        "\u001b[1;32mC:\\Coding\\FanDuel\\src\\analysis\\knapsack.py\u001b[0m in \u001b[0;36mGV\u001b[1;34m(request_index, candidate_index, salary_left)\u001b[0m\n\u001b[0;32m     33\u001b[0m     \u001b[0mc1\u001b[0m \u001b[1;33m=\u001b[0m \u001b[0mcandidates\u001b[0m\u001b[1;33m[\u001b[0m\u001b[0mcandidate_index\u001b[0m\u001b[1;33m]\u001b[0m\u001b[1;33m\u001b[0m\u001b[0m\n\u001b[0;32m     34\u001b[0m     \u001b[0msal1\u001b[0m \u001b[1;33m=\u001b[0m \u001b[0msalaries\u001b[0m\u001b[1;33m[\u001b[0m\u001b[0mcandidate_index\u001b[0m\u001b[1;33m]\u001b[0m\u001b[1;33m\u001b[0m\u001b[0m\n\u001b[1;32m---> 35\u001b[1;33m     \u001b[0mskip_score\u001b[0m \u001b[1;33m=\u001b[0m \u001b[0mGV\u001b[0m\u001b[1;33m(\u001b[0m\u001b[0mrequest_index\u001b[0m\u001b[1;33m,\u001b[0m \u001b[0mcandidate_index\u001b[0m \u001b[1;33m+\u001b[0m \u001b[1;36m1\u001b[0m\u001b[1;33m,\u001b[0m \u001b[0msalary_left\u001b[0m\u001b[1;33m)\u001b[0m\u001b[1;33m\u001b[0m\u001b[0m\n\u001b[0m\u001b[0;32m     36\u001b[0m     \u001b[1;32mif\u001b[0m \u001b[0mc1\u001b[0m\u001b[1;33m.\u001b[0m\u001b[0mposition\u001b[0m \u001b[1;33m!=\u001b[0m \u001b[0mrequest\u001b[0m\u001b[1;33m[\u001b[0m\u001b[0mrequest_index\u001b[0m\u001b[1;33m]\u001b[0m \u001b[1;32mor\u001b[0m \u001b[0msal1\u001b[0m \u001b[1;33m>\u001b[0m \u001b[0msalary_left\u001b[0m\u001b[1;33m:\u001b[0m\u001b[1;33m\u001b[0m\u001b[0m\n\u001b[0;32m     37\u001b[0m       \u001b[0mmemo\u001b[0m\u001b[1;33m[\u001b[0m\u001b[0mrequest_index\u001b[0m\u001b[1;33m]\u001b[0m\u001b[1;33m[\u001b[0m\u001b[0mcandidate_index\u001b[0m\u001b[1;33m]\u001b[0m\u001b[1;33m[\u001b[0m\u001b[0msalary_left\u001b[0m\u001b[1;33m]\u001b[0m \u001b[1;33m=\u001b[0m \u001b[0mskip_score\u001b[0m\u001b[1;33m\u001b[0m\u001b[0m\n",
        "\u001b[1;32mC:\\Coding\\FanDuel\\src\\analysis\\knapsack.py\u001b[0m in \u001b[0;36mGV\u001b[1;34m(request_index, candidate_index, salary_left)\u001b[0m\n\u001b[0;32m     38\u001b[0m       \u001b[1;32mreturn\u001b[0m \u001b[0mskip_score\u001b[0m\u001b[1;33m\u001b[0m\u001b[0m\n\u001b[0;32m     39\u001b[0m     \u001b[1;32melse\u001b[0m\u001b[1;33m:\u001b[0m\u001b[1;33m\u001b[0m\u001b[0m\n\u001b[1;32m---> 40\u001b[1;33m       \u001b[0mres\u001b[0m \u001b[1;33m=\u001b[0m \u001b[0mmax\u001b[0m\u001b[1;33m(\u001b[0m\u001b[0mskip_score\u001b[0m\u001b[1;33m,\u001b[0m \u001b[0mc1\u001b[0m\u001b[1;33m.\u001b[0m\u001b[0mpts\u001b[0m \u001b[1;33m+\u001b[0m \u001b[0mGV\u001b[0m\u001b[1;33m(\u001b[0m\u001b[0mrequest_index\u001b[0m \u001b[1;33m+\u001b[0m \u001b[1;36m1\u001b[0m\u001b[1;33m,\u001b[0m \u001b[0mcandidate_index\u001b[0m \u001b[1;33m+\u001b[0m \u001b[1;36m1\u001b[0m\u001b[1;33m,\u001b[0m \u001b[0msalary_left\u001b[0m \u001b[1;33m-\u001b[0m \u001b[0msal1\u001b[0m\u001b[1;33m)\u001b[0m\u001b[1;33m)\u001b[0m\u001b[1;33m\u001b[0m\u001b[0m\n\u001b[0m\u001b[0;32m     41\u001b[0m       \u001b[0mmemo\u001b[0m\u001b[1;33m[\u001b[0m\u001b[0mrequest_index\u001b[0m\u001b[1;33m]\u001b[0m\u001b[1;33m[\u001b[0m\u001b[0mcandidate_index\u001b[0m\u001b[1;33m]\u001b[0m\u001b[1;33m[\u001b[0m\u001b[0msalary_left\u001b[0m\u001b[1;33m]\u001b[0m \u001b[1;33m=\u001b[0m \u001b[0mres\u001b[0m\u001b[1;33m\u001b[0m\u001b[0m\n\u001b[0;32m     42\u001b[0m       \u001b[1;32mreturn\u001b[0m \u001b[0mres\u001b[0m\u001b[1;33m\u001b[0m\u001b[0m\n",
        "\u001b[1;32mC:\\Coding\\FanDuel\\src\\analysis\\knapsack.py\u001b[0m in \u001b[0;36mGV\u001b[1;34m(request_index, candidate_index, salary_left)\u001b[0m\n\u001b[0;32m     33\u001b[0m     \u001b[0mc1\u001b[0m \u001b[1;33m=\u001b[0m \u001b[0mcandidates\u001b[0m\u001b[1;33m[\u001b[0m\u001b[0mcandidate_index\u001b[0m\u001b[1;33m]\u001b[0m\u001b[1;33m\u001b[0m\u001b[0m\n\u001b[0;32m     34\u001b[0m     \u001b[0msal1\u001b[0m \u001b[1;33m=\u001b[0m \u001b[0msalaries\u001b[0m\u001b[1;33m[\u001b[0m\u001b[0mcandidate_index\u001b[0m\u001b[1;33m]\u001b[0m\u001b[1;33m\u001b[0m\u001b[0m\n\u001b[1;32m---> 35\u001b[1;33m     \u001b[0mskip_score\u001b[0m \u001b[1;33m=\u001b[0m \u001b[0mGV\u001b[0m\u001b[1;33m(\u001b[0m\u001b[0mrequest_index\u001b[0m\u001b[1;33m,\u001b[0m \u001b[0mcandidate_index\u001b[0m \u001b[1;33m+\u001b[0m \u001b[1;36m1\u001b[0m\u001b[1;33m,\u001b[0m \u001b[0msalary_left\u001b[0m\u001b[1;33m)\u001b[0m\u001b[1;33m\u001b[0m\u001b[0m\n\u001b[0m\u001b[0;32m     36\u001b[0m     \u001b[1;32mif\u001b[0m \u001b[0mc1\u001b[0m\u001b[1;33m.\u001b[0m\u001b[0mposition\u001b[0m \u001b[1;33m!=\u001b[0m \u001b[0mrequest\u001b[0m\u001b[1;33m[\u001b[0m\u001b[0mrequest_index\u001b[0m\u001b[1;33m]\u001b[0m \u001b[1;32mor\u001b[0m \u001b[0msal1\u001b[0m \u001b[1;33m>\u001b[0m \u001b[0msalary_left\u001b[0m\u001b[1;33m:\u001b[0m\u001b[1;33m\u001b[0m\u001b[0m\n\u001b[0;32m     37\u001b[0m       \u001b[0mmemo\u001b[0m\u001b[1;33m[\u001b[0m\u001b[0mrequest_index\u001b[0m\u001b[1;33m]\u001b[0m\u001b[1;33m[\u001b[0m\u001b[0mcandidate_index\u001b[0m\u001b[1;33m]\u001b[0m\u001b[1;33m[\u001b[0m\u001b[0msalary_left\u001b[0m\u001b[1;33m]\u001b[0m \u001b[1;33m=\u001b[0m \u001b[0mskip_score\u001b[0m\u001b[1;33m\u001b[0m\u001b[0m\n",
        "\u001b[1;32mC:\\Coding\\FanDuel\\src\\analysis\\knapsack.py\u001b[0m in \u001b[0;36mGV\u001b[1;34m(request_index, candidate_index, salary_left)\u001b[0m\n\u001b[0;32m     33\u001b[0m     \u001b[0mc1\u001b[0m \u001b[1;33m=\u001b[0m \u001b[0mcandidates\u001b[0m\u001b[1;33m[\u001b[0m\u001b[0mcandidate_index\u001b[0m\u001b[1;33m]\u001b[0m\u001b[1;33m\u001b[0m\u001b[0m\n\u001b[0;32m     34\u001b[0m     \u001b[0msal1\u001b[0m \u001b[1;33m=\u001b[0m \u001b[0msalaries\u001b[0m\u001b[1;33m[\u001b[0m\u001b[0mcandidate_index\u001b[0m\u001b[1;33m]\u001b[0m\u001b[1;33m\u001b[0m\u001b[0m\n\u001b[1;32m---> 35\u001b[1;33m     \u001b[0mskip_score\u001b[0m \u001b[1;33m=\u001b[0m \u001b[0mGV\u001b[0m\u001b[1;33m(\u001b[0m\u001b[0mrequest_index\u001b[0m\u001b[1;33m,\u001b[0m \u001b[0mcandidate_index\u001b[0m \u001b[1;33m+\u001b[0m \u001b[1;36m1\u001b[0m\u001b[1;33m,\u001b[0m \u001b[0msalary_left\u001b[0m\u001b[1;33m)\u001b[0m\u001b[1;33m\u001b[0m\u001b[0m\n\u001b[0m\u001b[0;32m     36\u001b[0m     \u001b[1;32mif\u001b[0m \u001b[0mc1\u001b[0m\u001b[1;33m.\u001b[0m\u001b[0mposition\u001b[0m \u001b[1;33m!=\u001b[0m \u001b[0mrequest\u001b[0m\u001b[1;33m[\u001b[0m\u001b[0mrequest_index\u001b[0m\u001b[1;33m]\u001b[0m \u001b[1;32mor\u001b[0m \u001b[0msal1\u001b[0m \u001b[1;33m>\u001b[0m \u001b[0msalary_left\u001b[0m\u001b[1;33m:\u001b[0m\u001b[1;33m\u001b[0m\u001b[0m\n\u001b[0;32m     37\u001b[0m       \u001b[0mmemo\u001b[0m\u001b[1;33m[\u001b[0m\u001b[0mrequest_index\u001b[0m\u001b[1;33m]\u001b[0m\u001b[1;33m[\u001b[0m\u001b[0mcandidate_index\u001b[0m\u001b[1;33m]\u001b[0m\u001b[1;33m[\u001b[0m\u001b[0msalary_left\u001b[0m\u001b[1;33m]\u001b[0m \u001b[1;33m=\u001b[0m \u001b[0mskip_score\u001b[0m\u001b[1;33m\u001b[0m\u001b[0m\n",
        "\u001b[1;32mC:\\Coding\\FanDuel\\src\\analysis\\knapsack.py\u001b[0m in \u001b[0;36mGV\u001b[1;34m(request_index, candidate_index, salary_left)\u001b[0m\n\u001b[0;32m     33\u001b[0m     \u001b[0mc1\u001b[0m \u001b[1;33m=\u001b[0m \u001b[0mcandidates\u001b[0m\u001b[1;33m[\u001b[0m\u001b[0mcandidate_index\u001b[0m\u001b[1;33m]\u001b[0m\u001b[1;33m\u001b[0m\u001b[0m\n\u001b[0;32m     34\u001b[0m     \u001b[0msal1\u001b[0m \u001b[1;33m=\u001b[0m \u001b[0msalaries\u001b[0m\u001b[1;33m[\u001b[0m\u001b[0mcandidate_index\u001b[0m\u001b[1;33m]\u001b[0m\u001b[1;33m\u001b[0m\u001b[0m\n\u001b[1;32m---> 35\u001b[1;33m     \u001b[0mskip_score\u001b[0m \u001b[1;33m=\u001b[0m \u001b[0mGV\u001b[0m\u001b[1;33m(\u001b[0m\u001b[0mrequest_index\u001b[0m\u001b[1;33m,\u001b[0m \u001b[0mcandidate_index\u001b[0m \u001b[1;33m+\u001b[0m \u001b[1;36m1\u001b[0m\u001b[1;33m,\u001b[0m \u001b[0msalary_left\u001b[0m\u001b[1;33m)\u001b[0m\u001b[1;33m\u001b[0m\u001b[0m\n\u001b[0m\u001b[0;32m     36\u001b[0m     \u001b[1;32mif\u001b[0m \u001b[0mc1\u001b[0m\u001b[1;33m.\u001b[0m\u001b[0mposition\u001b[0m \u001b[1;33m!=\u001b[0m \u001b[0mrequest\u001b[0m\u001b[1;33m[\u001b[0m\u001b[0mrequest_index\u001b[0m\u001b[1;33m]\u001b[0m \u001b[1;32mor\u001b[0m \u001b[0msal1\u001b[0m \u001b[1;33m>\u001b[0m \u001b[0msalary_left\u001b[0m\u001b[1;33m:\u001b[0m\u001b[1;33m\u001b[0m\u001b[0m\n\u001b[0;32m     37\u001b[0m       \u001b[0mmemo\u001b[0m\u001b[1;33m[\u001b[0m\u001b[0mrequest_index\u001b[0m\u001b[1;33m]\u001b[0m\u001b[1;33m[\u001b[0m\u001b[0mcandidate_index\u001b[0m\u001b[1;33m]\u001b[0m\u001b[1;33m[\u001b[0m\u001b[0msalary_left\u001b[0m\u001b[1;33m]\u001b[0m \u001b[1;33m=\u001b[0m \u001b[0mskip_score\u001b[0m\u001b[1;33m\u001b[0m\u001b[0m\n",
        "\u001b[1;32mC:\\Coding\\FanDuel\\src\\analysis\\knapsack.py\u001b[0m in \u001b[0;36mGV\u001b[1;34m(request_index, candidate_index, salary_left)\u001b[0m\n\u001b[0;32m     33\u001b[0m     \u001b[0mc1\u001b[0m \u001b[1;33m=\u001b[0m \u001b[0mcandidates\u001b[0m\u001b[1;33m[\u001b[0m\u001b[0mcandidate_index\u001b[0m\u001b[1;33m]\u001b[0m\u001b[1;33m\u001b[0m\u001b[0m\n\u001b[0;32m     34\u001b[0m     \u001b[0msal1\u001b[0m \u001b[1;33m=\u001b[0m \u001b[0msalaries\u001b[0m\u001b[1;33m[\u001b[0m\u001b[0mcandidate_index\u001b[0m\u001b[1;33m]\u001b[0m\u001b[1;33m\u001b[0m\u001b[0m\n\u001b[1;32m---> 35\u001b[1;33m     \u001b[0mskip_score\u001b[0m \u001b[1;33m=\u001b[0m \u001b[0mGV\u001b[0m\u001b[1;33m(\u001b[0m\u001b[0mrequest_index\u001b[0m\u001b[1;33m,\u001b[0m \u001b[0mcandidate_index\u001b[0m \u001b[1;33m+\u001b[0m \u001b[1;36m1\u001b[0m\u001b[1;33m,\u001b[0m \u001b[0msalary_left\u001b[0m\u001b[1;33m)\u001b[0m\u001b[1;33m\u001b[0m\u001b[0m\n\u001b[0m\u001b[0;32m     36\u001b[0m     \u001b[1;32mif\u001b[0m \u001b[0mc1\u001b[0m\u001b[1;33m.\u001b[0m\u001b[0mposition\u001b[0m \u001b[1;33m!=\u001b[0m \u001b[0mrequest\u001b[0m\u001b[1;33m[\u001b[0m\u001b[0mrequest_index\u001b[0m\u001b[1;33m]\u001b[0m \u001b[1;32mor\u001b[0m \u001b[0msal1\u001b[0m \u001b[1;33m>\u001b[0m \u001b[0msalary_left\u001b[0m\u001b[1;33m:\u001b[0m\u001b[1;33m\u001b[0m\u001b[0m\n\u001b[0;32m     37\u001b[0m       \u001b[0mmemo\u001b[0m\u001b[1;33m[\u001b[0m\u001b[0mrequest_index\u001b[0m\u001b[1;33m]\u001b[0m\u001b[1;33m[\u001b[0m\u001b[0mcandidate_index\u001b[0m\u001b[1;33m]\u001b[0m\u001b[1;33m[\u001b[0m\u001b[0msalary_left\u001b[0m\u001b[1;33m]\u001b[0m \u001b[1;33m=\u001b[0m \u001b[0mskip_score\u001b[0m\u001b[1;33m\u001b[0m\u001b[0m\n",
        "\u001b[1;32mC:\\Coding\\FanDuel\\src\\analysis\\knapsack.py\u001b[0m in \u001b[0;36mGV\u001b[1;34m(request_index, candidate_index, salary_left)\u001b[0m\n\u001b[0;32m     33\u001b[0m     \u001b[0mc1\u001b[0m \u001b[1;33m=\u001b[0m \u001b[0mcandidates\u001b[0m\u001b[1;33m[\u001b[0m\u001b[0mcandidate_index\u001b[0m\u001b[1;33m]\u001b[0m\u001b[1;33m\u001b[0m\u001b[0m\n\u001b[0;32m     34\u001b[0m     \u001b[0msal1\u001b[0m \u001b[1;33m=\u001b[0m \u001b[0msalaries\u001b[0m\u001b[1;33m[\u001b[0m\u001b[0mcandidate_index\u001b[0m\u001b[1;33m]\u001b[0m\u001b[1;33m\u001b[0m\u001b[0m\n\u001b[1;32m---> 35\u001b[1;33m     \u001b[0mskip_score\u001b[0m \u001b[1;33m=\u001b[0m \u001b[0mGV\u001b[0m\u001b[1;33m(\u001b[0m\u001b[0mrequest_index\u001b[0m\u001b[1;33m,\u001b[0m \u001b[0mcandidate_index\u001b[0m \u001b[1;33m+\u001b[0m \u001b[1;36m1\u001b[0m\u001b[1;33m,\u001b[0m \u001b[0msalary_left\u001b[0m\u001b[1;33m)\u001b[0m\u001b[1;33m\u001b[0m\u001b[0m\n\u001b[0m\u001b[0;32m     36\u001b[0m     \u001b[1;32mif\u001b[0m \u001b[0mc1\u001b[0m\u001b[1;33m.\u001b[0m\u001b[0mposition\u001b[0m \u001b[1;33m!=\u001b[0m \u001b[0mrequest\u001b[0m\u001b[1;33m[\u001b[0m\u001b[0mrequest_index\u001b[0m\u001b[1;33m]\u001b[0m \u001b[1;32mor\u001b[0m \u001b[0msal1\u001b[0m \u001b[1;33m>\u001b[0m \u001b[0msalary_left\u001b[0m\u001b[1;33m:\u001b[0m\u001b[1;33m\u001b[0m\u001b[0m\n\u001b[0;32m     37\u001b[0m       \u001b[0mmemo\u001b[0m\u001b[1;33m[\u001b[0m\u001b[0mrequest_index\u001b[0m\u001b[1;33m]\u001b[0m\u001b[1;33m[\u001b[0m\u001b[0mcandidate_index\u001b[0m\u001b[1;33m]\u001b[0m\u001b[1;33m[\u001b[0m\u001b[0msalary_left\u001b[0m\u001b[1;33m]\u001b[0m \u001b[1;33m=\u001b[0m \u001b[0mskip_score\u001b[0m\u001b[1;33m\u001b[0m\u001b[0m\n",
        "\u001b[1;32mC:\\Coding\\FanDuel\\src\\analysis\\knapsack.py\u001b[0m in \u001b[0;36mGV\u001b[1;34m(request_index, candidate_index, salary_left)\u001b[0m\n\u001b[0;32m     33\u001b[0m     \u001b[0mc1\u001b[0m \u001b[1;33m=\u001b[0m \u001b[0mcandidates\u001b[0m\u001b[1;33m[\u001b[0m\u001b[0mcandidate_index\u001b[0m\u001b[1;33m]\u001b[0m\u001b[1;33m\u001b[0m\u001b[0m\n\u001b[0;32m     34\u001b[0m     \u001b[0msal1\u001b[0m \u001b[1;33m=\u001b[0m \u001b[0msalaries\u001b[0m\u001b[1;33m[\u001b[0m\u001b[0mcandidate_index\u001b[0m\u001b[1;33m]\u001b[0m\u001b[1;33m\u001b[0m\u001b[0m\n\u001b[1;32m---> 35\u001b[1;33m     \u001b[0mskip_score\u001b[0m \u001b[1;33m=\u001b[0m \u001b[0mGV\u001b[0m\u001b[1;33m(\u001b[0m\u001b[0mrequest_index\u001b[0m\u001b[1;33m,\u001b[0m \u001b[0mcandidate_index\u001b[0m \u001b[1;33m+\u001b[0m \u001b[1;36m1\u001b[0m\u001b[1;33m,\u001b[0m \u001b[0msalary_left\u001b[0m\u001b[1;33m)\u001b[0m\u001b[1;33m\u001b[0m\u001b[0m\n\u001b[0m\u001b[0;32m     36\u001b[0m     \u001b[1;32mif\u001b[0m \u001b[0mc1\u001b[0m\u001b[1;33m.\u001b[0m\u001b[0mposition\u001b[0m \u001b[1;33m!=\u001b[0m \u001b[0mrequest\u001b[0m\u001b[1;33m[\u001b[0m\u001b[0mrequest_index\u001b[0m\u001b[1;33m]\u001b[0m \u001b[1;32mor\u001b[0m \u001b[0msal1\u001b[0m \u001b[1;33m>\u001b[0m \u001b[0msalary_left\u001b[0m\u001b[1;33m:\u001b[0m\u001b[1;33m\u001b[0m\u001b[0m\n\u001b[0;32m     37\u001b[0m       \u001b[0mmemo\u001b[0m\u001b[1;33m[\u001b[0m\u001b[0mrequest_index\u001b[0m\u001b[1;33m]\u001b[0m\u001b[1;33m[\u001b[0m\u001b[0mcandidate_index\u001b[0m\u001b[1;33m]\u001b[0m\u001b[1;33m[\u001b[0m\u001b[0msalary_left\u001b[0m\u001b[1;33m]\u001b[0m \u001b[1;33m=\u001b[0m \u001b[0mskip_score\u001b[0m\u001b[1;33m\u001b[0m\u001b[0m\n",
        "\u001b[1;32mC:\\Coding\\FanDuel\\src\\analysis\\knapsack.py\u001b[0m in \u001b[0;36mGV\u001b[1;34m(request_index, candidate_index, salary_left)\u001b[0m\n\u001b[0;32m     33\u001b[0m     \u001b[0mc1\u001b[0m \u001b[1;33m=\u001b[0m \u001b[0mcandidates\u001b[0m\u001b[1;33m[\u001b[0m\u001b[0mcandidate_index\u001b[0m\u001b[1;33m]\u001b[0m\u001b[1;33m\u001b[0m\u001b[0m\n\u001b[0;32m     34\u001b[0m     \u001b[0msal1\u001b[0m \u001b[1;33m=\u001b[0m \u001b[0msalaries\u001b[0m\u001b[1;33m[\u001b[0m\u001b[0mcandidate_index\u001b[0m\u001b[1;33m]\u001b[0m\u001b[1;33m\u001b[0m\u001b[0m\n\u001b[1;32m---> 35\u001b[1;33m     \u001b[0mskip_score\u001b[0m \u001b[1;33m=\u001b[0m \u001b[0mGV\u001b[0m\u001b[1;33m(\u001b[0m\u001b[0mrequest_index\u001b[0m\u001b[1;33m,\u001b[0m \u001b[0mcandidate_index\u001b[0m \u001b[1;33m+\u001b[0m \u001b[1;36m1\u001b[0m\u001b[1;33m,\u001b[0m \u001b[0msalary_left\u001b[0m\u001b[1;33m)\u001b[0m\u001b[1;33m\u001b[0m\u001b[0m\n\u001b[0m\u001b[0;32m     36\u001b[0m     \u001b[1;32mif\u001b[0m \u001b[0mc1\u001b[0m\u001b[1;33m.\u001b[0m\u001b[0mposition\u001b[0m \u001b[1;33m!=\u001b[0m \u001b[0mrequest\u001b[0m\u001b[1;33m[\u001b[0m\u001b[0mrequest_index\u001b[0m\u001b[1;33m]\u001b[0m \u001b[1;32mor\u001b[0m \u001b[0msal1\u001b[0m \u001b[1;33m>\u001b[0m \u001b[0msalary_left\u001b[0m\u001b[1;33m:\u001b[0m\u001b[1;33m\u001b[0m\u001b[0m\n\u001b[0;32m     37\u001b[0m       \u001b[0mmemo\u001b[0m\u001b[1;33m[\u001b[0m\u001b[0mrequest_index\u001b[0m\u001b[1;33m]\u001b[0m\u001b[1;33m[\u001b[0m\u001b[0mcandidate_index\u001b[0m\u001b[1;33m]\u001b[0m\u001b[1;33m[\u001b[0m\u001b[0msalary_left\u001b[0m\u001b[1;33m]\u001b[0m \u001b[1;33m=\u001b[0m \u001b[0mskip_score\u001b[0m\u001b[1;33m\u001b[0m\u001b[0m\n",
        "\u001b[1;32mC:\\Coding\\FanDuel\\src\\analysis\\knapsack.py\u001b[0m in \u001b[0;36mGV\u001b[1;34m(request_index, candidate_index, salary_left)\u001b[0m\n\u001b[0;32m     33\u001b[0m     \u001b[0mc1\u001b[0m \u001b[1;33m=\u001b[0m \u001b[0mcandidates\u001b[0m\u001b[1;33m[\u001b[0m\u001b[0mcandidate_index\u001b[0m\u001b[1;33m]\u001b[0m\u001b[1;33m\u001b[0m\u001b[0m\n\u001b[0;32m     34\u001b[0m     \u001b[0msal1\u001b[0m \u001b[1;33m=\u001b[0m \u001b[0msalaries\u001b[0m\u001b[1;33m[\u001b[0m\u001b[0mcandidate_index\u001b[0m\u001b[1;33m]\u001b[0m\u001b[1;33m\u001b[0m\u001b[0m\n\u001b[1;32m---> 35\u001b[1;33m     \u001b[0mskip_score\u001b[0m \u001b[1;33m=\u001b[0m \u001b[0mGV\u001b[0m\u001b[1;33m(\u001b[0m\u001b[0mrequest_index\u001b[0m\u001b[1;33m,\u001b[0m \u001b[0mcandidate_index\u001b[0m \u001b[1;33m+\u001b[0m \u001b[1;36m1\u001b[0m\u001b[1;33m,\u001b[0m \u001b[0msalary_left\u001b[0m\u001b[1;33m)\u001b[0m\u001b[1;33m\u001b[0m\u001b[0m\n\u001b[0m\u001b[0;32m     36\u001b[0m     \u001b[1;32mif\u001b[0m \u001b[0mc1\u001b[0m\u001b[1;33m.\u001b[0m\u001b[0mposition\u001b[0m \u001b[1;33m!=\u001b[0m \u001b[0mrequest\u001b[0m\u001b[1;33m[\u001b[0m\u001b[0mrequest_index\u001b[0m\u001b[1;33m]\u001b[0m \u001b[1;32mor\u001b[0m \u001b[0msal1\u001b[0m \u001b[1;33m>\u001b[0m \u001b[0msalary_left\u001b[0m\u001b[1;33m:\u001b[0m\u001b[1;33m\u001b[0m\u001b[0m\n\u001b[0;32m     37\u001b[0m       \u001b[0mmemo\u001b[0m\u001b[1;33m[\u001b[0m\u001b[0mrequest_index\u001b[0m\u001b[1;33m]\u001b[0m\u001b[1;33m[\u001b[0m\u001b[0mcandidate_index\u001b[0m\u001b[1;33m]\u001b[0m\u001b[1;33m[\u001b[0m\u001b[0msalary_left\u001b[0m\u001b[1;33m]\u001b[0m \u001b[1;33m=\u001b[0m \u001b[0mskip_score\u001b[0m\u001b[1;33m\u001b[0m\u001b[0m\n",
        "\u001b[1;32mC:\\Coding\\FanDuel\\src\\analysis\\knapsack.py\u001b[0m in \u001b[0;36mGV\u001b[1;34m(request_index, candidate_index, salary_left)\u001b[0m\n\u001b[0;32m     33\u001b[0m     \u001b[0mc1\u001b[0m \u001b[1;33m=\u001b[0m \u001b[0mcandidates\u001b[0m\u001b[1;33m[\u001b[0m\u001b[0mcandidate_index\u001b[0m\u001b[1;33m]\u001b[0m\u001b[1;33m\u001b[0m\u001b[0m\n\u001b[0;32m     34\u001b[0m     \u001b[0msal1\u001b[0m \u001b[1;33m=\u001b[0m \u001b[0msalaries\u001b[0m\u001b[1;33m[\u001b[0m\u001b[0mcandidate_index\u001b[0m\u001b[1;33m]\u001b[0m\u001b[1;33m\u001b[0m\u001b[0m\n\u001b[1;32m---> 35\u001b[1;33m     \u001b[0mskip_score\u001b[0m \u001b[1;33m=\u001b[0m \u001b[0mGV\u001b[0m\u001b[1;33m(\u001b[0m\u001b[0mrequest_index\u001b[0m\u001b[1;33m,\u001b[0m \u001b[0mcandidate_index\u001b[0m \u001b[1;33m+\u001b[0m \u001b[1;36m1\u001b[0m\u001b[1;33m,\u001b[0m \u001b[0msalary_left\u001b[0m\u001b[1;33m)\u001b[0m\u001b[1;33m\u001b[0m\u001b[0m\n\u001b[0m\u001b[0;32m     36\u001b[0m     \u001b[1;32mif\u001b[0m \u001b[0mc1\u001b[0m\u001b[1;33m.\u001b[0m\u001b[0mposition\u001b[0m \u001b[1;33m!=\u001b[0m \u001b[0mrequest\u001b[0m\u001b[1;33m[\u001b[0m\u001b[0mrequest_index\u001b[0m\u001b[1;33m]\u001b[0m \u001b[1;32mor\u001b[0m \u001b[0msal1\u001b[0m \u001b[1;33m>\u001b[0m \u001b[0msalary_left\u001b[0m\u001b[1;33m:\u001b[0m\u001b[1;33m\u001b[0m\u001b[0m\n\u001b[0;32m     37\u001b[0m       \u001b[0mmemo\u001b[0m\u001b[1;33m[\u001b[0m\u001b[0mrequest_index\u001b[0m\u001b[1;33m]\u001b[0m\u001b[1;33m[\u001b[0m\u001b[0mcandidate_index\u001b[0m\u001b[1;33m]\u001b[0m\u001b[1;33m[\u001b[0m\u001b[0msalary_left\u001b[0m\u001b[1;33m]\u001b[0m \u001b[1;33m=\u001b[0m \u001b[0mskip_score\u001b[0m\u001b[1;33m\u001b[0m\u001b[0m\n",
        "\u001b[1;32mC:\\Coding\\FanDuel\\src\\analysis\\knapsack.py\u001b[0m in \u001b[0;36mGV\u001b[1;34m(request_index, candidate_index, salary_left)\u001b[0m\n\u001b[0;32m     33\u001b[0m     \u001b[0mc1\u001b[0m \u001b[1;33m=\u001b[0m \u001b[0mcandidates\u001b[0m\u001b[1;33m[\u001b[0m\u001b[0mcandidate_index\u001b[0m\u001b[1;33m]\u001b[0m\u001b[1;33m\u001b[0m\u001b[0m\n\u001b[0;32m     34\u001b[0m     \u001b[0msal1\u001b[0m \u001b[1;33m=\u001b[0m \u001b[0msalaries\u001b[0m\u001b[1;33m[\u001b[0m\u001b[0mcandidate_index\u001b[0m\u001b[1;33m]\u001b[0m\u001b[1;33m\u001b[0m\u001b[0m\n\u001b[1;32m---> 35\u001b[1;33m     \u001b[0mskip_score\u001b[0m \u001b[1;33m=\u001b[0m \u001b[0mGV\u001b[0m\u001b[1;33m(\u001b[0m\u001b[0mrequest_index\u001b[0m\u001b[1;33m,\u001b[0m \u001b[0mcandidate_index\u001b[0m \u001b[1;33m+\u001b[0m \u001b[1;36m1\u001b[0m\u001b[1;33m,\u001b[0m \u001b[0msalary_left\u001b[0m\u001b[1;33m)\u001b[0m\u001b[1;33m\u001b[0m\u001b[0m\n\u001b[0m\u001b[0;32m     36\u001b[0m     \u001b[1;32mif\u001b[0m \u001b[0mc1\u001b[0m\u001b[1;33m.\u001b[0m\u001b[0mposition\u001b[0m \u001b[1;33m!=\u001b[0m \u001b[0mrequest\u001b[0m\u001b[1;33m[\u001b[0m\u001b[0mrequest_index\u001b[0m\u001b[1;33m]\u001b[0m \u001b[1;32mor\u001b[0m \u001b[0msal1\u001b[0m \u001b[1;33m>\u001b[0m \u001b[0msalary_left\u001b[0m\u001b[1;33m:\u001b[0m\u001b[1;33m\u001b[0m\u001b[0m\n\u001b[0;32m     37\u001b[0m       \u001b[0mmemo\u001b[0m\u001b[1;33m[\u001b[0m\u001b[0mrequest_index\u001b[0m\u001b[1;33m]\u001b[0m\u001b[1;33m[\u001b[0m\u001b[0mcandidate_index\u001b[0m\u001b[1;33m]\u001b[0m\u001b[1;33m[\u001b[0m\u001b[0msalary_left\u001b[0m\u001b[1;33m]\u001b[0m \u001b[1;33m=\u001b[0m \u001b[0mskip_score\u001b[0m\u001b[1;33m\u001b[0m\u001b[0m\n",
        "\u001b[1;32mC:\\Coding\\FanDuel\\src\\analysis\\knapsack.py\u001b[0m in \u001b[0;36mGV\u001b[1;34m(request_index, candidate_index, salary_left)\u001b[0m\n\u001b[0;32m     33\u001b[0m     \u001b[0mc1\u001b[0m \u001b[1;33m=\u001b[0m \u001b[0mcandidates\u001b[0m\u001b[1;33m[\u001b[0m\u001b[0mcandidate_index\u001b[0m\u001b[1;33m]\u001b[0m\u001b[1;33m\u001b[0m\u001b[0m\n\u001b[0;32m     34\u001b[0m     \u001b[0msal1\u001b[0m \u001b[1;33m=\u001b[0m \u001b[0msalaries\u001b[0m\u001b[1;33m[\u001b[0m\u001b[0mcandidate_index\u001b[0m\u001b[1;33m]\u001b[0m\u001b[1;33m\u001b[0m\u001b[0m\n\u001b[1;32m---> 35\u001b[1;33m     \u001b[0mskip_score\u001b[0m \u001b[1;33m=\u001b[0m \u001b[0mGV\u001b[0m\u001b[1;33m(\u001b[0m\u001b[0mrequest_index\u001b[0m\u001b[1;33m,\u001b[0m \u001b[0mcandidate_index\u001b[0m \u001b[1;33m+\u001b[0m \u001b[1;36m1\u001b[0m\u001b[1;33m,\u001b[0m \u001b[0msalary_left\u001b[0m\u001b[1;33m)\u001b[0m\u001b[1;33m\u001b[0m\u001b[0m\n\u001b[0m\u001b[0;32m     36\u001b[0m     \u001b[1;32mif\u001b[0m \u001b[0mc1\u001b[0m\u001b[1;33m.\u001b[0m\u001b[0mposition\u001b[0m \u001b[1;33m!=\u001b[0m \u001b[0mrequest\u001b[0m\u001b[1;33m[\u001b[0m\u001b[0mrequest_index\u001b[0m\u001b[1;33m]\u001b[0m \u001b[1;32mor\u001b[0m \u001b[0msal1\u001b[0m \u001b[1;33m>\u001b[0m \u001b[0msalary_left\u001b[0m\u001b[1;33m:\u001b[0m\u001b[1;33m\u001b[0m\u001b[0m\n\u001b[0;32m     37\u001b[0m       \u001b[0mmemo\u001b[0m\u001b[1;33m[\u001b[0m\u001b[0mrequest_index\u001b[0m\u001b[1;33m]\u001b[0m\u001b[1;33m[\u001b[0m\u001b[0mcandidate_index\u001b[0m\u001b[1;33m]\u001b[0m\u001b[1;33m[\u001b[0m\u001b[0msalary_left\u001b[0m\u001b[1;33m]\u001b[0m \u001b[1;33m=\u001b[0m \u001b[0mskip_score\u001b[0m\u001b[1;33m\u001b[0m\u001b[0m\n",
        "\u001b[1;32mC:\\Coding\\FanDuel\\src\\analysis\\knapsack.py\u001b[0m in \u001b[0;36mGV\u001b[1;34m(request_index, candidate_index, salary_left)\u001b[0m\n\u001b[0;32m     33\u001b[0m     \u001b[0mc1\u001b[0m \u001b[1;33m=\u001b[0m \u001b[0mcandidates\u001b[0m\u001b[1;33m[\u001b[0m\u001b[0mcandidate_index\u001b[0m\u001b[1;33m]\u001b[0m\u001b[1;33m\u001b[0m\u001b[0m\n\u001b[0;32m     34\u001b[0m     \u001b[0msal1\u001b[0m \u001b[1;33m=\u001b[0m \u001b[0msalaries\u001b[0m\u001b[1;33m[\u001b[0m\u001b[0mcandidate_index\u001b[0m\u001b[1;33m]\u001b[0m\u001b[1;33m\u001b[0m\u001b[0m\n\u001b[1;32m---> 35\u001b[1;33m     \u001b[0mskip_score\u001b[0m \u001b[1;33m=\u001b[0m \u001b[0mGV\u001b[0m\u001b[1;33m(\u001b[0m\u001b[0mrequest_index\u001b[0m\u001b[1;33m,\u001b[0m \u001b[0mcandidate_index\u001b[0m \u001b[1;33m+\u001b[0m \u001b[1;36m1\u001b[0m\u001b[1;33m,\u001b[0m \u001b[0msalary_left\u001b[0m\u001b[1;33m)\u001b[0m\u001b[1;33m\u001b[0m\u001b[0m\n\u001b[0m\u001b[0;32m     36\u001b[0m     \u001b[1;32mif\u001b[0m \u001b[0mc1\u001b[0m\u001b[1;33m.\u001b[0m\u001b[0mposition\u001b[0m \u001b[1;33m!=\u001b[0m \u001b[0mrequest\u001b[0m\u001b[1;33m[\u001b[0m\u001b[0mrequest_index\u001b[0m\u001b[1;33m]\u001b[0m \u001b[1;32mor\u001b[0m \u001b[0msal1\u001b[0m \u001b[1;33m>\u001b[0m \u001b[0msalary_left\u001b[0m\u001b[1;33m:\u001b[0m\u001b[1;33m\u001b[0m\u001b[0m\n\u001b[0;32m     37\u001b[0m       \u001b[0mmemo\u001b[0m\u001b[1;33m[\u001b[0m\u001b[0mrequest_index\u001b[0m\u001b[1;33m]\u001b[0m\u001b[1;33m[\u001b[0m\u001b[0mcandidate_index\u001b[0m\u001b[1;33m]\u001b[0m\u001b[1;33m[\u001b[0m\u001b[0msalary_left\u001b[0m\u001b[1;33m]\u001b[0m \u001b[1;33m=\u001b[0m \u001b[0mskip_score\u001b[0m\u001b[1;33m\u001b[0m\u001b[0m\n",
        "\u001b[1;32mC:\\Coding\\FanDuel\\src\\analysis\\knapsack.py\u001b[0m in \u001b[0;36mGV\u001b[1;34m(request_index, candidate_index, salary_left)\u001b[0m\n\u001b[0;32m     33\u001b[0m     \u001b[0mc1\u001b[0m \u001b[1;33m=\u001b[0m \u001b[0mcandidates\u001b[0m\u001b[1;33m[\u001b[0m\u001b[0mcandidate_index\u001b[0m\u001b[1;33m]\u001b[0m\u001b[1;33m\u001b[0m\u001b[0m\n\u001b[0;32m     34\u001b[0m     \u001b[0msal1\u001b[0m \u001b[1;33m=\u001b[0m \u001b[0msalaries\u001b[0m\u001b[1;33m[\u001b[0m\u001b[0mcandidate_index\u001b[0m\u001b[1;33m]\u001b[0m\u001b[1;33m\u001b[0m\u001b[0m\n\u001b[1;32m---> 35\u001b[1;33m     \u001b[0mskip_score\u001b[0m \u001b[1;33m=\u001b[0m \u001b[0mGV\u001b[0m\u001b[1;33m(\u001b[0m\u001b[0mrequest_index\u001b[0m\u001b[1;33m,\u001b[0m \u001b[0mcandidate_index\u001b[0m \u001b[1;33m+\u001b[0m \u001b[1;36m1\u001b[0m\u001b[1;33m,\u001b[0m \u001b[0msalary_left\u001b[0m\u001b[1;33m)\u001b[0m\u001b[1;33m\u001b[0m\u001b[0m\n\u001b[0m\u001b[0;32m     36\u001b[0m     \u001b[1;32mif\u001b[0m \u001b[0mc1\u001b[0m\u001b[1;33m.\u001b[0m\u001b[0mposition\u001b[0m \u001b[1;33m!=\u001b[0m \u001b[0mrequest\u001b[0m\u001b[1;33m[\u001b[0m\u001b[0mrequest_index\u001b[0m\u001b[1;33m]\u001b[0m \u001b[1;32mor\u001b[0m \u001b[0msal1\u001b[0m \u001b[1;33m>\u001b[0m \u001b[0msalary_left\u001b[0m\u001b[1;33m:\u001b[0m\u001b[1;33m\u001b[0m\u001b[0m\n\u001b[0;32m     37\u001b[0m       \u001b[0mmemo\u001b[0m\u001b[1;33m[\u001b[0m\u001b[0mrequest_index\u001b[0m\u001b[1;33m]\u001b[0m\u001b[1;33m[\u001b[0m\u001b[0mcandidate_index\u001b[0m\u001b[1;33m]\u001b[0m\u001b[1;33m[\u001b[0m\u001b[0msalary_left\u001b[0m\u001b[1;33m]\u001b[0m \u001b[1;33m=\u001b[0m \u001b[0mskip_score\u001b[0m\u001b[1;33m\u001b[0m\u001b[0m\n",
        "\u001b[1;32mC:\\Coding\\FanDuel\\src\\analysis\\knapsack.py\u001b[0m in \u001b[0;36mGV\u001b[1;34m(request_index, candidate_index, salary_left)\u001b[0m\n\u001b[0;32m     33\u001b[0m     \u001b[0mc1\u001b[0m \u001b[1;33m=\u001b[0m \u001b[0mcandidates\u001b[0m\u001b[1;33m[\u001b[0m\u001b[0mcandidate_index\u001b[0m\u001b[1;33m]\u001b[0m\u001b[1;33m\u001b[0m\u001b[0m\n\u001b[0;32m     34\u001b[0m     \u001b[0msal1\u001b[0m \u001b[1;33m=\u001b[0m \u001b[0msalaries\u001b[0m\u001b[1;33m[\u001b[0m\u001b[0mcandidate_index\u001b[0m\u001b[1;33m]\u001b[0m\u001b[1;33m\u001b[0m\u001b[0m\n\u001b[1;32m---> 35\u001b[1;33m     \u001b[0mskip_score\u001b[0m \u001b[1;33m=\u001b[0m \u001b[0mGV\u001b[0m\u001b[1;33m(\u001b[0m\u001b[0mrequest_index\u001b[0m\u001b[1;33m,\u001b[0m \u001b[0mcandidate_index\u001b[0m \u001b[1;33m+\u001b[0m \u001b[1;36m1\u001b[0m\u001b[1;33m,\u001b[0m \u001b[0msalary_left\u001b[0m\u001b[1;33m)\u001b[0m\u001b[1;33m\u001b[0m\u001b[0m\n\u001b[0m\u001b[0;32m     36\u001b[0m     \u001b[1;32mif\u001b[0m \u001b[0mc1\u001b[0m\u001b[1;33m.\u001b[0m\u001b[0mposition\u001b[0m \u001b[1;33m!=\u001b[0m \u001b[0mrequest\u001b[0m\u001b[1;33m[\u001b[0m\u001b[0mrequest_index\u001b[0m\u001b[1;33m]\u001b[0m \u001b[1;32mor\u001b[0m \u001b[0msal1\u001b[0m \u001b[1;33m>\u001b[0m \u001b[0msalary_left\u001b[0m\u001b[1;33m:\u001b[0m\u001b[1;33m\u001b[0m\u001b[0m\n\u001b[0;32m     37\u001b[0m       \u001b[0mmemo\u001b[0m\u001b[1;33m[\u001b[0m\u001b[0mrequest_index\u001b[0m\u001b[1;33m]\u001b[0m\u001b[1;33m[\u001b[0m\u001b[0mcandidate_index\u001b[0m\u001b[1;33m]\u001b[0m\u001b[1;33m[\u001b[0m\u001b[0msalary_left\u001b[0m\u001b[1;33m]\u001b[0m \u001b[1;33m=\u001b[0m \u001b[0mskip_score\u001b[0m\u001b[1;33m\u001b[0m\u001b[0m\n",
        "\u001b[1;32mC:\\Coding\\FanDuel\\src\\analysis\\knapsack.py\u001b[0m in \u001b[0;36mGV\u001b[1;34m(request_index, candidate_index, salary_left)\u001b[0m\n\u001b[0;32m     33\u001b[0m     \u001b[0mc1\u001b[0m \u001b[1;33m=\u001b[0m \u001b[0mcandidates\u001b[0m\u001b[1;33m[\u001b[0m\u001b[0mcandidate_index\u001b[0m\u001b[1;33m]\u001b[0m\u001b[1;33m\u001b[0m\u001b[0m\n\u001b[0;32m     34\u001b[0m     \u001b[0msal1\u001b[0m \u001b[1;33m=\u001b[0m \u001b[0msalaries\u001b[0m\u001b[1;33m[\u001b[0m\u001b[0mcandidate_index\u001b[0m\u001b[1;33m]\u001b[0m\u001b[1;33m\u001b[0m\u001b[0m\n\u001b[1;32m---> 35\u001b[1;33m     \u001b[0mskip_score\u001b[0m \u001b[1;33m=\u001b[0m \u001b[0mGV\u001b[0m\u001b[1;33m(\u001b[0m\u001b[0mrequest_index\u001b[0m\u001b[1;33m,\u001b[0m \u001b[0mcandidate_index\u001b[0m \u001b[1;33m+\u001b[0m \u001b[1;36m1\u001b[0m\u001b[1;33m,\u001b[0m \u001b[0msalary_left\u001b[0m\u001b[1;33m)\u001b[0m\u001b[1;33m\u001b[0m\u001b[0m\n\u001b[0m\u001b[0;32m     36\u001b[0m     \u001b[1;32mif\u001b[0m \u001b[0mc1\u001b[0m\u001b[1;33m.\u001b[0m\u001b[0mposition\u001b[0m \u001b[1;33m!=\u001b[0m \u001b[0mrequest\u001b[0m\u001b[1;33m[\u001b[0m\u001b[0mrequest_index\u001b[0m\u001b[1;33m]\u001b[0m \u001b[1;32mor\u001b[0m \u001b[0msal1\u001b[0m \u001b[1;33m>\u001b[0m \u001b[0msalary_left\u001b[0m\u001b[1;33m:\u001b[0m\u001b[1;33m\u001b[0m\u001b[0m\n\u001b[0;32m     37\u001b[0m       \u001b[0mmemo\u001b[0m\u001b[1;33m[\u001b[0m\u001b[0mrequest_index\u001b[0m\u001b[1;33m]\u001b[0m\u001b[1;33m[\u001b[0m\u001b[0mcandidate_index\u001b[0m\u001b[1;33m]\u001b[0m\u001b[1;33m[\u001b[0m\u001b[0msalary_left\u001b[0m\u001b[1;33m]\u001b[0m \u001b[1;33m=\u001b[0m \u001b[0mskip_score\u001b[0m\u001b[1;33m\u001b[0m\u001b[0m\n",
        "\u001b[1;32mC:\\Coding\\FanDuel\\src\\analysis\\knapsack.py\u001b[0m in \u001b[0;36mGV\u001b[1;34m(request_index, candidate_index, salary_left)\u001b[0m\n\u001b[0;32m     33\u001b[0m     \u001b[0mc1\u001b[0m \u001b[1;33m=\u001b[0m \u001b[0mcandidates\u001b[0m\u001b[1;33m[\u001b[0m\u001b[0mcandidate_index\u001b[0m\u001b[1;33m]\u001b[0m\u001b[1;33m\u001b[0m\u001b[0m\n\u001b[0;32m     34\u001b[0m     \u001b[0msal1\u001b[0m \u001b[1;33m=\u001b[0m \u001b[0msalaries\u001b[0m\u001b[1;33m[\u001b[0m\u001b[0mcandidate_index\u001b[0m\u001b[1;33m]\u001b[0m\u001b[1;33m\u001b[0m\u001b[0m\n\u001b[1;32m---> 35\u001b[1;33m     \u001b[0mskip_score\u001b[0m \u001b[1;33m=\u001b[0m \u001b[0mGV\u001b[0m\u001b[1;33m(\u001b[0m\u001b[0mrequest_index\u001b[0m\u001b[1;33m,\u001b[0m \u001b[0mcandidate_index\u001b[0m \u001b[1;33m+\u001b[0m \u001b[1;36m1\u001b[0m\u001b[1;33m,\u001b[0m \u001b[0msalary_left\u001b[0m\u001b[1;33m)\u001b[0m\u001b[1;33m\u001b[0m\u001b[0m\n\u001b[0m\u001b[0;32m     36\u001b[0m     \u001b[1;32mif\u001b[0m \u001b[0mc1\u001b[0m\u001b[1;33m.\u001b[0m\u001b[0mposition\u001b[0m \u001b[1;33m!=\u001b[0m \u001b[0mrequest\u001b[0m\u001b[1;33m[\u001b[0m\u001b[0mrequest_index\u001b[0m\u001b[1;33m]\u001b[0m \u001b[1;32mor\u001b[0m \u001b[0msal1\u001b[0m \u001b[1;33m>\u001b[0m \u001b[0msalary_left\u001b[0m\u001b[1;33m:\u001b[0m\u001b[1;33m\u001b[0m\u001b[0m\n\u001b[0;32m     37\u001b[0m       \u001b[0mmemo\u001b[0m\u001b[1;33m[\u001b[0m\u001b[0mrequest_index\u001b[0m\u001b[1;33m]\u001b[0m\u001b[1;33m[\u001b[0m\u001b[0mcandidate_index\u001b[0m\u001b[1;33m]\u001b[0m\u001b[1;33m[\u001b[0m\u001b[0msalary_left\u001b[0m\u001b[1;33m]\u001b[0m \u001b[1;33m=\u001b[0m \u001b[0mskip_score\u001b[0m\u001b[1;33m\u001b[0m\u001b[0m\n",
        "\u001b[1;32mC:\\Coding\\FanDuel\\src\\analysis\\knapsack.py\u001b[0m in \u001b[0;36mGV\u001b[1;34m(request_index, candidate_index, salary_left)\u001b[0m\n\u001b[0;32m     33\u001b[0m     \u001b[0mc1\u001b[0m \u001b[1;33m=\u001b[0m \u001b[0mcandidates\u001b[0m\u001b[1;33m[\u001b[0m\u001b[0mcandidate_index\u001b[0m\u001b[1;33m]\u001b[0m\u001b[1;33m\u001b[0m\u001b[0m\n\u001b[0;32m     34\u001b[0m     \u001b[0msal1\u001b[0m \u001b[1;33m=\u001b[0m \u001b[0msalaries\u001b[0m\u001b[1;33m[\u001b[0m\u001b[0mcandidate_index\u001b[0m\u001b[1;33m]\u001b[0m\u001b[1;33m\u001b[0m\u001b[0m\n\u001b[1;32m---> 35\u001b[1;33m     \u001b[0mskip_score\u001b[0m \u001b[1;33m=\u001b[0m \u001b[0mGV\u001b[0m\u001b[1;33m(\u001b[0m\u001b[0mrequest_index\u001b[0m\u001b[1;33m,\u001b[0m \u001b[0mcandidate_index\u001b[0m \u001b[1;33m+\u001b[0m \u001b[1;36m1\u001b[0m\u001b[1;33m,\u001b[0m \u001b[0msalary_left\u001b[0m\u001b[1;33m)\u001b[0m\u001b[1;33m\u001b[0m\u001b[0m\n\u001b[0m\u001b[0;32m     36\u001b[0m     \u001b[1;32mif\u001b[0m \u001b[0mc1\u001b[0m\u001b[1;33m.\u001b[0m\u001b[0mposition\u001b[0m \u001b[1;33m!=\u001b[0m \u001b[0mrequest\u001b[0m\u001b[1;33m[\u001b[0m\u001b[0mrequest_index\u001b[0m\u001b[1;33m]\u001b[0m \u001b[1;32mor\u001b[0m \u001b[0msal1\u001b[0m \u001b[1;33m>\u001b[0m \u001b[0msalary_left\u001b[0m\u001b[1;33m:\u001b[0m\u001b[1;33m\u001b[0m\u001b[0m\n\u001b[0;32m     37\u001b[0m       \u001b[0mmemo\u001b[0m\u001b[1;33m[\u001b[0m\u001b[0mrequest_index\u001b[0m\u001b[1;33m]\u001b[0m\u001b[1;33m[\u001b[0m\u001b[0mcandidate_index\u001b[0m\u001b[1;33m]\u001b[0m\u001b[1;33m[\u001b[0m\u001b[0msalary_left\u001b[0m\u001b[1;33m]\u001b[0m \u001b[1;33m=\u001b[0m \u001b[0mskip_score\u001b[0m\u001b[1;33m\u001b[0m\u001b[0m\n",
        "\u001b[1;32mC:\\Coding\\FanDuel\\src\\analysis\\knapsack.py\u001b[0m in \u001b[0;36mGV\u001b[1;34m(request_index, candidate_index, salary_left)\u001b[0m\n\u001b[0;32m     33\u001b[0m     \u001b[0mc1\u001b[0m \u001b[1;33m=\u001b[0m \u001b[0mcandidates\u001b[0m\u001b[1;33m[\u001b[0m\u001b[0mcandidate_index\u001b[0m\u001b[1;33m]\u001b[0m\u001b[1;33m\u001b[0m\u001b[0m\n\u001b[0;32m     34\u001b[0m     \u001b[0msal1\u001b[0m \u001b[1;33m=\u001b[0m \u001b[0msalaries\u001b[0m\u001b[1;33m[\u001b[0m\u001b[0mcandidate_index\u001b[0m\u001b[1;33m]\u001b[0m\u001b[1;33m\u001b[0m\u001b[0m\n\u001b[1;32m---> 35\u001b[1;33m     \u001b[0mskip_score\u001b[0m \u001b[1;33m=\u001b[0m \u001b[0mGV\u001b[0m\u001b[1;33m(\u001b[0m\u001b[0mrequest_index\u001b[0m\u001b[1;33m,\u001b[0m \u001b[0mcandidate_index\u001b[0m \u001b[1;33m+\u001b[0m \u001b[1;36m1\u001b[0m\u001b[1;33m,\u001b[0m \u001b[0msalary_left\u001b[0m\u001b[1;33m)\u001b[0m\u001b[1;33m\u001b[0m\u001b[0m\n\u001b[0m\u001b[0;32m     36\u001b[0m     \u001b[1;32mif\u001b[0m \u001b[0mc1\u001b[0m\u001b[1;33m.\u001b[0m\u001b[0mposition\u001b[0m \u001b[1;33m!=\u001b[0m \u001b[0mrequest\u001b[0m\u001b[1;33m[\u001b[0m\u001b[0mrequest_index\u001b[0m\u001b[1;33m]\u001b[0m \u001b[1;32mor\u001b[0m \u001b[0msal1\u001b[0m \u001b[1;33m>\u001b[0m \u001b[0msalary_left\u001b[0m\u001b[1;33m:\u001b[0m\u001b[1;33m\u001b[0m\u001b[0m\n\u001b[0;32m     37\u001b[0m       \u001b[0mmemo\u001b[0m\u001b[1;33m[\u001b[0m\u001b[0mrequest_index\u001b[0m\u001b[1;33m]\u001b[0m\u001b[1;33m[\u001b[0m\u001b[0mcandidate_index\u001b[0m\u001b[1;33m]\u001b[0m\u001b[1;33m[\u001b[0m\u001b[0msalary_left\u001b[0m\u001b[1;33m]\u001b[0m \u001b[1;33m=\u001b[0m \u001b[0mskip_score\u001b[0m\u001b[1;33m\u001b[0m\u001b[0m\n",
        "\u001b[1;32mC:\\Coding\\FanDuel\\src\\analysis\\knapsack.py\u001b[0m in \u001b[0;36mGV\u001b[1;34m(request_index, candidate_index, salary_left)\u001b[0m\n\u001b[0;32m     33\u001b[0m     \u001b[0mc1\u001b[0m \u001b[1;33m=\u001b[0m \u001b[0mcandidates\u001b[0m\u001b[1;33m[\u001b[0m\u001b[0mcandidate_index\u001b[0m\u001b[1;33m]\u001b[0m\u001b[1;33m\u001b[0m\u001b[0m\n\u001b[0;32m     34\u001b[0m     \u001b[0msal1\u001b[0m \u001b[1;33m=\u001b[0m \u001b[0msalaries\u001b[0m\u001b[1;33m[\u001b[0m\u001b[0mcandidate_index\u001b[0m\u001b[1;33m]\u001b[0m\u001b[1;33m\u001b[0m\u001b[0m\n\u001b[1;32m---> 35\u001b[1;33m     \u001b[0mskip_score\u001b[0m \u001b[1;33m=\u001b[0m \u001b[0mGV\u001b[0m\u001b[1;33m(\u001b[0m\u001b[0mrequest_index\u001b[0m\u001b[1;33m,\u001b[0m \u001b[0mcandidate_index\u001b[0m \u001b[1;33m+\u001b[0m \u001b[1;36m1\u001b[0m\u001b[1;33m,\u001b[0m \u001b[0msalary_left\u001b[0m\u001b[1;33m)\u001b[0m\u001b[1;33m\u001b[0m\u001b[0m\n\u001b[0m\u001b[0;32m     36\u001b[0m     \u001b[1;32mif\u001b[0m \u001b[0mc1\u001b[0m\u001b[1;33m.\u001b[0m\u001b[0mposition\u001b[0m \u001b[1;33m!=\u001b[0m \u001b[0mrequest\u001b[0m\u001b[1;33m[\u001b[0m\u001b[0mrequest_index\u001b[0m\u001b[1;33m]\u001b[0m \u001b[1;32mor\u001b[0m \u001b[0msal1\u001b[0m \u001b[1;33m>\u001b[0m \u001b[0msalary_left\u001b[0m\u001b[1;33m:\u001b[0m\u001b[1;33m\u001b[0m\u001b[0m\n\u001b[0;32m     37\u001b[0m       \u001b[0mmemo\u001b[0m\u001b[1;33m[\u001b[0m\u001b[0mrequest_index\u001b[0m\u001b[1;33m]\u001b[0m\u001b[1;33m[\u001b[0m\u001b[0mcandidate_index\u001b[0m\u001b[1;33m]\u001b[0m\u001b[1;33m[\u001b[0m\u001b[0msalary_left\u001b[0m\u001b[1;33m]\u001b[0m \u001b[1;33m=\u001b[0m \u001b[0mskip_score\u001b[0m\u001b[1;33m\u001b[0m\u001b[0m\n",
        "\u001b[1;32mC:\\Coding\\FanDuel\\src\\analysis\\knapsack.py\u001b[0m in \u001b[0;36mGV\u001b[1;34m(request_index, candidate_index, salary_left)\u001b[0m\n\u001b[0;32m     33\u001b[0m     \u001b[0mc1\u001b[0m \u001b[1;33m=\u001b[0m \u001b[0mcandidates\u001b[0m\u001b[1;33m[\u001b[0m\u001b[0mcandidate_index\u001b[0m\u001b[1;33m]\u001b[0m\u001b[1;33m\u001b[0m\u001b[0m\n\u001b[0;32m     34\u001b[0m     \u001b[0msal1\u001b[0m \u001b[1;33m=\u001b[0m \u001b[0msalaries\u001b[0m\u001b[1;33m[\u001b[0m\u001b[0mcandidate_index\u001b[0m\u001b[1;33m]\u001b[0m\u001b[1;33m\u001b[0m\u001b[0m\n\u001b[1;32m---> 35\u001b[1;33m     \u001b[0mskip_score\u001b[0m \u001b[1;33m=\u001b[0m \u001b[0mGV\u001b[0m\u001b[1;33m(\u001b[0m\u001b[0mrequest_index\u001b[0m\u001b[1;33m,\u001b[0m \u001b[0mcandidate_index\u001b[0m \u001b[1;33m+\u001b[0m \u001b[1;36m1\u001b[0m\u001b[1;33m,\u001b[0m \u001b[0msalary_left\u001b[0m\u001b[1;33m)\u001b[0m\u001b[1;33m\u001b[0m\u001b[0m\n\u001b[0m\u001b[0;32m     36\u001b[0m     \u001b[1;32mif\u001b[0m \u001b[0mc1\u001b[0m\u001b[1;33m.\u001b[0m\u001b[0mposition\u001b[0m \u001b[1;33m!=\u001b[0m \u001b[0mrequest\u001b[0m\u001b[1;33m[\u001b[0m\u001b[0mrequest_index\u001b[0m\u001b[1;33m]\u001b[0m \u001b[1;32mor\u001b[0m \u001b[0msal1\u001b[0m \u001b[1;33m>\u001b[0m \u001b[0msalary_left\u001b[0m\u001b[1;33m:\u001b[0m\u001b[1;33m\u001b[0m\u001b[0m\n\u001b[0;32m     37\u001b[0m       \u001b[0mmemo\u001b[0m\u001b[1;33m[\u001b[0m\u001b[0mrequest_index\u001b[0m\u001b[1;33m]\u001b[0m\u001b[1;33m[\u001b[0m\u001b[0mcandidate_index\u001b[0m\u001b[1;33m]\u001b[0m\u001b[1;33m[\u001b[0m\u001b[0msalary_left\u001b[0m\u001b[1;33m]\u001b[0m \u001b[1;33m=\u001b[0m \u001b[0mskip_score\u001b[0m\u001b[1;33m\u001b[0m\u001b[0m\n",
        "\u001b[1;32mC:\\Coding\\FanDuel\\src\\analysis\\knapsack.py\u001b[0m in \u001b[0;36mGV\u001b[1;34m(request_index, candidate_index, salary_left)\u001b[0m\n\u001b[0;32m     33\u001b[0m     \u001b[0mc1\u001b[0m \u001b[1;33m=\u001b[0m \u001b[0mcandidates\u001b[0m\u001b[1;33m[\u001b[0m\u001b[0mcandidate_index\u001b[0m\u001b[1;33m]\u001b[0m\u001b[1;33m\u001b[0m\u001b[0m\n\u001b[0;32m     34\u001b[0m     \u001b[0msal1\u001b[0m \u001b[1;33m=\u001b[0m \u001b[0msalaries\u001b[0m\u001b[1;33m[\u001b[0m\u001b[0mcandidate_index\u001b[0m\u001b[1;33m]\u001b[0m\u001b[1;33m\u001b[0m\u001b[0m\n\u001b[1;32m---> 35\u001b[1;33m     \u001b[0mskip_score\u001b[0m \u001b[1;33m=\u001b[0m \u001b[0mGV\u001b[0m\u001b[1;33m(\u001b[0m\u001b[0mrequest_index\u001b[0m\u001b[1;33m,\u001b[0m \u001b[0mcandidate_index\u001b[0m \u001b[1;33m+\u001b[0m \u001b[1;36m1\u001b[0m\u001b[1;33m,\u001b[0m \u001b[0msalary_left\u001b[0m\u001b[1;33m)\u001b[0m\u001b[1;33m\u001b[0m\u001b[0m\n\u001b[0m\u001b[0;32m     36\u001b[0m     \u001b[1;32mif\u001b[0m \u001b[0mc1\u001b[0m\u001b[1;33m.\u001b[0m\u001b[0mposition\u001b[0m \u001b[1;33m!=\u001b[0m \u001b[0mrequest\u001b[0m\u001b[1;33m[\u001b[0m\u001b[0mrequest_index\u001b[0m\u001b[1;33m]\u001b[0m \u001b[1;32mor\u001b[0m \u001b[0msal1\u001b[0m \u001b[1;33m>\u001b[0m \u001b[0msalary_left\u001b[0m\u001b[1;33m:\u001b[0m\u001b[1;33m\u001b[0m\u001b[0m\n\u001b[0;32m     37\u001b[0m       \u001b[0mmemo\u001b[0m\u001b[1;33m[\u001b[0m\u001b[0mrequest_index\u001b[0m\u001b[1;33m]\u001b[0m\u001b[1;33m[\u001b[0m\u001b[0mcandidate_index\u001b[0m\u001b[1;33m]\u001b[0m\u001b[1;33m[\u001b[0m\u001b[0msalary_left\u001b[0m\u001b[1;33m]\u001b[0m \u001b[1;33m=\u001b[0m \u001b[0mskip_score\u001b[0m\u001b[1;33m\u001b[0m\u001b[0m\n",
        "\u001b[1;32mC:\\Coding\\FanDuel\\src\\analysis\\knapsack.py\u001b[0m in \u001b[0;36mGV\u001b[1;34m(request_index, candidate_index, salary_left)\u001b[0m\n\u001b[0;32m     33\u001b[0m     \u001b[0mc1\u001b[0m \u001b[1;33m=\u001b[0m \u001b[0mcandidates\u001b[0m\u001b[1;33m[\u001b[0m\u001b[0mcandidate_index\u001b[0m\u001b[1;33m]\u001b[0m\u001b[1;33m\u001b[0m\u001b[0m\n\u001b[0;32m     34\u001b[0m     \u001b[0msal1\u001b[0m \u001b[1;33m=\u001b[0m \u001b[0msalaries\u001b[0m\u001b[1;33m[\u001b[0m\u001b[0mcandidate_index\u001b[0m\u001b[1;33m]\u001b[0m\u001b[1;33m\u001b[0m\u001b[0m\n\u001b[1;32m---> 35\u001b[1;33m     \u001b[0mskip_score\u001b[0m \u001b[1;33m=\u001b[0m \u001b[0mGV\u001b[0m\u001b[1;33m(\u001b[0m\u001b[0mrequest_index\u001b[0m\u001b[1;33m,\u001b[0m \u001b[0mcandidate_index\u001b[0m \u001b[1;33m+\u001b[0m \u001b[1;36m1\u001b[0m\u001b[1;33m,\u001b[0m \u001b[0msalary_left\u001b[0m\u001b[1;33m)\u001b[0m\u001b[1;33m\u001b[0m\u001b[0m\n\u001b[0m\u001b[0;32m     36\u001b[0m     \u001b[1;32mif\u001b[0m \u001b[0mc1\u001b[0m\u001b[1;33m.\u001b[0m\u001b[0mposition\u001b[0m \u001b[1;33m!=\u001b[0m \u001b[0mrequest\u001b[0m\u001b[1;33m[\u001b[0m\u001b[0mrequest_index\u001b[0m\u001b[1;33m]\u001b[0m \u001b[1;32mor\u001b[0m \u001b[0msal1\u001b[0m \u001b[1;33m>\u001b[0m \u001b[0msalary_left\u001b[0m\u001b[1;33m:\u001b[0m\u001b[1;33m\u001b[0m\u001b[0m\n\u001b[0;32m     37\u001b[0m       \u001b[0mmemo\u001b[0m\u001b[1;33m[\u001b[0m\u001b[0mrequest_index\u001b[0m\u001b[1;33m]\u001b[0m\u001b[1;33m[\u001b[0m\u001b[0mcandidate_index\u001b[0m\u001b[1;33m]\u001b[0m\u001b[1;33m[\u001b[0m\u001b[0msalary_left\u001b[0m\u001b[1;33m]\u001b[0m \u001b[1;33m=\u001b[0m \u001b[0mskip_score\u001b[0m\u001b[1;33m\u001b[0m\u001b[0m\n",
        "\u001b[1;32mC:\\Coding\\FanDuel\\src\\analysis\\knapsack.py\u001b[0m in \u001b[0;36mGV\u001b[1;34m(request_index, candidate_index, salary_left)\u001b[0m\n\u001b[0;32m     33\u001b[0m     \u001b[0mc1\u001b[0m \u001b[1;33m=\u001b[0m \u001b[0mcandidates\u001b[0m\u001b[1;33m[\u001b[0m\u001b[0mcandidate_index\u001b[0m\u001b[1;33m]\u001b[0m\u001b[1;33m\u001b[0m\u001b[0m\n\u001b[0;32m     34\u001b[0m     \u001b[0msal1\u001b[0m \u001b[1;33m=\u001b[0m \u001b[0msalaries\u001b[0m\u001b[1;33m[\u001b[0m\u001b[0mcandidate_index\u001b[0m\u001b[1;33m]\u001b[0m\u001b[1;33m\u001b[0m\u001b[0m\n\u001b[1;32m---> 35\u001b[1;33m     \u001b[0mskip_score\u001b[0m \u001b[1;33m=\u001b[0m \u001b[0mGV\u001b[0m\u001b[1;33m(\u001b[0m\u001b[0mrequest_index\u001b[0m\u001b[1;33m,\u001b[0m \u001b[0mcandidate_index\u001b[0m \u001b[1;33m+\u001b[0m \u001b[1;36m1\u001b[0m\u001b[1;33m,\u001b[0m \u001b[0msalary_left\u001b[0m\u001b[1;33m)\u001b[0m\u001b[1;33m\u001b[0m\u001b[0m\n\u001b[0m\u001b[0;32m     36\u001b[0m     \u001b[1;32mif\u001b[0m \u001b[0mc1\u001b[0m\u001b[1;33m.\u001b[0m\u001b[0mposition\u001b[0m \u001b[1;33m!=\u001b[0m \u001b[0mrequest\u001b[0m\u001b[1;33m[\u001b[0m\u001b[0mrequest_index\u001b[0m\u001b[1;33m]\u001b[0m \u001b[1;32mor\u001b[0m \u001b[0msal1\u001b[0m \u001b[1;33m>\u001b[0m \u001b[0msalary_left\u001b[0m\u001b[1;33m:\u001b[0m\u001b[1;33m\u001b[0m\u001b[0m\n\u001b[0;32m     37\u001b[0m       \u001b[0mmemo\u001b[0m\u001b[1;33m[\u001b[0m\u001b[0mrequest_index\u001b[0m\u001b[1;33m]\u001b[0m\u001b[1;33m[\u001b[0m\u001b[0mcandidate_index\u001b[0m\u001b[1;33m]\u001b[0m\u001b[1;33m[\u001b[0m\u001b[0msalary_left\u001b[0m\u001b[1;33m]\u001b[0m \u001b[1;33m=\u001b[0m \u001b[0mskip_score\u001b[0m\u001b[1;33m\u001b[0m\u001b[0m\n",
        "\u001b[1;32mC:\\Coding\\FanDuel\\src\\analysis\\knapsack.py\u001b[0m in \u001b[0;36mGV\u001b[1;34m(request_index, candidate_index, salary_left)\u001b[0m\n\u001b[0;32m     33\u001b[0m     \u001b[0mc1\u001b[0m \u001b[1;33m=\u001b[0m \u001b[0mcandidates\u001b[0m\u001b[1;33m[\u001b[0m\u001b[0mcandidate_index\u001b[0m\u001b[1;33m]\u001b[0m\u001b[1;33m\u001b[0m\u001b[0m\n\u001b[0;32m     34\u001b[0m     \u001b[0msal1\u001b[0m \u001b[1;33m=\u001b[0m \u001b[0msalaries\u001b[0m\u001b[1;33m[\u001b[0m\u001b[0mcandidate_index\u001b[0m\u001b[1;33m]\u001b[0m\u001b[1;33m\u001b[0m\u001b[0m\n\u001b[1;32m---> 35\u001b[1;33m     \u001b[0mskip_score\u001b[0m \u001b[1;33m=\u001b[0m \u001b[0mGV\u001b[0m\u001b[1;33m(\u001b[0m\u001b[0mrequest_index\u001b[0m\u001b[1;33m,\u001b[0m \u001b[0mcandidate_index\u001b[0m \u001b[1;33m+\u001b[0m \u001b[1;36m1\u001b[0m\u001b[1;33m,\u001b[0m \u001b[0msalary_left\u001b[0m\u001b[1;33m)\u001b[0m\u001b[1;33m\u001b[0m\u001b[0m\n\u001b[0m\u001b[0;32m     36\u001b[0m     \u001b[1;32mif\u001b[0m \u001b[0mc1\u001b[0m\u001b[1;33m.\u001b[0m\u001b[0mposition\u001b[0m \u001b[1;33m!=\u001b[0m \u001b[0mrequest\u001b[0m\u001b[1;33m[\u001b[0m\u001b[0mrequest_index\u001b[0m\u001b[1;33m]\u001b[0m \u001b[1;32mor\u001b[0m \u001b[0msal1\u001b[0m \u001b[1;33m>\u001b[0m \u001b[0msalary_left\u001b[0m\u001b[1;33m:\u001b[0m\u001b[1;33m\u001b[0m\u001b[0m\n\u001b[0;32m     37\u001b[0m       \u001b[0mmemo\u001b[0m\u001b[1;33m[\u001b[0m\u001b[0mrequest_index\u001b[0m\u001b[1;33m]\u001b[0m\u001b[1;33m[\u001b[0m\u001b[0mcandidate_index\u001b[0m\u001b[1;33m]\u001b[0m\u001b[1;33m[\u001b[0m\u001b[0msalary_left\u001b[0m\u001b[1;33m]\u001b[0m \u001b[1;33m=\u001b[0m \u001b[0mskip_score\u001b[0m\u001b[1;33m\u001b[0m\u001b[0m\n",
        "\u001b[1;32mC:\\Coding\\FanDuel\\src\\analysis\\knapsack.py\u001b[0m in \u001b[0;36mGV\u001b[1;34m(request_index, candidate_index, salary_left)\u001b[0m\n\u001b[0;32m     33\u001b[0m     \u001b[0mc1\u001b[0m \u001b[1;33m=\u001b[0m \u001b[0mcandidates\u001b[0m\u001b[1;33m[\u001b[0m\u001b[0mcandidate_index\u001b[0m\u001b[1;33m]\u001b[0m\u001b[1;33m\u001b[0m\u001b[0m\n\u001b[0;32m     34\u001b[0m     \u001b[0msal1\u001b[0m \u001b[1;33m=\u001b[0m \u001b[0msalaries\u001b[0m\u001b[1;33m[\u001b[0m\u001b[0mcandidate_index\u001b[0m\u001b[1;33m]\u001b[0m\u001b[1;33m\u001b[0m\u001b[0m\n\u001b[1;32m---> 35\u001b[1;33m     \u001b[0mskip_score\u001b[0m \u001b[1;33m=\u001b[0m \u001b[0mGV\u001b[0m\u001b[1;33m(\u001b[0m\u001b[0mrequest_index\u001b[0m\u001b[1;33m,\u001b[0m \u001b[0mcandidate_index\u001b[0m \u001b[1;33m+\u001b[0m \u001b[1;36m1\u001b[0m\u001b[1;33m,\u001b[0m \u001b[0msalary_left\u001b[0m\u001b[1;33m)\u001b[0m\u001b[1;33m\u001b[0m\u001b[0m\n\u001b[0m\u001b[0;32m     36\u001b[0m     \u001b[1;32mif\u001b[0m \u001b[0mc1\u001b[0m\u001b[1;33m.\u001b[0m\u001b[0mposition\u001b[0m \u001b[1;33m!=\u001b[0m \u001b[0mrequest\u001b[0m\u001b[1;33m[\u001b[0m\u001b[0mrequest_index\u001b[0m\u001b[1;33m]\u001b[0m \u001b[1;32mor\u001b[0m \u001b[0msal1\u001b[0m \u001b[1;33m>\u001b[0m \u001b[0msalary_left\u001b[0m\u001b[1;33m:\u001b[0m\u001b[1;33m\u001b[0m\u001b[0m\n\u001b[0;32m     37\u001b[0m       \u001b[0mmemo\u001b[0m\u001b[1;33m[\u001b[0m\u001b[0mrequest_index\u001b[0m\u001b[1;33m]\u001b[0m\u001b[1;33m[\u001b[0m\u001b[0mcandidate_index\u001b[0m\u001b[1;33m]\u001b[0m\u001b[1;33m[\u001b[0m\u001b[0msalary_left\u001b[0m\u001b[1;33m]\u001b[0m \u001b[1;33m=\u001b[0m \u001b[0mskip_score\u001b[0m\u001b[1;33m\u001b[0m\u001b[0m\n",
        "\u001b[1;32mC:\\Coding\\FanDuel\\src\\analysis\\knapsack.py\u001b[0m in \u001b[0;36mGV\u001b[1;34m(request_index, candidate_index, salary_left)\u001b[0m\n\u001b[0;32m     33\u001b[0m     \u001b[0mc1\u001b[0m \u001b[1;33m=\u001b[0m \u001b[0mcandidates\u001b[0m\u001b[1;33m[\u001b[0m\u001b[0mcandidate_index\u001b[0m\u001b[1;33m]\u001b[0m\u001b[1;33m\u001b[0m\u001b[0m\n\u001b[0;32m     34\u001b[0m     \u001b[0msal1\u001b[0m \u001b[1;33m=\u001b[0m \u001b[0msalaries\u001b[0m\u001b[1;33m[\u001b[0m\u001b[0mcandidate_index\u001b[0m\u001b[1;33m]\u001b[0m\u001b[1;33m\u001b[0m\u001b[0m\n\u001b[1;32m---> 35\u001b[1;33m     \u001b[0mskip_score\u001b[0m \u001b[1;33m=\u001b[0m \u001b[0mGV\u001b[0m\u001b[1;33m(\u001b[0m\u001b[0mrequest_index\u001b[0m\u001b[1;33m,\u001b[0m \u001b[0mcandidate_index\u001b[0m \u001b[1;33m+\u001b[0m \u001b[1;36m1\u001b[0m\u001b[1;33m,\u001b[0m \u001b[0msalary_left\u001b[0m\u001b[1;33m)\u001b[0m\u001b[1;33m\u001b[0m\u001b[0m\n\u001b[0m\u001b[0;32m     36\u001b[0m     \u001b[1;32mif\u001b[0m \u001b[0mc1\u001b[0m\u001b[1;33m.\u001b[0m\u001b[0mposition\u001b[0m \u001b[1;33m!=\u001b[0m \u001b[0mrequest\u001b[0m\u001b[1;33m[\u001b[0m\u001b[0mrequest_index\u001b[0m\u001b[1;33m]\u001b[0m \u001b[1;32mor\u001b[0m \u001b[0msal1\u001b[0m \u001b[1;33m>\u001b[0m \u001b[0msalary_left\u001b[0m\u001b[1;33m:\u001b[0m\u001b[1;33m\u001b[0m\u001b[0m\n\u001b[0;32m     37\u001b[0m       \u001b[0mmemo\u001b[0m\u001b[1;33m[\u001b[0m\u001b[0mrequest_index\u001b[0m\u001b[1;33m]\u001b[0m\u001b[1;33m[\u001b[0m\u001b[0mcandidate_index\u001b[0m\u001b[1;33m]\u001b[0m\u001b[1;33m[\u001b[0m\u001b[0msalary_left\u001b[0m\u001b[1;33m]\u001b[0m \u001b[1;33m=\u001b[0m \u001b[0mskip_score\u001b[0m\u001b[1;33m\u001b[0m\u001b[0m\n",
        "\u001b[1;32mC:\\Coding\\FanDuel\\src\\analysis\\knapsack.py\u001b[0m in \u001b[0;36mGV\u001b[1;34m(request_index, candidate_index, salary_left)\u001b[0m\n\u001b[0;32m     33\u001b[0m     \u001b[0mc1\u001b[0m \u001b[1;33m=\u001b[0m \u001b[0mcandidates\u001b[0m\u001b[1;33m[\u001b[0m\u001b[0mcandidate_index\u001b[0m\u001b[1;33m]\u001b[0m\u001b[1;33m\u001b[0m\u001b[0m\n\u001b[0;32m     34\u001b[0m     \u001b[0msal1\u001b[0m \u001b[1;33m=\u001b[0m \u001b[0msalaries\u001b[0m\u001b[1;33m[\u001b[0m\u001b[0mcandidate_index\u001b[0m\u001b[1;33m]\u001b[0m\u001b[1;33m\u001b[0m\u001b[0m\n\u001b[1;32m---> 35\u001b[1;33m     \u001b[0mskip_score\u001b[0m \u001b[1;33m=\u001b[0m \u001b[0mGV\u001b[0m\u001b[1;33m(\u001b[0m\u001b[0mrequest_index\u001b[0m\u001b[1;33m,\u001b[0m \u001b[0mcandidate_index\u001b[0m \u001b[1;33m+\u001b[0m \u001b[1;36m1\u001b[0m\u001b[1;33m,\u001b[0m \u001b[0msalary_left\u001b[0m\u001b[1;33m)\u001b[0m\u001b[1;33m\u001b[0m\u001b[0m\n\u001b[0m\u001b[0;32m     36\u001b[0m     \u001b[1;32mif\u001b[0m \u001b[0mc1\u001b[0m\u001b[1;33m.\u001b[0m\u001b[0mposition\u001b[0m \u001b[1;33m!=\u001b[0m \u001b[0mrequest\u001b[0m\u001b[1;33m[\u001b[0m\u001b[0mrequest_index\u001b[0m\u001b[1;33m]\u001b[0m \u001b[1;32mor\u001b[0m \u001b[0msal1\u001b[0m \u001b[1;33m>\u001b[0m \u001b[0msalary_left\u001b[0m\u001b[1;33m:\u001b[0m\u001b[1;33m\u001b[0m\u001b[0m\n\u001b[0;32m     37\u001b[0m       \u001b[0mmemo\u001b[0m\u001b[1;33m[\u001b[0m\u001b[0mrequest_index\u001b[0m\u001b[1;33m]\u001b[0m\u001b[1;33m[\u001b[0m\u001b[0mcandidate_index\u001b[0m\u001b[1;33m]\u001b[0m\u001b[1;33m[\u001b[0m\u001b[0msalary_left\u001b[0m\u001b[1;33m]\u001b[0m \u001b[1;33m=\u001b[0m \u001b[0mskip_score\u001b[0m\u001b[1;33m\u001b[0m\u001b[0m\n",
        "\u001b[1;32mC:\\Coding\\FanDuel\\src\\analysis\\knapsack.py\u001b[0m in \u001b[0;36mGV\u001b[1;34m(request_index, candidate_index, salary_left)\u001b[0m\n\u001b[0;32m     33\u001b[0m     \u001b[0mc1\u001b[0m \u001b[1;33m=\u001b[0m \u001b[0mcandidates\u001b[0m\u001b[1;33m[\u001b[0m\u001b[0mcandidate_index\u001b[0m\u001b[1;33m]\u001b[0m\u001b[1;33m\u001b[0m\u001b[0m\n\u001b[0;32m     34\u001b[0m     \u001b[0msal1\u001b[0m \u001b[1;33m=\u001b[0m \u001b[0msalaries\u001b[0m\u001b[1;33m[\u001b[0m\u001b[0mcandidate_index\u001b[0m\u001b[1;33m]\u001b[0m\u001b[1;33m\u001b[0m\u001b[0m\n\u001b[1;32m---> 35\u001b[1;33m     \u001b[0mskip_score\u001b[0m \u001b[1;33m=\u001b[0m \u001b[0mGV\u001b[0m\u001b[1;33m(\u001b[0m\u001b[0mrequest_index\u001b[0m\u001b[1;33m,\u001b[0m \u001b[0mcandidate_index\u001b[0m \u001b[1;33m+\u001b[0m \u001b[1;36m1\u001b[0m\u001b[1;33m,\u001b[0m \u001b[0msalary_left\u001b[0m\u001b[1;33m)\u001b[0m\u001b[1;33m\u001b[0m\u001b[0m\n\u001b[0m\u001b[0;32m     36\u001b[0m     \u001b[1;32mif\u001b[0m \u001b[0mc1\u001b[0m\u001b[1;33m.\u001b[0m\u001b[0mposition\u001b[0m \u001b[1;33m!=\u001b[0m \u001b[0mrequest\u001b[0m\u001b[1;33m[\u001b[0m\u001b[0mrequest_index\u001b[0m\u001b[1;33m]\u001b[0m \u001b[1;32mor\u001b[0m \u001b[0msal1\u001b[0m \u001b[1;33m>\u001b[0m \u001b[0msalary_left\u001b[0m\u001b[1;33m:\u001b[0m\u001b[1;33m\u001b[0m\u001b[0m\n\u001b[0;32m     37\u001b[0m       \u001b[0mmemo\u001b[0m\u001b[1;33m[\u001b[0m\u001b[0mrequest_index\u001b[0m\u001b[1;33m]\u001b[0m\u001b[1;33m[\u001b[0m\u001b[0mcandidate_index\u001b[0m\u001b[1;33m]\u001b[0m\u001b[1;33m[\u001b[0m\u001b[0msalary_left\u001b[0m\u001b[1;33m]\u001b[0m \u001b[1;33m=\u001b[0m \u001b[0mskip_score\u001b[0m\u001b[1;33m\u001b[0m\u001b[0m\n",
        "\u001b[1;32mC:\\Coding\\FanDuel\\src\\analysis\\knapsack.py\u001b[0m in \u001b[0;36mGV\u001b[1;34m(request_index, candidate_index, salary_left)\u001b[0m\n\u001b[0;32m     33\u001b[0m     \u001b[0mc1\u001b[0m \u001b[1;33m=\u001b[0m \u001b[0mcandidates\u001b[0m\u001b[1;33m[\u001b[0m\u001b[0mcandidate_index\u001b[0m\u001b[1;33m]\u001b[0m\u001b[1;33m\u001b[0m\u001b[0m\n\u001b[0;32m     34\u001b[0m     \u001b[0msal1\u001b[0m \u001b[1;33m=\u001b[0m \u001b[0msalaries\u001b[0m\u001b[1;33m[\u001b[0m\u001b[0mcandidate_index\u001b[0m\u001b[1;33m]\u001b[0m\u001b[1;33m\u001b[0m\u001b[0m\n\u001b[1;32m---> 35\u001b[1;33m     \u001b[0mskip_score\u001b[0m \u001b[1;33m=\u001b[0m \u001b[0mGV\u001b[0m\u001b[1;33m(\u001b[0m\u001b[0mrequest_index\u001b[0m\u001b[1;33m,\u001b[0m \u001b[0mcandidate_index\u001b[0m \u001b[1;33m+\u001b[0m \u001b[1;36m1\u001b[0m\u001b[1;33m,\u001b[0m \u001b[0msalary_left\u001b[0m\u001b[1;33m)\u001b[0m\u001b[1;33m\u001b[0m\u001b[0m\n\u001b[0m\u001b[0;32m     36\u001b[0m     \u001b[1;32mif\u001b[0m \u001b[0mc1\u001b[0m\u001b[1;33m.\u001b[0m\u001b[0mposition\u001b[0m \u001b[1;33m!=\u001b[0m \u001b[0mrequest\u001b[0m\u001b[1;33m[\u001b[0m\u001b[0mrequest_index\u001b[0m\u001b[1;33m]\u001b[0m \u001b[1;32mor\u001b[0m \u001b[0msal1\u001b[0m \u001b[1;33m>\u001b[0m \u001b[0msalary_left\u001b[0m\u001b[1;33m:\u001b[0m\u001b[1;33m\u001b[0m\u001b[0m\n\u001b[0;32m     37\u001b[0m       \u001b[0mmemo\u001b[0m\u001b[1;33m[\u001b[0m\u001b[0mrequest_index\u001b[0m\u001b[1;33m]\u001b[0m\u001b[1;33m[\u001b[0m\u001b[0mcandidate_index\u001b[0m\u001b[1;33m]\u001b[0m\u001b[1;33m[\u001b[0m\u001b[0msalary_left\u001b[0m\u001b[1;33m]\u001b[0m \u001b[1;33m=\u001b[0m \u001b[0mskip_score\u001b[0m\u001b[1;33m\u001b[0m\u001b[0m\n",
        "\u001b[1;32mC:\\Coding\\FanDuel\\src\\analysis\\knapsack.py\u001b[0m in \u001b[0;36mGV\u001b[1;34m(request_index, candidate_index, salary_left)\u001b[0m\n\u001b[0;32m     33\u001b[0m     \u001b[0mc1\u001b[0m \u001b[1;33m=\u001b[0m \u001b[0mcandidates\u001b[0m\u001b[1;33m[\u001b[0m\u001b[0mcandidate_index\u001b[0m\u001b[1;33m]\u001b[0m\u001b[1;33m\u001b[0m\u001b[0m\n\u001b[0;32m     34\u001b[0m     \u001b[0msal1\u001b[0m \u001b[1;33m=\u001b[0m \u001b[0msalaries\u001b[0m\u001b[1;33m[\u001b[0m\u001b[0mcandidate_index\u001b[0m\u001b[1;33m]\u001b[0m\u001b[1;33m\u001b[0m\u001b[0m\n\u001b[1;32m---> 35\u001b[1;33m     \u001b[0mskip_score\u001b[0m \u001b[1;33m=\u001b[0m \u001b[0mGV\u001b[0m\u001b[1;33m(\u001b[0m\u001b[0mrequest_index\u001b[0m\u001b[1;33m,\u001b[0m \u001b[0mcandidate_index\u001b[0m \u001b[1;33m+\u001b[0m \u001b[1;36m1\u001b[0m\u001b[1;33m,\u001b[0m \u001b[0msalary_left\u001b[0m\u001b[1;33m)\u001b[0m\u001b[1;33m\u001b[0m\u001b[0m\n\u001b[0m\u001b[0;32m     36\u001b[0m     \u001b[1;32mif\u001b[0m \u001b[0mc1\u001b[0m\u001b[1;33m.\u001b[0m\u001b[0mposition\u001b[0m \u001b[1;33m!=\u001b[0m \u001b[0mrequest\u001b[0m\u001b[1;33m[\u001b[0m\u001b[0mrequest_index\u001b[0m\u001b[1;33m]\u001b[0m \u001b[1;32mor\u001b[0m \u001b[0msal1\u001b[0m \u001b[1;33m>\u001b[0m \u001b[0msalary_left\u001b[0m\u001b[1;33m:\u001b[0m\u001b[1;33m\u001b[0m\u001b[0m\n\u001b[0;32m     37\u001b[0m       \u001b[0mmemo\u001b[0m\u001b[1;33m[\u001b[0m\u001b[0mrequest_index\u001b[0m\u001b[1;33m]\u001b[0m\u001b[1;33m[\u001b[0m\u001b[0mcandidate_index\u001b[0m\u001b[1;33m]\u001b[0m\u001b[1;33m[\u001b[0m\u001b[0msalary_left\u001b[0m\u001b[1;33m]\u001b[0m \u001b[1;33m=\u001b[0m \u001b[0mskip_score\u001b[0m\u001b[1;33m\u001b[0m\u001b[0m\n",
        "\u001b[1;32mC:\\Coding\\FanDuel\\src\\analysis\\knapsack.py\u001b[0m in \u001b[0;36mGV\u001b[1;34m(request_index, candidate_index, salary_left)\u001b[0m\n\u001b[0;32m     33\u001b[0m     \u001b[0mc1\u001b[0m \u001b[1;33m=\u001b[0m \u001b[0mcandidates\u001b[0m\u001b[1;33m[\u001b[0m\u001b[0mcandidate_index\u001b[0m\u001b[1;33m]\u001b[0m\u001b[1;33m\u001b[0m\u001b[0m\n\u001b[0;32m     34\u001b[0m     \u001b[0msal1\u001b[0m \u001b[1;33m=\u001b[0m \u001b[0msalaries\u001b[0m\u001b[1;33m[\u001b[0m\u001b[0mcandidate_index\u001b[0m\u001b[1;33m]\u001b[0m\u001b[1;33m\u001b[0m\u001b[0m\n\u001b[1;32m---> 35\u001b[1;33m     \u001b[0mskip_score\u001b[0m \u001b[1;33m=\u001b[0m \u001b[0mGV\u001b[0m\u001b[1;33m(\u001b[0m\u001b[0mrequest_index\u001b[0m\u001b[1;33m,\u001b[0m \u001b[0mcandidate_index\u001b[0m \u001b[1;33m+\u001b[0m \u001b[1;36m1\u001b[0m\u001b[1;33m,\u001b[0m \u001b[0msalary_left\u001b[0m\u001b[1;33m)\u001b[0m\u001b[1;33m\u001b[0m\u001b[0m\n\u001b[0m\u001b[0;32m     36\u001b[0m     \u001b[1;32mif\u001b[0m \u001b[0mc1\u001b[0m\u001b[1;33m.\u001b[0m\u001b[0mposition\u001b[0m \u001b[1;33m!=\u001b[0m \u001b[0mrequest\u001b[0m\u001b[1;33m[\u001b[0m\u001b[0mrequest_index\u001b[0m\u001b[1;33m]\u001b[0m \u001b[1;32mor\u001b[0m \u001b[0msal1\u001b[0m \u001b[1;33m>\u001b[0m \u001b[0msalary_left\u001b[0m\u001b[1;33m:\u001b[0m\u001b[1;33m\u001b[0m\u001b[0m\n\u001b[0;32m     37\u001b[0m       \u001b[0mmemo\u001b[0m\u001b[1;33m[\u001b[0m\u001b[0mrequest_index\u001b[0m\u001b[1;33m]\u001b[0m\u001b[1;33m[\u001b[0m\u001b[0mcandidate_index\u001b[0m\u001b[1;33m]\u001b[0m\u001b[1;33m[\u001b[0m\u001b[0msalary_left\u001b[0m\u001b[1;33m]\u001b[0m \u001b[1;33m=\u001b[0m \u001b[0mskip_score\u001b[0m\u001b[1;33m\u001b[0m\u001b[0m\n",
        "\u001b[1;32mC:\\Coding\\FanDuel\\src\\analysis\\knapsack.py\u001b[0m in \u001b[0;36mGV\u001b[1;34m(request_index, candidate_index, salary_left)\u001b[0m\n\u001b[0;32m     33\u001b[0m     \u001b[0mc1\u001b[0m \u001b[1;33m=\u001b[0m \u001b[0mcandidates\u001b[0m\u001b[1;33m[\u001b[0m\u001b[0mcandidate_index\u001b[0m\u001b[1;33m]\u001b[0m\u001b[1;33m\u001b[0m\u001b[0m\n\u001b[0;32m     34\u001b[0m     \u001b[0msal1\u001b[0m \u001b[1;33m=\u001b[0m \u001b[0msalaries\u001b[0m\u001b[1;33m[\u001b[0m\u001b[0mcandidate_index\u001b[0m\u001b[1;33m]\u001b[0m\u001b[1;33m\u001b[0m\u001b[0m\n\u001b[1;32m---> 35\u001b[1;33m     \u001b[0mskip_score\u001b[0m \u001b[1;33m=\u001b[0m \u001b[0mGV\u001b[0m\u001b[1;33m(\u001b[0m\u001b[0mrequest_index\u001b[0m\u001b[1;33m,\u001b[0m \u001b[0mcandidate_index\u001b[0m \u001b[1;33m+\u001b[0m \u001b[1;36m1\u001b[0m\u001b[1;33m,\u001b[0m \u001b[0msalary_left\u001b[0m\u001b[1;33m)\u001b[0m\u001b[1;33m\u001b[0m\u001b[0m\n\u001b[0m\u001b[0;32m     36\u001b[0m     \u001b[1;32mif\u001b[0m \u001b[0mc1\u001b[0m\u001b[1;33m.\u001b[0m\u001b[0mposition\u001b[0m \u001b[1;33m!=\u001b[0m \u001b[0mrequest\u001b[0m\u001b[1;33m[\u001b[0m\u001b[0mrequest_index\u001b[0m\u001b[1;33m]\u001b[0m \u001b[1;32mor\u001b[0m \u001b[0msal1\u001b[0m \u001b[1;33m>\u001b[0m \u001b[0msalary_left\u001b[0m\u001b[1;33m:\u001b[0m\u001b[1;33m\u001b[0m\u001b[0m\n\u001b[0;32m     37\u001b[0m       \u001b[0mmemo\u001b[0m\u001b[1;33m[\u001b[0m\u001b[0mrequest_index\u001b[0m\u001b[1;33m]\u001b[0m\u001b[1;33m[\u001b[0m\u001b[0mcandidate_index\u001b[0m\u001b[1;33m]\u001b[0m\u001b[1;33m[\u001b[0m\u001b[0msalary_left\u001b[0m\u001b[1;33m]\u001b[0m \u001b[1;33m=\u001b[0m \u001b[0mskip_score\u001b[0m\u001b[1;33m\u001b[0m\u001b[0m\n",
        "\u001b[1;32mC:\\Coding\\FanDuel\\src\\analysis\\knapsack.py\u001b[0m in \u001b[0;36mGV\u001b[1;34m(request_index, candidate_index, salary_left)\u001b[0m\n\u001b[0;32m     33\u001b[0m     \u001b[0mc1\u001b[0m \u001b[1;33m=\u001b[0m \u001b[0mcandidates\u001b[0m\u001b[1;33m[\u001b[0m\u001b[0mcandidate_index\u001b[0m\u001b[1;33m]\u001b[0m\u001b[1;33m\u001b[0m\u001b[0m\n\u001b[0;32m     34\u001b[0m     \u001b[0msal1\u001b[0m \u001b[1;33m=\u001b[0m \u001b[0msalaries\u001b[0m\u001b[1;33m[\u001b[0m\u001b[0mcandidate_index\u001b[0m\u001b[1;33m]\u001b[0m\u001b[1;33m\u001b[0m\u001b[0m\n\u001b[1;32m---> 35\u001b[1;33m     \u001b[0mskip_score\u001b[0m \u001b[1;33m=\u001b[0m \u001b[0mGV\u001b[0m\u001b[1;33m(\u001b[0m\u001b[0mrequest_index\u001b[0m\u001b[1;33m,\u001b[0m \u001b[0mcandidate_index\u001b[0m \u001b[1;33m+\u001b[0m \u001b[1;36m1\u001b[0m\u001b[1;33m,\u001b[0m \u001b[0msalary_left\u001b[0m\u001b[1;33m)\u001b[0m\u001b[1;33m\u001b[0m\u001b[0m\n\u001b[0m\u001b[0;32m     36\u001b[0m     \u001b[1;32mif\u001b[0m \u001b[0mc1\u001b[0m\u001b[1;33m.\u001b[0m\u001b[0mposition\u001b[0m \u001b[1;33m!=\u001b[0m \u001b[0mrequest\u001b[0m\u001b[1;33m[\u001b[0m\u001b[0mrequest_index\u001b[0m\u001b[1;33m]\u001b[0m \u001b[1;32mor\u001b[0m \u001b[0msal1\u001b[0m \u001b[1;33m>\u001b[0m \u001b[0msalary_left\u001b[0m\u001b[1;33m:\u001b[0m\u001b[1;33m\u001b[0m\u001b[0m\n\u001b[0;32m     37\u001b[0m       \u001b[0mmemo\u001b[0m\u001b[1;33m[\u001b[0m\u001b[0mrequest_index\u001b[0m\u001b[1;33m]\u001b[0m\u001b[1;33m[\u001b[0m\u001b[0mcandidate_index\u001b[0m\u001b[1;33m]\u001b[0m\u001b[1;33m[\u001b[0m\u001b[0msalary_left\u001b[0m\u001b[1;33m]\u001b[0m \u001b[1;33m=\u001b[0m \u001b[0mskip_score\u001b[0m\u001b[1;33m\u001b[0m\u001b[0m\n",
        "\u001b[1;32mC:\\Coding\\FanDuel\\src\\analysis\\knapsack.py\u001b[0m in \u001b[0;36mGV\u001b[1;34m(request_index, candidate_index, salary_left)\u001b[0m\n\u001b[0;32m     33\u001b[0m     \u001b[0mc1\u001b[0m \u001b[1;33m=\u001b[0m \u001b[0mcandidates\u001b[0m\u001b[1;33m[\u001b[0m\u001b[0mcandidate_index\u001b[0m\u001b[1;33m]\u001b[0m\u001b[1;33m\u001b[0m\u001b[0m\n\u001b[0;32m     34\u001b[0m     \u001b[0msal1\u001b[0m \u001b[1;33m=\u001b[0m \u001b[0msalaries\u001b[0m\u001b[1;33m[\u001b[0m\u001b[0mcandidate_index\u001b[0m\u001b[1;33m]\u001b[0m\u001b[1;33m\u001b[0m\u001b[0m\n\u001b[1;32m---> 35\u001b[1;33m     \u001b[0mskip_score\u001b[0m \u001b[1;33m=\u001b[0m \u001b[0mGV\u001b[0m\u001b[1;33m(\u001b[0m\u001b[0mrequest_index\u001b[0m\u001b[1;33m,\u001b[0m \u001b[0mcandidate_index\u001b[0m \u001b[1;33m+\u001b[0m \u001b[1;36m1\u001b[0m\u001b[1;33m,\u001b[0m \u001b[0msalary_left\u001b[0m\u001b[1;33m)\u001b[0m\u001b[1;33m\u001b[0m\u001b[0m\n\u001b[0m\u001b[0;32m     36\u001b[0m     \u001b[1;32mif\u001b[0m \u001b[0mc1\u001b[0m\u001b[1;33m.\u001b[0m\u001b[0mposition\u001b[0m \u001b[1;33m!=\u001b[0m \u001b[0mrequest\u001b[0m\u001b[1;33m[\u001b[0m\u001b[0mrequest_index\u001b[0m\u001b[1;33m]\u001b[0m \u001b[1;32mor\u001b[0m \u001b[0msal1\u001b[0m \u001b[1;33m>\u001b[0m \u001b[0msalary_left\u001b[0m\u001b[1;33m:\u001b[0m\u001b[1;33m\u001b[0m\u001b[0m\n\u001b[0;32m     37\u001b[0m       \u001b[0mmemo\u001b[0m\u001b[1;33m[\u001b[0m\u001b[0mrequest_index\u001b[0m\u001b[1;33m]\u001b[0m\u001b[1;33m[\u001b[0m\u001b[0mcandidate_index\u001b[0m\u001b[1;33m]\u001b[0m\u001b[1;33m[\u001b[0m\u001b[0msalary_left\u001b[0m\u001b[1;33m]\u001b[0m \u001b[1;33m=\u001b[0m \u001b[0mskip_score\u001b[0m\u001b[1;33m\u001b[0m\u001b[0m\n",
        "\u001b[1;32mC:\\Coding\\FanDuel\\src\\analysis\\knapsack.py\u001b[0m in \u001b[0;36mGV\u001b[1;34m(request_index, candidate_index, salary_left)\u001b[0m\n\u001b[0;32m     33\u001b[0m     \u001b[0mc1\u001b[0m \u001b[1;33m=\u001b[0m \u001b[0mcandidates\u001b[0m\u001b[1;33m[\u001b[0m\u001b[0mcandidate_index\u001b[0m\u001b[1;33m]\u001b[0m\u001b[1;33m\u001b[0m\u001b[0m\n\u001b[0;32m     34\u001b[0m     \u001b[0msal1\u001b[0m \u001b[1;33m=\u001b[0m \u001b[0msalaries\u001b[0m\u001b[1;33m[\u001b[0m\u001b[0mcandidate_index\u001b[0m\u001b[1;33m]\u001b[0m\u001b[1;33m\u001b[0m\u001b[0m\n\u001b[1;32m---> 35\u001b[1;33m     \u001b[0mskip_score\u001b[0m \u001b[1;33m=\u001b[0m \u001b[0mGV\u001b[0m\u001b[1;33m(\u001b[0m\u001b[0mrequest_index\u001b[0m\u001b[1;33m,\u001b[0m \u001b[0mcandidate_index\u001b[0m \u001b[1;33m+\u001b[0m \u001b[1;36m1\u001b[0m\u001b[1;33m,\u001b[0m \u001b[0msalary_left\u001b[0m\u001b[1;33m)\u001b[0m\u001b[1;33m\u001b[0m\u001b[0m\n\u001b[0m\u001b[0;32m     36\u001b[0m     \u001b[1;32mif\u001b[0m \u001b[0mc1\u001b[0m\u001b[1;33m.\u001b[0m\u001b[0mposition\u001b[0m \u001b[1;33m!=\u001b[0m \u001b[0mrequest\u001b[0m\u001b[1;33m[\u001b[0m\u001b[0mrequest_index\u001b[0m\u001b[1;33m]\u001b[0m \u001b[1;32mor\u001b[0m \u001b[0msal1\u001b[0m \u001b[1;33m>\u001b[0m \u001b[0msalary_left\u001b[0m\u001b[1;33m:\u001b[0m\u001b[1;33m\u001b[0m\u001b[0m\n\u001b[0;32m     37\u001b[0m       \u001b[0mmemo\u001b[0m\u001b[1;33m[\u001b[0m\u001b[0mrequest_index\u001b[0m\u001b[1;33m]\u001b[0m\u001b[1;33m[\u001b[0m\u001b[0mcandidate_index\u001b[0m\u001b[1;33m]\u001b[0m\u001b[1;33m[\u001b[0m\u001b[0msalary_left\u001b[0m\u001b[1;33m]\u001b[0m \u001b[1;33m=\u001b[0m \u001b[0mskip_score\u001b[0m\u001b[1;33m\u001b[0m\u001b[0m\n",
        "\u001b[1;32mC:\\Coding\\FanDuel\\src\\analysis\\knapsack.py\u001b[0m in \u001b[0;36mGV\u001b[1;34m(request_index, candidate_index, salary_left)\u001b[0m\n\u001b[0;32m     33\u001b[0m     \u001b[0mc1\u001b[0m \u001b[1;33m=\u001b[0m \u001b[0mcandidates\u001b[0m\u001b[1;33m[\u001b[0m\u001b[0mcandidate_index\u001b[0m\u001b[1;33m]\u001b[0m\u001b[1;33m\u001b[0m\u001b[0m\n\u001b[0;32m     34\u001b[0m     \u001b[0msal1\u001b[0m \u001b[1;33m=\u001b[0m \u001b[0msalaries\u001b[0m\u001b[1;33m[\u001b[0m\u001b[0mcandidate_index\u001b[0m\u001b[1;33m]\u001b[0m\u001b[1;33m\u001b[0m\u001b[0m\n\u001b[1;32m---> 35\u001b[1;33m     \u001b[0mskip_score\u001b[0m \u001b[1;33m=\u001b[0m \u001b[0mGV\u001b[0m\u001b[1;33m(\u001b[0m\u001b[0mrequest_index\u001b[0m\u001b[1;33m,\u001b[0m \u001b[0mcandidate_index\u001b[0m \u001b[1;33m+\u001b[0m \u001b[1;36m1\u001b[0m\u001b[1;33m,\u001b[0m \u001b[0msalary_left\u001b[0m\u001b[1;33m)\u001b[0m\u001b[1;33m\u001b[0m\u001b[0m\n\u001b[0m\u001b[0;32m     36\u001b[0m     \u001b[1;32mif\u001b[0m \u001b[0mc1\u001b[0m\u001b[1;33m.\u001b[0m\u001b[0mposition\u001b[0m \u001b[1;33m!=\u001b[0m \u001b[0mrequest\u001b[0m\u001b[1;33m[\u001b[0m\u001b[0mrequest_index\u001b[0m\u001b[1;33m]\u001b[0m \u001b[1;32mor\u001b[0m \u001b[0msal1\u001b[0m \u001b[1;33m>\u001b[0m \u001b[0msalary_left\u001b[0m\u001b[1;33m:\u001b[0m\u001b[1;33m\u001b[0m\u001b[0m\n\u001b[0;32m     37\u001b[0m       \u001b[0mmemo\u001b[0m\u001b[1;33m[\u001b[0m\u001b[0mrequest_index\u001b[0m\u001b[1;33m]\u001b[0m\u001b[1;33m[\u001b[0m\u001b[0mcandidate_index\u001b[0m\u001b[1;33m]\u001b[0m\u001b[1;33m[\u001b[0m\u001b[0msalary_left\u001b[0m\u001b[1;33m]\u001b[0m \u001b[1;33m=\u001b[0m \u001b[0mskip_score\u001b[0m\u001b[1;33m\u001b[0m\u001b[0m\n",
        "\u001b[1;32mC:\\Coding\\FanDuel\\src\\analysis\\knapsack.py\u001b[0m in \u001b[0;36mGV\u001b[1;34m(request_index, candidate_index, salary_left)\u001b[0m\n\u001b[0;32m     33\u001b[0m     \u001b[0mc1\u001b[0m \u001b[1;33m=\u001b[0m \u001b[0mcandidates\u001b[0m\u001b[1;33m[\u001b[0m\u001b[0mcandidate_index\u001b[0m\u001b[1;33m]\u001b[0m\u001b[1;33m\u001b[0m\u001b[0m\n\u001b[0;32m     34\u001b[0m     \u001b[0msal1\u001b[0m \u001b[1;33m=\u001b[0m \u001b[0msalaries\u001b[0m\u001b[1;33m[\u001b[0m\u001b[0mcandidate_index\u001b[0m\u001b[1;33m]\u001b[0m\u001b[1;33m\u001b[0m\u001b[0m\n\u001b[1;32m---> 35\u001b[1;33m     \u001b[0mskip_score\u001b[0m \u001b[1;33m=\u001b[0m \u001b[0mGV\u001b[0m\u001b[1;33m(\u001b[0m\u001b[0mrequest_index\u001b[0m\u001b[1;33m,\u001b[0m \u001b[0mcandidate_index\u001b[0m \u001b[1;33m+\u001b[0m \u001b[1;36m1\u001b[0m\u001b[1;33m,\u001b[0m \u001b[0msalary_left\u001b[0m\u001b[1;33m)\u001b[0m\u001b[1;33m\u001b[0m\u001b[0m\n\u001b[0m\u001b[0;32m     36\u001b[0m     \u001b[1;32mif\u001b[0m \u001b[0mc1\u001b[0m\u001b[1;33m.\u001b[0m\u001b[0mposition\u001b[0m \u001b[1;33m!=\u001b[0m \u001b[0mrequest\u001b[0m\u001b[1;33m[\u001b[0m\u001b[0mrequest_index\u001b[0m\u001b[1;33m]\u001b[0m \u001b[1;32mor\u001b[0m \u001b[0msal1\u001b[0m \u001b[1;33m>\u001b[0m \u001b[0msalary_left\u001b[0m\u001b[1;33m:\u001b[0m\u001b[1;33m\u001b[0m\u001b[0m\n\u001b[0;32m     37\u001b[0m       \u001b[0mmemo\u001b[0m\u001b[1;33m[\u001b[0m\u001b[0mrequest_index\u001b[0m\u001b[1;33m]\u001b[0m\u001b[1;33m[\u001b[0m\u001b[0mcandidate_index\u001b[0m\u001b[1;33m]\u001b[0m\u001b[1;33m[\u001b[0m\u001b[0msalary_left\u001b[0m\u001b[1;33m]\u001b[0m \u001b[1;33m=\u001b[0m \u001b[0mskip_score\u001b[0m\u001b[1;33m\u001b[0m\u001b[0m\n",
        "\u001b[1;32mC:\\Coding\\FanDuel\\src\\analysis\\knapsack.py\u001b[0m in \u001b[0;36mGV\u001b[1;34m(request_index, candidate_index, salary_left)\u001b[0m\n\u001b[0;32m     33\u001b[0m     \u001b[0mc1\u001b[0m \u001b[1;33m=\u001b[0m \u001b[0mcandidates\u001b[0m\u001b[1;33m[\u001b[0m\u001b[0mcandidate_index\u001b[0m\u001b[1;33m]\u001b[0m\u001b[1;33m\u001b[0m\u001b[0m\n\u001b[0;32m     34\u001b[0m     \u001b[0msal1\u001b[0m \u001b[1;33m=\u001b[0m \u001b[0msalaries\u001b[0m\u001b[1;33m[\u001b[0m\u001b[0mcandidate_index\u001b[0m\u001b[1;33m]\u001b[0m\u001b[1;33m\u001b[0m\u001b[0m\n\u001b[1;32m---> 35\u001b[1;33m     \u001b[0mskip_score\u001b[0m \u001b[1;33m=\u001b[0m \u001b[0mGV\u001b[0m\u001b[1;33m(\u001b[0m\u001b[0mrequest_index\u001b[0m\u001b[1;33m,\u001b[0m \u001b[0mcandidate_index\u001b[0m \u001b[1;33m+\u001b[0m \u001b[1;36m1\u001b[0m\u001b[1;33m,\u001b[0m \u001b[0msalary_left\u001b[0m\u001b[1;33m)\u001b[0m\u001b[1;33m\u001b[0m\u001b[0m\n\u001b[0m\u001b[0;32m     36\u001b[0m     \u001b[1;32mif\u001b[0m \u001b[0mc1\u001b[0m\u001b[1;33m.\u001b[0m\u001b[0mposition\u001b[0m \u001b[1;33m!=\u001b[0m \u001b[0mrequest\u001b[0m\u001b[1;33m[\u001b[0m\u001b[0mrequest_index\u001b[0m\u001b[1;33m]\u001b[0m \u001b[1;32mor\u001b[0m \u001b[0msal1\u001b[0m \u001b[1;33m>\u001b[0m \u001b[0msalary_left\u001b[0m\u001b[1;33m:\u001b[0m\u001b[1;33m\u001b[0m\u001b[0m\n\u001b[0;32m     37\u001b[0m       \u001b[0mmemo\u001b[0m\u001b[1;33m[\u001b[0m\u001b[0mrequest_index\u001b[0m\u001b[1;33m]\u001b[0m\u001b[1;33m[\u001b[0m\u001b[0mcandidate_index\u001b[0m\u001b[1;33m]\u001b[0m\u001b[1;33m[\u001b[0m\u001b[0msalary_left\u001b[0m\u001b[1;33m]\u001b[0m \u001b[1;33m=\u001b[0m \u001b[0mskip_score\u001b[0m\u001b[1;33m\u001b[0m\u001b[0m\n",
        "\u001b[1;32mC:\\Coding\\FanDuel\\src\\analysis\\knapsack.py\u001b[0m in \u001b[0;36mGV\u001b[1;34m(request_index, candidate_index, salary_left)\u001b[0m\n\u001b[0;32m     33\u001b[0m     \u001b[0mc1\u001b[0m \u001b[1;33m=\u001b[0m \u001b[0mcandidates\u001b[0m\u001b[1;33m[\u001b[0m\u001b[0mcandidate_index\u001b[0m\u001b[1;33m]\u001b[0m\u001b[1;33m\u001b[0m\u001b[0m\n\u001b[0;32m     34\u001b[0m     \u001b[0msal1\u001b[0m \u001b[1;33m=\u001b[0m \u001b[0msalaries\u001b[0m\u001b[1;33m[\u001b[0m\u001b[0mcandidate_index\u001b[0m\u001b[1;33m]\u001b[0m\u001b[1;33m\u001b[0m\u001b[0m\n\u001b[1;32m---> 35\u001b[1;33m     \u001b[0mskip_score\u001b[0m \u001b[1;33m=\u001b[0m \u001b[0mGV\u001b[0m\u001b[1;33m(\u001b[0m\u001b[0mrequest_index\u001b[0m\u001b[1;33m,\u001b[0m \u001b[0mcandidate_index\u001b[0m \u001b[1;33m+\u001b[0m \u001b[1;36m1\u001b[0m\u001b[1;33m,\u001b[0m \u001b[0msalary_left\u001b[0m\u001b[1;33m)\u001b[0m\u001b[1;33m\u001b[0m\u001b[0m\n\u001b[0m\u001b[0;32m     36\u001b[0m     \u001b[1;32mif\u001b[0m \u001b[0mc1\u001b[0m\u001b[1;33m.\u001b[0m\u001b[0mposition\u001b[0m \u001b[1;33m!=\u001b[0m \u001b[0mrequest\u001b[0m\u001b[1;33m[\u001b[0m\u001b[0mrequest_index\u001b[0m\u001b[1;33m]\u001b[0m \u001b[1;32mor\u001b[0m \u001b[0msal1\u001b[0m \u001b[1;33m>\u001b[0m \u001b[0msalary_left\u001b[0m\u001b[1;33m:\u001b[0m\u001b[1;33m\u001b[0m\u001b[0m\n\u001b[0;32m     37\u001b[0m       \u001b[0mmemo\u001b[0m\u001b[1;33m[\u001b[0m\u001b[0mrequest_index\u001b[0m\u001b[1;33m]\u001b[0m\u001b[1;33m[\u001b[0m\u001b[0mcandidate_index\u001b[0m\u001b[1;33m]\u001b[0m\u001b[1;33m[\u001b[0m\u001b[0msalary_left\u001b[0m\u001b[1;33m]\u001b[0m \u001b[1;33m=\u001b[0m \u001b[0mskip_score\u001b[0m\u001b[1;33m\u001b[0m\u001b[0m\n",
        "\u001b[1;32mC:\\Coding\\FanDuel\\src\\analysis\\knapsack.py\u001b[0m in \u001b[0;36mGV\u001b[1;34m(request_index, candidate_index, salary_left)\u001b[0m\n\u001b[0;32m     33\u001b[0m     \u001b[0mc1\u001b[0m \u001b[1;33m=\u001b[0m \u001b[0mcandidates\u001b[0m\u001b[1;33m[\u001b[0m\u001b[0mcandidate_index\u001b[0m\u001b[1;33m]\u001b[0m\u001b[1;33m\u001b[0m\u001b[0m\n\u001b[0;32m     34\u001b[0m     \u001b[0msal1\u001b[0m \u001b[1;33m=\u001b[0m \u001b[0msalaries\u001b[0m\u001b[1;33m[\u001b[0m\u001b[0mcandidate_index\u001b[0m\u001b[1;33m]\u001b[0m\u001b[1;33m\u001b[0m\u001b[0m\n\u001b[1;32m---> 35\u001b[1;33m     \u001b[0mskip_score\u001b[0m \u001b[1;33m=\u001b[0m \u001b[0mGV\u001b[0m\u001b[1;33m(\u001b[0m\u001b[0mrequest_index\u001b[0m\u001b[1;33m,\u001b[0m \u001b[0mcandidate_index\u001b[0m \u001b[1;33m+\u001b[0m \u001b[1;36m1\u001b[0m\u001b[1;33m,\u001b[0m \u001b[0msalary_left\u001b[0m\u001b[1;33m)\u001b[0m\u001b[1;33m\u001b[0m\u001b[0m\n\u001b[0m\u001b[0;32m     36\u001b[0m     \u001b[1;32mif\u001b[0m \u001b[0mc1\u001b[0m\u001b[1;33m.\u001b[0m\u001b[0mposition\u001b[0m \u001b[1;33m!=\u001b[0m \u001b[0mrequest\u001b[0m\u001b[1;33m[\u001b[0m\u001b[0mrequest_index\u001b[0m\u001b[1;33m]\u001b[0m \u001b[1;32mor\u001b[0m \u001b[0msal1\u001b[0m \u001b[1;33m>\u001b[0m \u001b[0msalary_left\u001b[0m\u001b[1;33m:\u001b[0m\u001b[1;33m\u001b[0m\u001b[0m\n\u001b[0;32m     37\u001b[0m       \u001b[0mmemo\u001b[0m\u001b[1;33m[\u001b[0m\u001b[0mrequest_index\u001b[0m\u001b[1;33m]\u001b[0m\u001b[1;33m[\u001b[0m\u001b[0mcandidate_index\u001b[0m\u001b[1;33m]\u001b[0m\u001b[1;33m[\u001b[0m\u001b[0msalary_left\u001b[0m\u001b[1;33m]\u001b[0m \u001b[1;33m=\u001b[0m \u001b[0mskip_score\u001b[0m\u001b[1;33m\u001b[0m\u001b[0m\n",
        "\u001b[1;32mC:\\Coding\\FanDuel\\src\\analysis\\knapsack.py\u001b[0m in \u001b[0;36mGV\u001b[1;34m(request_index, candidate_index, salary_left)\u001b[0m\n\u001b[0;32m     33\u001b[0m     \u001b[0mc1\u001b[0m \u001b[1;33m=\u001b[0m \u001b[0mcandidates\u001b[0m\u001b[1;33m[\u001b[0m\u001b[0mcandidate_index\u001b[0m\u001b[1;33m]\u001b[0m\u001b[1;33m\u001b[0m\u001b[0m\n\u001b[0;32m     34\u001b[0m     \u001b[0msal1\u001b[0m \u001b[1;33m=\u001b[0m \u001b[0msalaries\u001b[0m\u001b[1;33m[\u001b[0m\u001b[0mcandidate_index\u001b[0m\u001b[1;33m]\u001b[0m\u001b[1;33m\u001b[0m\u001b[0m\n\u001b[1;32m---> 35\u001b[1;33m     \u001b[0mskip_score\u001b[0m \u001b[1;33m=\u001b[0m \u001b[0mGV\u001b[0m\u001b[1;33m(\u001b[0m\u001b[0mrequest_index\u001b[0m\u001b[1;33m,\u001b[0m \u001b[0mcandidate_index\u001b[0m \u001b[1;33m+\u001b[0m \u001b[1;36m1\u001b[0m\u001b[1;33m,\u001b[0m \u001b[0msalary_left\u001b[0m\u001b[1;33m)\u001b[0m\u001b[1;33m\u001b[0m\u001b[0m\n\u001b[0m\u001b[0;32m     36\u001b[0m     \u001b[1;32mif\u001b[0m \u001b[0mc1\u001b[0m\u001b[1;33m.\u001b[0m\u001b[0mposition\u001b[0m \u001b[1;33m!=\u001b[0m \u001b[0mrequest\u001b[0m\u001b[1;33m[\u001b[0m\u001b[0mrequest_index\u001b[0m\u001b[1;33m]\u001b[0m \u001b[1;32mor\u001b[0m \u001b[0msal1\u001b[0m \u001b[1;33m>\u001b[0m \u001b[0msalary_left\u001b[0m\u001b[1;33m:\u001b[0m\u001b[1;33m\u001b[0m\u001b[0m\n\u001b[0;32m     37\u001b[0m       \u001b[0mmemo\u001b[0m\u001b[1;33m[\u001b[0m\u001b[0mrequest_index\u001b[0m\u001b[1;33m]\u001b[0m\u001b[1;33m[\u001b[0m\u001b[0mcandidate_index\u001b[0m\u001b[1;33m]\u001b[0m\u001b[1;33m[\u001b[0m\u001b[0msalary_left\u001b[0m\u001b[1;33m]\u001b[0m \u001b[1;33m=\u001b[0m \u001b[0mskip_score\u001b[0m\u001b[1;33m\u001b[0m\u001b[0m\n",
        "\u001b[1;32mC:\\Coding\\FanDuel\\src\\analysis\\knapsack.py\u001b[0m in \u001b[0;36mGV\u001b[1;34m(request_index, candidate_index, salary_left)\u001b[0m\n\u001b[0;32m     33\u001b[0m     \u001b[0mc1\u001b[0m \u001b[1;33m=\u001b[0m \u001b[0mcandidates\u001b[0m\u001b[1;33m[\u001b[0m\u001b[0mcandidate_index\u001b[0m\u001b[1;33m]\u001b[0m\u001b[1;33m\u001b[0m\u001b[0m\n\u001b[0;32m     34\u001b[0m     \u001b[0msal1\u001b[0m \u001b[1;33m=\u001b[0m \u001b[0msalaries\u001b[0m\u001b[1;33m[\u001b[0m\u001b[0mcandidate_index\u001b[0m\u001b[1;33m]\u001b[0m\u001b[1;33m\u001b[0m\u001b[0m\n\u001b[1;32m---> 35\u001b[1;33m     \u001b[0mskip_score\u001b[0m \u001b[1;33m=\u001b[0m \u001b[0mGV\u001b[0m\u001b[1;33m(\u001b[0m\u001b[0mrequest_index\u001b[0m\u001b[1;33m,\u001b[0m \u001b[0mcandidate_index\u001b[0m \u001b[1;33m+\u001b[0m \u001b[1;36m1\u001b[0m\u001b[1;33m,\u001b[0m \u001b[0msalary_left\u001b[0m\u001b[1;33m)\u001b[0m\u001b[1;33m\u001b[0m\u001b[0m\n\u001b[0m\u001b[0;32m     36\u001b[0m     \u001b[1;32mif\u001b[0m \u001b[0mc1\u001b[0m\u001b[1;33m.\u001b[0m\u001b[0mposition\u001b[0m \u001b[1;33m!=\u001b[0m \u001b[0mrequest\u001b[0m\u001b[1;33m[\u001b[0m\u001b[0mrequest_index\u001b[0m\u001b[1;33m]\u001b[0m \u001b[1;32mor\u001b[0m \u001b[0msal1\u001b[0m \u001b[1;33m>\u001b[0m \u001b[0msalary_left\u001b[0m\u001b[1;33m:\u001b[0m\u001b[1;33m\u001b[0m\u001b[0m\n\u001b[0;32m     37\u001b[0m       \u001b[0mmemo\u001b[0m\u001b[1;33m[\u001b[0m\u001b[0mrequest_index\u001b[0m\u001b[1;33m]\u001b[0m\u001b[1;33m[\u001b[0m\u001b[0mcandidate_index\u001b[0m\u001b[1;33m]\u001b[0m\u001b[1;33m[\u001b[0m\u001b[0msalary_left\u001b[0m\u001b[1;33m]\u001b[0m \u001b[1;33m=\u001b[0m \u001b[0mskip_score\u001b[0m\u001b[1;33m\u001b[0m\u001b[0m\n",
        "\u001b[1;32mC:\\Coding\\FanDuel\\src\\analysis\\knapsack.py\u001b[0m in \u001b[0;36mGV\u001b[1;34m(request_index, candidate_index, salary_left)\u001b[0m\n\u001b[0;32m     33\u001b[0m     \u001b[0mc1\u001b[0m \u001b[1;33m=\u001b[0m \u001b[0mcandidates\u001b[0m\u001b[1;33m[\u001b[0m\u001b[0mcandidate_index\u001b[0m\u001b[1;33m]\u001b[0m\u001b[1;33m\u001b[0m\u001b[0m\n\u001b[0;32m     34\u001b[0m     \u001b[0msal1\u001b[0m \u001b[1;33m=\u001b[0m \u001b[0msalaries\u001b[0m\u001b[1;33m[\u001b[0m\u001b[0mcandidate_index\u001b[0m\u001b[1;33m]\u001b[0m\u001b[1;33m\u001b[0m\u001b[0m\n\u001b[1;32m---> 35\u001b[1;33m     \u001b[0mskip_score\u001b[0m \u001b[1;33m=\u001b[0m \u001b[0mGV\u001b[0m\u001b[1;33m(\u001b[0m\u001b[0mrequest_index\u001b[0m\u001b[1;33m,\u001b[0m \u001b[0mcandidate_index\u001b[0m \u001b[1;33m+\u001b[0m \u001b[1;36m1\u001b[0m\u001b[1;33m,\u001b[0m \u001b[0msalary_left\u001b[0m\u001b[1;33m)\u001b[0m\u001b[1;33m\u001b[0m\u001b[0m\n\u001b[0m\u001b[0;32m     36\u001b[0m     \u001b[1;32mif\u001b[0m \u001b[0mc1\u001b[0m\u001b[1;33m.\u001b[0m\u001b[0mposition\u001b[0m \u001b[1;33m!=\u001b[0m \u001b[0mrequest\u001b[0m\u001b[1;33m[\u001b[0m\u001b[0mrequest_index\u001b[0m\u001b[1;33m]\u001b[0m \u001b[1;32mor\u001b[0m \u001b[0msal1\u001b[0m \u001b[1;33m>\u001b[0m \u001b[0msalary_left\u001b[0m\u001b[1;33m:\u001b[0m\u001b[1;33m\u001b[0m\u001b[0m\n\u001b[0;32m     37\u001b[0m       \u001b[0mmemo\u001b[0m\u001b[1;33m[\u001b[0m\u001b[0mrequest_index\u001b[0m\u001b[1;33m]\u001b[0m\u001b[1;33m[\u001b[0m\u001b[0mcandidate_index\u001b[0m\u001b[1;33m]\u001b[0m\u001b[1;33m[\u001b[0m\u001b[0msalary_left\u001b[0m\u001b[1;33m]\u001b[0m \u001b[1;33m=\u001b[0m \u001b[0mskip_score\u001b[0m\u001b[1;33m\u001b[0m\u001b[0m\n",
        "\u001b[1;32mC:\\Coding\\FanDuel\\src\\analysis\\knapsack.py\u001b[0m in \u001b[0;36mGV\u001b[1;34m(request_index, candidate_index, salary_left)\u001b[0m\n\u001b[0;32m     33\u001b[0m     \u001b[0mc1\u001b[0m \u001b[1;33m=\u001b[0m \u001b[0mcandidates\u001b[0m\u001b[1;33m[\u001b[0m\u001b[0mcandidate_index\u001b[0m\u001b[1;33m]\u001b[0m\u001b[1;33m\u001b[0m\u001b[0m\n\u001b[0;32m     34\u001b[0m     \u001b[0msal1\u001b[0m \u001b[1;33m=\u001b[0m \u001b[0msalaries\u001b[0m\u001b[1;33m[\u001b[0m\u001b[0mcandidate_index\u001b[0m\u001b[1;33m]\u001b[0m\u001b[1;33m\u001b[0m\u001b[0m\n\u001b[1;32m---> 35\u001b[1;33m     \u001b[0mskip_score\u001b[0m \u001b[1;33m=\u001b[0m \u001b[0mGV\u001b[0m\u001b[1;33m(\u001b[0m\u001b[0mrequest_index\u001b[0m\u001b[1;33m,\u001b[0m \u001b[0mcandidate_index\u001b[0m \u001b[1;33m+\u001b[0m \u001b[1;36m1\u001b[0m\u001b[1;33m,\u001b[0m \u001b[0msalary_left\u001b[0m\u001b[1;33m)\u001b[0m\u001b[1;33m\u001b[0m\u001b[0m\n\u001b[0m\u001b[0;32m     36\u001b[0m     \u001b[1;32mif\u001b[0m \u001b[0mc1\u001b[0m\u001b[1;33m.\u001b[0m\u001b[0mposition\u001b[0m \u001b[1;33m!=\u001b[0m \u001b[0mrequest\u001b[0m\u001b[1;33m[\u001b[0m\u001b[0mrequest_index\u001b[0m\u001b[1;33m]\u001b[0m \u001b[1;32mor\u001b[0m \u001b[0msal1\u001b[0m \u001b[1;33m>\u001b[0m \u001b[0msalary_left\u001b[0m\u001b[1;33m:\u001b[0m\u001b[1;33m\u001b[0m\u001b[0m\n\u001b[0;32m     37\u001b[0m       \u001b[0mmemo\u001b[0m\u001b[1;33m[\u001b[0m\u001b[0mrequest_index\u001b[0m\u001b[1;33m]\u001b[0m\u001b[1;33m[\u001b[0m\u001b[0mcandidate_index\u001b[0m\u001b[1;33m]\u001b[0m\u001b[1;33m[\u001b[0m\u001b[0msalary_left\u001b[0m\u001b[1;33m]\u001b[0m \u001b[1;33m=\u001b[0m \u001b[0mskip_score\u001b[0m\u001b[1;33m\u001b[0m\u001b[0m\n",
        "\u001b[1;32mC:\\Coding\\FanDuel\\src\\analysis\\knapsack.py\u001b[0m in \u001b[0;36mGV\u001b[1;34m(request_index, candidate_index, salary_left)\u001b[0m\n\u001b[0;32m     33\u001b[0m     \u001b[0mc1\u001b[0m \u001b[1;33m=\u001b[0m \u001b[0mcandidates\u001b[0m\u001b[1;33m[\u001b[0m\u001b[0mcandidate_index\u001b[0m\u001b[1;33m]\u001b[0m\u001b[1;33m\u001b[0m\u001b[0m\n\u001b[0;32m     34\u001b[0m     \u001b[0msal1\u001b[0m \u001b[1;33m=\u001b[0m \u001b[0msalaries\u001b[0m\u001b[1;33m[\u001b[0m\u001b[0mcandidate_index\u001b[0m\u001b[1;33m]\u001b[0m\u001b[1;33m\u001b[0m\u001b[0m\n\u001b[1;32m---> 35\u001b[1;33m     \u001b[0mskip_score\u001b[0m \u001b[1;33m=\u001b[0m \u001b[0mGV\u001b[0m\u001b[1;33m(\u001b[0m\u001b[0mrequest_index\u001b[0m\u001b[1;33m,\u001b[0m \u001b[0mcandidate_index\u001b[0m \u001b[1;33m+\u001b[0m \u001b[1;36m1\u001b[0m\u001b[1;33m,\u001b[0m \u001b[0msalary_left\u001b[0m\u001b[1;33m)\u001b[0m\u001b[1;33m\u001b[0m\u001b[0m\n\u001b[0m\u001b[0;32m     36\u001b[0m     \u001b[1;32mif\u001b[0m \u001b[0mc1\u001b[0m\u001b[1;33m.\u001b[0m\u001b[0mposition\u001b[0m \u001b[1;33m!=\u001b[0m \u001b[0mrequest\u001b[0m\u001b[1;33m[\u001b[0m\u001b[0mrequest_index\u001b[0m\u001b[1;33m]\u001b[0m \u001b[1;32mor\u001b[0m \u001b[0msal1\u001b[0m \u001b[1;33m>\u001b[0m \u001b[0msalary_left\u001b[0m\u001b[1;33m:\u001b[0m\u001b[1;33m\u001b[0m\u001b[0m\n\u001b[0;32m     37\u001b[0m       \u001b[0mmemo\u001b[0m\u001b[1;33m[\u001b[0m\u001b[0mrequest_index\u001b[0m\u001b[1;33m]\u001b[0m\u001b[1;33m[\u001b[0m\u001b[0mcandidate_index\u001b[0m\u001b[1;33m]\u001b[0m\u001b[1;33m[\u001b[0m\u001b[0msalary_left\u001b[0m\u001b[1;33m]\u001b[0m \u001b[1;33m=\u001b[0m \u001b[0mskip_score\u001b[0m\u001b[1;33m\u001b[0m\u001b[0m\n",
        "\u001b[1;32mC:\\Coding\\FanDuel\\src\\analysis\\knapsack.py\u001b[0m in \u001b[0;36mGV\u001b[1;34m(request_index, candidate_index, salary_left)\u001b[0m\n\u001b[0;32m     33\u001b[0m     \u001b[0mc1\u001b[0m \u001b[1;33m=\u001b[0m \u001b[0mcandidates\u001b[0m\u001b[1;33m[\u001b[0m\u001b[0mcandidate_index\u001b[0m\u001b[1;33m]\u001b[0m\u001b[1;33m\u001b[0m\u001b[0m\n\u001b[0;32m     34\u001b[0m     \u001b[0msal1\u001b[0m \u001b[1;33m=\u001b[0m \u001b[0msalaries\u001b[0m\u001b[1;33m[\u001b[0m\u001b[0mcandidate_index\u001b[0m\u001b[1;33m]\u001b[0m\u001b[1;33m\u001b[0m\u001b[0m\n\u001b[1;32m---> 35\u001b[1;33m     \u001b[0mskip_score\u001b[0m \u001b[1;33m=\u001b[0m \u001b[0mGV\u001b[0m\u001b[1;33m(\u001b[0m\u001b[0mrequest_index\u001b[0m\u001b[1;33m,\u001b[0m \u001b[0mcandidate_index\u001b[0m \u001b[1;33m+\u001b[0m \u001b[1;36m1\u001b[0m\u001b[1;33m,\u001b[0m \u001b[0msalary_left\u001b[0m\u001b[1;33m)\u001b[0m\u001b[1;33m\u001b[0m\u001b[0m\n\u001b[0m\u001b[0;32m     36\u001b[0m     \u001b[1;32mif\u001b[0m \u001b[0mc1\u001b[0m\u001b[1;33m.\u001b[0m\u001b[0mposition\u001b[0m \u001b[1;33m!=\u001b[0m \u001b[0mrequest\u001b[0m\u001b[1;33m[\u001b[0m\u001b[0mrequest_index\u001b[0m\u001b[1;33m]\u001b[0m \u001b[1;32mor\u001b[0m \u001b[0msal1\u001b[0m \u001b[1;33m>\u001b[0m \u001b[0msalary_left\u001b[0m\u001b[1;33m:\u001b[0m\u001b[1;33m\u001b[0m\u001b[0m\n\u001b[0;32m     37\u001b[0m       \u001b[0mmemo\u001b[0m\u001b[1;33m[\u001b[0m\u001b[0mrequest_index\u001b[0m\u001b[1;33m]\u001b[0m\u001b[1;33m[\u001b[0m\u001b[0mcandidate_index\u001b[0m\u001b[1;33m]\u001b[0m\u001b[1;33m[\u001b[0m\u001b[0msalary_left\u001b[0m\u001b[1;33m]\u001b[0m \u001b[1;33m=\u001b[0m \u001b[0mskip_score\u001b[0m\u001b[1;33m\u001b[0m\u001b[0m\n",
        "\u001b[1;32mC:\\Coding\\FanDuel\\src\\analysis\\knapsack.py\u001b[0m in \u001b[0;36mGV\u001b[1;34m(request_index, candidate_index, salary_left)\u001b[0m\n\u001b[0;32m     38\u001b[0m       \u001b[1;32mreturn\u001b[0m \u001b[0mskip_score\u001b[0m\u001b[1;33m\u001b[0m\u001b[0m\n\u001b[0;32m     39\u001b[0m     \u001b[1;32melse\u001b[0m\u001b[1;33m:\u001b[0m\u001b[1;33m\u001b[0m\u001b[0m\n\u001b[1;32m---> 40\u001b[1;33m       \u001b[0mres\u001b[0m \u001b[1;33m=\u001b[0m \u001b[0mmax\u001b[0m\u001b[1;33m(\u001b[0m\u001b[0mskip_score\u001b[0m\u001b[1;33m,\u001b[0m \u001b[0mc1\u001b[0m\u001b[1;33m.\u001b[0m\u001b[0mpts\u001b[0m \u001b[1;33m+\u001b[0m \u001b[0mGV\u001b[0m\u001b[1;33m(\u001b[0m\u001b[0mrequest_index\u001b[0m \u001b[1;33m+\u001b[0m \u001b[1;36m1\u001b[0m\u001b[1;33m,\u001b[0m \u001b[0mcandidate_index\u001b[0m \u001b[1;33m+\u001b[0m \u001b[1;36m1\u001b[0m\u001b[1;33m,\u001b[0m \u001b[0msalary_left\u001b[0m \u001b[1;33m-\u001b[0m \u001b[0msal1\u001b[0m\u001b[1;33m)\u001b[0m\u001b[1;33m)\u001b[0m\u001b[1;33m\u001b[0m\u001b[0m\n\u001b[0m\u001b[0;32m     41\u001b[0m       \u001b[0mmemo\u001b[0m\u001b[1;33m[\u001b[0m\u001b[0mrequest_index\u001b[0m\u001b[1;33m]\u001b[0m\u001b[1;33m[\u001b[0m\u001b[0mcandidate_index\u001b[0m\u001b[1;33m]\u001b[0m\u001b[1;33m[\u001b[0m\u001b[0msalary_left\u001b[0m\u001b[1;33m]\u001b[0m \u001b[1;33m=\u001b[0m \u001b[0mres\u001b[0m\u001b[1;33m\u001b[0m\u001b[0m\n\u001b[0;32m     42\u001b[0m       \u001b[1;32mreturn\u001b[0m \u001b[0mres\u001b[0m\u001b[1;33m\u001b[0m\u001b[0m\n",
        "\u001b[1;32mC:\\Coding\\FanDuel\\src\\analysis\\knapsack.py\u001b[0m in \u001b[0;36mGV\u001b[1;34m(request_index, candidate_index, salary_left)\u001b[0m\n\u001b[0;32m     33\u001b[0m     \u001b[0mc1\u001b[0m \u001b[1;33m=\u001b[0m \u001b[0mcandidates\u001b[0m\u001b[1;33m[\u001b[0m\u001b[0mcandidate_index\u001b[0m\u001b[1;33m]\u001b[0m\u001b[1;33m\u001b[0m\u001b[0m\n\u001b[0;32m     34\u001b[0m     \u001b[0msal1\u001b[0m \u001b[1;33m=\u001b[0m \u001b[0msalaries\u001b[0m\u001b[1;33m[\u001b[0m\u001b[0mcandidate_index\u001b[0m\u001b[1;33m]\u001b[0m\u001b[1;33m\u001b[0m\u001b[0m\n\u001b[1;32m---> 35\u001b[1;33m     \u001b[0mskip_score\u001b[0m \u001b[1;33m=\u001b[0m \u001b[0mGV\u001b[0m\u001b[1;33m(\u001b[0m\u001b[0mrequest_index\u001b[0m\u001b[1;33m,\u001b[0m \u001b[0mcandidate_index\u001b[0m \u001b[1;33m+\u001b[0m \u001b[1;36m1\u001b[0m\u001b[1;33m,\u001b[0m \u001b[0msalary_left\u001b[0m\u001b[1;33m)\u001b[0m\u001b[1;33m\u001b[0m\u001b[0m\n\u001b[0m\u001b[0;32m     36\u001b[0m     \u001b[1;32mif\u001b[0m \u001b[0mc1\u001b[0m\u001b[1;33m.\u001b[0m\u001b[0mposition\u001b[0m \u001b[1;33m!=\u001b[0m \u001b[0mrequest\u001b[0m\u001b[1;33m[\u001b[0m\u001b[0mrequest_index\u001b[0m\u001b[1;33m]\u001b[0m \u001b[1;32mor\u001b[0m \u001b[0msal1\u001b[0m \u001b[1;33m>\u001b[0m \u001b[0msalary_left\u001b[0m\u001b[1;33m:\u001b[0m\u001b[1;33m\u001b[0m\u001b[0m\n\u001b[0;32m     37\u001b[0m       \u001b[0mmemo\u001b[0m\u001b[1;33m[\u001b[0m\u001b[0mrequest_index\u001b[0m\u001b[1;33m]\u001b[0m\u001b[1;33m[\u001b[0m\u001b[0mcandidate_index\u001b[0m\u001b[1;33m]\u001b[0m\u001b[1;33m[\u001b[0m\u001b[0msalary_left\u001b[0m\u001b[1;33m]\u001b[0m \u001b[1;33m=\u001b[0m \u001b[0mskip_score\u001b[0m\u001b[1;33m\u001b[0m\u001b[0m\n",
        "\u001b[1;32mC:\\Coding\\FanDuel\\src\\analysis\\knapsack.py\u001b[0m in \u001b[0;36mGV\u001b[1;34m(request_index, candidate_index, salary_left)\u001b[0m\n\u001b[0;32m     38\u001b[0m       \u001b[1;32mreturn\u001b[0m \u001b[0mskip_score\u001b[0m\u001b[1;33m\u001b[0m\u001b[0m\n\u001b[0;32m     39\u001b[0m     \u001b[1;32melse\u001b[0m\u001b[1;33m:\u001b[0m\u001b[1;33m\u001b[0m\u001b[0m\n\u001b[1;32m---> 40\u001b[1;33m       \u001b[0mres\u001b[0m \u001b[1;33m=\u001b[0m \u001b[0mmax\u001b[0m\u001b[1;33m(\u001b[0m\u001b[0mskip_score\u001b[0m\u001b[1;33m,\u001b[0m \u001b[0mc1\u001b[0m\u001b[1;33m.\u001b[0m\u001b[0mpts\u001b[0m \u001b[1;33m+\u001b[0m \u001b[0mGV\u001b[0m\u001b[1;33m(\u001b[0m\u001b[0mrequest_index\u001b[0m \u001b[1;33m+\u001b[0m \u001b[1;36m1\u001b[0m\u001b[1;33m,\u001b[0m \u001b[0mcandidate_index\u001b[0m \u001b[1;33m+\u001b[0m \u001b[1;36m1\u001b[0m\u001b[1;33m,\u001b[0m \u001b[0msalary_left\u001b[0m \u001b[1;33m-\u001b[0m \u001b[0msal1\u001b[0m\u001b[1;33m)\u001b[0m\u001b[1;33m)\u001b[0m\u001b[1;33m\u001b[0m\u001b[0m\n\u001b[0m\u001b[0;32m     41\u001b[0m       \u001b[0mmemo\u001b[0m\u001b[1;33m[\u001b[0m\u001b[0mrequest_index\u001b[0m\u001b[1;33m]\u001b[0m\u001b[1;33m[\u001b[0m\u001b[0mcandidate_index\u001b[0m\u001b[1;33m]\u001b[0m\u001b[1;33m[\u001b[0m\u001b[0msalary_left\u001b[0m\u001b[1;33m]\u001b[0m \u001b[1;33m=\u001b[0m \u001b[0mres\u001b[0m\u001b[1;33m\u001b[0m\u001b[0m\n\u001b[0;32m     42\u001b[0m       \u001b[1;32mreturn\u001b[0m \u001b[0mres\u001b[0m\u001b[1;33m\u001b[0m\u001b[0m\n",
        "\u001b[1;32mC:\\Coding\\FanDuel\\src\\analysis\\knapsack.py\u001b[0m in \u001b[0;36mGV\u001b[1;34m(request_index, candidate_index, salary_left)\u001b[0m\n\u001b[0;32m     33\u001b[0m     \u001b[0mc1\u001b[0m \u001b[1;33m=\u001b[0m \u001b[0mcandidates\u001b[0m\u001b[1;33m[\u001b[0m\u001b[0mcandidate_index\u001b[0m\u001b[1;33m]\u001b[0m\u001b[1;33m\u001b[0m\u001b[0m\n\u001b[0;32m     34\u001b[0m     \u001b[0msal1\u001b[0m \u001b[1;33m=\u001b[0m \u001b[0msalaries\u001b[0m\u001b[1;33m[\u001b[0m\u001b[0mcandidate_index\u001b[0m\u001b[1;33m]\u001b[0m\u001b[1;33m\u001b[0m\u001b[0m\n\u001b[1;32m---> 35\u001b[1;33m     \u001b[0mskip_score\u001b[0m \u001b[1;33m=\u001b[0m \u001b[0mGV\u001b[0m\u001b[1;33m(\u001b[0m\u001b[0mrequest_index\u001b[0m\u001b[1;33m,\u001b[0m \u001b[0mcandidate_index\u001b[0m \u001b[1;33m+\u001b[0m \u001b[1;36m1\u001b[0m\u001b[1;33m,\u001b[0m \u001b[0msalary_left\u001b[0m\u001b[1;33m)\u001b[0m\u001b[1;33m\u001b[0m\u001b[0m\n\u001b[0m\u001b[0;32m     36\u001b[0m     \u001b[1;32mif\u001b[0m \u001b[0mc1\u001b[0m\u001b[1;33m.\u001b[0m\u001b[0mposition\u001b[0m \u001b[1;33m!=\u001b[0m \u001b[0mrequest\u001b[0m\u001b[1;33m[\u001b[0m\u001b[0mrequest_index\u001b[0m\u001b[1;33m]\u001b[0m \u001b[1;32mor\u001b[0m \u001b[0msal1\u001b[0m \u001b[1;33m>\u001b[0m \u001b[0msalary_left\u001b[0m\u001b[1;33m:\u001b[0m\u001b[1;33m\u001b[0m\u001b[0m\n\u001b[0;32m     37\u001b[0m       \u001b[0mmemo\u001b[0m\u001b[1;33m[\u001b[0m\u001b[0mrequest_index\u001b[0m\u001b[1;33m]\u001b[0m\u001b[1;33m[\u001b[0m\u001b[0mcandidate_index\u001b[0m\u001b[1;33m]\u001b[0m\u001b[1;33m[\u001b[0m\u001b[0msalary_left\u001b[0m\u001b[1;33m]\u001b[0m \u001b[1;33m=\u001b[0m \u001b[0mskip_score\u001b[0m\u001b[1;33m\u001b[0m\u001b[0m\n",
        "\u001b[1;32mC:\\Coding\\FanDuel\\src\\analysis\\knapsack.py\u001b[0m in \u001b[0;36mGV\u001b[1;34m(request_index, candidate_index, salary_left)\u001b[0m\n\u001b[0;32m     33\u001b[0m     \u001b[0mc1\u001b[0m \u001b[1;33m=\u001b[0m \u001b[0mcandidates\u001b[0m\u001b[1;33m[\u001b[0m\u001b[0mcandidate_index\u001b[0m\u001b[1;33m]\u001b[0m\u001b[1;33m\u001b[0m\u001b[0m\n\u001b[0;32m     34\u001b[0m     \u001b[0msal1\u001b[0m \u001b[1;33m=\u001b[0m \u001b[0msalaries\u001b[0m\u001b[1;33m[\u001b[0m\u001b[0mcandidate_index\u001b[0m\u001b[1;33m]\u001b[0m\u001b[1;33m\u001b[0m\u001b[0m\n\u001b[1;32m---> 35\u001b[1;33m     \u001b[0mskip_score\u001b[0m \u001b[1;33m=\u001b[0m \u001b[0mGV\u001b[0m\u001b[1;33m(\u001b[0m\u001b[0mrequest_index\u001b[0m\u001b[1;33m,\u001b[0m \u001b[0mcandidate_index\u001b[0m \u001b[1;33m+\u001b[0m \u001b[1;36m1\u001b[0m\u001b[1;33m,\u001b[0m \u001b[0msalary_left\u001b[0m\u001b[1;33m)\u001b[0m\u001b[1;33m\u001b[0m\u001b[0m\n\u001b[0m\u001b[0;32m     36\u001b[0m     \u001b[1;32mif\u001b[0m \u001b[0mc1\u001b[0m\u001b[1;33m.\u001b[0m\u001b[0mposition\u001b[0m \u001b[1;33m!=\u001b[0m \u001b[0mrequest\u001b[0m\u001b[1;33m[\u001b[0m\u001b[0mrequest_index\u001b[0m\u001b[1;33m]\u001b[0m \u001b[1;32mor\u001b[0m \u001b[0msal1\u001b[0m \u001b[1;33m>\u001b[0m \u001b[0msalary_left\u001b[0m\u001b[1;33m:\u001b[0m\u001b[1;33m\u001b[0m\u001b[0m\n\u001b[0;32m     37\u001b[0m       \u001b[0mmemo\u001b[0m\u001b[1;33m[\u001b[0m\u001b[0mrequest_index\u001b[0m\u001b[1;33m]\u001b[0m\u001b[1;33m[\u001b[0m\u001b[0mcandidate_index\u001b[0m\u001b[1;33m]\u001b[0m\u001b[1;33m[\u001b[0m\u001b[0msalary_left\u001b[0m\u001b[1;33m]\u001b[0m \u001b[1;33m=\u001b[0m \u001b[0mskip_score\u001b[0m\u001b[1;33m\u001b[0m\u001b[0m\n",
        "\u001b[1;32mC:\\Coding\\FanDuel\\src\\analysis\\knapsack.py\u001b[0m in \u001b[0;36mGV\u001b[1;34m(request_index, candidate_index, salary_left)\u001b[0m\n\u001b[0;32m     33\u001b[0m     \u001b[0mc1\u001b[0m \u001b[1;33m=\u001b[0m \u001b[0mcandidates\u001b[0m\u001b[1;33m[\u001b[0m\u001b[0mcandidate_index\u001b[0m\u001b[1;33m]\u001b[0m\u001b[1;33m\u001b[0m\u001b[0m\n\u001b[0;32m     34\u001b[0m     \u001b[0msal1\u001b[0m \u001b[1;33m=\u001b[0m \u001b[0msalaries\u001b[0m\u001b[1;33m[\u001b[0m\u001b[0mcandidate_index\u001b[0m\u001b[1;33m]\u001b[0m\u001b[1;33m\u001b[0m\u001b[0m\n\u001b[1;32m---> 35\u001b[1;33m     \u001b[0mskip_score\u001b[0m \u001b[1;33m=\u001b[0m \u001b[0mGV\u001b[0m\u001b[1;33m(\u001b[0m\u001b[0mrequest_index\u001b[0m\u001b[1;33m,\u001b[0m \u001b[0mcandidate_index\u001b[0m \u001b[1;33m+\u001b[0m \u001b[1;36m1\u001b[0m\u001b[1;33m,\u001b[0m \u001b[0msalary_left\u001b[0m\u001b[1;33m)\u001b[0m\u001b[1;33m\u001b[0m\u001b[0m\n\u001b[0m\u001b[0;32m     36\u001b[0m     \u001b[1;32mif\u001b[0m \u001b[0mc1\u001b[0m\u001b[1;33m.\u001b[0m\u001b[0mposition\u001b[0m \u001b[1;33m!=\u001b[0m \u001b[0mrequest\u001b[0m\u001b[1;33m[\u001b[0m\u001b[0mrequest_index\u001b[0m\u001b[1;33m]\u001b[0m \u001b[1;32mor\u001b[0m \u001b[0msal1\u001b[0m \u001b[1;33m>\u001b[0m \u001b[0msalary_left\u001b[0m\u001b[1;33m:\u001b[0m\u001b[1;33m\u001b[0m\u001b[0m\n\u001b[0;32m     37\u001b[0m       \u001b[0mmemo\u001b[0m\u001b[1;33m[\u001b[0m\u001b[0mrequest_index\u001b[0m\u001b[1;33m]\u001b[0m\u001b[1;33m[\u001b[0m\u001b[0mcandidate_index\u001b[0m\u001b[1;33m]\u001b[0m\u001b[1;33m[\u001b[0m\u001b[0msalary_left\u001b[0m\u001b[1;33m]\u001b[0m \u001b[1;33m=\u001b[0m \u001b[0mskip_score\u001b[0m\u001b[1;33m\u001b[0m\u001b[0m\n",
        "\u001b[1;32mC:\\Coding\\FanDuel\\src\\analysis\\knapsack.py\u001b[0m in \u001b[0;36mGV\u001b[1;34m(request_index, candidate_index, salary_left)\u001b[0m\n\u001b[0;32m     33\u001b[0m     \u001b[0mc1\u001b[0m \u001b[1;33m=\u001b[0m \u001b[0mcandidates\u001b[0m\u001b[1;33m[\u001b[0m\u001b[0mcandidate_index\u001b[0m\u001b[1;33m]\u001b[0m\u001b[1;33m\u001b[0m\u001b[0m\n\u001b[0;32m     34\u001b[0m     \u001b[0msal1\u001b[0m \u001b[1;33m=\u001b[0m \u001b[0msalaries\u001b[0m\u001b[1;33m[\u001b[0m\u001b[0mcandidate_index\u001b[0m\u001b[1;33m]\u001b[0m\u001b[1;33m\u001b[0m\u001b[0m\n\u001b[1;32m---> 35\u001b[1;33m     \u001b[0mskip_score\u001b[0m \u001b[1;33m=\u001b[0m \u001b[0mGV\u001b[0m\u001b[1;33m(\u001b[0m\u001b[0mrequest_index\u001b[0m\u001b[1;33m,\u001b[0m \u001b[0mcandidate_index\u001b[0m \u001b[1;33m+\u001b[0m \u001b[1;36m1\u001b[0m\u001b[1;33m,\u001b[0m \u001b[0msalary_left\u001b[0m\u001b[1;33m)\u001b[0m\u001b[1;33m\u001b[0m\u001b[0m\n\u001b[0m\u001b[0;32m     36\u001b[0m     \u001b[1;32mif\u001b[0m \u001b[0mc1\u001b[0m\u001b[1;33m.\u001b[0m\u001b[0mposition\u001b[0m \u001b[1;33m!=\u001b[0m \u001b[0mrequest\u001b[0m\u001b[1;33m[\u001b[0m\u001b[0mrequest_index\u001b[0m\u001b[1;33m]\u001b[0m \u001b[1;32mor\u001b[0m \u001b[0msal1\u001b[0m \u001b[1;33m>\u001b[0m \u001b[0msalary_left\u001b[0m\u001b[1;33m:\u001b[0m\u001b[1;33m\u001b[0m\u001b[0m\n\u001b[0;32m     37\u001b[0m       \u001b[0mmemo\u001b[0m\u001b[1;33m[\u001b[0m\u001b[0mrequest_index\u001b[0m\u001b[1;33m]\u001b[0m\u001b[1;33m[\u001b[0m\u001b[0mcandidate_index\u001b[0m\u001b[1;33m]\u001b[0m\u001b[1;33m[\u001b[0m\u001b[0msalary_left\u001b[0m\u001b[1;33m]\u001b[0m \u001b[1;33m=\u001b[0m \u001b[0mskip_score\u001b[0m\u001b[1;33m\u001b[0m\u001b[0m\n",
        "\u001b[1;32mC:\\Coding\\FanDuel\\src\\analysis\\knapsack.py\u001b[0m in \u001b[0;36mGV\u001b[1;34m(request_index, candidate_index, salary_left)\u001b[0m\n\u001b[0;32m     33\u001b[0m     \u001b[0mc1\u001b[0m \u001b[1;33m=\u001b[0m \u001b[0mcandidates\u001b[0m\u001b[1;33m[\u001b[0m\u001b[0mcandidate_index\u001b[0m\u001b[1;33m]\u001b[0m\u001b[1;33m\u001b[0m\u001b[0m\n\u001b[0;32m     34\u001b[0m     \u001b[0msal1\u001b[0m \u001b[1;33m=\u001b[0m \u001b[0msalaries\u001b[0m\u001b[1;33m[\u001b[0m\u001b[0mcandidate_index\u001b[0m\u001b[1;33m]\u001b[0m\u001b[1;33m\u001b[0m\u001b[0m\n\u001b[1;32m---> 35\u001b[1;33m     \u001b[0mskip_score\u001b[0m \u001b[1;33m=\u001b[0m \u001b[0mGV\u001b[0m\u001b[1;33m(\u001b[0m\u001b[0mrequest_index\u001b[0m\u001b[1;33m,\u001b[0m \u001b[0mcandidate_index\u001b[0m \u001b[1;33m+\u001b[0m \u001b[1;36m1\u001b[0m\u001b[1;33m,\u001b[0m \u001b[0msalary_left\u001b[0m\u001b[1;33m)\u001b[0m\u001b[1;33m\u001b[0m\u001b[0m\n\u001b[0m\u001b[0;32m     36\u001b[0m     \u001b[1;32mif\u001b[0m \u001b[0mc1\u001b[0m\u001b[1;33m.\u001b[0m\u001b[0mposition\u001b[0m \u001b[1;33m!=\u001b[0m \u001b[0mrequest\u001b[0m\u001b[1;33m[\u001b[0m\u001b[0mrequest_index\u001b[0m\u001b[1;33m]\u001b[0m \u001b[1;32mor\u001b[0m \u001b[0msal1\u001b[0m \u001b[1;33m>\u001b[0m \u001b[0msalary_left\u001b[0m\u001b[1;33m:\u001b[0m\u001b[1;33m\u001b[0m\u001b[0m\n\u001b[0;32m     37\u001b[0m       \u001b[0mmemo\u001b[0m\u001b[1;33m[\u001b[0m\u001b[0mrequest_index\u001b[0m\u001b[1;33m]\u001b[0m\u001b[1;33m[\u001b[0m\u001b[0mcandidate_index\u001b[0m\u001b[1;33m]\u001b[0m\u001b[1;33m[\u001b[0m\u001b[0msalary_left\u001b[0m\u001b[1;33m]\u001b[0m \u001b[1;33m=\u001b[0m \u001b[0mskip_score\u001b[0m\u001b[1;33m\u001b[0m\u001b[0m\n",
        "\u001b[1;32mC:\\Coding\\FanDuel\\src\\analysis\\knapsack.py\u001b[0m in \u001b[0;36mGV\u001b[1;34m(request_index, candidate_index, salary_left)\u001b[0m\n\u001b[0;32m     33\u001b[0m     \u001b[0mc1\u001b[0m \u001b[1;33m=\u001b[0m \u001b[0mcandidates\u001b[0m\u001b[1;33m[\u001b[0m\u001b[0mcandidate_index\u001b[0m\u001b[1;33m]\u001b[0m\u001b[1;33m\u001b[0m\u001b[0m\n\u001b[0;32m     34\u001b[0m     \u001b[0msal1\u001b[0m \u001b[1;33m=\u001b[0m \u001b[0msalaries\u001b[0m\u001b[1;33m[\u001b[0m\u001b[0mcandidate_index\u001b[0m\u001b[1;33m]\u001b[0m\u001b[1;33m\u001b[0m\u001b[0m\n\u001b[1;32m---> 35\u001b[1;33m     \u001b[0mskip_score\u001b[0m \u001b[1;33m=\u001b[0m \u001b[0mGV\u001b[0m\u001b[1;33m(\u001b[0m\u001b[0mrequest_index\u001b[0m\u001b[1;33m,\u001b[0m \u001b[0mcandidate_index\u001b[0m \u001b[1;33m+\u001b[0m \u001b[1;36m1\u001b[0m\u001b[1;33m,\u001b[0m \u001b[0msalary_left\u001b[0m\u001b[1;33m)\u001b[0m\u001b[1;33m\u001b[0m\u001b[0m\n\u001b[0m\u001b[0;32m     36\u001b[0m     \u001b[1;32mif\u001b[0m \u001b[0mc1\u001b[0m\u001b[1;33m.\u001b[0m\u001b[0mposition\u001b[0m \u001b[1;33m!=\u001b[0m \u001b[0mrequest\u001b[0m\u001b[1;33m[\u001b[0m\u001b[0mrequest_index\u001b[0m\u001b[1;33m]\u001b[0m \u001b[1;32mor\u001b[0m \u001b[0msal1\u001b[0m \u001b[1;33m>\u001b[0m \u001b[0msalary_left\u001b[0m\u001b[1;33m:\u001b[0m\u001b[1;33m\u001b[0m\u001b[0m\n\u001b[0;32m     37\u001b[0m       \u001b[0mmemo\u001b[0m\u001b[1;33m[\u001b[0m\u001b[0mrequest_index\u001b[0m\u001b[1;33m]\u001b[0m\u001b[1;33m[\u001b[0m\u001b[0mcandidate_index\u001b[0m\u001b[1;33m]\u001b[0m\u001b[1;33m[\u001b[0m\u001b[0msalary_left\u001b[0m\u001b[1;33m]\u001b[0m \u001b[1;33m=\u001b[0m \u001b[0mskip_score\u001b[0m\u001b[1;33m\u001b[0m\u001b[0m\n",
        "\u001b[1;32mC:\\Coding\\FanDuel\\src\\analysis\\knapsack.py\u001b[0m in \u001b[0;36mGV\u001b[1;34m(request_index, candidate_index, salary_left)\u001b[0m\n\u001b[0;32m     33\u001b[0m     \u001b[0mc1\u001b[0m \u001b[1;33m=\u001b[0m \u001b[0mcandidates\u001b[0m\u001b[1;33m[\u001b[0m\u001b[0mcandidate_index\u001b[0m\u001b[1;33m]\u001b[0m\u001b[1;33m\u001b[0m\u001b[0m\n\u001b[0;32m     34\u001b[0m     \u001b[0msal1\u001b[0m \u001b[1;33m=\u001b[0m \u001b[0msalaries\u001b[0m\u001b[1;33m[\u001b[0m\u001b[0mcandidate_index\u001b[0m\u001b[1;33m]\u001b[0m\u001b[1;33m\u001b[0m\u001b[0m\n\u001b[1;32m---> 35\u001b[1;33m     \u001b[0mskip_score\u001b[0m \u001b[1;33m=\u001b[0m \u001b[0mGV\u001b[0m\u001b[1;33m(\u001b[0m\u001b[0mrequest_index\u001b[0m\u001b[1;33m,\u001b[0m \u001b[0mcandidate_index\u001b[0m \u001b[1;33m+\u001b[0m \u001b[1;36m1\u001b[0m\u001b[1;33m,\u001b[0m \u001b[0msalary_left\u001b[0m\u001b[1;33m)\u001b[0m\u001b[1;33m\u001b[0m\u001b[0m\n\u001b[0m\u001b[0;32m     36\u001b[0m     \u001b[1;32mif\u001b[0m \u001b[0mc1\u001b[0m\u001b[1;33m.\u001b[0m\u001b[0mposition\u001b[0m \u001b[1;33m!=\u001b[0m \u001b[0mrequest\u001b[0m\u001b[1;33m[\u001b[0m\u001b[0mrequest_index\u001b[0m\u001b[1;33m]\u001b[0m \u001b[1;32mor\u001b[0m \u001b[0msal1\u001b[0m \u001b[1;33m>\u001b[0m \u001b[0msalary_left\u001b[0m\u001b[1;33m:\u001b[0m\u001b[1;33m\u001b[0m\u001b[0m\n\u001b[0;32m     37\u001b[0m       \u001b[0mmemo\u001b[0m\u001b[1;33m[\u001b[0m\u001b[0mrequest_index\u001b[0m\u001b[1;33m]\u001b[0m\u001b[1;33m[\u001b[0m\u001b[0mcandidate_index\u001b[0m\u001b[1;33m]\u001b[0m\u001b[1;33m[\u001b[0m\u001b[0msalary_left\u001b[0m\u001b[1;33m]\u001b[0m \u001b[1;33m=\u001b[0m \u001b[0mskip_score\u001b[0m\u001b[1;33m\u001b[0m\u001b[0m\n",
        "\u001b[1;32mC:\\Coding\\FanDuel\\src\\analysis\\knapsack.py\u001b[0m in \u001b[0;36mGV\u001b[1;34m(request_index, candidate_index, salary_left)\u001b[0m\n\u001b[0;32m     33\u001b[0m     \u001b[0mc1\u001b[0m \u001b[1;33m=\u001b[0m \u001b[0mcandidates\u001b[0m\u001b[1;33m[\u001b[0m\u001b[0mcandidate_index\u001b[0m\u001b[1;33m]\u001b[0m\u001b[1;33m\u001b[0m\u001b[0m\n\u001b[0;32m     34\u001b[0m     \u001b[0msal1\u001b[0m \u001b[1;33m=\u001b[0m \u001b[0msalaries\u001b[0m\u001b[1;33m[\u001b[0m\u001b[0mcandidate_index\u001b[0m\u001b[1;33m]\u001b[0m\u001b[1;33m\u001b[0m\u001b[0m\n\u001b[1;32m---> 35\u001b[1;33m     \u001b[0mskip_score\u001b[0m \u001b[1;33m=\u001b[0m \u001b[0mGV\u001b[0m\u001b[1;33m(\u001b[0m\u001b[0mrequest_index\u001b[0m\u001b[1;33m,\u001b[0m \u001b[0mcandidate_index\u001b[0m \u001b[1;33m+\u001b[0m \u001b[1;36m1\u001b[0m\u001b[1;33m,\u001b[0m \u001b[0msalary_left\u001b[0m\u001b[1;33m)\u001b[0m\u001b[1;33m\u001b[0m\u001b[0m\n\u001b[0m\u001b[0;32m     36\u001b[0m     \u001b[1;32mif\u001b[0m \u001b[0mc1\u001b[0m\u001b[1;33m.\u001b[0m\u001b[0mposition\u001b[0m \u001b[1;33m!=\u001b[0m \u001b[0mrequest\u001b[0m\u001b[1;33m[\u001b[0m\u001b[0mrequest_index\u001b[0m\u001b[1;33m]\u001b[0m \u001b[1;32mor\u001b[0m \u001b[0msal1\u001b[0m \u001b[1;33m>\u001b[0m \u001b[0msalary_left\u001b[0m\u001b[1;33m:\u001b[0m\u001b[1;33m\u001b[0m\u001b[0m\n\u001b[0;32m     37\u001b[0m       \u001b[0mmemo\u001b[0m\u001b[1;33m[\u001b[0m\u001b[0mrequest_index\u001b[0m\u001b[1;33m]\u001b[0m\u001b[1;33m[\u001b[0m\u001b[0mcandidate_index\u001b[0m\u001b[1;33m]\u001b[0m\u001b[1;33m[\u001b[0m\u001b[0msalary_left\u001b[0m\u001b[1;33m]\u001b[0m \u001b[1;33m=\u001b[0m \u001b[0mskip_score\u001b[0m\u001b[1;33m\u001b[0m\u001b[0m\n",
        "\u001b[1;32mC:\\Coding\\FanDuel\\src\\analysis\\knapsack.py\u001b[0m in \u001b[0;36mGV\u001b[1;34m(request_index, candidate_index, salary_left)\u001b[0m\n\u001b[0;32m     33\u001b[0m     \u001b[0mc1\u001b[0m \u001b[1;33m=\u001b[0m \u001b[0mcandidates\u001b[0m\u001b[1;33m[\u001b[0m\u001b[0mcandidate_index\u001b[0m\u001b[1;33m]\u001b[0m\u001b[1;33m\u001b[0m\u001b[0m\n\u001b[0;32m     34\u001b[0m     \u001b[0msal1\u001b[0m \u001b[1;33m=\u001b[0m \u001b[0msalaries\u001b[0m\u001b[1;33m[\u001b[0m\u001b[0mcandidate_index\u001b[0m\u001b[1;33m]\u001b[0m\u001b[1;33m\u001b[0m\u001b[0m\n\u001b[1;32m---> 35\u001b[1;33m     \u001b[0mskip_score\u001b[0m \u001b[1;33m=\u001b[0m \u001b[0mGV\u001b[0m\u001b[1;33m(\u001b[0m\u001b[0mrequest_index\u001b[0m\u001b[1;33m,\u001b[0m \u001b[0mcandidate_index\u001b[0m \u001b[1;33m+\u001b[0m \u001b[1;36m1\u001b[0m\u001b[1;33m,\u001b[0m \u001b[0msalary_left\u001b[0m\u001b[1;33m)\u001b[0m\u001b[1;33m\u001b[0m\u001b[0m\n\u001b[0m\u001b[0;32m     36\u001b[0m     \u001b[1;32mif\u001b[0m \u001b[0mc1\u001b[0m\u001b[1;33m.\u001b[0m\u001b[0mposition\u001b[0m \u001b[1;33m!=\u001b[0m \u001b[0mrequest\u001b[0m\u001b[1;33m[\u001b[0m\u001b[0mrequest_index\u001b[0m\u001b[1;33m]\u001b[0m \u001b[1;32mor\u001b[0m \u001b[0msal1\u001b[0m \u001b[1;33m>\u001b[0m \u001b[0msalary_left\u001b[0m\u001b[1;33m:\u001b[0m\u001b[1;33m\u001b[0m\u001b[0m\n\u001b[0;32m     37\u001b[0m       \u001b[0mmemo\u001b[0m\u001b[1;33m[\u001b[0m\u001b[0mrequest_index\u001b[0m\u001b[1;33m]\u001b[0m\u001b[1;33m[\u001b[0m\u001b[0mcandidate_index\u001b[0m\u001b[1;33m]\u001b[0m\u001b[1;33m[\u001b[0m\u001b[0msalary_left\u001b[0m\u001b[1;33m]\u001b[0m \u001b[1;33m=\u001b[0m \u001b[0mskip_score\u001b[0m\u001b[1;33m\u001b[0m\u001b[0m\n",
        "\u001b[1;32mC:\\Coding\\FanDuel\\src\\analysis\\knapsack.py\u001b[0m in \u001b[0;36mGV\u001b[1;34m(request_index, candidate_index, salary_left)\u001b[0m\n\u001b[0;32m     33\u001b[0m     \u001b[0mc1\u001b[0m \u001b[1;33m=\u001b[0m \u001b[0mcandidates\u001b[0m\u001b[1;33m[\u001b[0m\u001b[0mcandidate_index\u001b[0m\u001b[1;33m]\u001b[0m\u001b[1;33m\u001b[0m\u001b[0m\n\u001b[0;32m     34\u001b[0m     \u001b[0msal1\u001b[0m \u001b[1;33m=\u001b[0m \u001b[0msalaries\u001b[0m\u001b[1;33m[\u001b[0m\u001b[0mcandidate_index\u001b[0m\u001b[1;33m]\u001b[0m\u001b[1;33m\u001b[0m\u001b[0m\n\u001b[1;32m---> 35\u001b[1;33m     \u001b[0mskip_score\u001b[0m \u001b[1;33m=\u001b[0m \u001b[0mGV\u001b[0m\u001b[1;33m(\u001b[0m\u001b[0mrequest_index\u001b[0m\u001b[1;33m,\u001b[0m \u001b[0mcandidate_index\u001b[0m \u001b[1;33m+\u001b[0m \u001b[1;36m1\u001b[0m\u001b[1;33m,\u001b[0m \u001b[0msalary_left\u001b[0m\u001b[1;33m)\u001b[0m\u001b[1;33m\u001b[0m\u001b[0m\n\u001b[0m\u001b[0;32m     36\u001b[0m     \u001b[1;32mif\u001b[0m \u001b[0mc1\u001b[0m\u001b[1;33m.\u001b[0m\u001b[0mposition\u001b[0m \u001b[1;33m!=\u001b[0m \u001b[0mrequest\u001b[0m\u001b[1;33m[\u001b[0m\u001b[0mrequest_index\u001b[0m\u001b[1;33m]\u001b[0m \u001b[1;32mor\u001b[0m \u001b[0msal1\u001b[0m \u001b[1;33m>\u001b[0m \u001b[0msalary_left\u001b[0m\u001b[1;33m:\u001b[0m\u001b[1;33m\u001b[0m\u001b[0m\n\u001b[0;32m     37\u001b[0m       \u001b[0mmemo\u001b[0m\u001b[1;33m[\u001b[0m\u001b[0mrequest_index\u001b[0m\u001b[1;33m]\u001b[0m\u001b[1;33m[\u001b[0m\u001b[0mcandidate_index\u001b[0m\u001b[1;33m]\u001b[0m\u001b[1;33m[\u001b[0m\u001b[0msalary_left\u001b[0m\u001b[1;33m]\u001b[0m \u001b[1;33m=\u001b[0m \u001b[0mskip_score\u001b[0m\u001b[1;33m\u001b[0m\u001b[0m\n",
        "\u001b[1;32mC:\\Coding\\FanDuel\\src\\analysis\\knapsack.py\u001b[0m in \u001b[0;36mGV\u001b[1;34m(request_index, candidate_index, salary_left)\u001b[0m\n\u001b[0;32m     33\u001b[0m     \u001b[0mc1\u001b[0m \u001b[1;33m=\u001b[0m \u001b[0mcandidates\u001b[0m\u001b[1;33m[\u001b[0m\u001b[0mcandidate_index\u001b[0m\u001b[1;33m]\u001b[0m\u001b[1;33m\u001b[0m\u001b[0m\n\u001b[0;32m     34\u001b[0m     \u001b[0msal1\u001b[0m \u001b[1;33m=\u001b[0m \u001b[0msalaries\u001b[0m\u001b[1;33m[\u001b[0m\u001b[0mcandidate_index\u001b[0m\u001b[1;33m]\u001b[0m\u001b[1;33m\u001b[0m\u001b[0m\n\u001b[1;32m---> 35\u001b[1;33m     \u001b[0mskip_score\u001b[0m \u001b[1;33m=\u001b[0m \u001b[0mGV\u001b[0m\u001b[1;33m(\u001b[0m\u001b[0mrequest_index\u001b[0m\u001b[1;33m,\u001b[0m \u001b[0mcandidate_index\u001b[0m \u001b[1;33m+\u001b[0m \u001b[1;36m1\u001b[0m\u001b[1;33m,\u001b[0m \u001b[0msalary_left\u001b[0m\u001b[1;33m)\u001b[0m\u001b[1;33m\u001b[0m\u001b[0m\n\u001b[0m\u001b[0;32m     36\u001b[0m     \u001b[1;32mif\u001b[0m \u001b[0mc1\u001b[0m\u001b[1;33m.\u001b[0m\u001b[0mposition\u001b[0m \u001b[1;33m!=\u001b[0m \u001b[0mrequest\u001b[0m\u001b[1;33m[\u001b[0m\u001b[0mrequest_index\u001b[0m\u001b[1;33m]\u001b[0m \u001b[1;32mor\u001b[0m \u001b[0msal1\u001b[0m \u001b[1;33m>\u001b[0m \u001b[0msalary_left\u001b[0m\u001b[1;33m:\u001b[0m\u001b[1;33m\u001b[0m\u001b[0m\n\u001b[0;32m     37\u001b[0m       \u001b[0mmemo\u001b[0m\u001b[1;33m[\u001b[0m\u001b[0mrequest_index\u001b[0m\u001b[1;33m]\u001b[0m\u001b[1;33m[\u001b[0m\u001b[0mcandidate_index\u001b[0m\u001b[1;33m]\u001b[0m\u001b[1;33m[\u001b[0m\u001b[0msalary_left\u001b[0m\u001b[1;33m]\u001b[0m \u001b[1;33m=\u001b[0m \u001b[0mskip_score\u001b[0m\u001b[1;33m\u001b[0m\u001b[0m\n",
        "\u001b[1;32mC:\\Coding\\FanDuel\\src\\analysis\\knapsack.py\u001b[0m in \u001b[0;36mGV\u001b[1;34m(request_index, candidate_index, salary_left)\u001b[0m\n\u001b[0;32m     33\u001b[0m     \u001b[0mc1\u001b[0m \u001b[1;33m=\u001b[0m \u001b[0mcandidates\u001b[0m\u001b[1;33m[\u001b[0m\u001b[0mcandidate_index\u001b[0m\u001b[1;33m]\u001b[0m\u001b[1;33m\u001b[0m\u001b[0m\n\u001b[0;32m     34\u001b[0m     \u001b[0msal1\u001b[0m \u001b[1;33m=\u001b[0m \u001b[0msalaries\u001b[0m\u001b[1;33m[\u001b[0m\u001b[0mcandidate_index\u001b[0m\u001b[1;33m]\u001b[0m\u001b[1;33m\u001b[0m\u001b[0m\n\u001b[1;32m---> 35\u001b[1;33m     \u001b[0mskip_score\u001b[0m \u001b[1;33m=\u001b[0m \u001b[0mGV\u001b[0m\u001b[1;33m(\u001b[0m\u001b[0mrequest_index\u001b[0m\u001b[1;33m,\u001b[0m \u001b[0mcandidate_index\u001b[0m \u001b[1;33m+\u001b[0m \u001b[1;36m1\u001b[0m\u001b[1;33m,\u001b[0m \u001b[0msalary_left\u001b[0m\u001b[1;33m)\u001b[0m\u001b[1;33m\u001b[0m\u001b[0m\n\u001b[0m\u001b[0;32m     36\u001b[0m     \u001b[1;32mif\u001b[0m \u001b[0mc1\u001b[0m\u001b[1;33m.\u001b[0m\u001b[0mposition\u001b[0m \u001b[1;33m!=\u001b[0m \u001b[0mrequest\u001b[0m\u001b[1;33m[\u001b[0m\u001b[0mrequest_index\u001b[0m\u001b[1;33m]\u001b[0m \u001b[1;32mor\u001b[0m \u001b[0msal1\u001b[0m \u001b[1;33m>\u001b[0m \u001b[0msalary_left\u001b[0m\u001b[1;33m:\u001b[0m\u001b[1;33m\u001b[0m\u001b[0m\n\u001b[0;32m     37\u001b[0m       \u001b[0mmemo\u001b[0m\u001b[1;33m[\u001b[0m\u001b[0mrequest_index\u001b[0m\u001b[1;33m]\u001b[0m\u001b[1;33m[\u001b[0m\u001b[0mcandidate_index\u001b[0m\u001b[1;33m]\u001b[0m\u001b[1;33m[\u001b[0m\u001b[0msalary_left\u001b[0m\u001b[1;33m]\u001b[0m \u001b[1;33m=\u001b[0m \u001b[0mskip_score\u001b[0m\u001b[1;33m\u001b[0m\u001b[0m\n",
        "\u001b[1;32mC:\\Coding\\FanDuel\\src\\analysis\\knapsack.py\u001b[0m in \u001b[0;36mGV\u001b[1;34m(request_index, candidate_index, salary_left)\u001b[0m\n\u001b[0;32m     33\u001b[0m     \u001b[0mc1\u001b[0m \u001b[1;33m=\u001b[0m \u001b[0mcandidates\u001b[0m\u001b[1;33m[\u001b[0m\u001b[0mcandidate_index\u001b[0m\u001b[1;33m]\u001b[0m\u001b[1;33m\u001b[0m\u001b[0m\n\u001b[0;32m     34\u001b[0m     \u001b[0msal1\u001b[0m \u001b[1;33m=\u001b[0m \u001b[0msalaries\u001b[0m\u001b[1;33m[\u001b[0m\u001b[0mcandidate_index\u001b[0m\u001b[1;33m]\u001b[0m\u001b[1;33m\u001b[0m\u001b[0m\n\u001b[1;32m---> 35\u001b[1;33m     \u001b[0mskip_score\u001b[0m \u001b[1;33m=\u001b[0m \u001b[0mGV\u001b[0m\u001b[1;33m(\u001b[0m\u001b[0mrequest_index\u001b[0m\u001b[1;33m,\u001b[0m \u001b[0mcandidate_index\u001b[0m \u001b[1;33m+\u001b[0m \u001b[1;36m1\u001b[0m\u001b[1;33m,\u001b[0m \u001b[0msalary_left\u001b[0m\u001b[1;33m)\u001b[0m\u001b[1;33m\u001b[0m\u001b[0m\n\u001b[0m\u001b[0;32m     36\u001b[0m     \u001b[1;32mif\u001b[0m \u001b[0mc1\u001b[0m\u001b[1;33m.\u001b[0m\u001b[0mposition\u001b[0m \u001b[1;33m!=\u001b[0m \u001b[0mrequest\u001b[0m\u001b[1;33m[\u001b[0m\u001b[0mrequest_index\u001b[0m\u001b[1;33m]\u001b[0m \u001b[1;32mor\u001b[0m \u001b[0msal1\u001b[0m \u001b[1;33m>\u001b[0m \u001b[0msalary_left\u001b[0m\u001b[1;33m:\u001b[0m\u001b[1;33m\u001b[0m\u001b[0m\n\u001b[0;32m     37\u001b[0m       \u001b[0mmemo\u001b[0m\u001b[1;33m[\u001b[0m\u001b[0mrequest_index\u001b[0m\u001b[1;33m]\u001b[0m\u001b[1;33m[\u001b[0m\u001b[0mcandidate_index\u001b[0m\u001b[1;33m]\u001b[0m\u001b[1;33m[\u001b[0m\u001b[0msalary_left\u001b[0m\u001b[1;33m]\u001b[0m \u001b[1;33m=\u001b[0m \u001b[0mskip_score\u001b[0m\u001b[1;33m\u001b[0m\u001b[0m\n",
        "\u001b[1;32mC:\\Coding\\FanDuel\\src\\analysis\\knapsack.py\u001b[0m in \u001b[0;36mGV\u001b[1;34m(request_index, candidate_index, salary_left)\u001b[0m\n\u001b[0;32m     33\u001b[0m     \u001b[0mc1\u001b[0m \u001b[1;33m=\u001b[0m \u001b[0mcandidates\u001b[0m\u001b[1;33m[\u001b[0m\u001b[0mcandidate_index\u001b[0m\u001b[1;33m]\u001b[0m\u001b[1;33m\u001b[0m\u001b[0m\n\u001b[0;32m     34\u001b[0m     \u001b[0msal1\u001b[0m \u001b[1;33m=\u001b[0m \u001b[0msalaries\u001b[0m\u001b[1;33m[\u001b[0m\u001b[0mcandidate_index\u001b[0m\u001b[1;33m]\u001b[0m\u001b[1;33m\u001b[0m\u001b[0m\n\u001b[1;32m---> 35\u001b[1;33m     \u001b[0mskip_score\u001b[0m \u001b[1;33m=\u001b[0m \u001b[0mGV\u001b[0m\u001b[1;33m(\u001b[0m\u001b[0mrequest_index\u001b[0m\u001b[1;33m,\u001b[0m \u001b[0mcandidate_index\u001b[0m \u001b[1;33m+\u001b[0m \u001b[1;36m1\u001b[0m\u001b[1;33m,\u001b[0m \u001b[0msalary_left\u001b[0m\u001b[1;33m)\u001b[0m\u001b[1;33m\u001b[0m\u001b[0m\n\u001b[0m\u001b[0;32m     36\u001b[0m     \u001b[1;32mif\u001b[0m \u001b[0mc1\u001b[0m\u001b[1;33m.\u001b[0m\u001b[0mposition\u001b[0m \u001b[1;33m!=\u001b[0m \u001b[0mrequest\u001b[0m\u001b[1;33m[\u001b[0m\u001b[0mrequest_index\u001b[0m\u001b[1;33m]\u001b[0m \u001b[1;32mor\u001b[0m \u001b[0msal1\u001b[0m \u001b[1;33m>\u001b[0m \u001b[0msalary_left\u001b[0m\u001b[1;33m:\u001b[0m\u001b[1;33m\u001b[0m\u001b[0m\n\u001b[0;32m     37\u001b[0m       \u001b[0mmemo\u001b[0m\u001b[1;33m[\u001b[0m\u001b[0mrequest_index\u001b[0m\u001b[1;33m]\u001b[0m\u001b[1;33m[\u001b[0m\u001b[0mcandidate_index\u001b[0m\u001b[1;33m]\u001b[0m\u001b[1;33m[\u001b[0m\u001b[0msalary_left\u001b[0m\u001b[1;33m]\u001b[0m \u001b[1;33m=\u001b[0m \u001b[0mskip_score\u001b[0m\u001b[1;33m\u001b[0m\u001b[0m\n",
        "\u001b[1;32mC:\\Coding\\FanDuel\\src\\analysis\\knapsack.py\u001b[0m in \u001b[0;36mGV\u001b[1;34m(request_index, candidate_index, salary_left)\u001b[0m\n\u001b[0;32m     33\u001b[0m     \u001b[0mc1\u001b[0m \u001b[1;33m=\u001b[0m \u001b[0mcandidates\u001b[0m\u001b[1;33m[\u001b[0m\u001b[0mcandidate_index\u001b[0m\u001b[1;33m]\u001b[0m\u001b[1;33m\u001b[0m\u001b[0m\n\u001b[0;32m     34\u001b[0m     \u001b[0msal1\u001b[0m \u001b[1;33m=\u001b[0m \u001b[0msalaries\u001b[0m\u001b[1;33m[\u001b[0m\u001b[0mcandidate_index\u001b[0m\u001b[1;33m]\u001b[0m\u001b[1;33m\u001b[0m\u001b[0m\n\u001b[1;32m---> 35\u001b[1;33m     \u001b[0mskip_score\u001b[0m \u001b[1;33m=\u001b[0m \u001b[0mGV\u001b[0m\u001b[1;33m(\u001b[0m\u001b[0mrequest_index\u001b[0m\u001b[1;33m,\u001b[0m \u001b[0mcandidate_index\u001b[0m \u001b[1;33m+\u001b[0m \u001b[1;36m1\u001b[0m\u001b[1;33m,\u001b[0m \u001b[0msalary_left\u001b[0m\u001b[1;33m)\u001b[0m\u001b[1;33m\u001b[0m\u001b[0m\n\u001b[0m\u001b[0;32m     36\u001b[0m     \u001b[1;32mif\u001b[0m \u001b[0mc1\u001b[0m\u001b[1;33m.\u001b[0m\u001b[0mposition\u001b[0m \u001b[1;33m!=\u001b[0m \u001b[0mrequest\u001b[0m\u001b[1;33m[\u001b[0m\u001b[0mrequest_index\u001b[0m\u001b[1;33m]\u001b[0m \u001b[1;32mor\u001b[0m \u001b[0msal1\u001b[0m \u001b[1;33m>\u001b[0m \u001b[0msalary_left\u001b[0m\u001b[1;33m:\u001b[0m\u001b[1;33m\u001b[0m\u001b[0m\n\u001b[0;32m     37\u001b[0m       \u001b[0mmemo\u001b[0m\u001b[1;33m[\u001b[0m\u001b[0mrequest_index\u001b[0m\u001b[1;33m]\u001b[0m\u001b[1;33m[\u001b[0m\u001b[0mcandidate_index\u001b[0m\u001b[1;33m]\u001b[0m\u001b[1;33m[\u001b[0m\u001b[0msalary_left\u001b[0m\u001b[1;33m]\u001b[0m \u001b[1;33m=\u001b[0m \u001b[0mskip_score\u001b[0m\u001b[1;33m\u001b[0m\u001b[0m\n",
        "\u001b[1;32mC:\\Coding\\FanDuel\\src\\analysis\\knapsack.py\u001b[0m in \u001b[0;36mGV\u001b[1;34m(request_index, candidate_index, salary_left)\u001b[0m\n\u001b[0;32m     33\u001b[0m     \u001b[0mc1\u001b[0m \u001b[1;33m=\u001b[0m \u001b[0mcandidates\u001b[0m\u001b[1;33m[\u001b[0m\u001b[0mcandidate_index\u001b[0m\u001b[1;33m]\u001b[0m\u001b[1;33m\u001b[0m\u001b[0m\n\u001b[0;32m     34\u001b[0m     \u001b[0msal1\u001b[0m \u001b[1;33m=\u001b[0m \u001b[0msalaries\u001b[0m\u001b[1;33m[\u001b[0m\u001b[0mcandidate_index\u001b[0m\u001b[1;33m]\u001b[0m\u001b[1;33m\u001b[0m\u001b[0m\n\u001b[1;32m---> 35\u001b[1;33m     \u001b[0mskip_score\u001b[0m \u001b[1;33m=\u001b[0m \u001b[0mGV\u001b[0m\u001b[1;33m(\u001b[0m\u001b[0mrequest_index\u001b[0m\u001b[1;33m,\u001b[0m \u001b[0mcandidate_index\u001b[0m \u001b[1;33m+\u001b[0m \u001b[1;36m1\u001b[0m\u001b[1;33m,\u001b[0m \u001b[0msalary_left\u001b[0m\u001b[1;33m)\u001b[0m\u001b[1;33m\u001b[0m\u001b[0m\n\u001b[0m\u001b[0;32m     36\u001b[0m     \u001b[1;32mif\u001b[0m \u001b[0mc1\u001b[0m\u001b[1;33m.\u001b[0m\u001b[0mposition\u001b[0m \u001b[1;33m!=\u001b[0m \u001b[0mrequest\u001b[0m\u001b[1;33m[\u001b[0m\u001b[0mrequest_index\u001b[0m\u001b[1;33m]\u001b[0m \u001b[1;32mor\u001b[0m \u001b[0msal1\u001b[0m \u001b[1;33m>\u001b[0m \u001b[0msalary_left\u001b[0m\u001b[1;33m:\u001b[0m\u001b[1;33m\u001b[0m\u001b[0m\n\u001b[0;32m     37\u001b[0m       \u001b[0mmemo\u001b[0m\u001b[1;33m[\u001b[0m\u001b[0mrequest_index\u001b[0m\u001b[1;33m]\u001b[0m\u001b[1;33m[\u001b[0m\u001b[0mcandidate_index\u001b[0m\u001b[1;33m]\u001b[0m\u001b[1;33m[\u001b[0m\u001b[0msalary_left\u001b[0m\u001b[1;33m]\u001b[0m \u001b[1;33m=\u001b[0m \u001b[0mskip_score\u001b[0m\u001b[1;33m\u001b[0m\u001b[0m\n",
        "\u001b[1;32mC:\\Coding\\FanDuel\\src\\analysis\\knapsack.py\u001b[0m in \u001b[0;36mGV\u001b[1;34m(request_index, candidate_index, salary_left)\u001b[0m\n\u001b[0;32m     33\u001b[0m     \u001b[0mc1\u001b[0m \u001b[1;33m=\u001b[0m \u001b[0mcandidates\u001b[0m\u001b[1;33m[\u001b[0m\u001b[0mcandidate_index\u001b[0m\u001b[1;33m]\u001b[0m\u001b[1;33m\u001b[0m\u001b[0m\n\u001b[0;32m     34\u001b[0m     \u001b[0msal1\u001b[0m \u001b[1;33m=\u001b[0m \u001b[0msalaries\u001b[0m\u001b[1;33m[\u001b[0m\u001b[0mcandidate_index\u001b[0m\u001b[1;33m]\u001b[0m\u001b[1;33m\u001b[0m\u001b[0m\n\u001b[1;32m---> 35\u001b[1;33m     \u001b[0mskip_score\u001b[0m \u001b[1;33m=\u001b[0m \u001b[0mGV\u001b[0m\u001b[1;33m(\u001b[0m\u001b[0mrequest_index\u001b[0m\u001b[1;33m,\u001b[0m \u001b[0mcandidate_index\u001b[0m \u001b[1;33m+\u001b[0m \u001b[1;36m1\u001b[0m\u001b[1;33m,\u001b[0m \u001b[0msalary_left\u001b[0m\u001b[1;33m)\u001b[0m\u001b[1;33m\u001b[0m\u001b[0m\n\u001b[0m\u001b[0;32m     36\u001b[0m     \u001b[1;32mif\u001b[0m \u001b[0mc1\u001b[0m\u001b[1;33m.\u001b[0m\u001b[0mposition\u001b[0m \u001b[1;33m!=\u001b[0m \u001b[0mrequest\u001b[0m\u001b[1;33m[\u001b[0m\u001b[0mrequest_index\u001b[0m\u001b[1;33m]\u001b[0m \u001b[1;32mor\u001b[0m \u001b[0msal1\u001b[0m \u001b[1;33m>\u001b[0m \u001b[0msalary_left\u001b[0m\u001b[1;33m:\u001b[0m\u001b[1;33m\u001b[0m\u001b[0m\n\u001b[0;32m     37\u001b[0m       \u001b[0mmemo\u001b[0m\u001b[1;33m[\u001b[0m\u001b[0mrequest_index\u001b[0m\u001b[1;33m]\u001b[0m\u001b[1;33m[\u001b[0m\u001b[0mcandidate_index\u001b[0m\u001b[1;33m]\u001b[0m\u001b[1;33m[\u001b[0m\u001b[0msalary_left\u001b[0m\u001b[1;33m]\u001b[0m \u001b[1;33m=\u001b[0m \u001b[0mskip_score\u001b[0m\u001b[1;33m\u001b[0m\u001b[0m\n",
        "\u001b[1;32mC:\\Coding\\FanDuel\\src\\analysis\\knapsack.py\u001b[0m in \u001b[0;36mGV\u001b[1;34m(request_index, candidate_index, salary_left)\u001b[0m\n\u001b[0;32m     33\u001b[0m     \u001b[0mc1\u001b[0m \u001b[1;33m=\u001b[0m \u001b[0mcandidates\u001b[0m\u001b[1;33m[\u001b[0m\u001b[0mcandidate_index\u001b[0m\u001b[1;33m]\u001b[0m\u001b[1;33m\u001b[0m\u001b[0m\n\u001b[0;32m     34\u001b[0m     \u001b[0msal1\u001b[0m \u001b[1;33m=\u001b[0m \u001b[0msalaries\u001b[0m\u001b[1;33m[\u001b[0m\u001b[0mcandidate_index\u001b[0m\u001b[1;33m]\u001b[0m\u001b[1;33m\u001b[0m\u001b[0m\n\u001b[1;32m---> 35\u001b[1;33m     \u001b[0mskip_score\u001b[0m \u001b[1;33m=\u001b[0m \u001b[0mGV\u001b[0m\u001b[1;33m(\u001b[0m\u001b[0mrequest_index\u001b[0m\u001b[1;33m,\u001b[0m \u001b[0mcandidate_index\u001b[0m \u001b[1;33m+\u001b[0m \u001b[1;36m1\u001b[0m\u001b[1;33m,\u001b[0m \u001b[0msalary_left\u001b[0m\u001b[1;33m)\u001b[0m\u001b[1;33m\u001b[0m\u001b[0m\n\u001b[0m\u001b[0;32m     36\u001b[0m     \u001b[1;32mif\u001b[0m \u001b[0mc1\u001b[0m\u001b[1;33m.\u001b[0m\u001b[0mposition\u001b[0m \u001b[1;33m!=\u001b[0m \u001b[0mrequest\u001b[0m\u001b[1;33m[\u001b[0m\u001b[0mrequest_index\u001b[0m\u001b[1;33m]\u001b[0m \u001b[1;32mor\u001b[0m \u001b[0msal1\u001b[0m \u001b[1;33m>\u001b[0m \u001b[0msalary_left\u001b[0m\u001b[1;33m:\u001b[0m\u001b[1;33m\u001b[0m\u001b[0m\n\u001b[0;32m     37\u001b[0m       \u001b[0mmemo\u001b[0m\u001b[1;33m[\u001b[0m\u001b[0mrequest_index\u001b[0m\u001b[1;33m]\u001b[0m\u001b[1;33m[\u001b[0m\u001b[0mcandidate_index\u001b[0m\u001b[1;33m]\u001b[0m\u001b[1;33m[\u001b[0m\u001b[0msalary_left\u001b[0m\u001b[1;33m]\u001b[0m \u001b[1;33m=\u001b[0m \u001b[0mskip_score\u001b[0m\u001b[1;33m\u001b[0m\u001b[0m\n",
        "\u001b[1;32mC:\\Coding\\FanDuel\\src\\analysis\\knapsack.py\u001b[0m in \u001b[0;36mGV\u001b[1;34m(request_index, candidate_index, salary_left)\u001b[0m\n\u001b[0;32m     33\u001b[0m     \u001b[0mc1\u001b[0m \u001b[1;33m=\u001b[0m \u001b[0mcandidates\u001b[0m\u001b[1;33m[\u001b[0m\u001b[0mcandidate_index\u001b[0m\u001b[1;33m]\u001b[0m\u001b[1;33m\u001b[0m\u001b[0m\n\u001b[0;32m     34\u001b[0m     \u001b[0msal1\u001b[0m \u001b[1;33m=\u001b[0m \u001b[0msalaries\u001b[0m\u001b[1;33m[\u001b[0m\u001b[0mcandidate_index\u001b[0m\u001b[1;33m]\u001b[0m\u001b[1;33m\u001b[0m\u001b[0m\n\u001b[1;32m---> 35\u001b[1;33m     \u001b[0mskip_score\u001b[0m \u001b[1;33m=\u001b[0m \u001b[0mGV\u001b[0m\u001b[1;33m(\u001b[0m\u001b[0mrequest_index\u001b[0m\u001b[1;33m,\u001b[0m \u001b[0mcandidate_index\u001b[0m \u001b[1;33m+\u001b[0m \u001b[1;36m1\u001b[0m\u001b[1;33m,\u001b[0m \u001b[0msalary_left\u001b[0m\u001b[1;33m)\u001b[0m\u001b[1;33m\u001b[0m\u001b[0m\n\u001b[0m\u001b[0;32m     36\u001b[0m     \u001b[1;32mif\u001b[0m \u001b[0mc1\u001b[0m\u001b[1;33m.\u001b[0m\u001b[0mposition\u001b[0m \u001b[1;33m!=\u001b[0m \u001b[0mrequest\u001b[0m\u001b[1;33m[\u001b[0m\u001b[0mrequest_index\u001b[0m\u001b[1;33m]\u001b[0m \u001b[1;32mor\u001b[0m \u001b[0msal1\u001b[0m \u001b[1;33m>\u001b[0m \u001b[0msalary_left\u001b[0m\u001b[1;33m:\u001b[0m\u001b[1;33m\u001b[0m\u001b[0m\n\u001b[0;32m     37\u001b[0m       \u001b[0mmemo\u001b[0m\u001b[1;33m[\u001b[0m\u001b[0mrequest_index\u001b[0m\u001b[1;33m]\u001b[0m\u001b[1;33m[\u001b[0m\u001b[0mcandidate_index\u001b[0m\u001b[1;33m]\u001b[0m\u001b[1;33m[\u001b[0m\u001b[0msalary_left\u001b[0m\u001b[1;33m]\u001b[0m \u001b[1;33m=\u001b[0m \u001b[0mskip_score\u001b[0m\u001b[1;33m\u001b[0m\u001b[0m\n",
        "\u001b[1;32mC:\\Coding\\FanDuel\\src\\analysis\\knapsack.py\u001b[0m in \u001b[0;36mGV\u001b[1;34m(request_index, candidate_index, salary_left)\u001b[0m\n\u001b[0;32m     33\u001b[0m     \u001b[0mc1\u001b[0m \u001b[1;33m=\u001b[0m \u001b[0mcandidates\u001b[0m\u001b[1;33m[\u001b[0m\u001b[0mcandidate_index\u001b[0m\u001b[1;33m]\u001b[0m\u001b[1;33m\u001b[0m\u001b[0m\n\u001b[0;32m     34\u001b[0m     \u001b[0msal1\u001b[0m \u001b[1;33m=\u001b[0m \u001b[0msalaries\u001b[0m\u001b[1;33m[\u001b[0m\u001b[0mcandidate_index\u001b[0m\u001b[1;33m]\u001b[0m\u001b[1;33m\u001b[0m\u001b[0m\n\u001b[1;32m---> 35\u001b[1;33m     \u001b[0mskip_score\u001b[0m \u001b[1;33m=\u001b[0m \u001b[0mGV\u001b[0m\u001b[1;33m(\u001b[0m\u001b[0mrequest_index\u001b[0m\u001b[1;33m,\u001b[0m \u001b[0mcandidate_index\u001b[0m \u001b[1;33m+\u001b[0m \u001b[1;36m1\u001b[0m\u001b[1;33m,\u001b[0m \u001b[0msalary_left\u001b[0m\u001b[1;33m)\u001b[0m\u001b[1;33m\u001b[0m\u001b[0m\n\u001b[0m\u001b[0;32m     36\u001b[0m     \u001b[1;32mif\u001b[0m \u001b[0mc1\u001b[0m\u001b[1;33m.\u001b[0m\u001b[0mposition\u001b[0m \u001b[1;33m!=\u001b[0m \u001b[0mrequest\u001b[0m\u001b[1;33m[\u001b[0m\u001b[0mrequest_index\u001b[0m\u001b[1;33m]\u001b[0m \u001b[1;32mor\u001b[0m \u001b[0msal1\u001b[0m \u001b[1;33m>\u001b[0m \u001b[0msalary_left\u001b[0m\u001b[1;33m:\u001b[0m\u001b[1;33m\u001b[0m\u001b[0m\n\u001b[0;32m     37\u001b[0m       \u001b[0mmemo\u001b[0m\u001b[1;33m[\u001b[0m\u001b[0mrequest_index\u001b[0m\u001b[1;33m]\u001b[0m\u001b[1;33m[\u001b[0m\u001b[0mcandidate_index\u001b[0m\u001b[1;33m]\u001b[0m\u001b[1;33m[\u001b[0m\u001b[0msalary_left\u001b[0m\u001b[1;33m]\u001b[0m \u001b[1;33m=\u001b[0m \u001b[0mskip_score\u001b[0m\u001b[1;33m\u001b[0m\u001b[0m\n",
        "\u001b[1;32mC:\\Coding\\FanDuel\\src\\analysis\\knapsack.py\u001b[0m in \u001b[0;36mGV\u001b[1;34m(request_index, candidate_index, salary_left)\u001b[0m\n\u001b[0;32m     33\u001b[0m     \u001b[0mc1\u001b[0m \u001b[1;33m=\u001b[0m \u001b[0mcandidates\u001b[0m\u001b[1;33m[\u001b[0m\u001b[0mcandidate_index\u001b[0m\u001b[1;33m]\u001b[0m\u001b[1;33m\u001b[0m\u001b[0m\n\u001b[0;32m     34\u001b[0m     \u001b[0msal1\u001b[0m \u001b[1;33m=\u001b[0m \u001b[0msalaries\u001b[0m\u001b[1;33m[\u001b[0m\u001b[0mcandidate_index\u001b[0m\u001b[1;33m]\u001b[0m\u001b[1;33m\u001b[0m\u001b[0m\n\u001b[1;32m---> 35\u001b[1;33m     \u001b[0mskip_score\u001b[0m \u001b[1;33m=\u001b[0m \u001b[0mGV\u001b[0m\u001b[1;33m(\u001b[0m\u001b[0mrequest_index\u001b[0m\u001b[1;33m,\u001b[0m \u001b[0mcandidate_index\u001b[0m \u001b[1;33m+\u001b[0m \u001b[1;36m1\u001b[0m\u001b[1;33m,\u001b[0m \u001b[0msalary_left\u001b[0m\u001b[1;33m)\u001b[0m\u001b[1;33m\u001b[0m\u001b[0m\n\u001b[0m\u001b[0;32m     36\u001b[0m     \u001b[1;32mif\u001b[0m \u001b[0mc1\u001b[0m\u001b[1;33m.\u001b[0m\u001b[0mposition\u001b[0m \u001b[1;33m!=\u001b[0m \u001b[0mrequest\u001b[0m\u001b[1;33m[\u001b[0m\u001b[0mrequest_index\u001b[0m\u001b[1;33m]\u001b[0m \u001b[1;32mor\u001b[0m \u001b[0msal1\u001b[0m \u001b[1;33m>\u001b[0m \u001b[0msalary_left\u001b[0m\u001b[1;33m:\u001b[0m\u001b[1;33m\u001b[0m\u001b[0m\n\u001b[0;32m     37\u001b[0m       \u001b[0mmemo\u001b[0m\u001b[1;33m[\u001b[0m\u001b[0mrequest_index\u001b[0m\u001b[1;33m]\u001b[0m\u001b[1;33m[\u001b[0m\u001b[0mcandidate_index\u001b[0m\u001b[1;33m]\u001b[0m\u001b[1;33m[\u001b[0m\u001b[0msalary_left\u001b[0m\u001b[1;33m]\u001b[0m \u001b[1;33m=\u001b[0m \u001b[0mskip_score\u001b[0m\u001b[1;33m\u001b[0m\u001b[0m\n",
        "\u001b[1;32mC:\\Coding\\FanDuel\\src\\analysis\\knapsack.py\u001b[0m in \u001b[0;36mGV\u001b[1;34m(request_index, candidate_index, salary_left)\u001b[0m\n\u001b[0;32m     33\u001b[0m     \u001b[0mc1\u001b[0m \u001b[1;33m=\u001b[0m \u001b[0mcandidates\u001b[0m\u001b[1;33m[\u001b[0m\u001b[0mcandidate_index\u001b[0m\u001b[1;33m]\u001b[0m\u001b[1;33m\u001b[0m\u001b[0m\n\u001b[0;32m     34\u001b[0m     \u001b[0msal1\u001b[0m \u001b[1;33m=\u001b[0m \u001b[0msalaries\u001b[0m\u001b[1;33m[\u001b[0m\u001b[0mcandidate_index\u001b[0m\u001b[1;33m]\u001b[0m\u001b[1;33m\u001b[0m\u001b[0m\n\u001b[1;32m---> 35\u001b[1;33m     \u001b[0mskip_score\u001b[0m \u001b[1;33m=\u001b[0m \u001b[0mGV\u001b[0m\u001b[1;33m(\u001b[0m\u001b[0mrequest_index\u001b[0m\u001b[1;33m,\u001b[0m \u001b[0mcandidate_index\u001b[0m \u001b[1;33m+\u001b[0m \u001b[1;36m1\u001b[0m\u001b[1;33m,\u001b[0m \u001b[0msalary_left\u001b[0m\u001b[1;33m)\u001b[0m\u001b[1;33m\u001b[0m\u001b[0m\n\u001b[0m\u001b[0;32m     36\u001b[0m     \u001b[1;32mif\u001b[0m \u001b[0mc1\u001b[0m\u001b[1;33m.\u001b[0m\u001b[0mposition\u001b[0m \u001b[1;33m!=\u001b[0m \u001b[0mrequest\u001b[0m\u001b[1;33m[\u001b[0m\u001b[0mrequest_index\u001b[0m\u001b[1;33m]\u001b[0m \u001b[1;32mor\u001b[0m \u001b[0msal1\u001b[0m \u001b[1;33m>\u001b[0m \u001b[0msalary_left\u001b[0m\u001b[1;33m:\u001b[0m\u001b[1;33m\u001b[0m\u001b[0m\n\u001b[0;32m     37\u001b[0m       \u001b[0mmemo\u001b[0m\u001b[1;33m[\u001b[0m\u001b[0mrequest_index\u001b[0m\u001b[1;33m]\u001b[0m\u001b[1;33m[\u001b[0m\u001b[0mcandidate_index\u001b[0m\u001b[1;33m]\u001b[0m\u001b[1;33m[\u001b[0m\u001b[0msalary_left\u001b[0m\u001b[1;33m]\u001b[0m \u001b[1;33m=\u001b[0m \u001b[0mskip_score\u001b[0m\u001b[1;33m\u001b[0m\u001b[0m\n",
        "\u001b[1;32mC:\\Coding\\FanDuel\\src\\analysis\\knapsack.py\u001b[0m in \u001b[0;36mGV\u001b[1;34m(request_index, candidate_index, salary_left)\u001b[0m\n\u001b[0;32m     33\u001b[0m     \u001b[0mc1\u001b[0m \u001b[1;33m=\u001b[0m \u001b[0mcandidates\u001b[0m\u001b[1;33m[\u001b[0m\u001b[0mcandidate_index\u001b[0m\u001b[1;33m]\u001b[0m\u001b[1;33m\u001b[0m\u001b[0m\n\u001b[0;32m     34\u001b[0m     \u001b[0msal1\u001b[0m \u001b[1;33m=\u001b[0m \u001b[0msalaries\u001b[0m\u001b[1;33m[\u001b[0m\u001b[0mcandidate_index\u001b[0m\u001b[1;33m]\u001b[0m\u001b[1;33m\u001b[0m\u001b[0m\n\u001b[1;32m---> 35\u001b[1;33m     \u001b[0mskip_score\u001b[0m \u001b[1;33m=\u001b[0m \u001b[0mGV\u001b[0m\u001b[1;33m(\u001b[0m\u001b[0mrequest_index\u001b[0m\u001b[1;33m,\u001b[0m \u001b[0mcandidate_index\u001b[0m \u001b[1;33m+\u001b[0m \u001b[1;36m1\u001b[0m\u001b[1;33m,\u001b[0m \u001b[0msalary_left\u001b[0m\u001b[1;33m)\u001b[0m\u001b[1;33m\u001b[0m\u001b[0m\n\u001b[0m\u001b[0;32m     36\u001b[0m     \u001b[1;32mif\u001b[0m \u001b[0mc1\u001b[0m\u001b[1;33m.\u001b[0m\u001b[0mposition\u001b[0m \u001b[1;33m!=\u001b[0m \u001b[0mrequest\u001b[0m\u001b[1;33m[\u001b[0m\u001b[0mrequest_index\u001b[0m\u001b[1;33m]\u001b[0m \u001b[1;32mor\u001b[0m \u001b[0msal1\u001b[0m \u001b[1;33m>\u001b[0m \u001b[0msalary_left\u001b[0m\u001b[1;33m:\u001b[0m\u001b[1;33m\u001b[0m\u001b[0m\n\u001b[0;32m     37\u001b[0m       \u001b[0mmemo\u001b[0m\u001b[1;33m[\u001b[0m\u001b[0mrequest_index\u001b[0m\u001b[1;33m]\u001b[0m\u001b[1;33m[\u001b[0m\u001b[0mcandidate_index\u001b[0m\u001b[1;33m]\u001b[0m\u001b[1;33m[\u001b[0m\u001b[0msalary_left\u001b[0m\u001b[1;33m]\u001b[0m \u001b[1;33m=\u001b[0m \u001b[0mskip_score\u001b[0m\u001b[1;33m\u001b[0m\u001b[0m\n",
        "\u001b[1;32mC:\\Coding\\FanDuel\\src\\analysis\\knapsack.py\u001b[0m in \u001b[0;36mGV\u001b[1;34m(request_index, candidate_index, salary_left)\u001b[0m\n\u001b[0;32m     33\u001b[0m     \u001b[0mc1\u001b[0m \u001b[1;33m=\u001b[0m \u001b[0mcandidates\u001b[0m\u001b[1;33m[\u001b[0m\u001b[0mcandidate_index\u001b[0m\u001b[1;33m]\u001b[0m\u001b[1;33m\u001b[0m\u001b[0m\n\u001b[0;32m     34\u001b[0m     \u001b[0msal1\u001b[0m \u001b[1;33m=\u001b[0m \u001b[0msalaries\u001b[0m\u001b[1;33m[\u001b[0m\u001b[0mcandidate_index\u001b[0m\u001b[1;33m]\u001b[0m\u001b[1;33m\u001b[0m\u001b[0m\n\u001b[1;32m---> 35\u001b[1;33m     \u001b[0mskip_score\u001b[0m \u001b[1;33m=\u001b[0m \u001b[0mGV\u001b[0m\u001b[1;33m(\u001b[0m\u001b[0mrequest_index\u001b[0m\u001b[1;33m,\u001b[0m \u001b[0mcandidate_index\u001b[0m \u001b[1;33m+\u001b[0m \u001b[1;36m1\u001b[0m\u001b[1;33m,\u001b[0m \u001b[0msalary_left\u001b[0m\u001b[1;33m)\u001b[0m\u001b[1;33m\u001b[0m\u001b[0m\n\u001b[0m\u001b[0;32m     36\u001b[0m     \u001b[1;32mif\u001b[0m \u001b[0mc1\u001b[0m\u001b[1;33m.\u001b[0m\u001b[0mposition\u001b[0m \u001b[1;33m!=\u001b[0m \u001b[0mrequest\u001b[0m\u001b[1;33m[\u001b[0m\u001b[0mrequest_index\u001b[0m\u001b[1;33m]\u001b[0m \u001b[1;32mor\u001b[0m \u001b[0msal1\u001b[0m \u001b[1;33m>\u001b[0m \u001b[0msalary_left\u001b[0m\u001b[1;33m:\u001b[0m\u001b[1;33m\u001b[0m\u001b[0m\n\u001b[0;32m     37\u001b[0m       \u001b[0mmemo\u001b[0m\u001b[1;33m[\u001b[0m\u001b[0mrequest_index\u001b[0m\u001b[1;33m]\u001b[0m\u001b[1;33m[\u001b[0m\u001b[0mcandidate_index\u001b[0m\u001b[1;33m]\u001b[0m\u001b[1;33m[\u001b[0m\u001b[0msalary_left\u001b[0m\u001b[1;33m]\u001b[0m \u001b[1;33m=\u001b[0m \u001b[0mskip_score\u001b[0m\u001b[1;33m\u001b[0m\u001b[0m\n",
        "\u001b[1;32mC:\\Coding\\FanDuel\\src\\analysis\\knapsack.py\u001b[0m in \u001b[0;36mGV\u001b[1;34m(request_index, candidate_index, salary_left)\u001b[0m\n\u001b[0;32m     33\u001b[0m     \u001b[0mc1\u001b[0m \u001b[1;33m=\u001b[0m \u001b[0mcandidates\u001b[0m\u001b[1;33m[\u001b[0m\u001b[0mcandidate_index\u001b[0m\u001b[1;33m]\u001b[0m\u001b[1;33m\u001b[0m\u001b[0m\n\u001b[0;32m     34\u001b[0m     \u001b[0msal1\u001b[0m \u001b[1;33m=\u001b[0m \u001b[0msalaries\u001b[0m\u001b[1;33m[\u001b[0m\u001b[0mcandidate_index\u001b[0m\u001b[1;33m]\u001b[0m\u001b[1;33m\u001b[0m\u001b[0m\n\u001b[1;32m---> 35\u001b[1;33m     \u001b[0mskip_score\u001b[0m \u001b[1;33m=\u001b[0m \u001b[0mGV\u001b[0m\u001b[1;33m(\u001b[0m\u001b[0mrequest_index\u001b[0m\u001b[1;33m,\u001b[0m \u001b[0mcandidate_index\u001b[0m \u001b[1;33m+\u001b[0m \u001b[1;36m1\u001b[0m\u001b[1;33m,\u001b[0m \u001b[0msalary_left\u001b[0m\u001b[1;33m)\u001b[0m\u001b[1;33m\u001b[0m\u001b[0m\n\u001b[0m\u001b[0;32m     36\u001b[0m     \u001b[1;32mif\u001b[0m \u001b[0mc1\u001b[0m\u001b[1;33m.\u001b[0m\u001b[0mposition\u001b[0m \u001b[1;33m!=\u001b[0m \u001b[0mrequest\u001b[0m\u001b[1;33m[\u001b[0m\u001b[0mrequest_index\u001b[0m\u001b[1;33m]\u001b[0m \u001b[1;32mor\u001b[0m \u001b[0msal1\u001b[0m \u001b[1;33m>\u001b[0m \u001b[0msalary_left\u001b[0m\u001b[1;33m:\u001b[0m\u001b[1;33m\u001b[0m\u001b[0m\n\u001b[0;32m     37\u001b[0m       \u001b[0mmemo\u001b[0m\u001b[1;33m[\u001b[0m\u001b[0mrequest_index\u001b[0m\u001b[1;33m]\u001b[0m\u001b[1;33m[\u001b[0m\u001b[0mcandidate_index\u001b[0m\u001b[1;33m]\u001b[0m\u001b[1;33m[\u001b[0m\u001b[0msalary_left\u001b[0m\u001b[1;33m]\u001b[0m \u001b[1;33m=\u001b[0m \u001b[0mskip_score\u001b[0m\u001b[1;33m\u001b[0m\u001b[0m\n",
        "\u001b[1;32mC:\\Coding\\FanDuel\\src\\analysis\\knapsack.py\u001b[0m in \u001b[0;36mGV\u001b[1;34m(request_index, candidate_index, salary_left)\u001b[0m\n\u001b[0;32m     33\u001b[0m     \u001b[0mc1\u001b[0m \u001b[1;33m=\u001b[0m \u001b[0mcandidates\u001b[0m\u001b[1;33m[\u001b[0m\u001b[0mcandidate_index\u001b[0m\u001b[1;33m]\u001b[0m\u001b[1;33m\u001b[0m\u001b[0m\n\u001b[0;32m     34\u001b[0m     \u001b[0msal1\u001b[0m \u001b[1;33m=\u001b[0m \u001b[0msalaries\u001b[0m\u001b[1;33m[\u001b[0m\u001b[0mcandidate_index\u001b[0m\u001b[1;33m]\u001b[0m\u001b[1;33m\u001b[0m\u001b[0m\n\u001b[1;32m---> 35\u001b[1;33m     \u001b[0mskip_score\u001b[0m \u001b[1;33m=\u001b[0m \u001b[0mGV\u001b[0m\u001b[1;33m(\u001b[0m\u001b[0mrequest_index\u001b[0m\u001b[1;33m,\u001b[0m \u001b[0mcandidate_index\u001b[0m \u001b[1;33m+\u001b[0m \u001b[1;36m1\u001b[0m\u001b[1;33m,\u001b[0m \u001b[0msalary_left\u001b[0m\u001b[1;33m)\u001b[0m\u001b[1;33m\u001b[0m\u001b[0m\n\u001b[0m\u001b[0;32m     36\u001b[0m     \u001b[1;32mif\u001b[0m \u001b[0mc1\u001b[0m\u001b[1;33m.\u001b[0m\u001b[0mposition\u001b[0m \u001b[1;33m!=\u001b[0m \u001b[0mrequest\u001b[0m\u001b[1;33m[\u001b[0m\u001b[0mrequest_index\u001b[0m\u001b[1;33m]\u001b[0m \u001b[1;32mor\u001b[0m \u001b[0msal1\u001b[0m \u001b[1;33m>\u001b[0m \u001b[0msalary_left\u001b[0m\u001b[1;33m:\u001b[0m\u001b[1;33m\u001b[0m\u001b[0m\n\u001b[0;32m     37\u001b[0m       \u001b[0mmemo\u001b[0m\u001b[1;33m[\u001b[0m\u001b[0mrequest_index\u001b[0m\u001b[1;33m]\u001b[0m\u001b[1;33m[\u001b[0m\u001b[0mcandidate_index\u001b[0m\u001b[1;33m]\u001b[0m\u001b[1;33m[\u001b[0m\u001b[0msalary_left\u001b[0m\u001b[1;33m]\u001b[0m \u001b[1;33m=\u001b[0m \u001b[0mskip_score\u001b[0m\u001b[1;33m\u001b[0m\u001b[0m\n",
        "\u001b[1;32mC:\\Coding\\FanDuel\\src\\analysis\\knapsack.py\u001b[0m in \u001b[0;36mGV\u001b[1;34m(request_index, candidate_index, salary_left)\u001b[0m\n\u001b[0;32m     33\u001b[0m     \u001b[0mc1\u001b[0m \u001b[1;33m=\u001b[0m \u001b[0mcandidates\u001b[0m\u001b[1;33m[\u001b[0m\u001b[0mcandidate_index\u001b[0m\u001b[1;33m]\u001b[0m\u001b[1;33m\u001b[0m\u001b[0m\n\u001b[0;32m     34\u001b[0m     \u001b[0msal1\u001b[0m \u001b[1;33m=\u001b[0m \u001b[0msalaries\u001b[0m\u001b[1;33m[\u001b[0m\u001b[0mcandidate_index\u001b[0m\u001b[1;33m]\u001b[0m\u001b[1;33m\u001b[0m\u001b[0m\n\u001b[1;32m---> 35\u001b[1;33m     \u001b[0mskip_score\u001b[0m \u001b[1;33m=\u001b[0m \u001b[0mGV\u001b[0m\u001b[1;33m(\u001b[0m\u001b[0mrequest_index\u001b[0m\u001b[1;33m,\u001b[0m \u001b[0mcandidate_index\u001b[0m \u001b[1;33m+\u001b[0m \u001b[1;36m1\u001b[0m\u001b[1;33m,\u001b[0m \u001b[0msalary_left\u001b[0m\u001b[1;33m)\u001b[0m\u001b[1;33m\u001b[0m\u001b[0m\n\u001b[0m\u001b[0;32m     36\u001b[0m     \u001b[1;32mif\u001b[0m \u001b[0mc1\u001b[0m\u001b[1;33m.\u001b[0m\u001b[0mposition\u001b[0m \u001b[1;33m!=\u001b[0m \u001b[0mrequest\u001b[0m\u001b[1;33m[\u001b[0m\u001b[0mrequest_index\u001b[0m\u001b[1;33m]\u001b[0m \u001b[1;32mor\u001b[0m \u001b[0msal1\u001b[0m \u001b[1;33m>\u001b[0m \u001b[0msalary_left\u001b[0m\u001b[1;33m:\u001b[0m\u001b[1;33m\u001b[0m\u001b[0m\n\u001b[0;32m     37\u001b[0m       \u001b[0mmemo\u001b[0m\u001b[1;33m[\u001b[0m\u001b[0mrequest_index\u001b[0m\u001b[1;33m]\u001b[0m\u001b[1;33m[\u001b[0m\u001b[0mcandidate_index\u001b[0m\u001b[1;33m]\u001b[0m\u001b[1;33m[\u001b[0m\u001b[0msalary_left\u001b[0m\u001b[1;33m]\u001b[0m \u001b[1;33m=\u001b[0m \u001b[0mskip_score\u001b[0m\u001b[1;33m\u001b[0m\u001b[0m\n",
        "\u001b[1;32mC:\\Coding\\FanDuel\\src\\analysis\\knapsack.py\u001b[0m in \u001b[0;36mGV\u001b[1;34m(request_index, candidate_index, salary_left)\u001b[0m\n\u001b[0;32m     38\u001b[0m       \u001b[1;32mreturn\u001b[0m \u001b[0mskip_score\u001b[0m\u001b[1;33m\u001b[0m\u001b[0m\n\u001b[0;32m     39\u001b[0m     \u001b[1;32melse\u001b[0m\u001b[1;33m:\u001b[0m\u001b[1;33m\u001b[0m\u001b[0m\n\u001b[1;32m---> 40\u001b[1;33m       \u001b[0mres\u001b[0m \u001b[1;33m=\u001b[0m \u001b[0mmax\u001b[0m\u001b[1;33m(\u001b[0m\u001b[0mskip_score\u001b[0m\u001b[1;33m,\u001b[0m \u001b[0mc1\u001b[0m\u001b[1;33m.\u001b[0m\u001b[0mpts\u001b[0m \u001b[1;33m+\u001b[0m \u001b[0mGV\u001b[0m\u001b[1;33m(\u001b[0m\u001b[0mrequest_index\u001b[0m \u001b[1;33m+\u001b[0m \u001b[1;36m1\u001b[0m\u001b[1;33m,\u001b[0m \u001b[0mcandidate_index\u001b[0m \u001b[1;33m+\u001b[0m \u001b[1;36m1\u001b[0m\u001b[1;33m,\u001b[0m \u001b[0msalary_left\u001b[0m \u001b[1;33m-\u001b[0m \u001b[0msal1\u001b[0m\u001b[1;33m)\u001b[0m\u001b[1;33m)\u001b[0m\u001b[1;33m\u001b[0m\u001b[0m\n\u001b[0m\u001b[0;32m     41\u001b[0m       \u001b[0mmemo\u001b[0m\u001b[1;33m[\u001b[0m\u001b[0mrequest_index\u001b[0m\u001b[1;33m]\u001b[0m\u001b[1;33m[\u001b[0m\u001b[0mcandidate_index\u001b[0m\u001b[1;33m]\u001b[0m\u001b[1;33m[\u001b[0m\u001b[0msalary_left\u001b[0m\u001b[1;33m]\u001b[0m \u001b[1;33m=\u001b[0m \u001b[0mres\u001b[0m\u001b[1;33m\u001b[0m\u001b[0m\n\u001b[0;32m     42\u001b[0m       \u001b[1;32mreturn\u001b[0m \u001b[0mres\u001b[0m\u001b[1;33m\u001b[0m\u001b[0m\n",
        "\u001b[1;32mC:\\Coding\\FanDuel\\src\\analysis\\knapsack.py\u001b[0m in \u001b[0;36mGV\u001b[1;34m(request_index, candidate_index, salary_left)\u001b[0m\n\u001b[0;32m     27\u001b[0m     \u001b[1;32mif\u001b[0m \u001b[0mrequest_index\u001b[0m \u001b[1;33m>=\u001b[0m \u001b[0mN\u001b[0m\u001b[1;33m:\u001b[0m\u001b[1;33m\u001b[0m\u001b[0m\n\u001b[0;32m     28\u001b[0m       \u001b[1;32mreturn\u001b[0m \u001b[1;36m0\u001b[0m\u001b[1;33m\u001b[0m\u001b[0m\n\u001b[1;32m---> 29\u001b[1;33m     \u001b[1;32mif\u001b[0m \u001b[0mcandidate_index\u001b[0m \u001b[1;33m>=\u001b[0m \u001b[0mC\u001b[0m\u001b[1;33m:\u001b[0m\u001b[1;33m\u001b[0m\u001b[0m\n\u001b[0m\u001b[0;32m     30\u001b[0m       \u001b[1;32mreturn\u001b[0m \u001b[0mBAD\u001b[0m\u001b[1;33m\u001b[0m\u001b[0m\n\u001b[0;32m     31\u001b[0m     \u001b[1;32mif\u001b[0m \u001b[0mmemo\u001b[0m\u001b[1;33m[\u001b[0m\u001b[0mrequest_index\u001b[0m\u001b[1;33m]\u001b[0m\u001b[1;33m[\u001b[0m\u001b[0mcandidate_index\u001b[0m\u001b[1;33m]\u001b[0m\u001b[1;33m[\u001b[0m\u001b[0msalary_left\u001b[0m\u001b[1;33m]\u001b[0m \u001b[1;32mis\u001b[0m \u001b[1;32mnot\u001b[0m \u001b[0mNone\u001b[0m\u001b[1;33m:\u001b[0m\u001b[1;33m\u001b[0m\u001b[0m\n",
        "\u001b[1;31mKeyboardInterrupt\u001b[0m: "
       ]
      }
     ],
     "prompt_number": 212
    },
    {
     "cell_type": "code",
     "collapsed": false,
     "input": [
      "Compare(DF_15, linear=linear, gb_model=gb_model)"
     ],
     "language": "python",
     "metadata": {},
     "outputs": [
      {
       "output_type": "stream",
       "stream": "stdout",
       "text": [
        "1 gb_model\n",
        "2 linear\n",
        "3 ((fantasy_pts_per_game * (((team_poss_per_game + other_poss_per_game) / 2.0) / team_poss_per_game)) + ((-0.3 & (player_rest == 1.0)) | 0.0))\n",
        "4 (((((pts_per_game + (1.5 * ast_per_game)) * (other_def_rating_per_game / 1.041)) + (((1.2 * trb_per_game) + (2.0 * (blk_per_game + stl_per_game))) - tov_per_game)) * (((team_poss_per_game + other_poss_per_game) / 2.0) / team_poss_per_game)) + ((0.5 & is_home) | 0.0))\n",
        "252.5\t\t255.4\t\t244.2\t\t244.7\t\tmedian"
       ]
      },
      {
       "output_type": "stream",
       "stream": "stdout",
       "text": [
        "\n",
        "251.1\t\t253.8\t\t241.9\t\t240.5\t\tmean\n",
        " \t1          \t2          \t3          \t4          \n",
        "1\t    XXX    \t21 : 21 (0)\t24 : 18 (0)\t26 : 16 (0)\n",
        "2\t21 : 21 (0)\t    XXX    \t28 : 14 (0)\t31 : 11 (0)\n",
        "3\t18 : 24 (0)\t14 : 28 (0)\t    XXX    \t22 : 17 (3)\n",
        "4\t16 : 26 (0)\t11 : 31 (0)\t17 : 22 (3)\t    XXX    \n"
       ]
      }
     ],
     "prompt_number": 234
    },
    {
     "cell_type": "code",
     "collapsed": false,
     "input": [
      "Compare(DF_14, linear=linear, gb_model=gb_model)\n",
      "Compare(DF_13, linear=linear, gb_model=gb_model)"
     ],
     "language": "python",
     "metadata": {},
     "outputs": [
      {
       "output_type": "stream",
       "stream": "stdout",
       "text": [
        "1 gb_model\n",
        "2 linear\n",
        "3 ((fantasy_pts_per_game * (((team_poss_per_game + other_poss_per_game) / 2.0) / team_poss_per_game)) + ((-0.3 & (player_rest == 1.0)) | 0.0))\n",
        "4 (((((pts_per_game + (1.5 * ast_per_game)) * (other_def_rating_per_game / 1.041)) + (((1.2 * trb_per_game) + (2.0 * (blk_per_game + stl_per_game))) - tov_per_game)) * (((team_poss_per_game + other_poss_per_game) / 2.0) / team_poss_per_game)) + ((0.5 & is_home) | 0.0))\n",
        "256.1\t\t249.8\t\t259.0\t\t260.9\t\tmedian"
       ]
      },
      {
       "output_type": "stream",
       "stream": "stdout",
       "text": [
        "\n",
        "258.4\t\t249.2\t\t256.3\t\t258.9\t\tmean\n",
        " \t1          \t2          \t3           \t4           \n",
        "1\t    XXX    \t82 : 70 (2)\t76 : 76 (2) \t72 : 80 (2) \n",
        "2\t70 : 82 (2)\t    XXX    \t60 : 92 (2) \t55 : 97 (2) \n",
        "3\t76 : 76 (2)\t92 : 60 (2)\t    XXX     \t70 : 74 (10)\n",
        "4\t80 : 72 (2)\t97 : 55 (2)\t74 : 70 (10)\t    XXX     \n",
        "1"
       ]
      },
      {
       "output_type": "stream",
       "stream": "stdout",
       "text": [
        " gb_model\n",
        "2 linear\n",
        "3 ((fantasy_pts_per_game * (((team_poss_per_game + other_poss_per_game) / 2.0) / team_poss_per_game)) + ((-0.3 & (player_rest == 1.0)) | 0.0))\n",
        "4 (((((pts_per_game + (1.5 * ast_per_game)) * (other_def_rating_per_game / 1.041)) + (((1.2 * trb_per_game) + (2.0 * (blk_per_game + stl_per_game))) - tov_per_game)) * (((team_poss_per_game + other_poss_per_game) / 2.0) / team_poss_per_game)) + ((0.5 & is_home) | 0.0))\n",
        "246.1\t\t252.9\t\t248.8\t\t254.7\t\tmedian"
       ]
      },
      {
       "output_type": "stream",
       "stream": "stdout",
       "text": [
        "\n",
        "247.3\t\t252.6\t\t249.7\t\t255.0\t\tmean\n",
        " \t1          \t2          \t3          \t4          \n",
        "1\t    XXX    \t57 : 97 (0)\t67 : 87 (0)\t55 : 99 (0)\n",
        "2\t97 : 57 (0)\t    XXX    \t84 : 68 (2)\t69 : 85 (0)\n",
        "3\t87 : 67 (0)\t68 : 84 (2)\t    XXX    \t56 : 90 (8)\n",
        "4\t99 : 55 (0)\t85 : 69 (0)\t90 : 56 (8)\t    XXX    \n"
       ]
      }
     ],
     "prompt_number": 235
    },
    {
     "cell_type": "code",
     "collapsed": false,
     "input": [
      "# Uses 400 steps\n",
      "Compare(DF_15, linear=linear, gb_model=gb_model)"
     ],
     "language": "python",
     "metadata": {},
     "outputs": [
      {
       "output_type": "stream",
       "stream": "stdout",
       "text": [
        "1 gb_model\n",
        "2 linear\n",
        "3 ((fantasy_pts_per_game * (((team_poss_per_game + other_poss_per_game) / 2.0) / team_poss_per_game)) + ((-0.3 & (player_rest == 1.0)) | 0.0))\n",
        "4 (((((pts_per_game + (1.5 * ast_per_game)) * (other_def_rating_per_game / 1.041)) + (((1.2 * trb_per_game) + (2.0 * (blk_per_game + stl_per_game))) - tov_per_game)) * (((team_poss_per_game + other_poss_per_game) / 2.0) / team_poss_per_game)) + ((0.5 & is_home) | 0.0))\n",
        "249.2\t\t255.4\t\t244.2\t\t244.7\t\tmedian"
       ]
      },
      {
       "output_type": "stream",
       "stream": "stdout",
       "text": [
        "\n",
        "248.5\t\t253.8\t\t241.9\t\t240.5\t\tmean\n",
        " \t1          \t2          \t3          \t4          \n",
        "1\t    XXX    \t18 : 24 (0)\t25 : 17 (0)\t24 : 18 (0)\n",
        "2\t24 : 18 (0)\t    XXX    \t28 : 14 (0)\t31 : 11 (0)\n",
        "3\t17 : 25 (0)\t14 : 28 (0)\t    XXX    \t22 : 17 (3)\n",
        "4\t18 : 24 (0)\t11 : 31 (0)\t17 : 22 (3)\t    XXX    \n"
       ]
      }
     ],
     "prompt_number": 245
    },
    {
     "cell_type": "code",
     "collapsed": false,
     "input": [
      "from analysis import training"
     ],
     "language": "python",
     "metadata": {},
     "outputs": [
      {
       "ename": "ImportError",
       "evalue": "cannot import name LeafOrExpr",
       "output_type": "pyerr",
       "traceback": [
        "\u001b[1;31m---------------------------------------------------------------------------\u001b[0m\n\u001b[1;31mImportError\u001b[0m                               Traceback (most recent call last)",
        "\u001b[1;32m<ipython-input-246-198105dceb71>\u001b[0m in \u001b[0;36m<module>\u001b[1;34m()\u001b[0m\n\u001b[1;32m----> 1\u001b[1;33m \u001b[1;32mfrom\u001b[0m \u001b[0manalysis\u001b[0m \u001b[1;32mimport\u001b[0m \u001b[0mtraining\u001b[0m\u001b[1;33m\u001b[0m\u001b[0m\n\u001b[0m",
        "\u001b[1;32mC:\\Coding\\FanDuel\\src\\analysis\\training.py\u001b[0m in \u001b[0;36m<module>\u001b[1;34m()\u001b[0m\n\u001b[0;32m      1\u001b[0m \u001b[1;32mfrom\u001b[0m \u001b[0msklearn\u001b[0m \u001b[1;32mimport\u001b[0m \u001b[0mensemble\u001b[0m\u001b[1;33m\u001b[0m\u001b[0m\n\u001b[0;32m      2\u001b[0m \u001b[1;32mfrom\u001b[0m \u001b[0manalysis\u001b[0m \u001b[1;32mimport\u001b[0m \u001b[0mfanduel_analysis\u001b[0m\u001b[1;33m\u001b[0m\u001b[0m\n\u001b[1;32m----> 3\u001b[1;33m \u001b[1;32mfrom\u001b[0m \u001b[0mlib\u001b[0m\u001b[1;33m.\u001b[0m\u001b[0mexpression\u001b[0m \u001b[1;32mimport\u001b[0m \u001b[0mLeafOrExpr\u001b[0m\u001b[1;33m,\u001b[0m \u001b[0mAbstractExpression\u001b[0m\u001b[1;33m,\u001b[0m \u001b[0mLeaf\u001b[0m\u001b[1;33m\u001b[0m\u001b[0m\n\u001b[0m\u001b[0;32m      4\u001b[0m \u001b[1;33m\u001b[0m\u001b[0m\n\u001b[0;32m      5\u001b[0m \u001b[1;33m\u001b[0m\u001b[0m\n",
        "\u001b[1;31mImportError\u001b[0m: cannot import name LeafOrExpr"
       ]
      }
     ],
     "prompt_number": 246
    },
    {
     "cell_type": "code",
     "collapsed": false,
     "input": [
      "linear"
     ],
     "language": "python",
     "metadata": {},
     "outputs": [
      {
       "metadata": {},
       "output_type": "pyout",
       "prompt_number": 260,
       "text": [
        "LinearRegression(copy_X=True, fit_intercept=True, normalize=False)"
       ]
      }
     ],
     "prompt_number": 260
    },
    {
     "cell_type": "code",
     "collapsed": false,
     "input": [
      "import cPickle as pickle"
     ],
     "language": "python",
     "metadata": {},
     "outputs": [],
     "prompt_number": 250
    },
    {
     "cell_type": "code",
     "collapsed": false,
     "input": [
      "import os"
     ],
     "language": "python",
     "metadata": {},
     "outputs": [],
     "prompt_number": 252
    },
    {
     "cell_type": "code",
     "collapsed": false,
     "input": [
      "with open('C:/Coding/FanDuel/data/models/linear1.model', 'w') as fout:\n",
      "    pickle.dump(linear, fout)"
     ],
     "language": "python",
     "metadata": {},
     "outputs": [],
     "prompt_number": 261
    },
    {
     "cell_type": "code",
     "collapsed": false,
     "input": [
      "linear.coef_"
     ],
     "language": "python",
     "metadata": {},
     "outputs": [
      {
       "metadata": {},
       "output_type": "pyout",
       "prompt_number": 248,
       "text": [
        "array([ 0.95318288,  1.15594508,  1.2968328 ,  0.03014306,  1.08273321,\n",
        "        1.69906563, -0.15694137])"
       ]
      }
     ],
     "prompt_number": 248
    },
    {
     "cell_type": "code",
     "collapsed": false,
     "input": [
      "signal_names"
     ],
     "language": "python",
     "metadata": {},
     "outputs": [
      {
       "metadata": {},
       "output_type": "pyout",
       "prompt_number": 249,
       "text": [
        "['pts_per_game',\n",
        " 'trb_per_game',\n",
        " 'ast_per_game',\n",
        " 'tov_per_game',\n",
        " 'stl_per_game',\n",
        " 'blk_per_game',\n",
        " 'minutes_per_game']"
       ]
      }
     ],
     "prompt_number": 249
    },
    {
     "cell_type": "code",
     "collapsed": false,
     "input": [
      "signal_names = ['pts_per_game', 'trb_per_game', 'ast_per_game', 'tov_per_game', \n",
      "     'stl_per_game', 'blk_per_game', 'minutes_per_game']\n",
      "\n",
      "signal_names2 = [\n",
      " 'pts_per_game',\n",
      " 'trb_per_game',\n",
      " 'ast_per_game',\n",
      " 'tov_per_game',\n",
      " 'stl_per_game',\n",
      " 'blk_per_game',\n",
      " 'minutes_per_game',\n",
      " tempo_mult,\n",
      " 'other_def_rating_per_game']"
     ],
     "language": "python",
     "metadata": {},
     "outputs": [],
     "prompt_number": 274
    },
    {
     "cell_type": "code",
     "collapsed": false,
     "input": [
      "from analysis import training"
     ],
     "language": "python",
     "metadata": {},
     "outputs": [],
     "prompt_number": 266
    },
    {
     "cell_type": "code",
     "collapsed": false,
     "input": [
      "linear2 = linear_model.LinearRegression()\n",
      "linear1 = linear_model.LinearRegression()\n",
      "df = fanduel_analysis.ENOUGH_DATA.Filter(DF_14)"
     ],
     "language": "python",
     "metadata": {},
     "outputs": [],
     "prompt_number": 270
    },
    {
     "cell_type": "code",
     "collapsed": false,
     "input": [
      "linear1 = training.Train(linear1, df, signal_names, 'fantasy_pts',\n",
      "                        fanduel_analysis.ENOUGH_DATA)"
     ],
     "language": "python",
     "metadata": {},
     "outputs": [],
     "prompt_number": 271
    },
    {
     "cell_type": "code",
     "collapsed": false,
     "input": [
      "\n",
      "signal_names2 = [\n",
      " 'pts_per_game',\n",
      " 'trb_per_game',\n",
      " 'ast_per_game',\n",
      " 'tov_per_game',\n",
      " 'stl_per_game',\n",
      " 'blk_per_game',\n",
      " 'minutes_per_game',\n",
      " tempo_mult | 1.]\n",
      "linear2 = training.Train(linear2, df, signal_names2, 'fantasy_pts',\n",
      "                        fanduel_analysis.ENOUGH_DATA)"
     ],
     "language": "python",
     "metadata": {},
     "outputs": [],
     "prompt_number": 312
    },
    {
     "cell_type": "code",
     "collapsed": false,
     "input": [
      "linear3 = linear_model.LinearRegression()\n",
      "signal_names3 = [\n",
      " 'pts_per_game',\n",
      " 'trb_per_game',\n",
      " 'ast_per_game',\n",
      "  0.-Leaf('tov_per_game'),\n",
      " 'stl_per_game',\n",
      " 'blk_per_game',\n",
      " 'minutes_per_game',\n",
      " tempo_mult | 1.,\n",
      " Leaf('other_def_rating_per_game') | 1.]\n",
      "linear3 = training.Train(linear3, df, signal_names3, 'fantasy_pts',\n",
      "                         fanduel_analysis.ENOUGH_DATA)"
     ],
     "language": "python",
     "metadata": {},
     "outputs": [],
     "prompt_number": 314
    },
    {
     "cell_type": "code",
     "collapsed": false,
     "input": [
      "reload(training)"
     ],
     "language": "python",
     "metadata": {},
     "outputs": [
      {
       "metadata": {},
       "output_type": "pyout",
       "prompt_number": 277,
       "text": [
        "<module 'analysis.training' from 'analysis\\training.py'>"
       ]
      }
     ],
     "prompt_number": 277
    },
    {
     "cell_type": "code",
     "collapsed": false,
     "input": [
      "DF_14['linear1'] = training.EvalModel(DF_14, linear1, signal_names)\n",
      "DF_14['linear2'] = training.EvalModel(DF_14, linear2, signal_names2)\n",
      "DF_14['linear3'] = training.EvalModel(DF_14, linear3, signal_names3)"
     ],
     "language": "python",
     "metadata": {},
     "outputs": [],
     "prompt_number": 316
    },
    {
     "cell_type": "code",
     "collapsed": false,
     "input": [
      "training.CompareOnVirtualGames(DF_14, fanduel_analysis.ENOUGH_DATA, [],\n",
      "                               linear1='linear1', linear2='linear2', expr4=expr4,\n",
      "                               cumulative=cumulative_score)"
     ],
     "language": "python",
     "metadata": {},
     "outputs": [
      {
       "output_type": "stream",
       "stream": "stdout",
       "text": [
        "1 ((((pts_per_game + (1.5 * ast_per_game)) * (other_def_rating_per_game / 1.041)) + (((1.2 * trb_per_game) + (2.0 * (blk_per_game + stl_per_game))) - tov_per_game)) * (((team_poss_per_game + other_poss_per_game) / 2.0) / team_poss_per_game))\n",
        "2 linear2\n",
        "3 ((fantasy_pts_per_game * (((team_poss_per_game + other_poss_per_game) / 2.0) / team_poss_per_game)) + ((-0.3 & (player_rest == 1.0)) | 0.0))\n",
        "4 linear1\n",
        "261.0\t\t253.7\t\t259.3\t\t250.2\t\tmedian"
       ]
      },
      {
       "output_type": "stream",
       "stream": "stdout",
       "text": [
        "\n",
        "259.7\t\t257.1\t\t256.5\t\t249.2\t\tmean\n",
        " \t1           \t2           \t3           \t4           \n",
        "1\t    XXX     \t78 : 72 (3) \t74 : 66 (13)\t88 : 62 (3) \n",
        "2\t72 : 78 (3) \t    XXX     \t70 : 81 (2) \t79 : 50 (24)\n",
        "3\t66 : 74 (13)\t81 : 70 (2) \t    XXX     \t92 : 59 (2) \n",
        "4\t62 : 88 (3) \t50 : 79 (24)\t59 : 92 (2) \t    XXX     \n"
       ]
      }
     ],
     "prompt_number": 288
    },
    {
     "cell_type": "code",
     "collapsed": false,
     "input": [
      "reload(fanduel_analysis)"
     ],
     "language": "python",
     "metadata": {},
     "outputs": [
      {
       "metadata": {},
       "output_type": "pyout",
       "prompt_number": 298,
       "text": [
        "<module 'analysis.fanduel_analysis' from 'analysis\\fanduel_analysis.py'>"
       ]
      }
     ],
     "prompt_number": 298
    },
    {
     "cell_type": "code",
     "collapsed": false,
     "input": [
      "print '\\n'.join('%s %s' % x for x in zip(signal_names, linear1.coef_))"
     ],
     "language": "python",
     "metadata": {},
     "outputs": [
      {
       "output_type": "stream",
       "stream": "stdout",
       "text": [
        "pts_per_game 0.953182879408\n",
        "trb_per_game 1.15594508305\n",
        "ast_per_game 1.29683279818\n",
        "tov_per_game 0.0301430643371\n",
        "stl_per_game 1.08273320659\n",
        "blk_per_game 1.69906563141\n",
        "minutes_per_game -0.156941374054\n"
       ]
      }
     ],
     "prompt_number": 304
    },
    {
     "cell_type": "code",
     "collapsed": false,
     "input": [
      "print '\\n'.join('%s %s' % x for x in zip(signal_names2, linear2.coef_))"
     ],
     "language": "python",
     "metadata": {},
     "outputs": [
      {
       "output_type": "stream",
       "stream": "stdout",
       "text": [
        "pts_per_game 0.958927736412\n",
        "trb_per_game 1.15855967817\n",
        "ast_per_game 1.29373182445\n",
        "tov_per_game 0.0691344272049\n",
        "stl_per_game 1.12861537548\n",
        "blk_per_game 1.71769302243\n",
        "minutes_per_game -0.165389143818\n",
        "((((team_poss_per_game + other_poss_per_game) / 2.0) / team_poss_per_game) | 1.0) 14.763939737\n"
       ]
      }
     ],
     "prompt_number": 305
    },
    {
     "cell_type": "code",
     "collapsed": false,
     "input": [
      "print '\\n'.join('%s %s' % x for x in zip(signal_names3, linear3.coef_))"
     ],
     "language": "python",
     "metadata": {},
     "outputs": [
      {
       "output_type": "stream",
       "stream": "stdout",
       "text": [
        "pts_per_game 0.955411478871\n",
        "trb_per_game 1.15370083264\n",
        "ast_per_game 1.27907841903\n",
        "(0.0 - tov_per_game) -0.108578135106\n",
        "stl_per_game 1.15298950693\n",
        "blk_per_game 1.72019807746\n",
        "minutes_per_game -0.16368536609\n",
        "((((team_poss_per_game + other_poss_per_game) / 2.0) / team_poss_per_game) | 1.0) 13.6569418628\n",
        "(other_def_rating_per_game | 1.0) 12.8209374804\n"
       ]
      }
     ],
     "prompt_number": 320
    },
    {
     "cell_type": "code",
     "collapsed": false,
     "input": [
      "print linear2.coef_"
     ],
     "language": "python",
     "metadata": {},
     "outputs": [
      {
       "output_type": "stream",
       "stream": "stdout",
       "text": [
        "[  0.95892774   1.15855968   1.29373182   0.06913443   1.12861538\n",
        "   1.71769302  -0.16538914  14.76393974]\n"
       ]
      }
     ],
     "prompt_number": 292
    },
    {
     "cell_type": "code",
     "collapsed": false,
     "input": [
      "DF_15['linear1'] = training.EvalModel(DF_15, linear1, signal_names)\n",
      "DF_15['linear2'] = training.EvalModel(DF_15, linear2, signal_names2)\n",
      "DF_15['modified'] = training.EvalModel(DF_15, modified, signal_names3)\n",
      "fanduel_analysis.CheckAllFDGames(['linear1', 'linear2', 'linear3', expr4, cumulative_score],\n",
      "                                 DF_15)"
     ],
     "language": "python",
     "metadata": {},
     "outputs": [
      {
       "output_type": "stream",
       "stream": "stdout",
       "text": [
        "1 linear1\n",
        "2 linear2\n",
        "3 linear3\n",
        "4 ((fantasy_pts_per_game * (((team_poss_per_game + other_poss_per_game) / 2.0) / team_poss_per_game)) + ((-0.3 & (player_rest == 1.0)) | 0.0))\n",
        "5 ((((pts_per_game + (1.5 * ast_per_game)) * (other_def_rating_per_game / 1.041)) + (((1.2 * trb_per_game) + (2.0 * (blk_per_game + stl_per_game))) - tov_per_game)) * (((team_poss_per_game + other_poss_per_game) / 2.0) / team_poss_per_game))\n",
        "224.2\t\t222.3\t\t220.2\t\t222.3\t\t234.3\t\tmedian"
       ]
      },
      {
       "output_type": "stream",
       "stream": "stdout",
       "text": [
        "\n",
        "176.2\t\t174.9\t\t174.4\t\t172.1\t\t178.4\t\tmean\n",
        " \t1           \t2           \t3           \t4           \t5           \n",
        "1\t    XXX     \t8 : 5 (22)  \t12 : 4 (19) \t14 : 8 (13) \t11 : 11 (13)\n",
        "2\t5 : 8 (22)  \t    XXX     \t11 : 8 (16) \t16 : 5 (14) \t10 : 13 (12)\n",
        "3\t4 : 12 (19) \t8 : 11 (16) \t    XXX     \t13 : 10 (12)\t10 : 11 (14)\n",
        "4\t8 : 14 (13) \t5 : 16 (14) \t10 : 13 (12)\t    XXX     \t5 : 18 (12) \n",
        "5\t11 : 11 (13)\t13 : 10 (12)\t11 : 10 (14)\t18 : 5 (12) \t    XXX     \n"
       ]
      }
     ],
     "prompt_number": 318
    },
    {
     "cell_type": "code",
     "collapsed": false,
     "input": [
      "DF_15['linear1'] = training.EvalModel(DF_15, linear1, signal_names)\n",
      "DF_15['linear2'] = training.EvalModel(DF_15, linear2, signal_names2)\n",
      "DF_15['modified'] = training.EvalModel(DF_15, modified, signal_names3)\n",
      "fanduel_analysis.CheckVirtualFDGames(\n",
      "    ['linear1', 'linear2', 'modified', expr4, cumulative_score],\n",
      "    DF_15)"
     ],
     "language": "python",
     "metadata": {},
     "outputs": [
      {
       "output_type": "stream",
       "stream": "stdout",
       "text": [
        "1 linear1\n",
        "2 linear2\n",
        "3 modified\n",
        "4 ((fantasy_pts_per_game * (((team_poss_per_game + other_poss_per_game) / 2.0) / team_poss_per_game)) + ((-0.3 & (player_rest == 1.0)) | 0.0))\n",
        "5 ((((pts_per_game + (1.5 * ast_per_game)) * (other_def_rating_per_game / 1.041)) + (((1.2 * trb_per_game) + (2.0 * (blk_per_game + stl_per_game))) - tov_per_game)) * (((team_poss_per_game + other_poss_per_game) / 2.0) / team_poss_per_game))\n",
        "255.4\t\t258.1\t\t256.2\t\t244.2\t\t243.2\t\tmedian"
       ]
      },
      {
       "output_type": "stream",
       "stream": "stdout",
       "text": [
        "\n",
        "253.8\t\t255.6\t\t251.4\t\t241.9\t\t242.9\t\tmean\n",
        " \t1           \t2           \t3          \t4          \t5          \n",
        "1\t    XXX     \t15 : 16 (11)\t21 : 19 (2)\t28 : 14 (0)\t29 : 13 (0)\n",
        "2\t16 : 15 (11)\t    XXX     \t24 : 17 (1)\t28 : 14 (0)\t29 : 13 (0)\n",
        "3\t19 : 21 (2) \t17 : 24 (1) \t    XXX    \t24 : 17 (1)\t26 : 16 (0)\n",
        "4\t14 : 28 (0) \t14 : 28 (0) \t17 : 24 (1)\t    XXX    \t20 : 20 (2)\n",
        "5\t13 : 29 (0) \t13 : 29 (0) \t16 : 26 (0)\t20 : 20 (2)\t    XXX    \n"
       ]
      }
     ],
     "prompt_number": 342
    },
    {
     "cell_type": "code",
     "collapsed": false,
     "input": [
      "DF_12['linear1'] = training.EvalModel(DF_12, linear1, signal_names)\n",
      "DF_12['linear2'] = training.EvalModel(DF_12, linear2, signal_names2)\n",
      "DF_12['modified'] = training.EvalModel(DF_12, modified, signal_names3)\n",
      "fanduel_analysis.CheckVirtualFDGames(['linear1', 'linear2', 'modified', expr4, cumulative_score],\n",
      "                                     DF_12)"
     ],
     "language": "python",
     "metadata": {},
     "outputs": [
      {
       "output_type": "stream",
       "stream": "stdout",
       "text": [
        "1 linear1\n",
        "2 linear2\n",
        "3 modified\n",
        "4 ((fantasy_pts_per_game * (((team_poss_per_game + other_poss_per_game) / 2.0) / team_poss_per_game)) + ((-0.3 & (player_rest == 1.0)) | 0.0))\n",
        "5 ((((pts_per_game + (1.5 * ast_per_game)) * (other_def_rating_per_game / 1.041)) + (((1.2 * trb_per_game) + (2.0 * (blk_per_game + stl_per_game))) - tov_per_game)) * (((team_poss_per_game + other_poss_per_game) / 2.0) / team_poss_per_game))\n",
        "260.7\t\t257.4\t\t260.6\t\t245.0\t\t256.8\t\tmedian"
       ]
      },
      {
       "output_type": "stream",
       "stream": "stdout",
       "text": [
        "\n",
        "259.1\t\t257.3\t\t261.9\t\t248.3\t\t258.1\t\tmean\n",
        " \t1           \t2           \t3          \t4          \t5          \n",
        "1\t    XXX     \t44 : 43 (24)\t55 : 52 (4)\t65 : 45 (1)\t52 : 58 (1)\n",
        "2\t43 : 44 (24)\t    XXX     \t48 : 59 (4)\t59 : 51 (1)\t49 : 60 (2)\n",
        "3\t52 : 55 (4) \t59 : 48 (4) \t    XXX    \t70 : 41 (0)\t55 : 56 (0)\n",
        "4\t45 : 65 (1) \t51 : 59 (1) \t41 : 70 (0)\t    XXX    \t41 : 70 (0)\n",
        "5\t58 : 52 (1) \t60 : 49 (2) \t56 : 55 (0)\t70 : 41 (0)\t    XXX    \n"
       ]
      }
     ],
     "prompt_number": 341
    },
    {
     "cell_type": "code",
     "collapsed": false,
     "input": [
      "DF_13['linear1'] = training.EvalModel(DF_13, linear1, signal_names)\n",
      "DF_13['linear2'] = training.EvalModel(DF_13, linear2, signal_names2)\n",
      "DF_13['modified'] = training.EvalModel(DF_13, modified, signal_names3)\n",
      "fanduel_analysis.CheckVirtualFDGames(['linear1', 'linear2', 'modified', expr4, cumulative_score],\n",
      "                                     DF_13)"
     ],
     "language": "python",
     "metadata": {},
     "outputs": [
      {
       "output_type": "stream",
       "stream": "stdout",
       "text": [
        "1 linear1\n",
        "2 linear2\n",
        "3 modified\n",
        "4 ((fantasy_pts_per_game * (((team_poss_per_game + other_poss_per_game) / 2.0) / team_poss_per_game)) + ((-0.3 & (player_rest == 1.0)) | 0.0))\n",
        "5 ((((pts_per_game + (1.5 * ast_per_game)) * (other_def_rating_per_game / 1.041)) + (((1.2 * trb_per_game) + (2.0 * (blk_per_game + stl_per_game))) - tov_per_game)) * (((team_poss_per_game + other_poss_per_game) / 2.0) / team_poss_per_game))\n",
        "252.9\t\t256.2\t\t250.1\t\t248.8\t\t253.5\t\tmedian"
       ]
      },
      {
       "output_type": "stream",
       "stream": "stdout",
       "text": [
        "\n",
        "252.6\t\t254.0\t\t252.1\t\t249.7\t\t250.7\t\tmean\n",
        " \t1           \t2           \t3           \t4           \t5           \n",
        "1\t    XXX     \t48 : 59 (47)\t71 : 72 (11)\t84 : 68 (2) \t80 : 73 (1) \n",
        "2\t59 : 48 (47)\t    XXX     \t77 : 60 (17)\t83 : 70 (1) \t83 : 70 (1) \n",
        "3\t72 : 71 (11)\t60 : 77 (17)\t    XXX     \t83 : 71 (0) \t81 : 73 (0) \n",
        "4\t68 : 84 (2) \t70 : 83 (1) \t71 : 83 (0) \t    XXX     \t76 : 68 (10)\n",
        "5\t73 : 80 (1) \t70 : 83 (1) \t73 : 81 (0) \t68 : 76 (10)\t    XXX     \n"
       ]
      }
     ],
     "prompt_number": 340
    },
    {
     "cell_type": "code",
     "collapsed": false,
     "input": [
      "modified = linear_model.LinearRegression()\n",
      "modified = training.Train(modified, df, signal_names3, 'fantasy_pts',\n",
      "                          fanduel_analysis.ENOUGH_DATA)"
     ],
     "language": "python",
     "metadata": {},
     "outputs": [],
     "prompt_number": 322
    },
    {
     "cell_type": "code",
     "collapsed": false,
     "input": [
      "print '\\n'.join('%s %s' % x for x in zip(signal_names3, linear3.coef_))\n",
      "print '========'\n",
      "print '\\n'.join('%s %s' % x for x in zip(signal_names3, modified.coef_))"
     ],
     "language": "python",
     "metadata": {},
     "outputs": [
      {
       "output_type": "stream",
       "stream": "stdout",
       "text": [
        "pts_per_game 0.955411478871\n",
        "trb_per_game 1.15370083264\n",
        "ast_per_game 1.27907841903\n",
        "(0.0 - tov_per_game) -0.108578135106\n",
        "stl_per_game 1.15298950693\n",
        "blk_per_game 1.72019807746\n",
        "minutes_per_game -0.16368536609\n",
        "((((team_poss_per_game + other_poss_per_game) / 2.0) / team_poss_per_game) | 1.0) 13.6569418628\n",
        "(other_def_rating_per_game | 1.0) 12.8209374804\n",
        "========\n",
        "pts_per_game 0.955411478871\n",
        "trb_per_game 1.15370083264\n",
        "ast_per_game 1.27907841903\n",
        "(0.0 - tov_per_game) 0.0\n",
        "stl_per_game 1.15298950693\n",
        "blk_per_game 1.72019807746\n",
        "minutes_per_game -0.16368536609\n",
        "((((team_poss_per_game + other_poss_per_game) / 2.0) / team_poss_per_game) | 1.0) 13.6569418628\n",
        "(other_def_rating_per_game | 1.0) 12.8209374804\n"
       ]
      }
     ],
     "prompt_number": 328
    },
    {
     "cell_type": "code",
     "collapsed": false,
     "input": [
      "\n",
      "modified.coef_ = linear3.coef_"
     ],
     "language": "python",
     "metadata": {},
     "outputs": [],
     "prompt_number": 336
    },
    {
     "cell_type": "code",
     "collapsed": false,
     "input": [
      "for i, v in enumerate([1., 1.2, 1.33, 0., 1.33, 1.8, -.16, 15, 14]):\n",
      "    modified.coef_[i] = v"
     ],
     "language": "python",
     "metadata": {},
     "outputs": [],
     "prompt_number": 337
    },
    {
     "cell_type": "code",
     "collapsed": false,
     "input": [
      "DF_15['modified'] = training.EvalModel(DF_15, modified, signal_names3)\n",
      "fanduel_analysis.CheckAllFDGames(['linear3', 'modified'],\n",
      "                                 DF_15)"
     ],
     "language": "python",
     "metadata": {},
     "outputs": [
      {
       "output_type": "stream",
       "stream": "stdout",
       "text": [
        "1 linear3\n",
        "2 modified\n",
        "220.2\t\t220.2\t\tmedian"
       ]
      },
      {
       "output_type": "stream",
       "stream": "stdout",
       "text": [
        "\n",
        "174.4\t\t175.2\t\tmean\n",
        " \t1         \t2         \n",
        "1\t    XXX   \t3 : 2 (30)\n",
        "2\t2 : 3 (30)\t    XXX   \n"
       ]
      }
     ],
     "prompt_number": 338
    },
    {
     "cell_type": "code",
     "collapsed": false,
     "input": [
      "with open('C:/Coding/FanDuel/data/models/linear_extended.model', 'w') as fout:\n",
      "    pickle.dump(modified, fout)"
     ],
     "language": "python",
     "metadata": {},
     "outputs": [],
     "prompt_number": 343
    },
    {
     "cell_type": "code",
     "collapsed": false,
     "input": [],
     "language": "python",
     "metadata": {},
     "outputs": []
    }
   ],
   "metadata": {}
  }
 ]
}