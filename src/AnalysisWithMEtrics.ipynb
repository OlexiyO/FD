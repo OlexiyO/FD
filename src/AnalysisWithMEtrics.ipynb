{
 "metadata": {
  "name": "",
  "signature": "sha256:b891a814543501d1c83f2b83473dbab4bb379cba29fdab11c22c2595c00ca305"
 },
 "nbformat": 3,
 "nbformat_minor": 0,
 "worksheets": [
  {
   "cells": [
    {
     "cell_type": "code",
     "collapsed": false,
     "input": [
      "from crawl import boxscore_crawler, boxscore_parser\n",
      "from lib import expression\n",
      "from lib.plotting import *\n",
      "from analysis import load\n",
      "from analysis import fanduel_analysis\n",
      "from analysis import metrics\n",
      "from lib.misc_functions import *\n",
      "import pandas as pd\n",
      "from crawl import fanduel_parser\n",
      "from crawl import player_ids"
     ],
     "language": "python",
     "metadata": {},
     "outputs": [],
     "prompt_number": 32
    },
    {
     "cell_type": "code",
     "collapsed": false,
     "input": [
      "from lib.expression import *\n",
      "\n",
      "golden = Leaf('fantasy_pts')\n",
      "expr1 = Leaf('fantasy_pts_per_game')\n",
      "old_tempo = Leaf('team_poss_per_game')\n",
      "predicted_tempo = (Leaf('team_poss_per_game') + Leaf('other_poss_per_game')) / 2.\n",
      "tempo_mult = predicted_tempo / old_tempo\n",
      "expr2 = expr1 * tempo_mult\n",
      "\n",
      "rest_adjust = (-.3 & (Leaf('player_rest') == 1)) | 0.\n",
      "expr3 = expr1 + rest_adjust\n",
      "expr4 = expr2 + rest_adjust\n",
      "\n",
      "# Coaches trust good players more with no rest!!\n",
      "# rest_adjust_for_good = 1. & (Leaf('player_rest') == 1) & (Leaf('player_previous_minutes') > 30)\n",
      "#expr5 = expr4 + rest_adjust_for_good\n",
      "expr6 = expr4 + ((.5 & Leaf('is_home')) | 0.)\n",
      "\n",
      "home_adjust_big = (1. & (Leaf('minutes_per_game') > 25) & Leaf('is_home'))\n",
      "home_adjust_small = (.5 & Leaf('is_home'))\n",
      "expr7 = expr4 + (home_adjust_big | home_adjust_small | 0)"
     ],
     "language": "python",
     "metadata": {},
     "outputs": [],
     "prompt_number": 39
    },
    {
     "cell_type": "code",
     "collapsed": false,
     "input": [
      "old_tempo = Leaf('team_poss_per_game')\n",
      "predicted_tempo = (Leaf('team_poss_per_game') + Leaf('other_poss_per_game')) / 2.\n",
      "tempo_mult = predicted_tempo / old_tempo\n",
      "\n",
      "off_part = Leaf('pts_per_game') + 1.5 * Leaf('ast_per_game')\n",
      "off_part *= Leaf('other_def_rating_per_game') / 1.041\n",
      "other_part = 1.2 * Leaf('trb_per_game')\n",
      "other_part += 2. * (Leaf('blk_per_game') + Leaf('stl_per_game'))\n",
      "other_part -= Leaf('tov_per_game')\n",
      "cumulative_score = (off_part + other_part) * tempo_mult\n",
      "cumulative_score_with_home = cumulative_score + ((.5 & Leaf('is_home')) | 0.)"
     ],
     "language": "python",
     "metadata": {},
     "outputs": [],
     "prompt_number": 40
    },
    {
     "cell_type": "code",
     "collapsed": false,
     "input": [
      "DF_11 = load.LoadDataForSeason(2011)\n",
      "DF_12 = load.LoadDataForSeason(2012)\n",
      "DF_13 = load.LoadDataForSeason(2013)\n",
      "DF_14 = load.LoadDataForSeason(2014)\n",
      "DF_15 = load.LoadDataForSeason(2015)"
     ],
     "language": "python",
     "metadata": {},
     "outputs": [
      {
       "output_type": "stream",
       "stream": "stdout",
       "text": [
        "Loaded from disk: 15.5228340267\n",
        "Processed:"
       ]
      },
      {
       "output_type": "stream",
       "stream": "stdout",
       "text": [
        " 37.6619022766\n",
        "Loaded from disk:"
       ]
      },
      {
       "output_type": "stream",
       "stream": "stdout",
       "text": [
        " 16.1105739756\n",
        "Processed:"
       ]
      },
      {
       "output_type": "stream",
       "stream": "stdout",
       "text": [
        " 33.4449890592\n",
        "Loaded from disk:"
       ]
      },
      {
       "output_type": "stream",
       "stream": "stdout",
       "text": [
        " 14.2915075007\n",
        "Processed:"
       ]
      },
      {
       "output_type": "stream",
       "stream": "stdout",
       "text": [
        " 35.7186297199\n",
        "Loaded from disk:"
       ]
      },
      {
       "output_type": "stream",
       "stream": "stdout",
       "text": [
        " 12.3813195381\n",
        "Processed:"
       ]
      },
      {
       "output_type": "stream",
       "stream": "stdout",
       "text": [
        " 38.2330682336\n"
       ]
      }
     ],
     "prompt_number": 4
    },
    {
     "cell_type": "code",
     "collapsed": false,
     "input": [
      "big_filter = (Leaf('minutes_per_game') >= 10) & (Leaf('minutes') >= 10) & (Leaf('games_played') >= 10)"
     ],
     "language": "python",
     "metadata": {},
     "outputs": [],
     "prompt_number": 18
    },
    {
     "cell_type": "code",
     "collapsed": false,
     "input": [
      "df_11_big = DF_11[~big_filter.Eval(DF_11).isnull()]\n",
      "df_12_big = DF_12[~big_filter.Eval(DF_12).isnull()]\n",
      "df_13_big = DF_13[~big_filter.Eval(DF_13).isnull()]\n",
      "df_14_big = DF_14[~big_filter.Eval(DF_14).isnull()]\n",
      "df_15_big = DF_15[~big_filter.Eval(DF_15).isnull()]"
     ],
     "language": "python",
     "metadata": {},
     "outputs": [],
     "prompt_number": 8
    },
    {
     "cell_type": "code",
     "collapsed": false,
     "input": [
      "df_11_big.name = 'df_11_big'\n",
      "df_12_big.name = 'df_12_big'\n",
      "df_13_big.name = 'df_13_big'\n",
      "df_14_big.name = 'df_14_big'\n",
      "df_15_big.name = 'df_15_big'"
     ],
     "language": "python",
     "metadata": {},
     "outputs": [],
     "prompt_number": 15
    },
    {
     "cell_type": "code",
     "collapsed": false,
     "input": [
      "l1metric = metrics.L1Metric(golden)"
     ],
     "language": "python",
     "metadata": {},
     "outputs": [],
     "prompt_number": 12
    },
    {
     "cell_type": "code",
     "collapsed": false,
     "input": [
      "def CompareOnDataSets(metric, dfs, predictions):\n",
      "    def Generate():\n",
      "        empty_row = [''] * (len(dfs) + 1)\n",
      "        yield [''] + ['%s' % df.name for df in dfs]\n",
      "        base = [metric.Compute(df, predictions[0]) for df in dfs]\n",
      "        for i, pred in enumerate(predictions):\n",
      "            vals1 = [metric.Compute(df, pred) for df in dfs]\n",
      "            yield ['%d' % (i + 1)] + ['%.2f' % v for v in vals1]\n",
      "            if i:  # Do not print deltas for the base\n",
      "                yield ['%d' % (i + 1)] + ['%+.2f' % (v1 - v0) for v0, v1 in zip(base, vals1)]\n",
      "            yield empty_row\n",
      "    PrintRows(Generate())"
     ],
     "language": "python",
     "metadata": {},
     "outputs": [],
     "prompt_number": 16
    },
    {
     "cell_type": "code",
     "collapsed": false,
     "input": [
      "CompareOnDataSets(l1metric, [df_11_big, df_12_big, df_13_big, df_14_big, df_15_big],\n",
      "                  [expr1, expr4, cumulative_score])"
     ],
     "language": "python",
     "metadata": {},
     "outputs": [
      {
       "output_type": "stream",
       "stream": "stdout",
       "text": [
        " \tdf_11_big\tdf_12_big\tdf_13_big\tdf_14_big\tdf_15_big\n",
        "1\t73.41    \t72.14    \t72.26    \t72.28    \t70.38    \n",
        " \t         \t         \t         \t         \t         \n",
        "2\t73.33    \t72.21    \t72.27    \t72.19    \t70.53    \n",
        "2\t-0.08    \t+0.07    \t+0.02    \t-0.09    \t+0.15    \n",
        " \t         \t         \t         \t         \t         \n",
        "3\t73.25    \t71.99    \t72.08    \t72.04    \t70.63    \n",
        "3\t-0.16    \t-0.15    \t-0.18    \t-0.25    \t+0.24    \n",
        " \t         \t         \t         \t         \t         \n"
       ]
      }
     ],
     "prompt_number": 17
    },
    {
     "cell_type": "code",
     "collapsed": false,
     "input": [
      "from analysis import knapsack\n",
      "reload(knapsack)\n",
      "reload(fanduel_analysis)"
     ],
     "language": "python",
     "metadata": {},
     "outputs": [
      {
       "metadata": {},
       "output_type": "pyout",
       "prompt_number": 20,
       "text": [
        "<module 'analysis.fanduel_analysis' from 'analysis\\fanduel_analysis.pyc'>"
       ]
      }
     ],
     "prompt_number": 20
    },
    {
     "cell_type": "code",
     "collapsed": false,
     "input": [
      "fanduel_analysis.CheckVirtualFDGames(expr1, expr4, DF_11, print_per_day=False)"
     ],
     "language": "python",
     "metadata": {},
     "outputs": [
      {
       "output_type": "stream",
       "stream": "stdout",
       "text": [
        "Base: fantasy_pts_per_game\n",
        "Test: ((fantasy_pts_per_game * (((team_poss_per_game + other_poss_per_game) / 2.0) / team_poss_per_game)) + ((-0.3 & (player_rest == 1.0)) | 0.0))\n",
        "Base\t\tTest\t\tDraw\n",
        "71\t\t81\t\t(3):\n",
        "241.1\t\t252.3\t\tmedian\n",
        "243.9\t\t249.2\t\tmean\n"
       ]
      }
     ],
     "prompt_number": 21
    },
    {
     "cell_type": "code",
     "collapsed": false,
     "input": [
      "fanduel_analysis.CheckVirtualFDGames(expr1, expr4, DF_12, print_per_day=False)"
     ],
     "language": "python",
     "metadata": {},
     "outputs": [
      {
       "output_type": "stream",
       "stream": "stdout",
       "text": [
        "Base: fantasy_pts_per_game\n",
        "Test: ((fantasy_pts_per_game * (((team_poss_per_game + other_poss_per_game) / 2.0) / team_poss_per_game)) + ((-0.3 & (player_rest == 1.0)) | 0.0))\n",
        "Base\t\tTest\t\tDraw\n",
        "53\t\t58\t\t(0):\n",
        "238.1\t\t245.0\t\tmedian\n",
        "242.7\t\t246.8\t\tmean\n"
       ]
      }
     ],
     "prompt_number": 22
    },
    {
     "cell_type": "code",
     "collapsed": false,
     "input": [
      "fanduel_analysis.CheckVirtualFDGames(expr1, expr4, DF_13, print_per_day=False)"
     ],
     "language": "python",
     "metadata": {},
     "outputs": [
      {
       "output_type": "stream",
       "stream": "stdout",
       "text": [
        "Base: fantasy_pts_per_game\n",
        "Test: ((fantasy_pts_per_game * (((team_poss_per_game + other_poss_per_game) / 2.0) / team_poss_per_game)) + ((-0.3 & (player_rest == 1.0)) | 0.0))\n",
        "Base\t\tTest\t\tDraw\n",
        "78\t\t75\t\t(1):\n",
        "243.8\t\t248.2\t\tmedian\n",
        "243.9\t\t246.9\t\tmean\n"
       ]
      }
     ],
     "prompt_number": 23
    },
    {
     "cell_type": "code",
     "collapsed": false,
     "input": [
      "fanduel_analysis.CheckVirtualFDGames(expr1, expr4, DF_14, print_per_day=False)"
     ],
     "language": "python",
     "metadata": {},
     "outputs": [
      {
       "output_type": "stream",
       "stream": "stdout",
       "text": [
        "Base: fantasy_pts_per_game\n",
        "Test: ((fantasy_pts_per_game * (((team_poss_per_game + other_poss_per_game) / 2.0) / team_poss_per_game)) + ((-0.3 & (player_rest == 1.0)) | 0.0))\n",
        "Base\t\tTest\t\tDraw\n",
        "58\t\t95\t\t(1):\n",
        "222.0\t\t238.1\t\tmedian\n",
        "221.5\t\t237.4\t\tmean\n"
       ]
      }
     ],
     "prompt_number": 24
    },
    {
     "cell_type": "code",
     "collapsed": false,
     "input": [
      "fanduel_analysis.CheckVirtualFDGames(expr1, expr4, DF_15, print_per_day=False)"
     ],
     "language": "python",
     "metadata": {},
     "outputs": [
      {
       "output_type": "stream",
       "stream": "stdout",
       "text": [
        "Base: fantasy_pts_per_game\n",
        "Test: ((fantasy_pts_per_game * (((team_poss_per_game + other_poss_per_game) / 2.0) / team_poss_per_game)) + ((-0.3 & (player_rest == 1.0)) | 0.0))\n",
        "Base\t\tTest\t\tDraw\n",
        "17\t\t25\t\t(0):\n",
        "225.0\t\t230.3\t\tmedian\n",
        "224.3\t\t229.1\t\tmean\n"
       ]
      }
     ],
     "prompt_number": 25
    },
    {
     "cell_type": "code",
     "collapsed": false,
     "input": [
      "fanduel_analysis.CheckVirtualFDGames(expr4, cumulative_score, DF_11, print_per_day=False)"
     ],
     "language": "python",
     "metadata": {},
     "outputs": [
      {
       "output_type": "stream",
       "stream": "stdout",
       "text": [
        "Base: ((fantasy_pts_per_game * (((team_poss_per_game + other_poss_per_game) / 2.0) / team_poss_per_game)) + ((-0.3 & (player_rest == 1.0)) | 0.0))\n",
        "Test: ((((pts_per_game + (1.5 * ast_per_game)) * (other_def_rating_per_game / 1.041)) + (((1.2 * trb_per_game) + (2.0 * (blk_per_game + stl_per_game))) - tov_per_game)) * (((team_poss_per_game + other_poss_per_game) / 2.0) / team_poss_per_game))\n",
        "Base\t\tTest\t\tDraw\n",
        "71\t\t70\t\t(14):\n",
        "252.3\t\t252.9\t\tmedian\n",
        "249.2\t\t254.1\t\tmean\n"
       ]
      }
     ],
     "prompt_number": 26
    },
    {
     "cell_type": "code",
     "collapsed": false,
     "input": [
      "fanduel_analysis.CheckVirtualFDGames(expr4, cumulative_score, DF_12, print_per_day=False)"
     ],
     "language": "python",
     "metadata": {},
     "outputs": [
      {
       "output_type": "stream",
       "stream": "stdout",
       "text": [
        "Base: ((fantasy_pts_per_game * (((team_poss_per_game + other_poss_per_game) / 2.0) / team_poss_per_game)) + ((-0.3 & (player_rest == 1.0)) | 0.0))\n",
        "Test: ((((pts_per_game + (1.5 * ast_per_game)) * (other_def_rating_per_game / 1.041)) + (((1.2 * trb_per_game) + (2.0 * (blk_per_game + stl_per_game))) - tov_per_game)) * (((team_poss_per_game + other_poss_per_game) / 2.0) / team_poss_per_game))\n",
        "Base\t\tTest\t\tDraw\n",
        "43\t\t68\t\t(0):\n",
        "245.0\t\t251.6\t\tmedian\n",
        "246.8\t\t255.2\t\tmean\n"
       ]
      }
     ],
     "prompt_number": 27
    },
    {
     "cell_type": "code",
     "collapsed": false,
     "input": [
      "fanduel_analysis.CheckVirtualFDGames(expr4, cumulative_score, DF_13, print_per_day=False)"
     ],
     "language": "python",
     "metadata": {},
     "outputs": [
      {
       "output_type": "stream",
       "stream": "stdout",
       "text": [
        "Base: ((fantasy_pts_per_game * (((team_poss_per_game + other_poss_per_game) / 2.0) / team_poss_per_game)) + ((-0.3 & (player_rest == 1.0)) | 0.0))\n",
        "Test: ((((pts_per_game + (1.5 * ast_per_game)) * (other_def_rating_per_game / 1.041)) + (((1.2 * trb_per_game) + (2.0 * (blk_per_game + stl_per_game))) - tov_per_game)) * (((team_poss_per_game + other_poss_per_game) / 2.0) / team_poss_per_game))\n",
        "Base\t\tTest\t\tDraw\n",
        "76\t\t66\t\t(12):\n",
        "248.2\t\t250.7\t\tmedian\n",
        "246.9\t\t248.0\t\tmean\n"
       ]
      }
     ],
     "prompt_number": 28
    },
    {
     "cell_type": "code",
     "collapsed": false,
     "input": [
      "fanduel_analysis.CheckVirtualFDGames(expr4, cumulative_score, DF_14, print_per_day=False)"
     ],
     "language": "python",
     "metadata": {},
     "outputs": [
      {
       "output_type": "stream",
       "stream": "stdout",
       "text": [
        "Base: ((fantasy_pts_per_game * (((team_poss_per_game + other_poss_per_game) / 2.0) / team_poss_per_game)) + ((-0.3 & (player_rest == 1.0)) | 0.0))\n",
        "Test: ((((pts_per_game + (1.5 * ast_per_game)) * (other_def_rating_per_game / 1.041)) + (((1.2 * trb_per_game) + (2.0 * (blk_per_game + stl_per_game))) - tov_per_game)) * (((team_poss_per_game + other_poss_per_game) / 2.0) / team_poss_per_game))\n",
        "Base\t\tTest\t\tDraw\n",
        "77\t\t68\t\t(9):\n",
        "238.1\t\t234.5\t\tmedian\n",
        "237.4\t\t237.1\t\tmean\n"
       ]
      }
     ],
     "prompt_number": 31
    },
    {
     "cell_type": "code",
     "collapsed": false,
     "input": [
      "fanduel_analysis.CheckVirtualFDGames(expr4, cumulative_score, DF_15, print_per_day=False)"
     ],
     "language": "python",
     "metadata": {},
     "outputs": [
      {
       "output_type": "stream",
       "stream": "stdout",
       "text": [
        "Base: ((fantasy_pts_per_game * (((team_poss_per_game + other_poss_per_game) / 2.0) / team_poss_per_game)) + ((-0.3 & (player_rest == 1.0)) | 0.0))\n",
        "Test: ((((pts_per_game + (1.5 * ast_per_game)) * (other_def_rating_per_game / 1.041)) + (((1.2 * trb_per_game) + (2.0 * (blk_per_game + stl_per_game))) - tov_per_game)) * (((team_poss_per_game + other_poss_per_game) / 2.0) / team_poss_per_game))\n",
        "Base\t\tTest\t\tDraw\n",
        "20\t\t20\t\t(2):\n",
        "230.3\t\t228.2\t\tmedian\n",
        "229.1\t\t232.2\t\tmean\n"
       ]
      }
     ],
     "prompt_number": 30
    },
    {
     "cell_type": "code",
     "collapsed": false,
     "input": [],
     "language": "python",
     "metadata": {},
     "outputs": []
    },
    {
     "cell_type": "code",
     "collapsed": false,
     "input": [
      "fanduel_analysis.CheckVirtualFDGames(expr4, expr10, DF_14, print_per_day=False)"
     ],
     "language": "python",
     "metadata": {},
     "outputs": [
      {
       "output_type": "stream",
       "stream": "stdout",
       "text": [
        "Base: ((fantasy_pts_per_game * (((team_poss_per_game + other_poss_per_game) / 2.0) / team_poss_per_game)) + ((-0.3 & (player_rest == 1.0)) | 0.0))\n",
        "Test: ((fantasy_pts_per_game * (((team_poss_per_game + other_poss_per_game) / 2.0) / team_poss_per_game)) * ((other_def_rating_per_game / (team_pts_per_game / team_poss_per_game)) | 1.0))\n",
        "Base\t\tTest\t\tDraw\n",
        "45\t\t54\t\t(55):\n",
        "195.2\t\t196.3\t\tmedian\n",
        "194.4\t\t195.0\t\tmean\n"
       ]
      }
     ],
     "prompt_number": 170
    },
    {
     "cell_type": "code",
     "collapsed": false,
     "input": [
      "off_rating = Leaf('team_pts_per_game') / Leaf('team_poss_per_game')\n",
      "other_def_rating = Leaf('other_def_rating_per_game')\n",
      "def_adjust = (other_def_rating / off_rating) | 1.\n",
      "\n",
      "pts_with_opp_def = pts_pg * Leaf('other_def_rating_per_game')\n",
      "pts_with_tempo_opp_def = pts_pg * tempo_mult * Leaf('other_def_rating_per_game')\n",
      "mpg = (Leaf('minutes_per_game') / 25.)\n",
      "home_adjust = ((mpg & (Leaf('is_home'))) | 0.)\n",
      "pts_with_home = pts_with_tempo + home_adjust"
     ],
     "language": "python",
     "metadata": {},
     "outputs": [],
     "prompt_number": 215
    },
    {
     "cell_type": "code",
     "collapsed": false,
     "input": [
      "reload(fanduel_analysis)\n",
      "fanduel_analysis.CheckAllFDGames([pts_pg, pts_with_tempo, pts_with_opp_def, pts_with_tempo_opp_def],\n",
      "                                 DF_15, print_selections=False,\n",
      "                                 expr_real_result=Leaf('pts'))"
     ],
     "language": "python",
     "metadata": {},
     "outputs": [
      {
       "output_type": "stream",
       "stream": "stdout",
       "text": [
        "130.5\t\t124.5\t\t127.5\t\t130.0\t\tmedian\n",
        "116.2\t\t118.8\t\t116.0\t\t119.2\t\tmean\n"
       ]
      }
     ],
     "prompt_number": 232
    },
    {
     "cell_type": "code",
     "collapsed": false,
     "input": [
      "reload(fanduel_analysis)\n",
      "fanduel_analysis.CheckVirtualFDGames(pts_pg, pts_with_opp_def, DF_14, print_per_day=False,\n",
      "                                     expr_real_result=Leaf('pts'),\n",
      "                                     expr_salaries_from=Leaf('pts_per_game'))"
     ],
     "language": "python",
     "metadata": {},
     "outputs": [
      {
       "output_type": "stream",
       "stream": "stdout",
       "text": [
        "Base: pts_per_game\n",
        "Test: (pts_per_game * other_def_rating_per_game)\n",
        "Base\t\tTest\t\tDraw\n",
        "73\t\t78\t\t(3):\n",
        "120.0\t\t116.5\t\tmedian\n",
        "116.8\t\t117.2\t\tmean\n"
       ]
      }
     ],
     "prompt_number": 233
    },
    {
     "cell_type": "code",
     "collapsed": false,
     "input": [
      "fanduel_analysis.CheckVirtualFDGames(pts_pg, pts_with_tempo_opp_def, DF_14, print_per_day=False,\n",
      "                                     expr_real_result=Leaf('pts'),\n",
      "                                     expr_salaries_from=Leaf('pts_per_game'))"
     ],
     "language": "python",
     "metadata": {},
     "outputs": [
      {
       "output_type": "stream",
       "stream": "stdout",
       "text": [
        "Base: pts_per_game\n",
        "Test: ((pts_per_game * (((team_poss_per_game + other_poss_per_game) / 2.0) / team_poss_per_game)) * other_def_rating_per_game)\n",
        "Base\t\tTest\t\tDraw\n",
        "67\t\t85\t\t(2):\n",
        "120.0\t\t123.5\t\tmedian\n",
        "116.8\t\t119.8\t\tmean\n"
       ]
      }
     ],
     "prompt_number": 235
    },
    {
     "cell_type": "code",
     "collapsed": false,
     "input": [
      "fanduel_analysis.CheckVirtualFDGames(pts_pg, pts_with_tempo, DF_14, print_per_day=False,\n",
      "                                     expr_real_result=Leaf('pts'),\n",
      "                                     expr_salaries_from=Leaf('pts_per_game'))"
     ],
     "language": "python",
     "metadata": {},
     "outputs": [
      {
       "output_type": "stream",
       "stream": "stdout",
       "text": [
        "Base: pts_per_game\n",
        "Test: (pts_per_game * (((team_poss_per_game + other_poss_per_game) / 2.0) / team_poss_per_game))\n",
        "Base\t\tTest\t\tDraw\n",
        "57\t\t94\t\t(3):\n",
        "120.0\t\t124.0\t\tmedian\n",
        "116.8\t\t123.9\t\tmean\n"
       ]
      }
     ],
     "prompt_number": 236
    },
    {
     "cell_type": "code",
     "collapsed": false,
     "input": [
      "fanduel_analysis.CheckVirtualFDGames(pts_with_tempo, pts_with_tempo_opp_def, DF_14, print_per_day=False,\n",
      "                                     expr_real_result=Leaf('pts'),\n",
      "                                     expr_salaries_from=Leaf('pts_per_game'))"
     ],
     "language": "python",
     "metadata": {},
     "outputs": [
      {
       "output_type": "stream",
       "stream": "stdout",
       "text": [
        "Base: (pts_per_game * (((team_poss_per_game + other_poss_per_game) / 2.0) / team_poss_per_game))\n",
        "Test: ((pts_per_game * (((team_poss_per_game + other_poss_per_game) / 2.0) / team_poss_per_game)) * other_def_rating_per_game)\n",
        "Base\t\tTest\t\tDraw\n",
        "79\t\t62\t\t(13):\n",
        "124.0\t\t123.5\t\tmedian\n",
        "123.9\t\t119.8\t\tmean\n"
       ]
      }
     ],
     "prompt_number": 234
    },
    {
     "cell_type": "code",
     "collapsed": false,
     "input": [
      "fanduel_analysis.CheckAllFDGames([pts_with_tempo, pts_with_tempo_opp_def],\n",
      "                                 DF_15, print_selections=False,\n",
      "                                 expr_real_result=Leaf('pts'))"
     ],
     "language": "python",
     "metadata": {},
     "outputs": [
      {
       "output_type": "stream",
       "stream": "stdout",
       "text": [
        "124.5\t\t130.0\t\tmedian\n",
        "118.8\t\t119.2\t\tmean\n"
       ]
      }
     ],
     "prompt_number": 239
    },
    {
     "cell_type": "code",
     "collapsed": false,
     "input": [
      "fanduel_analysis.CheckVirtualFDGames(pts_with_tempo, pts_with_tempo_opp_def, DF_14, print_per_day=False,\n",
      "                                     expr_real_result=Leaf('pts'),"
     ],
     "language": "python",
     "metadata": {},
     "outputs": []
    },
    {
     "cell_type": "code",
     "collapsed": false,
     "input": [
      "fanduel_analysis.CheckVirtualFDGames(pts_with_tempo, pts_with_home, DF_14, print_per_day=False,\n",
      "                                     expr_real_result=Leaf('pts'))"
     ],
     "language": "python",
     "metadata": {},
     "outputs": []
    },
    {
     "cell_type": "code",
     "collapsed": false,
     "input": [
      "fanduel_analysis.CheckVirtualFDGames(pts_with_tempo, pts_with_tempo * Leaf('other_def_rating_per_game'), DF_14, print_per_day=False,\n",
      "                                     expr_real_result=Leaf('pts'))"
     ],
     "language": "python",
     "metadata": {},
     "outputs": []
    },
    {
     "cell_type": "code",
     "collapsed": false,
     "input": [
      "fanduel_analysis.CheckVirtualFDGames(expr6, pts_with_tempo * Leaf('other_def_rating_per_game'), DF_14, print_per_day=False,\n",
      "                                     expr_real_result=Leaf('pts'))"
     ],
     "language": "python",
     "metadata": {},
     "outputs": []
    },
    {
     "cell_type": "code",
     "collapsed": false,
     "input": [
      "fanduel_analysis.CheckAllFDGames([pts_pg, pts_with_tempo, pts_with_tempo * Leaf('other_def_rating_per_game')],\n",
      "                                 DF_15, print_selections=False,\n",
      "                                 expr_real_result=Leaf('pts'))"
     ],
     "language": "python",
     "metadata": {},
     "outputs": []
    },
    {
     "cell_type": "code",
     "collapsed": false,
     "input": [
      "fanduel_analysis.CheckVirtualFDGames(pts_with_tempo, pts_with_tempo_opp_def,\n",
      "                                     df_train, print_per_day=False,\n",
      "                                     expr_real_result=Leaf('pts'))"
     ],
     "language": "python",
     "metadata": {},
     "outputs": [
      {
       "output_type": "stream",
       "stream": "stdout",
       "text": [
        "Base: (pts_per_game * (((team_poss_per_game + other_poss_per_game) / 2.0) / team_poss_per_game))\n",
        "Test: ((pts_per_game * (((team_poss_per_game + other_poss_per_game) / 2.0) / team_poss_per_game)) * other_def_rating_per_game)\n",
        "Base\t\tTest\t\tDraw\n",
        "18\t\t12\t\t(40):\n",
        "102.5\t\t102.5\t\tmedian\n",
        "101.2\t\t100.9\t\tmean\n"
       ]
      }
     ],
     "prompt_number": 221
    },
    {
     "cell_type": "code",
     "collapsed": false,
     "input": [
      "fanduel_analysis.CheckVirtualFDGames(pts_with_tempo, pts_with_tempo_opp_def,\n",
      "                                     df_test, print_per_day=False,\n",
      "                                     expr_real_result=Leaf('pts'))"
     ],
     "language": "python",
     "metadata": {},
     "outputs": [
      {
       "output_type": "stream",
       "stream": "stdout",
       "text": [
        "Base: (pts_per_game * (((team_poss_per_game + other_poss_per_game) / 2.0) / team_poss_per_game))\n",
        "Test: ((pts_per_game * (((team_poss_per_game + other_poss_per_game) / 2.0) / team_poss_per_game)) * other_def_rating_per_game)\n",
        "Base\t\tTest\t\tDraw\n",
        "14\t\t21\t\t(40):\n",
        "99.0\t\t100.0\t\tmedian\n",
        "99.1\t\t99.7\t\tmean\n"
       ]
      }
     ],
     "prompt_number": 222
    },
    {
     "cell_type": "code",
     "collapsed": false,
     "input": [
      "fpt_pg = Leaf('fantasy_pts_per_game')\n",
      "old_tempo = Leaf('team_poss_per_game')\n",
      "predicted_tempo = (Leaf('team_poss_per_game') + Leaf('other_poss_per_game')) / 2.\n",
      "tempo_mult = predicted_tempo / old_tempo\n",
      "other_def_rating = Leaf('other_def_rating_per_game')\n",
      "complex_score = fpt_pg * tempo_mult * other_def_rating\n",
      "\n",
      "fanduel_analysis.CheckVirtualFDGames(fpt_pg, complex_score,\n",
      "                                     DF_14, print_per_day=False)"
     ],
     "language": "python",
     "metadata": {},
     "outputs": [
      {
       "output_type": "stream",
       "stream": "stdout",
       "text": [
        "Base: fantasy_pts_per_game\n",
        "Test: ((fantasy_pts_per_game * (((team_poss_per_game + other_poss_per_game) / 2.0) / team_poss_per_game)) * other_def_rating_per_game)\n",
        "Base\t\tTest\t\tDraw\n",
        "38\t\t37\t\t(79):\n",
        "197.9\t\t198.1\t\tmedian\n",
        "197.3\t\t196.9\t\tmean\n"
       ]
      }
     ],
     "prompt_number": 223
    },
    {
     "cell_type": "code",
     "collapsed": false,
     "input": [
      "fanduel_analysis.CheckVirtualFDGames(fpt_pg, tempo_mult * fpt_pg,\n",
      "                                     DF_14, print_per_day=False)"
     ],
     "language": "python",
     "metadata": {},
     "outputs": [
      {
       "output_type": "stream",
       "stream": "stdout",
       "text": [
        "Base: fantasy_pts_per_game\n",
        "Test: ((((team_poss_per_game + other_poss_per_game) / 2.0) / team_poss_per_game) * fantasy_pts_per_game)\n",
        "Base\t\tTest\t\tDraw\n",
        "28\t\t23\t\t(103):\n",
        "197.9\t\t198.4\t\tmedian\n",
        "197.3\t\t197.0\t\tmean\n"
       ]
      }
     ],
     "prompt_number": 224
    },
    {
     "cell_type": "code",
     "collapsed": false,
     "input": [
      "off_stat = Leaf('pts_per_game') + 1.5 * Leaf('ast_per_game')\n",
      "off_part = off_stat * Leaf('other_def_rating_per_game') / 1.041\n",
      "other_part = 1.2 * Leaf('trb_per_game') + 2. * (Leaf('blk_per_game') + Leaf('stl_per_game'))\n",
      "other_part -= Leaf('tov_per_game')\n",
      "cumulative_score = (off_part + other_part) * tempo_mult"
     ],
     "language": "python",
     "metadata": {},
     "outputs": [],
     "prompt_number": 229
    },
    {
     "cell_type": "code",
     "collapsed": false,
     "input": [
      "fanduel_analysis.CheckVirtualFDGames(fpt_pg, cumulative_score,\n",
      "                                     DF_14, print_per_day=False)"
     ],
     "language": "python",
     "metadata": {},
     "outputs": [
      {
       "output_type": "stream",
       "stream": "stdout",
       "text": [
        "Base: fantasy_pts_per_game\n",
        "Test: (((((pts_per_game + (1.5 * ast_per_game)) * other_def_rating_per_game) / 1.041) + (((1.2 * trb_per_game) + (2.0 * (blk_per_game + stl_per_game))) - tov_per_game)) * (((team_poss_per_game + other_poss_per_game) / 2.0) / team_poss_per_game))\n",
        "Base\t\tTest\t\tDraw\n",
        "50\t\t102\t\t(2):\n",
        "222.0\t\t234.5\t\tmedian\n",
        "221.5\t\t237.1\t\tmean\n"
       ]
      }
     ],
     "prompt_number": 242
    },
    {
     "cell_type": "code",
     "collapsed": false,
     "input": [
      "reload(fanduel_analysis)\n",
      "fanduel_analysis.CheckAllFDGames([fpt_pg, cumulative_score], DF_15)"
     ],
     "language": "python",
     "metadata": {},
     "outputs": [
      {
       "output_type": "stream",
       "stream": "stdout",
       "text": [
        "0 fantasy_pts_per_game\n",
        "1 (((((pts_per_game + (1.5 * ast_per_game)) * other_def_rating_per_game) / 1.041) + (((1.2 * trb_per_game) + (2.0 * (blk_per_game + stl_per_game))) - tov_per_game)) * (((team_poss_per_game + other_poss_per_game) / 2.0) / team_poss_per_game))\n",
        "224.7\t\t228.6\t\tmedian"
       ]
      },
      {
       "output_type": "stream",
       "stream": "stdout",
       "text": [
        "\n",
        "195.7\t\t203.9\t\tmean\n"
       ]
      }
     ],
     "prompt_number": 241
    },
    {
     "cell_type": "code",
     "collapsed": false,
     "input": [
      "reload(fanduel_analysis)\n",
      "fanduel_analysis.CheckAllFDGames([Leaf('fantasy_pts_per_game') * tempo_mult,\n",
      "                                  cumulative_score], DF_15)"
     ],
     "language": "python",
     "metadata": {},
     "outputs": [
      {
       "output_type": "stream",
       "stream": "stdout",
       "text": [
        "0 (fantasy_pts_per_game * (((team_poss_per_game + other_poss_per_game) / 2.0) / team_poss_per_game))\n",
        "1 (((((pts_per_game + (1.5 * ast_per_game)) * other_def_rating_per_game) / 1.041) + (((1.2 * trb_per_game) + (2.0 * (blk_per_game + stl_per_game))) - tov_per_game)) * (((team_poss_per_game + other_poss_per_game) / 2.0) / team_poss_per_game))\n",
        "224.2\t\t228.6\t\tmedian"
       ]
      },
      {
       "output_type": "stream",
       "stream": "stdout",
       "text": [
        "\n",
        "197.2\t\t203.9\t\tmean\n"
       ]
      }
     ],
     "prompt_number": 243
    },
    {
     "cell_type": "code",
     "collapsed": false,
     "input": [
      "fanduel_analysis.CheckAllFDGames([expr6, cumulative_score], DF_15)"
     ],
     "language": "python",
     "metadata": {},
     "outputs": [
      {
       "output_type": "stream",
       "stream": "stdout",
       "text": [
        "0 (((fantasy_pts_per_game * (((team_poss_per_game + other_poss_per_game) / 2.0) / team_poss_per_game)) + ((-0.3 & (player_rest == 1.0)) | 0.0)) + ((0.5 & is_home) | 0.0))\n",
        "1 (((((pts_per_game + (1.5 * ast_per_game)) * other_def_rating_per_game) / 1.041) + (((1.2 * trb_per_game) + (2.0 * (blk_per_game + stl_per_game))) - tov_per_game)) * (((team_poss_per_game + other_poss_per_game) / 2.0) / team_poss_per_game))\n",
        "224.3\t\t228.6\t\tmedian"
       ]
      },
      {
       "output_type": "stream",
       "stream": "stdout",
       "text": [
        "\n",
        "202.6\t\t203.9\t\tmean\n"
       ]
      }
     ],
     "prompt_number": 244
    },
    {
     "cell_type": "code",
     "collapsed": false,
     "input": [
      "rest_adjust = (-.3 & (Leaf('player_rest') == 1)) | 0.\n",
      "cc1 = cumulative_score_with_home + rest_adjust\n",
      "fanduel_analysis.CheckAllFDGames([expr4, expr6, cumulative_score, cumulative_score_with_home, cc1], DF_15)"
     ],
     "language": "python",
     "metadata": {},
     "outputs": [
      {
       "output_type": "stream",
       "stream": "stdout",
       "text": [
        "1 ((fantasy_pts_per_game * (((team_poss_per_game + other_poss_per_game) / 2.0) / team_poss_per_game)) + ((-0.3 & (player_rest == 1.0)) | 0.0))\n",
        "2 (((fantasy_pts_per_game * (((team_poss_per_game + other_poss_per_game) / 2.0) / team_poss_per_game)) + ((-0.3 & (player_rest == 1.0)) | 0.0)) + ((0.5 & is_home) | 0.0))\n",
        "3 (((((pts_per_game + (1.5 * ast_per_game)) * other_def_rating_per_game) / 1.041) + (((1.2 * trb_per_game) + (2.0 * (blk_per_game + stl_per_game))) - tov_per_game)) * (((team_poss_per_game + other_poss_per_game) / 2.0) / team_poss_per_game))\n",
        "4 ((((((pts_per_game + (1.5 * ast_per_game)) * other_def_rating_per_game) / 1.041) + (((1.2 * trb_per_game) + (2.0 * (blk_per_game + stl_per_game))) - tov_per_game)) * (((team_poss_per_game + other_poss_per_game) / 2.0) / team_poss_per_game)) + ((0.5 & is_home) | 0.0))\n",
        "5 (((((((pts_per_game + (1.5 * ast_per_game)) * other_def_rating_per_game) / 1.041) + (((1.2 * trb_per_game) + (2.0 * (blk_per_game + stl_per_game))) - tov_per_game)) * (((team_poss_per_game + other_poss_per_game) / 2.0) / team_poss_per_game)) + ((0.5 & is_home) | 0.0)) + ((-0.3 & (player_rest == 1.0)) | 0.0))\n",
        "224.2\t\t224.3\t\t228.6\t\t224.1\t\t235.7\t\tmedian"
       ]
      },
      {
       "output_type": "stream",
       "stream": "stdout",
       "text": [
        "\n",
        "197.0\t\t202.6\t\t203.9\t\t207.4\t\t206.2\t\tmean\n",
        " \t1         \t2         \t3         \t4         \t5         \n",
        "1\t    XXX   \t2 : 6 (12)\t6 : 9 (5) \t4 : 11 (5)\t5 : 11 (4)\n",
        "2\t6 : 2 (12)\t    XXX   \t9 : 8 (3) \t7 : 9 (4) \t6 : 11 (3)\n",
        "3\t9 : 6 (5) \t8 : 9 (3) \t    XXX   \t2 : 7 (11)\t3 : 6 (11)\n",
        "4\t11 : 4 (5)\t9 : 7 (4) \t7 : 2 (11)\t    XXX   \t2 : 2 (16)\n",
        "5\t11 : 5 (4)\t11 : 6 (3)\t6 : 3 (11)\t2 : 2 (16)\t    XXX   \n"
       ]
      }
     ],
     "prompt_number": 259
    },
    {
     "cell_type": "code",
     "collapsed": false,
     "input": [
      "cumulative_score_with_home = cumulative_score + ((.5 & Leaf('is_home')) | 0.)"
     ],
     "language": "python",
     "metadata": {},
     "outputs": [],
     "prompt_number": 257
    },
    {
     "cell_type": "code",
     "collapsed": false,
     "input": [
      "fanduel_analysis.CheckVirtualFDGames(expr6, cumulative_score,\n",
      "                                     DF_14, print_per_day=False)"
     ],
     "language": "python",
     "metadata": {},
     "outputs": [
      {
       "output_type": "stream",
       "stream": "stdout",
       "text": [
        "Base: (((fantasy_pts_per_game * (((team_poss_per_game + other_poss_per_game) / 2.0) / team_poss_per_game)) + ((-0.3 & (player_rest == 1.0)) | 0.0)) + ((0.5 & is_home) | 0.0))\n",
        "Test: (((((pts_per_game + (1.5 * ast_per_game)) * other_def_rating_per_game) / 1.041) + (((1.2 * trb_per_game) + (2.0 * (blk_per_game + stl_per_game))) - tov_per_game)) * (((team_poss_per_game + other_poss_per_game) / 2.0) / team_poss_per_game))\n",
        "Base\t\tTest\t\tDraw\n",
        "76\t\t74\t\t(4):\n",
        "237.8\t\t234.5\t\tmedian\n",
        "238.3\t\t237.1\t\tmean\n"
       ]
      }
     ],
     "prompt_number": 246
    },
    {
     "cell_type": "code",
     "collapsed": false,
     "input": [
      "CompareOnDataSets(l1metric, [df_train, df_train_big, df_test, df_test_big, DF_15, df_15_big],\n",
      "                  [expr1, expr4, cumulative_score])"
     ],
     "language": "python",
     "metadata": {},
     "outputs": [
      {
       "output_type": "stream",
       "stream": "stdout",
       "text": [
        " \ttrain14\ttrain14_big\ttest14\ttest14_big\tDF_15\tdf15_big\n",
        "1\t77.08  \t72.78      \t75.45 \t71.82     \t73.18\t70.42   \n",
        " \t       \t           \t      \t          \t     \t        \n",
        "2\t75.41  \t72.64      \t74.91 \t71.77     \t69.70\t70.58   \n",
        "2\t-1.67  \t-0.13      \t-0.54 \t-0.06     \t-3.48\t+0.15   \n",
        " \t       \t           \t      \t          \t     \t        \n",
        "3\t75.73  \t72.51      \t75.27 \t71.59     \t70.05\t70.66   \n",
        "3\t-1.35  \t-0.27      \t-0.18 \t-0.23     \t-3.13\t+0.23   \n",
        " \t       \t           \t      \t          \t     \t        \n"
       ]
      }
     ],
     "prompt_number": 247
    },
    {
     "cell_type": "code",
     "collapsed": false,
     "input": [
      "reload(fanduel_analysis)\n",
      "reload(expression)"
     ],
     "language": "python",
     "metadata": {},
     "outputs": [
      {
       "metadata": {},
       "output_type": "pyout",
       "prompt_number": 45,
       "text": [
        "<module 'lib.expression' from 'lib\\expression.pyc'>"
       ]
      }
     ],
     "prompt_number": 45
    },
    {
     "cell_type": "code",
     "collapsed": false,
     "input": [
      "fanduel_analysis.CheckVirtualFDGames([expr4, expr6, cumulative_score_with_home],\n",
      "                                     DF_14)"
     ],
     "language": "python",
     "metadata": {},
     "outputs": [
      {
       "output_type": "stream",
       "stream": "stdout",
       "text": [
        "1 ((fantasy_pts_per_game * (((team_poss_per_game + other_poss_per_game) / 2.0) / team_poss_per_game)) + ((-0.3 & (player_rest == 1.0)) | 0.0))\n",
        "2 (((fantasy_pts_per_game * (((team_poss_per_game + other_poss_per_game) / 2.0) / team_poss_per_game)) + ((-0.3 & (player_rest == 1.0)) | 0.0)) + ((0.5 & is_home) | 0.0))\n",
        "3 (((((pts_per_game + (1.5 * ast_per_game)) * (other_def_rating_per_game / 1.041)) + (((1.2 * trb_per_game) + (2.0 * (blk_per_game + stl_per_game))) - tov_per_game)) * (((team_poss_per_game + other_poss_per_game) / 2.0) / team_poss_per_game)) + ((0.5 & is_home) | 0.0))\n",
        "259.0\t\t255.6\t\t260.9\t\tmedian"
       ]
      },
      {
       "output_type": "stream",
       "stream": "stdout",
       "text": [
        "\n",
        "256.3\t\t258.9\t\t258.9\t\tmean\n",
        " \t1           \t2           \t3           \n",
        "1\t    XXX     \t58 : 66 (30)\t70 : 74 (10)\n",
        "2\t66 : 58 (30)\t    XXX     \t72 : 70 (12)\n",
        "3\t74 : 70 (10)\t70 : 72 (12)\t    XXX     \n"
       ]
      }
     ],
     "prompt_number": 46
    },
    {
     "cell_type": "code",
     "collapsed": false,
     "input": [
      "fanduel_analysis.CheckVirtualFDGames([expr4, expr6, cumulative_score_with_home],\n",
      "                                     DF_13)"
     ],
     "language": "python",
     "metadata": {},
     "outputs": [
      {
       "output_type": "stream",
       "stream": "stdout",
       "text": [
        "1 ((fantasy_pts_per_game * (((team_poss_per_game + other_poss_per_game) / 2.0) / team_poss_per_game)) + ((-0.3 & (player_rest == 1.0)) | 0.0))\n",
        "2 (((fantasy_pts_per_game * (((team_poss_per_game + other_poss_per_game) / 2.0) / team_poss_per_game)) + ((-0.3 & (player_rest == 1.0)) | 0.0)) + ((0.5 & is_home) | 0.0))\n",
        "3 (((((pts_per_game + (1.5 * ast_per_game)) * (other_def_rating_per_game / 1.041)) + (((1.2 * trb_per_game) + (2.0 * (blk_per_game + stl_per_game))) - tov_per_game)) * (((team_poss_per_game + other_poss_per_game) / 2.0) / team_poss_per_game)) + ((0.5 & is_home) | 0.0))\n",
        "248.8\t\t248.7\t\t254.7\t\tmedian"
       ]
      },
      {
       "output_type": "stream",
       "stream": "stdout",
       "text": [
        "\n",
        "249.7\t\t250.0\t\t255.0\t\tmean\n",
        " \t1           \t2           \t3          \n",
        "1\t    XXX     \t62 : 66 (26)\t56 : 90 (8)\n",
        "2\t66 : 62 (26)\t    XXX     \t61 : 86 (7)\n",
        "3\t90 : 56 (8) \t86 : 61 (7) \t    XXX    \n"
       ]
      }
     ],
     "prompt_number": 47
    },
    {
     "cell_type": "code",
     "collapsed": false,
     "input": [
      "fanduel_analysis.CheckVirtualFDGames([expr4, expr6, cumulative_score_with_home],\n",
      "                                     DF_15)"
     ],
     "language": "python",
     "metadata": {},
     "outputs": [
      {
       "output_type": "stream",
       "stream": "stdout",
       "text": [
        "1 ((fantasy_pts_per_game * (((team_poss_per_game + other_poss_per_game) / 2.0) / team_poss_per_game)) + ((-0.3 & (player_rest == 1.0)) | 0.0))\n",
        "2 (((fantasy_pts_per_game * (((team_poss_per_game + other_poss_per_game) / 2.0) / team_poss_per_game)) + ((-0.3 & (player_rest == 1.0)) | 0.0)) + ((0.5 & is_home) | 0.0))\n",
        "3 (((((pts_per_game + (1.5 * ast_per_game)) * (other_def_rating_per_game / 1.041)) + (((1.2 * trb_per_game) + (2.0 * (blk_per_game + stl_per_game))) - tov_per_game)) * (((team_poss_per_game + other_poss_per_game) / 2.0) / team_poss_per_game)) + ((0.5 & is_home) | 0.0))\n",
        "244.2\t\t242.2\t\t244.7\t\tmedian"
       ]
      },
      {
       "output_type": "stream",
       "stream": "stdout",
       "text": [
        "\n",
        "241.9\t\t238.7\t\t240.5\t\tmean\n",
        " \t1           \t2           \t3          \n",
        "1\t    XXX     \t16 : 15 (11)\t22 : 17 (3)\n",
        "2\t15 : 16 (11)\t    XXX     \t19 : 21 (2)\n",
        "3\t17 : 22 (3) \t21 : 19 (2) \t    XXX    \n"
       ]
      }
     ],
     "prompt_number": 48
    },
    {
     "cell_type": "code",
     "collapsed": false,
     "input": [
      "fanduel_analysis.CheckAllFDGames([expr4, expr6, cumulative_score_with_home],\n",
      "                                 DF_15)"
     ],
     "language": "python",
     "metadata": {},
     "outputs": [
      {
       "output_type": "stream",
       "stream": "stdout",
       "text": [
        "1 ((fantasy_pts_per_game * (((team_poss_per_game + other_poss_per_game) / 2.0) / team_poss_per_game)) + ((-0.3 & (player_rest == 1.0)) | 0.0))\n",
        "2 (((fantasy_pts_per_game * (((team_poss_per_game + other_poss_per_game) / 2.0) / team_poss_per_game)) + ((-0.3 & (player_rest == 1.0)) | 0.0)) + ((0.5 & is_home) | 0.0))\n",
        "3 (((((pts_per_game + (1.5 * ast_per_game)) * (other_def_rating_per_game / 1.041)) + (((1.2 * trb_per_game) + (2.0 * (blk_per_game + stl_per_game))) - tov_per_game)) * (((team_poss_per_game + other_poss_per_game) / 2.0) / team_poss_per_game)) + ((0.5 & is_home) | 0.0))\n",
        "231.7\t\t231.7\t\t244.5\t\tmedian"
       ]
      },
      {
       "output_type": "stream",
       "stream": "stdout",
       "text": [
        "\n",
        "200.8\t\t202.6\t\t206.4\t\tmean\n",
        " \t1         \t2         \t3         \n",
        "1\t    XXX   \t6 : 5 (19)\t7 : 14 (9)\n",
        "2\t5 : 6 (19)\t    XXX   \t7 : 14 (9)\n",
        "3\t14 : 7 (9)\t14 : 7 (9)\t    XXX   \n"
       ]
      }
     ],
     "prompt_number": 49
    },
    {
     "cell_type": "code",
     "collapsed": false,
     "input": [],
     "language": "python",
     "metadata": {},
     "outputs": []
    }
   ],
   "metadata": {}
  }
 ]
}