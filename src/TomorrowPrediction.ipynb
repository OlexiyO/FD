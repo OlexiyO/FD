{
 "metadata": {
  "name": "",
  "signature": "sha256:9d6ff541e7aa945ce68324e75f5948f03a77becbf4d46dd6324eb3852b3b6397"
 },
 "nbformat": 3,
 "nbformat_minor": 0,
 "worksheets": [
  {
   "cells": [
    {
     "cell_type": "code",
     "collapsed": false,
     "input": [
      "fname = '2014_12_15.html'"
     ],
     "language": "python",
     "metadata": {},
     "outputs": [],
     "prompt_number": 26
    },
    {
     "cell_type": "code",
     "collapsed": false,
     "input": [
      "import itertools\n",
      "import os\n",
      "from crawl import boxscore_crawler\n",
      "reload(boxscore_crawler)\n",
      "from crawl import boxscore_parser\n",
      "reload(boxscore_parser)\n",
      "from analysis import knapsack\n",
      "reload(knapsack)\n",
      "from analysis import load\n",
      "reload(load)\n",
      "from analysis import player_info\n",
      "reload(player_info)\n",
      "from analysis import fanduel_analysis\n",
      "reload(fanduel_analysis)\n",
      "from crawl import fanduel_parser\n",
      "reload(fanduel_parser)\n",
      "from lib.expression import *"
     ],
     "language": "python",
     "metadata": {},
     "outputs": [],
     "prompt_number": 14
    },
    {
     "cell_type": "code",
     "collapsed": false,
     "input": [
      "boxscore_crawler.CrawlGamesForDay(2014, 12, 13)"
     ],
     "language": "python",
     "metadata": {},
     "outputs": [
      {
       "output_type": "stream",
       "stream": "stdout",
       "text": [
        "201412130CHO.html\n",
        "201412130DAL.html"
       ]
      },
      {
       "output_type": "stream",
       "stream": "stdout",
       "text": [
        "\n",
        "201412130HOU.html"
       ]
      },
      {
       "output_type": "stream",
       "stream": "stdout",
       "text": [
        "\n",
        "201412130IND.html"
       ]
      },
      {
       "output_type": "stream",
       "stream": "stdout",
       "text": [
        "\n",
        "201412130MIL.html"
       ]
      },
      {
       "output_type": "stream",
       "stream": "stdout",
       "text": [
        "\n",
        "201412130ORL.html"
       ]
      },
      {
       "output_type": "stream",
       "stream": "stdout",
       "text": [
        "\n",
        "201412130PHI.html"
       ]
      },
      {
       "output_type": "stream",
       "stream": "stdout",
       "text": [
        "\n",
        "201412130SAC.html"
       ]
      },
      {
       "output_type": "stream",
       "stream": "stdout",
       "text": [
        "\n"
       ]
      }
     ],
     "prompt_number": 40
    },
    {
     "cell_type": "code",
     "collapsed": false,
     "input": [
      "FD_DIR = 'C:/Coding/FanDuel/fd_html'\n",
      "fd_path = os.path.join(FD_DIR, fname)\n",
      "DF_15 = load.LoadDataForSeason(2015, fd_path)\n",
      "date_need = fname[:10].replace('_', '')\n",
      "flt = (DF_15['date_id'] == float(date_need))\n",
      "df = DF_15[flt]"
     ],
     "language": "python",
     "metadata": {},
     "outputs": [
      {
       "output_type": "stream",
       "stream": "stdout",
       "text": [
        "Loaded from disk: 0.652886751885\n",
        "Processed:"
       ]
      },
      {
       "output_type": "stream",
       "stream": "stdout",
       "text": [
        " 8.11752209056\n"
       ]
      }
     ],
     "prompt_number": 15
    },
    {
     "cell_type": "code",
     "collapsed": false,
     "input": [
      "old_tempo = Leaf('team_poss_per_game')\n",
      "predicted_tempo = (Leaf('team_poss_per_game') + Leaf('other_poss_per_game')) / 2.\n",
      "tempo_mult = predicted_tempo / old_tempo\n",
      "\n",
      "off_part = Leaf('pts_per_game') + 1.5 * Leaf('ast_per_game')\n",
      "off_part *= Leaf('other_def_rating_per_game') / 1.041\n",
      "other_part = 1.2 * Leaf('trb_per_game')\n",
      "other_part += 2. * (Leaf('blk_per_game') + Leaf('stl_per_game'))\n",
      "other_part -= Leaf('tov_per_game')\n",
      "cumulative_score = (off_part + other_part) * tempo_mult\n",
      "cumulative_score_with_home = cumulative_score + ((.5 & Leaf('is_home')) | 0.)"
     ],
     "language": "python",
     "metadata": {},
     "outputs": [],
     "prompt_number": 16
    },
    {
     "cell_type": "code",
     "collapsed": false,
     "input": [
      "PREDICTION_EXPR = cumulative_score_with_home"
     ],
     "language": "python",
     "metadata": {},
     "outputs": [],
     "prompt_number": 17
    },
    {
     "cell_type": "code",
     "collapsed": false,
     "input": [
      "prediction = PREDICTION_EXPR.Eval(df)\n",
      "\n",
      "players_list = fanduel_analysis.FDFromFile(fd_path)\n",
      "pid = df['player_id']\n",
      "player_predictions = dict(itertools.izip(pid, prediction[flt]))\n",
      "\n",
      "players_out = [\n",
      "#'wroteto01',   # too risky to be injured\n",
      "#'jacksre01',\n",
      "#'davisan02'\n",
      "'duncati01',\n",
      "]\n",
      "updated_data = [\n",
      "    pi.Override(pts=player_predictions.get(pi.pid, 0))\n",
      "    for pi in players_list\n",
      "    if pi.status != player_info.PlayerStatus.OUT and pi.pid not in players_out]\n",
      "best = knapsack.BestChoice(updated_data, player_info.Position.FD_REQUEST, 60000)\n",
      "for b in best:\n",
      "    print b.pid\n",
      "    print b, player_predictions[b.pid], player_predictions[b.pid] - b.pts"
     ],
     "language": "python",
     "metadata": {},
     "outputs": [
      {
       "output_type": "stream",
       "stream": "stdout",
       "text": [
        "hilljo01\n",
        "PlayerInfo(position='C', name='jordan hill', salary=6500, pts=27.825325036379304, health='', status='', pid='hilljo01') 27.8253250364 0.0\n",
        "gasolpa01\n",
        "PlayerInfo(position='PF', name='pau gasol', salary=9300, pts=39.725587204960533, health='', status='', pid='gasolpa01') 39.725587205 0.0\n",
        "johnsam01\n",
        "PlayerInfo(position='PF', name='amir johnson', salary=4800, pts=21.161793397130733, health='', status='', pid='johnsam01') 21.1617933971 0.0\n",
        "linje01\n",
        "PlayerInfo(position='PG', name='jeremy lin', salary=5100, pts=21.71780771709566, health='', status='', pid='linje01') 21.7178077171 0.0\n",
        "thomais02\n",
        "PlayerInfo(position='PG', name='isaiah thomas', salary=5700, pts=24.399491038004363, health='', status='', pid='thomais02') 24.399491038 0.0\n",
        "johnsja01\n",
        "PlayerInfo(position='SF', name='james johnson', salary=4000, pts=18.027273998589056, health='', status='', pid='johnsja01') 18.0272739986 0.0\n",
        "leonaka01\n",
        "PlayerInfo(position='SF', name='kawhi leonard', salary=7300, pts=30.14845477733267, health='Hand', status='GTD', pid='leonaka01') 30.1484547773 0.0\n",
        "butleji01\n",
        "PlayerInfo(position='SG', name='jimmy butler', salary=8000, pts=34.616873586585655, health='', status='', pid='butleji01') 34.6168735866 0.0\n",
        "bryanko01\n",
        "PlayerInfo(position='SG', name='kobe bryant', salary=9300, pts=38.45783040173383, health='', status='', pid='bryanko01') 38.4578304017 0.0\n"
       ]
      }
     ],
     "prompt_number": 31
    },
    {
     "cell_type": "code",
     "collapsed": false,
     "input": [],
     "language": "python",
     "metadata": {},
     "outputs": []
    }
   ],
   "metadata": {}
  }
 ]
}