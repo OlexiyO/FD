{
 "metadata": {
  "name": "",
  "signature": "sha256:33d3125eba7269bcfb9ec94cb9b15c31c546efe3501e2fcf2954b8ba82540c85"
 },
 "nbformat": 3,
 "nbformat_minor": 0,
 "worksheets": [
  {
   "cells": [
    {
     "cell_type": "code",
     "collapsed": false,
     "input": [
      "fname = '2015_02_07.html'"
     ],
     "language": "python",
     "metadata": {},
     "outputs": [],
     "prompt_number": 1
    },
    {
     "cell_type": "code",
     "collapsed": false,
     "input": [
      "import itertools\n",
      "import os\n",
      "from crawl import boxscore_crawler\n",
      "reload(boxscore_crawler)\n",
      "from crawl import boxscore_parser\n",
      "reload(boxscore_parser)\n",
      "from analysis import knapsack\n",
      "reload(knapsack)\n",
      "from analysis import load\n",
      "reload(load)\n",
      "from analysis import player_info\n",
      "reload(player_info)\n",
      "from analysis import fanduel_analysis\n",
      "reload(fanduel_analysis)\n",
      "from crawl import fanduel_parser\n",
      "reload(fanduel_parser)\n",
      "from lib.expression import *\n",
      "from lib.expression import EOperators as E\n",
      "from analysis import training"
     ],
     "language": "python",
     "metadata": {},
     "outputs": [],
     "prompt_number": 2
    },
    {
     "cell_type": "code",
     "collapsed": false,
     "input": [
      "FD_DIR = 'C:/Coding/FanDuel/fd_html'\n",
      "fd_path = os.path.join(FD_DIR, fname)\n",
      "DF_15 = load.LoadDataForSeason(2015, fd_path)\n",
      "date_need = fname[:10].replace('_', '')\n",
      "flt = (DF_15['date_id'] == float(date_need))\n",
      "df = DF_15[flt]\n",
      "df = (Leaf('minutes_per_game') > 5).Filter(df)  # !!!!!!!!!!!!!!!"
     ],
     "language": "python",
     "metadata": {},
     "outputs": [
      {
       "output_type": "stream",
       "stream": "stdout",
       "text": [
        "Loaded from disk: 1.53612643611\n",
        "Processed:"
       ]
      },
      {
       "output_type": "stream",
       "stream": "stdout",
       "text": [
        " 63.6025541143\n"
       ]
      }
     ],
     "prompt_number": 7
    },
    {
     "cell_type": "code",
     "collapsed": false,
     "input": [
      "from lib.expression import *\n",
      "from lib import expression\n",
      "\n",
      "E = expression.EOperators\n",
      "from analysis import training\n",
      "\n",
      "\n",
      "golden = Leaf('fantasy_pts')\n",
      "expr1 = Leaf('fantasy_pts_per_game')\n",
      "old_tempo = Leaf('team_poss_per_game')\n",
      "predicted_tempo = (Leaf('team_poss_per_game') + Leaf('other_poss_per_game')) / 2.\n",
      "tempo_mult = predicted_tempo / old_tempo\n",
      "expr2 = expr1 * tempo_mult\n",
      "\n",
      "rest_adjust = (-.3 & (Leaf('player_rest') == 1)) | 0.\n",
      "expr3 = expr1 + rest_adjust\n",
      "expr4 = expr2 + rest_adjust\n",
      "\n",
      "# Coaches trust good players more with no rest!!\n",
      "# rest_adjust_for_good = 1. & (Leaf('player_rest') == 1) & (Leaf('player_previous_minutes') > 30)\n",
      "#expr5 = expr4 + rest_adjust_for_good\n",
      "expr6 = expr4 + ((.5 & Leaf('is_home')) | 0.)\n",
      "\n",
      "home_adjust_big = (1. & (Leaf('minutes_per_game') > 25) & Leaf('is_home'))\n",
      "home_adjust_small = (.5 & Leaf('is_home'))\n",
      "expr7 = expr4 + (home_adjust_big | home_adjust_small | 0)\n",
      "\n",
      "off_part = Leaf('pts_per_game') + 1.5 * Leaf('ast_per_game')\n",
      "off_part *= Leaf('other_def_rating_per_game') / 1.041\n",
      "other_part = 1.2 * Leaf('trb_per_game')\n",
      "other_part += 2. * (Leaf('blk_per_game') + Leaf('stl_per_game'))\n",
      "other_part -= Leaf('tov_per_game')\n",
      "cumulative_score = (off_part + other_part) * tempo_mult\n",
      "cumulative_score_with_home = cumulative_score + ((.5 & Leaf('is_home')) | 0.)\n",
      "\n",
      "import numpy as np\n",
      "\n",
      "signals = [E.Log(tempo_mult),\n",
      "           Leaf('other_def_rating_per_game')]\n",
      "extra0 = training.BuildPWL(signals[0], [(-0.03, 0.96), (0.05, 1.019)])\n",
      "extra1 = training.BuildPWL(signals[1], [(0.95, 1.), (1.12, 1.13)])\n",
      "\n",
      "log = np.log\n",
      "extra0a = E.Exp(training.BuildPWL(signals[0],\n",
      "                                  [(-0.03, log(0.96)), (0.05, log(1.019))]))\n",
      "extra1a = E.Exp(training.BuildPWL(E.Log(signals[1]),\n",
      "                                  [(log(0.95), log(1.)), (log(1.12), log(1.13))]))\n",
      "scoring = extra0a * extra1a * Leaf('fantasy_pts_per_game')\n",
      "\n",
      "\n",
      "mpg_adjust = (Leaf('minutes_mean_last_5') | Leaf('minutes_per_game') | 10.)\n",
      "mpg_adjust /= (Leaf('minutes_per_game') | 10.)\n",
      "with_mpg_adjust = Leaf('fantasy_pts_per_game') * mpg_adjust\n"
     ],
     "language": "python",
     "metadata": {},
     "outputs": [],
     "prompt_number": 4
    },
    {
     "cell_type": "code",
     "collapsed": false,
     "input": [
      "PREDICTION_EXPR = extra0a * extra1a * with_mpg_adjust"
     ],
     "language": "python",
     "metadata": {},
     "outputs": [],
     "prompt_number": 5
    },
    {
     "cell_type": "code",
     "collapsed": false,
     "input": [
      "prediction = PREDICTION_EXPR.Eval(df)\n",
      "\n",
      "players_list = fanduel_analysis.FDFromFile(fd_path)\n",
      "pid = df['player_id']\n",
      "player_predictions = dict(itertools.izip(pid, prediction[flt]))\n",
      "\n",
      "\n",
      "players_out = [\n",
      "  #'butleji01',\n",
      "  #'joneste01',\n",
      "  #'shumpim01',\n",
      "\n",
      "]\n",
      "players_in = [\n",
      "  #'whiteha01',\n",
      "]\n",
      "\n",
      "updated_data = [\n",
      "    pi.Override(pts=player_predictions.get(pi.pid, 0))\n",
      "    for pi in players_list\n",
      "    if (pi.status != player_info.PlayerStatus.OUT and\n",
      "        pi.pid not in players_out and\n",
      "        pi.pid not in players_in)]\n",
      "req = player_info.Position.FD_REQUEST\n",
      "salary = 60000 - sum(pi.salary for pi in players_list if pi.pid in players_in)\n",
      "for pi in players_list:\n",
      "    if pi.pid in players_in:\n",
      "        req[pi.position] -= 1\n",
      "best = knapsack.BestChoice(updated_data, req, salary)\n",
      "best = best + [pi.Override(pts=player_predictions.get(pi.pid, 0)) for pi in players_list if pi.pid in players_in]\n",
      "\n",
      "for b in best:\n",
      "    #print b.pid\n",
      "    print b, player_predictions[b.pid]"
     ],
     "language": "python",
     "metadata": {},
     "outputs": [
      {
       "output_type": "stream",
       "stream": "stdout",
       "text": [
        "    brook lopez,  C: 35.2 for  6700$ 35.1719500995\n",
        "      pau gasol, PF: 46.2 for  9400$ 46.1639688191\n",
        "    john henson, PF: 28.3 for  5100$ 28.2750057522\n",
        "   derrick rose, PG: 38.2 for  7100$ 38.1506604061\n",
        "   marcus smart, PG: 25.0 for  4900$ 24.9784639904\n",
        "       rudy gay, SF: 36.8 for  7800$ 36.7698907522\n",
        "    jae crowder, SF: 20.6 for  4000$ 20.5941784461\n",
        "   jimmy butler, SG: 41.5 for  8600$ 41.4919516532\n",
        "giannis antetok, SG: 32.8 for  6400$ 32.7890854585\n"
       ]
      }
     ],
     "prompt_number": 8
    },
    {
     "cell_type": "code",
     "collapsed": false,
     "input": [],
     "language": "python",
     "metadata": {},
     "outputs": []
    }
   ],
   "metadata": {}
  }
 ]
}