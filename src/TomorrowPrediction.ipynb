{
 "metadata": {
  "name": "",
  "signature": "sha256:14b227d090a84e0d979d8179b98c6bf7ac9bb9fe1815bc51ea35dcff7c6240d3"
 },
 "nbformat": 3,
 "nbformat_minor": 0,
 "worksheets": [
  {
   "cells": [
    {
     "cell_type": "code",
     "collapsed": false,
     "input": [
      "fname = '2015_01_31.html'"
     ],
     "language": "python",
     "metadata": {},
     "outputs": [],
     "prompt_number": 37
    },
    {
     "cell_type": "code",
     "collapsed": false,
     "input": [
      "import itertools\n",
      "import os\n",
      "from crawl import boxscore_crawler\n",
      "reload(boxscore_crawler)\n",
      "from crawl import boxscore_parser\n",
      "reload(boxscore_parser)\n",
      "from analysis import knapsack\n",
      "reload(knapsack)\n",
      "from analysis import load\n",
      "reload(load)\n",
      "from analysis import player_info\n",
      "reload(player_info)\n",
      "from analysis import fanduel_analysis\n",
      "reload(fanduel_analysis)\n",
      "from crawl import fanduel_parser\n",
      "reload(fanduel_parser)\n",
      "from lib.expression import *\n",
      "from lib.expression import EOperators as E\n",
      "from analysis import training"
     ],
     "language": "python",
     "metadata": {},
     "outputs": [],
     "prompt_number": 28
    },
    {
     "cell_type": "code",
     "collapsed": false,
     "input": [
      "FD_DIR = 'C:/Coding/FanDuel/fd_html'\n",
      "fd_path = os.path.join(FD_DIR, fname)\n",
      "DF_15 = load.LoadDataForSeason(2015, fd_path)\n",
      "date_need = fname[:10].replace('_', '')\n",
      "flt = (DF_15['date_id'] == float(date_need))\n",
      "df = DF_15[flt]"
     ],
     "language": "python",
     "metadata": {},
     "outputs": [
      {
       "output_type": "stream",
       "stream": "stdout",
       "text": [
        "Loaded from disk: 1.38424879356\n",
        "Processed:"
       ]
      },
      {
       "output_type": "stream",
       "stream": "stdout",
       "text": [
        " 29.6200097741\n"
       ]
      }
     ],
     "prompt_number": 29
    },
    {
     "cell_type": "code",
     "collapsed": false,
     "input": [
      "from lib.expression import *\n",
      "from lib import expression\n",
      "E = expression.EOperators\n",
      "from analysis import training\n",
      "\n",
      "\n",
      "golden = Leaf('fantasy_pts')\n",
      "expr1 = Leaf('fantasy_pts_per_game')\n",
      "old_tempo = Leaf('team_poss_per_game')\n",
      "predicted_tempo = (Leaf('team_poss_per_game') + Leaf('other_poss_per_game')) / 2.\n",
      "tempo_mult = predicted_tempo / old_tempo\n",
      "expr2 = expr1 * tempo_mult\n",
      "\n",
      "rest_adjust = (-.3 & (Leaf('player_rest') == 1)) | 0.\n",
      "expr3 = expr1 + rest_adjust\n",
      "expr4 = expr2 + rest_adjust\n",
      "\n",
      "# Coaches trust good players more with no rest!!\n",
      "# rest_adjust_for_good = 1. & (Leaf('player_rest') == 1) & (Leaf('player_previous_minutes') > 30)\n",
      "#expr5 = expr4 + rest_adjust_for_good\n",
      "expr6 = expr4 + ((.5 & Leaf('is_home')) | 0.)\n",
      "\n",
      "home_adjust_big = (1. & (Leaf('minutes_per_game') > 25) & Leaf('is_home'))\n",
      "home_adjust_small = (.5 & Leaf('is_home'))\n",
      "expr7 = expr4 + (home_adjust_big | home_adjust_small | 0)\n",
      "\n",
      "off_part = Leaf('pts_per_game') + 1.5 * Leaf('ast_per_game')\n",
      "off_part *= Leaf('other_def_rating_per_game') / 1.041\n",
      "other_part = 1.2 * Leaf('trb_per_game')\n",
      "other_part += 2. * (Leaf('blk_per_game') + Leaf('stl_per_game'))\n",
      "other_part -= Leaf('tov_per_game')\n",
      "cumulative_score = (off_part + other_part) * tempo_mult\n",
      "cumulative_score_with_home = cumulative_score + ((.5 & Leaf('is_home')) | 0.)\n",
      "\n",
      "\n",
      "import numpy as np\n",
      "\n",
      "signals = [E.Log(tempo_mult),\n",
      "           Leaf('other_def_rating_per_game')]\n",
      "extra0 = training.BuildPWL(signals[0], [(-0.03, 0.96), (0.05, 1.019)])\n",
      "extra1 = training.BuildPWL(signals[1], [(0.95, 1.), (1.12, 1.13)])\n",
      "\n",
      "log= np.log\n",
      "extra0a = E.Exp(training.BuildPWL(signals[0],\n",
      "                                  [(-0.03, log(0.96)), (0.05, log(1.019))]))\n",
      "extra1a = E.Exp(training.BuildPWL(E.Log(signals[1]),\n",
      "                                  [(log(0.95), log(1.)), (log(1.12), log(1.13))]))\n",
      "scoring = extra0a * extra1a * Leaf('fantasy_pts_per_game')"
     ],
     "language": "python",
     "metadata": {},
     "outputs": [],
     "prompt_number": 9
    },
    {
     "cell_type": "code",
     "collapsed": false,
     "input": [
      "PREDICTION_EXPR = scoring"
     ],
     "language": "python",
     "metadata": {},
     "outputs": [],
     "prompt_number": 10
    },
    {
     "cell_type": "code",
     "collapsed": false,
     "input": [
      "prediction = PREDICTION_EXPR.Eval(df)\n",
      "\n",
      "players_list = fanduel_analysis.FDFromFile(fd_path)\n",
      "pid = df['player_id']\n",
      "player_predictions = dict(itertools.izip(pid, prediction[flt]))\n",
      "\n",
      "players_out = [\n",
      "  'butleji01',\n",
      "  'joneste01',\n",
      "  'shumpim01',\n",
      "\n",
      "]\n",
      "players_in = [\n",
      "  'whiteha01',\n",
      "]\n",
      "updated_data = [\n",
      "    pi.Override(pts=player_predictions.get(pi.pid, 0))\n",
      "    for pi in players_list\n",
      "    if (pi.status != player_info.PlayerStatus.OUT and\n",
      "        pi.pid not in players_out and\n",
      "        pi.pid not in players_in)]\n",
      "req = player_info.Position.FD_REQUEST\n",
      "salary = 60000 - sum(pi.salary for pi in players_list if pi.pid in players_in)\n",
      "for pi in players_list:\n",
      "    if pi.pid in players_in:\n",
      "        req[pi.position] -= 1\n",
      "best = knapsack.BestChoice(updated_data, req, salary)\n",
      "best = best + [pi.Override(pts=player_predictions.get(pi.pid, 0)) for pi in players_list if pi.pid in players_in]\n",
      "\n",
      "for b in best:\n",
      "    #print b.pid\n",
      "    print b, player_predictions[b.pid]"
     ],
     "language": "python",
     "metadata": {},
     "outputs": [
      {
       "output_type": "stream",
       "stream": "stdout",
       "text": [
        "PlayerInfo(position='PF', name='chris bosh', salary=8100, pts=37.947778980169964, health='', status='', pid='boshch01') 37.9477789802\n",
        "PlayerInfo(position='PF', name='josh smith', salary=5700, pts=29.959054496207322, health='', status='', pid='smithjo03') 29.9590544962\n",
        "PlayerInfo(position='PG', name='kyle lowry', salary=8400, pts=40.189367961157757, health='', status='', pid='lowryky01') 40.1893679612\n",
        "PlayerInfo(position='PG', name='darren collison', salary=6700, pts=32.202458757802042, health='', status='', pid='collida01') 32.2024587578\n",
        "PlayerInfo(position='SF', name='rudy gay', salary=7800, pts=36.463549966140121, health='', status='', pid='gayru01') 36.4635499661\n",
        "PlayerInfo(position='SF', name='trevor ariza', salary=5200, pts=26.653215080742946, health='', status='', pid='arizatr01') 26.6532150807\n",
        "PlayerInfo(position='SG', name='wesley matthews', salary=5800, pts=25.91520884144008, health='', status='', pid='matthwe02') 25.9152088414\n",
        "PlayerInfo(position='SG', name='joe johnson', salary=6000, pts=29.053897559212128, health='', status='', pid='johnsjo02') 29.0538975592\n",
        "PlayerInfo(position='C', name='hassan whiteside', salary=6200, pts=23.598413339058769, health='', status='', pid='whiteha01') 23.5984133391\n"
       ]
      }
     ],
     "prompt_number": 36
    },
    {
     "cell_type": "code",
     "collapsed": false,
     "input": [],
     "language": "python",
     "metadata": {},
     "outputs": []
    }
   ],
   "metadata": {}
  }
 ]
}