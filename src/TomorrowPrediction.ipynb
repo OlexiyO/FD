{
 "metadata": {
  "name": "",
  "signature": "sha256:1dc2014dc2837cdfd11b6f5d7f91a4fb635f9c3a5f5b394062efebe625cca719"
 },
 "nbformat": 3,
 "nbformat_minor": 0,
 "worksheets": [
  {
   "cells": [
    {
     "cell_type": "code",
     "collapsed": false,
     "input": [
      "fname = '2014_12_21.html'"
     ],
     "language": "python",
     "metadata": {},
     "outputs": [],
     "prompt_number": 15
    },
    {
     "cell_type": "code",
     "collapsed": false,
     "input": [
      "import itertools\n",
      "import os\n",
      "from crawl import boxscore_crawler\n",
      "reload(boxscore_crawler)\n",
      "from crawl import boxscore_parser\n",
      "reload(boxscore_parser)\n",
      "from analysis import knapsack\n",
      "reload(knapsack)\n",
      "from analysis import load\n",
      "reload(load)\n",
      "from analysis import player_info\n",
      "reload(player_info)\n",
      "from analysis import fanduel_analysis\n",
      "reload(fanduel_analysis)\n",
      "from crawl import fanduel_parser\n",
      "reload(fanduel_parser)\n",
      "from lib.expression import *"
     ],
     "language": "python",
     "metadata": {},
     "outputs": [],
     "prompt_number": 16
    },
    {
     "cell_type": "code",
     "collapsed": false,
     "input": [
      "boxscore_crawler.CrawlGamesForDay(2014, 12, 19)\n",
      "boxscore_crawler.CrawlGamesForDay(2014, 12, 20)\n"
     ],
     "language": "python",
     "metadata": {},
     "outputs": [
      {
       "output_type": "stream",
       "stream": "stdout",
       "text": [
        "201412190BOS.html\n",
        "201412190CLE.html"
       ]
      },
      {
       "output_type": "stream",
       "stream": "stdout",
       "text": [
        "\n",
        "201412190DEN.html"
       ]
      },
      {
       "output_type": "stream",
       "stream": "stdout",
       "text": [
        "\n",
        "201412190DET.html"
       ]
      },
      {
       "output_type": "stream",
       "stream": "stdout",
       "text": [
        "\n",
        "201412190LAL.html"
       ]
      },
      {
       "output_type": "stream",
       "stream": "stdout",
       "text": [
        "\n",
        "201412190MEM.html"
       ]
      },
      {
       "output_type": "stream",
       "stream": "stdout",
       "text": [
        "\n",
        "201412190MIA.html"
       ]
      },
      {
       "output_type": "stream",
       "stream": "stdout",
       "text": [
        "\n",
        "201412190ORL.html"
       ]
      },
      {
       "output_type": "stream",
       "stream": "stdout",
       "text": [
        "\n",
        "201412190PHI.html"
       ]
      },
      {
       "output_type": "stream",
       "stream": "stdout",
       "text": [
        "\n",
        "201412190SAS.html"
       ]
      },
      {
       "output_type": "stream",
       "stream": "stdout",
       "text": [
        "\n",
        "201412200CHO.html"
       ]
      },
      {
       "output_type": "stream",
       "stream": "stdout",
       "text": [
        "\n",
        "201412200DAL.html"
       ]
      },
      {
       "output_type": "stream",
       "stream": "stdout",
       "text": [
        "\n",
        "201412200DEN.html"
       ]
      },
      {
       "output_type": "stream",
       "stream": "stdout",
       "text": [
        "\n",
        "201412200HOU.html"
       ]
      },
      {
       "output_type": "stream",
       "stream": "stdout",
       "text": [
        "\n",
        "201412200LAC.html"
       ]
      },
      {
       "output_type": "stream",
       "stream": "stdout",
       "text": [
        "\n",
        "201412200NOP.html"
       ]
      },
      {
       "output_type": "stream",
       "stream": "stdout",
       "text": [
        "\n",
        "201412200NYK.html"
       ]
      },
      {
       "output_type": "stream",
       "stream": "stdout",
       "text": [
        "\n"
       ]
      }
     ],
     "prompt_number": 17
    },
    {
     "cell_type": "code",
     "collapsed": false,
     "input": [
      "FD_DIR = 'C:/Coding/FanDuel/fd_html'\n",
      "fd_path = os.path.join(FD_DIR, fname)\n",
      "DF_15 = load.LoadDataForSeason(2015, fd_path)\n",
      "date_need = fname[:10].replace('_', '')\n",
      "flt = (DF_15['date_id'] == float(date_need))\n",
      "df = DF_15[flt]"
     ],
     "language": "python",
     "metadata": {},
     "outputs": [
      {
       "output_type": "stream",
       "stream": "stdout",
       "text": [
        "Loaded from disk: 1.3145028693\n",
        "Processed:"
       ]
      },
      {
       "output_type": "stream",
       "stream": "stdout",
       "text": [
        " 10.0421269841\n"
       ]
      }
     ],
     "prompt_number": 18
    },
    {
     "cell_type": "code",
     "collapsed": false,
     "input": [
      "old_tempo = Leaf('team_poss_per_game')\n",
      "predicted_tempo = (Leaf('team_poss_per_game') + Leaf('other_poss_per_game')) / 2.\n",
      "tempo_mult = predicted_tempo / old_tempo\n",
      "\n",
      "off_part = Leaf('pts_per_game') + 1.5 * Leaf('ast_per_game')\n",
      "off_part *= Leaf('other_def_rating_per_game') / 1.041\n",
      "other_part = 1.2 * Leaf('trb_per_game')\n",
      "other_part += 2. * (Leaf('blk_per_game') + Leaf('stl_per_game'))\n",
      "other_part -= Leaf('tov_per_game')\n",
      "cumulative_score = (off_part + other_part) * tempo_mult\n",
      "cumulative_score_with_home = cumulative_score + ((.5 & Leaf('is_home')) | 0.)"
     ],
     "language": "python",
     "metadata": {},
     "outputs": [],
     "prompt_number": 19
    },
    {
     "cell_type": "code",
     "collapsed": false,
     "input": [
      "PREDICTION_EXPR = cumulative_score_with_home"
     ],
     "language": "python",
     "metadata": {},
     "outputs": [],
     "prompt_number": 20
    },
    {
     "cell_type": "code",
     "collapsed": false,
     "input": [
      "prediction = PREDICTION_EXPR.Eval(df)\n",
      "\n",
      "players_list = fanduel_analysis.FDFromFile(fd_path)\n",
      "pid = df['player_id']\n",
      "player_predictions = dict(itertools.izip(pid, prediction[flt]))\n",
      "\n",
      "players_out = [\n",
      "  'jacksre01',\n",
      "  'watsocj01',\n",
      "\n",
      "]\n",
      "players_in = [\n",
      "  #'greenje02', \n",
      "]\n",
      "updated_data = [\n",
      "    pi.Override(pts=player_predictions.get(pi.pid, 0))\n",
      "    for pi in players_list\n",
      "    if (pi.status != player_info.PlayerStatus.OUT and\n",
      "        pi.pid not in players_out and\n",
      "        pi.pid not in players_in)]\n",
      "req = player_info.Position.FD_REQUEST\n",
      "salary = 60000 - sum(pi.salary for pi in players_list if pi.pid in players_in)\n",
      "best = knapsack.BestChoice(updated_data, req, salary)\n",
      "best = best + [pi.Override(pts=player_predictions.get(pi.pid, 0)) for pi in players_list if pi.pid in players_in]\n",
      "\n",
      "for b in best:\n",
      "    print b.pid\n",
      "    print b, player_predictions[b.pid], player_predictions[b.pid] - b.pts"
     ],
     "language": "python",
     "metadata": {},
     "outputs": [
      {
       "output_type": "stream",
       "stream": "stdout",
       "text": [
        "couside01\n",
        "PlayerInfo(position='C', name='demarcus cousins', salary=10100, pts=47.460016438257163, health='', status='', pid='couside01') 47.4600164383 0.0\n",
        "sullija01\n",
        "PlayerInfo(position='PF', name='jared sullinger', salary=6300, pts=28.651947571347652, health='', status='', pid='sullija01') 28.6519475713 0.0\n",
        "westda01\n",
        "PlayerInfo(position='PF', name='david west', salary=6400, pts=28.274354389101337, health='', status='', pid='westda01') 28.2743543891 0.0\n",
        "sloando01\n",
        "PlayerInfo(position='PG', name='donald sloan', salary=4300, pts=23.200573309760568, health='', status='', pid='sloando01') 23.2005733098 0.0\n",
        "collida01\n",
        "PlayerInfo(position='PG', name='darren collison', salary=7500, pts=34.213719003539659, health='', status='', pid='collida01') 34.2137190035 0.0\n",
        "gayru01\n",
        "PlayerInfo(position='SF', name='rudy gay', salary=8700, pts=39.80573493882455, health='', status='', pid='gayru01') 39.8057349388 0.0\n",
        "harrito02\n",
        "PlayerInfo(position='SF', name='tobias harris', salary=7000, pts=33.646789651969911, health='', status='', pid='harrito02') 33.646789652 0.0\n",
        "fournev01\n",
        "PlayerInfo(position='SG', name='evan fournier', salary=4900, pts=22.795950089804279, health='', status='', pid='fournev01') 22.7959500898 0.0\n",
        "willilo02\n",
        "PlayerInfo(position='SG', name='louis williams', salary=4800, pts=21.052837882476435, health='', status='', pid='willilo02') 21.0528378825 0.0\n"
       ]
      }
     ],
     "prompt_number": 23
    },
    {
     "cell_type": "code",
     "collapsed": false,
     "input": [],
     "language": "python",
     "metadata": {},
     "outputs": []
    }
   ],
   "metadata": {}
  }
 ]
}