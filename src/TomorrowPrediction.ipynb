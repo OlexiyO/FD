{
 "metadata": {
  "name": "",
  "signature": "sha256:afffc983e96c6dd22541e747f3a4b2dd26c9156f12c677271831201dd1f72f8e"
 },
 "nbformat": 3,
 "nbformat_minor": 0,
 "worksheets": [
  {
   "cells": [
    {
     "cell_type": "code",
     "collapsed": false,
     "input": [
      "fname = '2014_12_25.html'"
     ],
     "language": "python",
     "metadata": {},
     "outputs": [],
     "prompt_number": 1
    },
    {
     "cell_type": "code",
     "collapsed": false,
     "input": [
      "import itertools\n",
      "import os\n",
      "from crawl import boxscore_crawler\n",
      "reload(boxscore_crawler)\n",
      "from crawl import boxscore_parser\n",
      "reload(boxscore_parser)\n",
      "from analysis import knapsack\n",
      "reload(knapsack)\n",
      "from analysis import load\n",
      "reload(load)\n",
      "from analysis import player_info\n",
      "reload(player_info)\n",
      "from analysis import fanduel_analysis\n",
      "reload(fanduel_analysis)\n",
      "from crawl import fanduel_parser\n",
      "reload(fanduel_parser)\n",
      "from lib.expression import *"
     ],
     "language": "python",
     "metadata": {},
     "outputs": [],
     "prompt_number": 2
    },
    {
     "cell_type": "code",
     "collapsed": false,
     "input": [
      "boxscore_crawler.CrawlGamesForDay(2014, 12, 21)\n",
      "boxscore_crawler.CrawlGamesForDay(2014, 12, 22)\n",
      "boxscore_crawler.CrawlGamesForDay(2014, 12, 23)\n"
     ],
     "language": "python",
     "metadata": {},
     "outputs": [
      {
       "output_type": "stream",
       "stream": "stdout",
       "text": [
        "201412210BRK.html\n",
        "201412210CLE.html"
       ]
      },
      {
       "output_type": "stream",
       "stream": "stdout",
       "text": [
        "\n",
        "201412210MIA.html"
       ]
      },
      {
       "output_type": "stream",
       "stream": "stdout",
       "text": [
        "\n",
        "201412210MIN.html"
       ]
      },
      {
       "output_type": "stream",
       "stream": "stdout",
       "text": [
        "\n",
        "201412210OKC.html"
       ]
      },
      {
       "output_type": "stream",
       "stream": "stdout",
       "text": [
        "\n",
        "201412210ORL.html"
       ]
      },
      {
       "output_type": "stream",
       "stream": "stdout",
       "text": [
        "\n",
        "201412210SAC.html"
       ]
      },
      {
       "output_type": "stream",
       "stream": "stdout",
       "text": [
        "\n",
        "201412210TOR.html"
       ]
      },
      {
       "output_type": "stream",
       "stream": "stdout",
       "text": [
        "\n",
        "201412210WAS.html"
       ]
      },
      {
       "output_type": "stream",
       "stream": "stdout",
       "text": [
        "\n",
        "201412220CHI.html"
       ]
      },
      {
       "output_type": "stream",
       "stream": "stdout",
       "text": [
        "\n",
        "201412220CHO.html"
       ]
      },
      {
       "output_type": "stream",
       "stream": "stdout",
       "text": [
        "\n",
        "201412220DAL.html"
       ]
      },
      {
       "output_type": "stream",
       "stream": "stdout",
       "text": [
        "\n",
        "201412220GSW.html"
       ]
      },
      {
       "output_type": "stream",
       "stream": "stdout",
       "text": [
        "\n",
        "201412220HOU.html"
       ]
      },
      {
       "output_type": "stream",
       "stream": "stdout",
       "text": [
        "\n",
        "201412220MEM.html"
       ]
      },
      {
       "output_type": "stream",
       "stream": "stdout",
       "text": [
        "\n",
        "201412220SAS.html"
       ]
      },
      {
       "output_type": "stream",
       "stream": "stdout",
       "text": [
        "\n",
        "201412230ATL.html"
       ]
      },
      {
       "output_type": "stream",
       "stream": "stdout",
       "text": [
        "\n",
        "201412230BRK.html"
       ]
      },
      {
       "output_type": "stream",
       "stream": "stdout",
       "text": [
        "\n",
        "201412230CLE.html"
       ]
      },
      {
       "output_type": "stream",
       "stream": "stdout",
       "text": [
        "\n",
        "201412230IND.html"
       ]
      },
      {
       "output_type": "stream",
       "stream": "stdout",
       "text": [
        "\n",
        "201412230LAL.html"
       ]
      },
      {
       "output_type": "stream",
       "stream": "stdout",
       "text": [
        "\n",
        "201412230MIA.html"
       ]
      },
      {
       "output_type": "stream",
       "stream": "stdout",
       "text": [
        "\n",
        "201412230MIL.html"
       ]
      },
      {
       "output_type": "stream",
       "stream": "stdout",
       "text": [
        "\n",
        "201412230OKC.html"
       ]
      },
      {
       "output_type": "stream",
       "stream": "stdout",
       "text": [
        "\n",
        "201412230ORL.html"
       ]
      },
      {
       "output_type": "stream",
       "stream": "stdout",
       "text": [
        "\n",
        "201412230PHO.html"
       ]
      },
      {
       "output_type": "stream",
       "stream": "stdout",
       "text": [
        "\n",
        "201412230WAS.html"
       ]
      },
      {
       "output_type": "stream",
       "stream": "stdout",
       "text": [
        "\n"
       ]
      }
     ],
     "prompt_number": 26
    },
    {
     "cell_type": "code",
     "collapsed": false,
     "input": [
      "FD_DIR = 'C:/Coding/FanDuel/fd_html'\n",
      "fd_path = os.path.join(FD_DIR, fname)\n",
      "DF_15 = load.LoadDataForSeason(2015, fd_path)\n",
      "date_need = fname[:10].replace('_', '')\n",
      "flt = (DF_15['date_id'] == float(date_need))\n",
      "df = DF_15[flt]"
     ],
     "language": "python",
     "metadata": {},
     "outputs": [
      {
       "output_type": "stream",
       "stream": "stdout",
       "text": [
        "Loaded from disk: 0.795785248975\n",
        "Processed:"
       ]
      },
      {
       "output_type": "stream",
       "stream": "stdout",
       "text": [
        " 9.71376169276\n"
       ]
      }
     ],
     "prompt_number": 3
    },
    {
     "cell_type": "code",
     "collapsed": false,
     "input": [
      "signal_names = ['pts_per_game',\n",
      " 'trb_per_game',\n",
      " 'ast_per_game',\n",
      " 'tov_per_game',\n",
      " 'stl_per_game',\n",
      " 'blk_per_game',\n",
      " 'minutes_per_game']"
     ],
     "language": "python",
     "metadata": {},
     "outputs": [],
     "prompt_number": 4
    },
    {
     "cell_type": "code",
     "collapsed": false,
     "input": [
      "import cPickle as pickle\n",
      "import os\n",
      "from sklearn import linear_model"
     ],
     "language": "python",
     "metadata": {},
     "outputs": [],
     "prompt_number": 5
    },
    {
     "cell_type": "code",
     "collapsed": false,
     "input": [
      "with open('C:/Coding/FanDuel/data/models/linear_extended.model') as fin:\n",
      "    linear = pickle.load(fin)"
     ],
     "language": "python",
     "metadata": {},
     "outputs": [],
     "prompt_number": 17
    },
    {
     "cell_type": "code",
     "collapsed": false,
     "input": [
      "old_tempo = Leaf('team_poss_per_game')\n",
      "predicted_tempo = (Leaf('team_poss_per_game') + Leaf('other_poss_per_game')) / 2.\n",
      "tempo_mult = predicted_tempo / old_tempo\n",
      "\n",
      "off_part = Leaf('pts_per_game') + 1.5 * Leaf('ast_per_game')\n",
      "off_part *= Leaf('other_def_rating_per_game') / 1.041\n",
      "other_part = 1.2 * Leaf('trb_per_game')\n",
      "other_part += 2. * (Leaf('blk_per_game') + Leaf('stl_per_game'))\n",
      "other_part -= Leaf('tov_per_game')\n",
      "cumulative_score = (off_part + other_part) * tempo_mult\n",
      "cumulative_score_with_home = cumulative_score + ((.5 & Leaf('is_home')) | 0.)\n",
      "\n",
      "\n",
      "golden = Leaf('fantasy_pts')\n",
      "expr1 = Leaf('fantasy_pts_per_game')\n",
      "old_tempo = Leaf('team_poss_per_game')\n",
      "predicted_tempo = (Leaf('team_poss_per_game') + Leaf('other_poss_per_game')) / 2.\n",
      "tempo_mult = predicted_tempo / old_tempo\n",
      "expr2 = expr1 * tempo_mult\n",
      "\n",
      "rest_adjust = (-.3 & (Leaf('player_rest') == 1)) | 0.\n",
      "expr3 = expr1 + rest_adjust\n",
      "expr4 = expr2 + rest_adjust\n",
      "\n",
      "# Coaches trust good players more with no rest!!\n",
      "# rest_adjust_for_good = 1. & (Leaf('player_rest') == 1) & (Leaf('player_previous_minutes') > 30)\n",
      "#expr5 = expr4 + rest_adjust_for_good\n",
      "expr6 = expr4 + ((.5 & Leaf('is_home')) | 0.)\n"
     ],
     "language": "python",
     "metadata": {},
     "outputs": [],
     "prompt_number": 13
    },
    {
     "cell_type": "code",
     "collapsed": false,
     "input": [
      "from analysis import training"
     ],
     "language": "python",
     "metadata": {},
     "outputs": [],
     "prompt_number": 19
    },
    {
     "cell_type": "code",
     "collapsed": false,
     "input": [
      "signal_names3 = [\n",
      " 'pts_per_game',\n",
      " 'trb_per_game',\n",
      " 'ast_per_game',\n",
      "  0.-Leaf('tov_per_game'),\n",
      " 'stl_per_game',\n",
      " 'blk_per_game',\n",
      " 'minutes_per_game',\n",
      " tempo_mult | 1.,\n",
      " Leaf('other_def_rating_per_game') | 1.]\n",
      "df['linear_model'] = training.EvalModel(df, linear, signal_names3)"
     ],
     "language": "python",
     "metadata": {},
     "outputs": [],
     "prompt_number": 22
    },
    {
     "cell_type": "code",
     "collapsed": false,
     "input": [
      "PREDICTION_EXPR = Leaf('linear_model')"
     ],
     "language": "python",
     "metadata": {},
     "outputs": [],
     "prompt_number": 23
    },
    {
     "cell_type": "code",
     "collapsed": false,
     "input": [
      "fanduel_analysis.CheckVirtualFDGames(\n",
      "    [expr4, Leaf('linear_model'), cumulative_score_with_home],\n",
      "     DF_15)"
     ],
     "language": "python",
     "metadata": {},
     "outputs": [
      {
       "output_type": "stream",
       "stream": "stdout",
       "text": [
        "1 ((fantasy_pts_per_game * (((team_poss_per_game + other_poss_per_game) / 2.0) / team_poss_per_game)) + ((-0.3 & (player_rest == 1.0)) | 0.0))\n",
        "2 linear_model\n",
        "3 (((((pts_per_game + (1.5 * ast_per_game)) * (other_def_rating_per_game / 1.041)) + (((1.2 * trb_per_game) + (2.0 * (blk_per_game + stl_per_game))) - tov_per_game)) * (((team_poss_per_game + other_poss_per_game) / 2.0) / team_poss_per_game)) + ((0.5 & is_home) | 0.0))\n",
        "243.3\t\t255.4\t\t247.7\t\tmedian"
       ]
      },
      {
       "output_type": "stream",
       "stream": "stdout",
       "text": [
        "\n",
        "237.8\t\t248.9\t\t238.8\t\tmean\n",
        " \t1          \t2          \t3          \n",
        "1\t    XXX    \t17 : 30 (1)\t23 : 21 (4)\n",
        "2\t30 : 17 (1)\t    XXX    \t33 : 14 (1)\n",
        "3\t21 : 23 (4)\t14 : 33 (1)\t    XXX    \n"
       ]
      }
     ],
     "prompt_number": 25
    },
    {
     "cell_type": "code",
     "collapsed": false,
     "input": [
      "prediction = PREDICTION_EXPR.Eval(df)\n",
      "\n",
      "players_list = fanduel_analysis.FDFromFile(fd_path)\n",
      "pid = df['player_id']\n",
      "player_predictions = dict(itertools.izip(pid, prediction[flt]))\n",
      "\n",
      "players_out = [\n",
      "  #'jacksre01',\n",
      "  #'watsocj01',\n",
      "\n",
      "]\n",
      "players_in = [\n",
      "  #'greenje02', \n",
      "]\n",
      "updated_data = [\n",
      "    pi.Override(pts=player_predictions.get(pi.pid, 0))\n",
      "    for pi in players_list\n",
      "    if (pi.status != player_info.PlayerStatus.OUT and\n",
      "        pi.pid not in players_out and\n",
      "        pi.pid not in players_in)]\n",
      "req = player_info.Position.FD_REQUEST\n",
      "salary = 60000 - sum(pi.salary for pi in players_list if pi.pid in players_in)\n",
      "best = knapsack.BestChoice(updated_data, req, salary)\n",
      "best = best + [pi.Override(pts=player_predictions.get(pi.pid, 0)) for pi in players_list if pi.pid in players_in]\n",
      "\n",
      "for b in best:\n",
      "    #print b.pid\n",
      "    print b, player_predictions[b.pid], player_predictions[b.pid] - b.pts"
     ],
     "language": "python",
     "metadata": {},
     "outputs": [
      {
       "output_type": "stream",
       "stream": "stdout",
       "text": [
        "PlayerInfo(position='C', name='marcin gortat', salary=6600, pts=32.143488972965358, health='', status='', pid='gortama01') 32.143488973 0.0\n",
        "PlayerInfo(position='PF', name='tristan thompson', salary=4800, pts=24.682636661308035, health='', status='', pid='thomptr01') 24.6826366613 0.0\n",
        "PlayerInfo(position='PF', name='pau gasol', salary=8700, pts=43.083949086778532, health='', status='', pid='gasolpa01') 43.0839490868 0.0\n",
        "PlayerInfo(position='PG', name='aaron brooks', salary=4200, pts=24.853626229636003, health='', status='', pid='brookaa01') 24.8536262296 0.0\n",
        "PlayerInfo(position='PG', name='reggie jackson', salary=6000, pts=33.162101031927776, health='', status='', pid='jacksre01') 33.1621010319 0.0\n",
        "PlayerInfo(position='SF', name='paul pierce', salary=5400, pts=27.723981850457218, health='', status='', pid='piercpa01') 27.7239818505 0.0\n",
        "PlayerInfo(position='SF', name='lebron james', salary=10500, pts=47.433295730636218, health='', status='', pid='jamesle01') 47.4332957306 0.0\n",
        "PlayerInfo(position='SG', name='dwyane wade', salary=8800, pts=40.321960302794295, health='', status='', pid='wadedw01') 40.3219603028 0.0\n",
        "PlayerInfo(position='SG', name='jamal crawford', salary=5000, pts=27.267600158802129, health='', status='', pid='crawfja01') 27.2676001588 0.0\n"
       ]
      }
     ],
     "prompt_number": 26
    },
    {
     "cell_type": "code",
     "collapsed": false,
     "input": [],
     "language": "python",
     "metadata": {},
     "outputs": []
    }
   ],
   "metadata": {}
  }
 ]
}