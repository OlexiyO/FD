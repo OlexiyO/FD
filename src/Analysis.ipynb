{
 "worksheets": [
  {
   "cells": [
    {
     "cell_type": "code",
     "metadata": {},
     "outputs": [],
     "input": [
      "from crawl import boxscore_crawler, boxscore_parser\n",
      "from lib import expression\n",
      "from lib.plotting import *\n",
      "from analysis import load\n",
      "from analysis import fanduel_analysis\n",
      "from analysis import metrics\n",
      "from lib import misc_functions\n",
      "from lib.misc_functions import *\n",
      "import pandas as pd\n",
      "from crawl import fanduel_parser\n",
      "from crawl import player_ids"
     ],
     "language": "python",
     "prompt_number": 1
    },
    {
     "cell_type": "code",
     "metadata": {},
     "outputs": [
      {
       "ename": "ImportError",
       "evalue": "cannot import name PrintRows",
       "output_type": "pyerr",
       "traceback": [
        "\u001b[1;31m---------------------------------------------------------------------------\u001b[0m\n\u001b[1;31mImportError\u001b[0m                               Traceback (most recent call last)",
        "\u001b[1;32m<ipython-input-245-393e715edc8c>\u001b[0m in \u001b[0;36m<module>\u001b[1;34m()\u001b[0m\n\u001b[0;32m      1\u001b[0m \u001b[0mreload\u001b[0m\u001b[1;33m(\u001b[0m\u001b[0mfanduel_parser\u001b[0m\u001b[1;33m)\u001b[0m\u001b[1;33m\u001b[0m\u001b[0m\n\u001b[1;32m----> 2\u001b[1;33m \u001b[0mreload\u001b[0m\u001b[1;33m(\u001b[0m\u001b[0mfanduel_analysis\u001b[0m\u001b[1;33m)\u001b[0m\u001b[1;33m\u001b[0m\u001b[0m\n\u001b[0m\u001b[0;32m      3\u001b[0m \u001b[0mreload\u001b[0m\u001b[1;33m(\u001b[0m\u001b[0mboxscore_parser\u001b[0m\u001b[1;33m)\u001b[0m\u001b[1;33m\u001b[0m\u001b[0m\n\u001b[0;32m      4\u001b[0m \u001b[0mreload\u001b[0m\u001b[1;33m(\u001b[0m\u001b[0mboxscore_crawler\u001b[0m\u001b[1;33m)\u001b[0m\u001b[1;33m\u001b[0m\u001b[0m\n\u001b[0;32m      5\u001b[0m \u001b[0mreload\u001b[0m\u001b[1;33m(\u001b[0m\u001b[0mload\u001b[0m\u001b[1;33m)\u001b[0m\u001b[1;33m\u001b[0m\u001b[0m\n",
        "\u001b[1;32mC:\\Coding\\FanDuel\\src\\analysis\\fanduel_analysis.pyc\u001b[0m in \u001b[0;36m<module>\u001b[1;34m()\u001b[0m\n\u001b[0;32m      9\u001b[0m \u001b[1;32mfrom\u001b[0m \u001b[0mcrawl\u001b[0m\u001b[1;33m.\u001b[0m\u001b[0mplayer_ids\u001b[0m \u001b[1;32mimport\u001b[0m \u001b[0mFD_DIR\u001b[0m\u001b[1;33m,\u001b[0m \u001b[0mGetPlayerPosition\u001b[0m\u001b[1;33m\u001b[0m\u001b[0m\n\u001b[0;32m     10\u001b[0m \u001b[1;32mfrom\u001b[0m \u001b[0mlib\u001b[0m \u001b[1;32mimport\u001b[0m \u001b[0mexpression\u001b[0m\u001b[1;33m\u001b[0m\u001b[0m\n\u001b[1;32m---> 11\u001b[1;33m \u001b[1;32mfrom\u001b[0m \u001b[0mlib\u001b[0m\u001b[1;33m.\u001b[0m\u001b[0mmisc_functions\u001b[0m \u001b[1;32mimport\u001b[0m \u001b[0mPrintRows\u001b[0m\u001b[1;33m\u001b[0m\u001b[0m\n\u001b[0m\u001b[0;32m     12\u001b[0m \u001b[1;33m\u001b[0m\u001b[0m\n\u001b[0;32m     13\u001b[0m \u001b[1;33m\u001b[0m\u001b[0m\n",
        "\u001b[1;31mImportError\u001b[0m: cannot import name PrintRows"
       ]
      }
     ],
     "input": [
      "reload(misc_fun)\n",
      "reload(fanduel_parser)\n",
      "reload(fanduel_analysis)\n",
      "reload(boxscore_parser)\n",
      "reload(boxscore_crawler)\n",
      "reload(load)\n",
      "reload(player_ids)"
     ],
     "language": "python",
     "prompt_number": 245
    },
    {
     "cell_type": "code",
     "metadata": {},
     "outputs": [
      {
       "output_type": "stream",
       "stream": "stdout",
       "text": [
        "Loaded from disk: 4.41058260694\n",
        "Processed:"
       ]
      },
      {
       "output_type": "stream",
       "stream": "stdout",
       "text": [
        " 27.1687715505\n"
       ]
      }
     ],
     "input": [
      "DF_15_clean = load.LoadDataForSeason(2015)"
     ],
     "language": "python",
     "prompt_number": 2
    },
    {
     "cell_type": "code",
     "metadata": {},
     "outputs": [
      {
       "output_type": "stream",
       "stream": "stdout",
       "text": [
        "Loaded from disk: 0.671391111158\n"
       ]
      },
      {
       "ename": "KeyboardInterrupt",
       "evalue": "",
       "output_type": "pyerr",
       "traceback": [
        "\u001b[1;31m---------------------------------------------------------------------------\u001b[0m\n\u001b[1;31mKeyboardInterrupt\u001b[0m                         Traceback (most recent call last)",
        "\u001b[1;32m<ipython-input-242-39b3a633b660>\u001b[0m in \u001b[0;36m<module>\u001b[1;34m()\u001b[0m\n\u001b[1;32m----> 1\u001b[1;33m \u001b[0mDF_15\u001b[0m \u001b[1;33m=\u001b[0m \u001b[0mload\u001b[0m\u001b[1;33m.\u001b[0m\u001b[0mLoadDataForSeason\u001b[0m\u001b[1;33m(\u001b[0m\u001b[1;36m2015\u001b[0m\u001b[1;33m,\u001b[0m \u001b[1;34m'../fd_html/2014_12_12.html'\u001b[0m\u001b[1;33m)\u001b[0m\u001b[1;33m\u001b[0m\u001b[0m\n\u001b[0m",
        "\u001b[1;32mC:\\Coding\\FanDuel\\src\\analysis\\load.pyc\u001b[0m in \u001b[0;36mLoadDataForSeason\u001b[1;34m(year, extra_fd_file)\u001b[0m\n\u001b[0;32m     72\u001b[0m   \u001b[0mDF\u001b[0m \u001b[1;33m=\u001b[0m \u001b[0mpd\u001b[0m\u001b[1;33m.\u001b[0m\u001b[0mconcat\u001b[0m\u001b[1;33m(\u001b[0m\u001b[0mdfs\u001b[0m\u001b[1;33m)\u001b[0m\u001b[1;33m\u001b[0m\u001b[0m\n\u001b[0;32m     73\u001b[0m \u001b[1;33m\u001b[0m\u001b[0m\n\u001b[1;32m---> 74\u001b[1;33m   \u001b[0mDF\u001b[0m\u001b[1;33m[\u001b[0m\u001b[1;34m'date_id'\u001b[0m\u001b[1;33m]\u001b[0m \u001b[1;33m=\u001b[0m \u001b[0mDF\u001b[0m\u001b[1;33m[\u001b[0m\u001b[1;34m'game_id'\u001b[0m\u001b[1;33m]\u001b[0m\u001b[1;33m.\u001b[0m\u001b[0mmap\u001b[0m\u001b[1;33m(\u001b[0m\u001b[1;32mlambda\u001b[0m \u001b[0mx\u001b[0m\u001b[1;33m:\u001b[0m \u001b[0mx\u001b[0m\u001b[1;33m[\u001b[0m\u001b[1;33m:\u001b[0m\u001b[1;36m8\u001b[0m\u001b[1;33m]\u001b[0m\u001b[1;33m)\u001b[0m\u001b[1;33m.\u001b[0m\u001b[0mastype\u001b[0m\u001b[1;33m(\u001b[0m\u001b[0mint\u001b[0m\u001b[1;33m)\u001b[0m\u001b[1;33m\u001b[0m\u001b[0m\n\u001b[0m\u001b[0;32m     75\u001b[0m   \u001b[0mAggregatePlayerPerGameFeatures\u001b[0m\u001b[1;33m(\u001b[0m\u001b[0mDF\u001b[0m\u001b[1;33m)\u001b[0m\u001b[1;33m\u001b[0m\u001b[0m\n\u001b[0;32m     76\u001b[0m   \u001b[0mAddRestFeaturesForPlayer\u001b[0m\u001b[1;33m(\u001b[0m\u001b[0mDF\u001b[0m\u001b[1;33m)\u001b[0m\u001b[1;33m\u001b[0m\u001b[0m\n",
        "\u001b[1;32mC:\\Coding\\FanDuel\\src\\analysis\\load.pyc\u001b[0m in \u001b[0;36mAggregatePlayerPerGameFeatures\u001b[1;34m(df, fields)\u001b[0m\n\u001b[0;32m    236\u001b[0m   \u001b[1;32mfor\u001b[0m \u001b[0mindex\u001b[0m\u001b[1;33m,\u001b[0m \u001b[0mseries\u001b[0m \u001b[1;32min\u001b[0m \u001b[0mdf\u001b[0m\u001b[1;33m.\u001b[0m\u001b[0miterrows\u001b[0m\u001b[1;33m(\u001b[0m\u001b[1;33m)\u001b[0m\u001b[1;33m:\u001b[0m\u001b[1;33m\u001b[0m\u001b[0m\n\u001b[0;32m    237\u001b[0m     \u001b[0mplayer_id\u001b[0m\u001b[1;33m,\u001b[0m \u001b[0mgame_id\u001b[0m \u001b[1;33m=\u001b[0m \u001b[0mindex\u001b[0m\u001b[1;33m.\u001b[0m\u001b[0msplit\u001b[0m\u001b[1;33m(\u001b[0m\u001b[1;34m':'\u001b[0m\u001b[1;33m)\u001b[0m\u001b[1;33m\u001b[0m\u001b[0m\n\u001b[1;32m--> 238\u001b[1;33m     \u001b[0mplayer_data\u001b[0m \u001b[1;33m=\u001b[0m \u001b[0magg_data\u001b[0m\u001b[1;33m.\u001b[0m\u001b[0mget\u001b[0m\u001b[1;33m(\u001b[0m\u001b[0mplayer_id\u001b[0m\u001b[1;33m)\u001b[0m\u001b[1;33m\u001b[0m\u001b[0m\n\u001b[0m\u001b[0;32m    239\u001b[0m     \u001b[1;32mif\u001b[0m \u001b[0mplayer_data\u001b[0m \u001b[1;32mis\u001b[0m \u001b[0mNone\u001b[0m\u001b[1;33m:\u001b[0m\u001b[1;33m\u001b[0m\u001b[0m\n\u001b[0;32m    240\u001b[0m       \u001b[0mplayer_data\u001b[0m \u001b[1;33m=\u001b[0m \u001b[1;33m{\u001b[0m\u001b[0mx\u001b[0m\u001b[1;33m:\u001b[0m \u001b[1;36m0.\u001b[0m \u001b[1;32mfor\u001b[0m \u001b[0mx\u001b[0m \u001b[1;32min\u001b[0m \u001b[0mfields\u001b[0m\u001b[1;33m}\u001b[0m\u001b[1;33m\u001b[0m\u001b[0m\n",
        "\u001b[1;32mC:\\Python27\\lib\\site-packages\\pandas\\core\\series.pyc\u001b[0m in \u001b[0;36m__setitem__\u001b[1;34m(self, key, value)\u001b[0m\n\u001b[0;32m    566\u001b[0m         \u001b[1;32mtry\u001b[0m\u001b[1;33m:\u001b[0m\u001b[1;33m\u001b[0m\u001b[0m\n\u001b[0;32m    567\u001b[0m             \u001b[1;32mtry\u001b[0m\u001b[1;33m:\u001b[0m\u001b[1;33m\u001b[0m\u001b[0m\n\u001b[1;32m--> 568\u001b[1;33m                 \u001b[0mself\u001b[0m\u001b[1;33m.\u001b[0m\u001b[0mindex\u001b[0m\u001b[1;33m.\u001b[0m\u001b[0m_engine\u001b[0m\u001b[1;33m.\u001b[0m\u001b[0mset_value\u001b[0m\u001b[1;33m(\u001b[0m\u001b[0mself\u001b[0m\u001b[1;33m,\u001b[0m \u001b[0mkey\u001b[0m\u001b[1;33m,\u001b[0m \u001b[0mvalue\u001b[0m\u001b[1;33m)\u001b[0m\u001b[1;33m\u001b[0m\u001b[0m\n\u001b[0m\u001b[0;32m    569\u001b[0m                 \u001b[1;32mreturn\u001b[0m\u001b[1;33m\u001b[0m\u001b[0m\n\u001b[0;32m    570\u001b[0m             \u001b[1;32mexcept\u001b[0m \u001b[0mKeyError\u001b[0m\u001b[1;33m:\u001b[0m\u001b[1;33m\u001b[0m\u001b[0m\n",
        "\u001b[1;32mC:\\Python27\\lib\\site-packages\\pandas\\lib.pyd\u001b[0m in \u001b[0;36mpandas.lib.IndexEngine.set_value (pandas\\src\\tseries.c:117573)\u001b[1;34m()\u001b[0m\n",
        "\u001b[1;32mC:\\Python27\\lib\\site-packages\\pandas\\lib.pyd\u001b[0m in \u001b[0;36mpandas.lib.IndexEngine.set_value (pandas\\src\\tseries.c:117463)\u001b[1;34m()\u001b[0m\n",
        "\u001b[1;32mC:\\Python27\\lib\\site-packages\\pandas\\core\\series.pyc\u001b[0m in \u001b[0;36m__setitem__\u001b[1;34m(self, key, value)\u001b[0m\n\u001b[0;32m    591\u001b[0m         \u001b[1;32mif\u001b[0m \u001b[0m_is_bool_indexer\u001b[0m\u001b[1;33m(\u001b[0m\u001b[0mkey\u001b[0m\u001b[1;33m)\u001b[0m\u001b[1;33m:\u001b[0m\u001b[1;33m\u001b[0m\u001b[0m\n\u001b[0;32m    592\u001b[0m             \u001b[0mkey\u001b[0m \u001b[1;33m=\u001b[0m \u001b[0mself\u001b[0m\u001b[1;33m.\u001b[0m\u001b[0m_check_bool_indexer\u001b[0m\u001b[1;33m(\u001b[0m\u001b[0mkey\u001b[0m\u001b[1;33m)\u001b[0m\u001b[1;33m\u001b[0m\u001b[0m\n\u001b[1;32m--> 593\u001b[1;33m             \u001b[0mkey\u001b[0m \u001b[1;33m=\u001b[0m \u001b[0mnp\u001b[0m\u001b[1;33m.\u001b[0m\u001b[0masarray\u001b[0m\u001b[1;33m(\u001b[0m\u001b[0mkey\u001b[0m\u001b[1;33m,\u001b[0m \u001b[0mdtype\u001b[0m\u001b[1;33m=\u001b[0m\u001b[0mbool\u001b[0m\u001b[1;33m)\u001b[0m\u001b[1;33m\u001b[0m\u001b[0m\n\u001b[0m\u001b[0;32m    594\u001b[0m \u001b[1;33m\u001b[0m\u001b[0m\n\u001b[0;32m    595\u001b[0m         \u001b[0mself\u001b[0m\u001b[1;33m.\u001b[0m\u001b[0m_set_with\u001b[0m\u001b[1;33m(\u001b[0m\u001b[0mkey\u001b[0m\u001b[1;33m,\u001b[0m \u001b[0mvalue\u001b[0m\u001b[1;33m)\u001b[0m\u001b[1;33m\u001b[0m\u001b[0m\n",
        "\u001b[1;31mKeyboardInterrupt\u001b[0m: "
       ]
      }
     ],
     "input": [
      "DF_15 = load.LoadDataForSeason(2015, '../fd_html/2014_12_12.html')"
     ],
     "language": "python",
     "prompt_number": 242
    },
    {
     "cell_type": "code",
     "metadata": {},
     "outputs": [],
     "input": [
      "to_test = DF_15[DF_15.date == 20141212]"
     ],
     "language": "python",
     "prompt_number": 166
    },
    {
     "cell_type": "code",
     "metadata": {},
     "outputs": [
      {
       "output_type": "pyout",
       "prompt_number": 76,
       "text": [
        "dtype('float64')"
       ],
       "metadata": {}
      }
     ],
     "input": [
      "DF_15_clean.date.dtype"
     ],
     "language": "python",
     "prompt_number": 76
    },
    {
     "cell_type": "code",
     "metadata": {},
     "outputs": [
      {
       "output_type": "pyout",
       "prompt_number": 169,
       "text": [
        "anticpe01:201412120ATL    10.500120\n",
        "bazemke01:201412120ATL     6.521713\n",
        "brandel01:201412120ATL    10.970021\n",
        "carrode01:201412120ATL    23.613921\n",
        "dedmode01:201412120ATL    10.831879\n",
        "fournev01:201412120ATL    20.337227\n",
        "fryech01:201412120ATL     18.226142\n",
        "gordoaa01:201412120ATL    11.067206\n",
        "gordobe01:201412120ATL     9.741630\n",
        "greenwi01:201412120ATL     7.052031\n",
        "harklma01:201412120ATL     9.581080\n",
        "harrito02:201412120ATL    31.949588\n",
        "horfoal01:201412120ATL    27.979512\n",
        "jenkijo01:201412120ATL     7.562912\n",
        "korveky01:201412120ATL    24.592536\n",
        "...\n",
        "humphkr01:201412120WAS    18.836850\n",
        "jordade01:201412120WAS    30.735946\n",
        "millean02:201412120WAS    10.693060\n",
        "paulch01:201412120WAS     41.498314\n",
        "piercpa01:201412120WAS    23.889093\n",
        "porteot01:201412120WAS    13.540201\n",
        "redicjj01:201412120WAS    18.302729\n",
        "ricegl02:201412120WAS      3.842111\n",
        "serapke01:201412120WAS    12.053161\n",
        "templga01:201412120WAS    14.058676\n",
        "turkohe01:201412120WAS     5.239811\n",
        "udohek01:201412120WAS      1.575098\n",
        "walljo01:201412120WAS     41.452228\n",
        "webstma02:201412120WAS     0.500000\n",
        "wilcocj01:201412120WAS     4.524216\n",
        "Length: 361"
       ],
       "metadata": {}
      }
     ],
     "input": [
      "expr6.Eval(to_test)"
     ],
     "language": "python",
     "prompt_number": 169
    },
    {
     "cell_type": "code",
     "metadata": {},
     "outputs": [
      {
       "output_type": "stream",
       "stream": "stdout",
       "text": [
        "anticpe01\t201412120ATL\t2.0\t93.7116372235\n",
        "bazemke01\t201412120ATL\t2.0\t93.7116372235\n",
        "brandel01\t201412120ATL\t2.0\t93.7116372235\n",
        "carrode01\t201412120ATL\t2.0\t93.7116372235\n",
        "dedmode01\t201412120ATL\t2.0\t92.7326040279\n",
        "fournev01\t201412120ATL\t2.0\t92.7326040279\n",
        "fryech01 \t201412120ATL\t2.0\t92.7326040279\n",
        "gordoaa01\t201412120ATL\t7.0\t92.7326040279\n",
        "gordobe01\t201412120ATL\t2.0\t92.7326040279\n",
        "greenwi01\t201412120ATL\t2.0\t92.7326040279\n",
        "harklma01\t201412120ATL\t2.0\t92.7326040279\n",
        "harrito02\t201412120ATL\t2.0\t92.7326040279\n",
        "horfoal01\t201412120ATL\t2.0\t93.7116372235\n",
        "jenkijo01\t201412120ATL\t2.0\t93.7116372235\n",
        "korveky01\t201412120ATL\t2.0\t93.7116372235\n",
        "macksh01 \t201412120ATL\t2.0\t93.7116372235\n",
        "marblde01\t201412120ATL\t2.0\t92.7326040279\n",
        "millspa01\t201412120ATL\t2.0\t93.7116372235\n",
        "muscami01\t201412120ATL\t2.0\t93.7116372235\n",
        "nichoan01\t201412120ATL\t2.0\t92.7326040279\n"
       ]
      }
     ],
     "input": [
      "PrintData(to_test.player_id, to_test.game_id, to_test.player_rest, to_test.team_poss_per_game)"
     ],
     "language": "python",
     "prompt_number": 168
    },
    {
     "cell_type": "code",
     "metadata": {},
     "outputs": [
      {
       "output_type": "stream",
       "stream": "stdout",
       "text": [
        "201412110OKC.html\n",
        "201412110SAC.html"
       ]
      },
      {
       "output_type": "stream",
       "stream": "stdout",
       "text": [
        "\n",
        "201412120ATL.html"
       ]
      },
      {
       "output_type": "stream",
       "stream": "stdout",
       "text": [
        "\n",
        "201412120BOS.html"
       ]
      },
      {
       "output_type": "stream",
       "stream": "stdout",
       "text": [
        "\n",
        "201412120BRK.html"
       ]
      },
      {
       "output_type": "stream",
       "stream": "stdout",
       "text": [
        "\n",
        "201412120CHI.html"
       ]
      },
      {
       "output_type": "stream",
       "stream": "stdout",
       "text": [
        "\n",
        "201412120MEM.html"
       ]
      },
      {
       "output_type": "stream",
       "stream": "stdout",
       "text": [
        "\n",
        "201412120MIN.html"
       ]
      },
      {
       "output_type": "stream",
       "stream": "stdout",
       "text": [
        "\n",
        "201412120NOP.html"
       ]
      },
      {
       "output_type": "stream",
       "stream": "stdout",
       "text": [
        "\n",
        "201412120PHO.html"
       ]
      },
      {
       "output_type": "stream",
       "stream": "stdout",
       "text": [
        "\n",
        "201412120SAS.html"
       ]
      },
      {
       "output_type": "stream",
       "stream": "stdout",
       "text": [
        "\n",
        "201412120TOR.html"
       ]
      },
      {
       "output_type": "stream",
       "stream": "stdout",
       "text": [
        "\n",
        "201412120UTA.html"
       ]
      },
      {
       "output_type": "stream",
       "stream": "stdout",
       "text": [
        "\n",
        "201412120WAS.html"
       ]
      },
      {
       "output_type": "stream",
       "stream": "stdout",
       "text": [
        "\n"
       ]
      }
     ],
     "input": [
      "boxscore_crawler.CrawlGamesForDay(2014, 12, 11)\n",
      "boxscore_crawler.CrawlGamesForDay(2014, 12, 13)"
     ],
     "language": "python",
     "prompt_number": 239
    },
    {
     "cell_type": "code",
     "metadata": {},
     "outputs": [
      {
       "output_type": "stream",
       "stream": "stdout",
       "text": [
        "201412050BOS.html\n",
        "201412050BRK.html"
       ]
      },
      {
       "output_type": "stream",
       "stream": "stdout",
       "text": [
        "\n",
        "201412050CHO.html"
       ]
      },
      {
       "output_type": "stream",
       "stream": "stdout",
       "text": [
        "\n",
        "201412050DAL.html"
       ]
      },
      {
       "output_type": "stream",
       "stream": "stdout",
       "text": [
        "\n",
        "201412050MEM.html"
       ]
      },
      {
       "output_type": "stream",
       "stream": "stdout",
       "text": [
        "\n",
        "201412050MIL.html"
       ]
      },
      {
       "output_type": "stream",
       "stream": "stdout",
       "text": [
        "\n",
        "201412050MIN.html"
       ]
      },
      {
       "output_type": "stream",
       "stream": "stdout",
       "text": [
        "\n",
        "201412050PHI.html"
       ]
      },
      {
       "output_type": "stream",
       "stream": "stdout",
       "text": [
        "\n",
        "201412050SAC.html"
       ]
      },
      {
       "output_type": "stream",
       "stream": "stdout",
       "text": [
        "\n",
        "201412050TOR.html"
       ]
      },
      {
       "output_type": "stream",
       "stream": "stdout",
       "text": [
        "\n",
        "201412050UTA.html"
       ]
      },
      {
       "output_type": "stream",
       "stream": "stdout",
       "text": [
        "\n",
        "201412050WAS.html"
       ]
      },
      {
       "output_type": "stream",
       "stream": "stdout",
       "text": [
        "\n"
       ]
      }
     ],
     "input": [
      "boxscore_parser.ParseRegSeason(2015)"
     ],
     "language": "python",
     "prompt_number": 407
    },
    {
     "cell_type": "code",
     "metadata": {},
     "outputs": [
      {
       "output_type": "pyout",
       "prompt_number": 454,
       "text": [
        "<module 'analysis.load' from 'analysis\\load.py'>"
       ],
       "metadata": {}
      }
     ],
     "input": [
      "reload(load)"
     ],
     "language": "python",
     "prompt_number": 454
    },
    {
     "cell_type": "code",
     "metadata": {},
     "outputs": [
      {
       "output_type": "stream",
       "stream": "stdout",
       "text": [
        "Loaded from disk: 2.34212508239\n",
        "Processed:"
       ]
      },
      {
       "output_type": "stream",
       "stream": "stdout",
       "text": [
        " 27.9630368617\n"
       ]
      }
     ],
     "input": [
      "DF_14 = load.LoadDataForSeason(2014)"
     ],
     "language": "python",
     "prompt_number": 455
    },
    {
     "cell_type": "code",
     "metadata": {},
     "outputs": [],
     "input": [
      "import"
     ],
     "language": "python"
    },
    {
     "cell_type": "code",
     "metadata": {},
     "outputs": [
      {
       "output_type": "stream",
       "stream": "stdout",
       "text": [
        "Loaded from disk: 1.00981997023\n",
        "Processed:"
       ]
      },
      {
       "output_type": "stream",
       "stream": "stdout",
       "text": [
        " 7.57594282366\n"
       ]
      }
     ],
     "input": [
      "reload(load)\n",
      "DF_15 = load.LoadDataForSeason(2015)"
     ],
     "language": "python",
     "prompt_number": 679
    },
    {
     "cell_type": "code",
     "metadata": {},
     "outputs": [
      {
       "output_type": "stream",
       "stream": "stdout",
       "text": [
        "15.3691427661\n"
       ]
      },
      {
       "output_type": "pyout",
       "prompt_number": 481,
       "text": [
        "16.516727855123783"
       ],
       "metadata": {}
      }
     ],
     "input": [
      "print DF_14.fantasy_pts.mean()\n",
      "DF_14.fantasy_pts_per_game.mean()"
     ],
     "language": "python",
     "prompt_number": 481
    },
    {
     "cell_type": "code",
     "metadata": {},
     "outputs": [
      {
       "output_type": "stream",
       "stream": "stdout",
       "text": [
        "15.2130853626\n"
       ]
      },
      {
       "output_type": "pyout",
       "prompt_number": 482,
       "text": [
        "15.071270344583409"
       ],
       "metadata": {}
      }
     ],
     "input": [
      "print DF_15.fantasy_pts.mean()\n",
      "DF_15.fantasy_pts_per_game.mean()"
     ],
     "language": "python",
     "prompt_number": 482
    },
    {
     "cell_type": "code",
     "metadata": {},
     "outputs": [
      {
       "output_type": "pyout",
       "prompt_number": 496,
       "text": [
        "<module 'analysis.fanduel_analysis' from 'analysis\\fanduel_analysis.py'>"
       ],
       "metadata": {}
      }
     ],
     "input": [
      "reload(player_ids)\n",
      "reload(fanduel_parser)\n",
      "reload(fanduel_analysis)"
     ],
     "language": "python",
     "prompt_number": 496
    },
    {
     "cell_type": "code",
     "metadata": {},
     "outputs": [],
     "input": [
      "from analysis.expression import *"
     ],
     "language": "python",
     "prompt_number": 148
    },
    {
     "cell_type": "code",
     "metadata": {},
     "outputs": [],
     "input": [
      "expr1 = Leaf('fantasy_pts_per_game')"
     ],
     "language": "python",
     "prompt_number": 484
    },
    {
     "cell_type": "code",
     "metadata": {},
     "outputs": [
      {
       "output_type": "stream",
       "stream": "stdout",
       "text": [
        "2014_12_02 "
       ]
      },
      {
       "output_type": "stream",
       "stream": "stdout",
       "text": [
        "258.4\n",
        "2014_12_02_late "
       ]
      },
      {
       "output_type": "stream",
       "stream": "stdout",
       "text": [
        "251.9\n",
        "2014_12_03 "
       ]
      },
      {
       "output_type": "stream",
       "stream": "stdout",
       "text": [
        "205.1\n",
        "2014_12_04 "
       ]
      },
      {
       "output_type": "stream",
       "stream": "stdout",
       "text": [
        "252.4\n",
        "2014_12_05 "
       ]
      },
      {
       "output_type": "stream",
       "stream": "stdout",
       "text": [
        "225.3\n",
        "2014_12_06 "
       ]
      },
      {
       "output_type": "stream",
       "stream": "stdout",
       "text": [
        "271.5\n",
        "2014_12_07 "
       ]
      },
      {
       "output_type": "stream",
       "stream": "stdout",
       "text": [
        "0\n",
        "2014_12_07_late "
       ]
      },
      {
       "output_type": "stream",
       "stream": "stdout",
       "text": [
        "0\n",
        "2014_12_08 "
       ]
      },
      {
       "output_type": "stream",
       "stream": "stdout",
       "text": [
        "0\n"
       ]
      }
     ],
     "input": [
      "fanduel_analysis.CheckAllFDGames(expr1, df=DF_15, print_results=False)"
     ],
     "language": "python",
     "prompt_number": 485
    },
    {
     "cell_type": "code",
     "metadata": {},
     "outputs": [],
     "input": [
      "golden = Leaf('fantasy_pts')"
     ],
     "language": "python",
     "prompt_number": 498
    },
    {
     "cell_type": "code",
     "metadata": {},
     "outputs": [],
     "input": [
      "expr1 = Leaf('fantasy_pts_per_game')\n",
      "old_tempo = expression.Leaf('team_poss_per_game')\n",
      "predicted_tempo = (expression.Leaf('team_poss_per_game') +  expression.Leaf('other_poss_per_game')) / 2.\n",
      "tempo_mult = predicted_tempo / old_tempo\n",
      "expr2 =  expr1 * tempo_mult"
     ],
     "language": "python",
     "prompt_number": 560
    },
    {
     "cell_type": "code",
     "metadata": {},
     "outputs": [],
     "input": [
      ""
     ],
     "language": "python"
    },
    {
     "cell_type": "code",
     "metadata": {},
     "outputs": [],
     "input": [
      "from analysis import knapsack\n",
      "reload(knapsack)\n",
      "reload(fanduel_analysis)\n",
      "DF_15['date_id'] = DF_15['game_id'].map(lambda x: x[:8]).astype(int)"
     ],
     "language": "python",
     "prompt_number": 576
    },
    {
     "cell_type": "code",
     "metadata": {},
     "outputs": [
      {
       "output_type": "pyout",
       "prompt_number": 580,
       "text": [
        "afflaar01:201310290IND    0\n",
        "butlera01:201310290IND    0\n",
        "copelch01:201310290IND    0\n",
        "georgpa01:201310290IND    0\n",
        "harklma01:201310290IND    0\n",
        "harrito02:201310290IND    0\n",
        "hibbero01:201310290IND    0\n",
        "hillge01:201310290IND     0\n",
        "hillso01:201310290IND     0\n",
        "johnsor01:201310290IND    0\n",
        "jonesso01:201310290IND    0\n",
        "lambdo01:201310290IND     0\n",
        "mahinia01:201310290IND    0\n",
        "maxieja01:201310290IND    0\n",
        "mooreet01:201310290IND    0\n",
        "...\n",
        "jamesda01:201404160SAS    2000\n",
        "johnswe01:201404160SAS    4800\n",
        "josepco01:201404160SAS    2500\n",
        "kamanch01:201404160SAS    5000\n",
        "kellyry01:201404160SAS    4100\n",
        "leonaka01:201404160SAS    6700\n",
        "marshke01:201404160SAS    5900\n",
        "meeksjo01:201404160SAS    5700\n",
        "millspa02:201404160SAS    4100\n",
        "nashst01:201404160SAS     4200\n",
        "parketo01:201404160SAS    6700\n",
        "pendeje02:201404160SAS    2200\n",
        "sacrero01:201404160SAS    3100\n",
        "splitti01:201404160SAS    4600\n",
        "youngni01:201404160SAS    5800\n",
        "Name: fantasy_pts_per_game, Length: 31380"
       ],
       "metadata": {}
      }
     ],
     "input": [
      "(2.5 * DF_14['fantasy_pts_per_game']).astype(int) * 100"
     ],
     "language": "python",
     "prompt_number": 580
    },
    {
     "cell_type": "code",
     "metadata": {},
     "outputs": [
      {
       "output_type": "stream",
       "stream": "stdout",
       "text": [
        "2014_12_02      \t409.2\t258.4\t292.2\t258.4\t292.2\n",
        "2014_12_02_late"
       ]
      },
      {
       "output_type": "stream",
       "stream": "stdout",
       "text": [
        " \t378.2\t251.9\t256.0\t251.9\t256.0\n",
        "2014_12_03     "
       ]
      },
      {
       "output_type": "stream",
       "stream": "stdout",
       "text": [
        " \t409.4\t205.1\t201.0\t205.1\t201.0\n",
        "2014_12_04     "
       ]
      },
      {
       "output_type": "stream",
       "stream": "stdout",
       "text": [
        " \t325.3\t252.4\t232.0\t252.4\t232.0\n",
        "2014_12_05     "
       ]
      },
      {
       "output_type": "stream",
       "stream": "stdout",
       "text": [
        " \t403.3\t225.3\t208.7\t254.0\t219.9\n",
        "2014_12_06     "
       ]
      },
      {
       "output_type": "stream",
       "stream": "stdout",
       "text": [
        " \t406.7\t271.5\t248.8\t238.3\t248.8\n",
        "2014_12_07     "
       ]
      },
      {
       "output_type": "stream",
       "stream": "stdout",
       "text": [
        " \t351.8\t176.9\t189.8\t198.3\t189.8\n",
        "2014_12_07_late"
       ]
      },
      {
       "output_type": "stream",
       "stream": "stdout",
       "text": [
        " \t324.0\t200.9\t188.9\t200.9\t182.9\n",
        "390.8\t\t238.6\t\t220.3\t\t245.1\t\t225.9\t\tmedian\n",
        "376.0\t\t230.3\t\t227.2\t\t232.4\t\t227.8\t\tmean\n",
        "9.15227685252\n"
       ]
      }
     ],
     "input": [
      "reload(fanduel_analysis)\n",
      "fanduel_analysis.CheckAllFDGames([golden, expr1, expr2, expr3, expr4], DF_15, print_selections=False)"
     ],
     "language": "python",
     "prompt_number": 673
    },
    {
     "cell_type": "code",
     "metadata": {},
     "outputs": [
      {
       "output_type": "stream",
       "stream": "stdout",
       "text": [
        "20141202.0      \t220.2\t236.5\n",
        "20141203.0     "
       ]
      },
      {
       "output_type": "stream",
       "stream": "stdout",
       "text": [
        " \t271.8\t264.6\n",
        "20141204.0     "
       ]
      },
      {
       "output_type": "stream",
       "stream": "stdout",
       "text": [
        " \t232.8\t209.2\n",
        "20141205.0     "
       ]
      },
      {
       "output_type": "stream",
       "stream": "stdout",
       "text": [
        " \t213.0\t235.2\n",
        "20141206.0     "
       ]
      },
      {
       "output_type": "stream",
       "stream": "stdout",
       "text": [
        " \t215.5\t215.9\n",
        "20141207.0     "
       ]
      },
      {
       "output_type": "stream",
       "stream": "stdout",
       "text": [
        " \t202.9\t255.5\n",
        "Base: fantasy_pts_per_game\n",
        "Test: ((fantasy_pts_per_game * (((team_poss_per_game + other_poss_per_game) / 2.0) / team_poss_per_game)) + ((-0.3 & (player_rest == 1.0)) | 0.0))\n",
        "Base\t\tTest\t\tDraw\n",
        "2\t\t4\t\t(0):\n",
        "217.9\t\t235.8\t\tmedian\n",
        "226.0\t\t236.2\t\tmean\n"
       ]
      }
     ],
     "input": [
      "reload(fanduel_analysis)\n",
      "fanduel_analysis.CheckVirtualFDGames(expr1, expr4, DF_15, print_per_day=True)"
     ],
     "language": "python",
     "prompt_number": 669
    },
    {
     "cell_type": "code",
     "metadata": {},
     "outputs": [
      {
       "output_type": "stream",
       "stream": "stdout",
       "text": [
        "2014_12_02      \t409.2\t258.4\t292.2\t258.4\t292.2\n",
        "2014_12_02_late"
       ]
      },
      {
       "output_type": "stream",
       "stream": "stdout",
       "text": [
        " \t378.2\t251.9\t256.0\t251.9\t256.0\n",
        "2014_12_03     "
       ]
      },
      {
       "output_type": "stream",
       "stream": "stdout",
       "text": [
        " \t409.4\t205.1\t201.0\t205.1\t201.0\n",
        "2014_12_04     "
       ]
      },
      {
       "output_type": "stream",
       "stream": "stdout",
       "text": [
        " \t325.3\t252.4\t232.0\t252.4\t232.0\n",
        "2014_12_05     "
       ]
      },
      {
       "output_type": "stream",
       "stream": "stdout",
       "text": [
        " \t403.3\t225.3\t208.7\t254.0\t219.9\n",
        "2014_12_06     "
       ]
      },
      {
       "output_type": "stream",
       "stream": "stdout",
       "text": [
        " \t406.7\t271.5\t248.8\t238.3\t248.8\n",
        "2014_12_07     "
       ]
      },
      {
       "output_type": "stream",
       "stream": "stdout",
       "text": [
        " \t0.0\t0.0\t0.0\t0.0\t0.0\n",
        "2014_12_07_late"
       ]
      },
      {
       "output_type": "stream",
       "stream": "stdout",
       "text": [
        " \t0.0\t0.0\t0.0\t0.0\t0.0\n",
        "2014_12_08     "
       ]
      },
      {
       "output_type": "stream",
       "stream": "stdout",
       "text": [
        " \t0.0\t0.0\t0.0\t0.0\t0.0\n"
       ]
      }
     ],
     "input": [
      "fanduel_analysis.CheckAllFDGames([golden, expr1, expr2, expr3, expr4], df=DF_15, print_results=False)"
     ],
     "language": "python",
     "prompt_number": 499
    },
    {
     "cell_type": "code",
     "metadata": {},
     "outputs": [],
     "input": [
      "rest_adjust = (-.3 & (Leaf('player_rest') == 1)) | 0."
     ],
     "language": "python",
     "prompt_number": 427
    },
    {
     "cell_type": "code",
     "metadata": {},
     "outputs": [],
     "input": [
      "expr3 = expr1 + rest_adjust\n",
      "expr4 = expr2 + rest_adjust"
     ],
     "language": "python",
     "prompt_number": 428
    },
    {
     "cell_type": "code",
     "metadata": {},
     "outputs": [
      {
       "output_type": "pyout",
       "prompt_number": 401,
       "text": [
        "<module 'analysis.fanduel_analysis' from 'analysis\\fanduel_analysis.py'>"
       ],
       "metadata": {}
      }
     ],
     "input": [
      "reload(fanduel_analysis)"
     ],
     "language": "python",
     "prompt_number": 401
    },
    {
     "cell_type": "code",
     "metadata": {},
     "outputs": [
      {
       "output_type": "stream",
       "stream": "stdout",
       "text": [
        "2014_12_02 "
       ]
      },
      {
       "output_type": "stream",
       "stream": "stdout",
       "text": [
        "314.6\n",
        "2014_12_02_late "
       ]
      },
      {
       "output_type": "stream",
       "stream": "stdout",
       "text": [
        "258.7\n",
        "2014_12_03 "
       ]
      },
      {
       "output_type": "stream",
       "stream": "stdout",
       "text": [
        "244.8\n",
        "2014_12_04 "
       ]
      },
      {
       "output_type": "stream",
       "stream": "stdout",
       "text": [
        "233.1\n",
        "2014_12_05 "
       ]
      },
      {
       "output_type": "stream",
       "stream": "stdout",
       "text": [
        "215.8\n",
        "2014_12_06 "
       ]
      },
      {
       "output_type": "stream",
       "stream": "stdout",
       "text": [
        "0\n",
        "2014_12_07 "
       ]
      },
      {
       "output_type": "stream",
       "stream": "stdout",
       "text": [
        "0\n",
        "2014_12_07_late "
       ]
      },
      {
       "output_type": "stream",
       "stream": "stdout",
       "text": [
        "0\n"
       ]
      }
     ],
     "input": [
      "fanduel_analysis.CheckAllFDGames(expr3, df=DF_15, print_results=False)"
     ],
     "language": "python",
     "prompt_number": 409
    },
    {
     "cell_type": "code",
     "metadata": {},
     "outputs": [
      {
       "output_type": "stream",
       "stream": "stdout",
       "text": [
        "2014_12_02 "
       ]
      },
      {
       "output_type": "stream",
       "stream": "stdout",
       "text": [
        "266.8\n",
        "2014_12_02_late "
       ]
      },
      {
       "output_type": "stream",
       "stream": "stdout",
       "text": [
        "219.6\n",
        "2014_12_03 "
       ]
      },
      {
       "output_type": "stream",
       "stream": "stdout",
       "text": [
        "288.3\n",
        "2014_12_04 "
       ]
      },
      {
       "output_type": "stream",
       "stream": "stdout",
       "text": [
        "233.1\n",
        "2014_12_05 "
       ]
      },
      {
       "output_type": "stream",
       "stream": "stdout",
       "text": [
        "217.5\n",
        "2014_12_06 "
       ]
      },
      {
       "output_type": "stream",
       "stream": "stdout",
       "text": [
        "0\n",
        "2014_12_07 "
       ]
      },
      {
       "output_type": "stream",
       "stream": "stdout",
       "text": [
        "0\n",
        "2014_12_07_late "
       ]
      },
      {
       "output_type": "stream",
       "stream": "stdout",
       "text": [
        "0\n"
       ]
      }
     ],
     "input": [
      "fanduel_analysis.CheckAllFDGames(expr4, df=DF_15, print_results=False)"
     ],
     "language": "python",
     "prompt_number": 412
    },
    {
     "cell_type": "code",
     "metadata": {},
     "outputs": [],
     "input": [
      "df = DF_15"
     ],
     "language": "python",
     "prompt_number": 192
    },
    {
     "cell_type": "code",
     "metadata": {},
     "outputs": [],
     "input": [
      "import datetime"
     ],
     "language": "python",
     "prompt_number": 195
    },
    {
     "cell_type": "code",
     "metadata": {},
     "outputs": [],
     "input": [
      "x = datetime.date(2014, 10, 1)\n",
      "y = datetime.date(2014, 12, 2)"
     ],
     "language": "python",
     "prompt_number": 214
    },
    {
     "cell_type": "code",
     "metadata": {},
     "outputs": [
      {
       "output_type": "stream",
       "stream": "stdout",
       "text": [
        "Wall time: 175 ms\n"
       ]
      }
     ],
     "input": [
      "time load.AddRestFeaturesForPlayer(DF_15)"
     ],
     "language": "python",
     "prompt_number": 230
    },
    {
     "cell_type": "code",
     "metadata": {},
     "outputs": [],
     "input": [
      "from analysis.plotting import *"
     ],
     "language": "python",
     "prompt_number": 224
    },
    {
     "cell_type": "code",
     "metadata": {},
     "outputs": [
      {
       "output_type": "pyout",
       "prompt_number": 314,
       "text": [
        "<module 'analysis.expression' from 'analysis\\expression.pyc'>"
       ],
       "metadata": {}
      }
     ],
     "input": [
      "reload(expression)"
     ],
     "language": "python",
     "prompt_number": 314
    },
    {
     "cell_type": "code",
     "metadata": {},
     "outputs": [],
     "input": [
      "from analysis.expression import *\n",
      "from analysis import plotting\n",
      "reload(plotting)\n",
      "from analysis.plotting import *"
     ],
     "language": "python",
     "prompt_number": 382
    },
    {
     "cell_type": "code",
     "metadata": {},
     "outputs": [],
     "input": [
      "from analysis.expression import *\n",
      "\n",
      "expr1 = Leaf('fantasy_pts_per_game')\n",
      "old_tempo = Leaf('team_poss_per_game')\n",
      "predicted_tempo = (Leaf('team_poss_per_game') + Leaf('other_poss_per_game')) / 2.\n",
      "tempo_mult = predicted_tempo / old_tempo\n",
      "expr2 = expr1 * tempo_mult"
     ],
     "language": "python",
     "prompt_number": 345
    },
    {
     "cell_type": "code",
     "metadata": {},
     "outputs": [],
     "input": [
      "pts, pts_per_game = Leaf('fantasy_pts'), Leaf('fantasy_pts_per_game')"
     ],
     "language": "python",
     "prompt_number": 429
    },
    {
     "cell_type": "code",
     "metadata": {},
     "outputs": [],
     "input": [
      "ratio = Leaf('fantasy_pts') / (Leaf('fantasy_pts_per_game'))"
     ],
     "language": "python",
     "prompt_number": 430
    },
    {
     "cell_type": "code",
     "metadata": {},
     "outputs": [],
     "input": [
      "delta = Leaf('fantasy_pts') - Leaf('fantasy_pts_per_game')"
     ],
     "language": "python",
     "prompt_number": 431
    },
    {
     "cell_type": "code",
     "metadata": {},
     "outputs": [],
     "input": [
      ""
     ],
     "language": "python",
     "prompt_number": 322
    },
    {
     "cell_type": "code",
     "metadata": {},
     "outputs": [],
     "input": [
      "ScatterPlot(pts.Eval(df), pts_per_game.Eval(df))"
     ],
     "language": "python",
     "prompt_number": 347
    },
    {
     "cell_type": "code",
     "metadata": {},
     "outputs": [],
     "input": [
      "ScatterPlot(pts_per_game.Eval(df), delta.Eval(df), 0 * delta.Eval(df))"
     ],
     "language": "python",
     "prompt_number": 348
    },
    {
     "cell_type": "code",
     "metadata": {},
     "outputs": [],
     "input": [
      "ScatterPlot(pts_per_game.Eval(df), (ratio & (ratio < 1.5) & (ratio > .7)).Eval(df))"
     ],
     "language": "python",
     "prompt_number": 359
    },
    {
     "cell_type": "code",
     "metadata": {},
     "outputs": [],
     "input": [
      "gr = (ratio & (ratio < 1.5) & (ratio > .7))"
     ],
     "language": "python",
     "prompt_number": 360
    },
    {
     "cell_type": "code",
     "metadata": {},
     "outputs": [],
     "input": [
      "ScatterPlot(Leaf('player_rest').Eval(df), (delta & (Leaf('games_played') > 0)).Eval(df))"
     ],
     "language": "python",
     "prompt_number": 364
    },
    {
     "cell_type": "code",
     "metadata": {},
     "outputs": [],
     "input": [
      "ScatterPlot(Leaf('player_rest').Eval(df),\n",
      "            (delta & (Leaf('games_played') > 0)).Eval(df))"
     ],
     "language": "python"
    },
    {
     "cell_type": "code",
     "metadata": {},
     "outputs": [],
     "input": [
      "ScatterPlot(Leaf('player_rest').Eval(df),\n",
      "            (delta & (Leaf('games_played') > 0)).Eval(df))"
     ],
     "language": "python",
     "prompt_number": 371
    },
    {
     "cell_type": "code",
     "metadata": {},
     "outputs": [],
     "input": [
      "df = DF_14"
     ],
     "language": "python",
     "prompt_number": 369
    },
    {
     "cell_type": "code",
     "metadata": {},
     "outputs": [],
     "input": [
      "LinePlot(list(range(1, 8)), *data.values())"
     ],
     "language": "python",
     "prompt_number": 386
    },
    {
     "cell_type": "code",
     "metadata": {},
     "outputs": [],
     "input": [
      "predictions = list(range(5, 45, 5))\n",
      "data= []\n",
      "for p in predictions:\n",
      "    mm = (delta & (pts_per_game >= p) & (pts_per_game < p + 5) & (Leaf('games_played') > 10)).Eval(df).mean()\n",
      "    data.append(mm)\n",
      "LinePlot(predictions, data)"
     ],
     "language": "python",
     "prompt_number": 390
    },
    {
     "cell_type": "code",
     "metadata": {},
     "outputs": [],
     "input": [
      "reload(expression)\n",
      "from analysis.expression import *"
     ],
     "language": "python",
     "prompt_number": 425
    },
    {
     "cell_type": "code",
     "metadata": {},
     "outputs": [],
     "input": [
      "pd.Series.count?"
     ],
     "language": "python",
     "prompt_number": 434
    },
    {
     "cell_type": "markdown",
     "metadata": {},
     "source": [
      "### This is when we counted 0 minutes as a game."
     ]
    },
    {
     "cell_type": "code",
     "metadata": {},
     "outputs": [
      {
       "output_type": "stream",
       "stream": "stdout",
       "text": [
        "((player_rest) == (1.0)) & ((player_previous_minutes) >= (30.0))\n",
        "1.95682119009 1485\n",
        "\n",
        "(((player_rest) == (1.0)) & ((player_previous_minutes) < (30.0))) & ((player_previous_minutes) >= (10.0))"
       ]
      },
      {
       "output_type": "stream",
       "stream": "stdout",
       "text": [
        "\n",
        "1.89835897316 2523\n",
        "\n",
        "((player_rest) == (1.0)) & ((player_previous_minutes) < (10.0))\n",
        "1.69646214292 845\n",
        "\n",
        "((player_rest) == (2.0)) | ((player_rest) == (3.0))"
       ]
      },
      {
       "output_type": "stream",
       "stream": "stdout",
       "text": [
        "\n",
        "2.0753592538 14999\n",
        "\n",
        "(player_rest) > (3.0)\n",
        "1.64618825442 1614\n",
        "\n"
       ]
      }
     ],
     "input": [
      "very_tired = ((Leaf('player_rest') == 1) &\n",
      "              (Leaf('player_previous_minutes') >= 30))\n",
      "abit_tired = ((Leaf('player_rest') == 1) &\n",
      "              (Leaf('player_previous_minutes') < 30) &\n",
      "              (Leaf('player_previous_minutes') >= 10))\n",
      "no_play_ystdy = ((Leaf('player_rest') == 1) &\n",
      "                 (Leaf('player_previous_minutes') < 10))\n",
      "some_rest = (Leaf('player_rest') == 2) | (Leaf('player_rest') == 3)\n",
      "much_rest = Leaf('player_rest') > 3\n",
      "opts = [very_tired, abit_tired, no_play_ystdy, some_rest, much_rest]\n",
      "data = []\n",
      "for x in opts:\n",
      "  mm = (delta & (Leaf('games_played') > 10) & x & (Leaf('minutes') > 0)).Eval(df)\n",
      "  print x.Expr()\n",
      "  print mm.mean(), mm.count()\n",
      "  print\n",
      "  data.append(mm.mean())"
     ],
     "language": "python",
     "prompt_number": 436
    },
    {
     "cell_type": "code",
     "metadata": {},
     "outputs": [],
     "input": [
      "flt = (Leaf('games_played') > 10) & very_tired"
     ],
     "language": "python",
     "prompt_number": 446
    },
    {
     "cell_type": "code",
     "metadata": {},
     "outputs": [],
     "input": [
      "df_very_tired = DF_14[~flt.Eval(DF_14).isnull()]"
     ],
     "language": "python",
     "prompt_number": 447
    },
    {
     "cell_type": "code",
     "metadata": {},
     "outputs": [
      {
       "output_type": "pyout",
       "prompt_number": 448,
       "text": [
        "Index([hardeja01:201311200DAL, breweco01:201311200MIN, loveke01:201311200MIN, martike02:201311200MIN, pekovni01:201311200MIN, jamesle01:201311200ORL, crawfja01:201311210OKC, griffbl01:201311210OKC, paulch01:201311210OKC, redicjj01:201311210OKC], dtype=object)"
       ],
       "metadata": {}
      }
     ],
     "input": [
      "df_very_tired.index[:10]"
     ],
     "language": "python",
     "prompt_number": 448
    },
    {
     "cell_type": "code",
     "metadata": {},
     "outputs": [],
     "input": [
      "df = DF_14"
     ],
     "language": "python",
     "prompt_number": 458
    },
    {
     "cell_type": "code",
     "metadata": {},
     "outputs": [
      {
       "output_type": "stream",
       "stream": "stdout",
       "text": [
        "((player_rest) == (1.0)) & ((player_previous_minutes) >= (40.0))\n",
        "1.87416670305 189\n",
        "\n",
        "(((player_rest) == (1.0)) & ((player_previous_minutes) < (35.0))) & ((player_previous_minutes) >= (10.0))"
       ]
      },
      {
       "output_type": "stream",
       "stream": "stdout",
       "text": [
        "\n",
        "0.500203865943 3183\n",
        "\n",
        "((player_rest) == (1.0)) & ((player_previous_minutes) < (10.0))\n",
        "-0.616504135841 724\n",
        "\n",
        "((player_rest) == (2.0)) | ((player_rest) == (3.0))"
       ]
      },
      {
       "output_type": "stream",
       "stream": "stdout",
       "text": [
        "\n",
        "0.599905153733 14398\n",
        "\n",
        "(player_rest) > (3.0)\n",
        "0.0246942213541 1545\n",
        "\n"
       ]
      }
     ],
     "input": [
      "very_tired = ((Leaf('player_rest') == 1) &\n",
      "              (Leaf('player_previous_minutes') >= 40))\n",
      "abit_tired = ((Leaf('player_rest') == 1) &\n",
      "              (Leaf('player_previous_minutes') < 35) &\n",
      "              (Leaf('player_previous_minutes') >= 10))\n",
      "no_play_ystdy = ((Leaf('player_rest') == 1) &\n",
      "                 (Leaf('player_previous_minutes') < 10))\n",
      "some_rest = (Leaf('player_rest') == 2) | (Leaf('player_rest') == 3)\n",
      "much_rest = Leaf('player_rest') > 3\n",
      "opts = [very_tired, abit_tired, no_play_ystdy, some_rest, much_rest]\n",
      "data = []\n",
      "for x in opts:\n",
      "  mm = (delta & (Leaf('games_played') > 10) & x & (Leaf('minutes') > 0)).Eval(df)\n",
      "  print x.Expr()\n",
      "  print mm.mean(), mm.count()\n",
      "  print\n",
      "  data.append(mm.mean())"
     ],
     "language": "python",
     "prompt_number": 477
    },
    {
     "cell_type": "code",
     "metadata": {},
     "outputs": [
      {
       "output_type": "pyout",
       "prompt_number": 462,
       "text": [
        "0.51054394993113783"
       ],
       "metadata": {}
      }
     ],
     "input": [
      "(delta & (Leaf('games_played') > 10) & (Leaf('minutes') > 0)).Eval(df).mean()"
     ],
     "language": "python",
     "prompt_number": 462
    },
    {
     "cell_type": "code",
     "metadata": {},
     "outputs": [],
     "input": [
      "df_tired = df[(~(very_tired & (Leaf('games_played') > 10) )).Eval(df).isnull()]"
     ],
     "language": "python",
     "prompt_number": 472
    },
    {
     "cell_type": "code",
     "metadata": {},
     "outputs": [
      {
       "output_type": "pyout",
       "prompt_number": 473,
       "text": [
        "loveke01:201311200MIN     36.933333\n",
        "pekovni01:201311200MIN    36.100000\n",
        "griffbl01:201311210OKC    38.316667\n",
        "paulch01:201311210OKC     35.266667\n",
        "greenje02:201311230ATL    37.533333\n",
        "ellismo01:201311230DEN    38.350000\n",
        "aldrila01:201311230GSW    40.433333\n",
        "batumni01:201311230GSW    39.083333\n",
        "leeda02:201311230GSW      41.600000\n",
        "lopezro01:201311230GSW    35.850000\n",
        "Name: player_previous_minutes"
       ],
       "metadata": {}
      }
     ],
     "input": [
      "df_tired.player_previous_minutes[:10]"
     ],
     "language": "python",
     "prompt_number": 473
    },
    {
     "cell_type": "code",
     "metadata": {},
     "outputs": [
      {
       "output_type": "stream",
       "stream": "stdout",
       "text": [
        "Wall time: 46 ms\n"
       ]
      },
      {
       "output_type": "pyout",
       "prompt_number": 506,
       "text": [
        "<class 'pandas.core.frame.DataFrame'>\n",
        "Index: 31380 entries, afflaar01:201310290IND to youngni01:201404160SAS\n",
        "Columns: 130 entries, ast to other_poss_per_game\n",
        "dtypes: bool(1), float64(124), object(5)"
       ],
       "metadata": {}
      }
     ],
     "input": [
      "time DF_14.sort(['game_id'], inplace=True)"
     ],
     "language": "python",
     "prompt_number": 506
    },
    {
     "cell_type": "code",
     "metadata": {},
     "outputs": [],
     "input": [
      "DF_14['date_id'] = DF['game_id'].map(lambda x: x[:8]).astype(int)"
     ],
     "language": "python",
     "prompt_number": 507
    },
    {
     "cell_type": "code",
     "metadata": {},
     "outputs": [
      {
       "output_type": "stream",
       "stream": "stdout",
       "text": [
        "Wall time: 50 ms\n"
       ]
      },
      {
       "output_type": "pyout",
       "prompt_number": 510,
       "text": [
        "<class 'pandas.core.frame.DataFrame'>\n",
        "Index: 31380 entries, afflaar01:201310290IND to youngni01:201404160SAS\n",
        "Columns: 131 entries, ast to date_id\n",
        "dtypes: bool(1), float64(124), int64(1), object(5)"
       ],
       "metadata": {}
      }
     ],
     "input": [
      "time DF_14.sort(['date_id', 'game_id'], inplace=True)"
     ],
     "language": "python",
     "prompt_number": 510
    },
    {
     "cell_type": "code",
     "metadata": {},
     "outputs": [
      {
       "output_type": "stream",
       "stream": "stdout",
       "text": [
        "Wall time: 782 ms\n"
       ]
      }
     ],
     "input": [
      "time load.AddRestFeaturesForPlayer(DF_14)"
     ],
     "language": "python",
     "prompt_number": 511
    },
    {
     "cell_type": "code",
     "metadata": {},
     "outputs": [
      {
       "output_type": "pyout",
       "prompt_number": 516,
       "text": [
        "<class 'pandas.core.frame.DataFrame'>\n",
        "Index: 129 entries, allenla01:201401010DEN to wrighbr03:201401010WAS\n",
        "Columns: 131 entries, ast to date_id\n",
        "dtypes: bool(1), float64(124), int64(1), object(5)"
       ],
       "metadata": {}
      }
     ],
     "input": [
      "DF_14[DF_14['date_id'] == 20140101]"
     ],
     "language": "python",
     "prompt_number": 516
    },
    {
     "cell_type": "code",
     "metadata": {},
     "outputs": [],
     "input": [
      "x = DF_14.player_id[DF_14['date_id'] == 20140101]"
     ],
     "language": "python",
     "prompt_number": 520
    },
    {
     "cell_type": "code",
     "metadata": {},
     "outputs": [
      {
       "output_type": "pyout",
       "prompt_number": 642,
       "text": [
        "<module 'analysis.knapsack' from 'analysis\\knapsack.pyc'>"
       ],
       "metadata": {}
      }
     ],
     "input": [
      "reload(fanduel_analysis)\n",
      "reload(fanduel_parser)\n",
      "reload(player_ids)\n",
      "reload(knapsack)"
     ],
     "language": "python",
     "prompt_number": 642
    },
    {
     "cell_type": "markdown",
     "metadata": {},
     "source": [
      "## 2015"
     ]
    },
    {
     "cell_type": "code",
     "metadata": {},
     "outputs": [
      {
       "output_type": "stream",
       "stream": "stdout",
       "text": [
        "Base: fantasy_pts_per_game\n",
        "Test: (fantasy_pts_per_game) * ((((team_poss_per_game) + (other_poss_per_game)) / (2.0)) / (team_poss_per_game))\n",
        "Base\t\tTest\t\tDraw\n",
        "18\t\t12\t\t(0):\n",
        "218.2\t\t209.8        median\n",
        "220.7\t\t212.9        mean\n"
       ]
      }
     ],
     "input": [
      "fanduel_analysis.CheckVirtualFDGames(expr1, expr2, DF_15)"
     ],
     "language": "python",
     "prompt_number": 647
    },
    {
     "cell_type": "code",
     "metadata": {},
     "outputs": [
      {
       "output_type": "stream",
       "stream": "stdout",
       "text": [
        "Base: fantasy_pts_per_game\n",
        "Test: (fantasy_pts_per_game) + (((-0.3) & ((player_rest) == (1.0))) | (0.0))\n",
        "Base\t\tTest\t\tDraw\n",
        "11\t\t11\t\t(8):\n",
        "218.2\t\t223.3        median\n",
        "220.7\t\t221.2        mean\n"
       ]
      }
     ],
     "input": [
      "fanduel_analysis.CheckVirtualFDGames(expr1, expr3, DF_15)"
     ],
     "language": "python",
     "prompt_number": 648
    },
    {
     "cell_type": "code",
     "metadata": {},
     "outputs": [
      {
       "output_type": "stream",
       "stream": "stdout",
       "text": [
        "Base: fantasy_pts_per_game\n",
        "Test: ((fantasy_pts_per_game) * ((((team_poss_per_game) + (other_poss_per_game)) / (2.0)) / (team_poss_per_game))) + (((-0.3) & ((player_rest) == (1.0))) | (0.0))\n",
        "Base\t\tTest\t\tDraw\n",
        "13\t\t17\t\t(0):\n",
        "218.2\t\t227.7        median\n",
        "220.7\t\t226.7        mean\n"
       ]
      }
     ],
     "input": [
      "fanduel_analysis.CheckVirtualFDGames(expr1, expr4, DF_15)"
     ],
     "language": "python",
     "prompt_number": 649
    },
    {
     "cell_type": "code",
     "metadata": {},
     "outputs": [
      {
       "output_type": "stream",
       "stream": "stdout",
       "text": [
        "Base: fantasy_pts_per_game\n",
        "Test: ((fantasy_pts_per_game * (((team_poss_per_game + other_poss_per_game) / 2.0) / team_poss_per_game)) + (((-0.3 & (player_rest == 1.0)) & (player_previous_minutes > 30.0)) | 0.0))\n",
        "Base\t\tTest\t\tDraw\n",
        "17\t\t13\t\t(0):\n",
        "218.2\t\t215.7        median\n",
        "220.7\t\t217.4        mean\n"
       ]
      }
     ],
     "input": [
      "fanduel_analysis.CheckVirtualFDGames(expr1, expr5, DF_15)"
     ],
     "language": "python",
     "prompt_number": 658
    },
    {
     "cell_type": "markdown",
     "metadata": {},
     "source": [
      "## 2014"
     ]
    },
    {
     "cell_type": "code",
     "metadata": {},
     "outputs": [
      {
       "output_type": "stream",
       "stream": "stdout",
       "text": [
        "Base: fantasy_pts_per_game\n",
        "Test: (fantasy_pts_per_game) * ((((team_poss_per_game) + (other_poss_per_game)) / (2.0)) / (team_poss_per_game))\n",
        "Base\t\tTest\t\tDraw\n",
        "58\t\t94\t\t(2):\n",
        "222.0\t\t236.2        median\n",
        "221.7\t\t236.7        mean\n"
       ]
      }
     ],
     "input": [
      "fanduel_analysis.CheckVirtualFDGames(expr1, expr2, DF_14)"
     ],
     "language": "python",
     "prompt_number": 643
    },
    {
     "cell_type": "code",
     "metadata": {},
     "outputs": [
      {
       "output_type": "stream",
       "stream": "stdout",
       "text": [
        "Base: fantasy_pts_per_game\n",
        "Test: (fantasy_pts_per_game) + (((-0.3) & ((player_rest) == (1.0))) | (0.0))\n",
        "Base\t\tTest\t\tDraw\n",
        "48\t\t57\t\t(49):\n",
        "222.0\t\t227.5        median\n",
        "221.7\t\t226.4        mean\n"
       ]
      }
     ],
     "input": [
      "fanduel_analysis.CheckVirtualFDGames(expr1, expr3, DF_14)"
     ],
     "language": "python",
     "prompt_number": 645
    },
    {
     "cell_type": "code",
     "metadata": {},
     "outputs": [
      {
       "output_type": "stream",
       "stream": "stdout",
       "text": [
        "Base: fantasy_pts_per_game\n",
        "Test: ((fantasy_pts_per_game) * ((((team_poss_per_game) + (other_poss_per_game)) / (2.0)) / (team_poss_per_game))) + (((-0.3) & ((player_rest) == (1.0))) | (0.0))\n",
        "Base\t\tTest\t\tDraw\n",
        "56\t\t97\t\t(1):\n",
        "222.0\t\t238.1        median\n",
        "221.7\t\t237.4        mean\n"
       ]
      }
     ],
     "input": [
      "fanduel_analysis.CheckVirtualFDGames(expr1, expr4, DF_14)"
     ],
     "language": "python",
     "prompt_number": 646
    },
    {
     "cell_type": "code",
     "metadata": {},
     "outputs": [
      {
       "output_type": "stream",
       "stream": "stdout",
       "text": [
        "Base: fantasy_pts_per_game\n",
        "Test: ((fantasy_pts_per_game * (((team_poss_per_game + other_poss_per_game) / 2.0) / team_poss_per_game)) + (((-0.3 & (player_rest == 1.0)) & (player_previous_minutes > 30.0)) | 0.0))\n",
        "Base\t\tTest\t\tDraw\n",
        "62\t\t90\t\t(2):\n",
        "222.0\t\t237.9        median\n",
        "221.7\t\t235.8        mean\n"
       ]
      }
     ],
     "input": [
      "fanduel_analysis.CheckVirtualFDGames(expr1, expr5, DF_14)"
     ],
     "language": "python",
     "prompt_number": 659
    },
    {
     "cell_type": "code",
     "metadata": {},
     "outputs": [
      {
       "output_type": "stream",
       "stream": "stdout",
       "text": [
        "20141106.0      \t145.5\t196.8\n",
        "20141107.0     "
       ]
      },
      {
       "output_type": "stream",
       "stream": "stdout",
       "text": [
        " \t241.8\t230.2\n",
        "20141108.0     "
       ]
      },
      {
       "output_type": "stream",
       "stream": "stdout",
       "text": [
        " \t198.7\t205.6\n",
        "20141109.0     "
       ]
      },
      {
       "output_type": "stream",
       "stream": "stdout",
       "text": [
        " \t190.3\t187.0\n",
        "20141110.0     "
       ]
      },
      {
       "output_type": "stream",
       "stream": "stdout",
       "text": [
        " \t240.4\t268.6\n",
        "20141111.0     "
       ]
      },
      {
       "output_type": "stream",
       "stream": "stdout",
       "text": [
        " \t233.1\t278.8\n",
        "20141112.0     "
       ]
      },
      {
       "output_type": "stream",
       "stream": "stdout",
       "text": [
        " \t208.1\t243.5\n",
        "20141113.0     "
       ]
      },
      {
       "output_type": "stream",
       "stream": "stdout",
       "text": [
        " \t271.3\t250.0\n",
        "20141114.0     "
       ]
      },
      {
       "output_type": "stream",
       "stream": "stdout",
       "text": [
        " \t203.4\t209.8\n",
        "20141115.0     "
       ]
      },
      {
       "output_type": "stream",
       "stream": "stdout",
       "text": [
        " \t215.1\t251.8\n",
        "20141116.0     "
       ]
      },
      {
       "output_type": "stream",
       "stream": "stdout",
       "text": [
        " \t198.1\t207.1\n",
        "20141117.0     "
       ]
      },
      {
       "output_type": "stream",
       "stream": "stdout",
       "text": [
        " \t156.9\t228.3\n",
        "20141118.0     "
       ]
      },
      {
       "output_type": "stream",
       "stream": "stdout",
       "text": [
        " \t179.5\t233.2\n",
        "20141119.0     "
       ]
      },
      {
       "output_type": "stream",
       "stream": "stdout",
       "text": [
        " \t216.3\t227.1\n",
        "20141120.0     "
       ]
      },
      {
       "output_type": "stream",
       "stream": "stdout",
       "text": [
        " \t239.6\t234.3\n",
        "20141121.0     "
       ]
      },
      {
       "output_type": "stream",
       "stream": "stdout",
       "text": [
        " \t238.6\t213.3\n",
        "20141122.0     "
       ]
      },
      {
       "output_type": "stream",
       "stream": "stdout",
       "text": [
        " \t245.5\t226.4\n",
        "20141123.0     "
       ]
      },
      {
       "output_type": "stream",
       "stream": "stdout",
       "text": [
        " \t249.2\t218.1\n",
        "20141124.0     "
       ]
      },
      {
       "output_type": "stream",
       "stream": "stdout",
       "text": [
        " \t278.7\t265.5\n",
        "20141125.0     "
       ]
      },
      {
       "output_type": "stream",
       "stream": "stdout",
       "text": [
        " \t241.9\t194.1\n",
        "20141126.0     "
       ]
      },
      {
       "output_type": "stream",
       "stream": "stdout",
       "text": [
        " \t234.1\t156.1\n",
        "20141128.0     "
       ]
      },
      {
       "output_type": "stream",
       "stream": "stdout",
       "text": [
        " \t204.3\t246.5\n",
        "20141129.0     "
       ]
      },
      {
       "output_type": "stream",
       "stream": "stdout",
       "text": [
        " \t248.6\t204.9\n",
        "20141130.0     "
       ]
      },
      {
       "output_type": "stream",
       "stream": "stdout",
       "text": [
        " \t214.1\t245.6\n",
        "20141201.0     "
       ]
      },
      {
       "output_type": "stream",
       "stream": "stdout",
       "text": [
        " \t174.2\t215.8\n",
        "20141202.0     "
       ]
      },
      {
       "output_type": "stream",
       "stream": "stdout",
       "text": [
        " \t220.2\t236.5\n",
        "20141203.0     "
       ]
      },
      {
       "output_type": "stream",
       "stream": "stdout",
       "text": [
        " \t271.8\t264.6\n",
        "20141204.0     "
       ]
      },
      {
       "output_type": "stream",
       "stream": "stdout",
       "text": [
        " \t232.8\t209.2\n",
        "20141205.0     "
       ]
      },
      {
       "output_type": "stream",
       "stream": "stdout",
       "text": [
        " \t213.0\t235.2\n",
        "20141206.0     "
       ]
      },
      {
       "output_type": "stream",
       "stream": "stdout",
       "text": [
        " \t215.5\t215.9\n",
        "20141207.0     "
       ]
      },
      {
       "output_type": "stream",
       "stream": "stdout",
       "text": [
        " \t202.9\t255.5\n",
        "20141208.0     "
       ]
      },
      {
       "output_type": "stream",
       "stream": "stdout",
       "text": [
        " \t269.9\t284.3\n",
        "Base: fantasy_pts_per_game\n",
        "Test: ((fantasy_pts_per_game * (((team_poss_per_game + other_poss_per_game) / 2.0) / team_poss_per_game)) + ((-0.3 & (player_rest == 1.0)) | 0.0))\n",
        "Base\t\tTest\t\tDraw\n",
        "13\t\t19\t\t(0):\n",
        "218.2\t\t229.2\t\tmedian\n",
        "221.7\t\t229.4\t\tmean\n"
       ]
      }
     ],
     "input": [
      "fanduel_analysis.CheckVirtualFDGames(expr1, expr4, DF_15, print_per_day=True)"
     ],
     "language": "python",
     "prompt_number": 694
    },
    {
     "cell_type": "code",
     "metadata": {},
     "outputs": [
      {
       "output_type": "stream",
       "stream": "stdout",
       "text": [
        "Base: fantasy_pts_per_game\n",
        "Test: (((fantasy_pts_per_game * (((team_poss_per_game + other_poss_per_game) / 2.0) / team_poss_per_game)) + ((-0.3 & (player_rest == 1.0)) | 0.0)) + ((((1.0 & (minutes_per_game > 25.0)) & is_home) | (0.5 & is_home)) | 0.0))\n",
        "Base\t\tTest\t\tDraw\n",
        "15\t\t17\t\t(0):\n",
        "218.2\t\t227.4\t\tmedian\n",
        "221.7\t\t226.6\t\tmean\n"
       ]
      }
     ],
     "input": [
      "fanduel_analysis.CheckVirtualFDGames(expr1, expr7, DF_15)"
     ],
     "language": "python",
     "prompt_number": 727
    },
    {
     "cell_type": "code",
     "metadata": {},
     "outputs": [
      {
       "output_type": "stream",
       "stream": "stdout",
       "text": [
        "20141106.0      \t145.5\t196.8\n",
        "20141107.0     "
       ]
      },
      {
       "output_type": "stream",
       "stream": "stdout",
       "text": [
        " \t241.8\t218.4\n",
        "20141108.0     "
       ]
      },
      {
       "output_type": "stream",
       "stream": "stdout",
       "text": [
        " \t198.7\t198.8\n",
        "20141109.0     "
       ]
      },
      {
       "output_type": "stream",
       "stream": "stdout",
       "text": [
        " \t190.3\t187.0\n",
        "20141110.0     "
       ]
      },
      {
       "output_type": "stream",
       "stream": "stdout",
       "text": [
        " \t240.4\t268.6\n",
        "20141111.0     "
       ]
      },
      {
       "output_type": "stream",
       "stream": "stdout",
       "text": [
        " \t233.1\t250.8\n",
        "20141112.0     "
       ]
      },
      {
       "output_type": "stream",
       "stream": "stdout",
       "text": [
        " \t208.1\t243.5\n",
        "20141113.0     "
       ]
      },
      {
       "output_type": "stream",
       "stream": "stdout",
       "text": [
        " \t271.3\t250.0\n",
        "20141114.0     "
       ]
      },
      {
       "output_type": "stream",
       "stream": "stdout",
       "text": [
        " \t203.4\t182.1\n",
        "20141115.0     "
       ]
      },
      {
       "output_type": "stream",
       "stream": "stdout",
       "text": [
        " \t215.1\t251.8\n",
        "20141116.0     "
       ]
      },
      {
       "output_type": "stream",
       "stream": "stdout",
       "text": [
        " \t198.1\t207.1\n",
        "20141117.0     "
       ]
      },
      {
       "output_type": "stream",
       "stream": "stdout",
       "text": [
        " \t156.9\t190.2\n",
        "20141118.0     "
       ]
      },
      {
       "output_type": "stream",
       "stream": "stdout",
       "text": [
        " \t179.5\t236.8\n",
        "20141119.0     "
       ]
      },
      {
       "output_type": "stream",
       "stream": "stdout",
       "text": [
        " \t216.3\t228.3\n",
        "20141120.0     "
       ]
      },
      {
       "output_type": "stream",
       "stream": "stdout",
       "text": [
        " \t239.6\t236.3\n",
        "20141121.0     "
       ]
      },
      {
       "output_type": "stream",
       "stream": "stdout",
       "text": [
        " \t238.6\t184.4\n",
        "20141122.0     "
       ]
      },
      {
       "output_type": "stream",
       "stream": "stdout",
       "text": [
        " \t245.5\t226.4\n",
        "20141123.0     "
       ]
      },
      {
       "output_type": "stream",
       "stream": "stdout",
       "text": [
        " \t249.2\t239.8\n",
        "20141124.0     "
       ]
      },
      {
       "output_type": "stream",
       "stream": "stdout",
       "text": [
        " \t278.7\t228.6\n",
        "20141125.0     "
       ]
      },
      {
       "output_type": "stream",
       "stream": "stdout",
       "text": [
        " \t241.9\t196.1\n",
        "20141126.0     "
       ]
      },
      {
       "output_type": "stream",
       "stream": "stdout",
       "text": [
        " \t234.1\t179.6\n",
        "20141128.0     "
       ]
      },
      {
       "output_type": "stream",
       "stream": "stdout",
       "text": [
        " \t204.3\t252.0\n",
        "20141129.0     "
       ]
      },
      {
       "output_type": "stream",
       "stream": "stdout",
       "text": [
        " \t248.6\t194.7\n",
        "20141130.0     "
       ]
      },
      {
       "output_type": "stream",
       "stream": "stdout",
       "text": [
        " \t214.1\t245.3\n",
        "20141201.0     "
       ]
      },
      {
       "output_type": "stream",
       "stream": "stdout",
       "text": [
        " \t174.2\t244.9\n",
        "20141202.0     "
       ]
      },
      {
       "output_type": "stream",
       "stream": "stdout",
       "text": [
        " \t220.2\t254.3\n",
        "20141203.0     "
       ]
      },
      {
       "output_type": "stream",
       "stream": "stdout",
       "text": [
        " \t271.8\t276.8\n",
        "20141204.0     "
       ]
      },
      {
       "output_type": "stream",
       "stream": "stdout",
       "text": [
        " \t232.8\t228.7\n",
        "20141205.0     "
       ]
      },
      {
       "output_type": "stream",
       "stream": "stdout",
       "text": [
        " \t213.0\t226.4\n",
        "20141206.0     "
       ]
      },
      {
       "output_type": "stream",
       "stream": "stdout",
       "text": [
        " \t215.5\t215.9\n",
        "20141207.0     "
       ]
      },
      {
       "output_type": "stream",
       "stream": "stdout",
       "text": [
        " \t202.9\t283.2\n",
        "20141208.0     "
       ]
      },
      {
       "output_type": "stream",
       "stream": "stdout",
       "text": [
        " \t269.9\t283.8\n",
        "Base: fantasy_pts_per_game\n",
        "Test: (((fantasy_pts_per_game * (((team_poss_per_game + other_poss_per_game) / 2.0) / team_poss_per_game)) + ((-0.3 & (player_rest == 1.0)) | 0.0)) + ((0.5 & is_home) | 0.0))\n",
        "Base\t\tTest\t\tDraw\n",
        "13\t\t18\t\t(1):\n",
        "218.2\t\t228.6\t\tmedian\n",
        "221.7\t\t228.4\t\tmean\n"
       ]
      }
     ],
     "input": [
      "reload(fanduel_analysis)\n",
      "fanduel_analysis.CheckVirtualFDGames(expr1, expr6, DF_15, print_per_day=True)"
     ],
     "language": "python",
     "prompt_number": 726
    },
    {
     "cell_type": "code",
     "metadata": {},
     "outputs": [
      {
       "output_type": "stream",
       "stream": "stdout",
       "text": [
        "2014_12_02      \t258.4\t135.7\n",
        "2014_12_02_late"
       ]
      },
      {
       "output_type": "stream",
       "stream": "stdout",
       "text": [
        " \t251.9\t146.9\n",
        "2014_12_03     "
       ]
      },
      {
       "output_type": "stream",
       "stream": "stdout",
       "text": [
        " \t205.1\t205.3\n",
        "2014_12_04     "
       ]
      },
      {
       "output_type": "stream",
       "stream": "stdout",
       "text": [
        " \t252.4\t231.9\n",
        "2014_12_05     "
       ]
      },
      {
       "output_type": "stream",
       "stream": "stdout",
       "text": [
        " \t225.3\t147.4\n",
        "2014_12_06     "
       ]
      },
      {
       "output_type": "stream",
       "stream": "stdout",
       "text": [
        " \t271.5\t154.7\n",
        "2014_12_07     "
       ]
      },
      {
       "output_type": "stream",
       "stream": "stdout",
       "text": [
        " \t176.9\t124.7\n",
        "2014_12_07_late"
       ]
      },
      {
       "output_type": "stream",
       "stream": "stdout",
       "text": [
        " \t200.9\t87.9\n",
        "2014_12_08     "
       ]
      },
      {
       "output_type": "stream",
       "stream": "stdout",
       "text": [
        " \t224.1\t151.9\n",
        "2014_12_09     "
       ]
      },
      {
       "output_type": "stream",
       "stream": "stdout",
       "text": [
        " \t0.0\t0.0\n",
        "2014_12_09_late"
       ]
      },
      {
       "output_type": "stream",
       "stream": "stdout",
       "text": [
        " \t0.0\t0.0\n",
        "2014_12_10     "
       ]
      },
      {
       "output_type": "stream",
       "stream": "stdout",
       "text": [
        " \t0.0\t0.0\n",
        "2014_12_10_late"
       ]
      },
      {
       "output_type": "stream",
       "stream": "stdout",
       "text": [
        " \t0.0\t0.0\n",
        "205.1\t\t135.7\t\tmedian\n",
        "159.0\t\t106.6\t\tmean\n",
        "5.28630894155\n"
       ]
      }
     ],
     "input": [
      "reload(fanduel_analysis)\n",
      "fanduel_analysis.CheckAllFDGames([expr1, Leaf('random')], df=DF_15)"
     ],
     "language": "python",
     "prompt_number": 686
    },
    {
     "cell_type": "code",
     "metadata": {},
     "outputs": [],
     "input": [
      "DF_15['random'] = pd.Series(np.random.random_sample(len(DF_15)), index=DF_15.index)"
     ],
     "language": "python",
     "prompt_number": 685
    },
    {
     "cell_type": "code",
     "metadata": {},
     "outputs": [
      {
       "output_type": "stream",
       "stream": "stdout",
       "text": [
        "2014_12_02      \t258.4\t292.2\n",
        "2014_12_02_late"
       ]
      },
      {
       "output_type": "stream",
       "stream": "stdout",
       "text": [
        " \t251.9\t256.0\n",
        "2014_12_03     "
       ]
      },
      {
       "output_type": "stream",
       "stream": "stdout",
       "text": [
        " \t205.1\t201.0\n",
        "2014_12_04     "
       ]
      },
      {
       "output_type": "stream",
       "stream": "stdout",
       "text": [
        " \t252.4\t232.0\n",
        "2014_12_05     "
       ]
      },
      {
       "output_type": "stream",
       "stream": "stdout",
       "text": [
        " \t225.3\t219.9\n",
        "2014_12_06     "
       ]
      },
      {
       "output_type": "stream",
       "stream": "stdout",
       "text": [
        " \t271.5\t248.8\n",
        "2014_12_07     "
       ]
      },
      {
       "output_type": "stream",
       "stream": "stdout",
       "text": [
        " \t176.9\t189.8\n",
        "2014_12_07_late"
       ]
      },
      {
       "output_type": "stream",
       "stream": "stdout",
       "text": [
        " \t200.9\t182.9\n",
        "2014_12_08     "
       ]
      },
      {
       "output_type": "stream",
       "stream": "stdout",
       "text": [
        " \t224.1\t229.0\n",
        "2014_12_09     "
       ]
      },
      {
       "output_type": "stream",
       "stream": "stdout",
       "text": [
        " \t0.0\t0.0\n",
        "2014_12_09_late"
       ]
      },
      {
       "output_type": "stream",
       "stream": "stdout",
       "text": [
        " \t0.0\t0.0\n",
        "2014_12_10     "
       ]
      },
      {
       "output_type": "stream",
       "stream": "stdout",
       "text": [
        " \t0.0\t0.0\n",
        "2014_12_10_late"
       ]
      },
      {
       "output_type": "stream",
       "stream": "stdout",
       "text": [
        " \t0.0\t0.0\n",
        "205.1\t\t201.0\t\tmedian\n",
        "159.0\t\t157.8\t\tmean\n",
        "5.27058044722\n"
       ]
      }
     ],
     "input": [
      "fanduel_analysis.CheckAllFDGames([expr1, expr4], df=DF_15)"
     ],
     "language": "python",
     "prompt_number": 687
    },
    {
     "cell_type": "code",
     "metadata": {},
     "outputs": [],
     "input": [
      "expr6 = expr4 + ((.5 & Leaf('is_home')) | 0.)"
     ],
     "language": "python",
     "prompt_number": 723
    },
    {
     "cell_type": "code",
     "metadata": {},
     "outputs": [
      {
       "output_type": "stream",
       "stream": "stdout",
       "text": [
        "2014_12_02      \t258.4\t292.2\t292.2\t282.8\n",
        "2014_12_02_late"
       ]
      },
      {
       "output_type": "stream",
       "stream": "stdout",
       "text": [
        " \t251.9\t256.0\t222.4\t251.9\n",
        "2014_12_03     "
       ]
      },
      {
       "output_type": "stream",
       "stream": "stdout",
       "text": [
        " \t205.1\t201.0\t244.3\t253.7\n",
        "2014_12_04     "
       ]
      },
      {
       "output_type": "stream",
       "stream": "stdout",
       "text": [
        " \t252.4\t232.0\t232.0\t261.6\n",
        "2014_12_05     "
       ]
      },
      {
       "output_type": "stream",
       "stream": "stdout",
       "text": [
        " \t225.3\t219.9\t219.9\t219.9\n",
        "2014_12_06     "
       ]
      },
      {
       "output_type": "stream",
       "stream": "stdout",
       "text": [
        " \t271.5\t248.8\t273.2\t273.2\n",
        "2014_12_07     "
       ]
      },
      {
       "output_type": "stream",
       "stream": "stdout",
       "text": [
        " \t176.9\t189.8\t189.1\t189.1\n",
        "2014_12_07_late"
       ]
      },
      {
       "output_type": "stream",
       "stream": "stdout",
       "text": [
        " \t200.9\t182.9\t200.9\t200.9\n",
        "2014_12_08     "
       ]
      },
      {
       "output_type": "stream",
       "stream": "stdout",
       "text": [
        " \t224.1\t229.0\t229.0\t222.9\n",
        "2014_12_09     "
       ]
      },
      {
       "output_type": "stream",
       "stream": "stdout",
       "text": [
        " \t0.0\t0.0\t0.0\t0.0\n",
        "2014_12_09_late"
       ]
      },
      {
       "output_type": "stream",
       "stream": "stdout",
       "text": [
        " \t0.0\t0.0\t0.0\t0.0\n",
        "2014_12_10     "
       ]
      },
      {
       "output_type": "stream",
       "stream": "stdout",
       "text": [
        " \t0.0\t0.0\t0.0\t0.0\n",
        "2014_12_10_late"
       ]
      },
      {
       "output_type": "stream",
       "stream": "stdout",
       "text": [
        " \t0.0\t0.0\t0.0\t0.0\n",
        "205.1\t\t201.0\t\t219.9\t\t219.9\t\tmedian\n",
        "159.0\t\t157.8\t\t161.8\t\t165.8\t\tmean\n"
       ]
      }
     ],
     "input": [
      "fanduel_analysis.CheckAllFDGames([expr1, expr4, expr6, expr7], df=DF_15)"
     ],
     "language": "python",
     "prompt_number": 737
    },
    {
     "cell_type": "code",
     "metadata": {},
     "outputs": [],
     "input": [
      "home = []\n",
      "away = []\n",
      "for mpg in range(0, 45, 5):\n",
      "    flt = (Leaf('minutes_per_game') >= mpg) & (Leaf('minutes_per_game') < mpg + 5)\n",
      "    home.append((Leaf('fantasy_pts') & flt & Leaf('is_home')).Eval(DF_15).mean())\n",
      "    away.append((Leaf('fantasy_pts') & flt & (~Leaf('is_home'))).Eval(DF_15).mean())"
     ],
     "language": "python",
     "prompt_number": 717
    },
    {
     "cell_type": "code",
     "metadata": {},
     "outputs": [],
     "input": [
      "LinePlot(list(range(0, 45, 5)), home, away)"
     ],
     "language": "python",
     "prompt_number": 721
    },
    {
     "cell_type": "code",
     "metadata": {},
     "outputs": [],
     "input": [
      "home_adjust_big = (1. & (Leaf('minutes_per_game') > 25) & Leaf('is_home'))\n",
      "home_adjust_small = (.5  & Leaf('is_home'))\n",
      "expr7 =  expr4 + (home_adjust_big | home_adjust_small | 0)"
     ],
     "language": "python",
     "prompt_number": 722
    },
    {
     "cell_type": "code",
     "metadata": {},
     "outputs": [
      {
       "output_type": "stream",
       "stream": "stdout",
       "text": [
        "20131107        \t252.9\t225.4\n",
        "20131108       "
       ]
      },
      {
       "output_type": "stream",
       "stream": "stdout",
       "text": [
        " \t269.9\t276.9\n",
        "20131109       "
       ]
      },
      {
       "output_type": "stream",
       "stream": "stdout",
       "text": [
        " \t209.0\t185.6\n",
        "20131110       "
       ]
      },
      {
       "output_type": "stream",
       "stream": "stdout",
       "text": [
        " \t269.0\t172.2\n",
        "20131111       "
       ]
      },
      {
       "output_type": "stream",
       "stream": "stdout",
       "text": [
        " \t232.6\t205.4\n",
        "20131112       "
       ]
      },
      {
       "output_type": "stream",
       "stream": "stdout",
       "text": [
        " \t249.8\t209.3\n",
        "20131113       "
       ]
      },
      {
       "output_type": "stream",
       "stream": "stdout",
       "text": [
        " \t239.4\t235.1\n",
        "20131114       "
       ]
      },
      {
       "output_type": "stream",
       "stream": "stdout",
       "text": [
        " \t242.0\t307.3\n",
        "20131115       "
       ]
      },
      {
       "output_type": "stream",
       "stream": "stdout",
       "text": [
        " \t248.9\t247.3\n",
        "20131116       "
       ]
      },
      {
       "output_type": "stream",
       "stream": "stdout",
       "text": [
        " \t190.9\t247.1\n",
        "20131117       "
       ]
      },
      {
       "output_type": "stream",
       "stream": "stdout",
       "text": [
        " \t259.9\t251.8\n",
        "20131118       "
       ]
      },
      {
       "output_type": "stream",
       "stream": "stdout",
       "text": [
        " \t251.8\t264.2\n",
        "20131119       "
       ]
      },
      {
       "output_type": "stream",
       "stream": "stdout",
       "text": [
        " \t181.0\t233.8\n",
        "20131120       "
       ]
      },
      {
       "output_type": "stream",
       "stream": "stdout",
       "text": [
        " \t192.5\t263.5\n",
        "20131121       "
       ]
      },
      {
       "output_type": "stream",
       "stream": "stdout",
       "text": [
        " \t240.1\t238.8\n",
        "20131122       "
       ]
      },
      {
       "output_type": "stream",
       "stream": "stdout",
       "text": [
        " \t227.4\t265.2\n",
        "20131123       "
       ]
      },
      {
       "output_type": "stream",
       "stream": "stdout",
       "text": [
        " \t219.2\t299.6\n",
        "20131124       "
       ]
      },
      {
       "output_type": "stream",
       "stream": "stdout",
       "text": [
        " \t183.2\t224.9\n",
        "20131125       "
       ]
      },
      {
       "output_type": "stream",
       "stream": "stdout",
       "text": [
        " \t163.7\t258.8\n",
        "20131126       "
       ]
      },
      {
       "output_type": "stream",
       "stream": "stdout",
       "text": [
        " \t190.5\t260.8\n",
        "20131127       "
       ]
      },
      {
       "output_type": "stream",
       "stream": "stdout",
       "text": [
        " \t218.0\t245.8\n",
        "20131129       "
       ]
      },
      {
       "output_type": "stream",
       "stream": "stdout",
       "text": [
        " \t222.0\t272.9\n",
        "20131130       "
       ]
      },
      {
       "output_type": "stream",
       "stream": "stdout",
       "text": [
        " \t267.3\t207.8\n",
        "20131201       "
       ]
      },
      {
       "output_type": "stream",
       "stream": "stdout",
       "text": [
        " \t232.4\t309.5\n",
        "20131202       "
       ]
      },
      {
       "output_type": "stream",
       "stream": "stdout",
       "text": [
        " \t248.7\t303.9\n",
        "20131203       "
       ]
      },
      {
       "output_type": "stream",
       "stream": "stdout",
       "text": [
        " \t242.4\t187.6\n",
        "20131204       "
       ]
      },
      {
       "output_type": "stream",
       "stream": "stdout",
       "text": [
        " \t289.3\t294.0\n",
        "20131205       "
       ]
      },
      {
       "output_type": "stream",
       "stream": "stdout",
       "text": [
        " \t198.3\t216.7\n",
        "20131206       "
       ]
      },
      {
       "output_type": "stream",
       "stream": "stdout",
       "text": [
        " \t201.6\t270.7\n",
        "20131207       "
       ]
      },
      {
       "output_type": "stream",
       "stream": "stdout",
       "text": [
        " \t272.3\t178.6\n",
        "20131208       "
       ]
      },
      {
       "output_type": "stream",
       "stream": "stdout",
       "text": [
        " \t182.7\t208.1\n",
        "20131209       "
       ]
      },
      {
       "output_type": "stream",
       "stream": "stdout",
       "text": [
        " \t281.4\t247.8\n",
        "20131210       "
       ]
      },
      {
       "output_type": "stream",
       "stream": "stdout",
       "text": [
        " \t253.2\t222.4\n",
        "20131211       "
       ]
      },
      {
       "output_type": "stream",
       "stream": "stdout",
       "text": [
        " \t193.5\t222.5\n",
        "20131212       "
       ]
      },
      {
       "output_type": "stream",
       "stream": "stdout",
       "text": [
        " \t187.3\t233.5\n",
        "20131213       "
       ]
      },
      {
       "output_type": "stream",
       "stream": "stdout",
       "text": [
        " \t240.7\t288.1\n",
        "20131214       "
       ]
      },
      {
       "output_type": "stream",
       "stream": "stdout",
       "text": [
        " \t237.9\t249.5\n",
        "20131215       "
       ]
      },
      {
       "output_type": "stream",
       "stream": "stdout",
       "text": [
        " \t211.1\t262.2\n",
        "20131216       "
       ]
      },
      {
       "output_type": "stream",
       "stream": "stdout",
       "text": [
        " \t250.5\t225.3\n",
        "20131217       "
       ]
      },
      {
       "output_type": "stream",
       "stream": "stdout",
       "text": [
        " \t168.6\t260.0\n",
        "20131218       "
       ]
      },
      {
       "output_type": "stream",
       "stream": "stdout",
       "text": [
        " \t235.1\t240.8\n",
        "20131219       "
       ]
      },
      {
       "output_type": "stream",
       "stream": "stdout",
       "text": [
        " \t235.4\t206.2\n",
        "20131220       "
       ]
      },
      {
       "output_type": "stream",
       "stream": "stdout",
       "text": [
        " \t246.6\t178.7\n",
        "20131221       "
       ]
      },
      {
       "output_type": "stream",
       "stream": "stdout",
       "text": [
        " \t197.5\t169.5\n",
        "20131222       "
       ]
      },
      {
       "output_type": "stream",
       "stream": "stdout",
       "text": [
        " \t237.5\t242.5\n",
        "20131223       "
       ]
      },
      {
       "output_type": "stream",
       "stream": "stdout",
       "text": [
        " \t184.4\t285.6\n",
        "20131225       "
       ]
      },
      {
       "output_type": "stream",
       "stream": "stdout",
       "text": [
        " \t240.6\t163.5\n",
        "20131226       "
       ]
      },
      {
       "output_type": "stream",
       "stream": "stdout",
       "text": [
        " \t238.2\t276.8\n",
        "20131227       "
       ]
      },
      {
       "output_type": "stream",
       "stream": "stdout",
       "text": [
        " \t162.1\t242.0\n",
        "20131228       "
       ]
      },
      {
       "output_type": "stream",
       "stream": "stdout",
       "text": [
        " \t218.7\t231.2\n",
        "20131229       "
       ]
      },
      {
       "output_type": "stream",
       "stream": "stdout",
       "text": [
        " \t292.9\t190.7\n",
        "20131230       "
       ]
      },
      {
       "output_type": "stream",
       "stream": "stdout",
       "text": [
        " \t206.5\t292.6\n",
        "20131231       "
       ]
      },
      {
       "output_type": "stream",
       "stream": "stdout",
       "text": [
        " \t224.1\t201.8\n",
        "20140101       "
       ]
      },
      {
       "output_type": "stream",
       "stream": "stdout",
       "text": [
        " \t222.4\t227.3\n",
        "20140102       "
       ]
      },
      {
       "output_type": "stream",
       "stream": "stdout",
       "text": [
        " \t253.3\t245.9\n",
        "20140103       "
       ]
      },
      {
       "output_type": "stream",
       "stream": "stdout",
       "text": [
        " \t243.4\t235.7\n",
        "20140104       "
       ]
      },
      {
       "output_type": "stream",
       "stream": "stdout",
       "text": [
        " \t227.8\t241.4\n",
        "20140105       "
       ]
      },
      {
       "output_type": "stream",
       "stream": "stdout",
       "text": [
        " \t231.1\t226.7\n",
        "20140106       "
       ]
      },
      {
       "output_type": "stream",
       "stream": "stdout",
       "text": [
        " \t222.0\t261.4\n",
        "20140107       "
       ]
      },
      {
       "output_type": "stream",
       "stream": "stdout",
       "text": [
        " \t156.2\t293.7\n",
        "20140108       "
       ]
      },
      {
       "output_type": "stream",
       "stream": "stdout",
       "text": [
        " \t210.2\t226.9\n",
        "20140109       "
       ]
      },
      {
       "output_type": "stream",
       "stream": "stdout",
       "text": [
        " \t214.1\t219.6\n",
        "20140110       "
       ]
      },
      {
       "output_type": "stream",
       "stream": "stdout",
       "text": [
        " \t179.3\t226.6\n",
        "20140111       "
       ]
      },
      {
       "output_type": "stream",
       "stream": "stdout",
       "text": [
        " \t225.1\t259.3\n",
        "20140112       "
       ]
      },
      {
       "output_type": "stream",
       "stream": "stdout",
       "text": [
        " \t205.7\t237.3\n",
        "20140113       "
       ]
      },
      {
       "output_type": "stream",
       "stream": "stdout",
       "text": [
        " \t213.5\t212.7\n",
        "20140114       "
       ]
      },
      {
       "output_type": "stream",
       "stream": "stdout",
       "text": [
        " \t227.9\t203.1\n",
        "20140115       "
       ]
      },
      {
       "output_type": "stream",
       "stream": "stdout",
       "text": [
        " \t291.9\t269.0\n",
        "20140116       "
       ]
      },
      {
       "output_type": "stream",
       "stream": "stdout",
       "text": [
        " \t228.7\t213.2\n",
        "20140117       "
       ]
      },
      {
       "output_type": "stream",
       "stream": "stdout",
       "text": [
        " \t230.9\t211.9\n",
        "20140118       "
       ]
      },
      {
       "output_type": "stream",
       "stream": "stdout",
       "text": [
        " \t213.7\t238.0\n",
        "20140119       "
       ]
      },
      {
       "output_type": "stream",
       "stream": "stdout",
       "text": [
        " \t244.1\t299.9\n",
        "20140120       "
       ]
      },
      {
       "output_type": "stream",
       "stream": "stdout",
       "text": [
        " \t247.7\t282.1\n",
        "20140121       "
       ]
      },
      {
       "output_type": "stream",
       "stream": "stdout",
       "text": [
        " \t245.3\t233.9\n",
        "20140122       "
       ]
      },
      {
       "output_type": "stream",
       "stream": "stdout",
       "text": [
        " \t248.0\t231.5\n",
        "20140123       "
       ]
      },
      {
       "output_type": "stream",
       "stream": "stdout",
       "text": [
        " \t237.4\t280.9\n",
        "20140124       "
       ]
      },
      {
       "output_type": "stream",
       "stream": "stdout",
       "text": [
        " \t267.1\t269.6\n",
        "20140125       "
       ]
      },
      {
       "output_type": "stream",
       "stream": "stdout",
       "text": [
        " \t195.7\t206.3\n",
        "20140126       "
       ]
      },
      {
       "output_type": "stream",
       "stream": "stdout",
       "text": [
        " \t266.5\t237.3\n",
        "20140127       "
       ]
      },
      {
       "output_type": "stream",
       "stream": "stdout",
       "text": [
        " \t199.8\t226.0\n",
        "20140128       "
       ]
      },
      {
       "output_type": "stream",
       "stream": "stdout",
       "text": [
        " \t178.0\t237.7\n",
        "20140129       "
       ]
      },
      {
       "output_type": "stream",
       "stream": "stdout",
       "text": [
        " \t189.6\t225.5\n",
        "20140130       "
       ]
      },
      {
       "output_type": "stream",
       "stream": "stdout",
       "text": [
        " \t255.7\t236.7\n",
        "20140131       "
       ]
      },
      {
       "output_type": "stream",
       "stream": "stdout",
       "text": [
        " \t213.3\t218.6\n",
        "20140201       "
       ]
      },
      {
       "output_type": "stream",
       "stream": "stdout",
       "text": [
        " \t188.2\t285.8\n",
        "20140202        \t220.5\t220.5\n",
        "20140203       "
       ]
      },
      {
       "output_type": "stream",
       "stream": "stdout",
       "text": [
        " \t257.6\t291.5\n",
        "20140204       "
       ]
      },
      {
       "output_type": "stream",
       "stream": "stdout",
       "text": [
        " \t186.7\t280.1\n",
        "20140205       "
       ]
      },
      {
       "output_type": "stream",
       "stream": "stdout",
       "text": [
        " \t233.6\t270.1\n",
        "20140206       "
       ]
      },
      {
       "output_type": "stream",
       "stream": "stdout",
       "text": [
        " \t283.4\t219.0\n",
        "20140207       "
       ]
      },
      {
       "output_type": "stream",
       "stream": "stdout",
       "text": [
        " \t194.9\t175.6\n",
        "20140208       "
       ]
      },
      {
       "output_type": "stream",
       "stream": "stdout",
       "text": [
        " \t246.9\t288.8\n",
        "20140209       "
       ]
      },
      {
       "output_type": "stream",
       "stream": "stdout",
       "text": [
        " \t211.1\t241.7\n",
        "20140210       "
       ]
      },
      {
       "output_type": "stream",
       "stream": "stdout",
       "text": [
        " \t168.0\t240.9\n",
        "20140211       "
       ]
      },
      {
       "output_type": "stream",
       "stream": "stdout",
       "text": [
        " \t167.1\t234.8\n",
        "20140212       "
       ]
      },
      {
       "output_type": "stream",
       "stream": "stdout",
       "text": [
        " \t286.1\t220.9\n",
        "20140213       "
       ]
      },
      {
       "output_type": "stream",
       "stream": "stdout",
       "text": [
        " \t183.1\t209.5\n",
        "20140218       "
       ]
      },
      {
       "output_type": "stream",
       "stream": "stdout",
       "text": [
        " \t284.7\t202.3\n",
        "20140219       "
       ]
      },
      {
       "output_type": "stream",
       "stream": "stdout",
       "text": [
        " \t251.5\t226.3\n",
        "20140220       "
       ]
      },
      {
       "output_type": "stream",
       "stream": "stdout",
       "text": [
        " \t202.1\t213.3\n",
        "20140221       "
       ]
      },
      {
       "output_type": "stream",
       "stream": "stdout",
       "text": [
        " \t168.3\t237.0\n",
        "20140222       "
       ]
      },
      {
       "output_type": "stream",
       "stream": "stdout",
       "text": [
        " \t225.8\t246.1\n",
        "20140223       "
       ]
      },
      {
       "output_type": "stream",
       "stream": "stdout",
       "text": [
        " \t194.9\t230.6\n",
        "20140224       "
       ]
      },
      {
       "output_type": "stream",
       "stream": "stdout",
       "text": [
        " \t281.6\t261.4\n",
        "20140225       "
       ]
      },
      {
       "output_type": "stream",
       "stream": "stdout",
       "text": [
        " \t198.6\t253.0\n",
        "20140226       "
       ]
      },
      {
       "output_type": "stream",
       "stream": "stdout",
       "text": [
        " \t180.9\t240.2\n",
        "20140227       "
       ]
      },
      {
       "output_type": "stream",
       "stream": "stdout",
       "text": [
        " \t167.1\t271.6\n",
        "20140228       "
       ]
      },
      {
       "output_type": "stream",
       "stream": "stdout",
       "text": [
        " \t211.4\t196.4\n",
        "20140301       "
       ]
      },
      {
       "output_type": "stream",
       "stream": "stdout",
       "text": [
        " \t214.6\t274.2\n",
        "20140302       "
       ]
      },
      {
       "output_type": "stream",
       "stream": "stdout",
       "text": [
        " \t216.6\t251.3\n",
        "20140303       "
       ]
      },
      {
       "output_type": "stream",
       "stream": "stdout",
       "text": [
        " \t274.7\t184.1\n",
        "20140304       "
       ]
      },
      {
       "output_type": "stream",
       "stream": "stdout",
       "text": [
        " \t180.1\t239.2\n",
        "20140305       "
       ]
      },
      {
       "output_type": "stream",
       "stream": "stdout",
       "text": [
        " \t173.5\t229.1\n",
        "20140306       "
       ]
      },
      {
       "output_type": "stream",
       "stream": "stdout",
       "text": [
        " \t232.6\t220.9\n",
        "20140307       "
       ]
      },
      {
       "output_type": "stream",
       "stream": "stdout",
       "text": [
        " \t179.9\t241.4\n",
        "20140308       "
       ]
      },
      {
       "output_type": "stream",
       "stream": "stdout",
       "text": [
        " \t232.7\t278.6\n",
        "20140309       "
       ]
      },
      {
       "output_type": "stream",
       "stream": "stdout",
       "text": [
        " \t213.2\t253.0\n",
        "20140310       "
       ]
      },
      {
       "output_type": "stream",
       "stream": "stdout",
       "text": [
        " \t200.2\t247.2\n",
        "20140311       "
       ]
      },
      {
       "output_type": "stream",
       "stream": "stdout",
       "text": [
        " \t199.9\t226.6\n",
        "20140312       "
       ]
      },
      {
       "output_type": "stream",
       "stream": "stdout",
       "text": [
        " \t216.8\t285.8\n",
        "20140313       "
       ]
      },
      {
       "output_type": "stream",
       "stream": "stdout",
       "text": [
        " \t152.7\t243.2\n",
        "20140314       "
       ]
      },
      {
       "output_type": "stream",
       "stream": "stdout",
       "text": [
        " \t215.6\t235.1\n",
        "20140315       "
       ]
      },
      {
       "output_type": "stream",
       "stream": "stdout",
       "text": [
        " \t191.0\t248.2\n",
        "20140316       "
       ]
      },
      {
       "output_type": "stream",
       "stream": "stdout",
       "text": [
        " \t244.9\t251.0\n",
        "20140317       "
       ]
      },
      {
       "output_type": "stream",
       "stream": "stdout",
       "text": [
        " \t234.8\t237.4\n",
        "20140318       "
       ]
      },
      {
       "output_type": "stream",
       "stream": "stdout",
       "text": [
        " \t259.4\t254.0\n",
        "20140319       "
       ]
      },
      {
       "output_type": "stream",
       "stream": "stdout",
       "text": [
        " \t292.6\t284.3\n",
        "20140320       "
       ]
      },
      {
       "output_type": "stream",
       "stream": "stdout",
       "text": [
        " \t174.7\t194.1\n",
        "20140321       "
       ]
      },
      {
       "output_type": "stream",
       "stream": "stdout",
       "text": [
        " \t226.1\t273.6\n",
        "20140322       "
       ]
      },
      {
       "output_type": "stream",
       "stream": "stdout",
       "text": [
        " \t236.7\t277.6\n",
        "20140323       "
       ]
      },
      {
       "output_type": "stream",
       "stream": "stdout",
       "text": [
        " \t218.1\t251.4\n",
        "20140324       "
       ]
      },
      {
       "output_type": "stream",
       "stream": "stdout",
       "text": [
        " \t198.3\t223.5\n",
        "20140325       "
       ]
      },
      {
       "output_type": "stream",
       "stream": "stdout",
       "text": [
        " \t257.5\t264.9\n",
        "20140326       "
       ]
      },
      {
       "output_type": "stream",
       "stream": "stdout",
       "text": [
        " \t224.8\t224.7\n",
        "20140327       "
       ]
      },
      {
       "output_type": "stream",
       "stream": "stdout",
       "text": [
        " \t216.4\t244.7\n",
        "20140328       "
       ]
      },
      {
       "output_type": "stream",
       "stream": "stdout",
       "text": [
        " \t197.4\t220.0\n",
        "20140329       "
       ]
      },
      {
       "output_type": "stream",
       "stream": "stdout",
       "text": [
        " \t205.3\t150.0\n",
        "20140330       "
       ]
      },
      {
       "output_type": "stream",
       "stream": "stdout",
       "text": [
        " \t242.2\t239.7\n",
        "20140331       "
       ]
      },
      {
       "output_type": "stream",
       "stream": "stdout",
       "text": [
        " \t307.8\t252.5\n",
        "20140401       "
       ]
      },
      {
       "output_type": "stream",
       "stream": "stdout",
       "text": [
        " \t252.7\t290.1\n",
        "20140402       "
       ]
      },
      {
       "output_type": "stream",
       "stream": "stdout",
       "text": [
        " \t188.8\t217.7\n",
        "20140403       "
       ]
      },
      {
       "output_type": "stream",
       "stream": "stdout",
       "text": [
        " \t205.1\t216.5\n",
        "20140404       "
       ]
      },
      {
       "output_type": "stream",
       "stream": "stdout",
       "text": [
        " \t168.8\t276.2\n",
        "20140405       "
       ]
      },
      {
       "output_type": "stream",
       "stream": "stdout",
       "text": [
        " \t213.2\t226.5\n",
        "20140406       "
       ]
      },
      {
       "output_type": "stream",
       "stream": "stdout",
       "text": [
        " \t155.1\t239.4\n",
        "20140408       "
       ]
      },
      {
       "output_type": "stream",
       "stream": "stdout",
       "text": [
        " \t256.6\t221.4\n",
        "20140409       "
       ]
      },
      {
       "output_type": "stream",
       "stream": "stdout",
       "text": [
        " \t212.3\t242.8\n",
        "20140410       "
       ]
      },
      {
       "output_type": "stream",
       "stream": "stdout",
       "text": [
        " \t226.1\t192.9\n",
        "20140411       "
       ]
      },
      {
       "output_type": "stream",
       "stream": "stdout",
       "text": [
        " \t221.8\t245.1\n",
        "20140412       "
       ]
      },
      {
       "output_type": "stream",
       "stream": "stdout",
       "text": [
        " \t250.9\t156.5\n",
        "20140413       "
       ]
      },
      {
       "output_type": "stream",
       "stream": "stdout",
       "text": [
        " \t161.3\t214.8\n",
        "20140414       "
       ]
      },
      {
       "output_type": "stream",
       "stream": "stdout",
       "text": [
        " \t187.5\t219.0\n",
        "20140415       "
       ]
      },
      {
       "output_type": "stream",
       "stream": "stdout",
       "text": [
        " \t228.5\t168.7\n",
        "20140416       "
       ]
      },
      {
       "output_type": "stream",
       "stream": "stdout",
       "text": [
        " \t166.9\t171.1\n",
        "Base: fantasy_pts_per_game\n",
        "Test: (((fantasy_pts_per_game * (((team_poss_per_game + other_poss_per_game) / 2.0) / team_poss_per_game)) + ((-0.3 & (player_rest == 1.0)) | 0.0)) + ((0.5 & is_home) | 0.0))\n",
        "Base\t\tTest\t\tDraw\n",
        "51\t\t101\t\t(2):\n",
        "222.0\t\t237.8\t\tmedian\n",
        "221.7\t\t238.3\t\tmean\n"
       ]
      }
     ],
     "input": [
      "fanduel_analysis.CheckVirtualFDGames(expr1, expr6, DF_14, print_per_day=True)"
     ],
     "language": "python",
     "prompt_number": 734
    },
    {
     "cell_type": "code",
     "metadata": {},
     "outputs": [
      {
       "output_type": "stream",
       "stream": "stdout",
       "text": [
        "Base: fantasy_pts_per_game\n",
        "Test: (((fantasy_pts_per_game * (((team_poss_per_game + other_poss_per_game) / 2.0) / team_poss_per_game)) + ((-0.3 & (player_rest == 1.0)) | 0.0)) + ((((1.0 & (minutes_per_game > 25.0)) & is_home) | (0.5 & is_home)) | 0.0))\n",
        "Base\t\tTest\t\tDraw\n",
        "60\t\t91\t\t(3):\n",
        "222.0\t\t238.8\t\tmedian\n",
        "221.7\t\t237.5\t\tmean\n"
       ]
      }
     ],
     "input": [
      "fanduel_analysis.CheckVirtualFDGames(expr1, expr7, DF_14)"
     ],
     "language": "python",
     "prompt_number": 736
    },
    {
     "cell_type": "code",
     "metadata": {},
     "outputs": [
      {
       "output_type": "stream",
       "stream": "stdout",
       "text": [
        "Base: ((fantasy_pts_per_game * (((team_poss_per_game + other_poss_per_game) / 2.0) / team_poss_per_game)) + ((-0.3 & (player_rest == 1.0)) | 0.0))\n",
        "Test: (((fantasy_pts_per_game * (((team_poss_per_game + other_poss_per_game) / 2.0) / team_poss_per_game)) + ((-0.3 & (player_rest == 1.0)) | 0.0)) + ((((1.0 & (minutes_per_game > 25.0)) & is_home) | (0.5 & is_home)) | 0.0))\n",
        "Base\t\tTest\t\tDraw\n",
        "70\t\t70\t\t(14):\n",
        "238.1\t\t238.8\t\tmedian\n",
        "237.4\t\t237.5\t\tmean\n"
       ]
      }
     ],
     "input": [
      "fanduel_analysis.CheckVirtualFDGames(expr4, expr7, DF_14)"
     ],
     "language": "python",
     "prompt_number": 738
    },
    {
     "cell_type": "code",
     "metadata": {},
     "outputs": [
      {
       "output_type": "stream",
       "stream": "stdout",
       "text": [
        "Base: ((fantasy_pts_per_game * (((team_poss_per_game + other_poss_per_game) / 2.0) / team_poss_per_game)) + ((-0.3 & (player_rest == 1.0)) | 0.0))\n",
        "Test: (((fantasy_pts_per_game * (((team_poss_per_game + other_poss_per_game) / 2.0) / team_poss_per_game)) + ((-0.3 & (player_rest == 1.0)) | 0.0)) + ((0.5 & is_home) | 0.0))\n",
        "Base\t\tTest\t\tDraw\n",
        "57\t\t65\t\t(32):\n",
        "238.1\t\t237.8\t\tmedian\n",
        "237.4\t\t238.3\t\tmean\n"
       ]
      }
     ],
     "input": [
      "fanduel_analysis.CheckVirtualFDGames(expr4, expr6, DF_14)"
     ],
     "language": "python",
     "prompt_number": 739
    },
    {
     "cell_type": "code",
     "metadata": {},
     "outputs": [],
     "input": [
      "from lib.expression import *\n",
      "\n",
      "golden = Leaf('fantasy_pts')\n",
      "expr1 = Leaf('fantasy_pts_per_game')\n",
      "old_tempo = Leaf('team_poss_per_game')\n",
      "predicted_tempo = (Leaf('team_poss_per_game') + Leaf('other_poss_per_game')) / 2.\n",
      "tempo_mult = predicted_tempo / old_tempo\n",
      "expr2 = expr1 * tempo_mult\n",
      "\n",
      "rest_adjust = (-.3 & (Leaf('player_rest') == 1)) | 0.\n",
      "expr3 = expr1 + rest_adjust\n",
      "expr4 = expr2 + rest_adjust\n",
      "\n",
      "# Coaches trust good players more with no rest!!\n",
      "# rest_adjust_for_good = 1. & (Leaf('player_rest') == 1) & (Leaf('player_previous_minutes') > 30)\n",
      "#expr5 = expr4 + rest_adjust_for_good\n",
      "expr6 = expr4 + ((.5 & Leaf('is_home')) | 0.)\n",
      "\n",
      "home_adjust_big = (1. & (Leaf('minutes_per_game') > 25) & Leaf('is_home'))\n",
      "home_adjust_small = (.5 & Leaf('is_home'))\n",
      "expr7 = expr4 + (home_adjust_big | home_adjust_small | 0)"
     ],
     "language": "python",
     "prompt_number": 133
    },
    {
     "cell_type": "code",
     "metadata": {},
     "outputs": [
      {
       "output_type": "pyout",
       "prompt_number": 176,
       "text": [
        "'fantasy_pts_per_game'"
       ],
       "metadata": {}
      }
     ],
     "input": [
      "expr4.Expr()"
     ],
     "language": "python",
     "prompt_number": 176
    },
    {
     "cell_type": "code",
     "metadata": {},
     "outputs": [
      {
       "output_type": "stream",
       "stream": "stdout",
       "text": [
        "adamsjo01:201412120MEM    21\n",
        "allento01:201412120MEM    21\n",
        "calatni01:201412120MEM    21\n",
        "cartevi01:201412120MEM    21\n",
        "conlemi01:201412120MEM    21\n",
        "gasolma01:201412120MEM    21\n",
        "koufoko01:201412120MEM    21\n",
        "leeco01:201412120MEM      21\n",
        "leuerjo01:201412120MEM    21\n",
        "lucaska01:201412120MEM    21\n",
        "pondequ01:201412120MEM    21\n",
        "princta01:201412120MEM    21\n",
        "randoza01:201412120MEM    21\n",
        "stokeja01:201412120MEM    21\n",
        "udrihbe01:201412120MEM    21\n",
        "Name: team_games_played\n"
       ]
      }
     ],
     "input": [
      "df_bad = DF_15[(DF_15.date == 20141212) & (DF_15.team == 'MEM')]\n",
      "print df_bad.team_games_played"
     ],
     "language": "python",
     "prompt_number": 229
    },
    {
     "cell_type": "code",
     "metadata": {},
     "outputs": [],
     "input": [
      "df_bad = df[df.player_id == 'biyombi01']"
     ],
     "language": "python",
     "prompt_number": 185
    },
    {
     "cell_type": "code",
     "metadata": {},
     "outputs": [
      {
       "output_type": "pyout",
       "prompt_number": 189,
       "text": [
        "'((fantasy_pts_per_game * (((team_poss_per_game + other_poss_per_game) / 2.0) / team_poss_per_game)) + ((-0.3 & (player_rest == 1.0)) | 0.0))'"
       ],
       "metadata": {}
      }
     ],
     "input": [
      "expr4.Expr()"
     ],
     "language": "python",
     "prompt_number": 189
    },
    {
     "cell_type": "code",
     "metadata": {},
     "outputs": [
      {
       "output_type": "pyout",
       "prompt_number": 197,
       "text": [
        "<class 'pandas.core.frame.DataFrame'>\n",
        "Index: 15 entries, biyombi01:201412120MEM to zelleco01:201412120MEM\n",
        "Columns: 131 entries, ast to other_poss_per_game\n",
        "dtypes: float64(125), object(6)"
       ],
       "metadata": {}
      }
     ],
     "input": [
      "DF_15[(DF_15.team_games_played == 0) & (DF_15.date > 20141101)]"
     ],
     "language": "python",
     "prompt_number": 197
    },
    {
     "cell_type": "code",
     "metadata": {},
     "outputs": [
      {
       "output_type": "pyout",
       "prompt_number": 195,
       "text": [
        "<class 'pandas.core.frame.DataFrame'>\n",
        "Index: 15 entries, biyombi01:201412120MEM to zelleco01:201412120MEM\n",
        "Columns: 131 entries, ast to other_poss_per_game\n",
        "dtypes: float64(125), object(6)"
       ],
       "metadata": {}
      }
     ],
     "input": [
      "df[df.team_games_played == 0]"
     ],
     "language": "python",
     "prompt_number": 195
    },
    {
     "cell_type": "code",
     "metadata": {},
     "outputs": [
      {
       "output_type": "pyout",
       "prompt_number": 188,
       "text": [
        "biyombi01:201412120MEM   NaN"
       ],
       "metadata": {}
      }
     ],
     "input": [
      "expr4.Eval(df_bad)"
     ],
     "language": "python",
     "prompt_number": 188
    },
    {
     "cell_type": "code",
     "metadata": {},
     "outputs": [],
     "input": [
      "DF_15 = load.LoadDataForSeason(2015, '../fd_html/2014_12_12.html')"
     ],
     "language": "python"
    },
    {
     "cell_type": "code",
     "metadata": {},
     "outputs": [
      {
       "output_type": "stream",
       "stream": "stdout",
       "text": [
        "BBB 270.335817948\n",
        "PlayerInfo(position='C', name='steven adams', salary=3800, pts=18.33110005673683, health='', status='', pid='adamsst01') 18.3311000567\n",
        "PlayerInfo(position='PF', name='anthony davis', salary=11200, pts=49.019166750359496, health='', status='', pid='davisan02') 49.0191667504\n",
        "PlayerInfo(position='PF', name='pau gasol', salary=9300, pts=40.74623896612821, health='Shoulder', status='GTD', pid='gasolpa01') 40.7462389661\n",
        "PlayerInfo(position='PG', name='cj watson', salary=4100, pts=19.952139483656872, health='', status='', pid='watsocj01') 19.9521394837\n",
        "PlayerInfo(position='PG', name='jeff teague', salary=7000, pts=31.470703761787746, health='', status='', pid='teaguje01') 31.4707037618\n",
        "PlayerInfo(position='SF', name='shawne williams', salary=3700, pts=16.518326294318797, health='', status='', pid='willish03') 16.5183262943\n",
        "PlayerInfo(position='SF', name='tobias harris', salary=7000, pts=31.949587950286411, health='', status='', pid='harrito02') 31.9495879503\n",
        "PlayerInfo(position='SG', name='joe johnson', salary=6200, pts=28.81656607737111, health='Illness', status='GTD', pid='johnsjo02') 28.8165660774\n",
        "PlayerInfo(position='SG', name='dwyane wade', salary=7700, pts=33.531988607298793, health='', status='', pid='wadedw01') 33.5319886073\n"
       ]
      }
     ],
     "input": [
      "reload(fanduel_analysis)\n",
      "fanduel_analysis.PredictTomorrow(DF_15, '2014_12_12.html', expr6)"
     ],
     "language": "python",
     "prompt_number": 238
    },
    {
     "cell_type": "code",
     "metadata": {},
     "outputs": [
      {
       "output_type": "stream",
       "stream": "stdout",
       "text": [
        "Loaded from disk: 0.639277586815\n",
        "Processed:"
       ]
      },
      {
       "output_type": "stream",
       "stream": "stdout",
       "text": [
        " 7.99342739358\n",
        "Predicted score:"
       ]
      },
      {
       "output_type": "stream",
       "stream": "stdout",
       "text": [
        " 269.999134708\n",
        "PlayerInfo(position='C', name='tyson chandler', salary=6800, pts=30.358111563109826, health='', status='', pid='chandty01') 30.3581115631 0.0\n",
        "PlayerInfo(position='PF', name='zach randolph', salary=7400, pts=32.162251711490214, health='', status='', pid='randoza01') 32.1622517115 0.0\n",
        "PlayerInfo(position='PF', name='dirk nowitzki', salary=7300, pts=30.962376900637018, health='', status='', pid='nowitdi01') 30.9623769006 0.0\n",
        "PlayerInfo(position='PG', name='brandon knight', salary=7200, pts=31.41696534259237, health='', status='', pid='knighbr03') 31.4169653426 0.0\n",
        "PlayerInfo(position='PG', name='cj watson', salary=4100, pts=20.52214177495468, health='', status='', pid='watsocj01') 20.522141775 0.0\n",
        "PlayerInfo(position='SF', name='tobias harris', salary=7000, pts=32.051274250291264, health='', status='', pid='harrito02') 32.0512742503 0.0\n",
        "PlayerInfo(position='SF', name='trevor ariza', salary=6100, pts=27.503288794235051, health='', status='', pid='arizatr01') 27.5032887942 0.0\n",
        "PlayerInfo(position='SG', name='gary neal', salary=3600, pts=18.216914318691764, health='', status='', pid='nealga01') 18.2169143187 0.0\n",
        "PlayerInfo(position='SG', name='james harden', salary=10500, pts=46.805810051579222, health='', status='', pid='hardeja01') 46.8058100516 0.0\n"
       ]
      }
     ],
     "input": [
      "fname = '2014_12_13.html'\n",
      "fd_path = os.path.join(FD_DIR, fname)\n",
      "from analysis import knapsack\n",
      "reload(knapsack)\n",
      "DF_15 = load.LoadDataForSeason(2015, fd_path)\n",
      "flt = (DF_15['date_id'] == float(date_need))\n",
      "df = DF_15[flt]\n",
      "import os\n",
      "FD_DIR = 'C:/Coding/FanDuel/fd_html'\n",
      "\n",
      "players_list = fanduel_analysis.FDFromFile(fd_path)\n",
      "#print players_list\n",
      "date_need = fname[:10].replace('_', '')\n",
      "#print date_need\n",
      "\n",
      "#print flt\n",
      "pid = df['player_id']\n",
      "#print pid\n",
      "prediction = expr6.Eval(df)\n",
      "player_predictions = dict(itertools.izip(pid, prediction[flt]))\n",
      "#print player_predictions\n",
      "\n",
      "players_out = [\n",
      "#'jacksre01',  # not good enough after Durant is back\n",
      "'wroteto01'   # too risky to be injured\n",
      "]\n",
      "updated_data = [\n",
      "    pi.Override(pts=player_predictions.get(pi.pid, 0))\n",
      "    for pi in players_list\n",
      "    if pi.status != player_info.PlayerStatus.OUT and pi.pid not in players_out]\n",
      "#print updated_data\n",
      "best = knapsack.BestChoice(updated_data, player_info.Position.FD_REQUEST, 60000)\n",
      "for b in best:\n",
      "    print b, player_predictions[b.pid], player_predictions[b.pid] - b.pts"
     ],
     "language": "python",
     "prompt_number": 241
    },
    {
     "cell_type": "code",
     "metadata": {},
     "outputs": [],
     "input": [
      ""
     ],
     "language": "python"
    }
   ]
  }
 ],
 "cells": [],
 "metadata": {
  "name": "",
  "signature": "sha256:1bc4093259bd2cfe971c3df1e63478ad374012470b807f2ad5b1b7ab79d527c1"
 },
 "nbformat": 3,
 "nbformat_minor": 0
}