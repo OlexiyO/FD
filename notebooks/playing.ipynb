{
 "worksheets": [
  {
   "cells": [
    {
     "cell_type": "code",
     "metadata": {},
     "outputs": [],
     "input": [
      "import pandas as pd\n",
      "import numpy as np"
     ],
     "language": "python",
     "prompt_number": 7
    },
    {
     "cell_type": "code",
     "metadata": {},
     "outputs": [],
     "input": [
      "df = pandas.DataFrame?"
     ],
     "language": "python",
     "prompt_number": 3
    },
    {
     "cell_type": "code",
     "metadata": {},
     "outputs": [],
     "input": [
      "df = pandas.DataFrame"
     ],
     "language": "python"
    },
    {
     "cell_type": "code",
     "metadata": {},
     "outputs": [],
     "input": [
      "d = {\n",
      "'olexiy': {'weight': 95, 'h': 183, 'sal': 1000},\n",
      "'alex': {'weight': 75, 'h': 193, 'sal': 20000},\n",
      "'rvv': {'weight': 78, 'h': 173, 'sal': 100},\n",
      "\n",
      "}"
     ],
     "language": "python",
     "prompt_number": 5
    },
    {
     "cell_type": "code",
     "metadata": {},
     "outputs": [],
     "input": [
      "df = pd.DataFrame.from_dict(d)"
     ],
     "language": "python",
     "prompt_number": 8
    },
    {
     "cell_type": "code",
     "metadata": {},
     "outputs": [
      {
       "html": [
        "<div style=\"max-height:1000px;max-width:1500px;overflow:auto;\">\n",
        "<table border=\"1\" class=\"dataframe\">\n",
        "  <thead>\n",
        "    <tr style=\"text-align: right;\">\n",
        "      <th></th>\n",
        "      <th>alex</th>\n",
        "      <th>olexiy</th>\n",
        "      <th>rvv</th>\n",
        "    </tr>\n",
        "  </thead>\n",
        "  <tbody>\n",
        "    <tr>\n",
        "      <td><strong>h</strong></td>\n",
        "      <td>   193</td>\n",
        "      <td>  183</td>\n",
        "      <td> 173</td>\n",
        "    </tr>\n",
        "    <tr>\n",
        "      <td><strong>sal</strong></td>\n",
        "      <td> 20000</td>\n",
        "      <td> 1000</td>\n",
        "      <td> 100</td>\n",
        "    </tr>\n",
        "    <tr>\n",
        "      <td><strong>weight</strong></td>\n",
        "      <td>    75</td>\n",
        "      <td>   95</td>\n",
        "      <td>  78</td>\n",
        "    </tr>\n",
        "  </tbody>\n",
        "</table>\n",
        "</div>"
       ],
       "text": [
        "         alex  olexiy  rvv\n",
        "h         193     183  173\n",
        "sal     20000    1000  100\n",
        "weight     75      95   78"
       ],
       "metadata": {}
      }
     ],
     "input": [
      "df"
     ],
     "language": "python",
     "prompt_number": 9
    },
    {
     "cell_type": "code",
     "metadata": {},
     "outputs": [
      {
       "output_type": "pyout",
       "prompt_number": 11,
       "text": [
        "h           193\n",
        "sal       20000\n",
        "weight       75\n",
        "Name: alex"
       ],
       "metadata": {}
      }
     ],
     "input": [
      "df.alex"
     ],
     "language": "python",
     "prompt_number": 11
    },
    {
     "cell_type": "code",
     "metadata": {},
     "outputs": [],
     "input": [
      "df1 = df.transpose()"
     ],
     "language": "python",
     "prompt_number": 15
    },
    {
     "cell_type": "code",
     "metadata": {},
     "outputs": [
      {
       "output_type": "pyout",
       "prompt_number": 16,
       "text": [
        "alex      193\n",
        "olexiy    183\n",
        "rvv       173\n",
        "Name: h"
       ],
       "metadata": {}
      }
     ],
     "input": [
      "df1.h"
     ],
     "language": "python",
     "prompt_number": 16
    },
    {
     "cell_type": "code",
     "metadata": {},
     "outputs": [
      {
       "output_type": "pyout",
       "prompt_number": 18,
       "text": [
        "Index([alex, olexiy, rvv], dtype=object)"
       ],
       "metadata": {}
      }
     ],
     "input": [
      "df1.index"
     ],
     "language": "python",
     "prompt_number": 18
    },
    {
     "cell_type": "code",
     "metadata": {},
     "outputs": [],
     "input": [
      ""
     ],
     "language": "python"
    }
   ]
  }
 ],
 "cells": [],
 "metadata": {
  "name": "",
  "signature": "sha256:04f424a13a8b2aab7103eebc19cb991ba76cd81affa21ee7f96f6b864dc7aa73"
 },
 "nbformat": 3,
 "nbformat_minor": 0
}